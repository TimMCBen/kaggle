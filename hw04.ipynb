{
 "cells": [
  {
   "cell_type": "markdown",
   "id": "16603180",
   "metadata": {
    "id": "C_jdZ5vHJ4A9",
    "papermill": {
     "duration": 0.006668,
     "end_time": "2024-04-27T16:18:29.539403",
     "exception": false,
     "start_time": "2024-04-27T16:18:29.532735",
     "status": "completed"
    },
    "tags": []
   },
   "source": [
    "# Task description\n",
    "- Classify the speakers of given features.\n",
    "- Main goal: Learn how to use transformer.\n",
    "- Baselines:\n",
    "  - Easy: Run sample code and know how to use transformer.\n",
    "  - Medium: Know how to adjust parameters of transformer.\n",
    "  - Strong: Construct [conformer](https://arxiv.org/abs/2005.08100) which is a variety of transformer. \n",
    "  - Boss: Implement [Self-Attention Pooling](https://arxiv.org/pdf/2008.01077v1.pdf) & [Additive Margin Softmax](https://arxiv.org/pdf/1801.05599.pdf) to further boost the performance.\n",
    "\n",
    "- Other links\n",
    "  - Kaggle: [link](https://www.kaggle.com/t/ac77388c90204a4c8daebeddd40ff916)\n",
    "  - Slide: [link](https://docs.google.com/presentation/d/1HLAj7UUIjZOycDe7DaVLSwJfXVd3bXPOyzSb6Zk3hYU/edit?usp=sharing)\n",
    "  - Data: [link](https://github.com/MachineLearningHW/ML_HW4_Dataset)\n",
    "\n",
    "# Download dataset\n",
    "- Data is [here](https://github.com/MachineLearningHW/ML_HW4_Dataset)"
   ]
  },
  {
   "cell_type": "code",
   "execution_count": 1,
   "id": "c2a44d48",
   "metadata": {
    "execution": {
     "iopub.execute_input": "2024-04-27T16:18:29.552491Z",
     "iopub.status.busy": "2024-04-27T16:18:29.552200Z",
     "iopub.status.idle": "2024-04-27T16:18:29.564740Z",
     "shell.execute_reply": "2024-04-27T16:18:29.563919Z"
    },
    "id": "LhLNWB-AK2Z5",
    "papermill": {
     "duration": 0.021078,
     "end_time": "2024-04-27T16:18:29.566539",
     "exception": false,
     "start_time": "2024-04-27T16:18:29.545461",
     "status": "completed"
    },
    "tags": []
   },
   "outputs": [
    {
     "data": {
      "text/plain": [
       "'\\nIf the links below become inaccessible, please connect TAs.\\n'"
      ]
     },
     "execution_count": 1,
     "metadata": {},
     "output_type": "execute_result"
    }
   ],
   "source": [
    "\"\"\"\n",
    "If the links below become inaccessible, please connect TAs.\n",
    "\"\"\"\n",
    "\n",
    "# !wget https://github.com/MachineLearningHW/ML_HW4_Dataset/raw/0.0.1/Dataset.tar.gz.partaa\n",
    "# !wget https://github.com/MachineLearningHW/ML_HW4_Dataset/raw/0.0.1/Dataset.tar.gz.partab\n",
    "# !wget https://github.com/MachineLearningHW/ML_HW4_Dataset/raw/0.0.1/Dataset.tar.gz.partac\n",
    "# !wget https://github.com/MachineLearningHW/ML_HW4_Dataset/raw/0.0.1/Dataset.tar.gz.partad\n",
    "\n",
    "# !cat Dataset.tar.gz.parta* > Dataset.tar.gz\n",
    "\n",
    "# !tar zxvf Dataset.tar.gz"
   ]
  },
  {
   "cell_type": "markdown",
   "id": "4814eb25",
   "metadata": {
    "id": "ENWVAUDVJtVY",
    "papermill": {
     "duration": 0.005889,
     "end_time": "2024-04-27T16:18:29.578628",
     "exception": false,
     "start_time": "2024-04-27T16:18:29.572739",
     "status": "completed"
    },
    "tags": []
   },
   "source": [
    "## Fix Random Seed"
   ]
  },
  {
   "cell_type": "code",
   "execution_count": 2,
   "id": "dd1359a9",
   "metadata": {
    "execution": {
     "iopub.execute_input": "2024-04-27T16:18:29.592044Z",
     "iopub.status.busy": "2024-04-27T16:18:29.591572Z",
     "iopub.status.idle": "2024-04-27T16:18:33.289549Z",
     "shell.execute_reply": "2024-04-27T16:18:33.288708Z"
    },
    "id": "E6burzCXIyuA",
    "papermill": {
     "duration": 3.707259,
     "end_time": "2024-04-27T16:18:33.291998",
     "exception": false,
     "start_time": "2024-04-27T16:18:29.584739",
     "status": "completed"
    },
    "tags": []
   },
   "outputs": [],
   "source": [
    "import numpy as np\n",
    "import torch\n",
    "import random\n",
    "\n",
    "def set_seed(seed):\n",
    "    np.random.seed(seed)\n",
    "    random.seed(seed)\n",
    "    torch.manual_seed(seed)\n",
    "    if torch.cuda.is_available():\n",
    "        torch.cuda.manual_seed(seed)\n",
    "        torch.cuda.manual_seed_all(seed)\n",
    "    torch.backends.cudnn.benchmark = False\n",
    "    torch.backends.cudnn.deterministic = True\n",
    "\n",
    "set_seed(87)"
   ]
  },
  {
   "cell_type": "markdown",
   "id": "2864466f",
   "metadata": {
    "id": "k7dVbxW2LASN",
    "papermill": {
     "duration": 0.006042,
     "end_time": "2024-04-27T16:18:33.304563",
     "exception": false,
     "start_time": "2024-04-27T16:18:33.298521",
     "status": "completed"
    },
    "tags": []
   },
   "source": [
    "# Data\n",
    "\n",
    "## Dataset\n",
    "- Original dataset is [Voxceleb2](https://www.robots.ox.ac.uk/~vgg/data/voxceleb/vox2.html).\n",
    "- The [license](https://creativecommons.org/licenses/by/4.0/) and [complete version](https://www.robots.ox.ac.uk/~vgg/data/voxceleb/files/license.txt) of Voxceleb2.\n",
    "- We randomly select 600 speakers from Voxceleb2.\n",
    "- Then preprocess the raw waveforms into mel-spectrograms.\n",
    "\n",
    "- Args:\n",
    "  - data_dir: The path to the data directory.\n",
    "  - metadata_path: The path to the metadata.\n",
    "  - segment_len: The length of audio segment for training. \n",
    "- The architecture of data directory \\\\\n",
    "  - data directory \\\\\n",
    "  |---- metadata.json \\\\\n",
    "  |---- testdata.json \\\\\n",
    "  |---- mapping.json \\\\\n",
    "  |---- uttr-{random string}.pt \\\\\n",
    "\n",
    "- The information in metadata\n",
    "  - \"n_mels\": The dimention of mel-spectrogram.\n",
    "  - \"speakers\": A dictionary. \n",
    "    - Key: speaker ids.\n",
    "    - value: \"feature_path\" and \"mel_len\"\n",
    "\n",
    "\n",
    "For efficiency, we segment the mel-spectrograms into segments in the traing step."
   ]
  },
  {
   "cell_type": "code",
   "execution_count": 3,
   "id": "2e247422",
   "metadata": {
    "execution": {
     "iopub.execute_input": "2024-04-27T16:18:33.318630Z",
     "iopub.status.busy": "2024-04-27T16:18:33.317927Z",
     "iopub.status.idle": "2024-04-27T16:18:33.329124Z",
     "shell.execute_reply": "2024-04-27T16:18:33.328307Z"
    },
    "id": "KpuGxl4CI2pr",
    "papermill": {
     "duration": 0.020245,
     "end_time": "2024-04-27T16:18:33.330940",
     "exception": false,
     "start_time": "2024-04-27T16:18:33.310695",
     "status": "completed"
    },
    "tags": []
   },
   "outputs": [],
   "source": [
    "import os\n",
    "import json\n",
    "import torch\n",
    "import random\n",
    "from pathlib import Path\n",
    "from torch.utils.data import Dataset\n",
    "from torch.nn.utils.rnn import pad_sequence\n",
    " \n",
    " \n",
    "class myDataset(Dataset):\n",
    "\tdef __init__(self, data_dir, segment_len=128):\n",
    "\t\tself.data_dir = data_dir\n",
    "\t\tself.segment_len = segment_len\n",
    "\t\n",
    "\t\t# Load the mapping from speaker neme to their corresponding id. \n",
    "\t\tmapping_path = Path(data_dir) / \"mapping.json\"\n",
    "\t\tmapping = json.load(mapping_path.open())\n",
    "\t\tself.speaker2id = mapping[\"speaker2id\"]\n",
    "\t\n",
    "\t\t# Load metadata of training data.\n",
    "\t\tmetadata_path = Path(data_dir) / \"metadata.json\"\n",
    "\t\tmetadata = json.load(open(metadata_path))[\"speakers\"]\n",
    "\t\n",
    "\t\t# Get the total number of speaker.\n",
    "\t\tself.speaker_num = len(metadata.keys())\n",
    "\t\tself.data = []\n",
    "\t\tfor speaker in metadata.keys():\n",
    "\t\t\tfor utterances in metadata[speaker]:\n",
    "\t\t\t\tself.data.append([utterances[\"feature_path\"], self.speaker2id[speaker]])\n",
    " \n",
    "\tdef __len__(self):\n",
    "\t\t\treturn len(self.data)\n",
    " \n",
    "\tdef __getitem__(self, index):\n",
    "\t\tfeat_path, speaker = self.data[index]\n",
    "\t\t# Load preprocessed mel-spectrogram.\n",
    "\t\tmel = torch.load(os.path.join(self.data_dir, feat_path))\n",
    "\n",
    "\t\t# Segmemt mel-spectrogram into \"segment_len\" frames.\n",
    "\t\tif len(mel) > self.segment_len:\n",
    "\t\t\t# Randomly get the starting point of the segment.\n",
    "\t\t\tstart = random.randint(0, len(mel) - self.segment_len)\n",
    "\t\t\t# Get a segment with \"segment_len\" frames.\n",
    "\t\t\tmel = torch.FloatTensor(mel[start:start+self.segment_len])\n",
    "\t\telse:\n",
    "\t\t\tmel = torch.FloatTensor(mel)\n",
    "\t\t# Turn the speaker id into long for computing loss later.\n",
    "\t\tspeaker = torch.FloatTensor([speaker]).long()\n",
    "\t\treturn mel, speaker\n",
    " \n",
    "\tdef get_speaker_number(self):\n",
    "\t\treturn self.speaker_num"
   ]
  },
  {
   "cell_type": "markdown",
   "id": "ba8e8a55",
   "metadata": {
    "id": "668hverTMlGN",
    "papermill": {
     "duration": 0.005914,
     "end_time": "2024-04-27T16:18:33.342940",
     "exception": false,
     "start_time": "2024-04-27T16:18:33.337026",
     "status": "completed"
    },
    "tags": []
   },
   "source": [
    "## Dataloader\n",
    "- Split dataset into training dataset(90%) and validation dataset(10%).\n",
    "- Create dataloader to iterate the data."
   ]
  },
  {
   "cell_type": "code",
   "execution_count": 4,
   "id": "5fded9a8",
   "metadata": {
    "execution": {
     "iopub.execute_input": "2024-04-27T16:18:33.356357Z",
     "iopub.status.busy": "2024-04-27T16:18:33.355815Z",
     "iopub.status.idle": "2024-04-27T16:18:33.363797Z",
     "shell.execute_reply": "2024-04-27T16:18:33.363061Z"
    },
    "id": "B7c2gZYoJDRS",
    "papermill": {
     "duration": 0.016604,
     "end_time": "2024-04-27T16:18:33.365533",
     "exception": false,
     "start_time": "2024-04-27T16:18:33.348929",
     "status": "completed"
    },
    "tags": []
   },
   "outputs": [],
   "source": [
    "import torch\n",
    "from torch.utils.data import DataLoader, random_split\n",
    "from torch.nn.utils.rnn import pad_sequence\n",
    "\n",
    "\n",
    "def collate_batch(batch):\n",
    "\t# Process features within a batch.\n",
    "\t\"\"\"Collate a batch of data.\"\"\"\n",
    "\tmel, speaker = zip(*batch)\n",
    "\t# Because we train the model batch by batch, we need to pad the features in the same batch to make their lengths the same.\n",
    "\tmel = pad_sequence(mel, batch_first=True, padding_value=-20)    # pad log 10^(-20) which is very small value.\n",
    "\t# mel: (batch size, length, 40)\n",
    "\treturn mel, torch.FloatTensor(speaker).long()\n",
    "\n",
    "\n",
    "def get_dataloader(data_dir, batch_size, n_workers):\n",
    "\t\"\"\"Generate dataloader\"\"\"\n",
    "\tdataset = myDataset(data_dir)\n",
    "\tspeaker_num = dataset.get_speaker_number()\n",
    "\t# Split dataset into training dataset and validation dataset\n",
    "\ttrainlen = int(0.9 * len(dataset))\n",
    "\tlengths = [trainlen, len(dataset) - trainlen]\n",
    "\ttrainset, validset = random_split(dataset, lengths)\n",
    "\n",
    "\ttrain_loader = DataLoader(\n",
    "\t\ttrainset,\n",
    "\t\tbatch_size=batch_size,\n",
    "\t\tshuffle=True,\n",
    "\t\tdrop_last=True,\n",
    "\t\tnum_workers=n_workers,\n",
    "\t\tpin_memory=True,\n",
    "\t\tcollate_fn=collate_batch,\n",
    "\t)\n",
    "\tvalid_loader = DataLoader(\n",
    "\t\tvalidset,\n",
    "\t\tbatch_size=batch_size,\n",
    "\t\tnum_workers=n_workers,\n",
    "\t\tdrop_last=True,\n",
    "\t\tpin_memory=True,\n",
    "\t\tcollate_fn=collate_batch,\n",
    "\t)\n",
    "\n",
    "\treturn train_loader, valid_loader, speaker_num"
   ]
  },
  {
   "cell_type": "markdown",
   "id": "87e4240d",
   "metadata": {
    "id": "5FOSZYxrMqhc",
    "papermill": {
     "duration": 0.005837,
     "end_time": "2024-04-27T16:18:33.377439",
     "exception": false,
     "start_time": "2024-04-27T16:18:33.371602",
     "status": "completed"
    },
    "tags": []
   },
   "source": [
    "# Model\n",
    "- TransformerEncoderLayer:\n",
    "  - Base transformer encoder layer in [Attention Is All You Need](https://arxiv.org/abs/1706.03762)\n",
    "  - Parameters:\n",
    "    - d_model: the number of expected features of the input (required).\n",
    "\n",
    "    - nhead: the number of heads of the multiheadattention models (required).\n",
    "\n",
    "    - dim_feedforward: the dimension of the feedforward network model (default=2048).\n",
    "\n",
    "    - dropout: the dropout value (default=0.1).\n",
    "\n",
    "    - activation: the activation function of intermediate layer, relu or gelu (default=relu).\n",
    "\n",
    "- TransformerEncoder:\n",
    "  - TransformerEncoder is a stack of N transformer encoder layers\n",
    "  - Parameters:\n",
    "    - encoder_layer: an instance of the TransformerEncoderLayer() class (required).\n",
    "\n",
    "    - num_layers: the number of sub-encoder-layers in the encoder (required).\n",
    "\n",
    "    - norm: the layer normalization component (optional)."
   ]
  },
  {
   "cell_type": "code",
   "execution_count": 5,
   "id": "8d0750ea",
   "metadata": {
    "execution": {
     "iopub.execute_input": "2024-04-27T16:18:33.390994Z",
     "iopub.status.busy": "2024-04-27T16:18:33.390545Z",
     "iopub.status.idle": "2024-04-27T16:18:33.398619Z",
     "shell.execute_reply": "2024-04-27T16:18:33.397900Z"
    },
    "id": "iXZ5B0EKJGs8",
    "papermill": {
     "duration": 0.016992,
     "end_time": "2024-04-27T16:18:33.400453",
     "exception": false,
     "start_time": "2024-04-27T16:18:33.383461",
     "status": "completed"
    },
    "tags": []
   },
   "outputs": [],
   "source": [
    "import torch\n",
    "import torch.nn as nn\n",
    "import torch.nn.functional as F\n",
    "\n",
    "\n",
    "class Classifier(nn.Module):\n",
    "\tdef __init__(self, d_model=64, n_spks=600, dropout=0.1):\n",
    "\t\tsuper().__init__()\n",
    "\t\t# Project the dimension of features from that of input into d_model.\n",
    "\t\tself.prenet = nn.Linear(40, d_model)\n",
    "\t\t# TODO:\n",
    "\t\t#   Change Transformer to Conformer.\n",
    "\t\t#   https://arxiv.org/abs/2005.08100\n",
    "\t\tself.encoder_layer = nn.TransformerEncoderLayer(\n",
    "\t\t\td_model=d_model, dim_feedforward=256, nhead=1\n",
    "\t\t)\n",
    "\t\t# self.encoder = nn.TransformerEncoder(self.encoder_layer, num_layers=2)\n",
    "\n",
    "\t\t# Project the the dimension of features from d_model into speaker nums.\n",
    "\t\tself.pred_layer = nn.Sequential(\n",
    "#  \t\t\tnn.Linear(d_model, d_model),\n",
    "  \t\t\tnn.ReLU(),\n",
    "\t\t\tnn.Linear(d_model, n_spks),\n",
    "\t\t)\n",
    "\n",
    "\tdef forward(self, mels):\n",
    "\t\t\"\"\"\n",
    "\t\targs:\n",
    "\t\t\tmels: (batch size, length, 40)\n",
    "\t\treturn:\n",
    "\t\t\tout: (batch size, n_spks)\n",
    "\t\t\"\"\"\n",
    "\t\t# out: (batch size, length, d_model)\n",
    "\t\tout = self.prenet(mels)\n",
    "\t\t# out: (length, batch size, d_model)\n",
    "\t\tout = out.permute(1, 0, 2)\n",
    "\t\t# The encoder layer expect features in the shape of (length, batch size, d_model).\n",
    "\t\tout = self.encoder_layer(out)\n",
    "\t\t# out: (batch size, length, d_model)\n",
    "\t\tout = out.transpose(0, 1)\n",
    "\t\t# mean pooling\n",
    "\t\tstats = out.mean(dim=1)\n",
    "\n",
    "\t\t# out: (batch, n_spks)\n",
    "\t\tout = self.pred_layer(stats)\n",
    "\t\treturn out"
   ]
  },
  {
   "cell_type": "markdown",
   "id": "37e9eb26",
   "metadata": {
    "id": "W7yX8JinM5Ly",
    "papermill": {
     "duration": 0.006105,
     "end_time": "2024-04-27T16:18:33.412770",
     "exception": false,
     "start_time": "2024-04-27T16:18:33.406665",
     "status": "completed"
    },
    "tags": []
   },
   "source": [
    "# Learning rate schedule\n",
    "- For transformer architecture, the design of learning rate schedule is different from that of CNN.\n",
    "- Previous works show that the warmup of learning rate is useful for training models with transformer architectures.\n",
    "- The warmup schedule\n",
    "  - Set learning rate to 0 in the beginning.\n",
    "  - The learning rate increases linearly from 0 to initial learning rate during warmup period."
   ]
  },
  {
   "cell_type": "code",
   "execution_count": 6,
   "id": "73c93cd5",
   "metadata": {
    "execution": {
     "iopub.execute_input": "2024-04-27T16:18:33.426883Z",
     "iopub.status.busy": "2024-04-27T16:18:33.426586Z",
     "iopub.status.idle": "2024-04-27T16:18:33.434417Z",
     "shell.execute_reply": "2024-04-27T16:18:33.433605Z"
    },
    "id": "ykt0N1nVJJi2",
    "papermill": {
     "duration": 0.016617,
     "end_time": "2024-04-27T16:18:33.436216",
     "exception": false,
     "start_time": "2024-04-27T16:18:33.419599",
     "status": "completed"
    },
    "tags": []
   },
   "outputs": [],
   "source": [
    "import math\n",
    "\n",
    "import torch\n",
    "from torch.optim import Optimizer\n",
    "from torch.optim.lr_scheduler import LambdaLR\n",
    "\n",
    "\n",
    "def get_cosine_schedule_with_warmup(\n",
    "\toptimizer: Optimizer,\n",
    "\tnum_warmup_steps: int,\n",
    "\tnum_training_steps: int,\n",
    "\tnum_cycles: float = 0.5,\n",
    "\tlast_epoch: int = -1,\n",
    "):\n",
    "\t\"\"\"\n",
    "\tCreate a schedule with a learning rate that decreases following the values of the cosine function between the\n",
    "\tinitial lr set in the optimizer to 0, after a warmup period during which it increases linearly between 0 and the\n",
    "\tinitial lr set in the optimizer.\n",
    "\n",
    "\tArgs:\n",
    "\t\toptimizer (:class:`~torch.optim.Optimizer`):\n",
    "\t\tThe optimizer for which to schedule the learning rate.\n",
    "\t\tnum_warmup_steps (:obj:`int`):\n",
    "\t\tThe number of steps for the warmup phase.\n",
    "\t\tnum_training_steps (:obj:`int`):\n",
    "\t\tThe total number of training steps.\n",
    "\t\tnum_cycles (:obj:`float`, `optional`, defaults to 0.5):\n",
    "\t\tThe number of waves in the cosine schedule (the defaults is to just decrease from the max value to 0\n",
    "\t\tfollowing a half-cosine).\n",
    "\t\tlast_epoch (:obj:`int`, `optional`, defaults to -1):\n",
    "\t\tThe index of the last epoch when resuming training.\n",
    "\n",
    "\tReturn:\n",
    "\t\t:obj:`torch.optim.lr_scheduler.LambdaLR` with the appropriate schedule.\n",
    "\t\"\"\"\n",
    "\tdef lr_lambda(current_step):\n",
    "\t\t# Warmup\n",
    "\t\tif current_step < num_warmup_steps:\n",
    "\t\t\treturn float(current_step) / float(max(1, num_warmup_steps))\n",
    "\t\t# decadence\n",
    "\t\tprogress = float(current_step - num_warmup_steps) / float(\n",
    "\t\t\tmax(1, num_training_steps - num_warmup_steps)\n",
    "\t\t)\n",
    "\t\treturn max(\n",
    "\t\t\t0.0, 0.5 * (1.0 + math.cos(math.pi * float(num_cycles) * 2.0 * progress))\n",
    "\t\t)\n",
    "\n",
    "\treturn LambdaLR(optimizer, lr_lambda, last_epoch)"
   ]
  },
  {
   "cell_type": "markdown",
   "id": "cf0e9139",
   "metadata": {
    "id": "-LN2XkteM_uH",
    "papermill": {
     "duration": 0.005909,
     "end_time": "2024-04-27T16:18:33.448307",
     "exception": false,
     "start_time": "2024-04-27T16:18:33.442398",
     "status": "completed"
    },
    "tags": []
   },
   "source": [
    "# Model Function\n",
    "- Model forward function."
   ]
  },
  {
   "cell_type": "code",
   "execution_count": 7,
   "id": "65e86f56",
   "metadata": {
    "execution": {
     "iopub.execute_input": "2024-04-27T16:18:33.462368Z",
     "iopub.status.busy": "2024-04-27T16:18:33.461521Z",
     "iopub.status.idle": "2024-04-27T16:18:33.467155Z",
     "shell.execute_reply": "2024-04-27T16:18:33.466430Z"
    },
    "id": "N-rr8529JMz0",
    "papermill": {
     "duration": 0.014654,
     "end_time": "2024-04-27T16:18:33.469060",
     "exception": false,
     "start_time": "2024-04-27T16:18:33.454406",
     "status": "completed"
    },
    "tags": []
   },
   "outputs": [],
   "source": [
    "import torch\n",
    "\n",
    "\n",
    "def model_fn(batch, model, criterion, device):\n",
    "\t\"\"\"Forward a batch through the model.\"\"\"\n",
    "\n",
    "\tmels, labels = batch\n",
    "\tmels = mels.to(device)\n",
    "\tlabels = labels.to(device)\n",
    "\n",
    "\touts = model(mels)\n",
    "\n",
    "\tloss = criterion(outs, labels)\n",
    "\n",
    "\t# Get the speaker id with highest probability.\n",
    "\tpreds = outs.argmax(1)\n",
    "\t# Compute accuracy.\n",
    "\taccuracy = torch.mean((preds == labels).float())\n",
    "\n",
    "\treturn loss, accuracy"
   ]
  },
  {
   "cell_type": "markdown",
   "id": "1da8daaf",
   "metadata": {
    "id": "cwM_xyOtNCI2",
    "papermill": {
     "duration": 0.005998,
     "end_time": "2024-04-27T16:18:33.481320",
     "exception": false,
     "start_time": "2024-04-27T16:18:33.475322",
     "status": "completed"
    },
    "tags": []
   },
   "source": [
    "# Validate\n",
    "- Calculate accuracy of the validation set."
   ]
  },
  {
   "cell_type": "code",
   "execution_count": 8,
   "id": "8455144c",
   "metadata": {
    "execution": {
     "iopub.execute_input": "2024-04-27T16:18:33.495321Z",
     "iopub.status.busy": "2024-04-27T16:18:33.494727Z",
     "iopub.status.idle": "2024-04-27T16:18:33.502179Z",
     "shell.execute_reply": "2024-04-27T16:18:33.501317Z"
    },
    "id": "YAiv6kpdJRTJ",
    "papermill": {
     "duration": 0.016491,
     "end_time": "2024-04-27T16:18:33.504021",
     "exception": false,
     "start_time": "2024-04-27T16:18:33.487530",
     "status": "completed"
    },
    "tags": []
   },
   "outputs": [],
   "source": [
    "from tqdm import tqdm\n",
    "import torch\n",
    "\n",
    "\n",
    "def valid(dataloader, model, criterion, device): \n",
    "\t\"\"\"Validate on validation set.\"\"\"\n",
    "\n",
    "\tmodel.eval()\n",
    "\trunning_loss = 0.0\n",
    "\trunning_accuracy = 0.0\n",
    "\tpbar = tqdm(total=len(dataloader.dataset), ncols=0, desc=\"Valid\", unit=\" uttr\")\n",
    "\n",
    "\tfor i, batch in enumerate(dataloader):\n",
    "\t\twith torch.no_grad():\n",
    "\t\t\tloss, accuracy = model_fn(batch, model, criterion, device)\n",
    "\t\t\trunning_loss += loss.item()\n",
    "\t\t\trunning_accuracy += accuracy.item()\n",
    "\n",
    "\t\tpbar.update(dataloader.batch_size)\n",
    "\t\tpbar.set_postfix(\n",
    "\t\t\tloss=f\"{running_loss / (i+1):.2f}\",\n",
    "\t\t\taccuracy=f\"{running_accuracy / (i+1):.2f}\",\n",
    "\t\t)\n",
    "\n",
    "\tpbar.close()\n",
    "\tmodel.train()\n",
    "\n",
    "\treturn running_accuracy / len(dataloader)"
   ]
  },
  {
   "cell_type": "markdown",
   "id": "323de93d",
   "metadata": {
    "id": "g6ne9G-eNEdG",
    "papermill": {
     "duration": 0.005971,
     "end_time": "2024-04-27T16:18:33.516151",
     "exception": false,
     "start_time": "2024-04-27T16:18:33.510180",
     "status": "completed"
    },
    "tags": []
   },
   "source": [
    "# Main function"
   ]
  },
  {
   "cell_type": "code",
   "execution_count": 9,
   "id": "01a75aeb",
   "metadata": {
    "execution": {
     "iopub.execute_input": "2024-04-27T16:18:33.529989Z",
     "iopub.status.busy": "2024-04-27T16:18:33.529448Z",
     "iopub.status.idle": "2024-04-27T16:54:19.641626Z",
     "shell.execute_reply": "2024-04-27T16:54:19.640496Z"
    },
    "id": "Usv9s-CuJSG7",
    "papermill": {
     "duration": 2146.121282,
     "end_time": "2024-04-27T16:54:19.643606",
     "exception": false,
     "start_time": "2024-04-27T16:18:33.522324",
     "status": "completed"
    },
    "tags": []
   },
   "outputs": [
    {
     "name": "stdout",
     "output_type": "stream",
     "text": [
      "[Info]: Use cuda now!\n"
     ]
    },
    {
     "name": "stderr",
     "output_type": "stream",
     "text": [
      "/opt/conda/lib/python3.10/site-packages/torch/utils/data/dataloader.py:557: UserWarning: This DataLoader will create 8 worker processes in total. Our suggested max number of worker in current system is 4, which is smaller than what this DataLoader is going to create. Please be aware that excessive worker creation might get DataLoader running slow or even freeze, lower the worker number to avoid potential slowness/freeze if necessary.\n",
      "  warnings.warn(_create_warning_msg(\n"
     ]
    },
    {
     "name": "stdout",
     "output_type": "stream",
     "text": [
      "[Info]: Finish loading data!\n",
      "[Info]: Finish creating model!\n"
     ]
    },
    {
     "name": "stderr",
     "output_type": "stream",
     "text": [
      "Train:  80% 1590/2000 [00:43<00:09, 41.60 step/s, accuracy=0.06, loss=4.76, step=1500]/opt/conda/lib/python3.10/site-packages/torch/utils/data/dataloader.py:557: UserWarning: This DataLoader will create 8 worker processes in total. Our suggested max number of worker in current system is 4, which is smaller than what this DataLoader is going to create. Please be aware that excessive worker creation might get DataLoader running slow or even freeze, lower the worker number to avoid potential slowness/freeze if necessary.\n",
      "  warnings.warn(_create_warning_msg(\n",
      "Train: 100% 2000/2000 [00:47<00:00, 42.18 step/s, accuracy=0.16, loss=4.42, step=2000] \n",
      "Valid: 100% 5664/5667 [00:05<00:00, 1111.59 uttr/s, accuracy=0.11, loss=4.45]\n",
      "Train: 100% 2000/2000 [00:19<00:00, 104.63 step/s, accuracy=0.19, loss=3.63, step=4000]\n",
      "Valid: 100% 5664/5667 [00:02<00:00, 2744.34 uttr/s, accuracy=0.25, loss=3.62]\n",
      "Train: 100% 2000/2000 [00:18<00:00, 106.45 step/s, accuracy=0.31, loss=2.99, step=6000]\n",
      "Valid: 100% 5664/5667 [00:01<00:00, 3308.17 uttr/s, accuracy=0.29, loss=3.33]\n",
      "Train: 100% 2000/2000 [00:19<00:00, 102.33 step/s, accuracy=0.41, loss=2.82, step=8000]\n",
      "Valid: 100% 5664/5667 [00:01<00:00, 3349.33 uttr/s, accuracy=0.34, loss=3.07]\n",
      "Train: 100% 2000/2000 [00:19<00:00, 104.99 step/s, accuracy=0.34, loss=2.34, step=1e+4]\n",
      "Valid: 100% 5664/5667 [00:02<00:00, 2814.98 uttr/s, accuracy=0.37, loss=2.90]\n",
      "Train:   1% 13/2000 [00:00<00:16, 117.48 step/s]"
     ]
    },
    {
     "name": "stdout",
     "output_type": "stream",
     "text": [
      "Step 10000, best model saved. (accuracy=0.3729)\n"
     ]
    },
    {
     "name": "stderr",
     "output_type": "stream",
     "text": [
      "Train: 100% 2000/2000 [00:18<00:00, 105.41 step/s, accuracy=0.44, loss=2.58, step=12000]\n",
      "Valid: 100% 5664/5667 [00:01<00:00, 3300.19 uttr/s, accuracy=0.40, loss=2.79]\n",
      "Train: 100% 2000/2000 [00:18<00:00, 106.04 step/s, accuracy=0.28, loss=2.92, step=14000]\n",
      "Valid: 100% 5664/5667 [00:01<00:00, 3114.73 uttr/s, accuracy=0.42, loss=2.64]\n",
      "Train: 100% 2000/2000 [00:18<00:00, 106.70 step/s, accuracy=0.44, loss=2.11, step=16000]\n",
      "Valid: 100% 5664/5667 [00:01<00:00, 3038.27 uttr/s, accuracy=0.44, loss=2.50]\n",
      "Train: 100% 2000/2000 [00:18<00:00, 107.04 step/s, accuracy=0.44, loss=2.79, step=18000]\n",
      "Valid: 100% 5664/5667 [00:01<00:00, 2971.24 uttr/s, accuracy=0.46, loss=2.45]\n",
      "Train: 100% 2000/2000 [00:18<00:00, 107.39 step/s, accuracy=0.59, loss=1.71, step=2e+4]\n",
      "Valid: 100% 5664/5667 [00:01<00:00, 3216.39 uttr/s, accuracy=0.47, loss=2.38]\n",
      "Train:   1% 23/2000 [00:00<00:17, 112.29 step/s]"
     ]
    },
    {
     "name": "stdout",
     "output_type": "stream",
     "text": [
      "Step 20000, best model saved. (accuracy=0.4712)\n"
     ]
    },
    {
     "name": "stderr",
     "output_type": "stream",
     "text": [
      "Train: 100% 2000/2000 [00:18<00:00, 109.62 step/s, accuracy=0.56, loss=2.06, step=22000]\n",
      "Valid: 100% 5664/5667 [00:01<00:00, 3334.49 uttr/s, accuracy=0.50, loss=2.25]\n",
      "Train: 100% 2000/2000 [00:18<00:00, 106.36 step/s, accuracy=0.47, loss=2.27, step=24000]\n",
      "Valid: 100% 5664/5667 [00:01<00:00, 3426.29 uttr/s, accuracy=0.51, loss=2.21]\n",
      "Train: 100% 2000/2000 [00:18<00:00, 107.87 step/s, accuracy=0.72, loss=1.18, step=26000]\n",
      "Valid: 100% 5664/5667 [00:01<00:00, 3231.47 uttr/s, accuracy=0.51, loss=2.17]\n",
      "Train: 100% 2000/2000 [00:18<00:00, 107.18 step/s, accuracy=0.62, loss=1.71, step=28000]\n",
      "Valid: 100% 5664/5667 [00:01<00:00, 3377.72 uttr/s, accuracy=0.53, loss=2.10]\n",
      "Train: 100% 2000/2000 [00:18<00:00, 106.62 step/s, accuracy=0.62, loss=1.87, step=3e+4]\n",
      "Valid: 100% 5664/5667 [00:01<00:00, 3240.45 uttr/s, accuracy=0.53, loss=2.10]\n",
      "Train:   1% 12/2000 [00:00<00:17, 111.19 step/s]"
     ]
    },
    {
     "name": "stdout",
     "output_type": "stream",
     "text": [
      "Step 30000, best model saved. (accuracy=0.5312)\n"
     ]
    },
    {
     "name": "stderr",
     "output_type": "stream",
     "text": [
      "Train: 100% 2000/2000 [00:19<00:00, 104.13 step/s, accuracy=0.59, loss=1.60, step=32000]\n",
      "Valid: 100% 5664/5667 [00:01<00:00, 3212.89 uttr/s, accuracy=0.54, loss=2.05]\n",
      "Train: 100% 2000/2000 [00:18<00:00, 108.52 step/s, accuracy=0.50, loss=1.84, step=34000]\n",
      "Valid: 100% 5664/5667 [00:01<00:00, 3174.94 uttr/s, accuracy=0.55, loss=2.00]\n",
      "Train: 100% 2000/2000 [00:18<00:00, 106.34 step/s, accuracy=0.56, loss=1.80, step=36000]\n",
      "Valid: 100% 5664/5667 [00:01<00:00, 3292.25 uttr/s, accuracy=0.56, loss=1.97]\n",
      "Train: 100% 2000/2000 [00:19<00:00, 105.20 step/s, accuracy=0.62, loss=1.73, step=38000]\n",
      "Valid: 100% 5664/5667 [00:01<00:00, 3320.21 uttr/s, accuracy=0.55, loss=1.99]\n",
      "Train: 100% 2000/2000 [00:19<00:00, 103.44 step/s, accuracy=0.53, loss=1.45, step=4e+4]\n",
      "Valid: 100% 5664/5667 [00:01<00:00, 3124.85 uttr/s, accuracy=0.56, loss=1.95]\n",
      "Train:   1% 14/2000 [00:00<00:15, 128.78 step/s]"
     ]
    },
    {
     "name": "stdout",
     "output_type": "stream",
     "text": [
      "Step 40000, best model saved. (accuracy=0.5609)\n"
     ]
    },
    {
     "name": "stderr",
     "output_type": "stream",
     "text": [
      "Train: 100% 2000/2000 [00:19<00:00, 100.21 step/s, accuracy=0.53, loss=2.16, step=42000]\n",
      "Valid: 100% 5664/5667 [00:01<00:00, 3200.30 uttr/s, accuracy=0.56, loss=1.92]\n",
      "Train: 100% 2000/2000 [00:19<00:00, 100.73 step/s, accuracy=0.62, loss=1.56, step=44000]\n",
      "Valid: 100% 5664/5667 [00:01<00:00, 2867.93 uttr/s, accuracy=0.57, loss=1.90]\n",
      "Train: 100% 2000/2000 [00:20<00:00, 99.35 step/s, accuracy=0.50, loss=1.72, step=46000] \n",
      "Valid: 100% 5664/5667 [00:01<00:00, 3331.57 uttr/s, accuracy=0.58, loss=1.86]\n",
      "Train: 100% 2000/2000 [00:20<00:00, 99.66 step/s, accuracy=0.66, loss=1.53, step=48000]\n",
      "Valid: 100% 5664/5667 [00:01<00:00, 3237.21 uttr/s, accuracy=0.58, loss=1.85]\n",
      "Train: 100% 2000/2000 [00:20<00:00, 99.93 step/s, accuracy=0.62, loss=1.66, step=5e+4] \n",
      "Valid: 100% 5664/5667 [00:01<00:00, 3275.00 uttr/s, accuracy=0.58, loss=1.86]\n",
      "Train:   1% 12/2000 [00:00<00:17, 112.48 step/s]"
     ]
    },
    {
     "name": "stdout",
     "output_type": "stream",
     "text": [
      "Step 50000, best model saved. (accuracy=0.5816)\n"
     ]
    },
    {
     "name": "stderr",
     "output_type": "stream",
     "text": [
      "Train: 100% 2000/2000 [00:19<00:00, 102.58 step/s, accuracy=0.66, loss=1.60, step=52000]\n",
      "Valid: 100% 5664/5667 [00:01<00:00, 3265.14 uttr/s, accuracy=0.60, loss=1.80]\n",
      "Train: 100% 2000/2000 [00:20<00:00, 97.99 step/s, accuracy=0.62, loss=1.52, step=54000] \n",
      "Valid: 100% 5664/5667 [00:01<00:00, 3274.69 uttr/s, accuracy=0.60, loss=1.76]\n",
      "Train: 100% 2000/2000 [00:20<00:00, 97.82 step/s, accuracy=0.53, loss=2.49, step=56000]\n",
      "Valid: 100% 5664/5667 [00:02<00:00, 2342.83 uttr/s, accuracy=0.60, loss=1.77]\n",
      "Train: 100% 2000/2000 [00:19<00:00, 102.90 step/s, accuracy=0.69, loss=1.39, step=58000]\n",
      "Valid: 100% 5664/5667 [00:02<00:00, 2434.36 uttr/s, accuracy=0.59, loss=1.79]\n",
      "Train: 100% 2000/2000 [00:19<00:00, 103.93 step/s, accuracy=0.78, loss=1.34, step=6e+4]\n",
      "Valid: 100% 5664/5667 [00:02<00:00, 2463.98 uttr/s, accuracy=0.61, loss=1.71]\n",
      "Train:   1% 13/2000 [00:00<00:16, 121.85 step/s]"
     ]
    },
    {
     "name": "stdout",
     "output_type": "stream",
     "text": [
      "Step 60000, best model saved. (accuracy=0.6125)\n"
     ]
    },
    {
     "name": "stderr",
     "output_type": "stream",
     "text": [
      "Train: 100% 2000/2000 [00:19<00:00, 103.64 step/s, accuracy=0.72, loss=1.39, step=62000]\n",
      "Valid: 100% 5664/5667 [00:02<00:00, 2354.78 uttr/s, accuracy=0.61, loss=1.73]\n",
      "Train: 100% 2000/2000 [00:19<00:00, 103.26 step/s, accuracy=0.84, loss=0.95, step=64000]\n",
      "Valid: 100% 5664/5667 [00:02<00:00, 2781.74 uttr/s, accuracy=0.61, loss=1.71]\n",
      "Train: 100% 2000/2000 [00:19<00:00, 104.11 step/s, accuracy=0.53, loss=1.98, step=66000]\n",
      "Valid: 100% 5664/5667 [00:01<00:00, 3350.04 uttr/s, accuracy=0.62, loss=1.71]\n",
      "Train: 100% 2000/2000 [00:19<00:00, 103.59 step/s, accuracy=0.69, loss=1.59, step=68000]\n",
      "Valid: 100% 5664/5667 [00:01<00:00, 3232.89 uttr/s, accuracy=0.62, loss=1.65]\n",
      "Train: 100% 2000/2000 [00:18<00:00, 107.21 step/s, accuracy=0.66, loss=1.42, step=7e+4]\n",
      "Valid: 100% 5664/5667 [00:02<00:00, 2789.14 uttr/s, accuracy=0.63, loss=1.64]\n",
      "Train:   0% 9/2000 [00:00<00:22, 89.16 step/s]"
     ]
    },
    {
     "name": "stdout",
     "output_type": "stream",
     "text": [
      "Step 70000, best model saved. (accuracy=0.6268)\n"
     ]
    },
    {
     "name": "stderr",
     "output_type": "stream",
     "text": [
      "Train: 100% 2000/2000 [00:19<00:00, 102.66 step/s, accuracy=0.75, loss=1.21, step=72000]\n",
      "Valid: 100% 5664/5667 [00:01<00:00, 3191.05 uttr/s, accuracy=0.63, loss=1.62]\n",
      "Train: 100% 2000/2000 [00:19<00:00, 103.15 step/s, accuracy=0.72, loss=1.18, step=74000]\n",
      "Valid: 100% 5664/5667 [00:01<00:00, 3330.75 uttr/s, accuracy=0.62, loss=1.66]\n",
      "Train: 100% 2000/2000 [00:18<00:00, 106.92 step/s, accuracy=0.72, loss=1.23, step=76000]\n",
      "Valid: 100% 5664/5667 [00:01<00:00, 2995.12 uttr/s, accuracy=0.62, loss=1.62]\n",
      "Train: 100% 2000/2000 [00:19<00:00, 104.92 step/s, accuracy=0.66, loss=1.10, step=78000]\n",
      "Valid: 100% 5664/5667 [00:01<00:00, 3129.97 uttr/s, accuracy=0.63, loss=1.64]\n",
      "Train: 100% 2000/2000 [00:19<00:00, 102.20 step/s, accuracy=0.50, loss=1.92, step=8e+4]\n",
      "Valid: 100% 5664/5667 [00:01<00:00, 3282.83 uttr/s, accuracy=0.63, loss=1.61]\n",
      "Train:   1% 12/2000 [00:00<00:17, 113.71 step/s]"
     ]
    },
    {
     "name": "stdout",
     "output_type": "stream",
     "text": [
      "Step 80000, best model saved. (accuracy=0.6315)\n"
     ]
    },
    {
     "name": "stderr",
     "output_type": "stream",
     "text": [
      "Train: 100% 2000/2000 [00:18<00:00, 105.47 step/s, accuracy=0.81, loss=0.82, step=82000]\n",
      "Valid: 100% 5664/5667 [00:01<00:00, 3061.89 uttr/s, accuracy=0.64, loss=1.59]\n",
      "Train: 100% 2000/2000 [00:19<00:00, 103.81 step/s, accuracy=0.66, loss=1.66, step=84000]\n",
      "Valid: 100% 5664/5667 [00:01<00:00, 3303.87 uttr/s, accuracy=0.64, loss=1.57]\n",
      "Train: 100% 2000/2000 [00:19<00:00, 104.21 step/s, accuracy=0.62, loss=1.34, step=86000]\n",
      "Valid: 100% 5664/5667 [00:01<00:00, 3265.84 uttr/s, accuracy=0.64, loss=1.55]\n",
      "Train: 100% 2000/2000 [00:18<00:00, 106.07 step/s, accuracy=0.62, loss=1.51, step=88000]\n",
      "Valid: 100% 5664/5667 [00:01<00:00, 3138.44 uttr/s, accuracy=0.65, loss=1.57]\n",
      "Train: 100% 2000/2000 [00:19<00:00, 102.16 step/s, accuracy=0.75, loss=0.85, step=9e+4]\n",
      "Valid: 100% 5664/5667 [00:01<00:00, 2983.38 uttr/s, accuracy=0.65, loss=1.56]\n",
      "Train:   1% 12/2000 [00:00<00:16, 118.68 step/s]"
     ]
    },
    {
     "name": "stdout",
     "output_type": "stream",
     "text": [
      "Step 90000, best model saved. (accuracy=0.6497)\n"
     ]
    },
    {
     "name": "stderr",
     "output_type": "stream",
     "text": [
      "Train: 100% 2000/2000 [00:19<00:00, 104.54 step/s, accuracy=0.69, loss=1.42, step=92000]\n",
      "Valid: 100% 5664/5667 [00:01<00:00, 3002.32 uttr/s, accuracy=0.65, loss=1.55]\n",
      "Train: 100% 2000/2000 [00:18<00:00, 105.44 step/s, accuracy=0.84, loss=0.93, step=94000]\n",
      "Valid: 100% 5664/5667 [00:01<00:00, 3268.05 uttr/s, accuracy=0.65, loss=1.49]\n",
      "Train: 100% 2000/2000 [00:19<00:00, 103.61 step/s, accuracy=0.72, loss=1.17, step=96000]\n",
      "Valid: 100% 5664/5667 [00:01<00:00, 2961.99 uttr/s, accuracy=0.64, loss=1.56]\n",
      "Train: 100% 2000/2000 [00:19<00:00, 103.43 step/s, accuracy=0.84, loss=0.75, step=98000]\n",
      "Valid: 100% 5664/5667 [00:01<00:00, 3248.18 uttr/s, accuracy=0.66, loss=1.48]\n",
      "Train: 100% 2000/2000 [00:18<00:00, 106.08 step/s, accuracy=0.84, loss=0.58, step=1e+5]\n",
      "Valid: 100% 5664/5667 [00:01<00:00, 3175.23 uttr/s, accuracy=0.65, loss=1.49]\n",
      "Train:   1% 13/2000 [00:00<00:15, 128.91 step/s]"
     ]
    },
    {
     "name": "stdout",
     "output_type": "stream",
     "text": [
      "Step 100000, best model saved. (accuracy=0.6571)\n"
     ]
    },
    {
     "name": "stderr",
     "output_type": "stream",
     "text": [
      "Train: 100% 2000/2000 [00:19<00:00, 100.82 step/s, accuracy=0.53, loss=1.54, step=102000]\n",
      "Valid: 100% 5664/5667 [00:01<00:00, 2935.95 uttr/s, accuracy=0.65, loss=1.51]\n",
      "Train: 100% 2000/2000 [00:20<00:00, 97.31 step/s, accuracy=0.59, loss=1.59, step=104000]\n",
      "Valid: 100% 5664/5667 [00:01<00:00, 2925.36 uttr/s, accuracy=0.66, loss=1.51]\n",
      "Train: 100% 2000/2000 [00:19<00:00, 102.70 step/s, accuracy=0.62, loss=1.07, step=106000]\n",
      "Valid: 100% 5664/5667 [00:02<00:00, 2739.88 uttr/s, accuracy=0.66, loss=1.49]\n",
      "Train: 100% 2000/2000 [00:19<00:00, 104.24 step/s, accuracy=0.72, loss=1.33, step=108000]\n",
      "Valid: 100% 5664/5667 [00:01<00:00, 3302.68 uttr/s, accuracy=0.66, loss=1.46]\n",
      "Train: 100% 2000/2000 [00:19<00:00, 101.48 step/s, accuracy=0.66, loss=1.59, step=110000]\n",
      "Valid: 100% 5664/5667 [00:01<00:00, 3263.77 uttr/s, accuracy=0.66, loss=1.45]\n",
      "Train:   1% 13/2000 [00:00<00:17, 116.16 step/s]"
     ]
    },
    {
     "name": "stdout",
     "output_type": "stream",
     "text": [
      "Step 110000, best model saved. (accuracy=0.6645)\n"
     ]
    },
    {
     "name": "stderr",
     "output_type": "stream",
     "text": [
      "Train: 100% 2000/2000 [00:19<00:00, 104.34 step/s, accuracy=0.59, loss=1.43, step=112000]\n",
      "Valid: 100% 5664/5667 [00:02<00:00, 2652.69 uttr/s, accuracy=0.68, loss=1.44]\n",
      "Train: 100% 2000/2000 [00:19<00:00, 104.09 step/s, accuracy=0.66, loss=1.26, step=114000]\n",
      "Valid: 100% 5664/5667 [00:01<00:00, 3140.61 uttr/s, accuracy=0.67, loss=1.45]\n",
      "Train: 100% 2000/2000 [00:18<00:00, 105.98 step/s, accuracy=0.69, loss=1.16, step=116000]\n",
      "Valid: 100% 5664/5667 [00:01<00:00, 3267.71 uttr/s, accuracy=0.67, loss=1.44]\n",
      "Train: 100% 2000/2000 [00:19<00:00, 101.46 step/s, accuracy=0.62, loss=1.48, step=118000]\n",
      "Valid: 100% 5664/5667 [00:02<00:00, 2816.50 uttr/s, accuracy=0.68, loss=1.40]\n",
      "Train: 100% 2000/2000 [00:18<00:00, 107.10 step/s, accuracy=0.66, loss=1.73, step=120000]\n",
      "Valid: 100% 5664/5667 [00:01<00:00, 3115.78 uttr/s, accuracy=0.68, loss=1.40]\n",
      "Train:   0% 10/2000 [00:00<00:21, 94.75 step/s]"
     ]
    },
    {
     "name": "stdout",
     "output_type": "stream",
     "text": [
      "Step 120000, best model saved. (accuracy=0.6831)\n"
     ]
    },
    {
     "name": "stderr",
     "output_type": "stream",
     "text": [
      "Train: 100% 2000/2000 [00:19<00:00, 103.21 step/s, accuracy=0.81, loss=0.71, step=122000]\n",
      "Valid: 100% 5664/5667 [00:01<00:00, 3079.08 uttr/s, accuracy=0.68, loss=1.40]\n",
      "Train: 100% 2000/2000 [00:19<00:00, 104.82 step/s, accuracy=0.75, loss=1.05, step=124000]\n",
      "Valid: 100% 5664/5667 [00:02<00:00, 2645.51 uttr/s, accuracy=0.67, loss=1.41]\n",
      "Train: 100% 2000/2000 [00:18<00:00, 105.94 step/s, accuracy=0.62, loss=1.22, step=126000]\n",
      "Valid: 100% 5664/5667 [00:01<00:00, 3353.66 uttr/s, accuracy=0.69, loss=1.39]\n",
      "Train: 100% 2000/2000 [00:19<00:00, 102.91 step/s, accuracy=0.72, loss=0.91, step=128000]\n",
      "Valid: 100% 5664/5667 [00:01<00:00, 3176.87 uttr/s, accuracy=0.68, loss=1.39]\n",
      "Train: 100% 2000/2000 [00:19<00:00, 102.47 step/s, accuracy=0.78, loss=0.86, step=130000]\n",
      "Valid: 100% 5664/5667 [00:02<00:00, 2548.37 uttr/s, accuracy=0.68, loss=1.38]\n",
      "Train:   1% 14/2000 [00:00<00:15, 126.57 step/s]"
     ]
    },
    {
     "name": "stdout",
     "output_type": "stream",
     "text": [
      "Step 130000, best model saved. (accuracy=0.6856)\n"
     ]
    },
    {
     "name": "stderr",
     "output_type": "stream",
     "text": [
      "Train: 100% 2000/2000 [00:18<00:00, 105.40 step/s, accuracy=0.72, loss=1.17, step=132000]\n",
      "Valid: 100% 5664/5667 [00:01<00:00, 3286.68 uttr/s, accuracy=0.69, loss=1.35]\n",
      "Train: 100% 2000/2000 [00:19<00:00, 100.11 step/s, accuracy=0.72, loss=1.37, step=134000]\n",
      "Valid: 100% 5664/5667 [00:01<00:00, 3278.56 uttr/s, accuracy=0.69, loss=1.39]\n",
      "Train: 100% 2000/2000 [00:18<00:00, 107.34 step/s, accuracy=0.62, loss=1.11, step=136000]\n",
      "Valid: 100% 5664/5667 [00:02<00:00, 2540.17 uttr/s, accuracy=0.68, loss=1.37]\n",
      "Train: 100% 2000/2000 [00:19<00:00, 103.90 step/s, accuracy=0.78, loss=0.82, step=138000]\n",
      "Valid: 100% 5664/5667 [00:01<00:00, 3146.76 uttr/s, accuracy=0.69, loss=1.35]\n",
      "Train: 100% 2000/2000 [00:19<00:00, 102.90 step/s, accuracy=0.78, loss=0.83, step=140000]\n",
      "Valid: 100% 5664/5667 [00:01<00:00, 3224.79 uttr/s, accuracy=0.69, loss=1.36]\n",
      "Train:   1% 12/2000 [00:00<00:16, 119.65 step/s]"
     ]
    },
    {
     "name": "stdout",
     "output_type": "stream",
     "text": [
      "Step 140000, best model saved. (accuracy=0.6900)\n"
     ]
    },
    {
     "name": "stderr",
     "output_type": "stream",
     "text": [
      "Train: 100% 2000/2000 [00:19<00:00, 105.05 step/s, accuracy=0.78, loss=0.85, step=142000]\n",
      "Valid: 100% 5664/5667 [00:02<00:00, 2817.80 uttr/s, accuracy=0.69, loss=1.37]\n",
      "Train: 100% 2000/2000 [00:19<00:00, 104.89 step/s, accuracy=0.78, loss=0.80, step=144000]\n",
      "Valid: 100% 5664/5667 [00:01<00:00, 3173.78 uttr/s, accuracy=0.70, loss=1.32]\n",
      "Train: 100% 2000/2000 [00:18<00:00, 105.33 step/s, accuracy=0.75, loss=0.90, step=146000]\n",
      "Valid: 100% 5664/5667 [00:01<00:00, 2942.73 uttr/s, accuracy=0.69, loss=1.33]\n",
      "Train: 100% 2000/2000 [00:18<00:00, 108.24 step/s, accuracy=0.81, loss=0.89, step=148000]\n",
      "Valid: 100% 5664/5667 [00:01<00:00, 2894.43 uttr/s, accuracy=0.69, loss=1.32]\n",
      "Train: 100% 2000/2000 [00:19<00:00, 102.17 step/s, accuracy=0.75, loss=0.65, step=150000]\n",
      "Valid: 100% 5664/5667 [00:01<00:00, 3288.82 uttr/s, accuracy=0.68, loss=1.36]\n",
      "Train:   1% 12/2000 [00:00<00:17, 115.67 step/s]"
     ]
    },
    {
     "name": "stdout",
     "output_type": "stream",
     "text": [
      "Step 150000, best model saved. (accuracy=0.6990)\n"
     ]
    },
    {
     "name": "stderr",
     "output_type": "stream",
     "text": [
      "Train: 100% 2000/2000 [00:18<00:00, 105.78 step/s, accuracy=0.69, loss=0.93, step=152000]\n",
      "Valid: 100% 5664/5667 [00:01<00:00, 3246.52 uttr/s, accuracy=0.70, loss=1.33]\n",
      "Train: 100% 2000/2000 [00:19<00:00, 102.67 step/s, accuracy=0.69, loss=1.42, step=154000]\n",
      "Valid: 100% 5664/5667 [00:01<00:00, 2875.49 uttr/s, accuracy=0.70, loss=1.32]\n",
      "Train: 100% 2000/2000 [00:19<00:00, 104.93 step/s, accuracy=0.75, loss=1.15, step=156000]\n",
      "Valid: 100% 5664/5667 [00:02<00:00, 2809.56 uttr/s, accuracy=0.70, loss=1.30]\n",
      "Train: 100% 2000/2000 [00:19<00:00, 103.96 step/s, accuracy=0.75, loss=1.10, step=158000]\n",
      "Valid: 100% 5664/5667 [00:01<00:00, 3203.58 uttr/s, accuracy=0.70, loss=1.31]\n",
      "Train: 100% 2000/2000 [00:18<00:00, 105.42 step/s, accuracy=0.75, loss=1.03, step=160000]\n",
      "Valid: 100% 5664/5667 [00:01<00:00, 2995.76 uttr/s, accuracy=0.70, loss=1.32]\n",
      "Train:   0% 10/2000 [00:00<00:21, 93.71 step/s]"
     ]
    },
    {
     "name": "stdout",
     "output_type": "stream",
     "text": [
      "Step 160000, best model saved. (accuracy=0.7032)\n"
     ]
    },
    {
     "name": "stderr",
     "output_type": "stream",
     "text": [
      "Train: 100% 2000/2000 [00:18<00:00, 105.40 step/s, accuracy=0.91, loss=0.62, step=162000]\n",
      "Valid: 100% 5664/5667 [00:01<00:00, 3205.97 uttr/s, accuracy=0.70, loss=1.31]\n",
      "Train: 100% 2000/2000 [00:20<00:00, 97.42 step/s, accuracy=0.75, loss=1.05, step=164000] \n",
      "Valid: 100% 5664/5667 [00:01<00:00, 2989.14 uttr/s, accuracy=0.70, loss=1.32]\n",
      "Train: 100% 2000/2000 [00:20<00:00, 98.86 step/s, accuracy=0.88, loss=0.50, step=166000]\n",
      "Valid: 100% 5664/5667 [00:01<00:00, 2851.37 uttr/s, accuracy=0.71, loss=1.29]\n",
      "Train: 100% 2000/2000 [00:18<00:00, 105.46 step/s, accuracy=0.81, loss=0.95, step=168000]\n",
      "Valid: 100% 5664/5667 [00:01<00:00, 3164.53 uttr/s, accuracy=0.71, loss=1.28]\n",
      "Train: 100% 2000/2000 [00:20<00:00, 99.85 step/s, accuracy=0.81, loss=0.80, step=170000] \n",
      "Valid: 100% 5664/5667 [00:01<00:00, 2917.66 uttr/s, accuracy=0.70, loss=1.29]\n",
      "Train:   1% 11/2000 [00:00<00:18, 106.66 step/s]"
     ]
    },
    {
     "name": "stdout",
     "output_type": "stream",
     "text": [
      "Step 170000, best model saved. (accuracy=0.7099)\n"
     ]
    },
    {
     "name": "stderr",
     "output_type": "stream",
     "text": [
      "Train: 100% 2000/2000 [00:19<00:00, 102.34 step/s, accuracy=0.69, loss=1.29, step=172000]\n",
      "Valid: 100% 5664/5667 [00:02<00:00, 2790.09 uttr/s, accuracy=0.71, loss=1.28]\n",
      "Train: 100% 2000/2000 [00:19<00:00, 105.01 step/s, accuracy=0.84, loss=0.82, step=174000]\n",
      "Valid: 100% 5664/5667 [00:01<00:00, 3276.06 uttr/s, accuracy=0.71, loss=1.30]\n",
      "Train: 100% 2000/2000 [00:19<00:00, 101.97 step/s, accuracy=0.81, loss=0.90, step=176000]\n",
      "Valid: 100% 5664/5667 [00:01<00:00, 3285.54 uttr/s, accuracy=0.71, loss=1.28]\n",
      "Train: 100% 2000/2000 [00:19<00:00, 102.66 step/s, accuracy=0.84, loss=1.01, step=178000]\n",
      "Valid: 100% 5664/5667 [00:01<00:00, 3219.58 uttr/s, accuracy=0.71, loss=1.28]\n",
      "Train: 100% 2000/2000 [00:19<00:00, 103.88 step/s, accuracy=0.81, loss=0.79, step=180000]\n",
      "Valid: 100% 5664/5667 [00:01<00:00, 3339.59 uttr/s, accuracy=0.72, loss=1.28]\n",
      "Train:   0% 0/2000 [00:00<?, ? step/s]"
     ]
    },
    {
     "name": "stdout",
     "output_type": "stream",
     "text": [
      "Step 180000, best model saved. (accuracy=0.7159)\n"
     ]
    },
    {
     "name": "stderr",
     "output_type": "stream",
     "text": [
      "Train: 100% 2000/2000 [00:19<00:00, 103.11 step/s, accuracy=0.91, loss=0.52, step=182000]\n",
      "Valid: 100% 5664/5667 [00:01<00:00, 3032.52 uttr/s, accuracy=0.71, loss=1.26]\n",
      "Train: 100% 2000/2000 [00:19<00:00, 104.60 step/s, accuracy=0.84, loss=0.63, step=184000]\n",
      "Valid: 100% 5664/5667 [00:01<00:00, 3240.21 uttr/s, accuracy=0.72, loss=1.26]\n",
      "Train: 100% 2000/2000 [00:19<00:00, 103.14 step/s, accuracy=0.84, loss=0.98, step=186000]\n",
      "Valid: 100% 5664/5667 [00:01<00:00, 3249.42 uttr/s, accuracy=0.71, loss=1.28]\n",
      "Train: 100% 2000/2000 [00:19<00:00, 103.96 step/s, accuracy=0.72, loss=1.01, step=188000]\n",
      "Valid: 100% 5664/5667 [00:01<00:00, 3303.16 uttr/s, accuracy=0.70, loss=1.28]\n",
      "Train: 100% 2000/2000 [00:19<00:00, 102.59 step/s, accuracy=0.75, loss=1.38, step=190000]\n",
      "Valid: 100% 5664/5667 [00:01<00:00, 3281.82 uttr/s, accuracy=0.72, loss=1.26]\n",
      "Train:   1% 12/2000 [00:00<00:16, 117.91 step/s]"
     ]
    },
    {
     "name": "stdout",
     "output_type": "stream",
     "text": [
      "Step 190000, best model saved. (accuracy=0.7177)\n"
     ]
    },
    {
     "name": "stderr",
     "output_type": "stream",
     "text": [
      "Train: 100% 2000/2000 [00:18<00:00, 109.38 step/s, accuracy=0.81, loss=0.83, step=192000]\n",
      "Valid: 100% 5664/5667 [00:01<00:00, 2952.28 uttr/s, accuracy=0.71, loss=1.25]\n",
      "Train: 100% 2000/2000 [00:19<00:00, 103.36 step/s, accuracy=0.78, loss=0.87, step=194000]\n",
      "Valid: 100% 5664/5667 [00:01<00:00, 3360.30 uttr/s, accuracy=0.71, loss=1.26]\n",
      "Train: 100% 2000/2000 [00:19<00:00, 101.31 step/s, accuracy=0.66, loss=1.15, step=196000]\n",
      "Valid: 100% 5664/5667 [00:01<00:00, 3214.34 uttr/s, accuracy=0.71, loss=1.27]\n",
      "Train: 100% 2000/2000 [00:18<00:00, 108.35 step/s, accuracy=0.84, loss=0.83, step=198000]\n",
      "Valid: 100% 5664/5667 [00:01<00:00, 3206.52 uttr/s, accuracy=0.70, loss=1.28]\n",
      "Train: 100% 2000/2000 [00:19<00:00, 100.75 step/s, accuracy=0.84, loss=0.60, step=2e+5]\n",
      "Valid: 100% 5664/5667 [00:01<00:00, 3349.50 uttr/s, accuracy=0.71, loss=1.30]\n",
      "Train:   0% 0/2000 [00:00<?, ? step/s]\n"
     ]
    },
    {
     "name": "stdout",
     "output_type": "stream",
     "text": [
      "Step 200000, best model saved. (accuracy=0.7177)\n"
     ]
    }
   ],
   "source": [
    "import torch\n",
    "import torch.nn as nn\n",
    "from torch.optim import AdamW\n",
    "from torch.utils.data import DataLoader, random_split\n",
    "from tqdm import tqdm\n",
    "\n",
    "def parse_args():\n",
    "    \"\"\"arguments\"\"\"\n",
    "    config = {\n",
    "        \"data_dir\": \"/kaggle/input/ml2022spring-hw4/Dataset\",\n",
    "        \"save_path\": \"model.ckpt\",\n",
    "        \"batch_size\": 32,\n",
    "        \"n_workers\": 8,\n",
    "        \"valid_steps\": 2000,\n",
    "        # fix warmup_steps\n",
    "        \"warmup_steps\": 1000,\n",
    "        \"save_steps\": 10000,\n",
    "        \"total_steps\": 200000,\n",
    "        \"resume\":False,\n",
    "    }\n",
    "    return config\n",
    "\n",
    "def main(\n",
    "    data_dir,\n",
    "    save_path,\n",
    "    batch_size,\n",
    "    n_workers,\n",
    "    valid_steps,\n",
    "    warmup_steps,\n",
    "    total_steps,\n",
    "    save_steps,\n",
    "    resume,\n",
    "):\n",
    "    \"\"\"Main function.\"\"\"\n",
    "    device = torch.device(\"cuda\" if torch.cuda.is_available() else \"cpu\")\n",
    "    print(f\"[Info]: Use {device} now!\")\n",
    "\n",
    "    train_loader, valid_loader, speaker_num = get_dataloader(data_dir, batch_size, n_workers)\n",
    "    train_iterator = iter(train_loader)\n",
    "    print(f\"[Info]: Finish loading data!\", flush=True)\n",
    "\n",
    "    model = Classifier(n_spks=speaker_num).to(device)\n",
    "    if resume:\n",
    "        model.load_state_dict(torch.load(\"/kaggle/input/model-file/model.ckpt\"))\n",
    "    criterion = nn.CrossEntropyLoss()\n",
    "    optimizer = AdamW(model.parameters(), lr=1e-3)\n",
    "    scheduler = get_cosine_schedule_with_warmup(optimizer, warmup_steps, total_steps)\n",
    "    print(f\"[Info]: Finish creating model!\", flush=True)\n",
    "\n",
    "    best_accuracy = -1.0\n",
    "    best_state_dict = None\n",
    "\n",
    "    pbar = tqdm(total=valid_steps, ncols=0, desc=\"Train\", unit=\" step\")\n",
    "\n",
    "    for step in range(total_steps):\n",
    "        # Get data\n",
    "        try:\n",
    "            batch = next(train_iterator)\n",
    "        except StopIteration:\n",
    "            train_iterator = iter(train_loader)\n",
    "            batch = next(train_iterator)\n",
    "\n",
    "        loss, accuracy = model_fn(batch, model, criterion, device)\n",
    "        batch_loss = loss.item()\n",
    "        batch_accuracy = accuracy.item()\n",
    "\n",
    "        # Updata model\n",
    "        loss.backward()\n",
    "        optimizer.step()\n",
    "        scheduler.step()\n",
    "        optimizer.zero_grad()\n",
    "\n",
    "        # Log\n",
    "        pbar.update()\n",
    "\n",
    "        if((step+1)%500==0):\n",
    "            pbar.set_postfix(\n",
    "                loss=f\"{batch_loss:.2f}\",\n",
    "                accuracy=f\"{batch_accuracy:.2f}\",\n",
    "                step=step + 1,\n",
    "            )            \n",
    "\n",
    "        # Do validation\n",
    "        if (step + 1) % valid_steps == 0:\n",
    "            pbar.close()\n",
    "\n",
    "            valid_accuracy = valid(valid_loader, model, criterion, device)\n",
    "\n",
    "            # keep the best model\n",
    "            if valid_accuracy > best_accuracy:\n",
    "                best_accuracy = valid_accuracy\n",
    "                best_state_dict = model.state_dict()\n",
    "\n",
    "            pbar = tqdm(total=valid_steps, ncols=0, desc=\"Train\", unit=\" step\")\n",
    "\n",
    "        # Save the best model so far.\n",
    "        if (step + 1) % save_steps == 0 and best_state_dict is not None:\n",
    "            torch.save(best_state_dict, save_path)\n",
    "            pbar.write(f\"Step {step + 1}, best model saved. (accuracy={best_accuracy:.4f})\")\n",
    "\n",
    "    pbar.close()\n",
    "\n",
    "if __name__ == \"__main__\":\n",
    "    main(**parse_args())\n"
   ]
  },
  {
   "cell_type": "markdown",
   "id": "83b8207c",
   "metadata": {
    "id": "NLatBYAhNNMx",
    "papermill": {
     "duration": 3.09965,
     "end_time": "2024-04-27T16:54:25.728346",
     "exception": false,
     "start_time": "2024-04-27T16:54:22.628696",
     "status": "completed"
    },
    "tags": []
   },
   "source": [
    "# Inference\n",
    "\n",
    "## Dataset of inference"
   ]
  },
  {
   "cell_type": "code",
   "execution_count": 10,
   "id": "d85f8774",
   "metadata": {
    "execution": {
     "iopub.execute_input": "2024-04-27T16:54:31.728795Z",
     "iopub.status.busy": "2024-04-27T16:54:31.728141Z",
     "iopub.status.idle": "2024-04-27T16:54:31.736994Z",
     "shell.execute_reply": "2024-04-27T16:54:31.736098Z"
    },
    "id": "efS4pCmAJXJH",
    "papermill": {
     "duration": 3.011121,
     "end_time": "2024-04-27T16:54:31.738888",
     "exception": false,
     "start_time": "2024-04-27T16:54:28.727767",
     "status": "completed"
    },
    "tags": []
   },
   "outputs": [],
   "source": [
    "import os\n",
    "import json\n",
    "import torch\n",
    "from pathlib import Path\n",
    "from torch.utils.data import Dataset\n",
    "\n",
    "\n",
    "class InferenceDataset(Dataset):\n",
    "\tdef __init__(self, data_dir):\n",
    "\t\ttestdata_path = Path(data_dir) / \"testdata.json\"\n",
    "\t\tmetadata = json.load(testdata_path.open())\n",
    "\t\tself.data_dir = data_dir\n",
    "\t\tself.data = metadata[\"utterances\"]\n",
    "\n",
    "\tdef __len__(self):\n",
    "\t\treturn len(self.data)\n",
    "\n",
    "\tdef __getitem__(self, index):\n",
    "\t\tutterance = self.data[index]\n",
    "\t\tfeat_path = utterance[\"feature_path\"]\n",
    "\t\tmel = torch.load(os.path.join(self.data_dir, feat_path))\n",
    "\n",
    "\t\treturn feat_path, mel\n",
    "\n",
    "\n",
    "def inference_collate_batch(batch):\n",
    "\t\"\"\"Collate a batch of data.\"\"\"\n",
    "\tfeat_paths, mels = zip(*batch)\n",
    "\n",
    "\treturn feat_paths, torch.stack(mels)"
   ]
  },
  {
   "cell_type": "markdown",
   "id": "d227d715",
   "metadata": {
    "id": "tl0WnYwxNK_S",
    "papermill": {
     "duration": 3.025493,
     "end_time": "2024-04-27T16:54:37.791791",
     "exception": false,
     "start_time": "2024-04-27T16:54:34.766298",
     "status": "completed"
    },
    "tags": []
   },
   "source": [
    "## Main funcrion of Inference"
   ]
  },
  {
   "cell_type": "code",
   "execution_count": 11,
   "id": "1d6c107a",
   "metadata": {
    "execution": {
     "iopub.execute_input": "2024-04-27T16:54:44.070257Z",
     "iopub.status.busy": "2024-04-27T16:54:44.069876Z",
     "iopub.status.idle": "2024-04-27T16:55:00.879872Z",
     "shell.execute_reply": "2024-04-27T16:55:00.878974Z"
    },
    "id": "i8SAbuXEJb2A",
    "papermill": {
     "duration": 19.897001,
     "end_time": "2024-04-27T16:55:00.881926",
     "exception": false,
     "start_time": "2024-04-27T16:54:40.984925",
     "status": "completed"
    },
    "tags": []
   },
   "outputs": [
    {
     "name": "stdout",
     "output_type": "stream",
     "text": [
      "[Info]: Use cuda now!\n",
      "[Info]: Finish loading data!\n",
      "[Info]: Finish creating model!\n"
     ]
    },
    {
     "data": {
      "application/vnd.jupyter.widget-view+json": {
       "model_id": "b4e216fca3bc46eea1699ffb936687ec",
       "version_major": 2,
       "version_minor": 0
      },
      "text/plain": [
       "  0%|          | 0/8000 [00:00<?, ?it/s]"
      ]
     },
     "metadata": {},
     "output_type": "display_data"
    }
   ],
   "source": [
    "import json\n",
    "import csv\n",
    "from pathlib import Path\n",
    "from tqdm.notebook import tqdm\n",
    "\n",
    "import torch\n",
    "from torch.utils.data import DataLoader\n",
    "\n",
    "def parse_args():\n",
    "\t\"\"\"arguments\"\"\"\n",
    "\tconfig = {\n",
    "\t\t\"data_dir\": \"/kaggle/input/ml2022spring-hw4/Dataset\",\n",
    "\t\t\"model_path\": \"./model.ckpt\",\n",
    "\t\t\"output_path\": \"./output.csv\",\n",
    "\t}\n",
    "\n",
    "\treturn config\n",
    "\n",
    "\n",
    "def main(\n",
    "\tdata_dir,\n",
    "\tmodel_path,\n",
    "\toutput_path,\n",
    "):\n",
    "\t\"\"\"Main function.\"\"\"\n",
    "\tdevice = torch.device(\"cuda\" if torch.cuda.is_available() else \"cpu\")\n",
    "\tprint(f\"[Info]: Use {device} now!\")\n",
    "\n",
    "\tmapping_path = Path(data_dir) / \"mapping.json\"\n",
    "\tmapping = json.load(mapping_path.open())\n",
    "\n",
    "\tdataset = InferenceDataset(data_dir)\n",
    "\tdataloader = DataLoader(\n",
    "\t\tdataset,\n",
    "\t\tbatch_size=1,\n",
    "\t\tshuffle=False,\n",
    "\t\tdrop_last=False,\n",
    "\t\tnum_workers=8,\n",
    "\t\tcollate_fn=inference_collate_batch,\n",
    "\t)\n",
    "\tprint(f\"[Info]: Finish loading data!\",flush = True)\n",
    "\n",
    "\tspeaker_num = len(mapping[\"id2speaker\"])\n",
    "\tmodel = Classifier(n_spks=speaker_num).to(device)\n",
    "\tmodel.load_state_dict(torch.load(model_path))\n",
    "\tmodel.eval()\n",
    "\tprint(f\"[Info]: Finish creating model!\",flush = True)\n",
    "\n",
    "\tresults = [[\"Id\", \"Category\"]]\n",
    "\tfor feat_paths, mels in tqdm(dataloader):\n",
    "\t\twith torch.no_grad():\n",
    "\t\t\tmels = mels.to(device)\n",
    "\t\t\touts = model(mels)\n",
    "\t\t\tpreds = outs.argmax(1).cpu().numpy()\n",
    "\t\t\tfor feat_path, pred in zip(feat_paths, preds):\n",
    "\t\t\t\tresults.append([feat_path, mapping[\"id2speaker\"][str(pred)]])\n",
    "\n",
    "\twith open(output_path, 'w', newline='') as csvfile:\n",
    "\t\twriter = csv.writer(csvfile)\n",
    "\t\twriter.writerows(results)\n",
    "\n",
    "\n",
    "if __name__ == \"__main__\":\n",
    "\tmain(**parse_args())"
   ]
  }
 ],
 "metadata": {
  "accelerator": "GPU",
  "colab": {
   "collapsed_sections": [],
   "name": "hw04.ipynb",
   "provenance": []
  },
  "kaggle": {
   "accelerator": "gpu",
   "dataSources": [
    {
     "databundleVersionId": 3328800,
     "sourceId": 34762,
     "sourceType": "competition"
    },
    {
     "datasetId": 4889250,
     "sourceId": 8244641,
     "sourceType": "datasetVersion"
    }
   ],
   "dockerImageVersionId": 30699,
   "isGpuEnabled": true,
   "isInternetEnabled": true,
   "language": "python",
   "sourceType": "notebook"
  },
  "kernelspec": {
   "display_name": "Python 3",
   "language": "python",
   "name": "python3"
  },
  "language_info": {
   "codemirror_mode": {
    "name": "ipython",
    "version": 3
   },
   "file_extension": ".py",
   "mimetype": "text/x-python",
   "name": "python",
   "nbconvert_exporter": "python",
   "pygments_lexer": "ipython3",
   "version": "3.10.13"
  },
  "papermill": {
   "default_parameters": {},
   "duration": 2198.613014,
   "end_time": "2024-04-27T16:55:05.413547",
   "environment_variables": {},
   "exception": null,
   "input_path": "__notebook__.ipynb",
   "output_path": "__notebook__.ipynb",
   "parameters": {},
   "start_time": "2024-04-27T16:18:26.800533",
   "version": "2.5.0"
  },
  "widgets": {
   "application/vnd.jupyter.widget-state+json": {
    "state": {
     "277d566fbc644fe58da1fde5f31cb8ec": {
      "model_module": "@jupyter-widgets/controls",
      "model_module_version": "1.5.0",
      "model_name": "ProgressStyleModel",
      "state": {
       "_model_module": "@jupyter-widgets/controls",
       "_model_module_version": "1.5.0",
       "_model_name": "ProgressStyleModel",
       "_view_count": null,
       "_view_module": "@jupyter-widgets/base",
       "_view_module_version": "1.2.0",
       "_view_name": "StyleView",
       "bar_color": null,
       "description_width": ""
      }
     },
     "29646af0fbf346daaba94cb8840afe86": {
      "model_module": "@jupyter-widgets/controls",
      "model_module_version": "1.5.0",
      "model_name": "FloatProgressModel",
      "state": {
       "_dom_classes": [],
       "_model_module": "@jupyter-widgets/controls",
       "_model_module_version": "1.5.0",
       "_model_name": "FloatProgressModel",
       "_view_count": null,
       "_view_module": "@jupyter-widgets/controls",
       "_view_module_version": "1.5.0",
       "_view_name": "ProgressView",
       "bar_style": "success",
       "description": "",
       "description_tooltip": null,
       "layout": "IPY_MODEL_9ee056efac7c47dab5651c60a30287c8",
       "max": 8000.0,
       "min": 0.0,
       "orientation": "horizontal",
       "style": "IPY_MODEL_277d566fbc644fe58da1fde5f31cb8ec",
       "value": 8000.0
      }
     },
     "3cb2b3761cc245489ab0815a028f243b": {
      "model_module": "@jupyter-widgets/controls",
      "model_module_version": "1.5.0",
      "model_name": "DescriptionStyleModel",
      "state": {
       "_model_module": "@jupyter-widgets/controls",
       "_model_module_version": "1.5.0",
       "_model_name": "DescriptionStyleModel",
       "_view_count": null,
       "_view_module": "@jupyter-widgets/base",
       "_view_module_version": "1.2.0",
       "_view_name": "StyleView",
       "description_width": ""
      }
     },
     "43dedf2b73574bfe8cc2b03236edafe9": {
      "model_module": "@jupyter-widgets/base",
      "model_module_version": "1.2.0",
      "model_name": "LayoutModel",
      "state": {
       "_model_module": "@jupyter-widgets/base",
       "_model_module_version": "1.2.0",
       "_model_name": "LayoutModel",
       "_view_count": null,
       "_view_module": "@jupyter-widgets/base",
       "_view_module_version": "1.2.0",
       "_view_name": "LayoutView",
       "align_content": null,
       "align_items": null,
       "align_self": null,
       "border": null,
       "bottom": null,
       "display": null,
       "flex": null,
       "flex_flow": null,
       "grid_area": null,
       "grid_auto_columns": null,
       "grid_auto_flow": null,
       "grid_auto_rows": null,
       "grid_column": null,
       "grid_gap": null,
       "grid_row": null,
       "grid_template_areas": null,
       "grid_template_columns": null,
       "grid_template_rows": null,
       "height": null,
       "justify_content": null,
       "justify_items": null,
       "left": null,
       "margin": null,
       "max_height": null,
       "max_width": null,
       "min_height": null,
       "min_width": null,
       "object_fit": null,
       "object_position": null,
       "order": null,
       "overflow": null,
       "overflow_x": null,
       "overflow_y": null,
       "padding": null,
       "right": null,
       "top": null,
       "visibility": null,
       "width": null
      }
     },
     "82aa6867a7a44f69b458f540eed1cc2c": {
      "model_module": "@jupyter-widgets/base",
      "model_module_version": "1.2.0",
      "model_name": "LayoutModel",
      "state": {
       "_model_module": "@jupyter-widgets/base",
       "_model_module_version": "1.2.0",
       "_model_name": "LayoutModel",
       "_view_count": null,
       "_view_module": "@jupyter-widgets/base",
       "_view_module_version": "1.2.0",
       "_view_name": "LayoutView",
       "align_content": null,
       "align_items": null,
       "align_self": null,
       "border": null,
       "bottom": null,
       "display": null,
       "flex": null,
       "flex_flow": null,
       "grid_area": null,
       "grid_auto_columns": null,
       "grid_auto_flow": null,
       "grid_auto_rows": null,
       "grid_column": null,
       "grid_gap": null,
       "grid_row": null,
       "grid_template_areas": null,
       "grid_template_columns": null,
       "grid_template_rows": null,
       "height": null,
       "justify_content": null,
       "justify_items": null,
       "left": null,
       "margin": null,
       "max_height": null,
       "max_width": null,
       "min_height": null,
       "min_width": null,
       "object_fit": null,
       "object_position": null,
       "order": null,
       "overflow": null,
       "overflow_x": null,
       "overflow_y": null,
       "padding": null,
       "right": null,
       "top": null,
       "visibility": null,
       "width": null
      }
     },
     "9ee056efac7c47dab5651c60a30287c8": {
      "model_module": "@jupyter-widgets/base",
      "model_module_version": "1.2.0",
      "model_name": "LayoutModel",
      "state": {
       "_model_module": "@jupyter-widgets/base",
       "_model_module_version": "1.2.0",
       "_model_name": "LayoutModel",
       "_view_count": null,
       "_view_module": "@jupyter-widgets/base",
       "_view_module_version": "1.2.0",
       "_view_name": "LayoutView",
       "align_content": null,
       "align_items": null,
       "align_self": null,
       "border": null,
       "bottom": null,
       "display": null,
       "flex": null,
       "flex_flow": null,
       "grid_area": null,
       "grid_auto_columns": null,
       "grid_auto_flow": null,
       "grid_auto_rows": null,
       "grid_column": null,
       "grid_gap": null,
       "grid_row": null,
       "grid_template_areas": null,
       "grid_template_columns": null,
       "grid_template_rows": null,
       "height": null,
       "justify_content": null,
       "justify_items": null,
       "left": null,
       "margin": null,
       "max_height": null,
       "max_width": null,
       "min_height": null,
       "min_width": null,
       "object_fit": null,
       "object_position": null,
       "order": null,
       "overflow": null,
       "overflow_x": null,
       "overflow_y": null,
       "padding": null,
       "right": null,
       "top": null,
       "visibility": null,
       "width": null
      }
     },
     "b4e216fca3bc46eea1699ffb936687ec": {
      "model_module": "@jupyter-widgets/controls",
      "model_module_version": "1.5.0",
      "model_name": "HBoxModel",
      "state": {
       "_dom_classes": [],
       "_model_module": "@jupyter-widgets/controls",
       "_model_module_version": "1.5.0",
       "_model_name": "HBoxModel",
       "_view_count": null,
       "_view_module": "@jupyter-widgets/controls",
       "_view_module_version": "1.5.0",
       "_view_name": "HBoxView",
       "box_style": "",
       "children": [
        "IPY_MODEL_f7666c305b7141dd95f5800fb9bd0823",
        "IPY_MODEL_29646af0fbf346daaba94cb8840afe86",
        "IPY_MODEL_dafd6f4b1de14c858423e892d18cac02"
       ],
       "layout": "IPY_MODEL_43dedf2b73574bfe8cc2b03236edafe9"
      }
     },
     "d286c951924148e0b28dca92691a4b86": {
      "model_module": "@jupyter-widgets/controls",
      "model_module_version": "1.5.0",
      "model_name": "DescriptionStyleModel",
      "state": {
       "_model_module": "@jupyter-widgets/controls",
       "_model_module_version": "1.5.0",
       "_model_name": "DescriptionStyleModel",
       "_view_count": null,
       "_view_module": "@jupyter-widgets/base",
       "_view_module_version": "1.2.0",
       "_view_name": "StyleView",
       "description_width": ""
      }
     },
     "dafd6f4b1de14c858423e892d18cac02": {
      "model_module": "@jupyter-widgets/controls",
      "model_module_version": "1.5.0",
      "model_name": "HTMLModel",
      "state": {
       "_dom_classes": [],
       "_model_module": "@jupyter-widgets/controls",
       "_model_module_version": "1.5.0",
       "_model_name": "HTMLModel",
       "_view_count": null,
       "_view_module": "@jupyter-widgets/controls",
       "_view_module_version": "1.5.0",
       "_view_name": "HTMLView",
       "description": "",
       "description_tooltip": null,
       "layout": "IPY_MODEL_82aa6867a7a44f69b458f540eed1cc2c",
       "placeholder": "​",
       "style": "IPY_MODEL_3cb2b3761cc245489ab0815a028f243b",
       "value": " 8000/8000 [00:16&lt;00:00, 481.73it/s]"
      }
     },
     "e8c3f51f1d8d45ff84f221209860e9bd": {
      "model_module": "@jupyter-widgets/base",
      "model_module_version": "1.2.0",
      "model_name": "LayoutModel",
      "state": {
       "_model_module": "@jupyter-widgets/base",
       "_model_module_version": "1.2.0",
       "_model_name": "LayoutModel",
       "_view_count": null,
       "_view_module": "@jupyter-widgets/base",
       "_view_module_version": "1.2.0",
       "_view_name": "LayoutView",
       "align_content": null,
       "align_items": null,
       "align_self": null,
       "border": null,
       "bottom": null,
       "display": null,
       "flex": null,
       "flex_flow": null,
       "grid_area": null,
       "grid_auto_columns": null,
       "grid_auto_flow": null,
       "grid_auto_rows": null,
       "grid_column": null,
       "grid_gap": null,
       "grid_row": null,
       "grid_template_areas": null,
       "grid_template_columns": null,
       "grid_template_rows": null,
       "height": null,
       "justify_content": null,
       "justify_items": null,
       "left": null,
       "margin": null,
       "max_height": null,
       "max_width": null,
       "min_height": null,
       "min_width": null,
       "object_fit": null,
       "object_position": null,
       "order": null,
       "overflow": null,
       "overflow_x": null,
       "overflow_y": null,
       "padding": null,
       "right": null,
       "top": null,
       "visibility": null,
       "width": null
      }
     },
     "f7666c305b7141dd95f5800fb9bd0823": {
      "model_module": "@jupyter-widgets/controls",
      "model_module_version": "1.5.0",
      "model_name": "HTMLModel",
      "state": {
       "_dom_classes": [],
       "_model_module": "@jupyter-widgets/controls",
       "_model_module_version": "1.5.0",
       "_model_name": "HTMLModel",
       "_view_count": null,
       "_view_module": "@jupyter-widgets/controls",
       "_view_module_version": "1.5.0",
       "_view_name": "HTMLView",
       "description": "",
       "description_tooltip": null,
       "layout": "IPY_MODEL_e8c3f51f1d8d45ff84f221209860e9bd",
       "placeholder": "​",
       "style": "IPY_MODEL_d286c951924148e0b28dca92691a4b86",
       "value": "100%"
      }
     }
    },
    "version_major": 2,
    "version_minor": 0
   }
  }
 },
 "nbformat": 4,
 "nbformat_minor": 5
}
