{
 "cells": [
  {
   "cell_type": "markdown",
   "id": "4cf78c74",
   "metadata": {
    "id": "C_jdZ5vHJ4A9",
    "papermill": {
     "duration": 0.006756,
     "end_time": "2024-04-28T14:45:02.362564",
     "exception": false,
     "start_time": "2024-04-28T14:45:02.355808",
     "status": "completed"
    },
    "tags": []
   },
   "source": [
    "# Task description\n",
    "- Classify the speakers of given features.\n",
    "- Main goal: Learn how to use transformer.\n",
    "- Baselines:\n",
    "  - Easy: Run sample code and know how to use transformer.\n",
    "  - Medium: Know how to adjust parameters of transformer.\n",
    "  - Strong: Construct [conformer](https://arxiv.org/abs/2005.08100) which is a variety of transformer. \n",
    "  - Boss: Implement [Self-Attention Pooling](https://arxiv.org/pdf/2008.01077v1.pdf) & [Additive Margin Softmax](https://arxiv.org/pdf/1801.05599.pdf) to further boost the performance.\n",
    "\n",
    "- Other links\n",
    "  - Kaggle: [link](https://www.kaggle.com/t/ac77388c90204a4c8daebeddd40ff916)\n",
    "  - Slide: [link](https://docs.google.com/presentation/d/1HLAj7UUIjZOycDe7DaVLSwJfXVd3bXPOyzSb6Zk3hYU/edit?usp=sharing)\n",
    "  - Data: [link](https://github.com/MachineLearningHW/ML_HW4_Dataset)\n",
    "\n",
    "# Download dataset\n",
    "- Data is [here](https://github.com/MachineLearningHW/ML_HW4_Dataset)"
   ]
  },
  {
   "cell_type": "code",
   "execution_count": 1,
   "id": "ba22b4c9",
   "metadata": {
    "execution": {
     "iopub.execute_input": "2024-04-28T14:45:02.376389Z",
     "iopub.status.busy": "2024-04-28T14:45:02.376032Z",
     "iopub.status.idle": "2024-04-28T14:45:02.389676Z",
     "shell.execute_reply": "2024-04-28T14:45:02.388808Z"
    },
    "id": "LhLNWB-AK2Z5",
    "papermill": {
     "duration": 0.022742,
     "end_time": "2024-04-28T14:45:02.391594",
     "exception": false,
     "start_time": "2024-04-28T14:45:02.368852",
     "status": "completed"
    },
    "tags": []
   },
   "outputs": [
    {
     "data": {
      "text/plain": [
       "'\\nIf the links below become inaccessible, please connect TAs.\\n'"
      ]
     },
     "execution_count": 1,
     "metadata": {},
     "output_type": "execute_result"
    }
   ],
   "source": [
    "\"\"\"\n",
    "If the links below become inaccessible, please connect TAs.\n",
    "\"\"\"\n",
    "\n",
    "# !wget https://github.com/MachineLearningHW/ML_HW4_Dataset/raw/0.0.1/Dataset.tar.gz.partaa\n",
    "# !wget https://github.com/MachineLearningHW/ML_HW4_Dataset/raw/0.0.1/Dataset.tar.gz.partab\n",
    "# !wget https://github.com/MachineLearningHW/ML_HW4_Dataset/raw/0.0.1/Dataset.tar.gz.partac\n",
    "# !wget https://github.com/MachineLearningHW/ML_HW4_Dataset/raw/0.0.1/Dataset.tar.gz.partad\n",
    "\n",
    "# !cat Dataset.tar.gz.parta* > Dataset.tar.gz\n",
    "\n",
    "# !tar zxvf Dataset.tar.gz"
   ]
  },
  {
   "cell_type": "markdown",
   "id": "868649e3",
   "metadata": {
    "id": "ENWVAUDVJtVY",
    "papermill": {
     "duration": 0.005929,
     "end_time": "2024-04-28T14:45:02.403923",
     "exception": false,
     "start_time": "2024-04-28T14:45:02.397994",
     "status": "completed"
    },
    "tags": []
   },
   "source": [
    "## Fix Random Seed"
   ]
  },
  {
   "cell_type": "code",
   "execution_count": 2,
   "id": "7efaa8db",
   "metadata": {
    "execution": {
     "iopub.execute_input": "2024-04-28T14:45:02.420723Z",
     "iopub.status.busy": "2024-04-28T14:45:02.419713Z",
     "iopub.status.idle": "2024-04-28T14:45:06.058242Z",
     "shell.execute_reply": "2024-04-28T14:45:06.057391Z"
    },
    "id": "E6burzCXIyuA",
    "papermill": {
     "duration": 3.649934,
     "end_time": "2024-04-28T14:45:06.060556",
     "exception": false,
     "start_time": "2024-04-28T14:45:02.410622",
     "status": "completed"
    },
    "tags": []
   },
   "outputs": [],
   "source": [
    "import numpy as np\n",
    "import torch\n",
    "import random\n",
    "\n",
    "def set_seed(seed):\n",
    "    np.random.seed(seed)\n",
    "    random.seed(seed)\n",
    "    torch.manual_seed(seed)\n",
    "    if torch.cuda.is_available():\n",
    "        torch.cuda.manual_seed(seed)\n",
    "        torch.cuda.manual_seed_all(seed)\n",
    "    torch.backends.cudnn.benchmark = False\n",
    "    torch.backends.cudnn.deterministic = True\n",
    "\n",
    "set_seed(87)"
   ]
  },
  {
   "cell_type": "markdown",
   "id": "8b5a30a7",
   "metadata": {
    "id": "k7dVbxW2LASN",
    "papermill": {
     "duration": 0.006014,
     "end_time": "2024-04-28T14:45:06.073240",
     "exception": false,
     "start_time": "2024-04-28T14:45:06.067226",
     "status": "completed"
    },
    "tags": []
   },
   "source": [
    "# Data\n",
    "\n",
    "## Dataset\n",
    "- Original dataset is [Voxceleb2](https://www.robots.ox.ac.uk/~vgg/data/voxceleb/vox2.html).\n",
    "- The [license](https://creativecommons.org/licenses/by/4.0/) and [complete version](https://www.robots.ox.ac.uk/~vgg/data/voxceleb/files/license.txt) of Voxceleb2.\n",
    "- We randomly select 600 speakers from Voxceleb2.\n",
    "- Then preprocess the raw waveforms into mel-spectrograms.\n",
    "\n",
    "- Args:\n",
    "  - data_dir: The path to the data directory.\n",
    "  - metadata_path: The path to the metadata.\n",
    "  - segment_len: The length of audio segment for training. \n",
    "- The architecture of data directory \\\\\n",
    "  - data directory \\\\\n",
    "  |---- metadata.json \\\\\n",
    "  |---- testdata.json \\\\\n",
    "  |---- mapping.json \\\\\n",
    "  |---- uttr-{random string}.pt \\\\\n",
    "\n",
    "- The information in metadata\n",
    "  - \"n_mels\": The dimention of mel-spectrogram.\n",
    "  - \"speakers\": A dictionary. \n",
    "    - Key: speaker ids.\n",
    "    - value: \"feature_path\" and \"mel_len\"\n",
    "\n",
    "\n",
    "For efficiency, we segment the mel-spectrograms into segments in the traing step."
   ]
  },
  {
   "cell_type": "code",
   "execution_count": 3,
   "id": "2a743a62",
   "metadata": {
    "execution": {
     "iopub.execute_input": "2024-04-28T14:45:06.087294Z",
     "iopub.status.busy": "2024-04-28T14:45:06.086904Z",
     "iopub.status.idle": "2024-04-28T14:45:06.098560Z",
     "shell.execute_reply": "2024-04-28T14:45:06.097715Z"
    },
    "id": "KpuGxl4CI2pr",
    "papermill": {
     "duration": 0.020871,
     "end_time": "2024-04-28T14:45:06.100338",
     "exception": false,
     "start_time": "2024-04-28T14:45:06.079467",
     "status": "completed"
    },
    "tags": []
   },
   "outputs": [],
   "source": [
    "import os\n",
    "import json\n",
    "import torch\n",
    "import random\n",
    "from pathlib import Path\n",
    "from torch.utils.data import Dataset\n",
    "from torch.nn.utils.rnn import pad_sequence\n",
    " \n",
    " \n",
    "class myDataset(Dataset):\n",
    "\tdef __init__(self, data_dir, segment_len=128):\n",
    "\t\tself.data_dir = data_dir\n",
    "\t\tself.segment_len = segment_len\n",
    "\t\n",
    "\t\t# Load the mapping from speaker neme to their corresponding id. \n",
    "\t\tmapping_path = Path(data_dir) / \"mapping.json\"\n",
    "\t\tmapping = json.load(mapping_path.open())\n",
    "\t\tself.speaker2id = mapping[\"speaker2id\"]\n",
    "\t\n",
    "\t\t# Load metadata of training data.\n",
    "\t\tmetadata_path = Path(data_dir) / \"metadata.json\"\n",
    "\t\tmetadata = json.load(open(metadata_path))[\"speakers\"]\n",
    "\t\n",
    "\t\t# Get the total number of speaker.\n",
    "\t\tself.speaker_num = len(metadata.keys())\n",
    "\t\tself.data = []\n",
    "\t\tfor speaker in metadata.keys():\n",
    "\t\t\tfor utterances in metadata[speaker]:\n",
    "\t\t\t\tself.data.append([utterances[\"feature_path\"], self.speaker2id[speaker]])\n",
    " \n",
    "\tdef __len__(self):\n",
    "\t\t\treturn len(self.data)\n",
    " \n",
    "\tdef __getitem__(self, index):\n",
    "\t\tfeat_path, speaker = self.data[index]\n",
    "\t\t# Load preprocessed mel-spectrogram.\n",
    "\t\tmel = torch.load(os.path.join(self.data_dir, feat_path))\n",
    "\n",
    "\t\t# Segmemt mel-spectrogram into \"segment_len\" frames.\n",
    "\t\tif len(mel) > self.segment_len:\n",
    "\t\t\t# Randomly get the starting point of the segment.\n",
    "\t\t\tstart = random.randint(0, len(mel) - self.segment_len)\n",
    "\t\t\t# Get a segment with \"segment_len\" frames.\n",
    "\t\t\tmel = torch.FloatTensor(mel[start:start+self.segment_len])\n",
    "\t\telse:\n",
    "\t\t\tmel = torch.FloatTensor(mel)\n",
    "\t\t# Turn the speaker id into long for computing loss later.\n",
    "\t\tspeaker = torch.FloatTensor([speaker]).long()\n",
    "\t\treturn mel, speaker\n",
    " \n",
    "\tdef get_speaker_number(self):\n",
    "\t\treturn self.speaker_num"
   ]
  },
  {
   "cell_type": "markdown",
   "id": "362f229f",
   "metadata": {
    "id": "668hverTMlGN",
    "papermill": {
     "duration": 0.006128,
     "end_time": "2024-04-28T14:45:06.112863",
     "exception": false,
     "start_time": "2024-04-28T14:45:06.106735",
     "status": "completed"
    },
    "tags": []
   },
   "source": [
    "## Dataloader\n",
    "- Split dataset into training dataset(90%) and validation dataset(10%).\n",
    "- Create dataloader to iterate the data."
   ]
  },
  {
   "cell_type": "code",
   "execution_count": 4,
   "id": "2edad2d7",
   "metadata": {
    "execution": {
     "iopub.execute_input": "2024-04-28T14:45:06.126872Z",
     "iopub.status.busy": "2024-04-28T14:45:06.126532Z",
     "iopub.status.idle": "2024-04-28T14:45:06.135534Z",
     "shell.execute_reply": "2024-04-28T14:45:06.134830Z"
    },
    "id": "B7c2gZYoJDRS",
    "papermill": {
     "duration": 0.018352,
     "end_time": "2024-04-28T14:45:06.137447",
     "exception": false,
     "start_time": "2024-04-28T14:45:06.119095",
     "status": "completed"
    },
    "tags": []
   },
   "outputs": [],
   "source": [
    "import torch\n",
    "from torch.utils.data import DataLoader, random_split\n",
    "from torch.nn.utils.rnn import pad_sequence\n",
    "\n",
    "\n",
    "def collate_batch(batch):\n",
    "\t# Process features within a batch.\n",
    "\t\"\"\"Collate a batch of data.\"\"\"\n",
    "\tmel, speaker = zip(*batch)\n",
    "\t# Because we train the model batch by batch, we need to pad the features in the same batch to make their lengths the same.\n",
    "\tmel = pad_sequence(mel, batch_first=True, padding_value=-20)    # pad log 10^(-20) which is very small value.\n",
    "\t# mel: (batch size, length, 40)\n",
    "\treturn mel, torch.FloatTensor(speaker).long()\n",
    "\n",
    "\n",
    "def get_dataloader(data_dir, batch_size, n_workers):\n",
    "\t\"\"\"Generate dataloader\"\"\"\n",
    "\tdataset = myDataset(data_dir)\n",
    "\tspeaker_num = dataset.get_speaker_number()\n",
    "\t# Split dataset into training dataset and validation dataset\n",
    "\ttrainlen = int(0.9 * len(dataset))\n",
    "\tlengths = [trainlen, len(dataset) - trainlen]\n",
    "\ttrainset, validset = random_split(dataset, lengths)\n",
    "\n",
    "\ttrain_loader = DataLoader(\n",
    "\t\ttrainset,\n",
    "\t\tbatch_size=batch_size,\n",
    "\t\tshuffle=True,\n",
    "\t\tdrop_last=True,\n",
    "\t\tnum_workers=n_workers,\n",
    "\t\tpin_memory=True,\n",
    "\t\tcollate_fn=collate_batch,\n",
    "\t)\n",
    "\tvalid_loader = DataLoader(\n",
    "\t\tvalidset,\n",
    "\t\tbatch_size=batch_size,\n",
    "\t\tnum_workers=n_workers,\n",
    "\t\tdrop_last=True,\n",
    "\t\tpin_memory=True,\n",
    "\t\tcollate_fn=collate_batch,\n",
    "\t)\n",
    "\n",
    "\treturn train_loader, valid_loader, speaker_num"
   ]
  },
  {
   "cell_type": "markdown",
   "id": "9594fd02",
   "metadata": {
    "id": "5FOSZYxrMqhc",
    "papermill": {
     "duration": 0.006039,
     "end_time": "2024-04-28T14:45:06.149970",
     "exception": false,
     "start_time": "2024-04-28T14:45:06.143931",
     "status": "completed"
    },
    "tags": []
   },
   "source": [
    "# Model\n",
    "- TransformerEncoderLayer:\n",
    "  - Base transformer encoder layer in [Attention Is All You Need](https://arxiv.org/abs/1706.03762)\n",
    "  - Parameters:\n",
    "    - d_model: the number of expected features of the input (required).\n",
    "\n",
    "    - nhead: the number of heads of the multiheadattention models (required).\n",
    "\n",
    "    - dim_feedforward: the dimension of the feedforward network model (default=2048).\n",
    "\n",
    "    - dropout: the dropout value (default=0.1).\n",
    "\n",
    "    - activation: the activation function of intermediate layer, relu or gelu (default=relu).\n",
    "\n",
    "- TransformerEncoder:\n",
    "  - TransformerEncoder is a stack of N transformer encoder layers\n",
    "  - Parameters:\n",
    "    - encoder_layer: an instance of the TransformerEncoderLayer() class (required).\n",
    "\n",
    "    - num_layers: the number of sub-encoder-layers in the encoder (required).\n",
    "\n",
    "    - norm: the layer normalization component (optional)."
   ]
  },
  {
   "cell_type": "code",
   "execution_count": 5,
   "id": "797c6222",
   "metadata": {
    "execution": {
     "iopub.execute_input": "2024-04-28T14:45:06.164269Z",
     "iopub.status.busy": "2024-04-28T14:45:06.163953Z",
     "iopub.status.idle": "2024-04-28T14:45:06.172980Z",
     "shell.execute_reply": "2024-04-28T14:45:06.172091Z"
    },
    "id": "iXZ5B0EKJGs8",
    "papermill": {
     "duration": 0.018615,
     "end_time": "2024-04-28T14:45:06.174893",
     "exception": false,
     "start_time": "2024-04-28T14:45:06.156278",
     "status": "completed"
    },
    "tags": []
   },
   "outputs": [],
   "source": [
    "import torch\n",
    "import torch.nn as nn\n",
    "import torch.nn.functional as F\n",
    "\n",
    "\n",
    "class Classifier(nn.Module):\n",
    "\tdef __init__(self, d_model=32, n_spks=600, dropout=0.1):\n",
    "\t\tsuper().__init__()\n",
    "\t\t# Project the dimension of features from that of input into d_model.\n",
    "\t\tself.prenet = nn.Linear(40, d_model)\n",
    "\t\t# TODO:\n",
    "\t\t#   Change Transformer to Conformer.\n",
    "\t\t#   https://arxiv.org/abs/2005.08100\n",
    "\t\tself.encoder_layer = nn.TransformerEncoderLayer(\n",
    "\t\t\td_model=d_model, dim_feedforward=256, nhead=2\n",
    "\t\t)\n",
    "\t\tself.encoder = nn.TransformerEncoder(self.encoder_layer, num_layers=2)\n",
    "\n",
    "\t\t# Project the the dimension of features from d_model into speaker nums.\n",
    "\t\tself.pred_layer = nn.Sequential(\n",
    "  \t\t\tnn.Linear(d_model, 2*d_model),\n",
    "  \t\t\tnn.ReLU(),\n",
    "\t\t\tnn.Linear(2*d_model, n_spks),\n",
    "\t\t)\n",
    "\n",
    "\tdef forward(self, mels):\n",
    "\t\t\"\"\"\n",
    "\t\targs:\n",
    "\t\t\tmels: (batch size, length, 40)\n",
    "\t\treturn:\n",
    "\t\t\tout: (batch size, n_spks)\n",
    "\t\t\"\"\"\n",
    "\t\t# out: (batch size, length, d_model)\n",
    "\t\tout = self.prenet(mels)\n",
    "\t\t# out: (length, batch size, d_model)\n",
    "\t\tout = out.permute(1, 0, 2)\n",
    "\t\t# The encoder layer expect features in the shape of (length, batch size, d_model).\n",
    "\t\tout = self.encoder_layer(out)\n",
    "\t\t# out: (batch size, length, d_model)\n",
    "\t\tout = out.transpose(0, 1)\n",
    "\t\t# mean pooling\n",
    "\t\tstats = out.mean(dim=1)\n",
    "\n",
    "\t\t# out: (batch, n_spks)\n",
    "\t\tout = self.pred_layer(stats)\n",
    "\t\treturn out"
   ]
  },
  {
   "cell_type": "markdown",
   "id": "6e752b35",
   "metadata": {
    "id": "W7yX8JinM5Ly",
    "papermill": {
     "duration": 0.006237,
     "end_time": "2024-04-28T14:45:06.187437",
     "exception": false,
     "start_time": "2024-04-28T14:45:06.181200",
     "status": "completed"
    },
    "tags": []
   },
   "source": [
    "# Learning rate schedule\n",
    "- For transformer architecture, the design of learning rate schedule is different from that of CNN.\n",
    "- Previous works show that the warmup of learning rate is useful for training models with transformer architectures.\n",
    "- The warmup schedule\n",
    "  - Set learning rate to 0 in the beginning.\n",
    "  - The learning rate increases linearly from 0 to initial learning rate during warmup period."
   ]
  },
  {
   "cell_type": "code",
   "execution_count": 6,
   "id": "b703a068",
   "metadata": {
    "execution": {
     "iopub.execute_input": "2024-04-28T14:45:06.202907Z",
     "iopub.status.busy": "2024-04-28T14:45:06.202089Z",
     "iopub.status.idle": "2024-04-28T14:45:06.210475Z",
     "shell.execute_reply": "2024-04-28T14:45:06.209626Z"
    },
    "id": "ykt0N1nVJJi2",
    "papermill": {
     "duration": 0.017905,
     "end_time": "2024-04-28T14:45:06.212479",
     "exception": false,
     "start_time": "2024-04-28T14:45:06.194574",
     "status": "completed"
    },
    "tags": []
   },
   "outputs": [],
   "source": [
    "import math\n",
    "\n",
    "import torch\n",
    "from torch.optim import Optimizer\n",
    "from torch.optim.lr_scheduler import LambdaLR\n",
    "\n",
    "\n",
    "def get_cosine_schedule_with_warmup(\n",
    "\toptimizer: Optimizer,\n",
    "\tnum_warmup_steps: int,\n",
    "\tnum_training_steps: int,\n",
    "\tnum_cycles: float = 0.5,\n",
    "\tlast_epoch: int = -1,\n",
    "):\n",
    "\t\"\"\"\n",
    "\tCreate a schedule with a learning rate that decreases following the values of the cosine function between the\n",
    "\tinitial lr set in the optimizer to 0, after a warmup period during which it increases linearly between 0 and the\n",
    "\tinitial lr set in the optimizer.\n",
    "\n",
    "\tArgs:\n",
    "\t\toptimizer (:class:`~torch.optim.Optimizer`):\n",
    "\t\tThe optimizer for which to schedule the learning rate.\n",
    "\t\tnum_warmup_steps (:obj:`int`):\n",
    "\t\tThe number of steps for the warmup phase.\n",
    "\t\tnum_training_steps (:obj:`int`):\n",
    "\t\tThe total number of training steps.\n",
    "\t\tnum_cycles (:obj:`float`, `optional`, defaults to 0.5):\n",
    "\t\tThe number of waves in the cosine schedule (the defaults is to just decrease from the max value to 0\n",
    "\t\tfollowing a half-cosine).\n",
    "\t\tlast_epoch (:obj:`int`, `optional`, defaults to -1):\n",
    "\t\tThe index of the last epoch when resuming training.\n",
    "\n",
    "\tReturn:\n",
    "\t\t:obj:`torch.optim.lr_scheduler.LambdaLR` with the appropriate schedule.\n",
    "\t\"\"\"\n",
    "\tdef lr_lambda(current_step):\n",
    "\t\t# Warmup\n",
    "\t\tif current_step < num_warmup_steps:\n",
    "\t\t\treturn float(current_step) / float(max(1, num_warmup_steps))\n",
    "\t\t# decadence\n",
    "\t\tprogress = float(current_step - num_warmup_steps) / float(\n",
    "\t\t\tmax(1, num_training_steps - num_warmup_steps)\n",
    "\t\t)\n",
    "\t\treturn max(\n",
    "\t\t\t0.0, 0.5 * (1.0 + math.cos(math.pi * float(num_cycles) * 2.0 * progress))\n",
    "\t\t)\n",
    "\n",
    "\treturn LambdaLR(optimizer, lr_lambda, last_epoch)"
   ]
  },
  {
   "cell_type": "markdown",
   "id": "5427d736",
   "metadata": {
    "id": "-LN2XkteM_uH",
    "papermill": {
     "duration": 0.006222,
     "end_time": "2024-04-28T14:45:06.225225",
     "exception": false,
     "start_time": "2024-04-28T14:45:06.219003",
     "status": "completed"
    },
    "tags": []
   },
   "source": [
    "# Model Function\n",
    "- Model forward function."
   ]
  },
  {
   "cell_type": "code",
   "execution_count": 7,
   "id": "bc859a2c",
   "metadata": {
    "execution": {
     "iopub.execute_input": "2024-04-28T14:45:06.239380Z",
     "iopub.status.busy": "2024-04-28T14:45:06.239051Z",
     "iopub.status.idle": "2024-04-28T14:45:06.245341Z",
     "shell.execute_reply": "2024-04-28T14:45:06.244330Z"
    },
    "id": "N-rr8529JMz0",
    "papermill": {
     "duration": 0.015844,
     "end_time": "2024-04-28T14:45:06.247309",
     "exception": false,
     "start_time": "2024-04-28T14:45:06.231465",
     "status": "completed"
    },
    "tags": []
   },
   "outputs": [],
   "source": [
    "import torch\n",
    "\n",
    "\n",
    "def model_fn(batch, model, criterion, device):\n",
    "\t\"\"\"Forward a batch through the model.\"\"\"\n",
    "\n",
    "\tmels, labels = batch\n",
    "\tmels = mels.to(device)\n",
    "\tlabels = labels.to(device)\n",
    "\n",
    "\touts = model(mels)\n",
    "\n",
    "\tloss = criterion(outs, labels)\n",
    "\n",
    "\t# Get the speaker id with highest probability.\n",
    "\tpreds = outs.argmax(1)\n",
    "\t# Compute accuracy.\n",
    "\taccuracy = torch.mean((preds == labels).float())\n",
    "\n",
    "\treturn loss, accuracy"
   ]
  },
  {
   "cell_type": "markdown",
   "id": "88a22fb0",
   "metadata": {
    "id": "cwM_xyOtNCI2",
    "papermill": {
     "duration": 0.007329,
     "end_time": "2024-04-28T14:45:06.262905",
     "exception": false,
     "start_time": "2024-04-28T14:45:06.255576",
     "status": "completed"
    },
    "tags": []
   },
   "source": [
    "# Validate\n",
    "- Calculate accuracy of the validation set."
   ]
  },
  {
   "cell_type": "code",
   "execution_count": 8,
   "id": "c225815d",
   "metadata": {
    "execution": {
     "iopub.execute_input": "2024-04-28T14:45:06.277977Z",
     "iopub.status.busy": "2024-04-28T14:45:06.277635Z",
     "iopub.status.idle": "2024-04-28T14:45:06.284762Z",
     "shell.execute_reply": "2024-04-28T14:45:06.283907Z"
    },
    "id": "YAiv6kpdJRTJ",
    "papermill": {
     "duration": 0.016688,
     "end_time": "2024-04-28T14:45:06.286807",
     "exception": false,
     "start_time": "2024-04-28T14:45:06.270119",
     "status": "completed"
    },
    "tags": []
   },
   "outputs": [],
   "source": [
    "from tqdm import tqdm\n",
    "import torch\n",
    "\n",
    "\n",
    "def valid(dataloader, model, criterion, device): \n",
    "\t\"\"\"Validate on validation set.\"\"\"\n",
    "\n",
    "\tmodel.eval()\n",
    "\trunning_loss = 0.0\n",
    "\trunning_accuracy = 0.0\n",
    "\tpbar = tqdm(total=len(dataloader.dataset), ncols=0, desc=\"Valid\", unit=\" uttr\")\n",
    "\n",
    "\tfor i, batch in enumerate(dataloader):\n",
    "\t\twith torch.no_grad():\n",
    "\t\t\tloss, accuracy = model_fn(batch, model, criterion, device)\n",
    "\t\t\trunning_loss += loss.item()\n",
    "\t\t\trunning_accuracy += accuracy.item()\n",
    "\n",
    "\t\tpbar.update(dataloader.batch_size)\n",
    "\t\tpbar.set_postfix(\n",
    "\t\t\tloss=f\"{running_loss / (i+1):.2f}\",\n",
    "\t\t\taccuracy=f\"{running_accuracy / (i+1):.2f}\",\n",
    "\t\t)\n",
    "\n",
    "\tpbar.close()\n",
    "\tmodel.train()\n",
    "\n",
    "\treturn running_accuracy / len(dataloader)"
   ]
  },
  {
   "cell_type": "markdown",
   "id": "88963229",
   "metadata": {
    "id": "g6ne9G-eNEdG",
    "papermill": {
     "duration": 0.005999,
     "end_time": "2024-04-28T14:45:06.299043",
     "exception": false,
     "start_time": "2024-04-28T14:45:06.293044",
     "status": "completed"
    },
    "tags": []
   },
   "source": [
    "# Main function"
   ]
  },
  {
   "cell_type": "code",
   "execution_count": 9,
   "id": "ed9b791e",
   "metadata": {
    "execution": {
     "iopub.execute_input": "2024-04-28T14:45:06.312811Z",
     "iopub.status.busy": "2024-04-28T14:45:06.312501Z",
     "iopub.status.idle": "2024-04-28T15:59:37.413302Z",
     "shell.execute_reply": "2024-04-28T15:59:37.411983Z"
    },
    "id": "Usv9s-CuJSG7",
    "papermill": {
     "duration": 4471.110276,
     "end_time": "2024-04-28T15:59:37.415562",
     "exception": false,
     "start_time": "2024-04-28T14:45:06.305286",
     "status": "completed"
    },
    "tags": []
   },
   "outputs": [
    {
     "name": "stdout",
     "output_type": "stream",
     "text": [
      "[Info]: Use cuda now!\n"
     ]
    },
    {
     "name": "stderr",
     "output_type": "stream",
     "text": [
      "/opt/conda/lib/python3.10/site-packages/torch/utils/data/dataloader.py:557: UserWarning: This DataLoader will create 8 worker processes in total. Our suggested max number of worker in current system is 4, which is smaller than what this DataLoader is going to create. Please be aware that excessive worker creation might get DataLoader running slow or even freeze, lower the worker number to avoid potential slowness/freeze if necessary.\n",
      "  warnings.warn(_create_warning_msg(\n"
     ]
    },
    {
     "name": "stdout",
     "output_type": "stream",
     "text": [
      "[Info]: Finish loading data!\n"
     ]
    },
    {
     "name": "stderr",
     "output_type": "stream",
     "text": [
      "/opt/conda/lib/python3.10/site-packages/torch/nn/modules/transformer.py:282: UserWarning: enable_nested_tensor is True, but self.use_nested_tensor is False because encoder_layer.self_attn.batch_first was not True(use batch_first for better inference performance)\n",
      "  warnings.warn(f\"enable_nested_tensor is True, but self.use_nested_tensor is False because {why_not_sparsity_fast_path}\")\n"
     ]
    },
    {
     "name": "stdout",
     "output_type": "stream",
     "text": [
      "[Info]: Finish creating model!\n"
     ]
    },
    {
     "name": "stderr",
     "output_type": "stream",
     "text": [
      "Train:  80% 1590/2000 [00:37<00:09, 45.10 step/s, accuracy=0.03, loss=4.67, step=1500]/opt/conda/lib/python3.10/site-packages/torch/utils/data/dataloader.py:557: UserWarning: This DataLoader will create 8 worker processes in total. Our suggested max number of worker in current system is 4, which is smaller than what this DataLoader is going to create. Please be aware that excessive worker creation might get DataLoader running slow or even freeze, lower the worker number to avoid potential slowness/freeze if necessary.\n",
      "  warnings.warn(_create_warning_msg(\n",
      "Train: 100% 2000/2000 [00:41<00:00, 47.99 step/s, accuracy=0.19, loss=4.28, step=2000] \n",
      "Valid: 100% 5664/5667 [00:04<00:00, 1247.73 uttr/s, accuracy=0.12, loss=4.32]\n",
      "Train: 100% 2000/2000 [00:20<00:00, 98.23 step/s, accuracy=0.12, loss=4.30, step=4000] \n",
      "Valid: 100% 5664/5667 [00:01<00:00, 2946.60 uttr/s, accuracy=0.19, loss=3.84]\n",
      "Train: 100% 2000/2000 [00:20<00:00, 99.34 step/s, accuracy=0.28, loss=3.50, step=6000]\n",
      "Valid: 100% 5664/5667 [00:01<00:00, 3289.66 uttr/s, accuracy=0.26, loss=3.41]\n",
      "Train: 100% 2000/2000 [00:20<00:00, 99.43 step/s, accuracy=0.34, loss=3.10, step=8000]\n",
      "Valid: 100% 5664/5667 [00:01<00:00, 3275.82 uttr/s, accuracy=0.30, loss=3.19]\n",
      "Train: 100% 2000/2000 [00:20<00:00, 99.32 step/s, accuracy=0.41, loss=2.60, step=1e+4] \n",
      "Valid: 100% 5664/5667 [00:01<00:00, 3280.31 uttr/s, accuracy=0.33, loss=3.09]\n",
      "Train:   1% 11/2000 [00:00<00:19, 103.85 step/s]"
     ]
    },
    {
     "name": "stdout",
     "output_type": "stream",
     "text": [
      "Step 10000, best model saved. (accuracy=0.3277)\n"
     ]
    },
    {
     "name": "stderr",
     "output_type": "stream",
     "text": [
      "Train: 100% 2000/2000 [00:20<00:00, 98.90 step/s, accuracy=0.53, loss=2.49, step=12000] \n",
      "Valid: 100% 5664/5667 [00:01<00:00, 3340.25 uttr/s, accuracy=0.36, loss=2.92]\n",
      "Train: 100% 2000/2000 [00:19<00:00, 100.97 step/s, accuracy=0.28, loss=2.96, step=14000]\n",
      "Valid: 100% 5664/5667 [00:01<00:00, 3190.46 uttr/s, accuracy=0.37, loss=2.83]\n",
      "Train: 100% 2000/2000 [00:20<00:00, 97.32 step/s, accuracy=0.38, loss=2.40, step=16000]\n",
      "Valid: 100% 5664/5667 [00:01<00:00, 3074.89 uttr/s, accuracy=0.39, loss=2.79]\n",
      "Train: 100% 2000/2000 [00:20<00:00, 99.04 step/s, accuracy=0.38, loss=2.98, step=18000] \n",
      "Valid: 100% 5664/5667 [00:01<00:00, 3226.84 uttr/s, accuracy=0.41, loss=2.69]\n",
      "Train: 100% 2000/2000 [00:20<00:00, 99.97 step/s, accuracy=0.44, loss=2.53, step=2e+4] \n",
      "Valid: 100% 5664/5667 [00:01<00:00, 3283.20 uttr/s, accuracy=0.44, loss=2.55]\n",
      "Train:   1% 11/2000 [00:00<00:18, 106.18 step/s]"
     ]
    },
    {
     "name": "stdout",
     "output_type": "stream",
     "text": [
      "Step 20000, best model saved. (accuracy=0.4393)\n"
     ]
    },
    {
     "name": "stderr",
     "output_type": "stream",
     "text": [
      "Train: 100% 2000/2000 [00:21<00:00, 95.10 step/s, accuracy=0.41, loss=2.63, step=22000]\n",
      "Valid: 100% 5664/5667 [00:01<00:00, 3153.41 uttr/s, accuracy=0.42, loss=2.61]\n",
      "Train: 100% 2000/2000 [00:21<00:00, 93.13 step/s, accuracy=0.50, loss=2.24, step=24000]\n",
      "Valid: 100% 5664/5667 [00:01<00:00, 3221.49 uttr/s, accuracy=0.44, loss=2.51]\n",
      "Train: 100% 2000/2000 [00:20<00:00, 96.66 step/s, accuracy=0.31, loss=2.46, step=26000]\n",
      "Valid: 100% 5664/5667 [00:01<00:00, 3026.81 uttr/s, accuracy=0.44, loss=2.48]\n",
      "Train: 100% 2000/2000 [00:20<00:00, 98.29 step/s, accuracy=0.50, loss=2.45, step=28000]\n",
      "Valid: 100% 5664/5667 [00:01<00:00, 3193.80 uttr/s, accuracy=0.48, loss=2.33]\n",
      "Train: 100% 2000/2000 [00:21<00:00, 94.61 step/s, accuracy=0.44, loss=2.55, step=3e+4] \n",
      "Valid: 100% 5664/5667 [00:01<00:00, 3087.21 uttr/s, accuracy=0.48, loss=2.32]\n",
      "Train:   1% 11/2000 [00:00<00:19, 103.02 step/s]"
     ]
    },
    {
     "name": "stdout",
     "output_type": "stream",
     "text": [
      "Step 30000, best model saved. (accuracy=0.4797)\n"
     ]
    },
    {
     "name": "stderr",
     "output_type": "stream",
     "text": [
      "Train: 100% 2000/2000 [00:21<00:00, 93.57 step/s, accuracy=0.62, loss=2.06, step=32000]\n",
      "Valid: 100% 5664/5667 [00:01<00:00, 3215.78 uttr/s, accuracy=0.49, loss=2.25]\n",
      "Train: 100% 2000/2000 [00:20<00:00, 96.78 step/s, accuracy=0.56, loss=1.70, step=34000] \n",
      "Valid: 100% 5664/5667 [00:01<00:00, 3132.71 uttr/s, accuracy=0.49, loss=2.29]\n",
      "Train: 100% 2000/2000 [00:20<00:00, 95.64 step/s, accuracy=0.59, loss=1.95, step=36000]\n",
      "Valid: 100% 5664/5667 [00:01<00:00, 3022.47 uttr/s, accuracy=0.47, loss=2.34]\n",
      "Train: 100% 2000/2000 [00:21<00:00, 93.17 step/s, accuracy=0.56, loss=2.12, step=38000] \n",
      "Valid: 100% 5664/5667 [00:01<00:00, 3223.49 uttr/s, accuracy=0.50, loss=2.17]\n",
      "Train: 100% 2000/2000 [00:21<00:00, 93.76 step/s, accuracy=0.47, loss=1.99, step=4e+4] \n",
      "Valid: 100% 5664/5667 [00:02<00:00, 2289.52 uttr/s, accuracy=0.50, loss=2.20]\n",
      "Train:   1% 13/2000 [00:00<00:16, 118.62 step/s]"
     ]
    },
    {
     "name": "stdout",
     "output_type": "stream",
     "text": [
      "Step 40000, best model saved. (accuracy=0.5037)\n"
     ]
    },
    {
     "name": "stderr",
     "output_type": "stream",
     "text": [
      "Train: 100% 2000/2000 [00:21<00:00, 93.84 step/s, accuracy=0.56, loss=1.93, step=42000] \n",
      "Valid: 100% 5664/5667 [00:02<00:00, 2422.45 uttr/s, accuracy=0.51, loss=2.18]\n",
      "Train: 100% 2000/2000 [00:20<00:00, 96.50 step/s, accuracy=0.56, loss=1.69, step=44000] \n",
      "Valid: 100% 5664/5667 [00:02<00:00, 2218.28 uttr/s, accuracy=0.52, loss=2.16]\n",
      "Train: 100% 2000/2000 [00:20<00:00, 97.30 step/s, accuracy=0.56, loss=1.95, step=46000] \n",
      "Valid: 100% 5664/5667 [00:02<00:00, 2383.76 uttr/s, accuracy=0.52, loss=2.16]\n",
      "Train: 100% 2000/2000 [00:21<00:00, 93.49 step/s, accuracy=0.62, loss=1.47, step=48000]\n",
      "Valid: 100% 5664/5667 [00:01<00:00, 3297.89 uttr/s, accuracy=0.52, loss=2.12]\n",
      "Train: 100% 2000/2000 [00:19<00:00, 100.16 step/s, accuracy=0.62, loss=1.61, step=5e+4]\n",
      "Valid: 100% 5664/5667 [00:01<00:00, 3125.12 uttr/s, accuracy=0.53, loss=2.09]\n",
      "Train:   1% 12/2000 [00:00<00:18, 110.10 step/s]"
     ]
    },
    {
     "name": "stdout",
     "output_type": "stream",
     "text": [
      "Step 50000, best model saved. (accuracy=0.5263)\n"
     ]
    },
    {
     "name": "stderr",
     "output_type": "stream",
     "text": [
      "Train: 100% 2000/2000 [00:20<00:00, 99.00 step/s, accuracy=0.44, loss=2.07, step=52000]\n",
      "Valid: 100% 5664/5667 [00:01<00:00, 3222.31 uttr/s, accuracy=0.53, loss=2.10]\n",
      "Train: 100% 2000/2000 [00:20<00:00, 97.77 step/s, accuracy=0.41, loss=1.96, step=54000] \n",
      "Valid: 100% 5664/5667 [00:01<00:00, 3223.69 uttr/s, accuracy=0.55, loss=2.01]\n",
      "Train: 100% 2000/2000 [00:20<00:00, 98.36 step/s, accuracy=0.50, loss=1.68, step=56000] \n",
      "Valid: 100% 5664/5667 [00:01<00:00, 3176.87 uttr/s, accuracy=0.55, loss=2.01]\n",
      "Train: 100% 2000/2000 [00:20<00:00, 98.53 step/s, accuracy=0.62, loss=1.22, step=58000] \n",
      "Valid: 100% 5664/5667 [00:01<00:00, 3242.46 uttr/s, accuracy=0.55, loss=2.03]\n",
      "Train: 100% 2000/2000 [00:20<00:00, 97.21 step/s, accuracy=0.66, loss=1.67, step=6e+4] \n",
      "Valid: 100% 5664/5667 [00:01<00:00, 3133.14 uttr/s, accuracy=0.54, loss=2.06]\n",
      "Train:   1% 22/2000 [00:00<00:18, 109.30 step/s]"
     ]
    },
    {
     "name": "stdout",
     "output_type": "stream",
     "text": [
      "Step 60000, best model saved. (accuracy=0.5505)\n"
     ]
    },
    {
     "name": "stderr",
     "output_type": "stream",
     "text": [
      "Train: 100% 2000/2000 [00:20<00:00, 98.81 step/s, accuracy=0.78, loss=1.30, step=62000]\n",
      "Valid: 100% 5664/5667 [00:01<00:00, 3008.04 uttr/s, accuracy=0.54, loss=2.03]\n",
      "Train: 100% 2000/2000 [00:20<00:00, 95.54 step/s, accuracy=0.62, loss=1.85, step=64000]\n",
      "Valid: 100% 5664/5667 [00:01<00:00, 3110.25 uttr/s, accuracy=0.55, loss=1.98]\n",
      "Train: 100% 2000/2000 [00:20<00:00, 98.14 step/s, accuracy=0.44, loss=2.23, step=66000]\n",
      "Valid: 100% 5664/5667 [00:01<00:00, 3186.05 uttr/s, accuracy=0.55, loss=1.97]\n",
      "Train: 100% 2000/2000 [00:20<00:00, 97.72 step/s, accuracy=0.44, loss=1.92, step=68000] \n",
      "Valid: 100% 5664/5667 [00:01<00:00, 3153.19 uttr/s, accuracy=0.54, loss=1.98]\n",
      "Train: 100% 2000/2000 [00:20<00:00, 98.99 step/s, accuracy=0.69, loss=1.39, step=7e+4]\n",
      "Valid: 100% 5664/5667 [00:01<00:00, 3269.74 uttr/s, accuracy=0.56, loss=1.99]\n",
      "Train:   1% 11/2000 [00:00<00:18, 104.94 step/s]"
     ]
    },
    {
     "name": "stdout",
     "output_type": "stream",
     "text": [
      "Step 70000, best model saved. (accuracy=0.5560)\n"
     ]
    },
    {
     "name": "stderr",
     "output_type": "stream",
     "text": [
      "Train: 100% 2000/2000 [00:20<00:00, 98.28 step/s, accuracy=0.53, loss=1.75, step=72000] \n",
      "Valid: 100% 5664/5667 [00:01<00:00, 3200.27 uttr/s, accuracy=0.55, loss=1.98]\n",
      "Train: 100% 2000/2000 [00:20<00:00, 97.74 step/s, accuracy=0.59, loss=1.61, step=74000] \n",
      "Valid: 100% 5664/5667 [00:01<00:00, 3180.18 uttr/s, accuracy=0.55, loss=2.01]\n",
      "Train: 100% 2000/2000 [00:20<00:00, 99.77 step/s, accuracy=0.62, loss=1.58, step=76000] \n",
      "Valid: 100% 5664/5667 [00:01<00:00, 3230.98 uttr/s, accuracy=0.55, loss=2.01]\n",
      "Train: 100% 2000/2000 [00:20<00:00, 99.15 step/s, accuracy=0.59, loss=1.48, step=78000] \n",
      "Valid: 100% 5664/5667 [00:01<00:00, 3129.91 uttr/s, accuracy=0.55, loss=1.96]\n",
      "Train: 100% 2000/2000 [00:20<00:00, 97.37 step/s, accuracy=0.53, loss=1.65, step=8e+4] \n",
      "Valid: 100% 5664/5667 [00:01<00:00, 3164.08 uttr/s, accuracy=0.56, loss=1.93]\n",
      "Train:   1% 12/2000 [00:00<00:17, 116.39 step/s]"
     ]
    },
    {
     "name": "stdout",
     "output_type": "stream",
     "text": [
      "Step 80000, best model saved. (accuracy=0.5607)\n"
     ]
    },
    {
     "name": "stderr",
     "output_type": "stream",
     "text": [
      "Train: 100% 2000/2000 [00:20<00:00, 98.90 step/s, accuracy=0.47, loss=2.16, step=82000] \n",
      "Valid: 100% 5664/5667 [00:01<00:00, 2903.48 uttr/s, accuracy=0.57, loss=1.92]\n",
      "Train: 100% 2000/2000 [00:20<00:00, 99.43 step/s, accuracy=0.72, loss=1.62, step=84000] \n",
      "Valid: 100% 5664/5667 [00:01<00:00, 3181.12 uttr/s, accuracy=0.57, loss=1.91]\n",
      "Train: 100% 2000/2000 [00:20<00:00, 97.24 step/s, accuracy=0.72, loss=1.43, step=86000]\n",
      "Valid: 100% 5664/5667 [00:01<00:00, 3195.21 uttr/s, accuracy=0.56, loss=1.93]\n",
      "Train: 100% 2000/2000 [00:20<00:00, 96.51 step/s, accuracy=0.66, loss=1.25, step=88000] \n",
      "Valid: 100% 5664/5667 [00:01<00:00, 3110.72 uttr/s, accuracy=0.56, loss=1.95]\n",
      "Train: 100% 2000/2000 [00:19<00:00, 101.10 step/s, accuracy=0.50, loss=2.16, step=9e+4]\n",
      "Valid: 100% 5664/5667 [00:01<00:00, 2936.52 uttr/s, accuracy=0.59, loss=1.86]\n",
      "Train:   1% 19/2000 [00:00<00:21, 93.41 step/s]"
     ]
    },
    {
     "name": "stdout",
     "output_type": "stream",
     "text": [
      "Step 90000, best model saved. (accuracy=0.5872)\n"
     ]
    },
    {
     "name": "stderr",
     "output_type": "stream",
     "text": [
      "Train: 100% 2000/2000 [00:20<00:00, 98.54 step/s, accuracy=0.66, loss=1.29, step=92000] \n",
      "Valid: 100% 5664/5667 [00:01<00:00, 3216.54 uttr/s, accuracy=0.57, loss=1.90]\n",
      "Train: 100% 2000/2000 [00:20<00:00, 96.87 step/s, accuracy=0.62, loss=1.63, step=94000]\n",
      "Valid: 100% 5664/5667 [00:01<00:00, 3201.77 uttr/s, accuracy=0.57, loss=1.87]\n",
      "Train: 100% 2000/2000 [00:19<00:00, 100.93 step/s, accuracy=0.56, loss=1.27, step=96000]\n",
      "Valid: 100% 5664/5667 [00:02<00:00, 2814.05 uttr/s, accuracy=0.57, loss=1.87]\n",
      "Train: 100% 2000/2000 [00:20<00:00, 99.86 step/s, accuracy=0.66, loss=1.42, step=98000] \n",
      "Valid: 100% 5664/5667 [00:01<00:00, 3151.75 uttr/s, accuracy=0.57, loss=1.89]\n",
      "Train: 100% 2000/2000 [00:20<00:00, 99.25 step/s, accuracy=0.69, loss=1.48, step=1e+5] \n",
      "Valid: 100% 5664/5667 [00:01<00:00, 3361.51 uttr/s, accuracy=0.58, loss=1.86]\n",
      "Train:   1% 11/2000 [00:00<00:18, 107.08 step/s]"
     ]
    },
    {
     "name": "stdout",
     "output_type": "stream",
     "text": [
      "Step 100000, best model saved. (accuracy=0.5872)\n"
     ]
    },
    {
     "name": "stderr",
     "output_type": "stream",
     "text": [
      "Train: 100% 2000/2000 [00:19<00:00, 104.10 step/s, accuracy=0.50, loss=2.00, step=102000]\n",
      "Valid: 100% 5664/5667 [00:01<00:00, 3043.22 uttr/s, accuracy=0.59, loss=1.81]\n",
      "Train: 100% 2000/2000 [00:19<00:00, 101.50 step/s, accuracy=0.59, loss=2.27, step=104000]\n",
      "Valid: 100% 5664/5667 [00:01<00:00, 3324.30 uttr/s, accuracy=0.58, loss=1.85]\n",
      "Train: 100% 2000/2000 [00:19<00:00, 101.56 step/s, accuracy=0.53, loss=1.59, step=106000]\n",
      "Valid: 100% 5664/5667 [00:01<00:00, 3368.17 uttr/s, accuracy=0.59, loss=1.83]\n",
      "Train: 100% 2000/2000 [00:19<00:00, 104.36 step/s, accuracy=0.75, loss=1.07, step=108000]\n",
      "Valid: 100% 5664/5667 [00:01<00:00, 3424.55 uttr/s, accuracy=0.59, loss=1.81]\n",
      "Train: 100% 2000/2000 [00:20<00:00, 97.87 step/s, accuracy=0.66, loss=1.15, step=110000]\n",
      "Valid: 100% 5664/5667 [00:01<00:00, 3105.56 uttr/s, accuracy=0.58, loss=1.84]\n",
      "Train:   1% 11/2000 [00:00<00:18, 107.82 step/s]"
     ]
    },
    {
     "name": "stdout",
     "output_type": "stream",
     "text": [
      "Step 110000, best model saved. (accuracy=0.5916)\n"
     ]
    },
    {
     "name": "stderr",
     "output_type": "stream",
     "text": [
      "Train: 100% 2000/2000 [00:20<00:00, 97.24 step/s, accuracy=0.59, loss=1.58, step=112000]\n",
      "Valid: 100% 5664/5667 [00:01<00:00, 3224.03 uttr/s, accuracy=0.58, loss=1.83]\n",
      "Train: 100% 2000/2000 [00:20<00:00, 99.95 step/s, accuracy=0.69, loss=1.03, step=114000]\n",
      "Valid: 100% 5664/5667 [00:01<00:00, 2906.62 uttr/s, accuracy=0.58, loss=1.83]\n",
      "Train: 100% 2000/2000 [00:20<00:00, 97.33 step/s, accuracy=0.66, loss=1.48, step=116000]\n",
      "Valid: 100% 5664/5667 [00:01<00:00, 3222.14 uttr/s, accuracy=0.58, loss=1.86]\n",
      "Train: 100% 2000/2000 [00:20<00:00, 95.51 step/s, accuracy=0.72, loss=1.34, step=118000]\n",
      "Valid: 100% 5664/5667 [00:01<00:00, 3215.80 uttr/s, accuracy=0.58, loss=1.83]\n",
      "Train: 100% 2000/2000 [00:19<00:00, 100.55 step/s, accuracy=0.53, loss=1.55, step=120000]\n",
      "Valid: 100% 5664/5667 [00:01<00:00, 3320.96 uttr/s, accuracy=0.60, loss=1.80]\n",
      "Train:   1% 13/2000 [00:00<00:16, 122.09 step/s]"
     ]
    },
    {
     "name": "stdout",
     "output_type": "stream",
     "text": [
      "Step 120000, best model saved. (accuracy=0.5955)\n"
     ]
    },
    {
     "name": "stderr",
     "output_type": "stream",
     "text": [
      "Train: 100% 2000/2000 [00:19<00:00, 103.55 step/s, accuracy=0.47, loss=1.89, step=122000]\n",
      "Valid: 100% 5664/5667 [00:01<00:00, 3344.91 uttr/s, accuracy=0.59, loss=1.81]\n",
      "Train: 100% 2000/2000 [00:19<00:00, 101.22 step/s, accuracy=0.56, loss=1.46, step=124000]\n",
      "Valid: 100% 5664/5667 [00:01<00:00, 3371.24 uttr/s, accuracy=0.59, loss=1.79]\n",
      "Train: 100% 2000/2000 [00:19<00:00, 102.36 step/s, accuracy=0.75, loss=1.87, step=126000]\n",
      "Valid: 100% 5664/5667 [00:01<00:00, 3266.08 uttr/s, accuracy=0.59, loss=1.78]\n",
      "Train: 100% 2000/2000 [00:19<00:00, 103.38 step/s, accuracy=0.56, loss=1.46, step=128000]\n",
      "Valid: 100% 5664/5667 [00:01<00:00, 3324.52 uttr/s, accuracy=0.59, loss=1.80]\n",
      "Train: 100% 2000/2000 [00:19<00:00, 102.67 step/s, accuracy=0.78, loss=0.90, step=130000]\n",
      "Valid: 100% 5664/5667 [00:01<00:00, 2968.87 uttr/s, accuracy=0.60, loss=1.74]\n",
      "Train:   1% 11/2000 [00:00<00:19, 103.21 step/s]"
     ]
    },
    {
     "name": "stdout",
     "output_type": "stream",
     "text": [
      "Step 130000, best model saved. (accuracy=0.6006)\n"
     ]
    },
    {
     "name": "stderr",
     "output_type": "stream",
     "text": [
      "Train: 100% 2000/2000 [00:19<00:00, 102.54 step/s, accuracy=0.56, loss=1.75, step=132000]\n",
      "Valid: 100% 5664/5667 [00:01<00:00, 3314.66 uttr/s, accuracy=0.58, loss=1.84]\n",
      "Train: 100% 2000/2000 [00:19<00:00, 101.13 step/s, accuracy=0.75, loss=1.20, step=134000]\n",
      "Valid: 100% 5664/5667 [00:01<00:00, 3216.54 uttr/s, accuracy=0.60, loss=1.74]\n",
      "Train: 100% 2000/2000 [00:19<00:00, 104.17 step/s, accuracy=0.75, loss=1.49, step=136000]\n",
      "Valid: 100% 5664/5667 [00:01<00:00, 3235.53 uttr/s, accuracy=0.59, loss=1.79]\n",
      "Train: 100% 2000/2000 [00:19<00:00, 100.51 step/s, accuracy=0.50, loss=1.77, step=138000]\n",
      "Valid: 100% 5664/5667 [00:01<00:00, 3347.07 uttr/s, accuracy=0.61, loss=1.75]\n",
      "Train: 100% 2000/2000 [00:19<00:00, 103.08 step/s, accuracy=0.59, loss=1.54, step=140000]\n",
      "Valid: 100% 5664/5667 [00:01<00:00, 3316.80 uttr/s, accuracy=0.59, loss=1.77]\n",
      "Train:   1% 13/2000 [00:00<00:16, 122.31 step/s]"
     ]
    },
    {
     "name": "stdout",
     "output_type": "stream",
     "text": [
      "Step 140000, best model saved. (accuracy=0.6054)\n"
     ]
    },
    {
     "name": "stderr",
     "output_type": "stream",
     "text": [
      "Train: 100% 2000/2000 [00:19<00:00, 102.95 step/s, accuracy=0.56, loss=1.70, step=142000]\n",
      "Valid: 100% 5664/5667 [00:01<00:00, 3365.53 uttr/s, accuracy=0.60, loss=1.74]\n",
      "Train: 100% 2000/2000 [00:19<00:00, 100.33 step/s, accuracy=0.75, loss=1.13, step=144000]\n",
      "Valid: 100% 5664/5667 [00:01<00:00, 3215.91 uttr/s, accuracy=0.60, loss=1.75]\n",
      "Train: 100% 2000/2000 [00:19<00:00, 104.40 step/s, accuracy=0.69, loss=1.10, step=146000]\n",
      "Valid: 100% 5664/5667 [00:01<00:00, 2964.20 uttr/s, accuracy=0.60, loss=1.76]\n",
      "Train: 100% 2000/2000 [00:19<00:00, 101.54 step/s, accuracy=0.50, loss=1.83, step=148000]\n",
      "Valid: 100% 5664/5667 [00:01<00:00, 3411.78 uttr/s, accuracy=0.62, loss=1.73]\n",
      "Train: 100% 2000/2000 [00:20<00:00, 99.32 step/s, accuracy=0.59, loss=1.35, step=150000] \n",
      "Valid: 100% 5664/5667 [00:01<00:00, 3240.34 uttr/s, accuracy=0.60, loss=1.75]\n",
      "Train:   1% 11/2000 [00:00<00:18, 105.67 step/s]"
     ]
    },
    {
     "name": "stdout",
     "output_type": "stream",
     "text": [
      "Step 150000, best model saved. (accuracy=0.6156)\n"
     ]
    },
    {
     "name": "stderr",
     "output_type": "stream",
     "text": [
      "Train: 100% 2000/2000 [00:19<00:00, 105.14 step/s, accuracy=0.69, loss=1.55, step=152000]\n",
      "Valid: 100% 5664/5667 [00:01<00:00, 3308.47 uttr/s, accuracy=0.61, loss=1.75]\n",
      "Train: 100% 2000/2000 [00:19<00:00, 100.57 step/s, accuracy=0.59, loss=2.01, step=154000]\n",
      "Valid: 100% 5664/5667 [00:01<00:00, 3402.98 uttr/s, accuracy=0.61, loss=1.73]\n",
      "Train: 100% 2000/2000 [00:19<00:00, 101.69 step/s, accuracy=0.69, loss=1.34, step=156000]\n",
      "Valid: 100% 5664/5667 [00:01<00:00, 3165.72 uttr/s, accuracy=0.59, loss=1.80]\n",
      "Train: 100% 2000/2000 [00:19<00:00, 103.56 step/s, accuracy=0.69, loss=1.15, step=158000]\n",
      "Valid: 100% 5664/5667 [00:01<00:00, 3350.03 uttr/s, accuracy=0.61, loss=1.75]\n",
      "Train: 100% 2000/2000 [00:20<00:00, 99.75 step/s, accuracy=0.59, loss=1.59, step=160000] \n",
      "Valid: 100% 5664/5667 [00:01<00:00, 3334.25 uttr/s, accuracy=0.60, loss=1.71]\n",
      "Train:   1% 12/2000 [00:00<00:17, 113.17 step/s]"
     ]
    },
    {
     "name": "stdout",
     "output_type": "stream",
     "text": [
      "Step 160000, best model saved. (accuracy=0.6156)\n"
     ]
    },
    {
     "name": "stderr",
     "output_type": "stream",
     "text": [
      "Train: 100% 2000/2000 [00:19<00:00, 103.38 step/s, accuracy=0.69, loss=1.02, step=162000]\n",
      "Valid: 100% 5664/5667 [00:01<00:00, 3272.17 uttr/s, accuracy=0.61, loss=1.72]\n",
      "Train: 100% 2000/2000 [00:19<00:00, 101.58 step/s, accuracy=0.72, loss=1.06, step=164000]\n",
      "Valid: 100% 5664/5667 [00:01<00:00, 3212.89 uttr/s, accuracy=0.61, loss=1.70]\n",
      "Train: 100% 2000/2000 [00:20<00:00, 98.83 step/s, accuracy=0.62, loss=1.39, step=166000] \n",
      "Valid: 100% 5664/5667 [00:01<00:00, 3165.32 uttr/s, accuracy=0.60, loss=1.70]\n",
      "Train: 100% 2000/2000 [00:19<00:00, 102.65 step/s, accuracy=0.78, loss=0.83, step=168000]\n",
      "Valid: 100% 5664/5667 [00:01<00:00, 3248.14 uttr/s, accuracy=0.61, loss=1.73]\n",
      "Train: 100% 2000/2000 [00:19<00:00, 100.77 step/s, accuracy=0.53, loss=1.69, step=170000]\n",
      "Valid: 100% 5664/5667 [00:02<00:00, 2645.84 uttr/s, accuracy=0.61, loss=1.72]\n",
      "Train:   1% 11/2000 [00:00<00:18, 109.59 step/s]"
     ]
    },
    {
     "name": "stdout",
     "output_type": "stream",
     "text": [
      "Step 170000, best model saved. (accuracy=0.6156)\n"
     ]
    },
    {
     "name": "stderr",
     "output_type": "stream",
     "text": [
      "Train: 100% 2000/2000 [00:20<00:00, 99.28 step/s, accuracy=0.56, loss=1.47, step=172000]\n",
      "Valid: 100% 5664/5667 [00:02<00:00, 2752.63 uttr/s, accuracy=0.61, loss=1.72]\n",
      "Train: 100% 2000/2000 [00:20<00:00, 96.78 step/s, accuracy=0.66, loss=1.71, step=174000] \n",
      "Valid: 100% 5664/5667 [00:01<00:00, 3207.27 uttr/s, accuracy=0.61, loss=1.72]\n",
      "Train: 100% 2000/2000 [00:20<00:00, 95.48 step/s, accuracy=0.62, loss=1.18, step=176000] \n",
      "Valid: 100% 5664/5667 [00:01<00:00, 3283.65 uttr/s, accuracy=0.62, loss=1.68]\n",
      "Train: 100% 2000/2000 [00:19<00:00, 100.33 step/s, accuracy=0.59, loss=1.49, step=178000]\n",
      "Valid: 100% 5664/5667 [00:01<00:00, 2921.67 uttr/s, accuracy=0.62, loss=1.69]\n",
      "Train: 100% 2000/2000 [00:20<00:00, 96.35 step/s, accuracy=0.66, loss=1.17, step=180000] \n",
      "Valid: 100% 5664/5667 [00:01<00:00, 3272.29 uttr/s, accuracy=0.62, loss=1.70]\n",
      "Train:   0% 0/2000 [00:00<?, ? step/s]"
     ]
    },
    {
     "name": "stdout",
     "output_type": "stream",
     "text": [
      "Step 180000, best model saved. (accuracy=0.6208)\n"
     ]
    },
    {
     "name": "stderr",
     "output_type": "stream",
     "text": [
      "Train: 100% 2000/2000 [00:21<00:00, 94.44 step/s, accuracy=0.66, loss=1.20, step=182000]\n",
      "Valid: 100% 5664/5667 [00:01<00:00, 3083.61 uttr/s, accuracy=0.62, loss=1.65]\n",
      "Train: 100% 2000/2000 [00:19<00:00, 100.49 step/s, accuracy=0.56, loss=1.38, step=184000]\n",
      "Valid: 100% 5664/5667 [00:01<00:00, 3312.59 uttr/s, accuracy=0.61, loss=1.69]\n",
      "Train: 100% 2000/2000 [00:20<00:00, 95.36 step/s, accuracy=0.69, loss=1.19, step=186000] \n",
      "Valid: 100% 5664/5667 [00:01<00:00, 3193.00 uttr/s, accuracy=0.62, loss=1.67]\n",
      "Train: 100% 2000/2000 [00:21<00:00, 94.92 step/s, accuracy=0.78, loss=1.26, step=188000]\n",
      "Valid: 100% 5664/5667 [00:01<00:00, 3176.74 uttr/s, accuracy=0.61, loss=1.72]\n",
      "Train: 100% 2000/2000 [00:20<00:00, 99.88 step/s, accuracy=0.72, loss=0.93, step=190000] \n",
      "Valid: 100% 5664/5667 [00:01<00:00, 3259.63 uttr/s, accuracy=0.61, loss=1.67]\n",
      "Train:   1% 22/2000 [00:00<00:18, 108.50 step/s]"
     ]
    },
    {
     "name": "stdout",
     "output_type": "stream",
     "text": [
      "Step 190000, best model saved. (accuracy=0.6208)\n"
     ]
    },
    {
     "name": "stderr",
     "output_type": "stream",
     "text": [
      "Train: 100% 2000/2000 [00:20<00:00, 96.39 step/s, accuracy=0.66, loss=1.15, step=192000]\n",
      "Valid: 100% 5664/5667 [00:01<00:00, 3271.39 uttr/s, accuracy=0.61, loss=1.69]\n",
      "Train: 100% 2000/2000 [00:20<00:00, 98.78 step/s, accuracy=0.81, loss=0.86, step=194000]\n",
      "Valid: 100% 5664/5667 [00:02<00:00, 2795.95 uttr/s, accuracy=0.62, loss=1.65]\n",
      "Train: 100% 2000/2000 [00:20<00:00, 96.12 step/s, accuracy=0.66, loss=1.29, step=196000]\n",
      "Valid: 100% 5664/5667 [00:01<00:00, 3200.59 uttr/s, accuracy=0.61, loss=1.68]\n",
      "Train: 100% 2000/2000 [00:20<00:00, 97.27 step/s, accuracy=0.72, loss=1.22, step=198000] \n",
      "Valid: 100% 5664/5667 [00:01<00:00, 3284.80 uttr/s, accuracy=0.62, loss=1.63]\n",
      "Train: 100% 2000/2000 [00:20<00:00, 99.89 step/s, accuracy=0.66, loss=1.17, step=2e+5] \n",
      "Valid: 100% 5664/5667 [00:01<00:00, 3051.06 uttr/s, accuracy=0.61, loss=1.67]\n",
      "Train:   1% 11/2000 [00:00<00:18, 109.71 step/s]"
     ]
    },
    {
     "name": "stdout",
     "output_type": "stream",
     "text": [
      "Step 200000, best model saved. (accuracy=0.6248)\n"
     ]
    },
    {
     "name": "stderr",
     "output_type": "stream",
     "text": [
      "Train: 100% 2000/2000 [00:21<00:00, 95.23 step/s, accuracy=0.66, loss=1.33, step=202000]\n",
      "Valid: 100% 5664/5667 [00:01<00:00, 3259.63 uttr/s, accuracy=0.62, loss=1.66]\n",
      "Train: 100% 2000/2000 [00:21<00:00, 94.73 step/s, accuracy=0.66, loss=1.22, step=204000]\n",
      "Valid: 100% 5664/5667 [00:01<00:00, 3005.84 uttr/s, accuracy=0.62, loss=1.65]\n",
      "Train: 100% 2000/2000 [00:19<00:00, 100.54 step/s, accuracy=0.69, loss=1.30, step=206000]\n",
      "Valid: 100% 5664/5667 [00:01<00:00, 3254.55 uttr/s, accuracy=0.62, loss=1.65]\n",
      "Train: 100% 2000/2000 [00:21<00:00, 95.03 step/s, accuracy=0.88, loss=0.56, step=208000] \n",
      "Valid: 100% 5664/5667 [00:01<00:00, 3143.20 uttr/s, accuracy=0.63, loss=1.64]\n",
      "Train: 100% 2000/2000 [00:20<00:00, 98.62 step/s, accuracy=0.56, loss=1.83, step=210000]\n",
      "Valid: 100% 5664/5667 [00:02<00:00, 2805.79 uttr/s, accuracy=0.62, loss=1.66]\n",
      "Train:   1% 18/2000 [00:00<00:22, 86.31 step/s]"
     ]
    },
    {
     "name": "stdout",
     "output_type": "stream",
     "text": [
      "Step 210000, best model saved. (accuracy=0.6296)\n"
     ]
    },
    {
     "name": "stderr",
     "output_type": "stream",
     "text": [
      "Train: 100% 2000/2000 [00:20<00:00, 96.63 step/s, accuracy=0.69, loss=1.75, step=212000]\n",
      "Valid: 100% 5664/5667 [00:01<00:00, 3184.97 uttr/s, accuracy=0.63, loss=1.64]\n",
      "Train: 100% 2000/2000 [00:20<00:00, 96.16 step/s, accuracy=0.59, loss=1.93, step=214000] \n",
      "Valid: 100% 5664/5667 [00:01<00:00, 3233.68 uttr/s, accuracy=0.63, loss=1.61]\n",
      "Train: 100% 2000/2000 [00:20<00:00, 99.12 step/s, accuracy=0.62, loss=1.61, step=216000]\n",
      "Valid: 100% 5664/5667 [00:01<00:00, 3119.14 uttr/s, accuracy=0.63, loss=1.64]\n",
      "Train: 100% 2000/2000 [00:20<00:00, 95.78 step/s, accuracy=0.72, loss=1.14, step=218000] \n",
      "Valid: 100% 5664/5667 [00:02<00:00, 2698.11 uttr/s, accuracy=0.64, loss=1.60]\n",
      "Train: 100% 2000/2000 [00:20<00:00, 96.34 step/s, accuracy=0.75, loss=0.93, step=220000]\n",
      "Valid: 100% 5664/5667 [00:02<00:00, 2793.26 uttr/s, accuracy=0.64, loss=1.62]\n",
      "Train:   1% 12/2000 [00:00<00:17, 116.28 step/s]"
     ]
    },
    {
     "name": "stdout",
     "output_type": "stream",
     "text": [
      "Step 220000, best model saved. (accuracy=0.6391)\n"
     ]
    },
    {
     "name": "stderr",
     "output_type": "stream",
     "text": [
      "Train: 100% 2000/2000 [00:20<00:00, 99.74 step/s, accuracy=0.50, loss=1.77, step=222000] \n",
      "Valid: 100% 5664/5667 [00:01<00:00, 3242.35 uttr/s, accuracy=0.64, loss=1.56]\n",
      "Train: 100% 2000/2000 [00:20<00:00, 95.25 step/s, accuracy=0.72, loss=1.04, step=224000] \n",
      "Valid: 100% 5664/5667 [00:01<00:00, 3123.09 uttr/s, accuracy=0.64, loss=1.58]\n",
      "Train: 100% 2000/2000 [00:19<00:00, 101.36 step/s, accuracy=0.81, loss=0.96, step=226000]\n",
      "Valid: 100% 5664/5667 [00:01<00:00, 3149.50 uttr/s, accuracy=0.63, loss=1.61]\n",
      "Train: 100% 2000/2000 [00:21<00:00, 93.01 step/s, accuracy=0.72, loss=1.16, step=228000] \n",
      "Valid: 100% 5664/5667 [00:01<00:00, 3219.40 uttr/s, accuracy=0.63, loss=1.60]\n",
      "Train: 100% 2000/2000 [00:21<00:00, 94.98 step/s, accuracy=0.81, loss=0.88, step=230000] \n",
      "Valid: 100% 5664/5667 [00:01<00:00, 3129.25 uttr/s, accuracy=0.65, loss=1.60]\n",
      "Train:   1% 12/2000 [00:00<00:18, 106.35 step/s]"
     ]
    },
    {
     "name": "stdout",
     "output_type": "stream",
     "text": [
      "Step 230000, best model saved. (accuracy=0.6469)\n"
     ]
    },
    {
     "name": "stderr",
     "output_type": "stream",
     "text": [
      "Train: 100% 2000/2000 [00:19<00:00, 100.05 step/s, accuracy=0.81, loss=0.68, step=232000]\n",
      "Valid: 100% 5664/5667 [00:01<00:00, 3158.65 uttr/s, accuracy=0.63, loss=1.60]\n",
      "Train: 100% 2000/2000 [00:21<00:00, 93.94 step/s, accuracy=0.78, loss=0.78, step=234000] \n",
      "Valid: 100% 5664/5667 [00:01<00:00, 3251.52 uttr/s, accuracy=0.64, loss=1.57]\n",
      "Train: 100% 2000/2000 [00:20<00:00, 96.56 step/s, accuracy=0.72, loss=1.18, step=236000]\n",
      "Valid: 100% 5664/5667 [00:02<00:00, 2762.92 uttr/s, accuracy=0.64, loss=1.61]\n",
      "Train: 100% 2000/2000 [00:20<00:00, 96.89 step/s, accuracy=0.59, loss=1.24, step=238000] \n",
      "Valid: 100% 5664/5667 [00:01<00:00, 3215.95 uttr/s, accuracy=0.64, loss=1.56]\n",
      "Train: 100% 2000/2000 [00:21<00:00, 95.13 step/s, accuracy=0.66, loss=1.46, step=240000] \n",
      "Valid: 100% 5664/5667 [00:01<00:00, 3191.85 uttr/s, accuracy=0.64, loss=1.55]\n",
      "Train:   1% 21/2000 [00:00<00:19, 101.83 step/s]"
     ]
    },
    {
     "name": "stdout",
     "output_type": "stream",
     "text": [
      "Step 240000, best model saved. (accuracy=0.6469)\n"
     ]
    },
    {
     "name": "stderr",
     "output_type": "stream",
     "text": [
      "Train: 100% 2000/2000 [00:20<00:00, 96.44 step/s, accuracy=0.75, loss=1.29, step=242000] \n",
      "Valid: 100% 5664/5667 [00:01<00:00, 3244.70 uttr/s, accuracy=0.65, loss=1.56]\n",
      "Train: 100% 2000/2000 [00:21<00:00, 93.74 step/s, accuracy=0.62, loss=1.49, step=244000]\n",
      "Valid: 100% 5664/5667 [00:01<00:00, 3226.68 uttr/s, accuracy=0.64, loss=1.56]\n",
      "Train: 100% 2000/2000 [00:20<00:00, 97.89 step/s, accuracy=0.69, loss=1.27, step=246000]\n",
      "Valid: 100% 5664/5667 [00:02<00:00, 2492.74 uttr/s, accuracy=0.64, loss=1.57]\n",
      "Train: 100% 2000/2000 [00:20<00:00, 96.28 step/s, accuracy=0.66, loss=1.69, step=248000]\n",
      "Valid: 100% 5664/5667 [00:01<00:00, 3176.29 uttr/s, accuracy=0.64, loss=1.59]\n",
      "Train: 100% 2000/2000 [00:20<00:00, 98.19 step/s, accuracy=0.50, loss=1.47, step=250000] \n",
      "Valid: 100% 5664/5667 [00:01<00:00, 3208.13 uttr/s, accuracy=0.64, loss=1.54]\n",
      "Train:   1% 12/2000 [00:00<00:17, 110.76 step/s]"
     ]
    },
    {
     "name": "stdout",
     "output_type": "stream",
     "text": [
      "Step 250000, best model saved. (accuracy=0.6469)\n"
     ]
    },
    {
     "name": "stderr",
     "output_type": "stream",
     "text": [
      "Train: 100% 2000/2000 [00:21<00:00, 94.10 step/s, accuracy=0.78, loss=0.91, step=252000]\n",
      "Valid: 100% 5664/5667 [00:02<00:00, 2816.18 uttr/s, accuracy=0.64, loss=1.57]\n",
      "Train: 100% 2000/2000 [00:20<00:00, 96.50 step/s, accuracy=0.72, loss=1.13, step=254000] \n",
      "Valid: 100% 5664/5667 [00:01<00:00, 3076.21 uttr/s, accuracy=0.65, loss=1.55]\n",
      "Train: 100% 2000/2000 [00:20<00:00, 96.32 step/s, accuracy=0.69, loss=1.42, step=256000] \n",
      "Valid: 100% 5664/5667 [00:01<00:00, 3239.46 uttr/s, accuracy=0.64, loss=1.55]\n",
      "Train: 100% 2000/2000 [00:20<00:00, 96.64 step/s, accuracy=0.84, loss=0.84, step=258000]\n",
      "Valid: 100% 5664/5667 [00:01<00:00, 2919.44 uttr/s, accuracy=0.64, loss=1.56]\n",
      "Train: 100% 2000/2000 [00:20<00:00, 98.15 step/s, accuracy=0.81, loss=0.72, step=260000] \n",
      "Valid: 100% 5664/5667 [00:02<00:00, 2740.37 uttr/s, accuracy=0.66, loss=1.52]\n",
      "Train:   0% 9/2000 [00:00<00:24, 82.12 step/s]"
     ]
    },
    {
     "name": "stdout",
     "output_type": "stream",
     "text": [
      "Step 260000, best model saved. (accuracy=0.6566)\n"
     ]
    },
    {
     "name": "stderr",
     "output_type": "stream",
     "text": [
      "Train: 100% 2000/2000 [00:20<00:00, 99.75 step/s, accuracy=0.78, loss=1.14, step=262000] \n",
      "Valid: 100% 5664/5667 [00:01<00:00, 3134.57 uttr/s, accuracy=0.65, loss=1.55]\n",
      "Train: 100% 2000/2000 [00:20<00:00, 97.57 step/s, accuracy=0.59, loss=1.57, step=264000]\n",
      "Valid: 100% 5664/5667 [00:01<00:00, 2868.59 uttr/s, accuracy=0.65, loss=1.55]\n",
      "Train: 100% 2000/2000 [00:20<00:00, 98.01 step/s, accuracy=0.75, loss=1.09, step=266000]\n",
      "Valid: 100% 5664/5667 [00:01<00:00, 3238.17 uttr/s, accuracy=0.65, loss=1.52]\n",
      "Train: 100% 2000/2000 [00:20<00:00, 98.86 step/s, accuracy=0.66, loss=1.01, step=268000]\n",
      "Valid: 100% 5664/5667 [00:01<00:00, 3149.74 uttr/s, accuracy=0.66, loss=1.54]\n",
      "Train: 100% 2000/2000 [00:20<00:00, 96.96 step/s, accuracy=0.66, loss=1.69, step=270000]\n",
      "Valid: 100% 5664/5667 [00:02<00:00, 2829.83 uttr/s, accuracy=0.65, loss=1.53]\n",
      "Train:   1% 12/2000 [00:00<00:18, 107.63 step/s]"
     ]
    },
    {
     "name": "stdout",
     "output_type": "stream",
     "text": [
      "Step 270000, best model saved. (accuracy=0.6570)\n"
     ]
    },
    {
     "name": "stderr",
     "output_type": "stream",
     "text": [
      "Train: 100% 2000/2000 [00:20<00:00, 96.72 step/s, accuracy=0.75, loss=1.06, step=272000]\n",
      "Valid: 100% 5664/5667 [00:01<00:00, 3132.38 uttr/s, accuracy=0.65, loss=1.52]\n",
      "Train: 100% 2000/2000 [00:19<00:00, 100.58 step/s, accuracy=0.62, loss=2.29, step=274000]\n",
      "Valid: 100% 5664/5667 [00:01<00:00, 3219.21 uttr/s, accuracy=0.65, loss=1.52]\n",
      "Train: 100% 2000/2000 [00:20<00:00, 99.13 step/s, accuracy=0.78, loss=0.97, step=276000]\n",
      "Valid: 100% 5664/5667 [00:01<00:00, 2867.42 uttr/s, accuracy=0.65, loss=1.54]\n",
      "Train: 100% 2000/2000 [00:20<00:00, 96.27 step/s, accuracy=0.75, loss=1.24, step=278000] \n",
      "Valid: 100% 5664/5667 [00:01<00:00, 3255.33 uttr/s, accuracy=0.64, loss=1.53]\n",
      "Train: 100% 2000/2000 [00:19<00:00, 100.97 step/s, accuracy=0.72, loss=1.17, step=280000]\n",
      "Valid: 100% 5664/5667 [00:02<00:00, 2729.01 uttr/s, accuracy=0.65, loss=1.53]\n",
      "Train:   0% 6/2000 [00:00<00:33, 59.89 step/s]"
     ]
    },
    {
     "name": "stdout",
     "output_type": "stream",
     "text": [
      "Step 280000, best model saved. (accuracy=0.6570)\n"
     ]
    },
    {
     "name": "stderr",
     "output_type": "stream",
     "text": [
      "Train: 100% 2000/2000 [00:20<00:00, 98.38 step/s, accuracy=0.75, loss=0.84, step=282000]\n",
      "Valid: 100% 5664/5667 [00:01<00:00, 3045.42 uttr/s, accuracy=0.65, loss=1.53]\n",
      "Train: 100% 2000/2000 [00:21<00:00, 93.39 step/s, accuracy=0.81, loss=0.84, step=284000] \n",
      "Valid: 100% 5664/5667 [00:01<00:00, 3078.62 uttr/s, accuracy=0.65, loss=1.56]\n",
      "Train: 100% 2000/2000 [00:19<00:00, 100.30 step/s, accuracy=0.72, loss=1.12, step=286000]\n",
      "Valid: 100% 5664/5667 [00:01<00:00, 3264.51 uttr/s, accuracy=0.65, loss=1.51]\n",
      "Train: 100% 2000/2000 [00:19<00:00, 100.23 step/s, accuracy=0.62, loss=1.38, step=288000]\n",
      "Valid: 100% 5664/5667 [00:01<00:00, 3222.84 uttr/s, accuracy=0.66, loss=1.52]\n",
      "Train: 100% 2000/2000 [00:21<00:00, 92.28 step/s, accuracy=0.69, loss=1.21, step=290000]\n",
      "Valid: 100% 5664/5667 [00:01<00:00, 3269.81 uttr/s, accuracy=0.65, loss=1.52]\n",
      "Train:   1% 11/2000 [00:00<00:19, 103.05 step/s]"
     ]
    },
    {
     "name": "stdout",
     "output_type": "stream",
     "text": [
      "Step 290000, best model saved. (accuracy=0.6570)\n"
     ]
    },
    {
     "name": "stderr",
     "output_type": "stream",
     "text": [
      "Train: 100% 2000/2000 [00:20<00:00, 98.30 step/s, accuracy=0.69, loss=1.23, step=292000] \n",
      "Valid: 100% 5664/5667 [00:01<00:00, 3206.35 uttr/s, accuracy=0.66, loss=1.50]\n",
      "Train: 100% 2000/2000 [00:19<00:00, 100.73 step/s, accuracy=0.72, loss=1.13, step=294000]\n",
      "Valid: 100% 5664/5667 [00:01<00:00, 3103.16 uttr/s, accuracy=0.65, loss=1.53]\n",
      "Train: 100% 2000/2000 [00:21<00:00, 94.87 step/s, accuracy=0.69, loss=1.42, step=296000] \n",
      "Valid: 100% 5664/5667 [00:01<00:00, 3305.59 uttr/s, accuracy=0.65, loss=1.52]\n",
      "Train: 100% 2000/2000 [00:20<00:00, 98.68 step/s, accuracy=0.81, loss=0.86, step=298000] \n",
      "Valid: 100% 5664/5667 [00:01<00:00, 3102.94 uttr/s, accuracy=0.66, loss=1.52]\n",
      "Train: 100% 2000/2000 [00:19<00:00, 100.35 step/s, accuracy=0.72, loss=1.26, step=3e+5]\n",
      "Valid: 100% 5664/5667 [00:01<00:00, 2862.50 uttr/s, accuracy=0.65, loss=1.53]\n",
      "Train:   1% 11/2000 [00:00<00:18, 107.79 step/s]"
     ]
    },
    {
     "name": "stdout",
     "output_type": "stream",
     "text": [
      "Step 300000, best model saved. (accuracy=0.6587)\n"
     ]
    },
    {
     "name": "stderr",
     "output_type": "stream",
     "text": [
      "Train: 100% 2000/2000 [00:21<00:00, 94.94 step/s, accuracy=0.75, loss=0.84, step=302000]\n",
      "Valid: 100% 5664/5667 [00:01<00:00, 3066.31 uttr/s, accuracy=0.65, loss=1.54]\n",
      "Train: 100% 2000/2000 [00:21<00:00, 93.08 step/s, accuracy=0.94, loss=0.53, step=304000]\n",
      "Valid: 100% 5664/5667 [00:01<00:00, 3009.69 uttr/s, accuracy=0.66, loss=1.49]\n",
      "Train: 100% 2000/2000 [00:21<00:00, 94.45 step/s, accuracy=0.81, loss=0.63, step=306000]\n",
      "Valid: 100% 5664/5667 [00:01<00:00, 3169.14 uttr/s, accuracy=0.66, loss=1.49]\n",
      "Train: 100% 2000/2000 [00:21<00:00, 94.63 step/s, accuracy=0.62, loss=1.39, step=308000] \n",
      "Valid: 100% 5664/5667 [00:01<00:00, 3223.30 uttr/s, accuracy=0.66, loss=1.49]\n",
      "Train: 100% 2000/2000 [00:19<00:00, 100.08 step/s, accuracy=0.72, loss=0.85, step=310000]\n",
      "Valid: 100% 5664/5667 [00:01<00:00, 3255.25 uttr/s, accuracy=0.66, loss=1.52]\n",
      "Train:   1% 11/2000 [00:00<00:20, 98.85 step/s]"
     ]
    },
    {
     "name": "stdout",
     "output_type": "stream",
     "text": [
      "Step 310000, best model saved. (accuracy=0.6619)\n"
     ]
    },
    {
     "name": "stderr",
     "output_type": "stream",
     "text": [
      "Train: 100% 2000/2000 [00:20<00:00, 98.02 step/s, accuracy=0.69, loss=1.16, step=312000]\n",
      "Valid: 100% 5664/5667 [00:01<00:00, 3238.65 uttr/s, accuracy=0.66, loss=1.50]\n",
      "Train: 100% 2000/2000 [00:21<00:00, 92.21 step/s, accuracy=0.75, loss=0.99, step=314000]\n",
      "Valid: 100% 5664/5667 [00:01<00:00, 3189.69 uttr/s, accuracy=0.66, loss=1.47]\n",
      "Train: 100% 2000/2000 [00:19<00:00, 101.76 step/s, accuracy=0.69, loss=1.42, step=316000]\n",
      "Valid: 100% 5664/5667 [00:01<00:00, 3203.84 uttr/s, accuracy=0.66, loss=1.51]\n",
      "Train: 100% 2000/2000 [00:20<00:00, 98.78 step/s, accuracy=0.84, loss=0.85, step=318000] \n",
      "Valid: 100% 5664/5667 [00:01<00:00, 3256.95 uttr/s, accuracy=0.66, loss=1.50]\n",
      "Train: 100% 2000/2000 [00:21<00:00, 93.92 step/s, accuracy=0.78, loss=1.16, step=320000]\n",
      "Valid: 100% 5664/5667 [00:01<00:00, 3204.09 uttr/s, accuracy=0.66, loss=1.49]\n",
      "Train:   1% 12/2000 [00:00<00:17, 111.34 step/s]"
     ]
    },
    {
     "name": "stdout",
     "output_type": "stream",
     "text": [
      "Step 320000, best model saved. (accuracy=0.6645)\n"
     ]
    },
    {
     "name": "stderr",
     "output_type": "stream",
     "text": [
      "Train: 100% 2000/2000 [00:20<00:00, 99.64 step/s, accuracy=0.75, loss=1.09, step=322000]\n",
      "Valid: 100% 5664/5667 [00:01<00:00, 3121.85 uttr/s, accuracy=0.67, loss=1.45]\n",
      "Train: 100% 2000/2000 [00:20<00:00, 99.37 step/s, accuracy=0.69, loss=1.32, step=324000] \n",
      "Valid: 100% 5664/5667 [00:01<00:00, 3260.42 uttr/s, accuracy=0.66, loss=1.49]\n",
      "Train: 100% 2000/2000 [00:21<00:00, 94.37 step/s, accuracy=0.84, loss=0.66, step=326000]\n",
      "Valid: 100% 5664/5667 [00:01<00:00, 2932.75 uttr/s, accuracy=0.67, loss=1.46]\n",
      "Train: 100% 2000/2000 [00:19<00:00, 100.57 step/s, accuracy=0.50, loss=1.85, step=328000]\n",
      "Valid: 100% 5664/5667 [00:01<00:00, 2900.02 uttr/s, accuracy=0.67, loss=1.48]\n",
      "Train: 100% 2000/2000 [00:20<00:00, 97.51 step/s, accuracy=0.72, loss=0.96, step=330000] \n",
      "Valid: 100% 5664/5667 [00:01<00:00, 3155.27 uttr/s, accuracy=0.67, loss=1.47]\n",
      "Train:   1% 20/2000 [00:00<00:20, 95.20 step/s]"
     ]
    },
    {
     "name": "stdout",
     "output_type": "stream",
     "text": [
      "Step 330000, best model saved. (accuracy=0.6744)\n"
     ]
    },
    {
     "name": "stderr",
     "output_type": "stream",
     "text": [
      "Train: 100% 2000/2000 [00:20<00:00, 95.45 step/s, accuracy=0.72, loss=0.91, step=332000]\n",
      "Valid: 100% 5664/5667 [00:02<00:00, 2781.17 uttr/s, accuracy=0.67, loss=1.47]\n",
      "Train: 100% 2000/2000 [00:20<00:00, 97.91 step/s, accuracy=0.72, loss=0.93, step=334000]\n",
      "Valid: 100% 5664/5667 [00:01<00:00, 3207.79 uttr/s, accuracy=0.66, loss=1.48]\n",
      "Train: 100% 2000/2000 [00:19<00:00, 101.27 step/s, accuracy=0.81, loss=0.90, step=336000]\n",
      "Valid: 100% 5664/5667 [00:01<00:00, 3255.59 uttr/s, accuracy=0.66, loss=1.49]\n",
      "Train: 100% 2000/2000 [00:20<00:00, 97.09 step/s, accuracy=0.75, loss=0.88, step=338000]\n",
      "Valid: 100% 5664/5667 [00:01<00:00, 2845.61 uttr/s, accuracy=0.67, loss=1.48]\n",
      "Train: 100% 2000/2000 [00:20<00:00, 95.86 step/s, accuracy=0.66, loss=1.38, step=340000]\n",
      "Valid: 100% 5664/5667 [00:01<00:00, 3186.86 uttr/s, accuracy=0.67, loss=1.48]\n",
      "Train:   1% 11/2000 [00:00<00:19, 104.29 step/s]"
     ]
    },
    {
     "name": "stdout",
     "output_type": "stream",
     "text": [
      "Step 340000, best model saved. (accuracy=0.6744)\n"
     ]
    },
    {
     "name": "stderr",
     "output_type": "stream",
     "text": [
      "Train: 100% 2000/2000 [00:19<00:00, 100.96 step/s, accuracy=0.84, loss=0.61, step=342000]\n",
      "Valid: 100% 5664/5667 [00:01<00:00, 3190.89 uttr/s, accuracy=0.66, loss=1.51]\n",
      "Train: 100% 2000/2000 [00:19<00:00, 100.05 step/s, accuracy=0.50, loss=1.84, step=344000]\n",
      "Valid: 100% 5664/5667 [00:01<00:00, 3207.85 uttr/s, accuracy=0.67, loss=1.48]\n",
      "Train: 100% 2000/2000 [00:21<00:00, 92.31 step/s, accuracy=0.66, loss=0.94, step=346000] \n",
      "Valid: 100% 5664/5667 [00:01<00:00, 3218.70 uttr/s, accuracy=0.66, loss=1.49]\n",
      "Train: 100% 2000/2000 [00:19<00:00, 101.37 step/s, accuracy=0.75, loss=0.99, step=348000]\n",
      "Valid: 100% 5664/5667 [00:02<00:00, 2682.50 uttr/s, accuracy=0.67, loss=1.46]\n",
      "Train: 100% 2000/2000 [00:19<00:00, 101.52 step/s, accuracy=0.88, loss=0.84, step=350000]\n",
      "Valid: 100% 5664/5667 [00:01<00:00, 3221.52 uttr/s, accuracy=0.67, loss=1.45]\n",
      "Train:   1% 11/2000 [00:00<00:18, 106.67 step/s]"
     ]
    },
    {
     "name": "stdout",
     "output_type": "stream",
     "text": [
      "Step 350000, best model saved. (accuracy=0.6744)\n"
     ]
    },
    {
     "name": "stderr",
     "output_type": "stream",
     "text": [
      "Train: 100% 2000/2000 [00:21<00:00, 91.88 step/s, accuracy=0.78, loss=1.14, step=352000]\n",
      "Valid: 100% 5664/5667 [00:01<00:00, 3266.08 uttr/s, accuracy=0.67, loss=1.45]\n",
      "Train: 100% 2000/2000 [00:20<00:00, 99.10 step/s, accuracy=0.66, loss=0.99, step=354000] \n",
      "Valid: 100% 5664/5667 [00:01<00:00, 3201.57 uttr/s, accuracy=0.67, loss=1.45]\n",
      "Train: 100% 2000/2000 [00:19<00:00, 101.42 step/s, accuracy=0.91, loss=0.49, step=356000]\n",
      "Valid: 100% 5664/5667 [00:01<00:00, 3202.00 uttr/s, accuracy=0.67, loss=1.46]\n",
      "Train: 100% 2000/2000 [00:21<00:00, 92.72 step/s, accuracy=0.72, loss=1.08, step=358000]\n",
      "Valid: 100% 5664/5667 [00:01<00:00, 3203.49 uttr/s, accuracy=0.67, loss=1.44]\n",
      "Train: 100% 2000/2000 [00:20<00:00, 99.42 step/s, accuracy=0.81, loss=0.99, step=360000]\n",
      "Valid: 100% 5664/5667 [00:01<00:00, 3183.49 uttr/s, accuracy=0.67, loss=1.48]\n",
      "Train:   0% 0/2000 [00:00<?, ? step/s]"
     ]
    },
    {
     "name": "stdout",
     "output_type": "stream",
     "text": [
      "Step 360000, best model saved. (accuracy=0.6744)\n"
     ]
    },
    {
     "name": "stderr",
     "output_type": "stream",
     "text": [
      "Train: 100% 2000/2000 [00:20<00:00, 98.88 step/s, accuracy=0.62, loss=1.42, step=362000] \n",
      "Valid: 100% 5664/5667 [00:01<00:00, 3223.70 uttr/s, accuracy=0.66, loss=1.46]\n",
      "Train: 100% 2000/2000 [00:21<00:00, 93.38 step/s, accuracy=0.69, loss=1.10, step=364000]\n",
      "Valid: 100% 5664/5667 [00:01<00:00, 3054.56 uttr/s, accuracy=0.67, loss=1.46]\n",
      "Train: 100% 2000/2000 [00:20<00:00, 99.82 step/s, accuracy=0.72, loss=1.39, step=366000] \n",
      "Valid: 100% 5664/5667 [00:01<00:00, 3198.59 uttr/s, accuracy=0.67, loss=1.48]\n",
      "Train: 100% 2000/2000 [00:20<00:00, 97.25 step/s, accuracy=0.62, loss=1.33, step=368000]\n",
      "Valid: 100% 5664/5667 [00:01<00:00, 3218.17 uttr/s, accuracy=0.67, loss=1.47]\n",
      "Train: 100% 2000/2000 [00:20<00:00, 96.48 step/s, accuracy=0.78, loss=0.79, step=370000]\n",
      "Valid: 100% 5664/5667 [00:02<00:00, 2794.54 uttr/s, accuracy=0.67, loss=1.47]\n",
      "Train:   0% 10/2000 [00:00<00:22, 87.13 step/s]"
     ]
    },
    {
     "name": "stdout",
     "output_type": "stream",
     "text": [
      "Step 370000, best model saved. (accuracy=0.6744)\n"
     ]
    },
    {
     "name": "stderr",
     "output_type": "stream",
     "text": [
      "Train: 100% 2000/2000 [00:20<00:00, 98.28 step/s, accuracy=0.69, loss=0.90, step=372000] \n",
      "Valid: 100% 5664/5667 [00:01<00:00, 3160.96 uttr/s, accuracy=0.67, loss=1.44]\n",
      "Train: 100% 2000/2000 [00:20<00:00, 98.83 step/s, accuracy=0.78, loss=0.63, step=374000]\n",
      "Valid: 100% 5664/5667 [00:01<00:00, 3119.15 uttr/s, accuracy=0.66, loss=1.47]\n",
      "Train: 100% 2000/2000 [00:20<00:00, 97.86 step/s, accuracy=0.81, loss=0.79, step=376000]\n",
      "Valid: 100% 5664/5667 [00:01<00:00, 2890.85 uttr/s, accuracy=0.67, loss=1.46]\n",
      "Train: 100% 2000/2000 [00:21<00:00, 94.91 step/s, accuracy=0.75, loss=1.04, step=378000] \n",
      "Valid: 100% 5664/5667 [00:01<00:00, 3210.15 uttr/s, accuracy=0.67, loss=1.46]\n",
      "Train: 100% 2000/2000 [00:20<00:00, 99.40 step/s, accuracy=0.91, loss=0.46, step=380000] \n",
      "Valid: 100% 5664/5667 [00:01<00:00, 3272.30 uttr/s, accuracy=0.67, loss=1.45]\n",
      "Train:   1% 11/2000 [00:00<00:18, 109.01 step/s]"
     ]
    },
    {
     "name": "stdout",
     "output_type": "stream",
     "text": [
      "Step 380000, best model saved. (accuracy=0.6744)\n"
     ]
    },
    {
     "name": "stderr",
     "output_type": "stream",
     "text": [
      "Train: 100% 2000/2000 [00:19<00:00, 101.28 step/s, accuracy=0.66, loss=1.53, step=382000]\n",
      "Valid: 100% 5664/5667 [00:02<00:00, 2723.26 uttr/s, accuracy=0.67, loss=1.44]\n",
      "Train: 100% 2000/2000 [00:21<00:00, 92.27 step/s, accuracy=0.75, loss=0.97, step=384000]\n",
      "Valid: 100% 5664/5667 [00:01<00:00, 3262.36 uttr/s, accuracy=0.67, loss=1.44]\n",
      "Train: 100% 2000/2000 [00:20<00:00, 98.69 step/s, accuracy=0.81, loss=0.71, step=386000] \n",
      "Valid: 100% 5664/5667 [00:01<00:00, 3085.30 uttr/s, accuracy=0.67, loss=1.46]\n",
      "Train: 100% 2000/2000 [00:20<00:00, 98.66 step/s, accuracy=0.69, loss=1.55, step=388000] \n",
      "Valid: 100% 5664/5667 [00:01<00:00, 3316.73 uttr/s, accuracy=0.66, loss=1.47]\n",
      "Train: 100% 2000/2000 [00:21<00:00, 93.22 step/s, accuracy=0.84, loss=0.89, step=390000] \n",
      "Valid: 100% 5664/5667 [00:01<00:00, 3174.08 uttr/s, accuracy=0.67, loss=1.44]\n",
      "Train:   1% 11/2000 [00:00<00:18, 106.21 step/s]"
     ]
    },
    {
     "name": "stdout",
     "output_type": "stream",
     "text": [
      "Step 390000, best model saved. (accuracy=0.6750)\n"
     ]
    },
    {
     "name": "stderr",
     "output_type": "stream",
     "text": [
      "Train: 100% 2000/2000 [00:20<00:00, 98.37 step/s, accuracy=0.75, loss=0.78, step=392000]\n",
      "Valid: 100% 5664/5667 [00:01<00:00, 3313.63 uttr/s, accuracy=0.68, loss=1.46]\n",
      "Train: 100% 2000/2000 [00:20<00:00, 98.63 step/s, accuracy=0.78, loss=0.77, step=394000] \n",
      "Valid: 100% 5664/5667 [00:01<00:00, 3226.10 uttr/s, accuracy=0.67, loss=1.47]\n",
      "Train: 100% 2000/2000 [00:21<00:00, 92.98 step/s, accuracy=0.72, loss=0.95, step=396000] \n",
      "Valid: 100% 5664/5667 [00:02<00:00, 2660.80 uttr/s, accuracy=0.67, loss=1.44]\n",
      "Train: 100% 2000/2000 [00:19<00:00, 104.59 step/s, accuracy=0.81, loss=0.96, step=398000]\n",
      "Valid: 100% 5664/5667 [00:01<00:00, 3386.78 uttr/s, accuracy=0.68, loss=1.46]\n",
      "Train: 100% 2000/2000 [00:19<00:00, 103.00 step/s, accuracy=0.75, loss=1.33, step=4e+5]\n",
      "Valid: 100% 5664/5667 [00:01<00:00, 3197.98 uttr/s, accuracy=0.67, loss=1.46]\n",
      "Train:   0% 0/2000 [00:00<?, ? step/s]\n"
     ]
    },
    {
     "name": "stdout",
     "output_type": "stream",
     "text": [
      "Step 400000, best model saved. (accuracy=0.6785)\n"
     ]
    }
   ],
   "source": [
    "import torch\n",
    "import torch.nn as nn\n",
    "from torch.optim import AdamW\n",
    "from torch.utils.data import DataLoader, random_split\n",
    "from tqdm import tqdm\n",
    "\n",
    "def parse_args():\n",
    "    \"\"\"arguments\"\"\"\n",
    "    config = {\n",
    "        \"data_dir\": \"/kaggle/input/ml2022spring-hw4/Dataset\",\n",
    "        \"save_path\": \"model.ckpt\",\n",
    "        \"batch_size\": 32,\n",
    "        \"n_workers\": 8,\n",
    "        \"valid_steps\": 2000,\n",
    "        # fix warmup_steps\n",
    "        \"warmup_steps\": 1000,\n",
    "        \"save_steps\": 10000,\n",
    "        \"total_steps\": 400000,\n",
    "        \"resume\":False,\n",
    "    }\n",
    "    return config\n",
    "\n",
    "def main(\n",
    "    data_dir,\n",
    "    save_path,\n",
    "    batch_size,\n",
    "    n_workers,\n",
    "    valid_steps,\n",
    "    warmup_steps,\n",
    "    total_steps,\n",
    "    save_steps,\n",
    "    resume,\n",
    "):\n",
    "    \"\"\"Main function.\"\"\"\n",
    "    device = torch.device(\"cuda\" if torch.cuda.is_available() else \"cpu\")\n",
    "    print(f\"[Info]: Use {device} now!\")\n",
    "\n",
    "    train_loader, valid_loader, speaker_num = get_dataloader(data_dir, batch_size, n_workers)\n",
    "    train_iterator = iter(train_loader)\n",
    "    print(f\"[Info]: Finish loading data!\", flush=True)\n",
    "\n",
    "    model = Classifier(n_spks=speaker_num).to(device)\n",
    "    if resume:\n",
    "        model.load_state_dict(torch.load(\"/kaggle/input/model-file/model.ckpt\"))\n",
    "    criterion = nn.CrossEntropyLoss()\n",
    "    optimizer = AdamW(model.parameters(), lr=1e-3)\n",
    "    scheduler = get_cosine_schedule_with_warmup(optimizer, warmup_steps, total_steps)\n",
    "    print(f\"[Info]: Finish creating model!\", flush=True)\n",
    "\n",
    "    best_accuracy = -1.0\n",
    "    best_state_dict = None\n",
    "\n",
    "    pbar = tqdm(total=valid_steps, ncols=0, desc=\"Train\", unit=\" step\")\n",
    "\n",
    "    for step in range(total_steps):\n",
    "        # Get data\n",
    "        try:\n",
    "            batch = next(train_iterator)\n",
    "        except StopIteration:\n",
    "            train_iterator = iter(train_loader)\n",
    "            batch = next(train_iterator)\n",
    "\n",
    "        loss, accuracy = model_fn(batch, model, criterion, device)\n",
    "        batch_loss = loss.item()\n",
    "        batch_accuracy = accuracy.item()\n",
    "\n",
    "        # Updata model\n",
    "        loss.backward()\n",
    "        optimizer.step()\n",
    "        scheduler.step()\n",
    "        optimizer.zero_grad()\n",
    "\n",
    "        # Log\n",
    "        pbar.update()\n",
    "\n",
    "        if((step+1)%500==0):\n",
    "            pbar.set_postfix(\n",
    "                loss=f\"{batch_loss:.2f}\",\n",
    "                accuracy=f\"{batch_accuracy:.2f}\",\n",
    "                step=step + 1,\n",
    "            )            \n",
    "\n",
    "        # Do validation\n",
    "        if (step + 1) % valid_steps == 0:\n",
    "            pbar.close()\n",
    "\n",
    "            valid_accuracy = valid(valid_loader, model, criterion, device)\n",
    "\n",
    "            # keep the best model\n",
    "            if valid_accuracy > best_accuracy:\n",
    "                best_accuracy = valid_accuracy\n",
    "                best_state_dict = model.state_dict()\n",
    "\n",
    "            pbar = tqdm(total=valid_steps, ncols=0, desc=\"Train\", unit=\" step\")\n",
    "\n",
    "        # Save the best model so far.\n",
    "        if (step + 1) % save_steps == 0 and best_state_dict is not None:\n",
    "            torch.save(best_state_dict, save_path)\n",
    "            pbar.write(f\"Step {step + 1}, best model saved. (accuracy={best_accuracy:.4f})\")\n",
    "\n",
    "    pbar.close()\n",
    "\n",
    "if __name__ == \"__main__\":\n",
    "    main(**parse_args())\n"
   ]
  },
  {
   "cell_type": "markdown",
   "id": "9d878c85",
   "metadata": {
    "id": "NLatBYAhNNMx",
    "papermill": {
     "duration": 6.199251,
     "end_time": "2024-04-28T15:59:49.801912",
     "exception": false,
     "start_time": "2024-04-28T15:59:43.602661",
     "status": "completed"
    },
    "tags": []
   },
   "source": [
    "# Inference\n",
    "\n",
    "## Dataset of inference"
   ]
  },
  {
   "cell_type": "code",
   "execution_count": 10,
   "id": "0539a0e9",
   "metadata": {
    "execution": {
     "iopub.execute_input": "2024-04-28T16:00:02.259464Z",
     "iopub.status.busy": "2024-04-28T16:00:02.258393Z",
     "iopub.status.idle": "2024-04-28T16:00:02.266793Z",
     "shell.execute_reply": "2024-04-28T16:00:02.265939Z"
    },
    "id": "efS4pCmAJXJH",
    "papermill": {
     "duration": 6.282432,
     "end_time": "2024-04-28T16:00:02.268769",
     "exception": false,
     "start_time": "2024-04-28T15:59:55.986337",
     "status": "completed"
    },
    "tags": []
   },
   "outputs": [],
   "source": [
    "import os\n",
    "import json\n",
    "import torch\n",
    "from pathlib import Path\n",
    "from torch.utils.data import Dataset\n",
    "\n",
    "\n",
    "class InferenceDataset(Dataset):\n",
    "\tdef __init__(self, data_dir):\n",
    "\t\ttestdata_path = Path(data_dir) / \"testdata.json\"\n",
    "\t\tmetadata = json.load(testdata_path.open())\n",
    "\t\tself.data_dir = data_dir\n",
    "\t\tself.data = metadata[\"utterances\"]\n",
    "\n",
    "\tdef __len__(self):\n",
    "\t\treturn len(self.data)\n",
    "\n",
    "\tdef __getitem__(self, index):\n",
    "\t\tutterance = self.data[index]\n",
    "\t\tfeat_path = utterance[\"feature_path\"]\n",
    "\t\tmel = torch.load(os.path.join(self.data_dir, feat_path))\n",
    "\n",
    "\t\treturn feat_path, mel\n",
    "\n",
    "\n",
    "def inference_collate_batch(batch):\n",
    "\t\"\"\"Collate a batch of data.\"\"\"\n",
    "\tfeat_paths, mels = zip(*batch)\n",
    "\n",
    "\treturn feat_paths, torch.stack(mels)"
   ]
  },
  {
   "cell_type": "markdown",
   "id": "961c4ea4",
   "metadata": {
    "id": "tl0WnYwxNK_S",
    "papermill": {
     "duration": 6.221251,
     "end_time": "2024-04-28T16:00:14.753529",
     "exception": false,
     "start_time": "2024-04-28T16:00:08.532278",
     "status": "completed"
    },
    "tags": []
   },
   "source": [
    "## Main funcrion of Inference"
   ]
  },
  {
   "cell_type": "code",
   "execution_count": 11,
   "id": "07ae38c1",
   "metadata": {
    "execution": {
     "iopub.execute_input": "2024-04-28T16:00:27.247453Z",
     "iopub.status.busy": "2024-04-28T16:00:27.246693Z",
     "iopub.status.idle": "2024-04-28T16:00:44.398300Z",
     "shell.execute_reply": "2024-04-28T16:00:44.397405Z"
    },
    "id": "i8SAbuXEJb2A",
    "papermill": {
     "duration": 23.421722,
     "end_time": "2024-04-28T16:00:44.400228",
     "exception": false,
     "start_time": "2024-04-28T16:00:20.978506",
     "status": "completed"
    },
    "tags": []
   },
   "outputs": [
    {
     "name": "stdout",
     "output_type": "stream",
     "text": [
      "[Info]: Use cuda now!\n",
      "[Info]: Finish loading data!\n",
      "[Info]: Finish creating model!\n"
     ]
    },
    {
     "name": "stderr",
     "output_type": "stream",
     "text": [
      "/opt/conda/lib/python3.10/site-packages/torch/nn/modules/transformer.py:282: UserWarning: enable_nested_tensor is True, but self.use_nested_tensor is False because encoder_layer.self_attn.batch_first was not True(use batch_first for better inference performance)\n",
      "  warnings.warn(f\"enable_nested_tensor is True, but self.use_nested_tensor is False because {why_not_sparsity_fast_path}\")\n"
     ]
    },
    {
     "data": {
      "application/vnd.jupyter.widget-view+json": {
       "model_id": "eeab70ea9cad4ed8afb9184177607c1a",
       "version_major": 2,
       "version_minor": 0
      },
      "text/plain": [
       "  0%|          | 0/8000 [00:00<?, ?it/s]"
      ]
     },
     "metadata": {},
     "output_type": "display_data"
    }
   ],
   "source": [
    "import json\n",
    "import csv\n",
    "from pathlib import Path\n",
    "from tqdm.notebook import tqdm\n",
    "\n",
    "import torch\n",
    "from torch.utils.data import DataLoader\n",
    "\n",
    "def parse_args():\n",
    "\t\"\"\"arguments\"\"\"\n",
    "\tconfig = {\n",
    "\t\t\"data_dir\": \"/kaggle/input/ml2022spring-hw4/Dataset\",\n",
    "\t\t\"model_path\": \"./model.ckpt\",\n",
    "\t\t\"output_path\": \"./output.csv\",\n",
    "\t}\n",
    "\n",
    "\treturn config\n",
    "\n",
    "\n",
    "def main(\n",
    "\tdata_dir,\n",
    "\tmodel_path,\n",
    "\toutput_path,\n",
    "):\n",
    "\t\"\"\"Main function.\"\"\"\n",
    "\tdevice = torch.device(\"cuda\" if torch.cuda.is_available() else \"cpu\")\n",
    "\tprint(f\"[Info]: Use {device} now!\")\n",
    "\n",
    "\tmapping_path = Path(data_dir) / \"mapping.json\"\n",
    "\tmapping = json.load(mapping_path.open())\n",
    "\n",
    "\tdataset = InferenceDataset(data_dir)\n",
    "\tdataloader = DataLoader(\n",
    "\t\tdataset,\n",
    "\t\tbatch_size=1,\n",
    "\t\tshuffle=False,\n",
    "\t\tdrop_last=False,\n",
    "\t\tnum_workers=8,\n",
    "\t\tcollate_fn=inference_collate_batch,\n",
    "\t)\n",
    "\tprint(f\"[Info]: Finish loading data!\",flush = True)\n",
    "\n",
    "\tspeaker_num = len(mapping[\"id2speaker\"])\n",
    "\tmodel = Classifier(n_spks=speaker_num).to(device)\n",
    "\tmodel.load_state_dict(torch.load(model_path))\n",
    "\tmodel.eval()\n",
    "\tprint(f\"[Info]: Finish creating model!\",flush = True)\n",
    "\n",
    "\tresults = [[\"Id\", \"Category\"]]\n",
    "\tfor feat_paths, mels in tqdm(dataloader):\n",
    "\t\twith torch.no_grad():\n",
    "\t\t\tmels = mels.to(device)\n",
    "\t\t\touts = model(mels)\n",
    "\t\t\tpreds = outs.argmax(1).cpu().numpy()\n",
    "\t\t\tfor feat_path, pred in zip(feat_paths, preds):\n",
    "\t\t\t\tresults.append([feat_path, mapping[\"id2speaker\"][str(pred)]])\n",
    "\n",
    "\twith open(output_path, 'w', newline='') as csvfile:\n",
    "\t\twriter = csv.writer(csvfile)\n",
    "\t\twriter.writerows(results)\n",
    "\n",
    "\n",
    "if __name__ == \"__main__\":\n",
    "\tmain(**parse_args())"
   ]
  }
 ],
 "metadata": {
  "accelerator": "GPU",
  "colab": {
   "collapsed_sections": [],
   "name": "hw04.ipynb",
   "provenance": []
  },
  "kaggle": {
   "accelerator": "gpu",
   "dataSources": [
    {
     "databundleVersionId": 3328800,
     "sourceId": 34762,
     "sourceType": "competition"
    },
    {
     "datasetId": 4889250,
     "sourceId": 8253126,
     "sourceType": "datasetVersion"
    }
   ],
   "dockerImageVersionId": 30699,
   "isGpuEnabled": true,
   "isInternetEnabled": true,
   "language": "python",
   "sourceType": "notebook"
  },
  "kernelspec": {
   "display_name": "Python 3",
   "language": "python",
   "name": "python3"
  },
  "language_info": {
   "codemirror_mode": {
    "name": "ipython",
    "version": 3
   },
   "file_extension": ".py",
   "mimetype": "text/x-python",
   "name": "python",
   "nbconvert_exporter": "python",
   "pygments_lexer": "ipython3",
   "version": "3.10.13"
  },
  "papermill": {
   "default_parameters": {},
   "duration": 4552.532362,
   "end_time": "2024-04-28T16:00:52.055101",
   "environment_variables": {},
   "exception": null,
   "input_path": "__notebook__.ipynb",
   "output_path": "__notebook__.ipynb",
   "parameters": {},
   "start_time": "2024-04-28T14:44:59.522739",
   "version": "2.5.0"
  },
  "widgets": {
   "application/vnd.jupyter.widget-state+json": {
    "state": {
     "21c07e91a5da4d4c85df0c19ad2e9d5a": {
      "model_module": "@jupyter-widgets/base",
      "model_module_version": "1.2.0",
      "model_name": "LayoutModel",
      "state": {
       "_model_module": "@jupyter-widgets/base",
       "_model_module_version": "1.2.0",
       "_model_name": "LayoutModel",
       "_view_count": null,
       "_view_module": "@jupyter-widgets/base",
       "_view_module_version": "1.2.0",
       "_view_name": "LayoutView",
       "align_content": null,
       "align_items": null,
       "align_self": null,
       "border": null,
       "bottom": null,
       "display": null,
       "flex": null,
       "flex_flow": null,
       "grid_area": null,
       "grid_auto_columns": null,
       "grid_auto_flow": null,
       "grid_auto_rows": null,
       "grid_column": null,
       "grid_gap": null,
       "grid_row": null,
       "grid_template_areas": null,
       "grid_template_columns": null,
       "grid_template_rows": null,
       "height": null,
       "justify_content": null,
       "justify_items": null,
       "left": null,
       "margin": null,
       "max_height": null,
       "max_width": null,
       "min_height": null,
       "min_width": null,
       "object_fit": null,
       "object_position": null,
       "order": null,
       "overflow": null,
       "overflow_x": null,
       "overflow_y": null,
       "padding": null,
       "right": null,
       "top": null,
       "visibility": null,
       "width": null
      }
     },
     "43d93e08e96a4ce2acc6e683e17b2a3d": {
      "model_module": "@jupyter-widgets/controls",
      "model_module_version": "1.5.0",
      "model_name": "ProgressStyleModel",
      "state": {
       "_model_module": "@jupyter-widgets/controls",
       "_model_module_version": "1.5.0",
       "_model_name": "ProgressStyleModel",
       "_view_count": null,
       "_view_module": "@jupyter-widgets/base",
       "_view_module_version": "1.2.0",
       "_view_name": "StyleView",
       "bar_color": null,
       "description_width": ""
      }
     },
     "4654619559ff4552a41b229b950915bd": {
      "model_module": "@jupyter-widgets/base",
      "model_module_version": "1.2.0",
      "model_name": "LayoutModel",
      "state": {
       "_model_module": "@jupyter-widgets/base",
       "_model_module_version": "1.2.0",
       "_model_name": "LayoutModel",
       "_view_count": null,
       "_view_module": "@jupyter-widgets/base",
       "_view_module_version": "1.2.0",
       "_view_name": "LayoutView",
       "align_content": null,
       "align_items": null,
       "align_self": null,
       "border": null,
       "bottom": null,
       "display": null,
       "flex": null,
       "flex_flow": null,
       "grid_area": null,
       "grid_auto_columns": null,
       "grid_auto_flow": null,
       "grid_auto_rows": null,
       "grid_column": null,
       "grid_gap": null,
       "grid_row": null,
       "grid_template_areas": null,
       "grid_template_columns": null,
       "grid_template_rows": null,
       "height": null,
       "justify_content": null,
       "justify_items": null,
       "left": null,
       "margin": null,
       "max_height": null,
       "max_width": null,
       "min_height": null,
       "min_width": null,
       "object_fit": null,
       "object_position": null,
       "order": null,
       "overflow": null,
       "overflow_x": null,
       "overflow_y": null,
       "padding": null,
       "right": null,
       "top": null,
       "visibility": null,
       "width": null
      }
     },
     "7907c7087ee04fb78492e70e38ea4ae3": {
      "model_module": "@jupyter-widgets/controls",
      "model_module_version": "1.5.0",
      "model_name": "DescriptionStyleModel",
      "state": {
       "_model_module": "@jupyter-widgets/controls",
       "_model_module_version": "1.5.0",
       "_model_name": "DescriptionStyleModel",
       "_view_count": null,
       "_view_module": "@jupyter-widgets/base",
       "_view_module_version": "1.2.0",
       "_view_name": "StyleView",
       "description_width": ""
      }
     },
     "a6d7a9f5758b475e9f8c2a894682cfbd": {
      "model_module": "@jupyter-widgets/controls",
      "model_module_version": "1.5.0",
      "model_name": "FloatProgressModel",
      "state": {
       "_dom_classes": [],
       "_model_module": "@jupyter-widgets/controls",
       "_model_module_version": "1.5.0",
       "_model_name": "FloatProgressModel",
       "_view_count": null,
       "_view_module": "@jupyter-widgets/controls",
       "_view_module_version": "1.5.0",
       "_view_name": "ProgressView",
       "bar_style": "success",
       "description": "",
       "description_tooltip": null,
       "layout": "IPY_MODEL_e5ee2b9ce65c484099f265a2ca138d1e",
       "max": 8000.0,
       "min": 0.0,
       "orientation": "horizontal",
       "style": "IPY_MODEL_43d93e08e96a4ce2acc6e683e17b2a3d",
       "value": 8000.0
      }
     },
     "cc867a3d1adf400892a950cdafe64b09": {
      "model_module": "@jupyter-widgets/controls",
      "model_module_version": "1.5.0",
      "model_name": "HTMLModel",
      "state": {
       "_dom_classes": [],
       "_model_module": "@jupyter-widgets/controls",
       "_model_module_version": "1.5.0",
       "_model_name": "HTMLModel",
       "_view_count": null,
       "_view_module": "@jupyter-widgets/controls",
       "_view_module_version": "1.5.0",
       "_view_name": "HTMLView",
       "description": "",
       "description_tooltip": null,
       "layout": "IPY_MODEL_fe8933837b2d4cfb8751e167cad2668e",
       "placeholder": "​",
       "style": "IPY_MODEL_ece294db2fba4b6d9a3cc9f736f68d7d",
       "value": " 8000/8000 [00:17&lt;00:00, 477.05it/s]"
      }
     },
     "e5da63a39e574f79942a4e6005b5bb63": {
      "model_module": "@jupyter-widgets/controls",
      "model_module_version": "1.5.0",
      "model_name": "HTMLModel",
      "state": {
       "_dom_classes": [],
       "_model_module": "@jupyter-widgets/controls",
       "_model_module_version": "1.5.0",
       "_model_name": "HTMLModel",
       "_view_count": null,
       "_view_module": "@jupyter-widgets/controls",
       "_view_module_version": "1.5.0",
       "_view_name": "HTMLView",
       "description": "",
       "description_tooltip": null,
       "layout": "IPY_MODEL_4654619559ff4552a41b229b950915bd",
       "placeholder": "​",
       "style": "IPY_MODEL_7907c7087ee04fb78492e70e38ea4ae3",
       "value": "100%"
      }
     },
     "e5ee2b9ce65c484099f265a2ca138d1e": {
      "model_module": "@jupyter-widgets/base",
      "model_module_version": "1.2.0",
      "model_name": "LayoutModel",
      "state": {
       "_model_module": "@jupyter-widgets/base",
       "_model_module_version": "1.2.0",
       "_model_name": "LayoutModel",
       "_view_count": null,
       "_view_module": "@jupyter-widgets/base",
       "_view_module_version": "1.2.0",
       "_view_name": "LayoutView",
       "align_content": null,
       "align_items": null,
       "align_self": null,
       "border": null,
       "bottom": null,
       "display": null,
       "flex": null,
       "flex_flow": null,
       "grid_area": null,
       "grid_auto_columns": null,
       "grid_auto_flow": null,
       "grid_auto_rows": null,
       "grid_column": null,
       "grid_gap": null,
       "grid_row": null,
       "grid_template_areas": null,
       "grid_template_columns": null,
       "grid_template_rows": null,
       "height": null,
       "justify_content": null,
       "justify_items": null,
       "left": null,
       "margin": null,
       "max_height": null,
       "max_width": null,
       "min_height": null,
       "min_width": null,
       "object_fit": null,
       "object_position": null,
       "order": null,
       "overflow": null,
       "overflow_x": null,
       "overflow_y": null,
       "padding": null,
       "right": null,
       "top": null,
       "visibility": null,
       "width": null
      }
     },
     "ece294db2fba4b6d9a3cc9f736f68d7d": {
      "model_module": "@jupyter-widgets/controls",
      "model_module_version": "1.5.0",
      "model_name": "DescriptionStyleModel",
      "state": {
       "_model_module": "@jupyter-widgets/controls",
       "_model_module_version": "1.5.0",
       "_model_name": "DescriptionStyleModel",
       "_view_count": null,
       "_view_module": "@jupyter-widgets/base",
       "_view_module_version": "1.2.0",
       "_view_name": "StyleView",
       "description_width": ""
      }
     },
     "eeab70ea9cad4ed8afb9184177607c1a": {
      "model_module": "@jupyter-widgets/controls",
      "model_module_version": "1.5.0",
      "model_name": "HBoxModel",
      "state": {
       "_dom_classes": [],
       "_model_module": "@jupyter-widgets/controls",
       "_model_module_version": "1.5.0",
       "_model_name": "HBoxModel",
       "_view_count": null,
       "_view_module": "@jupyter-widgets/controls",
       "_view_module_version": "1.5.0",
       "_view_name": "HBoxView",
       "box_style": "",
       "children": [
        "IPY_MODEL_e5da63a39e574f79942a4e6005b5bb63",
        "IPY_MODEL_a6d7a9f5758b475e9f8c2a894682cfbd",
        "IPY_MODEL_cc867a3d1adf400892a950cdafe64b09"
       ],
       "layout": "IPY_MODEL_21c07e91a5da4d4c85df0c19ad2e9d5a"
      }
     },
     "fe8933837b2d4cfb8751e167cad2668e": {
      "model_module": "@jupyter-widgets/base",
      "model_module_version": "1.2.0",
      "model_name": "LayoutModel",
      "state": {
       "_model_module": "@jupyter-widgets/base",
       "_model_module_version": "1.2.0",
       "_model_name": "LayoutModel",
       "_view_count": null,
       "_view_module": "@jupyter-widgets/base",
       "_view_module_version": "1.2.0",
       "_view_name": "LayoutView",
       "align_content": null,
       "align_items": null,
       "align_self": null,
       "border": null,
       "bottom": null,
       "display": null,
       "flex": null,
       "flex_flow": null,
       "grid_area": null,
       "grid_auto_columns": null,
       "grid_auto_flow": null,
       "grid_auto_rows": null,
       "grid_column": null,
       "grid_gap": null,
       "grid_row": null,
       "grid_template_areas": null,
       "grid_template_columns": null,
       "grid_template_rows": null,
       "height": null,
       "justify_content": null,
       "justify_items": null,
       "left": null,
       "margin": null,
       "max_height": null,
       "max_width": null,
       "min_height": null,
       "min_width": null,
       "object_fit": null,
       "object_position": null,
       "order": null,
       "overflow": null,
       "overflow_x": null,
       "overflow_y": null,
       "padding": null,
       "right": null,
       "top": null,
       "visibility": null,
       "width": null
      }
     }
    },
    "version_major": 2,
    "version_minor": 0
   }
  }
 },
 "nbformat": 4,
 "nbformat_minor": 5
}
