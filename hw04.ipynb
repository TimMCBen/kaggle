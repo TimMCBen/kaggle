{
 "cells": [
  {
   "cell_type": "markdown",
   "id": "32091779",
   "metadata": {
    "id": "C_jdZ5vHJ4A9",
    "papermill": {
     "duration": 0.006785,
     "end_time": "2024-04-28T12:26:34.841982",
     "exception": false,
     "start_time": "2024-04-28T12:26:34.835197",
     "status": "completed"
    },
    "tags": []
   },
   "source": [
    "# Task description\n",
    "- Classify the speakers of given features.\n",
    "- Main goal: Learn how to use transformer.\n",
    "- Baselines:\n",
    "  - Easy: Run sample code and know how to use transformer.\n",
    "  - Medium: Know how to adjust parameters of transformer.\n",
    "  - Strong: Construct [conformer](https://arxiv.org/abs/2005.08100) which is a variety of transformer. \n",
    "  - Boss: Implement [Self-Attention Pooling](https://arxiv.org/pdf/2008.01077v1.pdf) & [Additive Margin Softmax](https://arxiv.org/pdf/1801.05599.pdf) to further boost the performance.\n",
    "\n",
    "- Other links\n",
    "  - Kaggle: [link](https://www.kaggle.com/t/ac77388c90204a4c8daebeddd40ff916)\n",
    "  - Slide: [link](https://docs.google.com/presentation/d/1HLAj7UUIjZOycDe7DaVLSwJfXVd3bXPOyzSb6Zk3hYU/edit?usp=sharing)\n",
    "  - Data: [link](https://github.com/MachineLearningHW/ML_HW4_Dataset)\n",
    "\n",
    "# Download dataset\n",
    "- Data is [here](https://github.com/MachineLearningHW/ML_HW4_Dataset)"
   ]
  },
  {
   "cell_type": "code",
   "execution_count": 1,
   "id": "7b837b0f",
   "metadata": {
    "execution": {
     "iopub.execute_input": "2024-04-28T12:26:34.856896Z",
     "iopub.status.busy": "2024-04-28T12:26:34.856239Z",
     "iopub.status.idle": "2024-04-28T12:26:34.869847Z",
     "shell.execute_reply": "2024-04-28T12:26:34.868998Z"
    },
    "id": "LhLNWB-AK2Z5",
    "papermill": {
     "duration": 0.023266,
     "end_time": "2024-04-28T12:26:34.871756",
     "exception": false,
     "start_time": "2024-04-28T12:26:34.848490",
     "status": "completed"
    },
    "tags": []
   },
   "outputs": [
    {
     "data": {
      "text/plain": [
       "'\\nIf the links below become inaccessible, please connect TAs.\\n'"
      ]
     },
     "execution_count": 1,
     "metadata": {},
     "output_type": "execute_result"
    }
   ],
   "source": [
    "\"\"\"\n",
    "If the links below become inaccessible, please connect TAs.\n",
    "\"\"\"\n",
    "\n",
    "# !wget https://github.com/MachineLearningHW/ML_HW4_Dataset/raw/0.0.1/Dataset.tar.gz.partaa\n",
    "# !wget https://github.com/MachineLearningHW/ML_HW4_Dataset/raw/0.0.1/Dataset.tar.gz.partab\n",
    "# !wget https://github.com/MachineLearningHW/ML_HW4_Dataset/raw/0.0.1/Dataset.tar.gz.partac\n",
    "# !wget https://github.com/MachineLearningHW/ML_HW4_Dataset/raw/0.0.1/Dataset.tar.gz.partad\n",
    "\n",
    "# !cat Dataset.tar.gz.parta* > Dataset.tar.gz\n",
    "\n",
    "# !tar zxvf Dataset.tar.gz"
   ]
  },
  {
   "cell_type": "markdown",
   "id": "1a708cb7",
   "metadata": {
    "id": "ENWVAUDVJtVY",
    "papermill": {
     "duration": 0.006087,
     "end_time": "2024-04-28T12:26:34.884245",
     "exception": false,
     "start_time": "2024-04-28T12:26:34.878158",
     "status": "completed"
    },
    "tags": []
   },
   "source": [
    "## Fix Random Seed"
   ]
  },
  {
   "cell_type": "code",
   "execution_count": 2,
   "id": "b14bb304",
   "metadata": {
    "execution": {
     "iopub.execute_input": "2024-04-28T12:26:34.898305Z",
     "iopub.status.busy": "2024-04-28T12:26:34.898013Z",
     "iopub.status.idle": "2024-04-28T12:26:38.551781Z",
     "shell.execute_reply": "2024-04-28T12:26:38.550975Z"
    },
    "id": "E6burzCXIyuA",
    "papermill": {
     "duration": 3.663637,
     "end_time": "2024-04-28T12:26:38.554224",
     "exception": false,
     "start_time": "2024-04-28T12:26:34.890587",
     "status": "completed"
    },
    "tags": []
   },
   "outputs": [],
   "source": [
    "import numpy as np\n",
    "import torch\n",
    "import random\n",
    "\n",
    "def set_seed(seed):\n",
    "    np.random.seed(seed)\n",
    "    random.seed(seed)\n",
    "    torch.manual_seed(seed)\n",
    "    if torch.cuda.is_available():\n",
    "        torch.cuda.manual_seed(seed)\n",
    "        torch.cuda.manual_seed_all(seed)\n",
    "    torch.backends.cudnn.benchmark = False\n",
    "    torch.backends.cudnn.deterministic = True\n",
    "\n",
    "set_seed(87)"
   ]
  },
  {
   "cell_type": "markdown",
   "id": "013af280",
   "metadata": {
    "id": "k7dVbxW2LASN",
    "papermill": {
     "duration": 0.006385,
     "end_time": "2024-04-28T12:26:38.567178",
     "exception": false,
     "start_time": "2024-04-28T12:26:38.560793",
     "status": "completed"
    },
    "tags": []
   },
   "source": [
    "# Data\n",
    "\n",
    "## Dataset\n",
    "- Original dataset is [Voxceleb2](https://www.robots.ox.ac.uk/~vgg/data/voxceleb/vox2.html).\n",
    "- The [license](https://creativecommons.org/licenses/by/4.0/) and [complete version](https://www.robots.ox.ac.uk/~vgg/data/voxceleb/files/license.txt) of Voxceleb2.\n",
    "- We randomly select 600 speakers from Voxceleb2.\n",
    "- Then preprocess the raw waveforms into mel-spectrograms.\n",
    "\n",
    "- Args:\n",
    "  - data_dir: The path to the data directory.\n",
    "  - metadata_path: The path to the metadata.\n",
    "  - segment_len: The length of audio segment for training. \n",
    "- The architecture of data directory \\\\\n",
    "  - data directory \\\\\n",
    "  |---- metadata.json \\\\\n",
    "  |---- testdata.json \\\\\n",
    "  |---- mapping.json \\\\\n",
    "  |---- uttr-{random string}.pt \\\\\n",
    "\n",
    "- The information in metadata\n",
    "  - \"n_mels\": The dimention of mel-spectrogram.\n",
    "  - \"speakers\": A dictionary. \n",
    "    - Key: speaker ids.\n",
    "    - value: \"feature_path\" and \"mel_len\"\n",
    "\n",
    "\n",
    "For efficiency, we segment the mel-spectrograms into segments in the traing step."
   ]
  },
  {
   "cell_type": "code",
   "execution_count": 3,
   "id": "c1d30af0",
   "metadata": {
    "execution": {
     "iopub.execute_input": "2024-04-28T12:26:38.581084Z",
     "iopub.status.busy": "2024-04-28T12:26:38.580646Z",
     "iopub.status.idle": "2024-04-28T12:26:38.592152Z",
     "shell.execute_reply": "2024-04-28T12:26:38.591414Z"
    },
    "id": "KpuGxl4CI2pr",
    "papermill": {
     "duration": 0.021438,
     "end_time": "2024-04-28T12:26:38.594842",
     "exception": false,
     "start_time": "2024-04-28T12:26:38.573404",
     "status": "completed"
    },
    "tags": []
   },
   "outputs": [],
   "source": [
    "import os\n",
    "import json\n",
    "import torch\n",
    "import random\n",
    "from pathlib import Path\n",
    "from torch.utils.data import Dataset\n",
    "from torch.nn.utils.rnn import pad_sequence\n",
    " \n",
    " \n",
    "class myDataset(Dataset):\n",
    "\tdef __init__(self, data_dir, segment_len=128):\n",
    "\t\tself.data_dir = data_dir\n",
    "\t\tself.segment_len = segment_len\n",
    "\t\n",
    "\t\t# Load the mapping from speaker neme to their corresponding id. \n",
    "\t\tmapping_path = Path(data_dir) / \"mapping.json\"\n",
    "\t\tmapping = json.load(mapping_path.open())\n",
    "\t\tself.speaker2id = mapping[\"speaker2id\"]\n",
    "\t\n",
    "\t\t# Load metadata of training data.\n",
    "\t\tmetadata_path = Path(data_dir) / \"metadata.json\"\n",
    "\t\tmetadata = json.load(open(metadata_path))[\"speakers\"]\n",
    "\t\n",
    "\t\t# Get the total number of speaker.\n",
    "\t\tself.speaker_num = len(metadata.keys())\n",
    "\t\tself.data = []\n",
    "\t\tfor speaker in metadata.keys():\n",
    "\t\t\tfor utterances in metadata[speaker]:\n",
    "\t\t\t\tself.data.append([utterances[\"feature_path\"], self.speaker2id[speaker]])\n",
    " \n",
    "\tdef __len__(self):\n",
    "\t\t\treturn len(self.data)\n",
    " \n",
    "\tdef __getitem__(self, index):\n",
    "\t\tfeat_path, speaker = self.data[index]\n",
    "\t\t# Load preprocessed mel-spectrogram.\n",
    "\t\tmel = torch.load(os.path.join(self.data_dir, feat_path))\n",
    "\n",
    "\t\t# Segmemt mel-spectrogram into \"segment_len\" frames.\n",
    "\t\tif len(mel) > self.segment_len:\n",
    "\t\t\t# Randomly get the starting point of the segment.\n",
    "\t\t\tstart = random.randint(0, len(mel) - self.segment_len)\n",
    "\t\t\t# Get a segment with \"segment_len\" frames.\n",
    "\t\t\tmel = torch.FloatTensor(mel[start:start+self.segment_len])\n",
    "\t\telse:\n",
    "\t\t\tmel = torch.FloatTensor(mel)\n",
    "\t\t# Turn the speaker id into long for computing loss later.\n",
    "\t\tspeaker = torch.FloatTensor([speaker]).long()\n",
    "\t\treturn mel, speaker\n",
    " \n",
    "\tdef get_speaker_number(self):\n",
    "\t\treturn self.speaker_num"
   ]
  },
  {
   "cell_type": "markdown",
   "id": "c7bf9e14",
   "metadata": {
    "id": "668hverTMlGN",
    "papermill": {
     "duration": 0.006044,
     "end_time": "2024-04-28T12:26:38.607509",
     "exception": false,
     "start_time": "2024-04-28T12:26:38.601465",
     "status": "completed"
    },
    "tags": []
   },
   "source": [
    "## Dataloader\n",
    "- Split dataset into training dataset(90%) and validation dataset(10%).\n",
    "- Create dataloader to iterate the data."
   ]
  },
  {
   "cell_type": "code",
   "execution_count": 4,
   "id": "c129f810",
   "metadata": {
    "execution": {
     "iopub.execute_input": "2024-04-28T12:26:38.621115Z",
     "iopub.status.busy": "2024-04-28T12:26:38.620830Z",
     "iopub.status.idle": "2024-04-28T12:26:38.629193Z",
     "shell.execute_reply": "2024-04-28T12:26:38.628460Z"
    },
    "id": "B7c2gZYoJDRS",
    "papermill": {
     "duration": 0.017396,
     "end_time": "2024-04-28T12:26:38.631054",
     "exception": false,
     "start_time": "2024-04-28T12:26:38.613658",
     "status": "completed"
    },
    "tags": []
   },
   "outputs": [],
   "source": [
    "import torch\n",
    "from torch.utils.data import DataLoader, random_split\n",
    "from torch.nn.utils.rnn import pad_sequence\n",
    "\n",
    "\n",
    "def collate_batch(batch):\n",
    "\t# Process features within a batch.\n",
    "\t\"\"\"Collate a batch of data.\"\"\"\n",
    "\tmel, speaker = zip(*batch)\n",
    "\t# Because we train the model batch by batch, we need to pad the features in the same batch to make their lengths the same.\n",
    "\tmel = pad_sequence(mel, batch_first=True, padding_value=-20)    # pad log 10^(-20) which is very small value.\n",
    "\t# mel: (batch size, length, 40)\n",
    "\treturn mel, torch.FloatTensor(speaker).long()\n",
    "\n",
    "\n",
    "def get_dataloader(data_dir, batch_size, n_workers):\n",
    "\t\"\"\"Generate dataloader\"\"\"\n",
    "\tdataset = myDataset(data_dir)\n",
    "\tspeaker_num = dataset.get_speaker_number()\n",
    "\t# Split dataset into training dataset and validation dataset\n",
    "\ttrainlen = int(0.9 * len(dataset))\n",
    "\tlengths = [trainlen, len(dataset) - trainlen]\n",
    "\ttrainset, validset = random_split(dataset, lengths)\n",
    "\n",
    "\ttrain_loader = DataLoader(\n",
    "\t\ttrainset,\n",
    "\t\tbatch_size=batch_size,\n",
    "\t\tshuffle=True,\n",
    "\t\tdrop_last=True,\n",
    "\t\tnum_workers=n_workers,\n",
    "\t\tpin_memory=True,\n",
    "\t\tcollate_fn=collate_batch,\n",
    "\t)\n",
    "\tvalid_loader = DataLoader(\n",
    "\t\tvalidset,\n",
    "\t\tbatch_size=batch_size,\n",
    "\t\tnum_workers=n_workers,\n",
    "\t\tdrop_last=True,\n",
    "\t\tpin_memory=True,\n",
    "\t\tcollate_fn=collate_batch,\n",
    "\t)\n",
    "\n",
    "\treturn train_loader, valid_loader, speaker_num"
   ]
  },
  {
   "cell_type": "markdown",
   "id": "8d5708c1",
   "metadata": {
    "id": "5FOSZYxrMqhc",
    "papermill": {
     "duration": 0.005953,
     "end_time": "2024-04-28T12:26:38.643189",
     "exception": false,
     "start_time": "2024-04-28T12:26:38.637236",
     "status": "completed"
    },
    "tags": []
   },
   "source": [
    "# Model\n",
    "- TransformerEncoderLayer:\n",
    "  - Base transformer encoder layer in [Attention Is All You Need](https://arxiv.org/abs/1706.03762)\n",
    "  - Parameters:\n",
    "    - d_model: the number of expected features of the input (required).\n",
    "\n",
    "    - nhead: the number of heads of the multiheadattention models (required).\n",
    "\n",
    "    - dim_feedforward: the dimension of the feedforward network model (default=2048).\n",
    "\n",
    "    - dropout: the dropout value (default=0.1).\n",
    "\n",
    "    - activation: the activation function of intermediate layer, relu or gelu (default=relu).\n",
    "\n",
    "- TransformerEncoder:\n",
    "  - TransformerEncoder is a stack of N transformer encoder layers\n",
    "  - Parameters:\n",
    "    - encoder_layer: an instance of the TransformerEncoderLayer() class (required).\n",
    "\n",
    "    - num_layers: the number of sub-encoder-layers in the encoder (required).\n",
    "\n",
    "    - norm: the layer normalization component (optional)."
   ]
  },
  {
   "cell_type": "code",
   "execution_count": 5,
   "id": "fed37c58",
   "metadata": {
    "execution": {
     "iopub.execute_input": "2024-04-28T12:26:38.656646Z",
     "iopub.status.busy": "2024-04-28T12:26:38.656375Z",
     "iopub.status.idle": "2024-04-28T12:26:38.664322Z",
     "shell.execute_reply": "2024-04-28T12:26:38.663522Z"
    },
    "id": "iXZ5B0EKJGs8",
    "papermill": {
     "duration": 0.016881,
     "end_time": "2024-04-28T12:26:38.666182",
     "exception": false,
     "start_time": "2024-04-28T12:26:38.649301",
     "status": "completed"
    },
    "tags": []
   },
   "outputs": [],
   "source": [
    "import torch\n",
    "import torch.nn as nn\n",
    "import torch.nn.functional as F\n",
    "\n",
    "\n",
    "class Classifier(nn.Module):\n",
    "\tdef __init__(self, d_model=256, n_spks=600, dropout=0.1):\n",
    "\t\tsuper().__init__()\n",
    "\t\t# Project the dimension of features from that of input into d_model.\n",
    "\t\tself.prenet = nn.Linear(40, d_model)\n",
    "\t\t# TODO:\n",
    "\t\t#   Change Transformer to Conformer.\n",
    "\t\t#   https://arxiv.org/abs/2005.08100\n",
    "\t\tself.encoder_layer = nn.TransformerEncoderLayer(\n",
    "\t\t\td_model=d_model, dim_feedforward=256, nhead=1\n",
    "\t\t)\n",
    "\t\t# self.encoder = nn.TransformerEncoder(self.encoder_layer, num_layers=2)\n",
    "\n",
    "\t\t# Project the the dimension of features from d_model into speaker nums.\n",
    "\t\tself.pred_layer = nn.Sequential(\n",
    "#  \t\t\tnn.Linear(d_model, d_model),\n",
    "  \t\t\tnn.ReLU(),\n",
    "\t\t\tnn.Linear(d_model, n_spks),\n",
    "\t\t)\n",
    "\n",
    "\tdef forward(self, mels):\n",
    "\t\t\"\"\"\n",
    "\t\targs:\n",
    "\t\t\tmels: (batch size, length, 40)\n",
    "\t\treturn:\n",
    "\t\t\tout: (batch size, n_spks)\n",
    "\t\t\"\"\"\n",
    "\t\t# out: (batch size, length, d_model)\n",
    "\t\tout = self.prenet(mels)\n",
    "\t\t# out: (length, batch size, d_model)\n",
    "\t\tout = out.permute(1, 0, 2)\n",
    "\t\t# The encoder layer expect features in the shape of (length, batch size, d_model).\n",
    "\t\tout = self.encoder_layer(out)\n",
    "\t\t# out: (batch size, length, d_model)\n",
    "\t\tout = out.transpose(0, 1)\n",
    "\t\t# mean pooling\n",
    "\t\tstats = out.mean(dim=1)\n",
    "\n",
    "\t\t# out: (batch, n_spks)\n",
    "\t\tout = self.pred_layer(stats)\n",
    "\t\treturn out"
   ]
  },
  {
   "cell_type": "markdown",
   "id": "b529d765",
   "metadata": {
    "id": "W7yX8JinM5Ly",
    "papermill": {
     "duration": 0.005881,
     "end_time": "2024-04-28T12:26:38.678246",
     "exception": false,
     "start_time": "2024-04-28T12:26:38.672365",
     "status": "completed"
    },
    "tags": []
   },
   "source": [
    "# Learning rate schedule\n",
    "- For transformer architecture, the design of learning rate schedule is different from that of CNN.\n",
    "- Previous works show that the warmup of learning rate is useful for training models with transformer architectures.\n",
    "- The warmup schedule\n",
    "  - Set learning rate to 0 in the beginning.\n",
    "  - The learning rate increases linearly from 0 to initial learning rate during warmup period."
   ]
  },
  {
   "cell_type": "code",
   "execution_count": 6,
   "id": "1c33288e",
   "metadata": {
    "execution": {
     "iopub.execute_input": "2024-04-28T12:26:38.692779Z",
     "iopub.status.busy": "2024-04-28T12:26:38.692122Z",
     "iopub.status.idle": "2024-04-28T12:26:38.699844Z",
     "shell.execute_reply": "2024-04-28T12:26:38.699065Z"
    },
    "id": "ykt0N1nVJJi2",
    "papermill": {
     "duration": 0.016541,
     "end_time": "2024-04-28T12:26:38.701618",
     "exception": false,
     "start_time": "2024-04-28T12:26:38.685077",
     "status": "completed"
    },
    "tags": []
   },
   "outputs": [],
   "source": [
    "import math\n",
    "\n",
    "import torch\n",
    "from torch.optim import Optimizer\n",
    "from torch.optim.lr_scheduler import LambdaLR\n",
    "\n",
    "\n",
    "def get_cosine_schedule_with_warmup(\n",
    "\toptimizer: Optimizer,\n",
    "\tnum_warmup_steps: int,\n",
    "\tnum_training_steps: int,\n",
    "\tnum_cycles: float = 0.5,\n",
    "\tlast_epoch: int = -1,\n",
    "):\n",
    "\t\"\"\"\n",
    "\tCreate a schedule with a learning rate that decreases following the values of the cosine function between the\n",
    "\tinitial lr set in the optimizer to 0, after a warmup period during which it increases linearly between 0 and the\n",
    "\tinitial lr set in the optimizer.\n",
    "\n",
    "\tArgs:\n",
    "\t\toptimizer (:class:`~torch.optim.Optimizer`):\n",
    "\t\tThe optimizer for which to schedule the learning rate.\n",
    "\t\tnum_warmup_steps (:obj:`int`):\n",
    "\t\tThe number of steps for the warmup phase.\n",
    "\t\tnum_training_steps (:obj:`int`):\n",
    "\t\tThe total number of training steps.\n",
    "\t\tnum_cycles (:obj:`float`, `optional`, defaults to 0.5):\n",
    "\t\tThe number of waves in the cosine schedule (the defaults is to just decrease from the max value to 0\n",
    "\t\tfollowing a half-cosine).\n",
    "\t\tlast_epoch (:obj:`int`, `optional`, defaults to -1):\n",
    "\t\tThe index of the last epoch when resuming training.\n",
    "\n",
    "\tReturn:\n",
    "\t\t:obj:`torch.optim.lr_scheduler.LambdaLR` with the appropriate schedule.\n",
    "\t\"\"\"\n",
    "\tdef lr_lambda(current_step):\n",
    "\t\t# Warmup\n",
    "\t\tif current_step < num_warmup_steps:\n",
    "\t\t\treturn float(current_step) / float(max(1, num_warmup_steps))\n",
    "\t\t# decadence\n",
    "\t\tprogress = float(current_step - num_warmup_steps) / float(\n",
    "\t\t\tmax(1, num_training_steps - num_warmup_steps)\n",
    "\t\t)\n",
    "\t\treturn max(\n",
    "\t\t\t0.0, 0.5 * (1.0 + math.cos(math.pi * float(num_cycles) * 2.0 * progress))\n",
    "\t\t)\n",
    "\n",
    "\treturn LambdaLR(optimizer, lr_lambda, last_epoch)"
   ]
  },
  {
   "cell_type": "markdown",
   "id": "802e2258",
   "metadata": {
    "id": "-LN2XkteM_uH",
    "papermill": {
     "duration": 0.005936,
     "end_time": "2024-04-28T12:26:38.713642",
     "exception": false,
     "start_time": "2024-04-28T12:26:38.707706",
     "status": "completed"
    },
    "tags": []
   },
   "source": [
    "# Model Function\n",
    "- Model forward function."
   ]
  },
  {
   "cell_type": "code",
   "execution_count": 7,
   "id": "5db8a5cf",
   "metadata": {
    "execution": {
     "iopub.execute_input": "2024-04-28T12:26:38.727225Z",
     "iopub.status.busy": "2024-04-28T12:26:38.726979Z",
     "iopub.status.idle": "2024-04-28T12:26:38.732461Z",
     "shell.execute_reply": "2024-04-28T12:26:38.731632Z"
    },
    "id": "N-rr8529JMz0",
    "papermill": {
     "duration": 0.014432,
     "end_time": "2024-04-28T12:26:38.734441",
     "exception": false,
     "start_time": "2024-04-28T12:26:38.720009",
     "status": "completed"
    },
    "tags": []
   },
   "outputs": [],
   "source": [
    "import torch\n",
    "\n",
    "\n",
    "def model_fn(batch, model, criterion, device):\n",
    "\t\"\"\"Forward a batch through the model.\"\"\"\n",
    "\n",
    "\tmels, labels = batch\n",
    "\tmels = mels.to(device)\n",
    "\tlabels = labels.to(device)\n",
    "\n",
    "\touts = model(mels)\n",
    "\n",
    "\tloss = criterion(outs, labels)\n",
    "\n",
    "\t# Get the speaker id with highest probability.\n",
    "\tpreds = outs.argmax(1)\n",
    "\t# Compute accuracy.\n",
    "\taccuracy = torch.mean((preds == labels).float())\n",
    "\n",
    "\treturn loss, accuracy"
   ]
  },
  {
   "cell_type": "markdown",
   "id": "4585f4c8",
   "metadata": {
    "id": "cwM_xyOtNCI2",
    "papermill": {
     "duration": 0.005847,
     "end_time": "2024-04-28T12:26:38.746462",
     "exception": false,
     "start_time": "2024-04-28T12:26:38.740615",
     "status": "completed"
    },
    "tags": []
   },
   "source": [
    "# Validate\n",
    "- Calculate accuracy of the validation set."
   ]
  },
  {
   "cell_type": "code",
   "execution_count": 8,
   "id": "d922d248",
   "metadata": {
    "execution": {
     "iopub.execute_input": "2024-04-28T12:26:38.760099Z",
     "iopub.status.busy": "2024-04-28T12:26:38.759470Z",
     "iopub.status.idle": "2024-04-28T12:26:38.766880Z",
     "shell.execute_reply": "2024-04-28T12:26:38.766070Z"
    },
    "id": "YAiv6kpdJRTJ",
    "papermill": {
     "duration": 0.01632,
     "end_time": "2024-04-28T12:26:38.768836",
     "exception": false,
     "start_time": "2024-04-28T12:26:38.752516",
     "status": "completed"
    },
    "tags": []
   },
   "outputs": [],
   "source": [
    "from tqdm import tqdm\n",
    "import torch\n",
    "\n",
    "\n",
    "def valid(dataloader, model, criterion, device): \n",
    "\t\"\"\"Validate on validation set.\"\"\"\n",
    "\n",
    "\tmodel.eval()\n",
    "\trunning_loss = 0.0\n",
    "\trunning_accuracy = 0.0\n",
    "\tpbar = tqdm(total=len(dataloader.dataset), ncols=0, desc=\"Valid\", unit=\" uttr\")\n",
    "\n",
    "\tfor i, batch in enumerate(dataloader):\n",
    "\t\twith torch.no_grad():\n",
    "\t\t\tloss, accuracy = model_fn(batch, model, criterion, device)\n",
    "\t\t\trunning_loss += loss.item()\n",
    "\t\t\trunning_accuracy += accuracy.item()\n",
    "\n",
    "\t\tpbar.update(dataloader.batch_size)\n",
    "\t\tpbar.set_postfix(\n",
    "\t\t\tloss=f\"{running_loss / (i+1):.2f}\",\n",
    "\t\t\taccuracy=f\"{running_accuracy / (i+1):.2f}\",\n",
    "\t\t)\n",
    "\n",
    "\tpbar.close()\n",
    "\tmodel.train()\n",
    "\n",
    "\treturn running_accuracy / len(dataloader)"
   ]
  },
  {
   "cell_type": "markdown",
   "id": "8efd4ddc",
   "metadata": {
    "id": "g6ne9G-eNEdG",
    "papermill": {
     "duration": 0.005841,
     "end_time": "2024-04-28T12:26:38.780862",
     "exception": false,
     "start_time": "2024-04-28T12:26:38.775021",
     "status": "completed"
    },
    "tags": []
   },
   "source": [
    "# Main function"
   ]
  },
  {
   "cell_type": "code",
   "execution_count": 9,
   "id": "3b02d912",
   "metadata": {
    "execution": {
     "iopub.execute_input": "2024-04-28T12:26:38.794609Z",
     "iopub.status.busy": "2024-04-28T12:26:38.794362Z",
     "iopub.status.idle": "2024-04-28T13:39:25.314321Z",
     "shell.execute_reply": "2024-04-28T13:39:25.313147Z"
    },
    "id": "Usv9s-CuJSG7",
    "papermill": {
     "duration": 4366.529137,
     "end_time": "2024-04-28T13:39:25.316353",
     "exception": false,
     "start_time": "2024-04-28T12:26:38.787216",
     "status": "completed"
    },
    "tags": []
   },
   "outputs": [
    {
     "name": "stdout",
     "output_type": "stream",
     "text": [
      "[Info]: Use cuda now!\n"
     ]
    },
    {
     "name": "stderr",
     "output_type": "stream",
     "text": [
      "/opt/conda/lib/python3.10/site-packages/torch/utils/data/dataloader.py:557: UserWarning: This DataLoader will create 8 worker processes in total. Our suggested max number of worker in current system is 4, which is smaller than what this DataLoader is going to create. Please be aware that excessive worker creation might get DataLoader running slow or even freeze, lower the worker number to avoid potential slowness/freeze if necessary.\n",
      "  warnings.warn(_create_warning_msg(\n"
     ]
    },
    {
     "name": "stdout",
     "output_type": "stream",
     "text": [
      "[Info]: Finish loading data!\n",
      "[Info]: Finish creating model!\n"
     ]
    },
    {
     "name": "stderr",
     "output_type": "stream",
     "text": [
      "Train:  79% 1587/2000 [00:59<00:17, 24.25 step/s, accuracy=0.22, loss=3.98, step=1500]/opt/conda/lib/python3.10/site-packages/torch/utils/data/dataloader.py:557: UserWarning: This DataLoader will create 8 worker processes in total. Our suggested max number of worker in current system is 4, which is smaller than what this DataLoader is going to create. Please be aware that excessive worker creation might get DataLoader running slow or even freeze, lower the worker number to avoid potential slowness/freeze if necessary.\n",
      "  warnings.warn(_create_warning_msg(\n",
      "Train: 100% 2000/2000 [01:03<00:00, 31.36 step/s, accuracy=0.38, loss=3.46, step=2000] \n",
      "Valid: 100% 5664/5667 [00:06<00:00, 810.01 uttr/s, accuracy=0.22, loss=3.79]\n",
      "Train: 100% 2000/2000 [00:19<00:00, 102.77 step/s, accuracy=0.47, loss=2.66, step=4000]\n",
      "Valid: 100% 5664/5667 [00:01<00:00, 3370.63 uttr/s, accuracy=0.34, loss=3.05]\n",
      "Train: 100% 2000/2000 [00:19<00:00, 102.88 step/s, accuracy=0.44, loss=2.57, step=6000]\n",
      "Valid: 100% 5664/5667 [00:01<00:00, 3302.33 uttr/s, accuracy=0.42, loss=2.63]\n",
      "Train: 100% 2000/2000 [00:19<00:00, 102.60 step/s, accuracy=0.62, loss=1.69, step=8000]\n",
      "Valid: 100% 5664/5667 [00:01<00:00, 3306.97 uttr/s, accuracy=0.46, loss=2.39]\n",
      "Train: 100% 2000/2000 [00:19<00:00, 101.97 step/s, accuracy=0.56, loss=1.98, step=1e+4]\n",
      "Valid: 100% 5664/5667 [00:01<00:00, 3268.92 uttr/s, accuracy=0.50, loss=2.24]\n",
      "Train:   1% 24/2000 [00:00<00:16, 117.14 step/s]"
     ]
    },
    {
     "name": "stdout",
     "output_type": "stream",
     "text": [
      "Step 10000, best model saved. (accuracy=0.4975)\n"
     ]
    },
    {
     "name": "stderr",
     "output_type": "stream",
     "text": [
      "Train: 100% 2000/2000 [00:20<00:00, 99.44 step/s, accuracy=0.56, loss=2.17, step=12000] \n",
      "Valid: 100% 5664/5667 [00:01<00:00, 3127.30 uttr/s, accuracy=0.52, loss=2.12]\n",
      "Train: 100% 2000/2000 [00:19<00:00, 103.46 step/s, accuracy=0.75, loss=1.15, step=14000]\n",
      "Valid: 100% 5664/5667 [00:01<00:00, 2837.52 uttr/s, accuracy=0.54, loss=2.03]\n",
      "Train: 100% 2000/2000 [00:19<00:00, 100.94 step/s, accuracy=0.66, loss=1.62, step=16000]\n",
      "Valid: 100% 5664/5667 [00:01<00:00, 3260.57 uttr/s, accuracy=0.56, loss=1.95]\n",
      "Train: 100% 2000/2000 [00:19<00:00, 103.01 step/s, accuracy=0.69, loss=1.33, step=18000]\n",
      "Valid: 100% 5664/5667 [00:01<00:00, 3347.64 uttr/s, accuracy=0.57, loss=1.96]\n",
      "Train: 100% 2000/2000 [00:19<00:00, 105.12 step/s, accuracy=0.66, loss=1.13, step=2e+4]\n",
      "Valid: 100% 5664/5667 [00:01<00:00, 3293.53 uttr/s, accuracy=0.56, loss=1.97]\n",
      "Train:   1% 11/2000 [00:00<00:19, 103.34 step/s]"
     ]
    },
    {
     "name": "stdout",
     "output_type": "stream",
     "text": [
      "Step 20000, best model saved. (accuracy=0.5667)\n"
     ]
    },
    {
     "name": "stderr",
     "output_type": "stream",
     "text": [
      "Train: 100% 2000/2000 [00:19<00:00, 101.62 step/s, accuracy=0.62, loss=1.58, step=22000]\n",
      "Valid: 100% 5664/5667 [00:01<00:00, 3217.44 uttr/s, accuracy=0.58, loss=1.85]\n",
      "Train: 100% 2000/2000 [00:19<00:00, 101.38 step/s, accuracy=0.78, loss=0.95, step=24000]\n",
      "Valid: 100% 5664/5667 [00:01<00:00, 3295.31 uttr/s, accuracy=0.59, loss=1.81]\n",
      "Train: 100% 2000/2000 [00:19<00:00, 104.04 step/s, accuracy=0.75, loss=1.26, step=26000]\n",
      "Valid: 100% 5664/5667 [00:01<00:00, 3199.15 uttr/s, accuracy=0.59, loss=1.83]\n",
      "Train: 100% 2000/2000 [00:19<00:00, 101.32 step/s, accuracy=0.81, loss=1.05, step=28000]\n",
      "Valid: 100% 5664/5667 [00:01<00:00, 3182.96 uttr/s, accuracy=0.59, loss=1.81]\n",
      "Train: 100% 2000/2000 [00:19<00:00, 103.18 step/s, accuracy=0.75, loss=1.06, step=3e+4]\n",
      "Valid: 100% 5664/5667 [00:01<00:00, 3216.32 uttr/s, accuracy=0.60, loss=1.79]\n",
      "Train:   1% 12/2000 [00:00<00:17, 115.18 step/s]"
     ]
    },
    {
     "name": "stdout",
     "output_type": "stream",
     "text": [
      "Step 30000, best model saved. (accuracy=0.5962)\n"
     ]
    },
    {
     "name": "stderr",
     "output_type": "stream",
     "text": [
      "Train: 100% 2000/2000 [00:19<00:00, 103.47 step/s, accuracy=0.56, loss=1.32, step=32000]\n",
      "Valid: 100% 5664/5667 [00:01<00:00, 3267.29 uttr/s, accuracy=0.59, loss=1.86]\n",
      "Train: 100% 2000/2000 [00:19<00:00, 101.63 step/s, accuracy=0.47, loss=1.63, step=34000]\n",
      "Valid: 100% 5664/5667 [00:01<00:00, 3192.05 uttr/s, accuracy=0.61, loss=1.78]\n",
      "Train: 100% 2000/2000 [00:19<00:00, 101.91 step/s, accuracy=0.59, loss=1.55, step=36000]\n",
      "Valid: 100% 5664/5667 [00:01<00:00, 3210.34 uttr/s, accuracy=0.61, loss=1.73]\n",
      "Train: 100% 2000/2000 [00:19<00:00, 105.02 step/s, accuracy=0.75, loss=1.10, step=38000]\n",
      "Valid: 100% 5664/5667 [00:01<00:00, 3388.12 uttr/s, accuracy=0.62, loss=1.70]\n",
      "Train: 100% 2000/2000 [00:20<00:00, 96.84 step/s, accuracy=0.75, loss=1.16, step=4e+4] \n",
      "Valid: 100% 5664/5667 [00:01<00:00, 3219.05 uttr/s, accuracy=0.62, loss=1.70]\n",
      "Train:   1% 12/2000 [00:00<00:17, 115.24 step/s]"
     ]
    },
    {
     "name": "stdout",
     "output_type": "stream",
     "text": [
      "Step 40000, best model saved. (accuracy=0.6199)\n"
     ]
    },
    {
     "name": "stderr",
     "output_type": "stream",
     "text": [
      "Train: 100% 2000/2000 [00:20<00:00, 99.16 step/s, accuracy=0.56, loss=1.34, step=42000] \n",
      "Valid: 100% 5664/5667 [00:01<00:00, 3126.06 uttr/s, accuracy=0.61, loss=1.80]\n",
      "Train: 100% 2000/2000 [00:20<00:00, 98.05 step/s, accuracy=0.66, loss=1.87, step=44000]\n",
      "Valid: 100% 5664/5667 [00:01<00:00, 3009.15 uttr/s, accuracy=0.63, loss=1.66]\n",
      "Train: 100% 2000/2000 [00:20<00:00, 99.82 step/s, accuracy=0.66, loss=1.03, step=46000] \n",
      "Valid: 100% 5664/5667 [00:01<00:00, 3288.71 uttr/s, accuracy=0.64, loss=1.64]\n",
      "Train: 100% 2000/2000 [00:20<00:00, 96.72 step/s, accuracy=0.69, loss=1.36, step=48000] \n",
      "Valid: 100% 5664/5667 [00:01<00:00, 3301.41 uttr/s, accuracy=0.61, loss=1.74]\n",
      "Train: 100% 2000/2000 [00:20<00:00, 95.90 step/s, accuracy=0.66, loss=1.25, step=5e+4] \n",
      "Valid: 100% 5664/5667 [00:01<00:00, 3236.47 uttr/s, accuracy=0.64, loss=1.62]\n",
      "Train:   0% 10/2000 [00:00<00:20, 95.34 step/s]"
     ]
    },
    {
     "name": "stdout",
     "output_type": "stream",
     "text": [
      "Step 50000, best model saved. (accuracy=0.6395)\n"
     ]
    },
    {
     "name": "stderr",
     "output_type": "stream",
     "text": [
      "Train: 100% 2000/2000 [00:19<00:00, 101.46 step/s, accuracy=0.66, loss=1.15, step=52000]\n",
      "Valid: 100% 5664/5667 [00:02<00:00, 2563.08 uttr/s, accuracy=0.61, loss=1.77]\n",
      "Train: 100% 2000/2000 [00:20<00:00, 99.43 step/s, accuracy=0.62, loss=1.39, step=54000] \n",
      "Valid: 100% 5664/5667 [00:02<00:00, 2402.06 uttr/s, accuracy=0.63, loss=1.72]\n",
      "Train: 100% 2000/2000 [00:21<00:00, 95.22 step/s, accuracy=0.66, loss=1.52, step=56000] \n",
      "Valid: 100% 5664/5667 [00:02<00:00, 2441.97 uttr/s, accuracy=0.61, loss=1.73]\n",
      "Train: 100% 2000/2000 [00:19<00:00, 102.01 step/s, accuracy=0.69, loss=1.16, step=58000]\n",
      "Valid: 100% 5664/5667 [00:02<00:00, 2136.88 uttr/s, accuracy=0.63, loss=1.70]\n",
      "Train: 100% 2000/2000 [00:20<00:00, 99.25 step/s, accuracy=0.59, loss=1.41, step=6e+4] \n",
      "Valid: 100% 5664/5667 [00:02<00:00, 2283.37 uttr/s, accuracy=0.63, loss=1.73]\n",
      "Train:   1% 22/2000 [00:00<00:18, 107.50 step/s]"
     ]
    },
    {
     "name": "stdout",
     "output_type": "stream",
     "text": [
      "Step 60000, best model saved. (accuracy=0.6395)\n"
     ]
    },
    {
     "name": "stderr",
     "output_type": "stream",
     "text": [
      "Train: 100% 2000/2000 [00:19<00:00, 101.91 step/s, accuracy=0.78, loss=0.99, step=62000]\n",
      "Valid: 100% 5664/5667 [00:01<00:00, 3332.20 uttr/s, accuracy=0.63, loss=1.65]\n",
      "Train: 100% 2000/2000 [00:19<00:00, 101.30 step/s, accuracy=0.69, loss=1.30, step=64000]\n",
      "Valid: 100% 5664/5667 [00:01<00:00, 3001.54 uttr/s, accuracy=0.62, loss=1.75]\n",
      "Train: 100% 2000/2000 [00:19<00:00, 105.07 step/s, accuracy=0.81, loss=0.85, step=66000]\n",
      "Valid: 100% 5664/5667 [00:01<00:00, 3257.72 uttr/s, accuracy=0.64, loss=1.62]\n",
      "Train: 100% 2000/2000 [00:19<00:00, 101.16 step/s, accuracy=0.69, loss=1.07, step=68000]\n",
      "Valid: 100% 5664/5667 [00:01<00:00, 3358.33 uttr/s, accuracy=0.60, loss=1.85]\n",
      "Train: 100% 2000/2000 [00:19<00:00, 102.70 step/s, accuracy=0.72, loss=1.26, step=7e+4]\n",
      "Valid: 100% 5664/5667 [00:01<00:00, 2920.02 uttr/s, accuracy=0.64, loss=1.67]\n",
      "Train:   1% 20/2000 [00:00<00:20, 98.33 step/s]"
     ]
    },
    {
     "name": "stdout",
     "output_type": "stream",
     "text": [
      "Step 70000, best model saved. (accuracy=0.6411)\n"
     ]
    },
    {
     "name": "stderr",
     "output_type": "stream",
     "text": [
      "Train: 100% 2000/2000 [00:19<00:00, 102.31 step/s, accuracy=0.66, loss=1.21, step=72000]\n",
      "Valid: 100% 5664/5667 [00:01<00:00, 3169.49 uttr/s, accuracy=0.65, loss=1.61]\n",
      "Train: 100% 2000/2000 [00:19<00:00, 100.94 step/s, accuracy=0.81, loss=1.08, step=74000]\n",
      "Valid: 100% 5664/5667 [00:01<00:00, 3250.62 uttr/s, accuracy=0.66, loss=1.53]\n",
      "Train: 100% 2000/2000 [00:19<00:00, 103.84 step/s, accuracy=0.72, loss=1.12, step=76000]\n",
      "Valid: 100% 5664/5667 [00:01<00:00, 2915.80 uttr/s, accuracy=0.67, loss=1.51]\n",
      "Train: 100% 2000/2000 [00:19<00:00, 103.71 step/s, accuracy=0.78, loss=0.93, step=78000]\n",
      "Valid: 100% 5664/5667 [00:01<00:00, 3200.05 uttr/s, accuracy=0.66, loss=1.53]\n",
      "Train: 100% 2000/2000 [00:19<00:00, 100.15 step/s, accuracy=0.88, loss=0.73, step=8e+4]\n",
      "Valid: 100% 5664/5667 [00:01<00:00, 3267.01 uttr/s, accuracy=0.67, loss=1.53]\n",
      "Train:   1% 11/2000 [00:00<00:18, 107.28 step/s]"
     ]
    },
    {
     "name": "stdout",
     "output_type": "stream",
     "text": [
      "Step 80000, best model saved. (accuracy=0.6681)\n"
     ]
    },
    {
     "name": "stderr",
     "output_type": "stream",
     "text": [
      "Train: 100% 2000/2000 [00:19<00:00, 103.03 step/s, accuracy=0.66, loss=1.41, step=82000]\n",
      "Valid: 100% 5664/5667 [00:01<00:00, 3057.54 uttr/s, accuracy=0.65, loss=1.55]\n",
      "Train: 100% 2000/2000 [00:19<00:00, 104.47 step/s, accuracy=0.62, loss=1.45, step=84000]\n",
      "Valid: 100% 5664/5667 [00:01<00:00, 3317.58 uttr/s, accuracy=0.68, loss=1.47]\n",
      "Train: 100% 2000/2000 [00:19<00:00, 100.98 step/s, accuracy=0.81, loss=0.78, step=86000]\n",
      "Valid: 100% 5664/5667 [00:01<00:00, 3225.46 uttr/s, accuracy=0.67, loss=1.50]\n",
      "Train: 100% 2000/2000 [00:19<00:00, 101.66 step/s, accuracy=0.84, loss=0.78, step=88000]\n",
      "Valid: 100% 5664/5667 [00:01<00:00, 3128.68 uttr/s, accuracy=0.68, loss=1.45]\n",
      "Train: 100% 2000/2000 [00:19<00:00, 102.62 step/s, accuracy=0.78, loss=0.93, step=9e+4]\n",
      "Valid: 100% 5664/5667 [00:01<00:00, 3315.76 uttr/s, accuracy=0.67, loss=1.49]\n",
      "Train:   1% 12/2000 [00:00<00:17, 114.04 step/s]"
     ]
    },
    {
     "name": "stdout",
     "output_type": "stream",
     "text": [
      "Step 90000, best model saved. (accuracy=0.6833)\n"
     ]
    },
    {
     "name": "stderr",
     "output_type": "stream",
     "text": [
      "Train: 100% 2000/2000 [00:19<00:00, 101.44 step/s, accuracy=0.78, loss=0.86, step=92000]\n",
      "Valid: 100% 5664/5667 [00:01<00:00, 3137.72 uttr/s, accuracy=0.67, loss=1.51]\n",
      "Train: 100% 2000/2000 [00:19<00:00, 102.03 step/s, accuracy=0.72, loss=0.95, step=94000]\n",
      "Valid: 100% 5664/5667 [00:01<00:00, 3232.41 uttr/s, accuracy=0.66, loss=1.56]\n",
      "Train: 100% 2000/2000 [00:19<00:00, 102.32 step/s, accuracy=0.91, loss=0.47, step=96000]\n",
      "Valid: 100% 5664/5667 [00:01<00:00, 3345.11 uttr/s, accuracy=0.68, loss=1.46]\n",
      "Train: 100% 2000/2000 [00:19<00:00, 100.66 step/s, accuracy=0.69, loss=1.13, step=98000]\n",
      "Valid: 100% 5664/5667 [00:01<00:00, 3200.87 uttr/s, accuracy=0.66, loss=1.54]\n",
      "Train: 100% 2000/2000 [00:19<00:00, 101.99 step/s, accuracy=0.66, loss=1.02, step=1e+5]\n",
      "Valid: 100% 5664/5667 [00:01<00:00, 3244.03 uttr/s, accuracy=0.68, loss=1.44]\n",
      "Train:   1% 20/2000 [00:00<00:20, 98.83 step/s]"
     ]
    },
    {
     "name": "stdout",
     "output_type": "stream",
     "text": [
      "Step 100000, best model saved. (accuracy=0.6833)\n"
     ]
    },
    {
     "name": "stderr",
     "output_type": "stream",
     "text": [
      "Train: 100% 2000/2000 [00:19<00:00, 101.12 step/s, accuracy=0.78, loss=1.00, step=102000]\n",
      "Valid: 100% 5664/5667 [00:01<00:00, 3192.03 uttr/s, accuracy=0.67, loss=1.52]\n",
      "Train: 100% 2000/2000 [00:19<00:00, 100.08 step/s, accuracy=0.72, loss=0.96, step=104000]\n",
      "Valid: 100% 5664/5667 [00:01<00:00, 3176.26 uttr/s, accuracy=0.69, loss=1.39]\n",
      "Train: 100% 2000/2000 [00:19<00:00, 101.51 step/s, accuracy=0.88, loss=0.61, step=106000]\n",
      "Valid: 100% 5664/5667 [00:01<00:00, 3192.28 uttr/s, accuracy=0.68, loss=1.45]\n",
      "Train: 100% 2000/2000 [00:20<00:00, 99.90 step/s, accuracy=0.78, loss=0.68, step=108000] \n",
      "Valid: 100% 5664/5667 [00:01<00:00, 3224.95 uttr/s, accuracy=0.67, loss=1.56]\n",
      "Train: 100% 2000/2000 [00:20<00:00, 97.88 step/s, accuracy=0.75, loss=0.73, step=110000]\n",
      "Valid: 100% 5664/5667 [00:01<00:00, 3260.19 uttr/s, accuracy=0.67, loss=1.55]\n",
      "Train:   1% 11/2000 [00:00<00:19, 102.44 step/s]"
     ]
    },
    {
     "name": "stdout",
     "output_type": "stream",
     "text": [
      "Step 110000, best model saved. (accuracy=0.6933)\n"
     ]
    },
    {
     "name": "stderr",
     "output_type": "stream",
     "text": [
      "Train: 100% 2000/2000 [00:19<00:00, 101.19 step/s, accuracy=0.88, loss=0.56, step=112000]\n",
      "Valid: 100% 5664/5667 [00:01<00:00, 3277.44 uttr/s, accuracy=0.68, loss=1.52]\n",
      "Train: 100% 2000/2000 [00:19<00:00, 102.71 step/s, accuracy=0.75, loss=0.75, step=114000]\n",
      "Valid: 100% 5664/5667 [00:01<00:00, 2969.29 uttr/s, accuracy=0.67, loss=1.53]\n",
      "Train: 100% 2000/2000 [00:19<00:00, 101.60 step/s, accuracy=0.94, loss=0.50, step=116000]\n",
      "Valid: 100% 5664/5667 [00:01<00:00, 3035.03 uttr/s, accuracy=0.68, loss=1.44]\n",
      "Train: 100% 2000/2000 [00:19<00:00, 101.05 step/s, accuracy=0.75, loss=0.99, step=118000]\n",
      "Valid: 100% 5664/5667 [00:01<00:00, 3186.97 uttr/s, accuracy=0.69, loss=1.39]\n",
      "Train: 100% 2000/2000 [00:19<00:00, 100.87 step/s, accuracy=0.81, loss=0.64, step=120000]\n",
      "Valid: 100% 5664/5667 [00:01<00:00, 2867.43 uttr/s, accuracy=0.69, loss=1.43]\n",
      "Train:   1% 12/2000 [00:00<00:17, 116.05 step/s]"
     ]
    },
    {
     "name": "stdout",
     "output_type": "stream",
     "text": [
      "Step 120000, best model saved. (accuracy=0.6933)\n"
     ]
    },
    {
     "name": "stderr",
     "output_type": "stream",
     "text": [
      "Train: 100% 2000/2000 [00:19<00:00, 103.63 step/s, accuracy=0.88, loss=0.53, step=122000]\n",
      "Valid: 100% 5664/5667 [00:01<00:00, 3055.59 uttr/s, accuracy=0.71, loss=1.33]\n",
      "Train: 100% 2000/2000 [00:19<00:00, 101.26 step/s, accuracy=0.78, loss=0.77, step=124000]\n",
      "Valid: 100% 5664/5667 [00:01<00:00, 3278.42 uttr/s, accuracy=0.69, loss=1.44]\n",
      "Train: 100% 2000/2000 [00:20<00:00, 98.08 step/s, accuracy=0.88, loss=0.48, step=126000]\n",
      "Valid: 100% 5664/5667 [00:01<00:00, 3161.54 uttr/s, accuracy=0.69, loss=1.46]\n",
      "Train: 100% 2000/2000 [00:19<00:00, 103.59 step/s, accuracy=0.88, loss=0.68, step=128000]\n",
      "Valid: 100% 5664/5667 [00:01<00:00, 3265.00 uttr/s, accuracy=0.69, loss=1.44]\n",
      "Train: 100% 2000/2000 [00:19<00:00, 100.11 step/s, accuracy=0.88, loss=0.63, step=130000]\n",
      "Valid: 100% 5664/5667 [00:01<00:00, 3263.39 uttr/s, accuracy=0.68, loss=1.46]\n",
      "Train:   1% 13/2000 [00:00<00:15, 126.13 step/s]"
     ]
    },
    {
     "name": "stdout",
     "output_type": "stream",
     "text": [
      "Step 130000, best model saved. (accuracy=0.7069)\n"
     ]
    },
    {
     "name": "stderr",
     "output_type": "stream",
     "text": [
      "Train: 100% 2000/2000 [00:20<00:00, 99.34 step/s, accuracy=0.91, loss=0.57, step=132000] \n",
      "Valid: 100% 5664/5667 [00:01<00:00, 3297.13 uttr/s, accuracy=0.70, loss=1.40]\n",
      "Train: 100% 2000/2000 [00:19<00:00, 101.05 step/s, accuracy=0.84, loss=0.61, step=134000]\n",
      "Valid: 100% 5664/5667 [00:01<00:00, 3094.75 uttr/s, accuracy=0.68, loss=1.47]\n",
      "Train: 100% 2000/2000 [00:20<00:00, 99.01 step/s, accuracy=0.84, loss=0.68, step=136000] \n",
      "Valid: 100% 5664/5667 [00:01<00:00, 3186.53 uttr/s, accuracy=0.73, loss=1.26]\n",
      "Train: 100% 2000/2000 [00:20<00:00, 99.07 step/s, accuracy=0.91, loss=0.43, step=138000]\n",
      "Valid: 100% 5664/5667 [00:01<00:00, 2925.63 uttr/s, accuracy=0.69, loss=1.43]\n",
      "Train: 100% 2000/2000 [00:19<00:00, 104.47 step/s, accuracy=0.84, loss=0.95, step=140000]\n",
      "Valid: 100% 5664/5667 [00:01<00:00, 3227.36 uttr/s, accuracy=0.70, loss=1.38]\n",
      "Train:   1% 13/2000 [00:00<00:16, 120.62 step/s]"
     ]
    },
    {
     "name": "stdout",
     "output_type": "stream",
     "text": [
      "Step 140000, best model saved. (accuracy=0.7272)\n"
     ]
    },
    {
     "name": "stderr",
     "output_type": "stream",
     "text": [
      "Train: 100% 2000/2000 [00:20<00:00, 96.74 step/s, accuracy=0.78, loss=0.74, step=142000]\n",
      "Valid: 100% 5664/5667 [00:01<00:00, 3255.00 uttr/s, accuracy=0.70, loss=1.38]\n",
      "Train: 100% 2000/2000 [00:19<00:00, 103.92 step/s, accuracy=0.78, loss=0.77, step=144000]\n",
      "Valid: 100% 5664/5667 [00:01<00:00, 3155.86 uttr/s, accuracy=0.68, loss=1.45]\n",
      "Train: 100% 2000/2000 [00:19<00:00, 101.22 step/s, accuracy=0.88, loss=0.39, step=146000]\n",
      "Valid: 100% 5664/5667 [00:01<00:00, 3340.02 uttr/s, accuracy=0.72, loss=1.29]\n",
      "Train: 100% 2000/2000 [00:19<00:00, 101.28 step/s, accuracy=0.75, loss=0.75, step=148000]\n",
      "Valid: 100% 5664/5667 [00:01<00:00, 3296.71 uttr/s, accuracy=0.71, loss=1.32]\n",
      "Train: 100% 2000/2000 [00:19<00:00, 102.03 step/s, accuracy=0.88, loss=0.63, step=150000]\n",
      "Valid: 100% 5664/5667 [00:01<00:00, 3179.86 uttr/s, accuracy=0.72, loss=1.30]\n",
      "Train:   1% 12/2000 [00:00<00:18, 109.74 step/s]"
     ]
    },
    {
     "name": "stdout",
     "output_type": "stream",
     "text": [
      "Step 150000, best model saved. (accuracy=0.7272)\n"
     ]
    },
    {
     "name": "stderr",
     "output_type": "stream",
     "text": [
      "Train: 100% 2000/2000 [00:19<00:00, 103.30 step/s, accuracy=0.78, loss=0.77, step=152000]\n",
      "Valid: 100% 5664/5667 [00:01<00:00, 3271.43 uttr/s, accuracy=0.71, loss=1.33]\n",
      "Train: 100% 2000/2000 [00:19<00:00, 102.84 step/s, accuracy=0.75, loss=0.58, step=154000]\n",
      "Valid: 100% 5664/5667 [00:01<00:00, 2991.76 uttr/s, accuracy=0.72, loss=1.23]\n",
      "Train: 100% 2000/2000 [00:19<00:00, 102.90 step/s, accuracy=0.81, loss=0.54, step=156000]\n",
      "Valid: 100% 5664/5667 [00:01<00:00, 3280.10 uttr/s, accuracy=0.71, loss=1.33]\n",
      "Train: 100% 2000/2000 [00:19<00:00, 101.53 step/s, accuracy=0.84, loss=0.86, step=158000]\n",
      "Valid: 100% 5664/5667 [00:01<00:00, 2975.01 uttr/s, accuracy=0.71, loss=1.31]\n",
      "Train: 100% 2000/2000 [00:19<00:00, 103.61 step/s, accuracy=0.84, loss=0.43, step=160000]\n",
      "Valid: 100% 5664/5667 [00:01<00:00, 3159.62 uttr/s, accuracy=0.71, loss=1.33]\n",
      "Train:   1% 13/2000 [00:00<00:16, 124.12 step/s]"
     ]
    },
    {
     "name": "stdout",
     "output_type": "stream",
     "text": [
      "Step 160000, best model saved. (accuracy=0.7272)\n"
     ]
    },
    {
     "name": "stderr",
     "output_type": "stream",
     "text": [
      "Train: 100% 2000/2000 [00:19<00:00, 100.90 step/s, accuracy=0.75, loss=0.87, step=162000]\n",
      "Valid: 100% 5664/5667 [00:01<00:00, 3290.42 uttr/s, accuracy=0.71, loss=1.29]\n",
      "Train: 100% 2000/2000 [00:20<00:00, 99.57 step/s, accuracy=0.81, loss=0.68, step=164000]\n",
      "Valid: 100% 5664/5667 [00:02<00:00, 2539.29 uttr/s, accuracy=0.72, loss=1.29]\n",
      "Train: 100% 2000/2000 [00:19<00:00, 104.04 step/s, accuracy=0.78, loss=0.73, step=166000]\n",
      "Valid: 100% 5664/5667 [00:01<00:00, 3195.80 uttr/s, accuracy=0.73, loss=1.22]\n",
      "Train: 100% 2000/2000 [00:20<00:00, 99.98 step/s, accuracy=0.75, loss=0.89, step=168000] \n",
      "Valid: 100% 5664/5667 [00:01<00:00, 3246.68 uttr/s, accuracy=0.69, loss=1.48]\n",
      "Train: 100% 2000/2000 [00:18<00:00, 106.07 step/s, accuracy=0.81, loss=0.59, step=170000]\n",
      "Valid: 100% 5664/5667 [00:02<00:00, 2701.78 uttr/s, accuracy=0.73, loss=1.25]\n",
      "Train:   1% 11/2000 [00:00<00:18, 106.31 step/s]"
     ]
    },
    {
     "name": "stdout",
     "output_type": "stream",
     "text": [
      "Step 170000, best model saved. (accuracy=0.7338)\n"
     ]
    },
    {
     "name": "stderr",
     "output_type": "stream",
     "text": [
      "Train: 100% 2000/2000 [00:19<00:00, 101.05 step/s, accuracy=0.88, loss=0.50, step=172000]\n",
      "Valid: 100% 5664/5667 [00:01<00:00, 3240.22 uttr/s, accuracy=0.73, loss=1.21]\n",
      "Train: 100% 2000/2000 [00:20<00:00, 99.07 step/s, accuracy=0.78, loss=0.93, step=174000] \n",
      "Valid: 100% 5664/5667 [00:01<00:00, 3300.19 uttr/s, accuracy=0.73, loss=1.23]\n",
      "Train: 100% 2000/2000 [00:18<00:00, 105.65 step/s, accuracy=0.84, loss=0.75, step=176000]\n",
      "Valid: 100% 5664/5667 [00:01<00:00, 3014.55 uttr/s, accuracy=0.72, loss=1.29]\n",
      "Train: 100% 2000/2000 [00:19<00:00, 103.64 step/s, accuracy=0.91, loss=0.58, step=178000]\n",
      "Valid: 100% 5664/5667 [00:01<00:00, 3313.69 uttr/s, accuracy=0.72, loss=1.27]\n",
      "Train: 100% 2000/2000 [00:19<00:00, 104.37 step/s, accuracy=0.91, loss=0.39, step=180000]\n",
      "Valid: 100% 5664/5667 [00:01<00:00, 3255.44 uttr/s, accuracy=0.74, loss=1.22]\n",
      "Train:   0% 0/2000 [00:00<?, ? step/s]"
     ]
    },
    {
     "name": "stdout",
     "output_type": "stream",
     "text": [
      "Step 180000, best model saved. (accuracy=0.7355)\n"
     ]
    },
    {
     "name": "stderr",
     "output_type": "stream",
     "text": [
      "Train: 100% 2000/2000 [00:19<00:00, 100.99 step/s, accuracy=0.88, loss=0.37, step=182000]\n",
      "Valid: 100% 5664/5667 [00:01<00:00, 3186.35 uttr/s, accuracy=0.74, loss=1.22]\n",
      "Train: 100% 2000/2000 [00:19<00:00, 104.44 step/s, accuracy=0.84, loss=0.68, step=184000]\n",
      "Valid: 100% 5664/5667 [00:01<00:00, 3316.30 uttr/s, accuracy=0.74, loss=1.24]\n",
      "Train: 100% 2000/2000 [00:18<00:00, 105.66 step/s, accuracy=0.78, loss=0.77, step=186000]\n",
      "Valid: 100% 5664/5667 [00:01<00:00, 3378.64 uttr/s, accuracy=0.72, loss=1.29]\n",
      "Train: 100% 2000/2000 [00:19<00:00, 102.34 step/s, accuracy=0.75, loss=0.61, step=188000]\n",
      "Valid: 100% 5664/5667 [00:01<00:00, 3020.57 uttr/s, accuracy=0.73, loss=1.22]\n",
      "Train: 100% 2000/2000 [00:18<00:00, 107.32 step/s, accuracy=0.81, loss=0.73, step=190000]\n",
      "Valid: 100% 5664/5667 [00:01<00:00, 3156.90 uttr/s, accuracy=0.74, loss=1.20]\n",
      "Train:   1% 23/2000 [00:00<00:17, 112.58 step/s]"
     ]
    },
    {
     "name": "stdout",
     "output_type": "stream",
     "text": [
      "Step 190000, best model saved. (accuracy=0.7406)\n"
     ]
    },
    {
     "name": "stderr",
     "output_type": "stream",
     "text": [
      "Train: 100% 2000/2000 [00:19<00:00, 101.54 step/s, accuracy=0.88, loss=0.38, step=192000]\n",
      "Valid: 100% 5664/5667 [00:01<00:00, 3344.13 uttr/s, accuracy=0.73, loss=1.25]\n",
      "Train: 100% 2000/2000 [00:19<00:00, 103.50 step/s, accuracy=0.72, loss=1.13, step=194000]\n",
      "Valid: 100% 5664/5667 [00:02<00:00, 2406.57 uttr/s, accuracy=0.73, loss=1.26]\n",
      "Train: 100% 2000/2000 [00:19<00:00, 104.81 step/s, accuracy=0.91, loss=0.38, step=196000]\n",
      "Valid: 100% 5664/5667 [00:01<00:00, 3331.61 uttr/s, accuracy=0.74, loss=1.21]\n",
      "Train: 100% 2000/2000 [00:19<00:00, 101.47 step/s, accuracy=0.84, loss=0.52, step=198000]\n",
      "Valid: 100% 5664/5667 [00:01<00:00, 3060.40 uttr/s, accuracy=0.75, loss=1.16]\n",
      "Train: 100% 2000/2000 [00:19<00:00, 102.40 step/s, accuracy=0.78, loss=0.81, step=2e+5]\n",
      "Valid: 100% 5664/5667 [00:01<00:00, 2952.16 uttr/s, accuracy=0.74, loss=1.20]\n",
      "Train:   0% 10/2000 [00:00<00:21, 93.38 step/s]"
     ]
    },
    {
     "name": "stdout",
     "output_type": "stream",
     "text": [
      "Step 200000, best model saved. (accuracy=0.7519)\n"
     ]
    },
    {
     "name": "stderr",
     "output_type": "stream",
     "text": [
      "Train: 100% 2000/2000 [00:19<00:00, 100.23 step/s, accuracy=0.91, loss=0.32, step=202000]\n",
      "Valid: 100% 5664/5667 [00:01<00:00, 3079.00 uttr/s, accuracy=0.75, loss=1.15]\n",
      "Train: 100% 2000/2000 [00:19<00:00, 101.39 step/s, accuracy=0.97, loss=0.19, step=204000]\n",
      "Valid: 100% 5664/5667 [00:01<00:00, 2910.69 uttr/s, accuracy=0.76, loss=1.11]\n",
      "Train: 100% 2000/2000 [00:19<00:00, 102.33 step/s, accuracy=0.94, loss=0.42, step=206000]\n",
      "Valid: 100% 5664/5667 [00:01<00:00, 3256.18 uttr/s, accuracy=0.75, loss=1.17]\n",
      "Train: 100% 2000/2000 [00:19<00:00, 101.21 step/s, accuracy=0.78, loss=0.65, step=208000]\n",
      "Valid: 100% 5664/5667 [00:01<00:00, 3310.04 uttr/s, accuracy=0.76, loss=1.15]\n",
      "Train: 100% 2000/2000 [00:19<00:00, 101.83 step/s, accuracy=0.91, loss=0.55, step=210000]\n",
      "Valid: 100% 5664/5667 [00:01<00:00, 3268.77 uttr/s, accuracy=0.74, loss=1.22]\n",
      "Train:   1% 11/2000 [00:00<00:19, 104.39 step/s]"
     ]
    },
    {
     "name": "stdout",
     "output_type": "stream",
     "text": [
      "Step 210000, best model saved. (accuracy=0.7597)\n"
     ]
    },
    {
     "name": "stderr",
     "output_type": "stream",
     "text": [
      "Train: 100% 2000/2000 [00:19<00:00, 100.26 step/s, accuracy=0.84, loss=0.58, step=212000]\n",
      "Valid: 100% 5664/5667 [00:01<00:00, 3254.32 uttr/s, accuracy=0.75, loss=1.19]\n",
      "Train: 100% 2000/2000 [00:18<00:00, 105.58 step/s, accuracy=0.88, loss=0.41, step=214000]\n",
      "Valid: 100% 5664/5667 [00:01<00:00, 3070.04 uttr/s, accuracy=0.76, loss=1.14]\n",
      "Train: 100% 2000/2000 [00:19<00:00, 103.68 step/s, accuracy=0.91, loss=0.43, step=216000]\n",
      "Valid: 100% 5664/5667 [00:01<00:00, 3372.56 uttr/s, accuracy=0.76, loss=1.15]\n",
      "Train: 100% 2000/2000 [00:19<00:00, 100.51 step/s, accuracy=0.91, loss=0.49, step=218000]\n",
      "Valid: 100% 5664/5667 [00:01<00:00, 3359.32 uttr/s, accuracy=0.76, loss=1.13]\n",
      "Train: 100% 2000/2000 [00:19<00:00, 104.29 step/s, accuracy=0.94, loss=0.39, step=220000]\n",
      "Valid: 100% 5664/5667 [00:01<00:00, 3394.99 uttr/s, accuracy=0.75, loss=1.19]\n",
      "Train:   1% 12/2000 [00:00<00:17, 110.88 step/s]"
     ]
    },
    {
     "name": "stdout",
     "output_type": "stream",
     "text": [
      "Step 220000, best model saved. (accuracy=0.7597)\n"
     ]
    },
    {
     "name": "stderr",
     "output_type": "stream",
     "text": [
      "Train: 100% 2000/2000 [00:19<00:00, 101.05 step/s, accuracy=0.88, loss=0.41, step=222000]\n",
      "Valid: 100% 5664/5667 [00:01<00:00, 3374.04 uttr/s, accuracy=0.75, loss=1.14]\n",
      "Train: 100% 2000/2000 [00:19<00:00, 104.93 step/s, accuracy=0.88, loss=0.42, step=224000]\n",
      "Valid: 100% 5664/5667 [00:01<00:00, 3332.35 uttr/s, accuracy=0.75, loss=1.16]\n",
      "Train: 100% 2000/2000 [00:19<00:00, 102.36 step/s, accuracy=0.91, loss=0.36, step=226000]\n",
      "Valid: 100% 5664/5667 [00:01<00:00, 3274.27 uttr/s, accuracy=0.75, loss=1.15]\n",
      "Train: 100% 2000/2000 [00:19<00:00, 101.79 step/s, accuracy=0.84, loss=0.55, step=228000]\n",
      "Valid: 100% 5664/5667 [00:01<00:00, 2852.35 uttr/s, accuracy=0.75, loss=1.17]\n",
      "Train: 100% 2000/2000 [00:19<00:00, 103.33 step/s, accuracy=0.84, loss=0.57, step=230000]\n",
      "Valid: 100% 5664/5667 [00:01<00:00, 3313.13 uttr/s, accuracy=0.75, loss=1.21]\n",
      "Train:   1% 22/2000 [00:00<00:18, 106.92 step/s]"
     ]
    },
    {
     "name": "stdout",
     "output_type": "stream",
     "text": [
      "Step 230000, best model saved. (accuracy=0.7597)\n"
     ]
    },
    {
     "name": "stderr",
     "output_type": "stream",
     "text": [
      "Train: 100% 2000/2000 [00:19<00:00, 101.55 step/s, accuracy=0.94, loss=0.24, step=232000]\n",
      "Valid: 100% 5664/5667 [00:01<00:00, 3228.38 uttr/s, accuracy=0.76, loss=1.15]\n",
      "Train: 100% 2000/2000 [00:18<00:00, 105.90 step/s, accuracy=0.88, loss=0.85, step=234000]\n",
      "Valid: 100% 5664/5667 [00:01<00:00, 3089.91 uttr/s, accuracy=0.77, loss=1.10]\n",
      "Train: 100% 2000/2000 [00:20<00:00, 98.85 step/s, accuracy=0.84, loss=0.56, step=236000] \n",
      "Valid: 100% 5664/5667 [00:01<00:00, 3327.28 uttr/s, accuracy=0.77, loss=1.11]\n",
      "Train: 100% 2000/2000 [00:18<00:00, 107.04 step/s, accuracy=0.97, loss=0.36, step=238000]\n",
      "Valid: 100% 5664/5667 [00:01<00:00, 3342.99 uttr/s, accuracy=0.76, loss=1.09]\n",
      "Train: 100% 2000/2000 [00:19<00:00, 100.53 step/s, accuracy=1.00, loss=0.09, step=240000]\n",
      "Valid: 100% 5664/5667 [00:01<00:00, 3399.44 uttr/s, accuracy=0.77, loss=1.09]\n",
      "Train:   1% 11/2000 [00:00<00:18, 108.53 step/s]"
     ]
    },
    {
     "name": "stdout",
     "output_type": "stream",
     "text": [
      "Step 240000, best model saved. (accuracy=0.7708)\n"
     ]
    },
    {
     "name": "stderr",
     "output_type": "stream",
     "text": [
      "Train: 100% 2000/2000 [00:19<00:00, 103.73 step/s, accuracy=0.91, loss=0.17, step=242000]\n",
      "Valid: 100% 5664/5667 [00:02<00:00, 2801.12 uttr/s, accuracy=0.77, loss=1.07]\n",
      "Train: 100% 2000/2000 [00:19<00:00, 102.53 step/s, accuracy=0.88, loss=0.53, step=244000]\n",
      "Valid: 100% 5664/5667 [00:01<00:00, 3257.75 uttr/s, accuracy=0.76, loss=1.13]\n",
      "Train: 100% 2000/2000 [00:20<00:00, 99.89 step/s, accuracy=0.78, loss=0.79, step=246000] \n",
      "Valid: 100% 5664/5667 [00:01<00:00, 3307.60 uttr/s, accuracy=0.76, loss=1.13]\n",
      "Train: 100% 2000/2000 [00:19<00:00, 103.72 step/s, accuracy=1.00, loss=0.17, step=248000]\n",
      "Valid: 100% 5664/5667 [00:01<00:00, 3121.73 uttr/s, accuracy=0.77, loss=1.08]\n",
      "Train: 100% 2000/2000 [00:20<00:00, 99.62 step/s, accuracy=0.81, loss=0.68, step=250000] \n",
      "Valid: 100% 5664/5667 [00:01<00:00, 3236.22 uttr/s, accuracy=0.78, loss=1.03]\n",
      "Train:   1% 12/2000 [00:00<00:16, 119.05 step/s]"
     ]
    },
    {
     "name": "stdout",
     "output_type": "stream",
     "text": [
      "Step 250000, best model saved. (accuracy=0.7751)\n"
     ]
    },
    {
     "name": "stderr",
     "output_type": "stream",
     "text": [
      "Train: 100% 2000/2000 [00:19<00:00, 102.21 step/s, accuracy=0.97, loss=0.19, step=252000]\n",
      "Valid: 100% 5664/5667 [00:01<00:00, 3143.12 uttr/s, accuracy=0.77, loss=1.08]\n",
      "Train: 100% 2000/2000 [00:20<00:00, 98.50 step/s, accuracy=0.78, loss=0.65, step=254000] \n",
      "Valid: 100% 5664/5667 [00:01<00:00, 3218.68 uttr/s, accuracy=0.78, loss=1.08]\n",
      "Train: 100% 2000/2000 [00:19<00:00, 104.79 step/s, accuracy=0.91, loss=0.35, step=256000]\n",
      "Valid: 100% 5664/5667 [00:01<00:00, 3299.34 uttr/s, accuracy=0.77, loss=1.11]\n",
      "Train: 100% 2000/2000 [00:19<00:00, 104.24 step/s, accuracy=0.91, loss=0.39, step=258000]\n",
      "Valid: 100% 5664/5667 [00:01<00:00, 3233.64 uttr/s, accuracy=0.78, loss=1.05]\n",
      "Train: 100% 2000/2000 [00:20<00:00, 96.73 step/s, accuracy=0.97, loss=0.23, step=260000] \n",
      "Valid: 100% 5664/5667 [00:01<00:00, 3044.86 uttr/s, accuracy=0.77, loss=1.06]\n",
      "Train:   1% 12/2000 [00:00<00:18, 109.86 step/s]"
     ]
    },
    {
     "name": "stdout",
     "output_type": "stream",
     "text": [
      "Step 260000, best model saved. (accuracy=0.7767)\n"
     ]
    },
    {
     "name": "stderr",
     "output_type": "stream",
     "text": [
      "Train: 100% 2000/2000 [00:19<00:00, 104.73 step/s, accuracy=0.91, loss=0.40, step=262000]\n",
      "Valid: 100% 5664/5667 [00:01<00:00, 3047.77 uttr/s, accuracy=0.76, loss=1.10]\n",
      "Train: 100% 2000/2000 [00:19<00:00, 103.07 step/s, accuracy=0.84, loss=0.37, step=264000]\n",
      "Valid: 100% 5664/5667 [00:01<00:00, 3280.56 uttr/s, accuracy=0.78, loss=1.04]\n",
      "Train: 100% 2000/2000 [00:20<00:00, 97.15 step/s, accuracy=0.97, loss=0.14, step=266000] \n",
      "Valid: 100% 5664/5667 [00:01<00:00, 3293.09 uttr/s, accuracy=0.77, loss=1.10]\n",
      "Train: 100% 2000/2000 [00:19<00:00, 103.76 step/s, accuracy=0.88, loss=0.37, step=268000]\n",
      "Valid: 100% 5664/5667 [00:01<00:00, 3111.21 uttr/s, accuracy=0.77, loss=1.09]\n",
      "Train: 100% 2000/2000 [00:18<00:00, 105.61 step/s, accuracy=0.81, loss=0.57, step=270000]\n",
      "Valid: 100% 5664/5667 [00:01<00:00, 3325.68 uttr/s, accuracy=0.78, loss=1.05]\n",
      "Train:   1% 12/2000 [00:00<00:17, 110.65 step/s]"
     ]
    },
    {
     "name": "stdout",
     "output_type": "stream",
     "text": [
      "Step 270000, best model saved. (accuracy=0.7793)\n"
     ]
    },
    {
     "name": "stderr",
     "output_type": "stream",
     "text": [
      "Train: 100% 2000/2000 [00:20<00:00, 97.16 step/s, accuracy=0.91, loss=0.45, step=272000] \n",
      "Valid: 100% 5664/5667 [00:01<00:00, 3304.66 uttr/s, accuracy=0.79, loss=1.01]\n",
      "Train: 100% 2000/2000 [00:19<00:00, 105.25 step/s, accuracy=0.97, loss=0.40, step=274000]\n",
      "Valid: 100% 5664/5667 [00:01<00:00, 2910.27 uttr/s, accuracy=0.78, loss=1.09]\n",
      "Train: 100% 2000/2000 [00:19<00:00, 104.98 step/s, accuracy=0.94, loss=0.24, step=276000]\n",
      "Valid: 100% 5664/5667 [00:01<00:00, 3321.33 uttr/s, accuracy=0.78, loss=1.02]\n",
      "Train: 100% 2000/2000 [00:19<00:00, 100.67 step/s, accuracy=0.84, loss=0.44, step=278000]\n",
      "Valid: 100% 5664/5667 [00:01<00:00, 2842.10 uttr/s, accuracy=0.78, loss=1.03]\n",
      "Train: 100% 2000/2000 [00:19<00:00, 103.40 step/s, accuracy=0.94, loss=0.14, step=280000]\n",
      "Valid: 100% 5664/5667 [00:02<00:00, 2760.60 uttr/s, accuracy=0.79, loss=1.01]\n",
      "Train:   1% 12/2000 [00:00<00:17, 113.03 step/s]"
     ]
    },
    {
     "name": "stdout",
     "output_type": "stream",
     "text": [
      "Step 280000, best model saved. (accuracy=0.7890)\n"
     ]
    },
    {
     "name": "stderr",
     "output_type": "stream",
     "text": [
      "Train: 100% 2000/2000 [00:19<00:00, 104.40 step/s, accuracy=0.84, loss=0.70, step=282000]\n",
      "Valid: 100% 5664/5667 [00:01<00:00, 3244.53 uttr/s, accuracy=0.78, loss=1.04]\n",
      "Train: 100% 2000/2000 [00:19<00:00, 104.36 step/s, accuracy=0.91, loss=0.49, step=284000]\n",
      "Valid: 100% 5664/5667 [00:01<00:00, 3073.50 uttr/s, accuracy=0.78, loss=1.02]\n",
      "Train: 100% 2000/2000 [00:20<00:00, 98.79 step/s, accuracy=1.00, loss=0.06, step=286000]\n",
      "Valid: 100% 5664/5667 [00:01<00:00, 3007.19 uttr/s, accuracy=0.78, loss=1.04]\n",
      "Train: 100% 2000/2000 [00:18<00:00, 106.13 step/s, accuracy=0.97, loss=0.28, step=288000]\n",
      "Valid: 100% 5664/5667 [00:01<00:00, 3206.21 uttr/s, accuracy=0.78, loss=1.04]\n",
      "Train: 100% 2000/2000 [00:19<00:00, 103.09 step/s, accuracy=0.94, loss=0.21, step=290000]\n",
      "Valid: 100% 5664/5667 [00:01<00:00, 3302.50 uttr/s, accuracy=0.79, loss=1.01]\n",
      "Train:   1% 11/2000 [00:00<00:19, 102.98 step/s]"
     ]
    },
    {
     "name": "stdout",
     "output_type": "stream",
     "text": [
      "Step 290000, best model saved. (accuracy=0.7890)\n"
     ]
    },
    {
     "name": "stderr",
     "output_type": "stream",
     "text": [
      "Train: 100% 2000/2000 [00:20<00:00, 98.57 step/s, accuracy=0.94, loss=0.21, step=292000]\n",
      "Valid: 100% 5664/5667 [00:01<00:00, 3196.94 uttr/s, accuracy=0.80, loss=1.01]\n",
      "Train: 100% 2000/2000 [00:19<00:00, 104.77 step/s, accuracy=0.94, loss=0.17, step=294000]\n",
      "Valid: 100% 5664/5667 [00:01<00:00, 3302.91 uttr/s, accuracy=0.80, loss=0.99]\n",
      "Train: 100% 2000/2000 [00:19<00:00, 104.56 step/s, accuracy=0.97, loss=0.13, step=296000]\n",
      "Valid: 100% 5664/5667 [00:01<00:00, 3281.80 uttr/s, accuracy=0.79, loss=1.01]\n",
      "Train: 100% 2000/2000 [00:21<00:00, 94.62 step/s, accuracy=0.94, loss=0.36, step=298000] \n",
      "Valid: 100% 5664/5667 [00:01<00:00, 3267.21 uttr/s, accuracy=0.80, loss=0.98]\n",
      "Train: 100% 2000/2000 [00:20<00:00, 98.28 step/s, accuracy=0.97, loss=0.16, step=3e+5]\n",
      "Valid: 100% 5664/5667 [00:01<00:00, 2924.66 uttr/s, accuracy=0.81, loss=0.94]\n",
      "Train:   1% 12/2000 [00:00<00:17, 113.71 step/s]"
     ]
    },
    {
     "name": "stdout",
     "output_type": "stream",
     "text": [
      "Step 300000, best model saved. (accuracy=0.8065)\n"
     ]
    },
    {
     "name": "stderr",
     "output_type": "stream",
     "text": [
      "Train: 100% 2000/2000 [00:20<00:00, 99.76 step/s, accuracy=0.94, loss=0.27, step=302000] \n",
      "Valid: 100% 5664/5667 [00:01<00:00, 3154.66 uttr/s, accuracy=0.80, loss=0.97]\n",
      "Train: 100% 2000/2000 [00:20<00:00, 97.91 step/s, accuracy=0.91, loss=0.41, step=304000]\n",
      "Valid: 100% 5664/5667 [00:01<00:00, 2890.59 uttr/s, accuracy=0.79, loss=1.01]\n",
      "Train: 100% 2000/2000 [00:19<00:00, 102.73 step/s, accuracy=1.00, loss=0.04, step=306000]\n",
      "Valid: 100% 5664/5667 [00:01<00:00, 3167.65 uttr/s, accuracy=0.80, loss=0.98]\n",
      "Train: 100% 2000/2000 [00:19<00:00, 102.28 step/s, accuracy=0.97, loss=0.15, step=308000]\n",
      "Valid: 100% 5664/5667 [00:01<00:00, 3081.89 uttr/s, accuracy=0.79, loss=0.98]\n",
      "Train: 100% 2000/2000 [00:20<00:00, 99.22 step/s, accuracy=0.97, loss=0.18, step=310000]\n",
      "Valid: 100% 5664/5667 [00:02<00:00, 2793.15 uttr/s, accuracy=0.80, loss=0.99]\n",
      "Train:   1% 11/2000 [00:00<00:19, 102.76 step/s]"
     ]
    },
    {
     "name": "stdout",
     "output_type": "stream",
     "text": [
      "Step 310000, best model saved. (accuracy=0.8065)\n"
     ]
    },
    {
     "name": "stderr",
     "output_type": "stream",
     "text": [
      "Train: 100% 2000/2000 [00:19<00:00, 101.08 step/s, accuracy=1.00, loss=0.15, step=312000]\n",
      "Valid: 100% 5664/5667 [00:01<00:00, 3206.17 uttr/s, accuracy=0.80, loss=0.94]\n",
      "Train: 100% 2000/2000 [00:19<00:00, 102.52 step/s, accuracy=0.88, loss=0.37, step=314000]\n",
      "Valid: 100% 5664/5667 [00:01<00:00, 3214.77 uttr/s, accuracy=0.80, loss=0.95]\n",
      "Train: 100% 2000/2000 [00:19<00:00, 103.78 step/s, accuracy=0.94, loss=0.32, step=316000]\n",
      "Valid: 100% 5664/5667 [00:01<00:00, 3096.38 uttr/s, accuracy=0.80, loss=0.97]\n",
      "Train: 100% 2000/2000 [00:20<00:00, 99.55 step/s, accuracy=0.91, loss=0.22, step=318000] \n",
      "Valid: 100% 5664/5667 [00:01<00:00, 3284.63 uttr/s, accuracy=0.80, loss=0.96]\n",
      "Train: 100% 2000/2000 [00:19<00:00, 102.90 step/s, accuracy=0.94, loss=0.33, step=320000]\n",
      "Valid: 100% 5664/5667 [00:01<00:00, 3107.05 uttr/s, accuracy=0.80, loss=0.94]\n",
      "Train:   1% 22/2000 [00:00<00:18, 106.20 step/s]"
     ]
    },
    {
     "name": "stdout",
     "output_type": "stream",
     "text": [
      "Step 320000, best model saved. (accuracy=0.8065)\n"
     ]
    },
    {
     "name": "stderr",
     "output_type": "stream",
     "text": [
      "Train: 100% 2000/2000 [00:20<00:00, 97.12 step/s, accuracy=1.00, loss=0.15, step=322000] \n",
      "Valid: 100% 5664/5667 [00:01<00:00, 3023.57 uttr/s, accuracy=0.80, loss=0.96]\n",
      "Train: 100% 2000/2000 [00:20<00:00, 95.29 step/s, accuracy=0.94, loss=0.29, step=324000]\n",
      "Valid: 100% 5664/5667 [00:01<00:00, 2987.26 uttr/s, accuracy=0.80, loss=0.97]\n",
      "Train: 100% 2000/2000 [00:19<00:00, 101.30 step/s, accuracy=0.94, loss=0.40, step=326000]\n",
      "Valid: 100% 5664/5667 [00:01<00:00, 2974.93 uttr/s, accuracy=0.80, loss=0.99]\n",
      "Train: 100% 2000/2000 [00:20<00:00, 97.44 step/s, accuracy=0.88, loss=0.35, step=328000]\n",
      "Valid: 100% 5664/5667 [00:01<00:00, 3195.42 uttr/s, accuracy=0.80, loss=0.97]\n",
      "Train: 100% 2000/2000 [00:22<00:00, 90.82 step/s, accuracy=0.97, loss=0.28, step=330000] \n",
      "Valid: 100% 5664/5667 [00:01<00:00, 3005.09 uttr/s, accuracy=0.81, loss=0.93]\n",
      "Train:   1% 11/2000 [00:00<00:19, 101.74 step/s]"
     ]
    },
    {
     "name": "stdout",
     "output_type": "stream",
     "text": [
      "Step 330000, best model saved. (accuracy=0.8070)\n"
     ]
    },
    {
     "name": "stderr",
     "output_type": "stream",
     "text": [
      "Train: 100% 2000/2000 [00:19<00:00, 100.22 step/s, accuracy=0.97, loss=0.16, step=332000]\n",
      "Valid: 100% 5664/5667 [00:02<00:00, 2829.73 uttr/s, accuracy=0.80, loss=0.96]\n",
      "Train: 100% 2000/2000 [00:20<00:00, 98.04 step/s, accuracy=0.97, loss=0.25, step=334000] \n",
      "Valid: 100% 5664/5667 [00:01<00:00, 2916.02 uttr/s, accuracy=0.80, loss=0.95]\n",
      "Train: 100% 2000/2000 [00:21<00:00, 91.70 step/s, accuracy=0.91, loss=0.18, step=336000] \n",
      "Valid: 100% 5664/5667 [00:01<00:00, 2871.50 uttr/s, accuracy=0.80, loss=0.96]\n",
      "Train: 100% 2000/2000 [00:20<00:00, 96.86 step/s, accuracy=0.97, loss=0.25, step=338000]\n",
      "Valid: 100% 5664/5667 [00:02<00:00, 2810.59 uttr/s, accuracy=0.81, loss=0.95]\n",
      "Train: 100% 2000/2000 [00:20<00:00, 99.63 step/s, accuracy=0.91, loss=0.38, step=340000] \n",
      "Valid: 100% 5664/5667 [00:01<00:00, 3189.71 uttr/s, accuracy=0.81, loss=0.94]\n",
      "Train:   1% 22/2000 [00:00<00:18, 106.46 step/s]"
     ]
    },
    {
     "name": "stdout",
     "output_type": "stream",
     "text": [
      "Step 340000, best model saved. (accuracy=0.8099)\n"
     ]
    },
    {
     "name": "stderr",
     "output_type": "stream",
     "text": [
      "Train: 100% 2000/2000 [00:21<00:00, 95.08 step/s, accuracy=0.97, loss=0.19, step=342000]\n",
      "Valid: 100% 5664/5667 [00:01<00:00, 2923.96 uttr/s, accuracy=0.81, loss=0.92]\n",
      "Train: 100% 2000/2000 [00:19<00:00, 100.88 step/s, accuracy=0.88, loss=0.33, step=344000]\n",
      "Valid: 100% 5664/5667 [00:01<00:00, 3292.08 uttr/s, accuracy=0.81, loss=0.94]\n",
      "Train: 100% 2000/2000 [00:19<00:00, 103.04 step/s, accuracy=0.97, loss=0.13, step=346000]\n",
      "Valid: 100% 5664/5667 [00:01<00:00, 3265.80 uttr/s, accuracy=0.80, loss=0.93]\n",
      "Train: 100% 2000/2000 [00:19<00:00, 100.88 step/s, accuracy=0.91, loss=0.22, step=348000]\n",
      "Valid: 100% 5664/5667 [00:02<00:00, 2762.19 uttr/s, accuracy=0.81, loss=0.94]\n",
      "Train: 100% 2000/2000 [00:21<00:00, 95.04 step/s, accuracy=0.94, loss=0.34, step=350000] \n",
      "Valid: 100% 5664/5667 [00:01<00:00, 3035.20 uttr/s, accuracy=0.81, loss=0.97]\n",
      "Train:   1% 24/2000 [00:00<00:17, 115.12 step/s]"
     ]
    },
    {
     "name": "stdout",
     "output_type": "stream",
     "text": [
      "Step 350000, best model saved. (accuracy=0.8099)\n"
     ]
    },
    {
     "name": "stderr",
     "output_type": "stream",
     "text": [
      "Train: 100% 2000/2000 [00:20<00:00, 99.26 step/s, accuracy=0.94, loss=0.21, step=352000] \n",
      "Valid: 100% 5664/5667 [00:01<00:00, 3179.40 uttr/s, accuracy=0.81, loss=0.96]\n",
      "Train: 100% 2000/2000 [00:20<00:00, 96.34 step/s, accuracy=0.94, loss=0.23, step=354000] \n",
      "Valid: 100% 5664/5667 [00:01<00:00, 3176.33 uttr/s, accuracy=0.81, loss=0.93]\n",
      "Train: 100% 2000/2000 [00:21<00:00, 91.11 step/s, accuracy=0.94, loss=0.20, step=356000] \n",
      "Valid: 100% 5664/5667 [00:01<00:00, 3109.27 uttr/s, accuracy=0.81, loss=0.95]\n",
      "Train: 100% 2000/2000 [00:19<00:00, 102.65 step/s, accuracy=0.94, loss=0.18, step=358000]\n",
      "Valid: 100% 5664/5667 [00:02<00:00, 2804.38 uttr/s, accuracy=0.81, loss=0.93]\n",
      "Train: 100% 2000/2000 [00:19<00:00, 103.52 step/s, accuracy=0.94, loss=0.22, step=360000]\n",
      "Valid: 100% 5664/5667 [00:01<00:00, 3321.89 uttr/s, accuracy=0.82, loss=0.89]\n",
      "Train:   1% 16/2000 [00:00<00:12, 154.60 step/s]"
     ]
    },
    {
     "name": "stdout",
     "output_type": "stream",
     "text": [
      "Step 360000, best model saved. (accuracy=0.8155)\n"
     ]
    },
    {
     "name": "stderr",
     "output_type": "stream",
     "text": [
      "Train: 100% 2000/2000 [00:21<00:00, 94.83 step/s, accuracy=0.91, loss=0.21, step=362000] \n",
      "Valid: 100% 5664/5667 [00:01<00:00, 3314.05 uttr/s, accuracy=0.81, loss=0.94]\n",
      "Train: 100% 2000/2000 [00:19<00:00, 104.13 step/s, accuracy=0.97, loss=0.34, step=364000]\n",
      "Valid: 100% 5664/5667 [00:01<00:00, 3342.12 uttr/s, accuracy=0.80, loss=0.93]\n",
      "Train: 100% 2000/2000 [00:19<00:00, 105.26 step/s, accuracy=0.97, loss=0.12, step=366000]\n",
      "Valid: 100% 5664/5667 [00:01<00:00, 3281.80 uttr/s, accuracy=0.81, loss=0.93]\n",
      "Train: 100% 2000/2000 [00:20<00:00, 98.37 step/s, accuracy=0.88, loss=0.33, step=368000]\n",
      "Valid: 100% 5664/5667 [00:01<00:00, 2941.34 uttr/s, accuracy=0.81, loss=0.92]\n",
      "Train: 100% 2000/2000 [00:19<00:00, 102.10 step/s, accuracy=0.94, loss=0.30, step=370000]\n",
      "Valid: 100% 5664/5667 [00:01<00:00, 3127.49 uttr/s, accuracy=0.81, loss=0.95]\n",
      "Train:   1% 15/2000 [00:00<00:14, 140.85 step/s]"
     ]
    },
    {
     "name": "stdout",
     "output_type": "stream",
     "text": [
      "Step 370000, best model saved. (accuracy=0.8155)\n"
     ]
    },
    {
     "name": "stderr",
     "output_type": "stream",
     "text": [
      "Train: 100% 2000/2000 [00:18<00:00, 106.23 step/s, accuracy=0.94, loss=0.11, step=372000]\n",
      "Valid: 100% 5664/5667 [00:01<00:00, 3176.64 uttr/s, accuracy=0.81, loss=0.93]\n",
      "Train: 100% 2000/2000 [00:19<00:00, 104.57 step/s, accuracy=1.00, loss=0.06, step=374000]\n",
      "Valid: 100% 5664/5667 [00:01<00:00, 3210.18 uttr/s, accuracy=0.81, loss=0.92]\n",
      "Train: 100% 2000/2000 [00:20<00:00, 95.36 step/s, accuracy=0.97, loss=0.10, step=376000]\n",
      "Valid: 100% 5664/5667 [00:01<00:00, 3284.11 uttr/s, accuracy=0.81, loss=0.94]\n",
      "Train: 100% 2000/2000 [00:18<00:00, 105.64 step/s, accuracy=0.97, loss=0.25, step=378000]\n",
      "Valid: 100% 5664/5667 [00:01<00:00, 3314.10 uttr/s, accuracy=0.82, loss=0.92]\n",
      "Train: 100% 2000/2000 [00:19<00:00, 103.05 step/s, accuracy=1.00, loss=0.08, step=380000]\n",
      "Valid: 100% 5664/5667 [00:01<00:00, 3300.71 uttr/s, accuracy=0.80, loss=0.93]\n",
      "Train:   1% 11/2000 [00:00<00:19, 100.95 step/s]"
     ]
    },
    {
     "name": "stdout",
     "output_type": "stream",
     "text": [
      "Step 380000, best model saved. (accuracy=0.8160)\n"
     ]
    },
    {
     "name": "stderr",
     "output_type": "stream",
     "text": [
      "Train: 100% 2000/2000 [00:20<00:00, 96.43 step/s, accuracy=1.00, loss=0.13, step=382000] \n",
      "Valid: 100% 5664/5667 [00:01<00:00, 3264.10 uttr/s, accuracy=0.81, loss=0.94]\n",
      "Train: 100% 2000/2000 [00:19<00:00, 103.84 step/s, accuracy=0.91, loss=0.25, step=384000]\n",
      "Valid: 100% 5664/5667 [00:01<00:00, 3181.00 uttr/s, accuracy=0.81, loss=0.91]\n",
      "Train: 100% 2000/2000 [00:19<00:00, 103.09 step/s, accuracy=0.97, loss=0.08, step=386000]\n",
      "Valid: 100% 5664/5667 [00:01<00:00, 3144.74 uttr/s, accuracy=0.81, loss=0.93]\n",
      "Train: 100% 2000/2000 [00:20<00:00, 97.86 step/s, accuracy=0.88, loss=0.25, step=388000]\n",
      "Valid: 100% 5664/5667 [00:02<00:00, 2795.13 uttr/s, accuracy=0.81, loss=0.93]\n",
      "Train: 100% 2000/2000 [00:19<00:00, 102.14 step/s, accuracy=0.94, loss=0.21, step=390000]\n",
      "Valid: 100% 5664/5667 [00:01<00:00, 3246.10 uttr/s, accuracy=0.81, loss=0.90]\n",
      "Train:   1% 11/2000 [00:00<00:18, 106.00 step/s]"
     ]
    },
    {
     "name": "stdout",
     "output_type": "stream",
     "text": [
      "Step 390000, best model saved. (accuracy=0.8160)\n"
     ]
    },
    {
     "name": "stderr",
     "output_type": "stream",
     "text": [
      "Train: 100% 2000/2000 [00:19<00:00, 101.12 step/s, accuracy=0.97, loss=0.14, step=392000]\n",
      "Valid: 100% 5664/5667 [00:01<00:00, 3106.35 uttr/s, accuracy=0.81, loss=0.92]\n",
      "Train: 100% 2000/2000 [00:19<00:00, 102.62 step/s, accuracy=0.91, loss=0.31, step=394000]\n",
      "Valid: 100% 5664/5667 [00:02<00:00, 2760.23 uttr/s, accuracy=0.81, loss=0.94]\n",
      "Train: 100% 2000/2000 [00:20<00:00, 97.50 step/s, accuracy=1.00, loss=0.11, step=396000] \n",
      "Valid: 100% 5664/5667 [00:01<00:00, 3080.48 uttr/s, accuracy=0.81, loss=0.95]\n",
      "Train: 100% 2000/2000 [00:19<00:00, 102.96 step/s, accuracy=1.00, loss=0.08, step=398000]\n",
      "Valid: 100% 5664/5667 [00:01<00:00, 3177.31 uttr/s, accuracy=0.81, loss=0.91]\n",
      "Train: 100% 2000/2000 [00:19<00:00, 101.24 step/s, accuracy=0.97, loss=0.14, step=4e+5]\n",
      "Valid: 100% 5664/5667 [00:01<00:00, 3260.78 uttr/s, accuracy=0.81, loss=0.90]\n",
      "Train:   0% 0/2000 [00:00<?, ? step/s]\n"
     ]
    },
    {
     "name": "stdout",
     "output_type": "stream",
     "text": [
      "Step 400000, best model saved. (accuracy=0.8160)\n"
     ]
    }
   ],
   "source": [
    "import torch\n",
    "import torch.nn as nn\n",
    "from torch.optim import AdamW\n",
    "from torch.utils.data import DataLoader, random_split\n",
    "from tqdm import tqdm\n",
    "\n",
    "def parse_args():\n",
    "    \"\"\"arguments\"\"\"\n",
    "    config = {\n",
    "        \"data_dir\": \"/kaggle/input/ml2022spring-hw4/Dataset\",\n",
    "        \"save_path\": \"model.ckpt\",\n",
    "        \"batch_size\": 32,\n",
    "        \"n_workers\": 8,\n",
    "        \"valid_steps\": 2000,\n",
    "        # fix warmup_steps\n",
    "        \"warmup_steps\": 1000,\n",
    "        \"save_steps\": 10000,\n",
    "        \"total_steps\": 400000,\n",
    "        \"resume\":False,\n",
    "    }\n",
    "    return config\n",
    "\n",
    "def main(\n",
    "    data_dir,\n",
    "    save_path,\n",
    "    batch_size,\n",
    "    n_workers,\n",
    "    valid_steps,\n",
    "    warmup_steps,\n",
    "    total_steps,\n",
    "    save_steps,\n",
    "    resume,\n",
    "):\n",
    "    \"\"\"Main function.\"\"\"\n",
    "    device = torch.device(\"cuda\" if torch.cuda.is_available() else \"cpu\")\n",
    "    print(f\"[Info]: Use {device} now!\")\n",
    "\n",
    "    train_loader, valid_loader, speaker_num = get_dataloader(data_dir, batch_size, n_workers)\n",
    "    train_iterator = iter(train_loader)\n",
    "    print(f\"[Info]: Finish loading data!\", flush=True)\n",
    "\n",
    "    model = Classifier(n_spks=speaker_num).to(device)\n",
    "    if resume:\n",
    "        model.load_state_dict(torch.load(\"/kaggle/input/model-file/model.ckpt\"))\n",
    "    criterion = nn.CrossEntropyLoss()\n",
    "    optimizer = AdamW(model.parameters(), lr=1e-3)\n",
    "    scheduler = get_cosine_schedule_with_warmup(optimizer, warmup_steps, total_steps)\n",
    "    print(f\"[Info]: Finish creating model!\", flush=True)\n",
    "\n",
    "    best_accuracy = -1.0\n",
    "    best_state_dict = None\n",
    "\n",
    "    pbar = tqdm(total=valid_steps, ncols=0, desc=\"Train\", unit=\" step\")\n",
    "\n",
    "    for step in range(total_steps):\n",
    "        # Get data\n",
    "        try:\n",
    "            batch = next(train_iterator)\n",
    "        except StopIteration:\n",
    "            train_iterator = iter(train_loader)\n",
    "            batch = next(train_iterator)\n",
    "\n",
    "        loss, accuracy = model_fn(batch, model, criterion, device)\n",
    "        batch_loss = loss.item()\n",
    "        batch_accuracy = accuracy.item()\n",
    "\n",
    "        # Updata model\n",
    "        loss.backward()\n",
    "        optimizer.step()\n",
    "        scheduler.step()\n",
    "        optimizer.zero_grad()\n",
    "\n",
    "        # Log\n",
    "        pbar.update()\n",
    "\n",
    "        if((step+1)%500==0):\n",
    "            pbar.set_postfix(\n",
    "                loss=f\"{batch_loss:.2f}\",\n",
    "                accuracy=f\"{batch_accuracy:.2f}\",\n",
    "                step=step + 1,\n",
    "            )            \n",
    "\n",
    "        # Do validation\n",
    "        if (step + 1) % valid_steps == 0:\n",
    "            pbar.close()\n",
    "\n",
    "            valid_accuracy = valid(valid_loader, model, criterion, device)\n",
    "\n",
    "            # keep the best model\n",
    "            if valid_accuracy > best_accuracy:\n",
    "                best_accuracy = valid_accuracy\n",
    "                best_state_dict = model.state_dict()\n",
    "\n",
    "            pbar = tqdm(total=valid_steps, ncols=0, desc=\"Train\", unit=\" step\")\n",
    "\n",
    "        # Save the best model so far.\n",
    "        if (step + 1) % save_steps == 0 and best_state_dict is not None:\n",
    "            torch.save(best_state_dict, save_path)\n",
    "            pbar.write(f\"Step {step + 1}, best model saved. (accuracy={best_accuracy:.4f})\")\n",
    "\n",
    "    pbar.close()\n",
    "\n",
    "if __name__ == \"__main__\":\n",
    "    main(**parse_args())\n"
   ]
  },
  {
   "cell_type": "markdown",
   "id": "6faf24d3",
   "metadata": {
    "id": "NLatBYAhNNMx",
    "papermill": {
     "duration": 6.234954,
     "end_time": "2024-04-28T13:39:37.772407",
     "exception": false,
     "start_time": "2024-04-28T13:39:31.537453",
     "status": "completed"
    },
    "tags": []
   },
   "source": [
    "# Inference\n",
    "\n",
    "## Dataset of inference"
   ]
  },
  {
   "cell_type": "code",
   "execution_count": 10,
   "id": "17b68e03",
   "metadata": {
    "execution": {
     "iopub.execute_input": "2024-04-28T13:39:50.254559Z",
     "iopub.status.busy": "2024-04-28T13:39:50.253940Z",
     "iopub.status.idle": "2024-04-28T13:39:50.262807Z",
     "shell.execute_reply": "2024-04-28T13:39:50.262102Z"
    },
    "id": "efS4pCmAJXJH",
    "papermill": {
     "duration": 6.291898,
     "end_time": "2024-04-28T13:39:50.264668",
     "exception": false,
     "start_time": "2024-04-28T13:39:43.972770",
     "status": "completed"
    },
    "tags": []
   },
   "outputs": [],
   "source": [
    "import os\n",
    "import json\n",
    "import torch\n",
    "from pathlib import Path\n",
    "from torch.utils.data import Dataset\n",
    "\n",
    "\n",
    "class InferenceDataset(Dataset):\n",
    "\tdef __init__(self, data_dir):\n",
    "\t\ttestdata_path = Path(data_dir) / \"testdata.json\"\n",
    "\t\tmetadata = json.load(testdata_path.open())\n",
    "\t\tself.data_dir = data_dir\n",
    "\t\tself.data = metadata[\"utterances\"]\n",
    "\n",
    "\tdef __len__(self):\n",
    "\t\treturn len(self.data)\n",
    "\n",
    "\tdef __getitem__(self, index):\n",
    "\t\tutterance = self.data[index]\n",
    "\t\tfeat_path = utterance[\"feature_path\"]\n",
    "\t\tmel = torch.load(os.path.join(self.data_dir, feat_path))\n",
    "\n",
    "\t\treturn feat_path, mel\n",
    "\n",
    "\n",
    "def inference_collate_batch(batch):\n",
    "\t\"\"\"Collate a batch of data.\"\"\"\n",
    "\tfeat_paths, mels = zip(*batch)\n",
    "\n",
    "\treturn feat_paths, torch.stack(mels)"
   ]
  },
  {
   "cell_type": "markdown",
   "id": "d424471d",
   "metadata": {
    "id": "tl0WnYwxNK_S",
    "papermill": {
     "duration": 6.229181,
     "end_time": "2024-04-28T13:40:02.718679",
     "exception": false,
     "start_time": "2024-04-28T13:39:56.489498",
     "status": "completed"
    },
    "tags": []
   },
   "source": [
    "## Main funcrion of Inference"
   ]
  },
  {
   "cell_type": "code",
   "execution_count": 11,
   "id": "b89e6092",
   "metadata": {
    "execution": {
     "iopub.execute_input": "2024-04-28T13:40:15.140520Z",
     "iopub.status.busy": "2024-04-28T13:40:15.139666Z",
     "iopub.status.idle": "2024-04-28T13:40:33.848491Z",
     "shell.execute_reply": "2024-04-28T13:40:33.847574Z"
    },
    "id": "i8SAbuXEJb2A",
    "papermill": {
     "duration": 24.806176,
     "end_time": "2024-04-28T13:40:33.850520",
     "exception": false,
     "start_time": "2024-04-28T13:40:09.044344",
     "status": "completed"
    },
    "tags": []
   },
   "outputs": [
    {
     "name": "stdout",
     "output_type": "stream",
     "text": [
      "[Info]: Use cuda now!\n",
      "[Info]: Finish loading data!\n",
      "[Info]: Finish creating model!\n"
     ]
    },
    {
     "data": {
      "application/vnd.jupyter.widget-view+json": {
       "model_id": "896a7ffb659741d1927d3d3424c34c1a",
       "version_major": 2,
       "version_minor": 0
      },
      "text/plain": [
       "  0%|          | 0/8000 [00:00<?, ?it/s]"
      ]
     },
     "metadata": {},
     "output_type": "display_data"
    }
   ],
   "source": [
    "import json\n",
    "import csv\n",
    "from pathlib import Path\n",
    "from tqdm.notebook import tqdm\n",
    "\n",
    "import torch\n",
    "from torch.utils.data import DataLoader\n",
    "\n",
    "def parse_args():\n",
    "\t\"\"\"arguments\"\"\"\n",
    "\tconfig = {\n",
    "\t\t\"data_dir\": \"/kaggle/input/ml2022spring-hw4/Dataset\",\n",
    "\t\t\"model_path\": \"./model.ckpt\",\n",
    "\t\t\"output_path\": \"./output.csv\",\n",
    "\t}\n",
    "\n",
    "\treturn config\n",
    "\n",
    "\n",
    "def main(\n",
    "\tdata_dir,\n",
    "\tmodel_path,\n",
    "\toutput_path,\n",
    "):\n",
    "\t\"\"\"Main function.\"\"\"\n",
    "\tdevice = torch.device(\"cuda\" if torch.cuda.is_available() else \"cpu\")\n",
    "\tprint(f\"[Info]: Use {device} now!\")\n",
    "\n",
    "\tmapping_path = Path(data_dir) / \"mapping.json\"\n",
    "\tmapping = json.load(mapping_path.open())\n",
    "\n",
    "\tdataset = InferenceDataset(data_dir)\n",
    "\tdataloader = DataLoader(\n",
    "\t\tdataset,\n",
    "\t\tbatch_size=1,\n",
    "\t\tshuffle=False,\n",
    "\t\tdrop_last=False,\n",
    "\t\tnum_workers=8,\n",
    "\t\tcollate_fn=inference_collate_batch,\n",
    "\t)\n",
    "\tprint(f\"[Info]: Finish loading data!\",flush = True)\n",
    "\n",
    "\tspeaker_num = len(mapping[\"id2speaker\"])\n",
    "\tmodel = Classifier(n_spks=speaker_num).to(device)\n",
    "\tmodel.load_state_dict(torch.load(model_path))\n",
    "\tmodel.eval()\n",
    "\tprint(f\"[Info]: Finish creating model!\",flush = True)\n",
    "\n",
    "\tresults = [[\"Id\", \"Category\"]]\n",
    "\tfor feat_paths, mels in tqdm(dataloader):\n",
    "\t\twith torch.no_grad():\n",
    "\t\t\tmels = mels.to(device)\n",
    "\t\t\touts = model(mels)\n",
    "\t\t\tpreds = outs.argmax(1).cpu().numpy()\n",
    "\t\t\tfor feat_path, pred in zip(feat_paths, preds):\n",
    "\t\t\t\tresults.append([feat_path, mapping[\"id2speaker\"][str(pred)]])\n",
    "\n",
    "\twith open(output_path, 'w', newline='') as csvfile:\n",
    "\t\twriter = csv.writer(csvfile)\n",
    "\t\twriter.writerows(results)\n",
    "\n",
    "\n",
    "if __name__ == \"__main__\":\n",
    "\tmain(**parse_args())"
   ]
  }
 ],
 "metadata": {
  "accelerator": "GPU",
  "colab": {
   "collapsed_sections": [],
   "name": "hw04.ipynb",
   "provenance": []
  },
  "kaggle": {
   "accelerator": "gpu",
   "dataSources": [
    {
     "databundleVersionId": 3328800,
     "sourceId": 34762,
     "sourceType": "competition"
    },
    {
     "databundleVersionId": 8381107,
     "datasetId": 4889250,
     "sourceId": 8253126,
     "sourceType": "datasetVersion"
    }
   ],
   "dockerImageVersionId": 30699,
   "isGpuEnabled": true,
   "isInternetEnabled": true,
   "language": "python",
   "sourceType": "notebook"
  },
  "kernelspec": {
   "display_name": "Python 3",
   "language": "python",
   "name": "python3"
  },
  "language_info": {
   "codemirror_mode": {
    "name": "ipython",
    "version": 3
   },
   "file_extension": ".py",
   "mimetype": "text/x-python",
   "name": "python",
   "nbconvert_exporter": "python",
   "pygments_lexer": "ipython3",
   "version": "3.10.13"
  },
  "papermill": {
   "default_parameters": {},
   "duration": 4449.696382,
   "end_time": "2024-04-28T13:40:41.746673",
   "environment_variables": {},
   "exception": null,
   "input_path": "__notebook__.ipynb",
   "output_path": "__notebook__.ipynb",
   "parameters": {},
   "start_time": "2024-04-28T12:26:32.050291",
   "version": "2.5.0"
  },
  "widgets": {
   "application/vnd.jupyter.widget-state+json": {
    "state": {
     "1467d099496649b9861d9605358ee54a": {
      "model_module": "@jupyter-widgets/controls",
      "model_module_version": "1.5.0",
      "model_name": "HTMLModel",
      "state": {
       "_dom_classes": [],
       "_model_module": "@jupyter-widgets/controls",
       "_model_module_version": "1.5.0",
       "_model_name": "HTMLModel",
       "_view_count": null,
       "_view_module": "@jupyter-widgets/controls",
       "_view_module_version": "1.5.0",
       "_view_name": "HTMLView",
       "description": "",
       "description_tooltip": null,
       "layout": "IPY_MODEL_5de1163ca5344a77a155aa9fe6e2d614",
       "placeholder": "​",
       "style": "IPY_MODEL_90f33590befb40b08d248165d653da1b",
       "value": " 8000/8000 [00:18&lt;00:00, 438.85it/s]"
      }
     },
     "31f9535ad8c84db9b2dfd88f87025d72": {
      "model_module": "@jupyter-widgets/base",
      "model_module_version": "1.2.0",
      "model_name": "LayoutModel",
      "state": {
       "_model_module": "@jupyter-widgets/base",
       "_model_module_version": "1.2.0",
       "_model_name": "LayoutModel",
       "_view_count": null,
       "_view_module": "@jupyter-widgets/base",
       "_view_module_version": "1.2.0",
       "_view_name": "LayoutView",
       "align_content": null,
       "align_items": null,
       "align_self": null,
       "border": null,
       "bottom": null,
       "display": null,
       "flex": null,
       "flex_flow": null,
       "grid_area": null,
       "grid_auto_columns": null,
       "grid_auto_flow": null,
       "grid_auto_rows": null,
       "grid_column": null,
       "grid_gap": null,
       "grid_row": null,
       "grid_template_areas": null,
       "grid_template_columns": null,
       "grid_template_rows": null,
       "height": null,
       "justify_content": null,
       "justify_items": null,
       "left": null,
       "margin": null,
       "max_height": null,
       "max_width": null,
       "min_height": null,
       "min_width": null,
       "object_fit": null,
       "object_position": null,
       "order": null,
       "overflow": null,
       "overflow_x": null,
       "overflow_y": null,
       "padding": null,
       "right": null,
       "top": null,
       "visibility": null,
       "width": null
      }
     },
     "3d8f531765994336920e3bfe79c6bf85": {
      "model_module": "@jupyter-widgets/controls",
      "model_module_version": "1.5.0",
      "model_name": "HTMLModel",
      "state": {
       "_dom_classes": [],
       "_model_module": "@jupyter-widgets/controls",
       "_model_module_version": "1.5.0",
       "_model_name": "HTMLModel",
       "_view_count": null,
       "_view_module": "@jupyter-widgets/controls",
       "_view_module_version": "1.5.0",
       "_view_name": "HTMLView",
       "description": "",
       "description_tooltip": null,
       "layout": "IPY_MODEL_31f9535ad8c84db9b2dfd88f87025d72",
       "placeholder": "​",
       "style": "IPY_MODEL_a079f75763554f0db370744bf647ba59",
       "value": "100%"
      }
     },
     "46d374a31a63402db327b500d905bc71": {
      "model_module": "@jupyter-widgets/controls",
      "model_module_version": "1.5.0",
      "model_name": "FloatProgressModel",
      "state": {
       "_dom_classes": [],
       "_model_module": "@jupyter-widgets/controls",
       "_model_module_version": "1.5.0",
       "_model_name": "FloatProgressModel",
       "_view_count": null,
       "_view_module": "@jupyter-widgets/controls",
       "_view_module_version": "1.5.0",
       "_view_name": "ProgressView",
       "bar_style": "success",
       "description": "",
       "description_tooltip": null,
       "layout": "IPY_MODEL_c9b2cdd2ac574c3390f91d9812bf59c0",
       "max": 8000.0,
       "min": 0.0,
       "orientation": "horizontal",
       "style": "IPY_MODEL_59f0e21210b545ee9aa207f7a3ec5795",
       "value": 8000.0
      }
     },
     "59f0e21210b545ee9aa207f7a3ec5795": {
      "model_module": "@jupyter-widgets/controls",
      "model_module_version": "1.5.0",
      "model_name": "ProgressStyleModel",
      "state": {
       "_model_module": "@jupyter-widgets/controls",
       "_model_module_version": "1.5.0",
       "_model_name": "ProgressStyleModel",
       "_view_count": null,
       "_view_module": "@jupyter-widgets/base",
       "_view_module_version": "1.2.0",
       "_view_name": "StyleView",
       "bar_color": null,
       "description_width": ""
      }
     },
     "5de1163ca5344a77a155aa9fe6e2d614": {
      "model_module": "@jupyter-widgets/base",
      "model_module_version": "1.2.0",
      "model_name": "LayoutModel",
      "state": {
       "_model_module": "@jupyter-widgets/base",
       "_model_module_version": "1.2.0",
       "_model_name": "LayoutModel",
       "_view_count": null,
       "_view_module": "@jupyter-widgets/base",
       "_view_module_version": "1.2.0",
       "_view_name": "LayoutView",
       "align_content": null,
       "align_items": null,
       "align_self": null,
       "border": null,
       "bottom": null,
       "display": null,
       "flex": null,
       "flex_flow": null,
       "grid_area": null,
       "grid_auto_columns": null,
       "grid_auto_flow": null,
       "grid_auto_rows": null,
       "grid_column": null,
       "grid_gap": null,
       "grid_row": null,
       "grid_template_areas": null,
       "grid_template_columns": null,
       "grid_template_rows": null,
       "height": null,
       "justify_content": null,
       "justify_items": null,
       "left": null,
       "margin": null,
       "max_height": null,
       "max_width": null,
       "min_height": null,
       "min_width": null,
       "object_fit": null,
       "object_position": null,
       "order": null,
       "overflow": null,
       "overflow_x": null,
       "overflow_y": null,
       "padding": null,
       "right": null,
       "top": null,
       "visibility": null,
       "width": null
      }
     },
     "66bb6d2914884d40a4d0c89d7f35f697": {
      "model_module": "@jupyter-widgets/base",
      "model_module_version": "1.2.0",
      "model_name": "LayoutModel",
      "state": {
       "_model_module": "@jupyter-widgets/base",
       "_model_module_version": "1.2.0",
       "_model_name": "LayoutModel",
       "_view_count": null,
       "_view_module": "@jupyter-widgets/base",
       "_view_module_version": "1.2.0",
       "_view_name": "LayoutView",
       "align_content": null,
       "align_items": null,
       "align_self": null,
       "border": null,
       "bottom": null,
       "display": null,
       "flex": null,
       "flex_flow": null,
       "grid_area": null,
       "grid_auto_columns": null,
       "grid_auto_flow": null,
       "grid_auto_rows": null,
       "grid_column": null,
       "grid_gap": null,
       "grid_row": null,
       "grid_template_areas": null,
       "grid_template_columns": null,
       "grid_template_rows": null,
       "height": null,
       "justify_content": null,
       "justify_items": null,
       "left": null,
       "margin": null,
       "max_height": null,
       "max_width": null,
       "min_height": null,
       "min_width": null,
       "object_fit": null,
       "object_position": null,
       "order": null,
       "overflow": null,
       "overflow_x": null,
       "overflow_y": null,
       "padding": null,
       "right": null,
       "top": null,
       "visibility": null,
       "width": null
      }
     },
     "896a7ffb659741d1927d3d3424c34c1a": {
      "model_module": "@jupyter-widgets/controls",
      "model_module_version": "1.5.0",
      "model_name": "HBoxModel",
      "state": {
       "_dom_classes": [],
       "_model_module": "@jupyter-widgets/controls",
       "_model_module_version": "1.5.0",
       "_model_name": "HBoxModel",
       "_view_count": null,
       "_view_module": "@jupyter-widgets/controls",
       "_view_module_version": "1.5.0",
       "_view_name": "HBoxView",
       "box_style": "",
       "children": [
        "IPY_MODEL_3d8f531765994336920e3bfe79c6bf85",
        "IPY_MODEL_46d374a31a63402db327b500d905bc71",
        "IPY_MODEL_1467d099496649b9861d9605358ee54a"
       ],
       "layout": "IPY_MODEL_66bb6d2914884d40a4d0c89d7f35f697"
      }
     },
     "90f33590befb40b08d248165d653da1b": {
      "model_module": "@jupyter-widgets/controls",
      "model_module_version": "1.5.0",
      "model_name": "DescriptionStyleModel",
      "state": {
       "_model_module": "@jupyter-widgets/controls",
       "_model_module_version": "1.5.0",
       "_model_name": "DescriptionStyleModel",
       "_view_count": null,
       "_view_module": "@jupyter-widgets/base",
       "_view_module_version": "1.2.0",
       "_view_name": "StyleView",
       "description_width": ""
      }
     },
     "a079f75763554f0db370744bf647ba59": {
      "model_module": "@jupyter-widgets/controls",
      "model_module_version": "1.5.0",
      "model_name": "DescriptionStyleModel",
      "state": {
       "_model_module": "@jupyter-widgets/controls",
       "_model_module_version": "1.5.0",
       "_model_name": "DescriptionStyleModel",
       "_view_count": null,
       "_view_module": "@jupyter-widgets/base",
       "_view_module_version": "1.2.0",
       "_view_name": "StyleView",
       "description_width": ""
      }
     },
     "c9b2cdd2ac574c3390f91d9812bf59c0": {
      "model_module": "@jupyter-widgets/base",
      "model_module_version": "1.2.0",
      "model_name": "LayoutModel",
      "state": {
       "_model_module": "@jupyter-widgets/base",
       "_model_module_version": "1.2.0",
       "_model_name": "LayoutModel",
       "_view_count": null,
       "_view_module": "@jupyter-widgets/base",
       "_view_module_version": "1.2.0",
       "_view_name": "LayoutView",
       "align_content": null,
       "align_items": null,
       "align_self": null,
       "border": null,
       "bottom": null,
       "display": null,
       "flex": null,
       "flex_flow": null,
       "grid_area": null,
       "grid_auto_columns": null,
       "grid_auto_flow": null,
       "grid_auto_rows": null,
       "grid_column": null,
       "grid_gap": null,
       "grid_row": null,
       "grid_template_areas": null,
       "grid_template_columns": null,
       "grid_template_rows": null,
       "height": null,
       "justify_content": null,
       "justify_items": null,
       "left": null,
       "margin": null,
       "max_height": null,
       "max_width": null,
       "min_height": null,
       "min_width": null,
       "object_fit": null,
       "object_position": null,
       "order": null,
       "overflow": null,
       "overflow_x": null,
       "overflow_y": null,
       "padding": null,
       "right": null,
       "top": null,
       "visibility": null,
       "width": null
      }
     }
    },
    "version_major": 2,
    "version_minor": 0
   }
  }
 },
 "nbformat": 4,
 "nbformat_minor": 5
}
