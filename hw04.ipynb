{
 "cells": [
  {
   "cell_type": "markdown",
   "id": "938fd99f",
   "metadata": {
    "id": "C_jdZ5vHJ4A9",
    "papermill": {
     "duration": 0.00662,
     "end_time": "2024-04-27T16:19:19.187308",
     "exception": false,
     "start_time": "2024-04-27T16:19:19.180688",
     "status": "completed"
    },
    "tags": []
   },
   "source": [
    "# Task description\n",
    "- Classify the speakers of given features.\n",
    "- Main goal: Learn how to use transformer.\n",
    "- Baselines:\n",
    "  - Easy: Run sample code and know how to use transformer.\n",
    "  - Medium: Know how to adjust parameters of transformer.\n",
    "  - Strong: Construct [conformer](https://arxiv.org/abs/2005.08100) which is a variety of transformer. \n",
    "  - Boss: Implement [Self-Attention Pooling](https://arxiv.org/pdf/2008.01077v1.pdf) & [Additive Margin Softmax](https://arxiv.org/pdf/1801.05599.pdf) to further boost the performance.\n",
    "\n",
    "- Other links\n",
    "  - Kaggle: [link](https://www.kaggle.com/t/ac77388c90204a4c8daebeddd40ff916)\n",
    "  - Slide: [link](https://docs.google.com/presentation/d/1HLAj7UUIjZOycDe7DaVLSwJfXVd3bXPOyzSb6Zk3hYU/edit?usp=sharing)\n",
    "  - Data: [link](https://github.com/MachineLearningHW/ML_HW4_Dataset)\n",
    "\n",
    "# Download dataset\n",
    "- Data is [here](https://github.com/MachineLearningHW/ML_HW4_Dataset)"
   ]
  },
  {
   "cell_type": "code",
   "execution_count": 1,
   "id": "7b7e6959",
   "metadata": {
    "execution": {
     "iopub.execute_input": "2024-04-27T16:19:19.200816Z",
     "iopub.status.busy": "2024-04-27T16:19:19.200478Z",
     "iopub.status.idle": "2024-04-27T16:19:19.214147Z",
     "shell.execute_reply": "2024-04-27T16:19:19.213342Z"
    },
    "id": "LhLNWB-AK2Z5",
    "papermill": {
     "duration": 0.022564,
     "end_time": "2024-04-27T16:19:19.216002",
     "exception": false,
     "start_time": "2024-04-27T16:19:19.193438",
     "status": "completed"
    },
    "tags": []
   },
   "outputs": [
    {
     "data": {
      "text/plain": [
       "'\\nIf the links below become inaccessible, please connect TAs.\\n'"
      ]
     },
     "execution_count": 1,
     "metadata": {},
     "output_type": "execute_result"
    }
   ],
   "source": [
    "\"\"\"\n",
    "If the links below become inaccessible, please connect TAs.\n",
    "\"\"\"\n",
    "\n",
    "# !wget https://github.com/MachineLearningHW/ML_HW4_Dataset/raw/0.0.1/Dataset.tar.gz.partaa\n",
    "# !wget https://github.com/MachineLearningHW/ML_HW4_Dataset/raw/0.0.1/Dataset.tar.gz.partab\n",
    "# !wget https://github.com/MachineLearningHW/ML_HW4_Dataset/raw/0.0.1/Dataset.tar.gz.partac\n",
    "# !wget https://github.com/MachineLearningHW/ML_HW4_Dataset/raw/0.0.1/Dataset.tar.gz.partad\n",
    "\n",
    "# !cat Dataset.tar.gz.parta* > Dataset.tar.gz\n",
    "\n",
    "# !tar zxvf Dataset.tar.gz"
   ]
  },
  {
   "cell_type": "markdown",
   "id": "b71d7342",
   "metadata": {
    "id": "ENWVAUDVJtVY",
    "papermill": {
     "duration": 0.005869,
     "end_time": "2024-04-27T16:19:19.228141",
     "exception": false,
     "start_time": "2024-04-27T16:19:19.222272",
     "status": "completed"
    },
    "tags": []
   },
   "source": [
    "## Fix Random Seed"
   ]
  },
  {
   "cell_type": "code",
   "execution_count": 2,
   "id": "1be2d5de",
   "metadata": {
    "execution": {
     "iopub.execute_input": "2024-04-27T16:19:19.241511Z",
     "iopub.status.busy": "2024-04-27T16:19:19.241256Z",
     "iopub.status.idle": "2024-04-27T16:19:22.920221Z",
     "shell.execute_reply": "2024-04-27T16:19:22.919427Z"
    },
    "id": "E6burzCXIyuA",
    "papermill": {
     "duration": 3.688248,
     "end_time": "2024-04-27T16:19:22.922465",
     "exception": false,
     "start_time": "2024-04-27T16:19:19.234217",
     "status": "completed"
    },
    "tags": []
   },
   "outputs": [],
   "source": [
    "import numpy as np\n",
    "import torch\n",
    "import random\n",
    "\n",
    "def set_seed(seed):\n",
    "    np.random.seed(seed)\n",
    "    random.seed(seed)\n",
    "    torch.manual_seed(seed)\n",
    "    if torch.cuda.is_available():\n",
    "        torch.cuda.manual_seed(seed)\n",
    "        torch.cuda.manual_seed_all(seed)\n",
    "    torch.backends.cudnn.benchmark = False\n",
    "    torch.backends.cudnn.deterministic = True\n",
    "\n",
    "set_seed(87)"
   ]
  },
  {
   "cell_type": "markdown",
   "id": "1dd25a37",
   "metadata": {
    "id": "k7dVbxW2LASN",
    "papermill": {
     "duration": 0.006078,
     "end_time": "2024-04-27T16:19:22.935144",
     "exception": false,
     "start_time": "2024-04-27T16:19:22.929066",
     "status": "completed"
    },
    "tags": []
   },
   "source": [
    "# Data\n",
    "\n",
    "## Dataset\n",
    "- Original dataset is [Voxceleb2](https://www.robots.ox.ac.uk/~vgg/data/voxceleb/vox2.html).\n",
    "- The [license](https://creativecommons.org/licenses/by/4.0/) and [complete version](https://www.robots.ox.ac.uk/~vgg/data/voxceleb/files/license.txt) of Voxceleb2.\n",
    "- We randomly select 600 speakers from Voxceleb2.\n",
    "- Then preprocess the raw waveforms into mel-spectrograms.\n",
    "\n",
    "- Args:\n",
    "  - data_dir: The path to the data directory.\n",
    "  - metadata_path: The path to the metadata.\n",
    "  - segment_len: The length of audio segment for training. \n",
    "- The architecture of data directory \\\\\n",
    "  - data directory \\\\\n",
    "  |---- metadata.json \\\\\n",
    "  |---- testdata.json \\\\\n",
    "  |---- mapping.json \\\\\n",
    "  |---- uttr-{random string}.pt \\\\\n",
    "\n",
    "- The information in metadata\n",
    "  - \"n_mels\": The dimention of mel-spectrogram.\n",
    "  - \"speakers\": A dictionary. \n",
    "    - Key: speaker ids.\n",
    "    - value: \"feature_path\" and \"mel_len\"\n",
    "\n",
    "\n",
    "For efficiency, we segment the mel-spectrograms into segments in the traing step."
   ]
  },
  {
   "cell_type": "code",
   "execution_count": 3,
   "id": "6af85707",
   "metadata": {
    "execution": {
     "iopub.execute_input": "2024-04-27T16:19:22.948752Z",
     "iopub.status.busy": "2024-04-27T16:19:22.948350Z",
     "iopub.status.idle": "2024-04-27T16:19:22.959446Z",
     "shell.execute_reply": "2024-04-27T16:19:22.958626Z"
    },
    "id": "KpuGxl4CI2pr",
    "papermill": {
     "duration": 0.019894,
     "end_time": "2024-04-27T16:19:22.961227",
     "exception": false,
     "start_time": "2024-04-27T16:19:22.941333",
     "status": "completed"
    },
    "tags": []
   },
   "outputs": [],
   "source": [
    "import os\n",
    "import json\n",
    "import torch\n",
    "import random\n",
    "from pathlib import Path\n",
    "from torch.utils.data import Dataset\n",
    "from torch.nn.utils.rnn import pad_sequence\n",
    " \n",
    " \n",
    "class myDataset(Dataset):\n",
    "\tdef __init__(self, data_dir, segment_len=128):\n",
    "\t\tself.data_dir = data_dir\n",
    "\t\tself.segment_len = segment_len\n",
    "\t\n",
    "\t\t# Load the mapping from speaker neme to their corresponding id. \n",
    "\t\tmapping_path = Path(data_dir) / \"mapping.json\"\n",
    "\t\tmapping = json.load(mapping_path.open())\n",
    "\t\tself.speaker2id = mapping[\"speaker2id\"]\n",
    "\t\n",
    "\t\t# Load metadata of training data.\n",
    "\t\tmetadata_path = Path(data_dir) / \"metadata.json\"\n",
    "\t\tmetadata = json.load(open(metadata_path))[\"speakers\"]\n",
    "\t\n",
    "\t\t# Get the total number of speaker.\n",
    "\t\tself.speaker_num = len(metadata.keys())\n",
    "\t\tself.data = []\n",
    "\t\tfor speaker in metadata.keys():\n",
    "\t\t\tfor utterances in metadata[speaker]:\n",
    "\t\t\t\tself.data.append([utterances[\"feature_path\"], self.speaker2id[speaker]])\n",
    " \n",
    "\tdef __len__(self):\n",
    "\t\t\treturn len(self.data)\n",
    " \n",
    "\tdef __getitem__(self, index):\n",
    "\t\tfeat_path, speaker = self.data[index]\n",
    "\t\t# Load preprocessed mel-spectrogram.\n",
    "\t\tmel = torch.load(os.path.join(self.data_dir, feat_path))\n",
    "\n",
    "\t\t# Segmemt mel-spectrogram into \"segment_len\" frames.\n",
    "\t\tif len(mel) > self.segment_len:\n",
    "\t\t\t# Randomly get the starting point of the segment.\n",
    "\t\t\tstart = random.randint(0, len(mel) - self.segment_len)\n",
    "\t\t\t# Get a segment with \"segment_len\" frames.\n",
    "\t\t\tmel = torch.FloatTensor(mel[start:start+self.segment_len])\n",
    "\t\telse:\n",
    "\t\t\tmel = torch.FloatTensor(mel)\n",
    "\t\t# Turn the speaker id into long for computing loss later.\n",
    "\t\tspeaker = torch.FloatTensor([speaker]).long()\n",
    "\t\treturn mel, speaker\n",
    " \n",
    "\tdef get_speaker_number(self):\n",
    "\t\treturn self.speaker_num"
   ]
  },
  {
   "cell_type": "markdown",
   "id": "eeacbe03",
   "metadata": {
    "id": "668hverTMlGN",
    "papermill": {
     "duration": 0.00599,
     "end_time": "2024-04-27T16:19:22.973383",
     "exception": false,
     "start_time": "2024-04-27T16:19:22.967393",
     "status": "completed"
    },
    "tags": []
   },
   "source": [
    "## Dataloader\n",
    "- Split dataset into training dataset(90%) and validation dataset(10%).\n",
    "- Create dataloader to iterate the data."
   ]
  },
  {
   "cell_type": "code",
   "execution_count": 4,
   "id": "abba97dc",
   "metadata": {
    "execution": {
     "iopub.execute_input": "2024-04-27T16:19:22.986757Z",
     "iopub.status.busy": "2024-04-27T16:19:22.986466Z",
     "iopub.status.idle": "2024-04-27T16:19:22.994440Z",
     "shell.execute_reply": "2024-04-27T16:19:22.993621Z"
    },
    "id": "B7c2gZYoJDRS",
    "papermill": {
     "duration": 0.016766,
     "end_time": "2024-04-27T16:19:22.996280",
     "exception": false,
     "start_time": "2024-04-27T16:19:22.979514",
     "status": "completed"
    },
    "tags": []
   },
   "outputs": [],
   "source": [
    "import torch\n",
    "from torch.utils.data import DataLoader, random_split\n",
    "from torch.nn.utils.rnn import pad_sequence\n",
    "\n",
    "\n",
    "def collate_batch(batch):\n",
    "\t# Process features within a batch.\n",
    "\t\"\"\"Collate a batch of data.\"\"\"\n",
    "\tmel, speaker = zip(*batch)\n",
    "\t# Because we train the model batch by batch, we need to pad the features in the same batch to make their lengths the same.\n",
    "\tmel = pad_sequence(mel, batch_first=True, padding_value=-20)    # pad log 10^(-20) which is very small value.\n",
    "\t# mel: (batch size, length, 40)\n",
    "\treturn mel, torch.FloatTensor(speaker).long()\n",
    "\n",
    "\n",
    "def get_dataloader(data_dir, batch_size, n_workers):\n",
    "\t\"\"\"Generate dataloader\"\"\"\n",
    "\tdataset = myDataset(data_dir)\n",
    "\tspeaker_num = dataset.get_speaker_number()\n",
    "\t# Split dataset into training dataset and validation dataset\n",
    "\ttrainlen = int(0.9 * len(dataset))\n",
    "\tlengths = [trainlen, len(dataset) - trainlen]\n",
    "\ttrainset, validset = random_split(dataset, lengths)\n",
    "\n",
    "\ttrain_loader = DataLoader(\n",
    "\t\ttrainset,\n",
    "\t\tbatch_size=batch_size,\n",
    "\t\tshuffle=True,\n",
    "\t\tdrop_last=True,\n",
    "\t\tnum_workers=n_workers,\n",
    "\t\tpin_memory=True,\n",
    "\t\tcollate_fn=collate_batch,\n",
    "\t)\n",
    "\tvalid_loader = DataLoader(\n",
    "\t\tvalidset,\n",
    "\t\tbatch_size=batch_size,\n",
    "\t\tnum_workers=n_workers,\n",
    "\t\tdrop_last=True,\n",
    "\t\tpin_memory=True,\n",
    "\t\tcollate_fn=collate_batch,\n",
    "\t)\n",
    "\n",
    "\treturn train_loader, valid_loader, speaker_num"
   ]
  },
  {
   "cell_type": "markdown",
   "id": "89866550",
   "metadata": {
    "id": "5FOSZYxrMqhc",
    "papermill": {
     "duration": 0.005989,
     "end_time": "2024-04-27T16:19:23.008455",
     "exception": false,
     "start_time": "2024-04-27T16:19:23.002466",
     "status": "completed"
    },
    "tags": []
   },
   "source": [
    "# Model\n",
    "- TransformerEncoderLayer:\n",
    "  - Base transformer encoder layer in [Attention Is All You Need](https://arxiv.org/abs/1706.03762)\n",
    "  - Parameters:\n",
    "    - d_model: the number of expected features of the input (required).\n",
    "\n",
    "    - nhead: the number of heads of the multiheadattention models (required).\n",
    "\n",
    "    - dim_feedforward: the dimension of the feedforward network model (default=2048).\n",
    "\n",
    "    - dropout: the dropout value (default=0.1).\n",
    "\n",
    "    - activation: the activation function of intermediate layer, relu or gelu (default=relu).\n",
    "\n",
    "- TransformerEncoder:\n",
    "  - TransformerEncoder is a stack of N transformer encoder layers\n",
    "  - Parameters:\n",
    "    - encoder_layer: an instance of the TransformerEncoderLayer() class (required).\n",
    "\n",
    "    - num_layers: the number of sub-encoder-layers in the encoder (required).\n",
    "\n",
    "    - norm: the layer normalization component (optional)."
   ]
  },
  {
   "cell_type": "code",
   "execution_count": 5,
   "id": "a78a5bd3",
   "metadata": {
    "execution": {
     "iopub.execute_input": "2024-04-27T16:19:23.021657Z",
     "iopub.status.busy": "2024-04-27T16:19:23.021402Z",
     "iopub.status.idle": "2024-04-27T16:19:23.029154Z",
     "shell.execute_reply": "2024-04-27T16:19:23.028328Z"
    },
    "id": "iXZ5B0EKJGs8",
    "papermill": {
     "duration": 0.016521,
     "end_time": "2024-04-27T16:19:23.031049",
     "exception": false,
     "start_time": "2024-04-27T16:19:23.014528",
     "status": "completed"
    },
    "tags": []
   },
   "outputs": [],
   "source": [
    "import torch\n",
    "import torch.nn as nn\n",
    "import torch.nn.functional as F\n",
    "\n",
    "\n",
    "class Classifier(nn.Module):\n",
    "\tdef __init__(self, d_model=128, n_spks=600, dropout=0.1):\n",
    "\t\tsuper().__init__()\n",
    "\t\t# Project the dimension of features from that of input into d_model.\n",
    "\t\tself.prenet = nn.Linear(40, d_model)\n",
    "\t\t# TODO:\n",
    "\t\t#   Change Transformer to Conformer.\n",
    "\t\t#   https://arxiv.org/abs/2005.08100\n",
    "\t\tself.encoder_layer = nn.TransformerEncoderLayer(\n",
    "\t\t\td_model=d_model, dim_feedforward=256, nhead=1\n",
    "\t\t)\n",
    "\t\t# self.encoder = nn.TransformerEncoder(self.encoder_layer, num_layers=2)\n",
    "\n",
    "\t\t# Project the the dimension of features from d_model into speaker nums.\n",
    "\t\tself.pred_layer = nn.Sequential(\n",
    "#  \t\t\tnn.Linear(d_model, d_model),\n",
    "  \t\t\tnn.ReLU(),\n",
    "\t\t\tnn.Linear(d_model, n_spks),\n",
    "\t\t)\n",
    "\n",
    "\tdef forward(self, mels):\n",
    "\t\t\"\"\"\n",
    "\t\targs:\n",
    "\t\t\tmels: (batch size, length, 40)\n",
    "\t\treturn:\n",
    "\t\t\tout: (batch size, n_spks)\n",
    "\t\t\"\"\"\n",
    "\t\t# out: (batch size, length, d_model)\n",
    "\t\tout = self.prenet(mels)\n",
    "\t\t# out: (length, batch size, d_model)\n",
    "\t\tout = out.permute(1, 0, 2)\n",
    "\t\t# The encoder layer expect features in the shape of (length, batch size, d_model).\n",
    "\t\tout = self.encoder_layer(out)\n",
    "\t\t# out: (batch size, length, d_model)\n",
    "\t\tout = out.transpose(0, 1)\n",
    "\t\t# mean pooling\n",
    "\t\tstats = out.mean(dim=1)\n",
    "\n",
    "\t\t# out: (batch, n_spks)\n",
    "\t\tout = self.pred_layer(stats)\n",
    "\t\treturn out"
   ]
  },
  {
   "cell_type": "markdown",
   "id": "0727cb26",
   "metadata": {
    "id": "W7yX8JinM5Ly",
    "papermill": {
     "duration": 0.005856,
     "end_time": "2024-04-27T16:19:23.043039",
     "exception": false,
     "start_time": "2024-04-27T16:19:23.037183",
     "status": "completed"
    },
    "tags": []
   },
   "source": [
    "# Learning rate schedule\n",
    "- For transformer architecture, the design of learning rate schedule is different from that of CNN.\n",
    "- Previous works show that the warmup of learning rate is useful for training models with transformer architectures.\n",
    "- The warmup schedule\n",
    "  - Set learning rate to 0 in the beginning.\n",
    "  - The learning rate increases linearly from 0 to initial learning rate during warmup period."
   ]
  },
  {
   "cell_type": "code",
   "execution_count": 6,
   "id": "00b6023e",
   "metadata": {
    "execution": {
     "iopub.execute_input": "2024-04-27T16:19:23.056922Z",
     "iopub.status.busy": "2024-04-27T16:19:23.056624Z",
     "iopub.status.idle": "2024-04-27T16:19:23.064029Z",
     "shell.execute_reply": "2024-04-27T16:19:23.063231Z"
    },
    "id": "ykt0N1nVJJi2",
    "papermill": {
     "duration": 0.016075,
     "end_time": "2024-04-27T16:19:23.065904",
     "exception": false,
     "start_time": "2024-04-27T16:19:23.049829",
     "status": "completed"
    },
    "tags": []
   },
   "outputs": [],
   "source": [
    "import math\n",
    "\n",
    "import torch\n",
    "from torch.optim import Optimizer\n",
    "from torch.optim.lr_scheduler import LambdaLR\n",
    "\n",
    "\n",
    "def get_cosine_schedule_with_warmup(\n",
    "\toptimizer: Optimizer,\n",
    "\tnum_warmup_steps: int,\n",
    "\tnum_training_steps: int,\n",
    "\tnum_cycles: float = 0.5,\n",
    "\tlast_epoch: int = -1,\n",
    "):\n",
    "\t\"\"\"\n",
    "\tCreate a schedule with a learning rate that decreases following the values of the cosine function between the\n",
    "\tinitial lr set in the optimizer to 0, after a warmup period during which it increases linearly between 0 and the\n",
    "\tinitial lr set in the optimizer.\n",
    "\n",
    "\tArgs:\n",
    "\t\toptimizer (:class:`~torch.optim.Optimizer`):\n",
    "\t\tThe optimizer for which to schedule the learning rate.\n",
    "\t\tnum_warmup_steps (:obj:`int`):\n",
    "\t\tThe number of steps for the warmup phase.\n",
    "\t\tnum_training_steps (:obj:`int`):\n",
    "\t\tThe total number of training steps.\n",
    "\t\tnum_cycles (:obj:`float`, `optional`, defaults to 0.5):\n",
    "\t\tThe number of waves in the cosine schedule (the defaults is to just decrease from the max value to 0\n",
    "\t\tfollowing a half-cosine).\n",
    "\t\tlast_epoch (:obj:`int`, `optional`, defaults to -1):\n",
    "\t\tThe index of the last epoch when resuming training.\n",
    "\n",
    "\tReturn:\n",
    "\t\t:obj:`torch.optim.lr_scheduler.LambdaLR` with the appropriate schedule.\n",
    "\t\"\"\"\n",
    "\tdef lr_lambda(current_step):\n",
    "\t\t# Warmup\n",
    "\t\tif current_step < num_warmup_steps:\n",
    "\t\t\treturn float(current_step) / float(max(1, num_warmup_steps))\n",
    "\t\t# decadence\n",
    "\t\tprogress = float(current_step - num_warmup_steps) / float(\n",
    "\t\t\tmax(1, num_training_steps - num_warmup_steps)\n",
    "\t\t)\n",
    "\t\treturn max(\n",
    "\t\t\t0.0, 0.5 * (1.0 + math.cos(math.pi * float(num_cycles) * 2.0 * progress))\n",
    "\t\t)\n",
    "\n",
    "\treturn LambdaLR(optimizer, lr_lambda, last_epoch)"
   ]
  },
  {
   "cell_type": "markdown",
   "id": "385fe39f",
   "metadata": {
    "id": "-LN2XkteM_uH",
    "papermill": {
     "duration": 0.00591,
     "end_time": "2024-04-27T16:19:23.078023",
     "exception": false,
     "start_time": "2024-04-27T16:19:23.072113",
     "status": "completed"
    },
    "tags": []
   },
   "source": [
    "# Model Function\n",
    "- Model forward function."
   ]
  },
  {
   "cell_type": "code",
   "execution_count": 7,
   "id": "b8e815b1",
   "metadata": {
    "execution": {
     "iopub.execute_input": "2024-04-27T16:19:23.091193Z",
     "iopub.status.busy": "2024-04-27T16:19:23.090749Z",
     "iopub.status.idle": "2024-04-27T16:19:23.096075Z",
     "shell.execute_reply": "2024-04-27T16:19:23.095300Z"
    },
    "id": "N-rr8529JMz0",
    "papermill": {
     "duration": 0.013927,
     "end_time": "2024-04-27T16:19:23.097947",
     "exception": false,
     "start_time": "2024-04-27T16:19:23.084020",
     "status": "completed"
    },
    "tags": []
   },
   "outputs": [],
   "source": [
    "import torch\n",
    "\n",
    "\n",
    "def model_fn(batch, model, criterion, device):\n",
    "\t\"\"\"Forward a batch through the model.\"\"\"\n",
    "\n",
    "\tmels, labels = batch\n",
    "\tmels = mels.to(device)\n",
    "\tlabels = labels.to(device)\n",
    "\n",
    "\touts = model(mels)\n",
    "\n",
    "\tloss = criterion(outs, labels)\n",
    "\n",
    "\t# Get the speaker id with highest probability.\n",
    "\tpreds = outs.argmax(1)\n",
    "\t# Compute accuracy.\n",
    "\taccuracy = torch.mean((preds == labels).float())\n",
    "\n",
    "\treturn loss, accuracy"
   ]
  },
  {
   "cell_type": "markdown",
   "id": "fa6d98fb",
   "metadata": {
    "id": "cwM_xyOtNCI2",
    "papermill": {
     "duration": 0.005813,
     "end_time": "2024-04-27T16:19:23.109901",
     "exception": false,
     "start_time": "2024-04-27T16:19:23.104088",
     "status": "completed"
    },
    "tags": []
   },
   "source": [
    "# Validate\n",
    "- Calculate accuracy of the validation set."
   ]
  },
  {
   "cell_type": "code",
   "execution_count": 8,
   "id": "96bbe9ae",
   "metadata": {
    "execution": {
     "iopub.execute_input": "2024-04-27T16:19:23.123032Z",
     "iopub.status.busy": "2024-04-27T16:19:23.122585Z",
     "iopub.status.idle": "2024-04-27T16:19:23.129342Z",
     "shell.execute_reply": "2024-04-27T16:19:23.128540Z"
    },
    "id": "YAiv6kpdJRTJ",
    "papermill": {
     "duration": 0.015381,
     "end_time": "2024-04-27T16:19:23.131267",
     "exception": false,
     "start_time": "2024-04-27T16:19:23.115886",
     "status": "completed"
    },
    "tags": []
   },
   "outputs": [],
   "source": [
    "from tqdm import tqdm\n",
    "import torch\n",
    "\n",
    "\n",
    "def valid(dataloader, model, criterion, device): \n",
    "\t\"\"\"Validate on validation set.\"\"\"\n",
    "\n",
    "\tmodel.eval()\n",
    "\trunning_loss = 0.0\n",
    "\trunning_accuracy = 0.0\n",
    "\tpbar = tqdm(total=len(dataloader.dataset), ncols=0, desc=\"Valid\", unit=\" uttr\")\n",
    "\n",
    "\tfor i, batch in enumerate(dataloader):\n",
    "\t\twith torch.no_grad():\n",
    "\t\t\tloss, accuracy = model_fn(batch, model, criterion, device)\n",
    "\t\t\trunning_loss += loss.item()\n",
    "\t\t\trunning_accuracy += accuracy.item()\n",
    "\n",
    "\t\tpbar.update(dataloader.batch_size)\n",
    "\t\tpbar.set_postfix(\n",
    "\t\t\tloss=f\"{running_loss / (i+1):.2f}\",\n",
    "\t\t\taccuracy=f\"{running_accuracy / (i+1):.2f}\",\n",
    "\t\t)\n",
    "\n",
    "\tpbar.close()\n",
    "\tmodel.train()\n",
    "\n",
    "\treturn running_accuracy / len(dataloader)"
   ]
  },
  {
   "cell_type": "markdown",
   "id": "2944a85c",
   "metadata": {
    "id": "g6ne9G-eNEdG",
    "papermill": {
     "duration": 0.005813,
     "end_time": "2024-04-27T16:19:23.143206",
     "exception": false,
     "start_time": "2024-04-27T16:19:23.137393",
     "status": "completed"
    },
    "tags": []
   },
   "source": [
    "# Main function"
   ]
  },
  {
   "cell_type": "code",
   "execution_count": 9,
   "id": "eafa2746",
   "metadata": {
    "execution": {
     "iopub.execute_input": "2024-04-27T16:19:23.156755Z",
     "iopub.status.busy": "2024-04-27T16:19:23.156487Z",
     "iopub.status.idle": "2024-04-27T16:54:38.023013Z",
     "shell.execute_reply": "2024-04-27T16:54:38.021797Z"
    },
    "id": "Usv9s-CuJSG7",
    "papermill": {
     "duration": 2114.875724,
     "end_time": "2024-04-27T16:54:38.025053",
     "exception": false,
     "start_time": "2024-04-27T16:19:23.149329",
     "status": "completed"
    },
    "tags": []
   },
   "outputs": [
    {
     "name": "stdout",
     "output_type": "stream",
     "text": [
      "[Info]: Use cuda now!\n"
     ]
    },
    {
     "name": "stderr",
     "output_type": "stream",
     "text": [
      "/opt/conda/lib/python3.10/site-packages/torch/utils/data/dataloader.py:557: UserWarning: This DataLoader will create 8 worker processes in total. Our suggested max number of worker in current system is 4, which is smaller than what this DataLoader is going to create. Please be aware that excessive worker creation might get DataLoader running slow or even freeze, lower the worker number to avoid potential slowness/freeze if necessary.\n",
      "  warnings.warn(_create_warning_msg(\n"
     ]
    },
    {
     "name": "stdout",
     "output_type": "stream",
     "text": [
      "[Info]: Finish loading data!\n",
      "[Info]: Finish creating model!\n"
     ]
    },
    {
     "name": "stderr",
     "output_type": "stream",
     "text": [
      "Train:  80% 1590/2000 [00:48<00:11, 35.92 step/s, accuracy=0.09, loss=4.46, step=1500]/opt/conda/lib/python3.10/site-packages/torch/utils/data/dataloader.py:557: UserWarning: This DataLoader will create 8 worker processes in total. Our suggested max number of worker in current system is 4, which is smaller than what this DataLoader is going to create. Please be aware that excessive worker creation might get DataLoader running slow or even freeze, lower the worker number to avoid potential slowness/freeze if necessary.\n",
      "  warnings.warn(_create_warning_msg(\n",
      "Train: 100% 2000/2000 [00:51<00:00, 38.51 step/s, accuracy=0.19, loss=4.24, step=2000] \n",
      "Valid: 100% 5664/5667 [00:05<00:00, 1099.24 uttr/s, accuracy=0.18, loss=4.05]\n",
      "Train: 100% 2000/2000 [00:18<00:00, 107.16 step/s, accuracy=0.31, loss=3.27, step=4000]\n",
      "Valid: 100% 5664/5667 [00:01<00:00, 3022.48 uttr/s, accuracy=0.31, loss=3.29]\n",
      "Train: 100% 2000/2000 [00:18<00:00, 108.19 step/s, accuracy=0.44, loss=2.65, step=6000]\n",
      "Valid: 100% 5664/5667 [00:01<00:00, 3143.31 uttr/s, accuracy=0.36, loss=2.92]\n",
      "Train: 100% 2000/2000 [00:18<00:00, 105.78 step/s, accuracy=0.31, loss=2.54, step=8000]\n",
      "Valid: 100% 5664/5667 [00:01<00:00, 2939.06 uttr/s, accuracy=0.41, loss=2.66]\n",
      "Train: 100% 2000/2000 [00:18<00:00, 109.85 step/s, accuracy=0.44, loss=2.29, step=1e+4]\n",
      "Valid: 100% 5664/5667 [00:02<00:00, 2748.03 uttr/s, accuracy=0.46, loss=2.44]\n",
      "Train:   1% 12/2000 [00:00<00:17, 112.96 step/s]"
     ]
    },
    {
     "name": "stdout",
     "output_type": "stream",
     "text": [
      "Step 10000, best model saved. (accuracy=0.4620)\n"
     ]
    },
    {
     "name": "stderr",
     "output_type": "stream",
     "text": [
      "Train: 100% 2000/2000 [00:18<00:00, 108.47 step/s, accuracy=0.59, loss=1.79, step=12000]\n",
      "Valid: 100% 5664/5667 [00:01<00:00, 3157.89 uttr/s, accuracy=0.48, loss=2.35]\n",
      "Train: 100% 2000/2000 [00:18<00:00, 105.33 step/s, accuracy=0.56, loss=1.86, step=14000]\n",
      "Valid: 100% 5664/5667 [00:01<00:00, 3386.66 uttr/s, accuracy=0.50, loss=2.25]\n",
      "Train: 100% 2000/2000 [00:18<00:00, 106.47 step/s, accuracy=0.50, loss=1.71, step=16000]\n",
      "Valid: 100% 5664/5667 [00:01<00:00, 3408.70 uttr/s, accuracy=0.53, loss=2.13]\n",
      "Train: 100% 2000/2000 [00:18<00:00, 106.34 step/s, accuracy=0.50, loss=1.84, step=18000]\n",
      "Valid: 100% 5664/5667 [00:01<00:00, 3351.48 uttr/s, accuracy=0.53, loss=2.08]\n",
      "Train: 100% 2000/2000 [00:18<00:00, 107.26 step/s, accuracy=0.72, loss=1.36, step=2e+4]\n",
      "Valid: 100% 5664/5667 [00:01<00:00, 3378.87 uttr/s, accuracy=0.55, loss=2.01]\n",
      "Train:   1% 11/2000 [00:00<00:19, 103.15 step/s]"
     ]
    },
    {
     "name": "stdout",
     "output_type": "stream",
     "text": [
      "Step 20000, best model saved. (accuracy=0.5461)\n"
     ]
    },
    {
     "name": "stderr",
     "output_type": "stream",
     "text": [
      "Train: 100% 2000/2000 [00:18<00:00, 109.99 step/s, accuracy=0.50, loss=2.10, step=22000]\n",
      "Valid: 100% 5664/5667 [00:01<00:00, 3344.92 uttr/s, accuracy=0.55, loss=2.00]\n",
      "Train: 100% 2000/2000 [00:18<00:00, 105.41 step/s, accuracy=0.56, loss=1.43, step=24000]\n",
      "Valid: 100% 5664/5667 [00:01<00:00, 3382.72 uttr/s, accuracy=0.57, loss=1.90]\n",
      "Train: 100% 2000/2000 [00:18<00:00, 107.25 step/s, accuracy=0.69, loss=1.18, step=26000]\n",
      "Valid: 100% 5664/5667 [00:01<00:00, 3130.79 uttr/s, accuracy=0.57, loss=1.92]\n",
      "Train: 100% 2000/2000 [00:18<00:00, 109.85 step/s, accuracy=0.69, loss=1.42, step=28000]\n",
      "Valid: 100% 5664/5667 [00:01<00:00, 3403.61 uttr/s, accuracy=0.57, loss=1.90]\n",
      "Train: 100% 2000/2000 [00:18<00:00, 106.07 step/s, accuracy=0.59, loss=1.98, step=3e+4]\n",
      "Valid: 100% 5664/5667 [00:01<00:00, 3366.05 uttr/s, accuracy=0.56, loss=1.92]\n",
      "Train:   1% 11/2000 [00:00<00:18, 108.34 step/s]"
     ]
    },
    {
     "name": "stdout",
     "output_type": "stream",
     "text": [
      "Step 30000, best model saved. (accuracy=0.5719)\n"
     ]
    },
    {
     "name": "stderr",
     "output_type": "stream",
     "text": [
      "Train: 100% 2000/2000 [00:19<00:00, 105.02 step/s, accuracy=0.62, loss=1.14, step=32000]\n",
      "Valid: 100% 5664/5667 [00:01<00:00, 3193.86 uttr/s, accuracy=0.60, loss=1.77]\n",
      "Train: 100% 2000/2000 [00:18<00:00, 108.92 step/s, accuracy=0.56, loss=1.76, step=34000]\n",
      "Valid: 100% 5664/5667 [00:01<00:00, 3305.22 uttr/s, accuracy=0.60, loss=1.79]\n",
      "Train: 100% 2000/2000 [00:18<00:00, 105.91 step/s, accuracy=0.69, loss=1.06, step=36000]\n",
      "Valid: 100% 5664/5667 [00:01<00:00, 3387.37 uttr/s, accuracy=0.61, loss=1.75]\n",
      "Train: 100% 2000/2000 [00:18<00:00, 109.69 step/s, accuracy=0.72, loss=1.35, step=38000]\n",
      "Valid: 100% 5664/5667 [00:01<00:00, 2853.51 uttr/s, accuracy=0.62, loss=1.67]\n",
      "Train: 100% 2000/2000 [00:18<00:00, 107.06 step/s, accuracy=0.88, loss=0.60, step=4e+4]\n",
      "Valid: 100% 5664/5667 [00:01<00:00, 3407.28 uttr/s, accuracy=0.63, loss=1.62]\n",
      "Train:   1% 11/2000 [00:00<00:18, 109.41 step/s]"
     ]
    },
    {
     "name": "stdout",
     "output_type": "stream",
     "text": [
      "Step 40000, best model saved. (accuracy=0.6326)\n"
     ]
    },
    {
     "name": "stderr",
     "output_type": "stream",
     "text": [
      "Train: 100% 2000/2000 [00:19<00:00, 105.00 step/s, accuracy=0.66, loss=1.62, step=42000]\n",
      "Valid: 100% 5664/5667 [00:01<00:00, 3416.39 uttr/s, accuracy=0.63, loss=1.66]\n",
      "Train: 100% 2000/2000 [00:19<00:00, 102.91 step/s, accuracy=0.62, loss=1.38, step=44000]\n",
      "Valid: 100% 5664/5667 [00:01<00:00, 3432.06 uttr/s, accuracy=0.62, loss=1.67]\n",
      "Train: 100% 2000/2000 [00:19<00:00, 102.52 step/s, accuracy=0.78, loss=0.89, step=46000]\n",
      "Valid: 100% 5664/5667 [00:01<00:00, 3325.69 uttr/s, accuracy=0.64, loss=1.58]\n",
      "Train: 100% 2000/2000 [00:19<00:00, 101.15 step/s, accuracy=0.75, loss=1.49, step=48000]\n",
      "Valid: 100% 5664/5667 [00:01<00:00, 3393.88 uttr/s, accuracy=0.64, loss=1.62]\n",
      "Train: 100% 2000/2000 [00:18<00:00, 105.51 step/s, accuracy=0.75, loss=0.95, step=5e+4]\n",
      "Valid: 100% 5664/5667 [00:01<00:00, 3362.26 uttr/s, accuracy=0.65, loss=1.56]\n",
      "Train:   1% 11/2000 [00:00<00:19, 103.97 step/s]"
     ]
    },
    {
     "name": "stdout",
     "output_type": "stream",
     "text": [
      "Step 50000, best model saved. (accuracy=0.6490)\n"
     ]
    },
    {
     "name": "stderr",
     "output_type": "stream",
     "text": [
      "Train: 100% 2000/2000 [00:20<00:00, 99.44 step/s, accuracy=0.78, loss=0.88, step=52000] \n",
      "Valid: 100% 5664/5667 [00:01<00:00, 3423.34 uttr/s, accuracy=0.64, loss=1.59]\n",
      "Train: 100% 2000/2000 [00:19<00:00, 102.48 step/s, accuracy=0.72, loss=1.10, step=54000]\n",
      "Valid: 100% 5664/5667 [00:02<00:00, 2498.08 uttr/s, accuracy=0.65, loss=1.57]\n",
      "Train: 100% 2000/2000 [00:19<00:00, 101.60 step/s, accuracy=0.69, loss=1.46, step=56000]\n",
      "Valid: 100% 5664/5667 [00:02<00:00, 1940.22 uttr/s, accuracy=0.66, loss=1.51]\n",
      "Train: 100% 2000/2000 [00:18<00:00, 105.67 step/s, accuracy=0.84, loss=0.71, step=58000]\n",
      "Valid: 100% 5664/5667 [00:02<00:00, 2442.18 uttr/s, accuracy=0.66, loss=1.54]\n",
      "Train: 100% 2000/2000 [00:19<00:00, 103.71 step/s, accuracy=0.69, loss=1.19, step=6e+4]\n",
      "Valid: 100% 5664/5667 [00:02<00:00, 2471.60 uttr/s, accuracy=0.67, loss=1.51]\n",
      "Train:   1% 13/2000 [00:00<00:16, 118.80 step/s]"
     ]
    },
    {
     "name": "stdout",
     "output_type": "stream",
     "text": [
      "Step 60000, best model saved. (accuracy=0.6695)\n"
     ]
    },
    {
     "name": "stderr",
     "output_type": "stream",
     "text": [
      "Train: 100% 2000/2000 [00:19<00:00, 103.26 step/s, accuracy=0.69, loss=1.34, step=62000]\n",
      "Valid: 100% 5664/5667 [00:01<00:00, 3056.16 uttr/s, accuracy=0.67, loss=1.45]\n",
      "Train: 100% 2000/2000 [00:18<00:00, 107.56 step/s, accuracy=0.84, loss=0.75, step=64000]\n",
      "Valid: 100% 5664/5667 [00:01<00:00, 3379.18 uttr/s, accuracy=0.66, loss=1.53]\n",
      "Train: 100% 2000/2000 [00:18<00:00, 106.10 step/s, accuracy=0.72, loss=0.98, step=66000]\n",
      "Valid: 100% 5664/5667 [00:01<00:00, 3292.91 uttr/s, accuracy=0.66, loss=1.53]\n",
      "Train: 100% 2000/2000 [00:18<00:00, 109.98 step/s, accuracy=0.81, loss=0.62, step=68000]\n",
      "Valid: 100% 5664/5667 [00:01<00:00, 3125.20 uttr/s, accuracy=0.69, loss=1.40]\n",
      "Train: 100% 2000/2000 [00:18<00:00, 106.46 step/s, accuracy=0.75, loss=0.95, step=7e+4]\n",
      "Valid: 100% 5664/5667 [00:01<00:00, 3430.79 uttr/s, accuracy=0.68, loss=1.45]\n",
      "Train:   1% 12/2000 [00:00<00:16, 117.04 step/s]"
     ]
    },
    {
     "name": "stdout",
     "output_type": "stream",
     "text": [
      "Step 70000, best model saved. (accuracy=0.6852)\n"
     ]
    },
    {
     "name": "stderr",
     "output_type": "stream",
     "text": [
      "Train: 100% 2000/2000 [00:19<00:00, 105.21 step/s, accuracy=0.88, loss=0.57, step=72000]\n",
      "Valid: 100% 5664/5667 [00:01<00:00, 3235.98 uttr/s, accuracy=0.68, loss=1.43]\n",
      "Train: 100% 2000/2000 [00:18<00:00, 109.24 step/s, accuracy=0.62, loss=1.15, step=74000]\n",
      "Valid: 100% 5664/5667 [00:01<00:00, 3296.60 uttr/s, accuracy=0.68, loss=1.41]\n",
      "Train: 100% 2000/2000 [00:18<00:00, 105.91 step/s, accuracy=0.75, loss=0.72, step=76000]\n",
      "Valid: 100% 5664/5667 [00:01<00:00, 3286.81 uttr/s, accuracy=0.68, loss=1.43]\n",
      "Train: 100% 2000/2000 [00:19<00:00, 104.51 step/s, accuracy=0.72, loss=1.17, step=78000]\n",
      "Valid: 100% 5664/5667 [00:01<00:00, 3216.45 uttr/s, accuracy=0.69, loss=1.42]\n",
      "Train: 100% 2000/2000 [00:18<00:00, 108.06 step/s, accuracy=0.75, loss=1.18, step=8e+4]\n",
      "Valid: 100% 5664/5667 [00:01<00:00, 3293.64 uttr/s, accuracy=0.69, loss=1.42]\n",
      "Train:   1% 12/2000 [00:00<00:18, 109.44 step/s]"
     ]
    },
    {
     "name": "stdout",
     "output_type": "stream",
     "text": [
      "Step 80000, best model saved. (accuracy=0.6868)\n"
     ]
    },
    {
     "name": "stderr",
     "output_type": "stream",
     "text": [
      "Train: 100% 2000/2000 [00:19<00:00, 104.37 step/s, accuracy=0.75, loss=1.02, step=82000]\n",
      "Valid: 100% 5664/5667 [00:01<00:00, 3402.16 uttr/s, accuracy=0.69, loss=1.38]\n",
      "Train: 100% 2000/2000 [00:18<00:00, 106.36 step/s, accuracy=0.78, loss=1.14, step=84000]\n",
      "Valid: 100% 5664/5667 [00:01<00:00, 3053.09 uttr/s, accuracy=0.70, loss=1.37]\n",
      "Train: 100% 2000/2000 [00:18<00:00, 109.56 step/s, accuracy=0.69, loss=1.00, step=86000]\n",
      "Valid: 100% 5664/5667 [00:01<00:00, 3412.60 uttr/s, accuracy=0.70, loss=1.33]\n",
      "Train: 100% 2000/2000 [00:19<00:00, 105.12 step/s, accuracy=0.78, loss=0.81, step=88000]\n",
      "Valid: 100% 5664/5667 [00:01<00:00, 3347.94 uttr/s, accuracy=0.71, loss=1.30]\n",
      "Train: 100% 2000/2000 [00:18<00:00, 107.28 step/s, accuracy=0.72, loss=0.96, step=9e+4]\n",
      "Valid: 100% 5664/5667 [00:01<00:00, 3330.36 uttr/s, accuracy=0.71, loss=1.33]\n",
      "Train:   1% 13/2000 [00:00<00:16, 120.13 step/s]"
     ]
    },
    {
     "name": "stdout",
     "output_type": "stream",
     "text": [
      "Step 90000, best model saved. (accuracy=0.7140)\n"
     ]
    },
    {
     "name": "stderr",
     "output_type": "stream",
     "text": [
      "Train: 100% 2000/2000 [00:18<00:00, 107.90 step/s, accuracy=0.78, loss=0.74, step=92000]\n",
      "Valid: 100% 5664/5667 [00:01<00:00, 3334.27 uttr/s, accuracy=0.70, loss=1.33]\n",
      "Train: 100% 2000/2000 [00:19<00:00, 104.17 step/s, accuracy=0.84, loss=0.34, step=94000]\n",
      "Valid: 100% 5664/5667 [00:01<00:00, 3263.77 uttr/s, accuracy=0.71, loss=1.32]\n",
      "Train: 100% 2000/2000 [00:18<00:00, 109.12 step/s, accuracy=0.91, loss=0.29, step=96000]\n",
      "Valid: 100% 5664/5667 [00:01<00:00, 2950.78 uttr/s, accuracy=0.70, loss=1.33]\n",
      "Train: 100% 2000/2000 [00:18<00:00, 106.89 step/s, accuracy=0.88, loss=0.51, step=98000]\n",
      "Valid: 100% 5664/5667 [00:01<00:00, 3267.40 uttr/s, accuracy=0.71, loss=1.31]\n",
      "Train: 100% 2000/2000 [00:18<00:00, 106.27 step/s, accuracy=0.81, loss=0.90, step=1e+5]\n",
      "Valid: 100% 5664/5667 [00:01<00:00, 3087.22 uttr/s, accuracy=0.71, loss=1.28]\n",
      "Train:   1% 23/2000 [00:00<00:17, 113.64 step/s]"
     ]
    },
    {
     "name": "stdout",
     "output_type": "stream",
     "text": [
      "Step 100000, best model saved. (accuracy=0.7140)\n"
     ]
    },
    {
     "name": "stderr",
     "output_type": "stream",
     "text": [
      "Train: 100% 2000/2000 [00:18<00:00, 107.58 step/s, accuracy=0.84, loss=0.43, step=102000]\n",
      "Valid: 100% 5664/5667 [00:01<00:00, 2956.23 uttr/s, accuracy=0.73, loss=1.27]\n",
      "Train: 100% 2000/2000 [00:18<00:00, 106.16 step/s, accuracy=0.69, loss=0.91, step=104000]\n",
      "Valid: 100% 5664/5667 [00:01<00:00, 3288.34 uttr/s, accuracy=0.72, loss=1.28]\n",
      "Train: 100% 2000/2000 [00:18<00:00, 106.86 step/s, accuracy=0.84, loss=0.52, step=106000]\n",
      "Valid: 100% 5664/5667 [00:01<00:00, 3386.83 uttr/s, accuracy=0.72, loss=1.26]\n",
      "Train: 100% 2000/2000 [00:18<00:00, 106.56 step/s, accuracy=0.88, loss=0.57, step=108000]\n",
      "Valid: 100% 5664/5667 [00:01<00:00, 3327.41 uttr/s, accuracy=0.72, loss=1.25]\n",
      "Train: 100% 2000/2000 [00:19<00:00, 104.29 step/s, accuracy=0.72, loss=0.92, step=110000]\n",
      "Valid: 100% 5664/5667 [00:01<00:00, 3305.72 uttr/s, accuracy=0.72, loss=1.28]\n",
      "Train:   1% 12/2000 [00:00<00:16, 117.14 step/s]"
     ]
    },
    {
     "name": "stdout",
     "output_type": "stream",
     "text": [
      "Step 110000, best model saved. (accuracy=0.7272)\n"
     ]
    },
    {
     "name": "stderr",
     "output_type": "stream",
     "text": [
      "Train: 100% 2000/2000 [00:18<00:00, 107.39 step/s, accuracy=0.88, loss=0.56, step=112000]\n",
      "Valid: 100% 5664/5667 [00:01<00:00, 3431.27 uttr/s, accuracy=0.73, loss=1.23]\n",
      "Train: 100% 2000/2000 [00:18<00:00, 106.93 step/s, accuracy=0.88, loss=0.50, step=114000]\n",
      "Valid: 100% 5664/5667 [00:01<00:00, 3352.50 uttr/s, accuracy=0.73, loss=1.21]\n",
      "Train: 100% 2000/2000 [00:18<00:00, 107.43 step/s, accuracy=0.84, loss=0.73, step=116000]\n",
      "Valid: 100% 5664/5667 [00:01<00:00, 3031.47 uttr/s, accuracy=0.72, loss=1.24]\n",
      "Train: 100% 2000/2000 [00:19<00:00, 105.11 step/s, accuracy=0.84, loss=0.77, step=118000]\n",
      "Valid: 100% 5664/5667 [00:01<00:00, 3396.32 uttr/s, accuracy=0.73, loss=1.23]\n",
      "Train: 100% 2000/2000 [00:18<00:00, 106.33 step/s, accuracy=0.81, loss=0.61, step=120000]\n",
      "Valid: 100% 5664/5667 [00:01<00:00, 3361.17 uttr/s, accuracy=0.74, loss=1.21]\n",
      "Train:   1% 14/2000 [00:00<00:14, 134.97 step/s]"
     ]
    },
    {
     "name": "stdout",
     "output_type": "stream",
     "text": [
      "Step 120000, best model saved. (accuracy=0.7357)\n"
     ]
    },
    {
     "name": "stderr",
     "output_type": "stream",
     "text": [
      "Train: 100% 2000/2000 [00:18<00:00, 107.95 step/s, accuracy=0.78, loss=0.98, step=122000]\n",
      "Valid: 100% 5664/5667 [00:01<00:00, 3335.96 uttr/s, accuracy=0.73, loss=1.20]\n",
      "Train: 100% 2000/2000 [00:19<00:00, 104.36 step/s, accuracy=0.94, loss=0.39, step=124000]\n",
      "Valid: 100% 5664/5667 [00:01<00:00, 3380.86 uttr/s, accuracy=0.74, loss=1.23]\n",
      "Train: 100% 2000/2000 [00:18<00:00, 107.00 step/s, accuracy=0.81, loss=0.72, step=126000]\n",
      "Valid: 100% 5664/5667 [00:01<00:00, 2939.96 uttr/s, accuracy=0.74, loss=1.18]\n",
      "Train: 100% 2000/2000 [00:18<00:00, 106.55 step/s, accuracy=0.78, loss=1.00, step=128000]\n",
      "Valid: 100% 5664/5667 [00:01<00:00, 3198.63 uttr/s, accuracy=0.75, loss=1.16]\n",
      "Train: 100% 2000/2000 [00:19<00:00, 105.10 step/s, accuracy=0.72, loss=1.08, step=130000]\n",
      "Valid: 100% 5664/5667 [00:01<00:00, 3304.14 uttr/s, accuracy=0.75, loss=1.17]\n",
      "Train:   1% 12/2000 [00:00<00:17, 115.38 step/s]"
     ]
    },
    {
     "name": "stdout",
     "output_type": "stream",
     "text": [
      "Step 130000, best model saved. (accuracy=0.7472)\n"
     ]
    },
    {
     "name": "stderr",
     "output_type": "stream",
     "text": [
      "Train: 100% 2000/2000 [00:18<00:00, 109.79 step/s, accuracy=0.84, loss=0.68, step=132000]\n",
      "Valid: 100% 5664/5667 [00:01<00:00, 3267.75 uttr/s, accuracy=0.74, loss=1.17]\n",
      "Train: 100% 2000/2000 [00:19<00:00, 103.69 step/s, accuracy=0.84, loss=0.62, step=134000]\n",
      "Valid: 100% 5664/5667 [00:01<00:00, 3250.07 uttr/s, accuracy=0.75, loss=1.18]\n",
      "Train: 100% 2000/2000 [00:18<00:00, 108.26 step/s, accuracy=0.78, loss=0.72, step=136000]\n",
      "Valid: 100% 5664/5667 [00:02<00:00, 2440.10 uttr/s, accuracy=0.75, loss=1.16]\n",
      "Train: 100% 2000/2000 [00:18<00:00, 108.76 step/s, accuracy=0.81, loss=0.65, step=138000]\n",
      "Valid: 100% 5664/5667 [00:01<00:00, 3386.87 uttr/s, accuracy=0.75, loss=1.13]\n",
      "Train: 100% 2000/2000 [00:19<00:00, 103.58 step/s, accuracy=0.78, loss=0.64, step=140000]\n",
      "Valid: 100% 5664/5667 [00:01<00:00, 3335.74 uttr/s, accuracy=0.75, loss=1.16]\n",
      "Train:   1% 12/2000 [00:00<00:17, 115.34 step/s]"
     ]
    },
    {
     "name": "stdout",
     "output_type": "stream",
     "text": [
      "Step 140000, best model saved. (accuracy=0.7482)\n"
     ]
    },
    {
     "name": "stderr",
     "output_type": "stream",
     "text": [
      "Train: 100% 2000/2000 [00:18<00:00, 108.11 step/s, accuracy=0.81, loss=0.52, step=142000]\n",
      "Valid: 100% 5664/5667 [00:01<00:00, 3413.71 uttr/s, accuracy=0.75, loss=1.13]\n",
      "Train: 100% 2000/2000 [00:19<00:00, 104.66 step/s, accuracy=0.88, loss=0.60, step=144000]\n",
      "Valid: 100% 5664/5667 [00:01<00:00, 3418.23 uttr/s, accuracy=0.75, loss=1.14]\n",
      "Train: 100% 2000/2000 [00:18<00:00, 107.10 step/s, accuracy=0.84, loss=0.58, step=146000]\n",
      "Valid: 100% 5664/5667 [00:01<00:00, 2869.18 uttr/s, accuracy=0.75, loss=1.12]\n",
      "Train: 100% 2000/2000 [00:18<00:00, 109.01 step/s, accuracy=0.72, loss=0.95, step=148000]\n",
      "Valid: 100% 5664/5667 [00:01<00:00, 3233.20 uttr/s, accuracy=0.76, loss=1.12]\n",
      "Train: 100% 2000/2000 [00:19<00:00, 103.30 step/s, accuracy=0.81, loss=0.73, step=150000]\n",
      "Valid: 100% 5664/5667 [00:01<00:00, 3318.54 uttr/s, accuracy=0.76, loss=1.12]\n",
      "Train:   1% 13/2000 [00:00<00:16, 119.85 step/s]"
     ]
    },
    {
     "name": "stdout",
     "output_type": "stream",
     "text": [
      "Step 150000, best model saved. (accuracy=0.7585)\n"
     ]
    },
    {
     "name": "stderr",
     "output_type": "stream",
     "text": [
      "Train: 100% 2000/2000 [00:18<00:00, 105.59 step/s, accuracy=0.94, loss=0.25, step=152000]\n",
      "Valid: 100% 5664/5667 [00:01<00:00, 3247.79 uttr/s, accuracy=0.76, loss=1.11]\n",
      "Train: 100% 2000/2000 [00:19<00:00, 103.77 step/s, accuracy=0.91, loss=0.46, step=154000]\n",
      "Valid: 100% 5664/5667 [00:01<00:00, 3312.55 uttr/s, accuracy=0.77, loss=1.07]\n",
      "Train: 100% 2000/2000 [00:19<00:00, 104.05 step/s, accuracy=0.91, loss=0.53, step=156000]\n",
      "Valid: 100% 5664/5667 [00:01<00:00, 3001.85 uttr/s, accuracy=0.76, loss=1.12]\n",
      "Train: 100% 2000/2000 [00:19<00:00, 105.23 step/s, accuracy=0.84, loss=0.48, step=158000]\n",
      "Valid: 100% 5664/5667 [00:01<00:00, 3313.31 uttr/s, accuracy=0.76, loss=1.09]\n",
      "Train: 100% 2000/2000 [00:18<00:00, 106.41 step/s, accuracy=0.84, loss=0.69, step=160000]\n",
      "Valid: 100% 5664/5667 [00:01<00:00, 3276.94 uttr/s, accuracy=0.76, loss=1.12]\n",
      "Train:   1% 20/2000 [00:00<00:19, 99.48 step/s]"
     ]
    },
    {
     "name": "stdout",
     "output_type": "stream",
     "text": [
      "Step 160000, best model saved. (accuracy=0.7694)\n"
     ]
    },
    {
     "name": "stderr",
     "output_type": "stream",
     "text": [
      "Train: 100% 2000/2000 [00:18<00:00, 106.76 step/s, accuracy=0.88, loss=0.47, step=162000]\n",
      "Valid: 100% 5664/5667 [00:01<00:00, 3323.30 uttr/s, accuracy=0.76, loss=1.11]\n",
      "Train: 100% 2000/2000 [00:19<00:00, 104.84 step/s, accuracy=0.81, loss=0.69, step=164000]\n",
      "Valid: 100% 5664/5667 [00:01<00:00, 3161.82 uttr/s, accuracy=0.77, loss=1.10]\n",
      "Train: 100% 2000/2000 [00:18<00:00, 106.20 step/s, accuracy=0.88, loss=0.75, step=166000]\n",
      "Valid: 100% 5664/5667 [00:01<00:00, 2980.09 uttr/s, accuracy=0.76, loss=1.09]\n",
      "Train: 100% 2000/2000 [00:18<00:00, 107.25 step/s, accuracy=0.88, loss=0.59, step=168000]\n",
      "Valid: 100% 5664/5667 [00:01<00:00, 3307.05 uttr/s, accuracy=0.77, loss=1.07]\n",
      "Train: 100% 2000/2000 [00:19<00:00, 101.39 step/s, accuracy=0.91, loss=0.32, step=170000]\n",
      "Valid: 100% 5664/5667 [00:01<00:00, 3313.93 uttr/s, accuracy=0.77, loss=1.07]\n",
      "Train:   1% 12/2000 [00:00<00:17, 114.93 step/s]"
     ]
    },
    {
     "name": "stdout",
     "output_type": "stream",
     "text": [
      "Step 170000, best model saved. (accuracy=0.7703)\n"
     ]
    },
    {
     "name": "stderr",
     "output_type": "stream",
     "text": [
      "Train: 100% 2000/2000 [00:18<00:00, 105.99 step/s, accuracy=0.84, loss=0.68, step=172000]\n",
      "Valid: 100% 5664/5667 [00:01<00:00, 3237.64 uttr/s, accuracy=0.77, loss=1.07]\n",
      "Train: 100% 2000/2000 [00:20<00:00, 98.99 step/s, accuracy=0.97, loss=0.24, step=174000] \n",
      "Valid: 100% 5664/5667 [00:01<00:00, 3177.76 uttr/s, accuracy=0.77, loss=1.08]\n",
      "Train: 100% 2000/2000 [00:19<00:00, 100.68 step/s, accuracy=0.78, loss=0.93, step=176000]\n",
      "Valid: 100% 5664/5667 [00:01<00:00, 3009.12 uttr/s, accuracy=0.78, loss=1.07]\n",
      "Train: 100% 2000/2000 [00:18<00:00, 107.42 step/s, accuracy=0.81, loss=0.68, step=178000]\n",
      "Valid: 100% 5664/5667 [00:01<00:00, 3231.48 uttr/s, accuracy=0.78, loss=1.06]\n",
      "Train: 100% 2000/2000 [00:19<00:00, 100.02 step/s, accuracy=0.91, loss=0.33, step=180000]\n",
      "Valid: 100% 5664/5667 [00:01<00:00, 3230.68 uttr/s, accuracy=0.77, loss=1.07]\n",
      "Train:   0% 0/2000 [00:00<?, ? step/s]"
     ]
    },
    {
     "name": "stdout",
     "output_type": "stream",
     "text": [
      "Step 180000, best model saved. (accuracy=0.7772)\n"
     ]
    },
    {
     "name": "stderr",
     "output_type": "stream",
     "text": [
      "Train: 100% 2000/2000 [00:19<00:00, 103.12 step/s, accuracy=0.91, loss=0.44, step=182000]\n",
      "Valid: 100% 5664/5667 [00:01<00:00, 3173.61 uttr/s, accuracy=0.77, loss=1.06]\n",
      "Train: 100% 2000/2000 [00:19<00:00, 102.29 step/s, accuracy=0.81, loss=0.87, step=184000]\n",
      "Valid: 100% 5664/5667 [00:01<00:00, 3240.34 uttr/s, accuracy=0.77, loss=1.05]\n",
      "Train: 100% 2000/2000 [00:19<00:00, 101.60 step/s, accuracy=0.88, loss=0.53, step=186000]\n",
      "Valid: 100% 5664/5667 [00:01<00:00, 3001.20 uttr/s, accuracy=0.78, loss=1.06]\n",
      "Train: 100% 2000/2000 [00:19<00:00, 101.66 step/s, accuracy=0.88, loss=0.72, step=188000]\n",
      "Valid: 100% 5664/5667 [00:01<00:00, 3259.71 uttr/s, accuracy=0.77, loss=1.08]\n",
      "Train: 100% 2000/2000 [00:19<00:00, 102.14 step/s, accuracy=0.88, loss=0.33, step=190000]\n",
      "Valid: 100% 5664/5667 [00:01<00:00, 3250.05 uttr/s, accuracy=0.77, loss=1.05]\n",
      "Train:   1% 12/2000 [00:00<00:18, 110.04 step/s]"
     ]
    },
    {
     "name": "stdout",
     "output_type": "stream",
     "text": [
      "Step 190000, best model saved. (accuracy=0.7772)\n"
     ]
    },
    {
     "name": "stderr",
     "output_type": "stream",
     "text": [
      "Train: 100% 2000/2000 [00:19<00:00, 104.69 step/s, accuracy=0.84, loss=0.53, step=192000]\n",
      "Valid: 100% 5664/5667 [00:01<00:00, 3275.85 uttr/s, accuracy=0.78, loss=1.08]\n",
      "Train: 100% 2000/2000 [00:19<00:00, 101.11 step/s, accuracy=0.88, loss=0.56, step=194000]\n",
      "Valid: 100% 5664/5667 [00:01<00:00, 3217.66 uttr/s, accuracy=0.77, loss=1.09]\n",
      "Train: 100% 2000/2000 [00:19<00:00, 102.25 step/s, accuracy=0.81, loss=0.55, step=196000]\n",
      "Valid: 100% 5664/5667 [00:01<00:00, 2869.18 uttr/s, accuracy=0.77, loss=1.10]\n",
      "Train: 100% 2000/2000 [00:19<00:00, 102.20 step/s, accuracy=0.75, loss=0.65, step=198000]\n",
      "Valid: 100% 5664/5667 [00:01<00:00, 3326.11 uttr/s, accuracy=0.77, loss=1.05]\n",
      "Train: 100% 2000/2000 [00:19<00:00, 100.33 step/s, accuracy=0.97, loss=0.38, step=2e+5]\n",
      "Valid: 100% 5664/5667 [00:01<00:00, 3155.97 uttr/s, accuracy=0.78, loss=1.06]\n",
      "Train:   0% 0/2000 [00:00<?, ? step/s]\n"
     ]
    },
    {
     "name": "stdout",
     "output_type": "stream",
     "text": [
      "Step 200000, best model saved. (accuracy=0.7779)\n"
     ]
    }
   ],
   "source": [
    "import torch\n",
    "import torch.nn as nn\n",
    "from torch.optim import AdamW\n",
    "from torch.utils.data import DataLoader, random_split\n",
    "from tqdm import tqdm\n",
    "\n",
    "def parse_args():\n",
    "    \"\"\"arguments\"\"\"\n",
    "    config = {\n",
    "        \"data_dir\": \"/kaggle/input/ml2022spring-hw4/Dataset\",\n",
    "        \"save_path\": \"model.ckpt\",\n",
    "        \"batch_size\": 32,\n",
    "        \"n_workers\": 8,\n",
    "        \"valid_steps\": 2000,\n",
    "        # fix warmup_steps\n",
    "        \"warmup_steps\": 1000,\n",
    "        \"save_steps\": 10000,\n",
    "        \"total_steps\": 200000,\n",
    "        \"resume\":False,\n",
    "    }\n",
    "    return config\n",
    "\n",
    "def main(\n",
    "    data_dir,\n",
    "    save_path,\n",
    "    batch_size,\n",
    "    n_workers,\n",
    "    valid_steps,\n",
    "    warmup_steps,\n",
    "    total_steps,\n",
    "    save_steps,\n",
    "    resume,\n",
    "):\n",
    "    \"\"\"Main function.\"\"\"\n",
    "    device = torch.device(\"cuda\" if torch.cuda.is_available() else \"cpu\")\n",
    "    print(f\"[Info]: Use {device} now!\")\n",
    "\n",
    "    train_loader, valid_loader, speaker_num = get_dataloader(data_dir, batch_size, n_workers)\n",
    "    train_iterator = iter(train_loader)\n",
    "    print(f\"[Info]: Finish loading data!\", flush=True)\n",
    "\n",
    "    model = Classifier(n_spks=speaker_num).to(device)\n",
    "    if resume:\n",
    "        model.load_state_dict(torch.load(\"/kaggle/input/model-file/model.ckpt\"))\n",
    "    criterion = nn.CrossEntropyLoss()\n",
    "    optimizer = AdamW(model.parameters(), lr=1e-3)\n",
    "    scheduler = get_cosine_schedule_with_warmup(optimizer, warmup_steps, total_steps)\n",
    "    print(f\"[Info]: Finish creating model!\", flush=True)\n",
    "\n",
    "    best_accuracy = -1.0\n",
    "    best_state_dict = None\n",
    "\n",
    "    pbar = tqdm(total=valid_steps, ncols=0, desc=\"Train\", unit=\" step\")\n",
    "\n",
    "    for step in range(total_steps):\n",
    "        # Get data\n",
    "        try:\n",
    "            batch = next(train_iterator)\n",
    "        except StopIteration:\n",
    "            train_iterator = iter(train_loader)\n",
    "            batch = next(train_iterator)\n",
    "\n",
    "        loss, accuracy = model_fn(batch, model, criterion, device)\n",
    "        batch_loss = loss.item()\n",
    "        batch_accuracy = accuracy.item()\n",
    "\n",
    "        # Updata model\n",
    "        loss.backward()\n",
    "        optimizer.step()\n",
    "        scheduler.step()\n",
    "        optimizer.zero_grad()\n",
    "\n",
    "        # Log\n",
    "        pbar.update()\n",
    "\n",
    "        if((step+1)%500==0):\n",
    "            pbar.set_postfix(\n",
    "                loss=f\"{batch_loss:.2f}\",\n",
    "                accuracy=f\"{batch_accuracy:.2f}\",\n",
    "                step=step + 1,\n",
    "            )            \n",
    "\n",
    "        # Do validation\n",
    "        if (step + 1) % valid_steps == 0:\n",
    "            pbar.close()\n",
    "\n",
    "            valid_accuracy = valid(valid_loader, model, criterion, device)\n",
    "\n",
    "            # keep the best model\n",
    "            if valid_accuracy > best_accuracy:\n",
    "                best_accuracy = valid_accuracy\n",
    "                best_state_dict = model.state_dict()\n",
    "\n",
    "            pbar = tqdm(total=valid_steps, ncols=0, desc=\"Train\", unit=\" step\")\n",
    "\n",
    "        # Save the best model so far.\n",
    "        if (step + 1) % save_steps == 0 and best_state_dict is not None:\n",
    "            torch.save(best_state_dict, save_path)\n",
    "            pbar.write(f\"Step {step + 1}, best model saved. (accuracy={best_accuracy:.4f})\")\n",
    "\n",
    "    pbar.close()\n",
    "\n",
    "if __name__ == \"__main__\":\n",
    "    main(**parse_args())\n"
   ]
  },
  {
   "cell_type": "markdown",
   "id": "80b4f49c",
   "metadata": {
    "id": "NLatBYAhNNMx",
    "papermill": {
     "duration": 3.041128,
     "end_time": "2024-04-27T16:54:44.069475",
     "exception": false,
     "start_time": "2024-04-27T16:54:41.028347",
     "status": "completed"
    },
    "tags": []
   },
   "source": [
    "# Inference\n",
    "\n",
    "## Dataset of inference"
   ]
  },
  {
   "cell_type": "code",
   "execution_count": 10,
   "id": "be3fa5d7",
   "metadata": {
    "execution": {
     "iopub.execute_input": "2024-04-27T16:54:50.179913Z",
     "iopub.status.busy": "2024-04-27T16:54:50.179240Z",
     "iopub.status.idle": "2024-04-27T16:54:50.187878Z",
     "shell.execute_reply": "2024-04-27T16:54:50.187000Z"
    },
    "id": "efS4pCmAJXJH",
    "papermill": {
     "duration": 3.096288,
     "end_time": "2024-04-27T16:54:50.189884",
     "exception": false,
     "start_time": "2024-04-27T16:54:47.093596",
     "status": "completed"
    },
    "tags": []
   },
   "outputs": [],
   "source": [
    "import os\n",
    "import json\n",
    "import torch\n",
    "from pathlib import Path\n",
    "from torch.utils.data import Dataset\n",
    "\n",
    "\n",
    "class InferenceDataset(Dataset):\n",
    "\tdef __init__(self, data_dir):\n",
    "\t\ttestdata_path = Path(data_dir) / \"testdata.json\"\n",
    "\t\tmetadata = json.load(testdata_path.open())\n",
    "\t\tself.data_dir = data_dir\n",
    "\t\tself.data = metadata[\"utterances\"]\n",
    "\n",
    "\tdef __len__(self):\n",
    "\t\treturn len(self.data)\n",
    "\n",
    "\tdef __getitem__(self, index):\n",
    "\t\tutterance = self.data[index]\n",
    "\t\tfeat_path = utterance[\"feature_path\"]\n",
    "\t\tmel = torch.load(os.path.join(self.data_dir, feat_path))\n",
    "\n",
    "\t\treturn feat_path, mel\n",
    "\n",
    "\n",
    "def inference_collate_batch(batch):\n",
    "\t\"\"\"Collate a batch of data.\"\"\"\n",
    "\tfeat_paths, mels = zip(*batch)\n",
    "\n",
    "\treturn feat_paths, torch.stack(mels)"
   ]
  },
  {
   "cell_type": "markdown",
   "id": "a56ad25a",
   "metadata": {
    "id": "tl0WnYwxNK_S",
    "papermill": {
     "duration": 3.084035,
     "end_time": "2024-04-27T16:54:56.314423",
     "exception": false,
     "start_time": "2024-04-27T16:54:53.230388",
     "status": "completed"
    },
    "tags": []
   },
   "source": [
    "## Main funcrion of Inference"
   ]
  },
  {
   "cell_type": "code",
   "execution_count": 11,
   "id": "949c8268",
   "metadata": {
    "execution": {
     "iopub.execute_input": "2024-04-27T16:55:02.481236Z",
     "iopub.status.busy": "2024-04-27T16:55:02.480873Z",
     "iopub.status.idle": "2024-04-27T16:55:19.591653Z",
     "shell.execute_reply": "2024-04-27T16:55:19.590690Z"
    },
    "id": "i8SAbuXEJb2A",
    "papermill": {
     "duration": 20.192137,
     "end_time": "2024-04-27T16:55:19.593615",
     "exception": false,
     "start_time": "2024-04-27T16:54:59.401478",
     "status": "completed"
    },
    "tags": []
   },
   "outputs": [
    {
     "name": "stdout",
     "output_type": "stream",
     "text": [
      "[Info]: Use cuda now!\n",
      "[Info]: Finish loading data!\n",
      "[Info]: Finish creating model!\n"
     ]
    },
    {
     "data": {
      "application/vnd.jupyter.widget-view+json": {
       "model_id": "00d6526ea74641618bc38b80c3802061",
       "version_major": 2,
       "version_minor": 0
      },
      "text/plain": [
       "  0%|          | 0/8000 [00:00<?, ?it/s]"
      ]
     },
     "metadata": {},
     "output_type": "display_data"
    }
   ],
   "source": [
    "import json\n",
    "import csv\n",
    "from pathlib import Path\n",
    "from tqdm.notebook import tqdm\n",
    "\n",
    "import torch\n",
    "from torch.utils.data import DataLoader\n",
    "\n",
    "def parse_args():\n",
    "\t\"\"\"arguments\"\"\"\n",
    "\tconfig = {\n",
    "\t\t\"data_dir\": \"/kaggle/input/ml2022spring-hw4/Dataset\",\n",
    "\t\t\"model_path\": \"./model.ckpt\",\n",
    "\t\t\"output_path\": \"./output.csv\",\n",
    "\t}\n",
    "\n",
    "\treturn config\n",
    "\n",
    "\n",
    "def main(\n",
    "\tdata_dir,\n",
    "\tmodel_path,\n",
    "\toutput_path,\n",
    "):\n",
    "\t\"\"\"Main function.\"\"\"\n",
    "\tdevice = torch.device(\"cuda\" if torch.cuda.is_available() else \"cpu\")\n",
    "\tprint(f\"[Info]: Use {device} now!\")\n",
    "\n",
    "\tmapping_path = Path(data_dir) / \"mapping.json\"\n",
    "\tmapping = json.load(mapping_path.open())\n",
    "\n",
    "\tdataset = InferenceDataset(data_dir)\n",
    "\tdataloader = DataLoader(\n",
    "\t\tdataset,\n",
    "\t\tbatch_size=1,\n",
    "\t\tshuffle=False,\n",
    "\t\tdrop_last=False,\n",
    "\t\tnum_workers=8,\n",
    "\t\tcollate_fn=inference_collate_batch,\n",
    "\t)\n",
    "\tprint(f\"[Info]: Finish loading data!\",flush = True)\n",
    "\n",
    "\tspeaker_num = len(mapping[\"id2speaker\"])\n",
    "\tmodel = Classifier(n_spks=speaker_num).to(device)\n",
    "\tmodel.load_state_dict(torch.load(model_path))\n",
    "\tmodel.eval()\n",
    "\tprint(f\"[Info]: Finish creating model!\",flush = True)\n",
    "\n",
    "\tresults = [[\"Id\", \"Category\"]]\n",
    "\tfor feat_paths, mels in tqdm(dataloader):\n",
    "\t\twith torch.no_grad():\n",
    "\t\t\tmels = mels.to(device)\n",
    "\t\t\touts = model(mels)\n",
    "\t\t\tpreds = outs.argmax(1).cpu().numpy()\n",
    "\t\t\tfor feat_path, pred in zip(feat_paths, preds):\n",
    "\t\t\t\tresults.append([feat_path, mapping[\"id2speaker\"][str(pred)]])\n",
    "\n",
    "\twith open(output_path, 'w', newline='') as csvfile:\n",
    "\t\twriter = csv.writer(csvfile)\n",
    "\t\twriter.writerows(results)\n",
    "\n",
    "\n",
    "if __name__ == \"__main__\":\n",
    "\tmain(**parse_args())"
   ]
  }
 ],
 "metadata": {
  "accelerator": "GPU",
  "colab": {
   "collapsed_sections": [],
   "name": "hw04.ipynb",
   "provenance": []
  },
  "kaggle": {
   "accelerator": "gpu",
   "dataSources": [
    {
     "databundleVersionId": 3328800,
     "sourceId": 34762,
     "sourceType": "competition"
    },
    {
     "datasetId": 4889250,
     "sourceId": 8244641,
     "sourceType": "datasetVersion"
    }
   ],
   "dockerImageVersionId": 30699,
   "isGpuEnabled": true,
   "isInternetEnabled": true,
   "language": "python",
   "sourceType": "notebook"
  },
  "kernelspec": {
   "display_name": "Python 3",
   "language": "python",
   "name": "python3"
  },
  "language_info": {
   "codemirror_mode": {
    "name": "ipython",
    "version": 3
   },
   "file_extension": ".py",
   "mimetype": "text/x-python",
   "name": "python",
   "nbconvert_exporter": "python",
   "pygments_lexer": "ipython3",
   "version": "3.10.13"
  },
  "papermill": {
   "default_parameters": {},
   "duration": 2167.757603,
   "end_time": "2024-04-27T16:55:24.170439",
   "environment_variables": {},
   "exception": null,
   "input_path": "__notebook__.ipynb",
   "output_path": "__notebook__.ipynb",
   "parameters": {},
   "start_time": "2024-04-27T16:19:16.412836",
   "version": "2.5.0"
  },
  "widgets": {
   "application/vnd.jupyter.widget-state+json": {
    "state": {
     "00d6526ea74641618bc38b80c3802061": {
      "model_module": "@jupyter-widgets/controls",
      "model_module_version": "1.5.0",
      "model_name": "HBoxModel",
      "state": {
       "_dom_classes": [],
       "_model_module": "@jupyter-widgets/controls",
       "_model_module_version": "1.5.0",
       "_model_name": "HBoxModel",
       "_view_count": null,
       "_view_module": "@jupyter-widgets/controls",
       "_view_module_version": "1.5.0",
       "_view_name": "HBoxView",
       "box_style": "",
       "children": [
        "IPY_MODEL_67383a7816054a809aee3f648da25670",
        "IPY_MODEL_77469cba215c4bde9b592cbf9f88ca85",
        "IPY_MODEL_ca1f6d8852dd487294629a6147731c93"
       ],
       "layout": "IPY_MODEL_7631c0654d95447781a21ac58fcb0427"
      }
     },
     "5c171ca36e144308b143f327e0193bd1": {
      "model_module": "@jupyter-widgets/controls",
      "model_module_version": "1.5.0",
      "model_name": "ProgressStyleModel",
      "state": {
       "_model_module": "@jupyter-widgets/controls",
       "_model_module_version": "1.5.0",
       "_model_name": "ProgressStyleModel",
       "_view_count": null,
       "_view_module": "@jupyter-widgets/base",
       "_view_module_version": "1.2.0",
       "_view_name": "StyleView",
       "bar_color": null,
       "description_width": ""
      }
     },
     "67383a7816054a809aee3f648da25670": {
      "model_module": "@jupyter-widgets/controls",
      "model_module_version": "1.5.0",
      "model_name": "HTMLModel",
      "state": {
       "_dom_classes": [],
       "_model_module": "@jupyter-widgets/controls",
       "_model_module_version": "1.5.0",
       "_model_name": "HTMLModel",
       "_view_count": null,
       "_view_module": "@jupyter-widgets/controls",
       "_view_module_version": "1.5.0",
       "_view_name": "HTMLView",
       "description": "",
       "description_tooltip": null,
       "layout": "IPY_MODEL_730e0134ff214399a0e48a65097bace2",
       "placeholder": "​",
       "style": "IPY_MODEL_a3e8f8e6681549e2a64e3f94e405d751",
       "value": "100%"
      }
     },
     "730e0134ff214399a0e48a65097bace2": {
      "model_module": "@jupyter-widgets/base",
      "model_module_version": "1.2.0",
      "model_name": "LayoutModel",
      "state": {
       "_model_module": "@jupyter-widgets/base",
       "_model_module_version": "1.2.0",
       "_model_name": "LayoutModel",
       "_view_count": null,
       "_view_module": "@jupyter-widgets/base",
       "_view_module_version": "1.2.0",
       "_view_name": "LayoutView",
       "align_content": null,
       "align_items": null,
       "align_self": null,
       "border": null,
       "bottom": null,
       "display": null,
       "flex": null,
       "flex_flow": null,
       "grid_area": null,
       "grid_auto_columns": null,
       "grid_auto_flow": null,
       "grid_auto_rows": null,
       "grid_column": null,
       "grid_gap": null,
       "grid_row": null,
       "grid_template_areas": null,
       "grid_template_columns": null,
       "grid_template_rows": null,
       "height": null,
       "justify_content": null,
       "justify_items": null,
       "left": null,
       "margin": null,
       "max_height": null,
       "max_width": null,
       "min_height": null,
       "min_width": null,
       "object_fit": null,
       "object_position": null,
       "order": null,
       "overflow": null,
       "overflow_x": null,
       "overflow_y": null,
       "padding": null,
       "right": null,
       "top": null,
       "visibility": null,
       "width": null
      }
     },
     "7631c0654d95447781a21ac58fcb0427": {
      "model_module": "@jupyter-widgets/base",
      "model_module_version": "1.2.0",
      "model_name": "LayoutModel",
      "state": {
       "_model_module": "@jupyter-widgets/base",
       "_model_module_version": "1.2.0",
       "_model_name": "LayoutModel",
       "_view_count": null,
       "_view_module": "@jupyter-widgets/base",
       "_view_module_version": "1.2.0",
       "_view_name": "LayoutView",
       "align_content": null,
       "align_items": null,
       "align_self": null,
       "border": null,
       "bottom": null,
       "display": null,
       "flex": null,
       "flex_flow": null,
       "grid_area": null,
       "grid_auto_columns": null,
       "grid_auto_flow": null,
       "grid_auto_rows": null,
       "grid_column": null,
       "grid_gap": null,
       "grid_row": null,
       "grid_template_areas": null,
       "grid_template_columns": null,
       "grid_template_rows": null,
       "height": null,
       "justify_content": null,
       "justify_items": null,
       "left": null,
       "margin": null,
       "max_height": null,
       "max_width": null,
       "min_height": null,
       "min_width": null,
       "object_fit": null,
       "object_position": null,
       "order": null,
       "overflow": null,
       "overflow_x": null,
       "overflow_y": null,
       "padding": null,
       "right": null,
       "top": null,
       "visibility": null,
       "width": null
      }
     },
     "77469cba215c4bde9b592cbf9f88ca85": {
      "model_module": "@jupyter-widgets/controls",
      "model_module_version": "1.5.0",
      "model_name": "FloatProgressModel",
      "state": {
       "_dom_classes": [],
       "_model_module": "@jupyter-widgets/controls",
       "_model_module_version": "1.5.0",
       "_model_name": "FloatProgressModel",
       "_view_count": null,
       "_view_module": "@jupyter-widgets/controls",
       "_view_module_version": "1.5.0",
       "_view_name": "ProgressView",
       "bar_style": "success",
       "description": "",
       "description_tooltip": null,
       "layout": "IPY_MODEL_b59f9e4edd3c49ffbad02e0d7a39d20a",
       "max": 8000.0,
       "min": 0.0,
       "orientation": "horizontal",
       "style": "IPY_MODEL_5c171ca36e144308b143f327e0193bd1",
       "value": 8000.0
      }
     },
     "77513352d81749a5964edb46c1d34709": {
      "model_module": "@jupyter-widgets/base",
      "model_module_version": "1.2.0",
      "model_name": "LayoutModel",
      "state": {
       "_model_module": "@jupyter-widgets/base",
       "_model_module_version": "1.2.0",
       "_model_name": "LayoutModel",
       "_view_count": null,
       "_view_module": "@jupyter-widgets/base",
       "_view_module_version": "1.2.0",
       "_view_name": "LayoutView",
       "align_content": null,
       "align_items": null,
       "align_self": null,
       "border": null,
       "bottom": null,
       "display": null,
       "flex": null,
       "flex_flow": null,
       "grid_area": null,
       "grid_auto_columns": null,
       "grid_auto_flow": null,
       "grid_auto_rows": null,
       "grid_column": null,
       "grid_gap": null,
       "grid_row": null,
       "grid_template_areas": null,
       "grid_template_columns": null,
       "grid_template_rows": null,
       "height": null,
       "justify_content": null,
       "justify_items": null,
       "left": null,
       "margin": null,
       "max_height": null,
       "max_width": null,
       "min_height": null,
       "min_width": null,
       "object_fit": null,
       "object_position": null,
       "order": null,
       "overflow": null,
       "overflow_x": null,
       "overflow_y": null,
       "padding": null,
       "right": null,
       "top": null,
       "visibility": null,
       "width": null
      }
     },
     "a3e8f8e6681549e2a64e3f94e405d751": {
      "model_module": "@jupyter-widgets/controls",
      "model_module_version": "1.5.0",
      "model_name": "DescriptionStyleModel",
      "state": {
       "_model_module": "@jupyter-widgets/controls",
       "_model_module_version": "1.5.0",
       "_model_name": "DescriptionStyleModel",
       "_view_count": null,
       "_view_module": "@jupyter-widgets/base",
       "_view_module_version": "1.2.0",
       "_view_name": "StyleView",
       "description_width": ""
      }
     },
     "b17d1eca129e45189ca03f882fe09004": {
      "model_module": "@jupyter-widgets/controls",
      "model_module_version": "1.5.0",
      "model_name": "DescriptionStyleModel",
      "state": {
       "_model_module": "@jupyter-widgets/controls",
       "_model_module_version": "1.5.0",
       "_model_name": "DescriptionStyleModel",
       "_view_count": null,
       "_view_module": "@jupyter-widgets/base",
       "_view_module_version": "1.2.0",
       "_view_name": "StyleView",
       "description_width": ""
      }
     },
     "b59f9e4edd3c49ffbad02e0d7a39d20a": {
      "model_module": "@jupyter-widgets/base",
      "model_module_version": "1.2.0",
      "model_name": "LayoutModel",
      "state": {
       "_model_module": "@jupyter-widgets/base",
       "_model_module_version": "1.2.0",
       "_model_name": "LayoutModel",
       "_view_count": null,
       "_view_module": "@jupyter-widgets/base",
       "_view_module_version": "1.2.0",
       "_view_name": "LayoutView",
       "align_content": null,
       "align_items": null,
       "align_self": null,
       "border": null,
       "bottom": null,
       "display": null,
       "flex": null,
       "flex_flow": null,
       "grid_area": null,
       "grid_auto_columns": null,
       "grid_auto_flow": null,
       "grid_auto_rows": null,
       "grid_column": null,
       "grid_gap": null,
       "grid_row": null,
       "grid_template_areas": null,
       "grid_template_columns": null,
       "grid_template_rows": null,
       "height": null,
       "justify_content": null,
       "justify_items": null,
       "left": null,
       "margin": null,
       "max_height": null,
       "max_width": null,
       "min_height": null,
       "min_width": null,
       "object_fit": null,
       "object_position": null,
       "order": null,
       "overflow": null,
       "overflow_x": null,
       "overflow_y": null,
       "padding": null,
       "right": null,
       "top": null,
       "visibility": null,
       "width": null
      }
     },
     "ca1f6d8852dd487294629a6147731c93": {
      "model_module": "@jupyter-widgets/controls",
      "model_module_version": "1.5.0",
      "model_name": "HTMLModel",
      "state": {
       "_dom_classes": [],
       "_model_module": "@jupyter-widgets/controls",
       "_model_module_version": "1.5.0",
       "_model_name": "HTMLModel",
       "_view_count": null,
       "_view_module": "@jupyter-widgets/controls",
       "_view_module_version": "1.5.0",
       "_view_name": "HTMLView",
       "description": "",
       "description_tooltip": null,
       "layout": "IPY_MODEL_77513352d81749a5964edb46c1d34709",
       "placeholder": "​",
       "style": "IPY_MODEL_b17d1eca129e45189ca03f882fe09004",
       "value": " 8000/8000 [00:17&lt;00:00, 486.25it/s]"
      }
     }
    },
    "version_major": 2,
    "version_minor": 0
   }
  }
 },
 "nbformat": 4,
 "nbformat_minor": 5
}
