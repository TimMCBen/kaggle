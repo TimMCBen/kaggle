{
 "cells": [
  {
   "cell_type": "markdown",
   "id": "bacd6d28",
   "metadata": {
    "id": "C_jdZ5vHJ4A9",
    "papermill": {
     "duration": 0.006721,
     "end_time": "2024-04-28T12:28:47.052766",
     "exception": false,
     "start_time": "2024-04-28T12:28:47.046045",
     "status": "completed"
    },
    "tags": []
   },
   "source": [
    "# Task description\n",
    "- Classify the speakers of given features.\n",
    "- Main goal: Learn how to use transformer.\n",
    "- Baselines:\n",
    "  - Easy: Run sample code and know how to use transformer.\n",
    "  - Medium: Know how to adjust parameters of transformer.\n",
    "  - Strong: Construct [conformer](https://arxiv.org/abs/2005.08100) which is a variety of transformer. \n",
    "  - Boss: Implement [Self-Attention Pooling](https://arxiv.org/pdf/2008.01077v1.pdf) & [Additive Margin Softmax](https://arxiv.org/pdf/1801.05599.pdf) to further boost the performance.\n",
    "\n",
    "- Other links\n",
    "  - Kaggle: [link](https://www.kaggle.com/t/ac77388c90204a4c8daebeddd40ff916)\n",
    "  - Slide: [link](https://docs.google.com/presentation/d/1HLAj7UUIjZOycDe7DaVLSwJfXVd3bXPOyzSb6Zk3hYU/edit?usp=sharing)\n",
    "  - Data: [link](https://github.com/MachineLearningHW/ML_HW4_Dataset)\n",
    "\n",
    "# Download dataset\n",
    "- Data is [here](https://github.com/MachineLearningHW/ML_HW4_Dataset)"
   ]
  },
  {
   "cell_type": "code",
   "execution_count": 1,
   "id": "a032855e",
   "metadata": {
    "execution": {
     "iopub.execute_input": "2024-04-28T12:28:47.067488Z",
     "iopub.status.busy": "2024-04-28T12:28:47.066597Z",
     "iopub.status.idle": "2024-04-28T12:28:47.081177Z",
     "shell.execute_reply": "2024-04-28T12:28:47.080288Z"
    },
    "id": "LhLNWB-AK2Z5",
    "papermill": {
     "duration": 0.023965,
     "end_time": "2024-04-28T12:28:47.083075",
     "exception": false,
     "start_time": "2024-04-28T12:28:47.059110",
     "status": "completed"
    },
    "tags": []
   },
   "outputs": [
    {
     "data": {
      "text/plain": [
       "'\\nIf the links below become inaccessible, please connect TAs.\\n'"
      ]
     },
     "execution_count": 1,
     "metadata": {},
     "output_type": "execute_result"
    }
   ],
   "source": [
    "\"\"\"\n",
    "If the links below become inaccessible, please connect TAs.\n",
    "\"\"\"\n",
    "\n",
    "# !wget https://github.com/MachineLearningHW/ML_HW4_Dataset/raw/0.0.1/Dataset.tar.gz.partaa\n",
    "# !wget https://github.com/MachineLearningHW/ML_HW4_Dataset/raw/0.0.1/Dataset.tar.gz.partab\n",
    "# !wget https://github.com/MachineLearningHW/ML_HW4_Dataset/raw/0.0.1/Dataset.tar.gz.partac\n",
    "# !wget https://github.com/MachineLearningHW/ML_HW4_Dataset/raw/0.0.1/Dataset.tar.gz.partad\n",
    "\n",
    "# !cat Dataset.tar.gz.parta* > Dataset.tar.gz\n",
    "\n",
    "# !tar zxvf Dataset.tar.gz"
   ]
  },
  {
   "cell_type": "markdown",
   "id": "b94362b4",
   "metadata": {
    "id": "ENWVAUDVJtVY",
    "papermill": {
     "duration": 0.006193,
     "end_time": "2024-04-28T12:28:47.096061",
     "exception": false,
     "start_time": "2024-04-28T12:28:47.089868",
     "status": "completed"
    },
    "tags": []
   },
   "source": [
    "## Fix Random Seed"
   ]
  },
  {
   "cell_type": "code",
   "execution_count": 2,
   "id": "73f8438c",
   "metadata": {
    "execution": {
     "iopub.execute_input": "2024-04-28T12:28:47.110926Z",
     "iopub.status.busy": "2024-04-28T12:28:47.110195Z",
     "iopub.status.idle": "2024-04-28T12:28:50.668271Z",
     "shell.execute_reply": "2024-04-28T12:28:50.667369Z"
    },
    "id": "E6burzCXIyuA",
    "papermill": {
     "duration": 3.568294,
     "end_time": "2024-04-28T12:28:50.670561",
     "exception": false,
     "start_time": "2024-04-28T12:28:47.102267",
     "status": "completed"
    },
    "tags": []
   },
   "outputs": [],
   "source": [
    "import numpy as np\n",
    "import torch\n",
    "import random\n",
    "\n",
    "def set_seed(seed):\n",
    "    np.random.seed(seed)\n",
    "    random.seed(seed)\n",
    "    torch.manual_seed(seed)\n",
    "    if torch.cuda.is_available():\n",
    "        torch.cuda.manual_seed(seed)\n",
    "        torch.cuda.manual_seed_all(seed)\n",
    "    torch.backends.cudnn.benchmark = False\n",
    "    torch.backends.cudnn.deterministic = True\n",
    "\n",
    "set_seed(87)"
   ]
  },
  {
   "cell_type": "markdown",
   "id": "98dd7f16",
   "metadata": {
    "id": "k7dVbxW2LASN",
    "papermill": {
     "duration": 0.006115,
     "end_time": "2024-04-28T12:28:50.683371",
     "exception": false,
     "start_time": "2024-04-28T12:28:50.677256",
     "status": "completed"
    },
    "tags": []
   },
   "source": [
    "# Data\n",
    "\n",
    "## Dataset\n",
    "- Original dataset is [Voxceleb2](https://www.robots.ox.ac.uk/~vgg/data/voxceleb/vox2.html).\n",
    "- The [license](https://creativecommons.org/licenses/by/4.0/) and [complete version](https://www.robots.ox.ac.uk/~vgg/data/voxceleb/files/license.txt) of Voxceleb2.\n",
    "- We randomly select 600 speakers from Voxceleb2.\n",
    "- Then preprocess the raw waveforms into mel-spectrograms.\n",
    "\n",
    "- Args:\n",
    "  - data_dir: The path to the data directory.\n",
    "  - metadata_path: The path to the metadata.\n",
    "  - segment_len: The length of audio segment for training. \n",
    "- The architecture of data directory \\\\\n",
    "  - data directory \\\\\n",
    "  |---- metadata.json \\\\\n",
    "  |---- testdata.json \\\\\n",
    "  |---- mapping.json \\\\\n",
    "  |---- uttr-{random string}.pt \\\\\n",
    "\n",
    "- The information in metadata\n",
    "  - \"n_mels\": The dimention of mel-spectrogram.\n",
    "  - \"speakers\": A dictionary. \n",
    "    - Key: speaker ids.\n",
    "    - value: \"feature_path\" and \"mel_len\"\n",
    "\n",
    "\n",
    "For efficiency, we segment the mel-spectrograms into segments in the traing step."
   ]
  },
  {
   "cell_type": "code",
   "execution_count": 3,
   "id": "771d2eb2",
   "metadata": {
    "execution": {
     "iopub.execute_input": "2024-04-28T12:28:50.697970Z",
     "iopub.status.busy": "2024-04-28T12:28:50.697485Z",
     "iopub.status.idle": "2024-04-28T12:28:50.709220Z",
     "shell.execute_reply": "2024-04-28T12:28:50.708364Z"
    },
    "id": "KpuGxl4CI2pr",
    "papermill": {
     "duration": 0.021389,
     "end_time": "2024-04-28T12:28:50.711027",
     "exception": false,
     "start_time": "2024-04-28T12:28:50.689638",
     "status": "completed"
    },
    "tags": []
   },
   "outputs": [],
   "source": [
    "import os\n",
    "import json\n",
    "import torch\n",
    "import random\n",
    "from pathlib import Path\n",
    "from torch.utils.data import Dataset\n",
    "from torch.nn.utils.rnn import pad_sequence\n",
    " \n",
    " \n",
    "class myDataset(Dataset):\n",
    "\tdef __init__(self, data_dir, segment_len=128):\n",
    "\t\tself.data_dir = data_dir\n",
    "\t\tself.segment_len = segment_len\n",
    "\t\n",
    "\t\t# Load the mapping from speaker neme to their corresponding id. \n",
    "\t\tmapping_path = Path(data_dir) / \"mapping.json\"\n",
    "\t\tmapping = json.load(mapping_path.open())\n",
    "\t\tself.speaker2id = mapping[\"speaker2id\"]\n",
    "\t\n",
    "\t\t# Load metadata of training data.\n",
    "\t\tmetadata_path = Path(data_dir) / \"metadata.json\"\n",
    "\t\tmetadata = json.load(open(metadata_path))[\"speakers\"]\n",
    "\t\n",
    "\t\t# Get the total number of speaker.\n",
    "\t\tself.speaker_num = len(metadata.keys())\n",
    "\t\tself.data = []\n",
    "\t\tfor speaker in metadata.keys():\n",
    "\t\t\tfor utterances in metadata[speaker]:\n",
    "\t\t\t\tself.data.append([utterances[\"feature_path\"], self.speaker2id[speaker]])\n",
    " \n",
    "\tdef __len__(self):\n",
    "\t\t\treturn len(self.data)\n",
    " \n",
    "\tdef __getitem__(self, index):\n",
    "\t\tfeat_path, speaker = self.data[index]\n",
    "\t\t# Load preprocessed mel-spectrogram.\n",
    "\t\tmel = torch.load(os.path.join(self.data_dir, feat_path))\n",
    "\n",
    "\t\t# Segmemt mel-spectrogram into \"segment_len\" frames.\n",
    "\t\tif len(mel) > self.segment_len:\n",
    "\t\t\t# Randomly get the starting point of the segment.\n",
    "\t\t\tstart = random.randint(0, len(mel) - self.segment_len)\n",
    "\t\t\t# Get a segment with \"segment_len\" frames.\n",
    "\t\t\tmel = torch.FloatTensor(mel[start:start+self.segment_len])\n",
    "\t\telse:\n",
    "\t\t\tmel = torch.FloatTensor(mel)\n",
    "\t\t# Turn the speaker id into long for computing loss later.\n",
    "\t\tspeaker = torch.FloatTensor([speaker]).long()\n",
    "\t\treturn mel, speaker\n",
    " \n",
    "\tdef get_speaker_number(self):\n",
    "\t\treturn self.speaker_num"
   ]
  },
  {
   "cell_type": "markdown",
   "id": "4d9731d0",
   "metadata": {
    "id": "668hverTMlGN",
    "papermill": {
     "duration": 0.006436,
     "end_time": "2024-04-28T12:28:50.723838",
     "exception": false,
     "start_time": "2024-04-28T12:28:50.717402",
     "status": "completed"
    },
    "tags": []
   },
   "source": [
    "## Dataloader\n",
    "- Split dataset into training dataset(90%) and validation dataset(10%).\n",
    "- Create dataloader to iterate the data."
   ]
  },
  {
   "cell_type": "code",
   "execution_count": 4,
   "id": "30b1b88c",
   "metadata": {
    "execution": {
     "iopub.execute_input": "2024-04-28T12:28:50.738512Z",
     "iopub.status.busy": "2024-04-28T12:28:50.738139Z",
     "iopub.status.idle": "2024-04-28T12:28:50.746935Z",
     "shell.execute_reply": "2024-04-28T12:28:50.745992Z"
    },
    "id": "B7c2gZYoJDRS",
    "papermill": {
     "duration": 0.018623,
     "end_time": "2024-04-28T12:28:50.749041",
     "exception": false,
     "start_time": "2024-04-28T12:28:50.730418",
     "status": "completed"
    },
    "tags": []
   },
   "outputs": [],
   "source": [
    "import torch\n",
    "from torch.utils.data import DataLoader, random_split\n",
    "from torch.nn.utils.rnn import pad_sequence\n",
    "\n",
    "\n",
    "def collate_batch(batch):\n",
    "\t# Process features within a batch.\n",
    "\t\"\"\"Collate a batch of data.\"\"\"\n",
    "\tmel, speaker = zip(*batch)\n",
    "\t# Because we train the model batch by batch, we need to pad the features in the same batch to make their lengths the same.\n",
    "\tmel = pad_sequence(mel, batch_first=True, padding_value=-20)    # pad log 10^(-20) which is very small value.\n",
    "\t# mel: (batch size, length, 40)\n",
    "\treturn mel, torch.FloatTensor(speaker).long()\n",
    "\n",
    "\n",
    "def get_dataloader(data_dir, batch_size, n_workers):\n",
    "\t\"\"\"Generate dataloader\"\"\"\n",
    "\tdataset = myDataset(data_dir)\n",
    "\tspeaker_num = dataset.get_speaker_number()\n",
    "\t# Split dataset into training dataset and validation dataset\n",
    "\ttrainlen = int(0.9 * len(dataset))\n",
    "\tlengths = [trainlen, len(dataset) - trainlen]\n",
    "\ttrainset, validset = random_split(dataset, lengths)\n",
    "\n",
    "\ttrain_loader = DataLoader(\n",
    "\t\ttrainset,\n",
    "\t\tbatch_size=batch_size,\n",
    "\t\tshuffle=True,\n",
    "\t\tdrop_last=True,\n",
    "\t\tnum_workers=n_workers,\n",
    "\t\tpin_memory=True,\n",
    "\t\tcollate_fn=collate_batch,\n",
    "\t)\n",
    "\tvalid_loader = DataLoader(\n",
    "\t\tvalidset,\n",
    "\t\tbatch_size=batch_size,\n",
    "\t\tnum_workers=n_workers,\n",
    "\t\tdrop_last=True,\n",
    "\t\tpin_memory=True,\n",
    "\t\tcollate_fn=collate_batch,\n",
    "\t)\n",
    "\n",
    "\treturn train_loader, valid_loader, speaker_num"
   ]
  },
  {
   "cell_type": "markdown",
   "id": "4a9d0f50",
   "metadata": {
    "id": "5FOSZYxrMqhc",
    "papermill": {
     "duration": 0.006722,
     "end_time": "2024-04-28T12:28:50.762360",
     "exception": false,
     "start_time": "2024-04-28T12:28:50.755638",
     "status": "completed"
    },
    "tags": []
   },
   "source": [
    "# Model\n",
    "- TransformerEncoderLayer:\n",
    "  - Base transformer encoder layer in [Attention Is All You Need](https://arxiv.org/abs/1706.03762)\n",
    "  - Parameters:\n",
    "    - d_model: the number of expected features of the input (required).\n",
    "\n",
    "    - nhead: the number of heads of the multiheadattention models (required).\n",
    "\n",
    "    - dim_feedforward: the dimension of the feedforward network model (default=2048).\n",
    "\n",
    "    - dropout: the dropout value (default=0.1).\n",
    "\n",
    "    - activation: the activation function of intermediate layer, relu or gelu (default=relu).\n",
    "\n",
    "- TransformerEncoder:\n",
    "  - TransformerEncoder is a stack of N transformer encoder layers\n",
    "  - Parameters:\n",
    "    - encoder_layer: an instance of the TransformerEncoderLayer() class (required).\n",
    "\n",
    "    - num_layers: the number of sub-encoder-layers in the encoder (required).\n",
    "\n",
    "    - norm: the layer normalization component (optional)."
   ]
  },
  {
   "cell_type": "code",
   "execution_count": 5,
   "id": "f7fbc594",
   "metadata": {
    "execution": {
     "iopub.execute_input": "2024-04-28T12:28:50.776786Z",
     "iopub.status.busy": "2024-04-28T12:28:50.776402Z",
     "iopub.status.idle": "2024-04-28T12:28:50.785244Z",
     "shell.execute_reply": "2024-04-28T12:28:50.784257Z"
    },
    "id": "iXZ5B0EKJGs8",
    "papermill": {
     "duration": 0.018522,
     "end_time": "2024-04-28T12:28:50.787270",
     "exception": false,
     "start_time": "2024-04-28T12:28:50.768748",
     "status": "completed"
    },
    "tags": []
   },
   "outputs": [],
   "source": [
    "import torch\n",
    "import torch.nn as nn\n",
    "import torch.nn.functional as F\n",
    "\n",
    "\n",
    "class Classifier(nn.Module):\n",
    "\tdef __init__(self, d_model=128, n_spks=600, dropout=0.1):\n",
    "\t\tsuper().__init__()\n",
    "\t\t# Project the dimension of features from that of input into d_model.\n",
    "\t\tself.prenet = nn.Linear(40, d_model)\n",
    "\t\t# TODO:\n",
    "\t\t#   Change Transformer to Conformer.\n",
    "\t\t#   https://arxiv.org/abs/2005.08100\n",
    "\t\tself.encoder_layer = nn.TransformerEncoderLayer(\n",
    "\t\t\td_model=d_model, dim_feedforward=256, nhead=2\n",
    "\t\t)\n",
    "\t\t# self.encoder = nn.TransformerEncoder(self.encoder_layer, num_layers=2)\n",
    "\n",
    "\t\t# Project the the dimension of features from d_model into speaker nums.\n",
    "\t\tself.pred_layer = nn.Sequential(\n",
    "#  \t\t\tnn.Linear(d_model, d_model),\n",
    "  \t\t\tnn.ReLU(),\n",
    "\t\t\tnn.Linear(d_model, n_spks),\n",
    "\t\t)\n",
    "\n",
    "\tdef forward(self, mels):\n",
    "\t\t\"\"\"\n",
    "\t\targs:\n",
    "\t\t\tmels: (batch size, length, 40)\n",
    "\t\treturn:\n",
    "\t\t\tout: (batch size, n_spks)\n",
    "\t\t\"\"\"\n",
    "\t\t# out: (batch size, length, d_model)\n",
    "\t\tout = self.prenet(mels)\n",
    "\t\t# out: (length, batch size, d_model)\n",
    "\t\tout = out.permute(1, 0, 2)\n",
    "\t\t# The encoder layer expect features in the shape of (length, batch size, d_model).\n",
    "\t\tout = self.encoder_layer(out)\n",
    "\t\t# out: (batch size, length, d_model)\n",
    "\t\tout = out.transpose(0, 1)\n",
    "\t\t# mean pooling\n",
    "\t\tstats = out.mean(dim=1)\n",
    "\n",
    "\t\t# out: (batch, n_spks)\n",
    "\t\tout = self.pred_layer(stats)\n",
    "\t\treturn out"
   ]
  },
  {
   "cell_type": "markdown",
   "id": "97fc63fe",
   "metadata": {
    "id": "W7yX8JinM5Ly",
    "papermill": {
     "duration": 0.006222,
     "end_time": "2024-04-28T12:28:50.799943",
     "exception": false,
     "start_time": "2024-04-28T12:28:50.793721",
     "status": "completed"
    },
    "tags": []
   },
   "source": [
    "# Learning rate schedule\n",
    "- For transformer architecture, the design of learning rate schedule is different from that of CNN.\n",
    "- Previous works show that the warmup of learning rate is useful for training models with transformer architectures.\n",
    "- The warmup schedule\n",
    "  - Set learning rate to 0 in the beginning.\n",
    "  - The learning rate increases linearly from 0 to initial learning rate during warmup period."
   ]
  },
  {
   "cell_type": "code",
   "execution_count": 6,
   "id": "965d9421",
   "metadata": {
    "execution": {
     "iopub.execute_input": "2024-04-28T12:28:50.814842Z",
     "iopub.status.busy": "2024-04-28T12:28:50.814502Z",
     "iopub.status.idle": "2024-04-28T12:28:50.822810Z",
     "shell.execute_reply": "2024-04-28T12:28:50.821931Z"
    },
    "id": "ykt0N1nVJJi2",
    "papermill": {
     "duration": 0.017735,
     "end_time": "2024-04-28T12:28:50.824792",
     "exception": false,
     "start_time": "2024-04-28T12:28:50.807057",
     "status": "completed"
    },
    "tags": []
   },
   "outputs": [],
   "source": [
    "import math\n",
    "\n",
    "import torch\n",
    "from torch.optim import Optimizer\n",
    "from torch.optim.lr_scheduler import LambdaLR\n",
    "\n",
    "\n",
    "def get_cosine_schedule_with_warmup(\n",
    "\toptimizer: Optimizer,\n",
    "\tnum_warmup_steps: int,\n",
    "\tnum_training_steps: int,\n",
    "\tnum_cycles: float = 0.5,\n",
    "\tlast_epoch: int = -1,\n",
    "):\n",
    "\t\"\"\"\n",
    "\tCreate a schedule with a learning rate that decreases following the values of the cosine function between the\n",
    "\tinitial lr set in the optimizer to 0, after a warmup period during which it increases linearly between 0 and the\n",
    "\tinitial lr set in the optimizer.\n",
    "\n",
    "\tArgs:\n",
    "\t\toptimizer (:class:`~torch.optim.Optimizer`):\n",
    "\t\tThe optimizer for which to schedule the learning rate.\n",
    "\t\tnum_warmup_steps (:obj:`int`):\n",
    "\t\tThe number of steps for the warmup phase.\n",
    "\t\tnum_training_steps (:obj:`int`):\n",
    "\t\tThe total number of training steps.\n",
    "\t\tnum_cycles (:obj:`float`, `optional`, defaults to 0.5):\n",
    "\t\tThe number of waves in the cosine schedule (the defaults is to just decrease from the max value to 0\n",
    "\t\tfollowing a half-cosine).\n",
    "\t\tlast_epoch (:obj:`int`, `optional`, defaults to -1):\n",
    "\t\tThe index of the last epoch when resuming training.\n",
    "\n",
    "\tReturn:\n",
    "\t\t:obj:`torch.optim.lr_scheduler.LambdaLR` with the appropriate schedule.\n",
    "\t\"\"\"\n",
    "\tdef lr_lambda(current_step):\n",
    "\t\t# Warmup\n",
    "\t\tif current_step < num_warmup_steps:\n",
    "\t\t\treturn float(current_step) / float(max(1, num_warmup_steps))\n",
    "\t\t# decadence\n",
    "\t\tprogress = float(current_step - num_warmup_steps) / float(\n",
    "\t\t\tmax(1, num_training_steps - num_warmup_steps)\n",
    "\t\t)\n",
    "\t\treturn max(\n",
    "\t\t\t0.0, 0.5 * (1.0 + math.cos(math.pi * float(num_cycles) * 2.0 * progress))\n",
    "\t\t)\n",
    "\n",
    "\treturn LambdaLR(optimizer, lr_lambda, last_epoch)"
   ]
  },
  {
   "cell_type": "markdown",
   "id": "a254e0f7",
   "metadata": {
    "id": "-LN2XkteM_uH",
    "papermill": {
     "duration": 0.006106,
     "end_time": "2024-04-28T12:28:50.837271",
     "exception": false,
     "start_time": "2024-04-28T12:28:50.831165",
     "status": "completed"
    },
    "tags": []
   },
   "source": [
    "# Model Function\n",
    "- Model forward function."
   ]
  },
  {
   "cell_type": "code",
   "execution_count": 7,
   "id": "d9fcedad",
   "metadata": {
    "execution": {
     "iopub.execute_input": "2024-04-28T12:28:50.851714Z",
     "iopub.status.busy": "2024-04-28T12:28:50.851002Z",
     "iopub.status.idle": "2024-04-28T12:28:50.857012Z",
     "shell.execute_reply": "2024-04-28T12:28:50.856054Z"
    },
    "id": "N-rr8529JMz0",
    "papermill": {
     "duration": 0.015503,
     "end_time": "2024-04-28T12:28:50.858987",
     "exception": false,
     "start_time": "2024-04-28T12:28:50.843484",
     "status": "completed"
    },
    "tags": []
   },
   "outputs": [],
   "source": [
    "import torch\n",
    "\n",
    "\n",
    "def model_fn(batch, model, criterion, device):\n",
    "\t\"\"\"Forward a batch through the model.\"\"\"\n",
    "\n",
    "\tmels, labels = batch\n",
    "\tmels = mels.to(device)\n",
    "\tlabels = labels.to(device)\n",
    "\n",
    "\touts = model(mels)\n",
    "\n",
    "\tloss = criterion(outs, labels)\n",
    "\n",
    "\t# Get the speaker id with highest probability.\n",
    "\tpreds = outs.argmax(1)\n",
    "\t# Compute accuracy.\n",
    "\taccuracy = torch.mean((preds == labels).float())\n",
    "\n",
    "\treturn loss, accuracy"
   ]
  },
  {
   "cell_type": "markdown",
   "id": "6c3aca2e",
   "metadata": {
    "id": "cwM_xyOtNCI2",
    "papermill": {
     "duration": 0.006197,
     "end_time": "2024-04-28T12:28:50.871598",
     "exception": false,
     "start_time": "2024-04-28T12:28:50.865401",
     "status": "completed"
    },
    "tags": []
   },
   "source": [
    "# Validate\n",
    "- Calculate accuracy of the validation set."
   ]
  },
  {
   "cell_type": "code",
   "execution_count": 8,
   "id": "b42a88e1",
   "metadata": {
    "execution": {
     "iopub.execute_input": "2024-04-28T12:28:50.886252Z",
     "iopub.status.busy": "2024-04-28T12:28:50.885422Z",
     "iopub.status.idle": "2024-04-28T12:28:50.892877Z",
     "shell.execute_reply": "2024-04-28T12:28:50.891981Z"
    },
    "id": "YAiv6kpdJRTJ",
    "papermill": {
     "duration": 0.016811,
     "end_time": "2024-04-28T12:28:50.894861",
     "exception": false,
     "start_time": "2024-04-28T12:28:50.878050",
     "status": "completed"
    },
    "tags": []
   },
   "outputs": [],
   "source": [
    "from tqdm import tqdm\n",
    "import torch\n",
    "\n",
    "\n",
    "def valid(dataloader, model, criterion, device): \n",
    "\t\"\"\"Validate on validation set.\"\"\"\n",
    "\n",
    "\tmodel.eval()\n",
    "\trunning_loss = 0.0\n",
    "\trunning_accuracy = 0.0\n",
    "\tpbar = tqdm(total=len(dataloader.dataset), ncols=0, desc=\"Valid\", unit=\" uttr\")\n",
    "\n",
    "\tfor i, batch in enumerate(dataloader):\n",
    "\t\twith torch.no_grad():\n",
    "\t\t\tloss, accuracy = model_fn(batch, model, criterion, device)\n",
    "\t\t\trunning_loss += loss.item()\n",
    "\t\t\trunning_accuracy += accuracy.item()\n",
    "\n",
    "\t\tpbar.update(dataloader.batch_size)\n",
    "\t\tpbar.set_postfix(\n",
    "\t\t\tloss=f\"{running_loss / (i+1):.2f}\",\n",
    "\t\t\taccuracy=f\"{running_accuracy / (i+1):.2f}\",\n",
    "\t\t)\n",
    "\n",
    "\tpbar.close()\n",
    "\tmodel.train()\n",
    "\n",
    "\treturn running_accuracy / len(dataloader)"
   ]
  },
  {
   "cell_type": "markdown",
   "id": "4852032b",
   "metadata": {
    "id": "g6ne9G-eNEdG",
    "papermill": {
     "duration": 0.006461,
     "end_time": "2024-04-28T12:28:50.908008",
     "exception": false,
     "start_time": "2024-04-28T12:28:50.901547",
     "status": "completed"
    },
    "tags": []
   },
   "source": [
    "# Main function"
   ]
  },
  {
   "cell_type": "code",
   "execution_count": 9,
   "id": "39f0515f",
   "metadata": {
    "execution": {
     "iopub.execute_input": "2024-04-28T12:28:50.922978Z",
     "iopub.status.busy": "2024-04-28T12:28:50.922219Z",
     "iopub.status.idle": "2024-04-28T13:46:33.626535Z",
     "shell.execute_reply": "2024-04-28T13:46:33.625183Z"
    },
    "id": "Usv9s-CuJSG7",
    "papermill": {
     "duration": 4662.714279,
     "end_time": "2024-04-28T13:46:33.628933",
     "exception": false,
     "start_time": "2024-04-28T12:28:50.914654",
     "status": "completed"
    },
    "tags": []
   },
   "outputs": [
    {
     "name": "stdout",
     "output_type": "stream",
     "text": [
      "[Info]: Use cuda now!\n"
     ]
    },
    {
     "name": "stderr",
     "output_type": "stream",
     "text": [
      "/opt/conda/lib/python3.10/site-packages/torch/utils/data/dataloader.py:557: UserWarning: This DataLoader will create 8 worker processes in total. Our suggested max number of worker in current system is 4, which is smaller than what this DataLoader is going to create. Please be aware that excessive worker creation might get DataLoader running slow or even freeze, lower the worker number to avoid potential slowness/freeze if necessary.\n",
      "  warnings.warn(_create_warning_msg(\n"
     ]
    },
    {
     "name": "stdout",
     "output_type": "stream",
     "text": [
      "[Info]: Finish loading data!\n",
      "[Info]: Finish creating model!\n"
     ]
    },
    {
     "name": "stderr",
     "output_type": "stream",
     "text": [
      "Train:  80% 1591/2000 [01:12<00:17, 23.01 step/s, accuracy=0.12, loss=4.31, step=1500]/opt/conda/lib/python3.10/site-packages/torch/utils/data/dataloader.py:557: UserWarning: This DataLoader will create 8 worker processes in total. Our suggested max number of worker in current system is 4, which is smaller than what this DataLoader is going to create. Please be aware that excessive worker creation might get DataLoader running slow or even freeze, lower the worker number to avoid potential slowness/freeze if necessary.\n",
      "  warnings.warn(_create_warning_msg(\n",
      "Train: 100% 2000/2000 [01:17<00:00, 25.85 step/s, accuracy=0.19, loss=4.16, step=2000] \n",
      "Valid: 100% 5664/5667 [00:08<00:00, 692.59 uttr/s, accuracy=0.19, loss=3.96]\n",
      "Train: 100% 2000/2000 [00:20<00:00, 97.42 step/s, accuracy=0.34, loss=2.97, step=4000] \n",
      "Valid: 100% 5664/5667 [00:01<00:00, 3180.59 uttr/s, accuracy=0.33, loss=3.08]\n",
      "Train: 100% 2000/2000 [00:19<00:00, 100.57 step/s, accuracy=0.59, loss=2.24, step=6000]\n",
      "Valid: 100% 5664/5667 [00:01<00:00, 3059.39 uttr/s, accuracy=0.41, loss=2.70]\n",
      "Train: 100% 2000/2000 [00:20<00:00, 96.76 step/s, accuracy=0.34, loss=2.50, step=8000]\n",
      "Valid: 100% 5664/5667 [00:01<00:00, 3159.05 uttr/s, accuracy=0.45, loss=2.51]\n",
      "Train: 100% 2000/2000 [00:20<00:00, 96.85 step/s, accuracy=0.44, loss=2.11, step=1e+4] \n",
      "Valid: 100% 5664/5667 [00:01<00:00, 3039.52 uttr/s, accuracy=0.49, loss=2.28]\n",
      "Train:   1% 11/2000 [00:00<00:18, 106.72 step/s]"
     ]
    },
    {
     "name": "stdout",
     "output_type": "stream",
     "text": [
      "Step 10000, best model saved. (accuracy=0.4910)\n"
     ]
    },
    {
     "name": "stderr",
     "output_type": "stream",
     "text": [
      "Train: 100% 2000/2000 [00:20<00:00, 98.26 step/s, accuracy=0.56, loss=1.66, step=12000] \n",
      "Valid: 100% 5664/5667 [00:01<00:00, 3196.53 uttr/s, accuracy=0.52, loss=2.13]\n",
      "Train: 100% 2000/2000 [00:20<00:00, 96.29 step/s, accuracy=0.62, loss=1.69, step=14000]\n",
      "Valid: 100% 5664/5667 [00:01<00:00, 3236.15 uttr/s, accuracy=0.53, loss=2.11]\n",
      "Train: 100% 2000/2000 [00:20<00:00, 95.76 step/s, accuracy=0.56, loss=1.57, step=16000]\n",
      "Valid: 100% 5664/5667 [00:01<00:00, 3024.55 uttr/s, accuracy=0.54, loss=2.01]\n",
      "Train: 100% 2000/2000 [00:20<00:00, 96.96 step/s, accuracy=0.56, loss=1.59, step=18000]\n",
      "Valid: 100% 5664/5667 [00:01<00:00, 3015.97 uttr/s, accuracy=0.56, loss=1.95]\n",
      "Train: 100% 2000/2000 [00:20<00:00, 98.56 step/s, accuracy=0.75, loss=1.20, step=2e+4] \n",
      "Valid: 100% 5664/5667 [00:01<00:00, 3062.77 uttr/s, accuracy=0.56, loss=1.95]\n",
      "Train:   1% 22/2000 [00:00<00:18, 106.58 step/s]"
     ]
    },
    {
     "name": "stdout",
     "output_type": "stream",
     "text": [
      "Step 20000, best model saved. (accuracy=0.5646)\n"
     ]
    },
    {
     "name": "stderr",
     "output_type": "stream",
     "text": [
      "Train: 100% 2000/2000 [00:20<00:00, 98.25 step/s, accuracy=0.56, loss=1.71, step=22000] \n",
      "Valid: 100% 5664/5667 [00:01<00:00, 2991.05 uttr/s, accuracy=0.57, loss=1.90]\n",
      "Train: 100% 2000/2000 [00:20<00:00, 96.69 step/s, accuracy=0.69, loss=1.08, step=24000]\n",
      "Valid: 100% 5664/5667 [00:01<00:00, 2992.04 uttr/s, accuracy=0.57, loss=1.90]\n",
      "Train: 100% 2000/2000 [00:20<00:00, 98.58 step/s, accuracy=0.66, loss=1.36, step=26000]\n",
      "Valid: 100% 5664/5667 [00:01<00:00, 3146.77 uttr/s, accuracy=0.57, loss=1.91]\n",
      "Train: 100% 2000/2000 [00:20<00:00, 97.42 step/s, accuracy=0.78, loss=1.18, step=28000]\n",
      "Valid: 100% 5664/5667 [00:01<00:00, 3097.30 uttr/s, accuracy=0.59, loss=1.83]\n",
      "Train: 100% 2000/2000 [00:20<00:00, 96.85 step/s, accuracy=0.56, loss=1.88, step=3e+4] \n",
      "Valid: 100% 5664/5667 [00:01<00:00, 3156.97 uttr/s, accuracy=0.57, loss=1.92]\n",
      "Train:   1% 11/2000 [00:00<00:19, 103.04 step/s]"
     ]
    },
    {
     "name": "stdout",
     "output_type": "stream",
     "text": [
      "Step 30000, best model saved. (accuracy=0.5918)\n"
     ]
    },
    {
     "name": "stderr",
     "output_type": "stream",
     "text": [
      "Train: 100% 2000/2000 [00:20<00:00, 98.32 step/s, accuracy=0.78, loss=0.98, step=32000]\n",
      "Valid: 100% 5664/5667 [00:01<00:00, 2846.39 uttr/s, accuracy=0.60, loss=1.74]\n",
      "Train: 100% 2000/2000 [00:20<00:00, 97.05 step/s, accuracy=0.44, loss=1.74, step=34000]\n",
      "Valid: 100% 5664/5667 [00:01<00:00, 3082.13 uttr/s, accuracy=0.61, loss=1.75]\n",
      "Train: 100% 2000/2000 [00:20<00:00, 98.47 step/s, accuracy=0.72, loss=1.19, step=36000] \n",
      "Valid: 100% 5664/5667 [00:01<00:00, 3048.47 uttr/s, accuracy=0.59, loss=1.77]\n",
      "Train: 100% 2000/2000 [00:20<00:00, 96.14 step/s, accuracy=0.69, loss=1.46, step=38000]\n",
      "Valid: 100% 5664/5667 [00:01<00:00, 2969.66 uttr/s, accuracy=0.61, loss=1.74]\n",
      "Train: 100% 2000/2000 [00:21<00:00, 92.14 step/s, accuracy=0.84, loss=0.76, step=4e+4]\n",
      "Valid: 100% 5664/5667 [00:01<00:00, 3070.70 uttr/s, accuracy=0.62, loss=1.67]\n",
      "Train:   1% 22/2000 [00:00<00:18, 107.31 step/s]"
     ]
    },
    {
     "name": "stdout",
     "output_type": "stream",
     "text": [
      "Step 40000, best model saved. (accuracy=0.6183)\n"
     ]
    },
    {
     "name": "stderr",
     "output_type": "stream",
     "text": [
      "Train: 100% 2000/2000 [00:21<00:00, 94.22 step/s, accuracy=0.66, loss=1.80, step=42000] \n",
      "Valid: 100% 5664/5667 [00:01<00:00, 3146.53 uttr/s, accuracy=0.62, loss=1.71]\n",
      "Train: 100% 2000/2000 [00:21<00:00, 91.66 step/s, accuracy=0.56, loss=1.79, step=44000]\n",
      "Valid: 100% 5664/5667 [00:01<00:00, 3183.71 uttr/s, accuracy=0.62, loss=1.71]\n",
      "Train: 100% 2000/2000 [00:20<00:00, 95.27 step/s, accuracy=0.78, loss=0.91, step=46000] \n",
      "Valid: 100% 5664/5667 [00:02<00:00, 2359.21 uttr/s, accuracy=0.62, loss=1.66]\n",
      "Train: 100% 2000/2000 [00:21<00:00, 95.23 step/s, accuracy=0.50, loss=1.84, step=48000] \n",
      "Valid: 100% 5664/5667 [00:01<00:00, 3143.19 uttr/s, accuracy=0.62, loss=1.71]\n",
      "Train: 100% 2000/2000 [00:21<00:00, 91.27 step/s, accuracy=0.84, loss=0.81, step=5e+4]\n",
      "Valid: 100% 5664/5667 [00:02<00:00, 2537.44 uttr/s, accuracy=0.62, loss=1.64]\n",
      "Train:   1% 11/2000 [00:00<00:18, 108.91 step/s]"
     ]
    },
    {
     "name": "stdout",
     "output_type": "stream",
     "text": [
      "Step 50000, best model saved. (accuracy=0.6248)\n"
     ]
    },
    {
     "name": "stderr",
     "output_type": "stream",
     "text": [
      "Train: 100% 2000/2000 [00:21<00:00, 93.84 step/s, accuracy=0.69, loss=1.03, step=52000]\n",
      "Valid: 100% 5664/5667 [00:02<00:00, 2344.56 uttr/s, accuracy=0.63, loss=1.62]\n",
      "Train: 100% 2000/2000 [00:20<00:00, 95.69 step/s, accuracy=0.72, loss=1.23, step=54000]\n",
      "Valid: 100% 5664/5667 [00:02<00:00, 1917.95 uttr/s, accuracy=0.63, loss=1.67]\n",
      "Train: 100% 2000/2000 [00:22<00:00, 89.70 step/s, accuracy=0.81, loss=1.31, step=56000]\n",
      "Valid: 100% 5664/5667 [00:02<00:00, 2274.39 uttr/s, accuracy=0.62, loss=1.68]\n",
      "Train: 100% 2000/2000 [00:21<00:00, 92.58 step/s, accuracy=0.72, loss=0.98, step=58000]\n",
      "Valid: 100% 5664/5667 [00:02<00:00, 2154.56 uttr/s, accuracy=0.63, loss=1.70]\n",
      "Train: 100% 2000/2000 [00:20<00:00, 95.52 step/s, accuracy=0.81, loss=0.72, step=6e+4]\n",
      "Valid: 100% 5664/5667 [00:01<00:00, 3082.61 uttr/s, accuracy=0.63, loss=1.65]\n",
      "Train:   1% 11/2000 [00:00<00:18, 105.32 step/s]"
     ]
    },
    {
     "name": "stdout",
     "output_type": "stream",
     "text": [
      "Step 60000, best model saved. (accuracy=0.6349)\n"
     ]
    },
    {
     "name": "stderr",
     "output_type": "stream",
     "text": [
      "Train: 100% 2000/2000 [00:20<00:00, 99.27 step/s, accuracy=0.62, loss=1.28, step=62000]\n",
      "Valid: 100% 5664/5667 [00:01<00:00, 2955.58 uttr/s, accuracy=0.66, loss=1.52]\n",
      "Train: 100% 2000/2000 [00:20<00:00, 95.38 step/s, accuracy=0.78, loss=0.82, step=64000]\n",
      "Valid: 100% 5664/5667 [00:01<00:00, 3049.67 uttr/s, accuracy=0.64, loss=1.64]\n",
      "Train: 100% 2000/2000 [00:20<00:00, 95.72 step/s, accuracy=0.62, loss=1.42, step=66000] \n",
      "Valid: 100% 5664/5667 [00:01<00:00, 3142.30 uttr/s, accuracy=0.65, loss=1.60]\n",
      "Train: 100% 2000/2000 [00:20<00:00, 95.83 step/s, accuracy=0.75, loss=0.72, step=68000]\n",
      "Valid: 100% 5664/5667 [00:01<00:00, 3031.17 uttr/s, accuracy=0.65, loss=1.53]\n",
      "Train: 100% 2000/2000 [00:20<00:00, 97.80 step/s, accuracy=0.81, loss=0.90, step=7e+4] \n",
      "Valid: 100% 5664/5667 [00:01<00:00, 3043.71 uttr/s, accuracy=0.66, loss=1.51]\n",
      "Train:   1% 20/2000 [00:00<00:19, 99.26 step/s]"
     ]
    },
    {
     "name": "stdout",
     "output_type": "stream",
     "text": [
      "Step 70000, best model saved. (accuracy=0.6591)\n"
     ]
    },
    {
     "name": "stderr",
     "output_type": "stream",
     "text": [
      "Train: 100% 2000/2000 [00:21<00:00, 93.98 step/s, accuracy=0.94, loss=0.36, step=72000] \n",
      "Valid: 100% 5664/5667 [00:01<00:00, 3053.70 uttr/s, accuracy=0.66, loss=1.53]\n",
      "Train: 100% 2000/2000 [00:20<00:00, 95.72 step/s, accuracy=0.62, loss=1.19, step=74000] \n",
      "Valid: 100% 5664/5667 [00:01<00:00, 3130.69 uttr/s, accuracy=0.65, loss=1.57]\n",
      "Train: 100% 2000/2000 [00:20<00:00, 98.65 step/s, accuracy=0.72, loss=0.97, step=76000]\n",
      "Valid: 100% 5664/5667 [00:01<00:00, 2949.78 uttr/s, accuracy=0.65, loss=1.57]\n",
      "Train: 100% 2000/2000 [00:21<00:00, 93.31 step/s, accuracy=0.66, loss=1.54, step=78000]\n",
      "Valid: 100% 5664/5667 [00:01<00:00, 3047.66 uttr/s, accuracy=0.64, loss=1.60]\n",
      "Train: 100% 2000/2000 [00:22<00:00, 90.57 step/s, accuracy=0.59, loss=1.20, step=8e+4]\n",
      "Valid: 100% 5664/5667 [00:01<00:00, 3065.09 uttr/s, accuracy=0.65, loss=1.58]\n",
      "Train:   1% 12/2000 [00:00<00:16, 119.25 step/s]"
     ]
    },
    {
     "name": "stdout",
     "output_type": "stream",
     "text": [
      "Step 80000, best model saved. (accuracy=0.6591)\n"
     ]
    },
    {
     "name": "stderr",
     "output_type": "stream",
     "text": [
      "Train: 100% 2000/2000 [00:21<00:00, 91.63 step/s, accuracy=0.84, loss=0.56, step=82000]\n",
      "Valid: 100% 5664/5667 [00:02<00:00, 2761.17 uttr/s, accuracy=0.66, loss=1.52]\n",
      "Train: 100% 2000/2000 [00:20<00:00, 99.05 step/s, accuracy=0.78, loss=1.18, step=84000]\n",
      "Valid: 100% 5664/5667 [00:01<00:00, 3081.57 uttr/s, accuracy=0.65, loss=1.55]\n",
      "Train: 100% 2000/2000 [00:20<00:00, 96.60 step/s, accuracy=0.88, loss=0.81, step=86000] \n",
      "Valid: 100% 5664/5667 [00:01<00:00, 3125.66 uttr/s, accuracy=0.66, loss=1.52]\n",
      "Train: 100% 2000/2000 [00:21<00:00, 95.03 step/s, accuracy=0.75, loss=0.95, step=88000] \n",
      "Valid: 100% 5664/5667 [00:01<00:00, 3138.43 uttr/s, accuracy=0.67, loss=1.47]\n",
      "Train: 100% 2000/2000 [00:20<00:00, 99.53 step/s, accuracy=0.78, loss=0.84, step=9e+4] \n",
      "Valid: 100% 5664/5667 [00:01<00:00, 3015.81 uttr/s, accuracy=0.67, loss=1.48]\n",
      "Train:   1% 12/2000 [00:00<00:17, 114.81 step/s]"
     ]
    },
    {
     "name": "stdout",
     "output_type": "stream",
     "text": [
      "Step 90000, best model saved. (accuracy=0.6728)\n"
     ]
    },
    {
     "name": "stderr",
     "output_type": "stream",
     "text": [
      "Train: 100% 2000/2000 [00:20<00:00, 95.80 step/s, accuracy=0.75, loss=1.16, step=92000]\n",
      "Valid: 100% 5664/5667 [00:01<00:00, 3207.25 uttr/s, accuracy=0.68, loss=1.49]\n",
      "Train: 100% 2000/2000 [00:21<00:00, 94.69 step/s, accuracy=0.81, loss=0.52, step=94000]\n",
      "Valid: 100% 5664/5667 [00:01<00:00, 3081.36 uttr/s, accuracy=0.67, loss=1.46]\n",
      "Train: 100% 2000/2000 [00:20<00:00, 97.10 step/s, accuracy=0.81, loss=0.73, step=96000] \n",
      "Valid: 100% 5664/5667 [00:01<00:00, 3196.21 uttr/s, accuracy=0.67, loss=1.50]\n",
      "Train: 100% 2000/2000 [00:20<00:00, 97.08 step/s, accuracy=0.91, loss=0.35, step=98000] \n",
      "Valid: 100% 5664/5667 [00:01<00:00, 3024.74 uttr/s, accuracy=0.66, loss=1.48]\n",
      "Train: 100% 2000/2000 [00:21<00:00, 95.20 step/s, accuracy=0.69, loss=1.17, step=1e+5]\n",
      "Valid: 100% 5664/5667 [00:01<00:00, 3167.31 uttr/s, accuracy=0.67, loss=1.47]\n",
      "Train:   1% 12/2000 [00:00<00:17, 113.41 step/s]"
     ]
    },
    {
     "name": "stdout",
     "output_type": "stream",
     "text": [
      "Step 100000, best model saved. (accuracy=0.6751)\n"
     ]
    },
    {
     "name": "stderr",
     "output_type": "stream",
     "text": [
      "Train: 100% 2000/2000 [00:20<00:00, 96.62 step/s, accuracy=0.81, loss=0.53, step=102000]\n",
      "Valid: 100% 5664/5667 [00:01<00:00, 3129.33 uttr/s, accuracy=0.68, loss=1.41]\n",
      "Train: 100% 2000/2000 [00:20<00:00, 97.37 step/s, accuracy=0.75, loss=1.01, step=104000]\n",
      "Valid: 100% 5664/5667 [00:01<00:00, 3023.89 uttr/s, accuracy=0.68, loss=1.41]\n",
      "Train: 100% 2000/2000 [00:20<00:00, 96.47 step/s, accuracy=0.81, loss=0.64, step=106000] \n",
      "Valid: 100% 5664/5667 [00:01<00:00, 3024.97 uttr/s, accuracy=0.67, loss=1.49]\n",
      "Train: 100% 2000/2000 [00:20<00:00, 97.51 step/s, accuracy=0.81, loss=0.74, step=108000]\n",
      "Valid: 100% 5664/5667 [00:01<00:00, 3202.72 uttr/s, accuracy=0.68, loss=1.42]\n",
      "Train: 100% 2000/2000 [00:22<00:00, 90.04 step/s, accuracy=0.69, loss=1.15, step=110000]\n",
      "Valid: 100% 5664/5667 [00:01<00:00, 3001.46 uttr/s, accuracy=0.66, loss=1.52]\n",
      "Train:   1% 12/2000 [00:00<00:18, 109.63 step/s]"
     ]
    },
    {
     "name": "stdout",
     "output_type": "stream",
     "text": [
      "Step 110000, best model saved. (accuracy=0.6836)\n"
     ]
    },
    {
     "name": "stderr",
     "output_type": "stream",
     "text": [
      "Train: 100% 2000/2000 [00:22<00:00, 90.80 step/s, accuracy=0.84, loss=0.60, step=112000]\n",
      "Valid: 100% 5664/5667 [00:01<00:00, 2920.80 uttr/s, accuracy=0.68, loss=1.43]\n",
      "Train: 100% 2000/2000 [00:21<00:00, 91.04 step/s, accuracy=0.84, loss=0.64, step=114000]\n",
      "Valid: 100% 5664/5667 [00:02<00:00, 2780.79 uttr/s, accuracy=0.69, loss=1.41]\n",
      "Train: 100% 2000/2000 [00:21<00:00, 91.05 step/s, accuracy=0.75, loss=0.88, step=116000]\n",
      "Valid: 100% 5664/5667 [00:01<00:00, 2923.30 uttr/s, accuracy=0.67, loss=1.45]\n",
      "Train: 100% 2000/2000 [00:22<00:00, 90.74 step/s, accuracy=0.78, loss=1.04, step=118000] \n",
      "Valid: 100% 5664/5667 [00:01<00:00, 3062.23 uttr/s, accuracy=0.69, loss=1.43]\n",
      "Train: 100% 2000/2000 [00:20<00:00, 96.20 step/s, accuracy=0.75, loss=0.88, step=120000]\n",
      "Valid: 100% 5664/5667 [00:01<00:00, 3040.56 uttr/s, accuracy=0.68, loss=1.41]\n",
      "Train:   1% 11/2000 [00:00<00:18, 105.33 step/s]"
     ]
    },
    {
     "name": "stdout",
     "output_type": "stream",
     "text": [
      "Step 120000, best model saved. (accuracy=0.6859)\n"
     ]
    },
    {
     "name": "stderr",
     "output_type": "stream",
     "text": [
      "Train: 100% 2000/2000 [00:20<00:00, 96.15 step/s, accuracy=0.69, loss=1.01, step=122000] \n",
      "Valid: 100% 5664/5667 [00:01<00:00, 3142.18 uttr/s, accuracy=0.69, loss=1.43]\n",
      "Train: 100% 2000/2000 [00:21<00:00, 94.37 step/s, accuracy=0.75, loss=1.05, step=124000]\n",
      "Valid: 100% 5664/5667 [00:01<00:00, 3069.15 uttr/s, accuracy=0.69, loss=1.42]\n",
      "Train: 100% 2000/2000 [00:21<00:00, 93.67 step/s, accuracy=0.78, loss=1.15, step=126000]\n",
      "Valid: 100% 5664/5667 [00:02<00:00, 2621.51 uttr/s, accuracy=0.69, loss=1.40]\n",
      "Train: 100% 2000/2000 [00:20<00:00, 98.43 step/s, accuracy=0.62, loss=1.25, step=128000] \n",
      "Valid: 100% 5664/5667 [00:01<00:00, 3101.26 uttr/s, accuracy=0.69, loss=1.41]\n",
      "Train: 100% 2000/2000 [00:20<00:00, 96.25 step/s, accuracy=0.53, loss=1.86, step=130000] \n",
      "Valid: 100% 5664/5667 [00:01<00:00, 3109.03 uttr/s, accuracy=0.69, loss=1.42]\n",
      "Train:   1% 11/2000 [00:00<00:19, 101.85 step/s]"
     ]
    },
    {
     "name": "stdout",
     "output_type": "stream",
     "text": [
      "Step 130000, best model saved. (accuracy=0.6887)\n"
     ]
    },
    {
     "name": "stderr",
     "output_type": "stream",
     "text": [
      "Train: 100% 2000/2000 [00:20<00:00, 95.73 step/s, accuracy=0.66, loss=0.99, step=132000] \n",
      "Valid: 100% 5664/5667 [00:01<00:00, 3123.55 uttr/s, accuracy=0.69, loss=1.39]\n",
      "Train: 100% 2000/2000 [00:20<00:00, 98.45 step/s, accuracy=0.88, loss=0.80, step=134000]\n",
      "Valid: 100% 5664/5667 [00:01<00:00, 3158.74 uttr/s, accuracy=0.70, loss=1.35]\n",
      "Train: 100% 2000/2000 [00:20<00:00, 95.78 step/s, accuracy=0.72, loss=1.02, step=136000]\n",
      "Valid: 100% 5664/5667 [00:01<00:00, 3134.45 uttr/s, accuracy=0.69, loss=1.40]\n",
      "Train: 100% 2000/2000 [00:20<00:00, 96.41 step/s, accuracy=0.75, loss=0.90, step=138000]\n",
      "Valid: 100% 5664/5667 [00:01<00:00, 3163.31 uttr/s, accuracy=0.70, loss=1.36]\n",
      "Train: 100% 2000/2000 [00:20<00:00, 98.96 step/s, accuracy=0.66, loss=0.78, step=140000] \n",
      "Valid: 100% 5664/5667 [00:01<00:00, 3085.44 uttr/s, accuracy=0.68, loss=1.41]\n",
      "Train:   1% 12/2000 [00:00<00:17, 112.22 step/s]"
     ]
    },
    {
     "name": "stdout",
     "output_type": "stream",
     "text": [
      "Step 140000, best model saved. (accuracy=0.6999)\n"
     ]
    },
    {
     "name": "stderr",
     "output_type": "stream",
     "text": [
      "Train: 100% 2000/2000 [00:21<00:00, 95.01 step/s, accuracy=0.78, loss=0.93, step=142000]\n",
      "Valid: 100% 5664/5667 [00:01<00:00, 3171.27 uttr/s, accuracy=0.70, loss=1.33]\n",
      "Train: 100% 2000/2000 [00:20<00:00, 95.36 step/s, accuracy=0.78, loss=0.71, step=144000]\n",
      "Valid: 100% 5664/5667 [00:01<00:00, 2952.11 uttr/s, accuracy=0.71, loss=1.32]\n",
      "Train: 100% 2000/2000 [00:20<00:00, 97.71 step/s, accuracy=0.78, loss=0.75, step=146000] \n",
      "Valid: 100% 5664/5667 [00:01<00:00, 3165.38 uttr/s, accuracy=0.70, loss=1.35]\n",
      "Train: 100% 2000/2000 [00:21<00:00, 94.99 step/s, accuracy=0.69, loss=1.19, step=148000] \n",
      "Valid: 100% 5664/5667 [00:01<00:00, 3015.62 uttr/s, accuracy=0.70, loss=1.36]\n",
      "Train: 100% 2000/2000 [00:21<00:00, 93.35 step/s, accuracy=0.78, loss=1.18, step=150000]\n",
      "Valid: 100% 5664/5667 [00:01<00:00, 2999.21 uttr/s, accuracy=0.70, loss=1.32]\n",
      "Train:   1% 11/2000 [00:00<00:19, 103.29 step/s]"
     ]
    },
    {
     "name": "stdout",
     "output_type": "stream",
     "text": [
      "Step 150000, best model saved. (accuracy=0.7069)\n"
     ]
    },
    {
     "name": "stderr",
     "output_type": "stream",
     "text": [
      "Train: 100% 2000/2000 [00:20<00:00, 96.48 step/s, accuracy=0.91, loss=0.44, step=152000] \n",
      "Valid: 100% 5664/5667 [00:01<00:00, 3121.78 uttr/s, accuracy=0.70, loss=1.33]\n",
      "Train: 100% 2000/2000 [00:20<00:00, 97.51 step/s, accuracy=0.75, loss=1.01, step=154000] \n",
      "Valid: 100% 5664/5667 [00:01<00:00, 3113.79 uttr/s, accuracy=0.71, loss=1.30]\n",
      "Train: 100% 2000/2000 [00:20<00:00, 97.62 step/s, accuracy=0.81, loss=0.70, step=156000]\n",
      "Valid: 100% 5664/5667 [00:01<00:00, 2852.75 uttr/s, accuracy=0.70, loss=1.34]\n",
      "Train: 100% 2000/2000 [00:20<00:00, 97.27 step/s, accuracy=0.78, loss=0.80, step=158000]\n",
      "Valid: 100% 5664/5667 [00:01<00:00, 3181.50 uttr/s, accuracy=0.70, loss=1.37]\n",
      "Train: 100% 2000/2000 [00:20<00:00, 96.52 step/s, accuracy=0.78, loss=1.01, step=160000]\n",
      "Valid: 100% 5664/5667 [00:01<00:00, 3161.79 uttr/s, accuracy=0.71, loss=1.30]\n",
      "Train:   1% 12/2000 [00:00<00:17, 111.59 step/s]"
     ]
    },
    {
     "name": "stdout",
     "output_type": "stream",
     "text": [
      "Step 160000, best model saved. (accuracy=0.7105)\n"
     ]
    },
    {
     "name": "stderr",
     "output_type": "stream",
     "text": [
      "Train: 100% 2000/2000 [00:20<00:00, 99.74 step/s, accuracy=0.81, loss=0.66, step=162000] \n",
      "Valid: 100% 5664/5667 [00:02<00:00, 2822.66 uttr/s, accuracy=0.70, loss=1.35]\n",
      "Train: 100% 2000/2000 [00:20<00:00, 95.95 step/s, accuracy=0.75, loss=1.03, step=164000] \n",
      "Valid: 100% 5664/5667 [00:01<00:00, 3155.80 uttr/s, accuracy=0.71, loss=1.35]\n",
      "Train: 100% 2000/2000 [00:21<00:00, 94.77 step/s, accuracy=0.69, loss=1.17, step=166000] \n",
      "Valid: 100% 5664/5667 [00:01<00:00, 3158.92 uttr/s, accuracy=0.70, loss=1.38]\n",
      "Train: 100% 2000/2000 [00:19<00:00, 100.01 step/s, accuracy=0.84, loss=0.53, step=168000]\n",
      "Valid: 100% 5664/5667 [00:01<00:00, 3167.18 uttr/s, accuracy=0.71, loss=1.36]\n",
      "Train: 100% 2000/2000 [00:21<00:00, 94.61 step/s, accuracy=0.88, loss=0.42, step=170000]\n",
      "Valid: 100% 5664/5667 [00:01<00:00, 3120.47 uttr/s, accuracy=0.72, loss=1.26]\n",
      "Train:   1% 12/2000 [00:00<00:17, 110.83 step/s]"
     ]
    },
    {
     "name": "stdout",
     "output_type": "stream",
     "text": [
      "Step 170000, best model saved. (accuracy=0.7189)\n"
     ]
    },
    {
     "name": "stderr",
     "output_type": "stream",
     "text": [
      "Train: 100% 2000/2000 [00:21<00:00, 95.23 step/s, accuracy=0.88, loss=0.62, step=172000]\n",
      "Valid: 100% 5664/5667 [00:01<00:00, 3161.70 uttr/s, accuracy=0.71, loss=1.30]\n",
      "Train: 100% 2000/2000 [00:20<00:00, 98.59 step/s, accuracy=0.88, loss=0.55, step=174000]\n",
      "Valid: 100% 5664/5667 [00:02<00:00, 2772.43 uttr/s, accuracy=0.71, loss=1.33]\n",
      "Train: 100% 2000/2000 [00:21<00:00, 94.84 step/s, accuracy=0.78, loss=0.72, step=176000]\n",
      "Valid: 100% 5664/5667 [00:01<00:00, 3140.85 uttr/s, accuracy=0.72, loss=1.28]\n",
      "Train: 100% 2000/2000 [00:21<00:00, 95.09 step/s, accuracy=0.88, loss=0.60, step=178000]\n",
      "Valid: 100% 5664/5667 [00:02<00:00, 2815.66 uttr/s, accuracy=0.72, loss=1.28]\n",
      "Train: 100% 2000/2000 [00:20<00:00, 97.36 step/s, accuracy=0.94, loss=0.31, step=180000]\n",
      "Valid: 100% 5664/5667 [00:01<00:00, 3225.96 uttr/s, accuracy=0.71, loss=1.31]\n",
      "Train:   0% 0/2000 [00:00<?, ? step/s]"
     ]
    },
    {
     "name": "stdout",
     "output_type": "stream",
     "text": [
      "Step 180000, best model saved. (accuracy=0.7189)\n"
     ]
    },
    {
     "name": "stderr",
     "output_type": "stream",
     "text": [
      "Train: 100% 2000/2000 [00:21<00:00, 94.68 step/s, accuracy=0.84, loss=0.79, step=182000]\n",
      "Valid: 100% 5664/5667 [00:01<00:00, 3179.04 uttr/s, accuracy=0.72, loss=1.27]\n",
      "Train: 100% 2000/2000 [00:20<00:00, 96.12 step/s, accuracy=0.81, loss=0.73, step=184000]\n",
      "Valid: 100% 5664/5667 [00:02<00:00, 2737.01 uttr/s, accuracy=0.72, loss=1.24]\n",
      "Train: 100% 2000/2000 [00:20<00:00, 96.70 step/s, accuracy=0.81, loss=0.71, step=186000]\n",
      "Valid: 100% 5664/5667 [00:01<00:00, 3155.66 uttr/s, accuracy=0.72, loss=1.27]\n",
      "Train: 100% 2000/2000 [00:20<00:00, 95.47 step/s, accuracy=0.84, loss=0.68, step=188000]\n",
      "Valid: 100% 5664/5667 [00:01<00:00, 2898.96 uttr/s, accuracy=0.72, loss=1.27]\n",
      "Train: 100% 2000/2000 [00:20<00:00, 99.51 step/s, accuracy=0.91, loss=0.51, step=190000] \n",
      "Valid: 100% 5664/5667 [00:01<00:00, 3161.59 uttr/s, accuracy=0.73, loss=1.26]\n",
      "Train:   1% 12/2000 [00:00<00:17, 112.66 step/s]"
     ]
    },
    {
     "name": "stdout",
     "output_type": "stream",
     "text": [
      "Step 190000, best model saved. (accuracy=0.7255)\n"
     ]
    },
    {
     "name": "stderr",
     "output_type": "stream",
     "text": [
      "Train: 100% 2000/2000 [00:21<00:00, 94.39 step/s, accuracy=0.84, loss=0.51, step=192000]\n",
      "Valid: 100% 5664/5667 [00:01<00:00, 3097.78 uttr/s, accuracy=0.73, loss=1.29]\n",
      "Train: 100% 2000/2000 [00:21<00:00, 93.95 step/s, accuracy=0.91, loss=0.69, step=194000] \n",
      "Valid: 100% 5664/5667 [00:01<00:00, 3162.20 uttr/s, accuracy=0.72, loss=1.27]\n",
      "Train: 100% 2000/2000 [00:20<00:00, 98.94 step/s, accuracy=0.84, loss=0.58, step=196000]\n",
      "Valid: 100% 5664/5667 [00:01<00:00, 3110.41 uttr/s, accuracy=0.72, loss=1.28]\n",
      "Train: 100% 2000/2000 [00:21<00:00, 93.16 step/s, accuracy=0.88, loss=0.59, step=198000] \n",
      "Valid: 100% 5664/5667 [00:01<00:00, 3186.08 uttr/s, accuracy=0.72, loss=1.26]\n",
      "Train: 100% 2000/2000 [00:21<00:00, 93.81 step/s, accuracy=0.94, loss=0.33, step=2e+5]\n",
      "Valid: 100% 5664/5667 [00:02<00:00, 2688.43 uttr/s, accuracy=0.73, loss=1.24]\n",
      "Train:   1% 11/2000 [00:00<00:18, 105.53 step/s]"
     ]
    },
    {
     "name": "stdout",
     "output_type": "stream",
     "text": [
      "Step 200000, best model saved. (accuracy=0.7274)\n"
     ]
    },
    {
     "name": "stderr",
     "output_type": "stream",
     "text": [
      "Train: 100% 2000/2000 [00:20<00:00, 96.62 step/s, accuracy=0.91, loss=0.34, step=202000]\n",
      "Valid: 100% 5664/5667 [00:01<00:00, 3009.69 uttr/s, accuracy=0.73, loss=1.25]\n",
      "Train: 100% 2000/2000 [00:21<00:00, 93.69 step/s, accuracy=0.78, loss=0.59, step=204000]\n",
      "Valid: 100% 5664/5667 [00:01<00:00, 3136.23 uttr/s, accuracy=0.74, loss=1.20]\n",
      "Train: 100% 2000/2000 [00:20<00:00, 97.48 step/s, accuracy=0.84, loss=0.59, step=206000]\n",
      "Valid: 100% 5664/5667 [00:02<00:00, 2632.43 uttr/s, accuracy=0.73, loss=1.22]\n",
      "Train: 100% 2000/2000 [00:21<00:00, 93.32 step/s, accuracy=0.81, loss=0.84, step=208000] \n",
      "Valid: 100% 5664/5667 [00:01<00:00, 3162.89 uttr/s, accuracy=0.74, loss=1.21]\n",
      "Train: 100% 2000/2000 [00:20<00:00, 96.02 step/s, accuracy=0.78, loss=0.74, step=210000]\n",
      "Valid: 100% 5664/5667 [00:01<00:00, 3039.21 uttr/s, accuracy=0.72, loss=1.26]\n",
      "Train:   1% 12/2000 [00:00<00:17, 111.16 step/s]"
     ]
    },
    {
     "name": "stdout",
     "output_type": "stream",
     "text": [
      "Step 210000, best model saved. (accuracy=0.7378)\n"
     ]
    },
    {
     "name": "stderr",
     "output_type": "stream",
     "text": [
      "Train: 100% 2000/2000 [00:20<00:00, 97.72 step/s, accuracy=0.78, loss=0.68, step=212000]\n",
      "Valid: 100% 5664/5667 [00:01<00:00, 3070.55 uttr/s, accuracy=0.73, loss=1.22]\n",
      "Train: 100% 2000/2000 [00:21<00:00, 94.43 step/s, accuracy=0.91, loss=0.46, step=214000]\n",
      "Valid: 100% 5664/5667 [00:01<00:00, 3058.11 uttr/s, accuracy=0.73, loss=1.20]\n",
      "Train: 100% 2000/2000 [00:21<00:00, 94.88 step/s, accuracy=0.81, loss=0.69, step=216000]\n",
      "Valid: 100% 5664/5667 [00:01<00:00, 2998.17 uttr/s, accuracy=0.73, loss=1.23]\n",
      "Train: 100% 2000/2000 [00:20<00:00, 97.07 step/s, accuracy=0.84, loss=0.45, step=218000]\n",
      "Valid: 100% 5664/5667 [00:01<00:00, 3139.72 uttr/s, accuracy=0.73, loss=1.24]\n",
      "Train: 100% 2000/2000 [00:21<00:00, 93.34 step/s, accuracy=0.84, loss=0.99, step=220000] \n",
      "Valid: 100% 5664/5667 [00:01<00:00, 2848.60 uttr/s, accuracy=0.74, loss=1.19]\n",
      "Train:   1% 11/2000 [00:00<00:18, 104.95 step/s]"
     ]
    },
    {
     "name": "stdout",
     "output_type": "stream",
     "text": [
      "Step 220000, best model saved. (accuracy=0.7410)\n"
     ]
    },
    {
     "name": "stderr",
     "output_type": "stream",
     "text": [
      "Train: 100% 2000/2000 [00:20<00:00, 99.03 step/s, accuracy=0.69, loss=0.81, step=222000] \n",
      "Valid: 100% 5664/5667 [00:01<00:00, 3198.18 uttr/s, accuracy=0.73, loss=1.22]\n",
      "Train: 100% 2000/2000 [00:20<00:00, 95.34 step/s, accuracy=0.75, loss=0.63, step=224000] \n",
      "Valid: 100% 5664/5667 [00:01<00:00, 3173.88 uttr/s, accuracy=0.73, loss=1.22]\n",
      "Train: 100% 2000/2000 [00:21<00:00, 95.17 step/s, accuracy=0.88, loss=0.42, step=226000]\n",
      "Valid: 100% 5664/5667 [00:01<00:00, 2994.94 uttr/s, accuracy=0.73, loss=1.21]\n",
      "Train: 100% 2000/2000 [00:20<00:00, 99.06 step/s, accuracy=0.91, loss=0.26, step=228000]\n",
      "Valid: 100% 5664/5667 [00:01<00:00, 3176.48 uttr/s, accuracy=0.74, loss=1.15]\n",
      "Train: 100% 2000/2000 [00:21<00:00, 94.30 step/s, accuracy=0.84, loss=0.48, step=230000] \n",
      "Valid: 100% 5664/5667 [00:01<00:00, 3223.45 uttr/s, accuracy=0.73, loss=1.24]\n",
      "Train:   1% 11/2000 [00:00<00:19, 104.26 step/s]"
     ]
    },
    {
     "name": "stdout",
     "output_type": "stream",
     "text": [
      "Step 230000, best model saved. (accuracy=0.7444)\n"
     ]
    },
    {
     "name": "stderr",
     "output_type": "stream",
     "text": [
      "Train: 100% 2000/2000 [00:20<00:00, 99.37 step/s, accuracy=0.91, loss=0.46, step=232000]\n",
      "Valid: 100% 5664/5667 [00:01<00:00, 3068.00 uttr/s, accuracy=0.74, loss=1.18]\n",
      "Train: 100% 2000/2000 [00:21<00:00, 94.55 step/s, accuracy=0.81, loss=0.70, step=234000] \n",
      "Valid: 100% 5664/5667 [00:01<00:00, 3195.48 uttr/s, accuracy=0.75, loss=1.17]\n",
      "Train: 100% 2000/2000 [00:21<00:00, 94.08 step/s, accuracy=0.84, loss=0.69, step=236000]\n",
      "Valid: 100% 5664/5667 [00:01<00:00, 3053.04 uttr/s, accuracy=0.74, loss=1.17]\n",
      "Train: 100% 2000/2000 [00:19<00:00, 101.20 step/s, accuracy=0.75, loss=0.88, step=238000]\n",
      "Valid: 100% 5664/5667 [00:01<00:00, 3200.54 uttr/s, accuracy=0.73, loss=1.19]\n",
      "Train: 100% 2000/2000 [00:21<00:00, 94.87 step/s, accuracy=0.75, loss=0.97, step=240000] \n",
      "Valid: 100% 5664/5667 [00:01<00:00, 3136.75 uttr/s, accuracy=0.75, loss=1.17]\n",
      "Train:   1% 12/2000 [00:00<00:17, 113.90 step/s]"
     ]
    },
    {
     "name": "stdout",
     "output_type": "stream",
     "text": [
      "Step 240000, best model saved. (accuracy=0.7475)\n"
     ]
    },
    {
     "name": "stderr",
     "output_type": "stream",
     "text": [
      "Train: 100% 2000/2000 [00:20<00:00, 99.02 step/s, accuracy=0.75, loss=0.83, step=242000] \n",
      "Valid: 100% 5664/5667 [00:01<00:00, 2857.28 uttr/s, accuracy=0.75, loss=1.15]\n",
      "Train: 100% 2000/2000 [00:21<00:00, 94.01 step/s, accuracy=0.84, loss=0.72, step=244000]\n",
      "Valid: 100% 5664/5667 [00:01<00:00, 2849.86 uttr/s, accuracy=0.75, loss=1.13]\n",
      "Train: 100% 2000/2000 [00:20<00:00, 95.62 step/s, accuracy=0.81, loss=0.64, step=246000] \n",
      "Valid: 100% 5664/5667 [00:01<00:00, 3169.68 uttr/s, accuracy=0.75, loss=1.13]\n",
      "Train: 100% 2000/2000 [00:20<00:00, 99.87 step/s, accuracy=0.91, loss=0.38, step=248000] \n",
      "Valid: 100% 5664/5667 [00:01<00:00, 3181.17 uttr/s, accuracy=0.75, loss=1.13]\n",
      "Train: 100% 2000/2000 [00:21<00:00, 93.25 step/s, accuracy=0.91, loss=0.46, step=250000]\n",
      "Valid: 100% 5664/5667 [00:01<00:00, 3169.35 uttr/s, accuracy=0.76, loss=1.10]\n",
      "Train:   1% 20/2000 [00:00<00:20, 98.76 step/s]"
     ]
    },
    {
     "name": "stdout",
     "output_type": "stream",
     "text": [
      "Step 250000, best model saved. (accuracy=0.7569)\n"
     ]
    },
    {
     "name": "stderr",
     "output_type": "stream",
     "text": [
      "Train: 100% 2000/2000 [00:20<00:00, 99.38 step/s, accuracy=0.94, loss=0.28, step=252000] \n",
      "Valid: 100% 5664/5667 [00:01<00:00, 3028.27 uttr/s, accuracy=0.76, loss=1.10]\n",
      "Train: 100% 2000/2000 [00:20<00:00, 99.19 step/s, accuracy=0.72, loss=1.14, step=254000] \n",
      "Valid: 100% 5664/5667 [00:01<00:00, 3224.82 uttr/s, accuracy=0.75, loss=1.16]\n",
      "Train: 100% 2000/2000 [00:21<00:00, 94.16 step/s, accuracy=0.94, loss=0.25, step=256000] \n",
      "Valid: 100% 5664/5667 [00:01<00:00, 3230.78 uttr/s, accuracy=0.75, loss=1.15]\n",
      "Train: 100% 2000/2000 [00:20<00:00, 99.53 step/s, accuracy=0.78, loss=0.63, step=258000] \n",
      "Valid: 100% 5664/5667 [00:02<00:00, 2829.38 uttr/s, accuracy=0.75, loss=1.13]\n",
      "Train: 100% 2000/2000 [00:20<00:00, 98.02 step/s, accuracy=0.94, loss=0.27, step=260000]\n",
      "Valid: 100% 5664/5667 [00:01<00:00, 3016.90 uttr/s, accuracy=0.75, loss=1.16]\n",
      "Train:   1% 22/2000 [00:00<00:18, 107.10 step/s]"
     ]
    },
    {
     "name": "stdout",
     "output_type": "stream",
     "text": [
      "Step 260000, best model saved. (accuracy=0.7569)\n"
     ]
    },
    {
     "name": "stderr",
     "output_type": "stream",
     "text": [
      "Train: 100% 2000/2000 [00:21<00:00, 93.37 step/s, accuracy=0.91, loss=0.47, step=262000] \n",
      "Valid: 100% 5664/5667 [00:01<00:00, 3236.52 uttr/s, accuracy=0.75, loss=1.12]\n",
      "Train: 100% 2000/2000 [00:20<00:00, 98.39 step/s, accuracy=0.88, loss=0.54, step=264000]\n",
      "Valid: 100% 5664/5667 [00:01<00:00, 3175.54 uttr/s, accuracy=0.76, loss=1.12]\n",
      "Train: 100% 2000/2000 [00:20<00:00, 99.55 step/s, accuracy=0.84, loss=0.46, step=266000]\n",
      "Valid: 100% 5664/5667 [00:01<00:00, 3132.42 uttr/s, accuracy=0.76, loss=1.13]\n",
      "Train: 100% 2000/2000 [00:22<00:00, 89.33 step/s, accuracy=0.88, loss=0.54, step=268000]\n",
      "Valid: 100% 5664/5667 [00:01<00:00, 2972.97 uttr/s, accuracy=0.76, loss=1.11]\n",
      "Train: 100% 2000/2000 [00:21<00:00, 94.64 step/s, accuracy=0.91, loss=0.43, step=270000] \n",
      "Valid: 100% 5664/5667 [00:01<00:00, 3007.15 uttr/s, accuracy=0.75, loss=1.12]\n",
      "Train:   1% 11/2000 [00:00<00:19, 103.78 step/s]"
     ]
    },
    {
     "name": "stdout",
     "output_type": "stream",
     "text": [
      "Step 270000, best model saved. (accuracy=0.7638)\n"
     ]
    },
    {
     "name": "stderr",
     "output_type": "stream",
     "text": [
      "Train: 100% 2000/2000 [00:20<00:00, 96.51 step/s, accuracy=0.88, loss=0.27, step=272000]\n",
      "Valid: 100% 5664/5667 [00:02<00:00, 2772.83 uttr/s, accuracy=0.75, loss=1.12]\n",
      "Train: 100% 2000/2000 [00:22<00:00, 89.35 step/s, accuracy=0.84, loss=0.38, step=274000]\n",
      "Valid: 100% 5664/5667 [00:01<00:00, 3033.68 uttr/s, accuracy=0.76, loss=1.12]\n",
      "Train: 100% 2000/2000 [00:20<00:00, 95.37 step/s, accuracy=0.81, loss=0.54, step=276000]\n",
      "Valid: 100% 5664/5667 [00:01<00:00, 3040.53 uttr/s, accuracy=0.77, loss=1.09]\n",
      "Train: 100% 2000/2000 [00:21<00:00, 93.34 step/s, accuracy=0.75, loss=1.01, step=278000]\n",
      "Valid: 100% 5664/5667 [00:01<00:00, 3085.88 uttr/s, accuracy=0.75, loss=1.15]\n",
      "Train: 100% 2000/2000 [00:22<00:00, 90.89 step/s, accuracy=0.97, loss=0.20, step=280000]\n",
      "Valid: 100% 5664/5667 [00:01<00:00, 3088.66 uttr/s, accuracy=0.76, loss=1.12]\n",
      "Train:   1% 11/2000 [00:00<00:19, 102.10 step/s]"
     ]
    },
    {
     "name": "stdout",
     "output_type": "stream",
     "text": [
      "Step 280000, best model saved. (accuracy=0.7701)\n"
     ]
    },
    {
     "name": "stderr",
     "output_type": "stream",
     "text": [
      "Train: 100% 2000/2000 [00:21<00:00, 93.70 step/s, accuracy=0.84, loss=0.49, step=282000]\n",
      "Valid: 100% 5664/5667 [00:01<00:00, 3022.69 uttr/s, accuracy=0.76, loss=1.11]\n",
      "Train: 100% 2000/2000 [00:21<00:00, 94.76 step/s, accuracy=0.91, loss=0.17, step=284000]\n",
      "Valid: 100% 5664/5667 [00:01<00:00, 3014.70 uttr/s, accuracy=0.77, loss=1.08]\n",
      "Train: 100% 2000/2000 [00:22<00:00, 89.63 step/s, accuracy=0.91, loss=0.38, step=286000]\n",
      "Valid: 100% 5664/5667 [00:01<00:00, 3153.28 uttr/s, accuracy=0.76, loss=1.10]\n",
      "Train: 100% 2000/2000 [00:20<00:00, 96.32 step/s, accuracy=0.94, loss=0.28, step=288000]\n",
      "Valid: 100% 5664/5667 [00:01<00:00, 3052.82 uttr/s, accuracy=0.77, loss=1.07]\n",
      "Train: 100% 2000/2000 [00:21<00:00, 93.35 step/s, accuracy=0.94, loss=0.46, step=290000]\n",
      "Valid: 100% 5664/5667 [00:01<00:00, 3009.93 uttr/s, accuracy=0.77, loss=1.09]\n",
      "Train:   1% 12/2000 [00:00<00:17, 113.99 step/s]"
     ]
    },
    {
     "name": "stdout",
     "output_type": "stream",
     "text": [
      "Step 290000, best model saved. (accuracy=0.7701)\n"
     ]
    },
    {
     "name": "stderr",
     "output_type": "stream",
     "text": [
      "Train: 100% 2000/2000 [00:22<00:00, 89.63 step/s, accuracy=0.88, loss=0.39, step=292000]\n",
      "Valid: 100% 5664/5667 [00:01<00:00, 3101.13 uttr/s, accuracy=0.77, loss=1.10]\n",
      "Train: 100% 2000/2000 [00:21<00:00, 94.90 step/s, accuracy=0.94, loss=0.25, step=294000]\n",
      "Valid: 100% 5664/5667 [00:01<00:00, 3058.26 uttr/s, accuracy=0.77, loss=1.10]\n",
      "Train: 100% 2000/2000 [00:20<00:00, 96.28 step/s, accuracy=0.88, loss=0.48, step=296000]\n",
      "Valid: 100% 5664/5667 [00:01<00:00, 3105.88 uttr/s, accuracy=0.77, loss=1.07]\n",
      "Train: 100% 2000/2000 [00:22<00:00, 89.13 step/s, accuracy=0.94, loss=0.20, step=298000]\n",
      "Valid: 100% 5664/5667 [00:01<00:00, 3114.76 uttr/s, accuracy=0.78, loss=1.05]\n",
      "Train: 100% 2000/2000 [00:21<00:00, 94.25 step/s, accuracy=0.97, loss=0.35, step=3e+5]\n",
      "Valid: 100% 5664/5667 [00:01<00:00, 3125.20 uttr/s, accuracy=0.77, loss=1.08]\n",
      "Train:   1% 11/2000 [00:00<00:18, 105.12 step/s]"
     ]
    },
    {
     "name": "stdout",
     "output_type": "stream",
     "text": [
      "Step 300000, best model saved. (accuracy=0.7760)\n"
     ]
    },
    {
     "name": "stderr",
     "output_type": "stream",
     "text": [
      "Train: 100% 2000/2000 [00:21<00:00, 95.00 step/s, accuracy=0.91, loss=0.35, step=302000]\n",
      "Valid: 100% 5664/5667 [00:02<00:00, 2373.49 uttr/s, accuracy=0.77, loss=1.09]\n",
      "Train: 100% 2000/2000 [00:21<00:00, 91.05 step/s, accuracy=0.97, loss=0.22, step=304000]\n",
      "Valid: 100% 5664/5667 [00:01<00:00, 3065.35 uttr/s, accuracy=0.77, loss=1.06]\n",
      "Train: 100% 2000/2000 [00:21<00:00, 93.62 step/s, accuracy=0.94, loss=0.28, step=306000]\n",
      "Valid: 100% 5664/5667 [00:01<00:00, 2994.74 uttr/s, accuracy=0.76, loss=1.11]\n",
      "Train: 100% 2000/2000 [00:21<00:00, 95.02 step/s, accuracy=0.97, loss=0.14, step=308000]\n",
      "Valid: 100% 5664/5667 [00:02<00:00, 2702.32 uttr/s, accuracy=0.77, loss=1.08]\n",
      "Train: 100% 2000/2000 [00:21<00:00, 91.95 step/s, accuracy=0.91, loss=0.46, step=310000]\n",
      "Valid: 100% 5664/5667 [00:01<00:00, 2891.84 uttr/s, accuracy=0.77, loss=1.08]\n",
      "Train:   0% 9/2000 [00:00<00:23, 84.80 step/s]"
     ]
    },
    {
     "name": "stdout",
     "output_type": "stream",
     "text": [
      "Step 310000, best model saved. (accuracy=0.7760)\n"
     ]
    },
    {
     "name": "stderr",
     "output_type": "stream",
     "text": [
      "Train: 100% 2000/2000 [00:21<00:00, 94.63 step/s, accuracy=0.81, loss=0.48, step=312000]\n",
      "Valid: 100% 5664/5667 [00:01<00:00, 3030.58 uttr/s, accuracy=0.76, loss=1.05]\n",
      "Train: 100% 2000/2000 [00:21<00:00, 94.40 step/s, accuracy=0.94, loss=0.28, step=314000]\n",
      "Valid: 100% 5664/5667 [00:02<00:00, 2750.69 uttr/s, accuracy=0.78, loss=1.04]\n",
      "Train: 100% 2000/2000 [00:22<00:00, 89.50 step/s, accuracy=0.94, loss=0.19, step=316000]\n",
      "Valid: 100% 5664/5667 [00:01<00:00, 3114.71 uttr/s, accuracy=0.77, loss=1.05]\n",
      "Train: 100% 2000/2000 [00:20<00:00, 96.10 step/s, accuracy=0.91, loss=0.42, step=318000]\n",
      "Valid: 100% 5664/5667 [00:01<00:00, 3068.11 uttr/s, accuracy=0.78, loss=1.03]\n",
      "Train: 100% 2000/2000 [00:21<00:00, 94.37 step/s, accuracy=0.91, loss=0.58, step=320000]\n",
      "Valid: 100% 5664/5667 [00:02<00:00, 2691.33 uttr/s, accuracy=0.78, loss=1.03]\n",
      "Train:   0% 10/2000 [00:00<00:20, 97.84 step/s]"
     ]
    },
    {
     "name": "stdout",
     "output_type": "stream",
     "text": [
      "Step 320000, best model saved. (accuracy=0.7786)\n"
     ]
    },
    {
     "name": "stderr",
     "output_type": "stream",
     "text": [
      "Train: 100% 2000/2000 [00:22<00:00, 89.09 step/s, accuracy=0.97, loss=0.24, step=322000]\n",
      "Valid: 100% 5664/5667 [00:01<00:00, 3196.33 uttr/s, accuracy=0.78, loss=1.02]\n",
      "Train: 100% 2000/2000 [00:21<00:00, 94.18 step/s, accuracy=0.97, loss=0.17, step=324000]\n",
      "Valid: 100% 5664/5667 [00:01<00:00, 3085.26 uttr/s, accuracy=0.77, loss=1.07]\n",
      "Train: 100% 2000/2000 [00:20<00:00, 95.46 step/s, accuracy=0.91, loss=0.54, step=326000]\n",
      "Valid: 100% 5664/5667 [00:02<00:00, 2676.15 uttr/s, accuracy=0.77, loss=1.03]\n",
      "Train: 100% 2000/2000 [00:22<00:00, 89.51 step/s, accuracy=0.97, loss=0.09, step=328000]\n",
      "Valid: 100% 5664/5667 [00:01<00:00, 3003.79 uttr/s, accuracy=0.78, loss=1.02]\n",
      "Train: 100% 2000/2000 [00:21<00:00, 93.40 step/s, accuracy=0.88, loss=0.28, step=330000]\n",
      "Valid: 100% 5664/5667 [00:01<00:00, 3005.82 uttr/s, accuracy=0.78, loss=1.05]\n",
      "Train:   1% 11/2000 [00:00<00:18, 107.06 step/s]"
     ]
    },
    {
     "name": "stdout",
     "output_type": "stream",
     "text": [
      "Step 330000, best model saved. (accuracy=0.7800)\n"
     ]
    },
    {
     "name": "stderr",
     "output_type": "stream",
     "text": [
      "Train: 100% 2000/2000 [00:21<00:00, 92.73 step/s, accuracy=0.97, loss=0.26, step=332000]\n",
      "Valid: 100% 5664/5667 [00:02<00:00, 2592.44 uttr/s, accuracy=0.77, loss=1.06]\n",
      "Train: 100% 2000/2000 [00:21<00:00, 92.14 step/s, accuracy=0.97, loss=0.26, step=334000] \n",
      "Valid: 100% 5664/5667 [00:01<00:00, 3085.14 uttr/s, accuracy=0.78, loss=1.04]\n",
      "Train: 100% 2000/2000 [00:21<00:00, 93.42 step/s, accuracy=0.97, loss=0.18, step=336000]\n",
      "Valid: 100% 5664/5667 [00:01<00:00, 3011.94 uttr/s, accuracy=0.78, loss=1.04]\n",
      "Train: 100% 2000/2000 [00:22<00:00, 90.23 step/s, accuracy=0.84, loss=0.54, step=338000]\n",
      "Valid: 100% 5664/5667 [00:02<00:00, 2632.61 uttr/s, accuracy=0.78, loss=1.03]\n",
      "Train: 100% 2000/2000 [00:21<00:00, 92.38 step/s, accuracy=0.97, loss=0.13, step=340000]\n",
      "Valid: 100% 5664/5667 [00:01<00:00, 3057.50 uttr/s, accuracy=0.78, loss=1.01]\n",
      "Train:   0% 10/2000 [00:00<00:21, 92.23 step/s]"
     ]
    },
    {
     "name": "stdout",
     "output_type": "stream",
     "text": [
      "Step 340000, best model saved. (accuracy=0.7839)\n"
     ]
    },
    {
     "name": "stderr",
     "output_type": "stream",
     "text": [
      "Train: 100% 2000/2000 [00:21<00:00, 94.74 step/s, accuracy=1.00, loss=0.11, step=342000]\n",
      "Valid: 100% 5664/5667 [00:01<00:00, 3096.72 uttr/s, accuracy=0.78, loss=1.02]\n",
      "Train: 100% 2000/2000 [00:21<00:00, 92.18 step/s, accuracy=0.88, loss=0.38, step=344000]\n",
      "Valid: 100% 5664/5667 [00:02<00:00, 2725.17 uttr/s, accuracy=0.77, loss=1.03]\n",
      "Train: 100% 2000/2000 [00:22<00:00, 90.15 step/s, accuracy=0.91, loss=0.24, step=346000]\n",
      "Valid: 100% 5664/5667 [00:01<00:00, 3214.87 uttr/s, accuracy=0.78, loss=1.04]\n",
      "Train: 100% 2000/2000 [00:20<00:00, 95.82 step/s, accuracy=0.88, loss=0.45, step=348000]\n",
      "Valid: 100% 5664/5667 [00:02<00:00, 2585.65 uttr/s, accuracy=0.78, loss=1.04]\n",
      "Train: 100% 2000/2000 [00:21<00:00, 94.14 step/s, accuracy=1.00, loss=0.10, step=350000]\n",
      "Valid: 100% 5664/5667 [00:02<00:00, 2697.91 uttr/s, accuracy=0.78, loss=1.04]\n",
      "Train:   0% 9/2000 [00:00<00:22, 89.28 step/s]"
     ]
    },
    {
     "name": "stdout",
     "output_type": "stream",
     "text": [
      "Step 350000, best model saved. (accuracy=0.7839)\n"
     ]
    },
    {
     "name": "stderr",
     "output_type": "stream",
     "text": [
      "Train: 100% 2000/2000 [00:21<00:00, 92.22 step/s, accuracy=0.97, loss=0.24, step=352000]\n",
      "Valid: 100% 5664/5667 [00:01<00:00, 2955.47 uttr/s, accuracy=0.78, loss=1.06]\n",
      "Train: 100% 2000/2000 [00:21<00:00, 94.40 step/s, accuracy=0.91, loss=0.22, step=354000]\n",
      "Valid: 100% 5664/5667 [00:01<00:00, 3123.69 uttr/s, accuracy=0.78, loss=1.00]\n",
      "Train: 100% 2000/2000 [00:21<00:00, 93.91 step/s, accuracy=0.88, loss=0.55, step=356000]\n",
      "Valid: 100% 5664/5667 [00:02<00:00, 2756.79 uttr/s, accuracy=0.78, loss=1.00]\n",
      "Train: 100% 2000/2000 [00:21<00:00, 91.00 step/s, accuracy=0.91, loss=0.45, step=358000]\n",
      "Valid: 100% 5664/5667 [00:01<00:00, 3151.52 uttr/s, accuracy=0.78, loss=1.00]\n",
      "Train: 100% 2000/2000 [00:21<00:00, 95.14 step/s, accuracy=0.94, loss=0.23, step=360000]\n",
      "Valid: 100% 5664/5667 [00:01<00:00, 3047.23 uttr/s, accuracy=0.79, loss=1.04]\n",
      "Train:   1% 18/2000 [00:00<00:11, 179.09 step/s]"
     ]
    },
    {
     "name": "stdout",
     "output_type": "stream",
     "text": [
      "Step 360000, best model saved. (accuracy=0.7857)\n"
     ]
    },
    {
     "name": "stderr",
     "output_type": "stream",
     "text": [
      "Train: 100% 2000/2000 [00:21<00:00, 91.22 step/s, accuracy=0.91, loss=0.32, step=362000]\n",
      "Valid: 100% 5664/5667 [00:01<00:00, 2877.74 uttr/s, accuracy=0.78, loss=1.02]\n",
      "Train: 100% 2000/2000 [00:21<00:00, 93.02 step/s, accuracy=0.97, loss=0.15, step=364000]\n",
      "Valid: 100% 5664/5667 [00:01<00:00, 3096.34 uttr/s, accuracy=0.77, loss=1.02]\n",
      "Train: 100% 2000/2000 [00:21<00:00, 94.32 step/s, accuracy=0.84, loss=0.54, step=366000]\n",
      "Valid: 100% 5664/5667 [00:01<00:00, 3014.45 uttr/s, accuracy=0.78, loss=1.06]\n",
      "Train: 100% 2000/2000 [00:21<00:00, 92.87 step/s, accuracy=0.88, loss=0.59, step=368000]\n",
      "Valid: 100% 5664/5667 [00:02<00:00, 2740.16 uttr/s, accuracy=0.78, loss=1.03]\n",
      "Train: 100% 2000/2000 [00:22<00:00, 90.26 step/s, accuracy=0.94, loss=0.32, step=370000]\n",
      "Valid: 100% 5664/5667 [00:01<00:00, 3051.94 uttr/s, accuracy=0.78, loss=1.05]\n",
      "Train:   1% 12/2000 [00:00<00:17, 112.97 step/s]"
     ]
    },
    {
     "name": "stdout",
     "output_type": "stream",
     "text": [
      "Step 370000, best model saved. (accuracy=0.7857)\n"
     ]
    },
    {
     "name": "stderr",
     "output_type": "stream",
     "text": [
      "Train: 100% 2000/2000 [00:20<00:00, 96.42 step/s, accuracy=0.91, loss=0.34, step=372000]\n",
      "Valid: 100% 5664/5667 [00:01<00:00, 3066.26 uttr/s, accuracy=0.78, loss=1.03]\n",
      "Train: 100% 2000/2000 [00:21<00:00, 94.91 step/s, accuracy=0.94, loss=0.29, step=374000] \n",
      "Valid: 100% 5664/5667 [00:02<00:00, 2712.57 uttr/s, accuracy=0.79, loss=0.98]\n",
      "Train: 100% 2000/2000 [00:22<00:00, 88.49 step/s, accuracy=0.97, loss=0.19, step=376000]\n",
      "Valid: 100% 5664/5667 [00:01<00:00, 2981.79 uttr/s, accuracy=0.79, loss=1.02]\n",
      "Train: 100% 2000/2000 [00:21<00:00, 93.63 step/s, accuracy=0.94, loss=0.40, step=378000]\n",
      "Valid: 100% 5664/5667 [00:01<00:00, 2991.67 uttr/s, accuracy=0.79, loss=1.01]\n",
      "Train: 100% 2000/2000 [00:20<00:00, 95.69 step/s, accuracy=0.94, loss=0.22, step=380000]\n",
      "Valid: 100% 5664/5667 [00:02<00:00, 2807.70 uttr/s, accuracy=0.79, loss=1.01]\n",
      "Train:   1% 11/2000 [00:00<00:21, 92.31 step/s]"
     ]
    },
    {
     "name": "stdout",
     "output_type": "stream",
     "text": [
      "Step 380000, best model saved. (accuracy=0.7864)\n"
     ]
    },
    {
     "name": "stderr",
     "output_type": "stream",
     "text": [
      "Train: 100% 2000/2000 [00:22<00:00, 88.13 step/s, accuracy=0.84, loss=0.42, step=382000]\n",
      "Valid: 100% 5664/5667 [00:01<00:00, 3132.74 uttr/s, accuracy=0.79, loss=1.02]\n",
      "Train: 100% 2000/2000 [00:21<00:00, 94.71 step/s, accuracy=0.97, loss=0.17, step=384000]\n",
      "Valid: 100% 5664/5667 [00:01<00:00, 3095.85 uttr/s, accuracy=0.79, loss=1.02]\n",
      "Train: 100% 2000/2000 [00:20<00:00, 95.75 step/s, accuracy=0.78, loss=0.75, step=386000]\n",
      "Valid: 100% 5664/5667 [00:02<00:00, 2281.73 uttr/s, accuracy=0.78, loss=1.01]\n",
      "Train: 100% 2000/2000 [00:21<00:00, 91.06 step/s, accuracy=0.94, loss=0.30, step=388000]\n",
      "Valid: 100% 5664/5667 [00:01<00:00, 3057.55 uttr/s, accuracy=0.79, loss=0.99]\n",
      "Train: 100% 2000/2000 [00:20<00:00, 95.77 step/s, accuracy=0.94, loss=0.30, step=390000]\n",
      "Valid: 100% 5664/5667 [00:01<00:00, 3011.81 uttr/s, accuracy=0.78, loss=1.02]\n",
      "Train:   0% 10/2000 [00:00<00:20, 98.55 step/s]"
     ]
    },
    {
     "name": "stdout",
     "output_type": "stream",
     "text": [
      "Step 390000, best model saved. (accuracy=0.7913)\n"
     ]
    },
    {
     "name": "stderr",
     "output_type": "stream",
     "text": [
      "Train: 100% 2000/2000 [00:21<00:00, 93.65 step/s, accuracy=0.91, loss=0.47, step=392000]\n",
      "Valid: 100% 5664/5667 [00:01<00:00, 3114.08 uttr/s, accuracy=0.78, loss=1.00]\n",
      "Train: 100% 2000/2000 [00:22<00:00, 89.25 step/s, accuracy=0.84, loss=0.51, step=394000]\n",
      "Valid: 100% 5664/5667 [00:02<00:00, 2762.78 uttr/s, accuracy=0.78, loss=1.02]\n",
      "Train: 100% 2000/2000 [00:20<00:00, 95.43 step/s, accuracy=0.97, loss=0.14, step=396000]\n",
      "Valid: 100% 5664/5667 [00:01<00:00, 2908.51 uttr/s, accuracy=0.78, loss=1.02]\n",
      "Train: 100% 2000/2000 [00:21<00:00, 93.78 step/s, accuracy=0.94, loss=0.44, step=398000]\n",
      "Valid: 100% 5664/5667 [00:01<00:00, 3061.07 uttr/s, accuracy=0.79, loss=1.00]\n",
      "Train: 100% 2000/2000 [00:23<00:00, 86.84 step/s, accuracy=0.97, loss=0.26, step=4e+5]\n",
      "Valid: 100% 5664/5667 [00:01<00:00, 3051.26 uttr/s, accuracy=0.78, loss=1.02]\n",
      "Train:   0% 0/2000 [00:00<?, ? step/s]\n"
     ]
    },
    {
     "name": "stdout",
     "output_type": "stream",
     "text": [
      "Step 400000, best model saved. (accuracy=0.7913)\n"
     ]
    }
   ],
   "source": [
    "import torch\n",
    "import torch.nn as nn\n",
    "from torch.optim import AdamW\n",
    "from torch.utils.data import DataLoader, random_split\n",
    "from tqdm import tqdm\n",
    "\n",
    "def parse_args():\n",
    "    \"\"\"arguments\"\"\"\n",
    "    config = {\n",
    "        \"data_dir\": \"/kaggle/input/ml2022spring-hw4/Dataset\",\n",
    "        \"save_path\": \"model.ckpt\",\n",
    "        \"batch_size\": 32,\n",
    "        \"n_workers\": 8,\n",
    "        \"valid_steps\": 2000,\n",
    "        # fix warmup_steps\n",
    "        \"warmup_steps\": 1000,\n",
    "        \"save_steps\": 10000,\n",
    "        \"total_steps\": 400000,\n",
    "        \"resume\":False,\n",
    "    }\n",
    "    return config\n",
    "\n",
    "def main(\n",
    "    data_dir,\n",
    "    save_path,\n",
    "    batch_size,\n",
    "    n_workers,\n",
    "    valid_steps,\n",
    "    warmup_steps,\n",
    "    total_steps,\n",
    "    save_steps,\n",
    "    resume,\n",
    "):\n",
    "    \"\"\"Main function.\"\"\"\n",
    "    device = torch.device(\"cuda\" if torch.cuda.is_available() else \"cpu\")\n",
    "    print(f\"[Info]: Use {device} now!\")\n",
    "\n",
    "    train_loader, valid_loader, speaker_num = get_dataloader(data_dir, batch_size, n_workers)\n",
    "    train_iterator = iter(train_loader)\n",
    "    print(f\"[Info]: Finish loading data!\", flush=True)\n",
    "\n",
    "    model = Classifier(n_spks=speaker_num).to(device)\n",
    "    if resume:\n",
    "        model.load_state_dict(torch.load(\"/kaggle/input/model-file/model.ckpt\"))\n",
    "    criterion = nn.CrossEntropyLoss()\n",
    "    optimizer = AdamW(model.parameters(), lr=1e-3)\n",
    "    scheduler = get_cosine_schedule_with_warmup(optimizer, warmup_steps, total_steps)\n",
    "    print(f\"[Info]: Finish creating model!\", flush=True)\n",
    "\n",
    "    best_accuracy = -1.0\n",
    "    best_state_dict = None\n",
    "\n",
    "    pbar = tqdm(total=valid_steps, ncols=0, desc=\"Train\", unit=\" step\")\n",
    "\n",
    "    for step in range(total_steps):\n",
    "        # Get data\n",
    "        try:\n",
    "            batch = next(train_iterator)\n",
    "        except StopIteration:\n",
    "            train_iterator = iter(train_loader)\n",
    "            batch = next(train_iterator)\n",
    "\n",
    "        loss, accuracy = model_fn(batch, model, criterion, device)\n",
    "        batch_loss = loss.item()\n",
    "        batch_accuracy = accuracy.item()\n",
    "\n",
    "        # Updata model\n",
    "        loss.backward()\n",
    "        optimizer.step()\n",
    "        scheduler.step()\n",
    "        optimizer.zero_grad()\n",
    "\n",
    "        # Log\n",
    "        pbar.update()\n",
    "\n",
    "        if((step+1)%500==0):\n",
    "            pbar.set_postfix(\n",
    "                loss=f\"{batch_loss:.2f}\",\n",
    "                accuracy=f\"{batch_accuracy:.2f}\",\n",
    "                step=step + 1,\n",
    "            )            \n",
    "\n",
    "        # Do validation\n",
    "        if (step + 1) % valid_steps == 0:\n",
    "            pbar.close()\n",
    "\n",
    "            valid_accuracy = valid(valid_loader, model, criterion, device)\n",
    "\n",
    "            # keep the best model\n",
    "            if valid_accuracy > best_accuracy:\n",
    "                best_accuracy = valid_accuracy\n",
    "                best_state_dict = model.state_dict()\n",
    "\n",
    "            pbar = tqdm(total=valid_steps, ncols=0, desc=\"Train\", unit=\" step\")\n",
    "\n",
    "        # Save the best model so far.\n",
    "        if (step + 1) % save_steps == 0 and best_state_dict is not None:\n",
    "            torch.save(best_state_dict, save_path)\n",
    "            pbar.write(f\"Step {step + 1}, best model saved. (accuracy={best_accuracy:.4f})\")\n",
    "\n",
    "    pbar.close()\n",
    "\n",
    "if __name__ == \"__main__\":\n",
    "    main(**parse_args())\n"
   ]
  },
  {
   "cell_type": "markdown",
   "id": "b689cd80",
   "metadata": {
    "id": "NLatBYAhNNMx",
    "papermill": {
     "duration": 6.777141,
     "end_time": "2024-04-28T13:46:46.947280",
     "exception": false,
     "start_time": "2024-04-28T13:46:40.170139",
     "status": "completed"
    },
    "tags": []
   },
   "source": [
    "# Inference\n",
    "\n",
    "## Dataset of inference"
   ]
  },
  {
   "cell_type": "code",
   "execution_count": 10,
   "id": "70f4220d",
   "metadata": {
    "execution": {
     "iopub.execute_input": "2024-04-28T13:47:00.031560Z",
     "iopub.status.busy": "2024-04-28T13:47:00.030217Z",
     "iopub.status.idle": "2024-04-28T13:47:00.039258Z",
     "shell.execute_reply": "2024-04-28T13:47:00.038317Z"
    },
    "id": "efS4pCmAJXJH",
    "papermill": {
     "duration": 6.578354,
     "end_time": "2024-04-28T13:47:00.041173",
     "exception": false,
     "start_time": "2024-04-28T13:46:53.462819",
     "status": "completed"
    },
    "tags": []
   },
   "outputs": [],
   "source": [
    "import os\n",
    "import json\n",
    "import torch\n",
    "from pathlib import Path\n",
    "from torch.utils.data import Dataset\n",
    "\n",
    "\n",
    "class InferenceDataset(Dataset):\n",
    "\tdef __init__(self, data_dir):\n",
    "\t\ttestdata_path = Path(data_dir) / \"testdata.json\"\n",
    "\t\tmetadata = json.load(testdata_path.open())\n",
    "\t\tself.data_dir = data_dir\n",
    "\t\tself.data = metadata[\"utterances\"]\n",
    "\n",
    "\tdef __len__(self):\n",
    "\t\treturn len(self.data)\n",
    "\n",
    "\tdef __getitem__(self, index):\n",
    "\t\tutterance = self.data[index]\n",
    "\t\tfeat_path = utterance[\"feature_path\"]\n",
    "\t\tmel = torch.load(os.path.join(self.data_dir, feat_path))\n",
    "\n",
    "\t\treturn feat_path, mel\n",
    "\n",
    "\n",
    "def inference_collate_batch(batch):\n",
    "\t\"\"\"Collate a batch of data.\"\"\"\n",
    "\tfeat_paths, mels = zip(*batch)\n",
    "\n",
    "\treturn feat_paths, torch.stack(mels)"
   ]
  },
  {
   "cell_type": "markdown",
   "id": "ef7c5168",
   "metadata": {
    "id": "tl0WnYwxNK_S",
    "papermill": {
     "duration": 6.845887,
     "end_time": "2024-04-28T13:47:13.397982",
     "exception": false,
     "start_time": "2024-04-28T13:47:06.552095",
     "status": "completed"
    },
    "tags": []
   },
   "source": [
    "## Main funcrion of Inference"
   ]
  },
  {
   "cell_type": "code",
   "execution_count": 11,
   "id": "2b991375",
   "metadata": {
    "execution": {
     "iopub.execute_input": "2024-04-28T13:47:26.344305Z",
     "iopub.status.busy": "2024-04-28T13:47:26.343461Z",
     "iopub.status.idle": "2024-04-28T13:47:45.606627Z",
     "shell.execute_reply": "2024-04-28T13:47:45.605429Z"
    },
    "id": "i8SAbuXEJb2A",
    "papermill": {
     "duration": 25.792725,
     "end_time": "2024-04-28T13:47:45.608974",
     "exception": false,
     "start_time": "2024-04-28T13:47:19.816249",
     "status": "completed"
    },
    "tags": []
   },
   "outputs": [
    {
     "name": "stdout",
     "output_type": "stream",
     "text": [
      "[Info]: Use cuda now!\n",
      "[Info]: Finish loading data!\n",
      "[Info]: Finish creating model!\n"
     ]
    },
    {
     "data": {
      "application/vnd.jupyter.widget-view+json": {
       "model_id": "c19a61e75a8b4032a75a8c190c5e2324",
       "version_major": 2,
       "version_minor": 0
      },
      "text/plain": [
       "  0%|          | 0/8000 [00:00<?, ?it/s]"
      ]
     },
     "metadata": {},
     "output_type": "display_data"
    }
   ],
   "source": [
    "import json\n",
    "import csv\n",
    "from pathlib import Path\n",
    "from tqdm.notebook import tqdm\n",
    "\n",
    "import torch\n",
    "from torch.utils.data import DataLoader\n",
    "\n",
    "def parse_args():\n",
    "\t\"\"\"arguments\"\"\"\n",
    "\tconfig = {\n",
    "\t\t\"data_dir\": \"/kaggle/input/ml2022spring-hw4/Dataset\",\n",
    "\t\t\"model_path\": \"./model.ckpt\",\n",
    "\t\t\"output_path\": \"./output.csv\",\n",
    "\t}\n",
    "\n",
    "\treturn config\n",
    "\n",
    "\n",
    "def main(\n",
    "\tdata_dir,\n",
    "\tmodel_path,\n",
    "\toutput_path,\n",
    "):\n",
    "\t\"\"\"Main function.\"\"\"\n",
    "\tdevice = torch.device(\"cuda\" if torch.cuda.is_available() else \"cpu\")\n",
    "\tprint(f\"[Info]: Use {device} now!\")\n",
    "\n",
    "\tmapping_path = Path(data_dir) / \"mapping.json\"\n",
    "\tmapping = json.load(mapping_path.open())\n",
    "\n",
    "\tdataset = InferenceDataset(data_dir)\n",
    "\tdataloader = DataLoader(\n",
    "\t\tdataset,\n",
    "\t\tbatch_size=1,\n",
    "\t\tshuffle=False,\n",
    "\t\tdrop_last=False,\n",
    "\t\tnum_workers=8,\n",
    "\t\tcollate_fn=inference_collate_batch,\n",
    "\t)\n",
    "\tprint(f\"[Info]: Finish loading data!\",flush = True)\n",
    "\n",
    "\tspeaker_num = len(mapping[\"id2speaker\"])\n",
    "\tmodel = Classifier(n_spks=speaker_num).to(device)\n",
    "\tmodel.load_state_dict(torch.load(model_path))\n",
    "\tmodel.eval()\n",
    "\tprint(f\"[Info]: Finish creating model!\",flush = True)\n",
    "\n",
    "\tresults = [[\"Id\", \"Category\"]]\n",
    "\tfor feat_paths, mels in tqdm(dataloader):\n",
    "\t\twith torch.no_grad():\n",
    "\t\t\tmels = mels.to(device)\n",
    "\t\t\touts = model(mels)\n",
    "\t\t\tpreds = outs.argmax(1).cpu().numpy()\n",
    "\t\t\tfor feat_path, pred in zip(feat_paths, preds):\n",
    "\t\t\t\tresults.append([feat_path, mapping[\"id2speaker\"][str(pred)]])\n",
    "\n",
    "\twith open(output_path, 'w', newline='') as csvfile:\n",
    "\t\twriter = csv.writer(csvfile)\n",
    "\t\twriter.writerows(results)\n",
    "\n",
    "\n",
    "if __name__ == \"__main__\":\n",
    "\tmain(**parse_args())"
   ]
  }
 ],
 "metadata": {
  "accelerator": "GPU",
  "colab": {
   "collapsed_sections": [],
   "name": "hw04.ipynb",
   "provenance": []
  },
  "kaggle": {
   "accelerator": "gpu",
   "dataSources": [
    {
     "databundleVersionId": 3328800,
     "sourceId": 34762,
     "sourceType": "competition"
    },
    {
     "databundleVersionId": 8381107,
     "datasetId": 4889250,
     "sourceId": 8253126,
     "sourceType": "datasetVersion"
    }
   ],
   "dockerImageVersionId": 30699,
   "isGpuEnabled": true,
   "isInternetEnabled": true,
   "language": "python",
   "sourceType": "notebook"
  },
  "kernelspec": {
   "display_name": "Python 3",
   "language": "python",
   "name": "python3"
  },
  "language_info": {
   "codemirror_mode": {
    "name": "ipython",
    "version": 3
   },
   "file_extension": ".py",
   "mimetype": "text/x-python",
   "name": "python",
   "nbconvert_exporter": "python",
   "pygments_lexer": "ipython3",
   "version": "3.10.13"
  },
  "papermill": {
   "default_parameters": {},
   "duration": 4750.451544,
   "end_time": "2024-04-28T13:47:54.664380",
   "environment_variables": {},
   "exception": null,
   "input_path": "__notebook__.ipynb",
   "output_path": "__notebook__.ipynb",
   "parameters": {},
   "start_time": "2024-04-28T12:28:44.212836",
   "version": "2.5.0"
  },
  "widgets": {
   "application/vnd.jupyter.widget-state+json": {
    "state": {
     "50154d99e10541adaa5a1ff04a24ffb9": {
      "model_module": "@jupyter-widgets/base",
      "model_module_version": "1.2.0",
      "model_name": "LayoutModel",
      "state": {
       "_model_module": "@jupyter-widgets/base",
       "_model_module_version": "1.2.0",
       "_model_name": "LayoutModel",
       "_view_count": null,
       "_view_module": "@jupyter-widgets/base",
       "_view_module_version": "1.2.0",
       "_view_name": "LayoutView",
       "align_content": null,
       "align_items": null,
       "align_self": null,
       "border": null,
       "bottom": null,
       "display": null,
       "flex": null,
       "flex_flow": null,
       "grid_area": null,
       "grid_auto_columns": null,
       "grid_auto_flow": null,
       "grid_auto_rows": null,
       "grid_column": null,
       "grid_gap": null,
       "grid_row": null,
       "grid_template_areas": null,
       "grid_template_columns": null,
       "grid_template_rows": null,
       "height": null,
       "justify_content": null,
       "justify_items": null,
       "left": null,
       "margin": null,
       "max_height": null,
       "max_width": null,
       "min_height": null,
       "min_width": null,
       "object_fit": null,
       "object_position": null,
       "order": null,
       "overflow": null,
       "overflow_x": null,
       "overflow_y": null,
       "padding": null,
       "right": null,
       "top": null,
       "visibility": null,
       "width": null
      }
     },
     "6058f2462d5d4223863cb843c9516341": {
      "model_module": "@jupyter-widgets/controls",
      "model_module_version": "1.5.0",
      "model_name": "ProgressStyleModel",
      "state": {
       "_model_module": "@jupyter-widgets/controls",
       "_model_module_version": "1.5.0",
       "_model_name": "ProgressStyleModel",
       "_view_count": null,
       "_view_module": "@jupyter-widgets/base",
       "_view_module_version": "1.2.0",
       "_view_name": "StyleView",
       "bar_color": null,
       "description_width": ""
      }
     },
     "9421349373d145a19fa3328a7eda7f5d": {
      "model_module": "@jupyter-widgets/controls",
      "model_module_version": "1.5.0",
      "model_name": "HTMLModel",
      "state": {
       "_dom_classes": [],
       "_model_module": "@jupyter-widgets/controls",
       "_model_module_version": "1.5.0",
       "_model_name": "HTMLModel",
       "_view_count": null,
       "_view_module": "@jupyter-widgets/controls",
       "_view_module_version": "1.5.0",
       "_view_name": "HTMLView",
       "description": "",
       "description_tooltip": null,
       "layout": "IPY_MODEL_fba22948996b4339a23ee3042109f523",
       "placeholder": "​",
       "style": "IPY_MODEL_cc789b2ec5264a6cbd5a828e5947813d",
       "value": " 8000/8000 [00:19&lt;00:00, 427.42it/s]"
      }
     },
     "c19a61e75a8b4032a75a8c190c5e2324": {
      "model_module": "@jupyter-widgets/controls",
      "model_module_version": "1.5.0",
      "model_name": "HBoxModel",
      "state": {
       "_dom_classes": [],
       "_model_module": "@jupyter-widgets/controls",
       "_model_module_version": "1.5.0",
       "_model_name": "HBoxModel",
       "_view_count": null,
       "_view_module": "@jupyter-widgets/controls",
       "_view_module_version": "1.5.0",
       "_view_name": "HBoxView",
       "box_style": "",
       "children": [
        "IPY_MODEL_fc8a302776ca4f9fa9a26172fa9c7397",
        "IPY_MODEL_d429b11ccd354f00a260d56b5d4c64a3",
        "IPY_MODEL_9421349373d145a19fa3328a7eda7f5d"
       ],
       "layout": "IPY_MODEL_e4d1297782304af8aa8cf6f6a23b7e3e"
      }
     },
     "cc789b2ec5264a6cbd5a828e5947813d": {
      "model_module": "@jupyter-widgets/controls",
      "model_module_version": "1.5.0",
      "model_name": "DescriptionStyleModel",
      "state": {
       "_model_module": "@jupyter-widgets/controls",
       "_model_module_version": "1.5.0",
       "_model_name": "DescriptionStyleModel",
       "_view_count": null,
       "_view_module": "@jupyter-widgets/base",
       "_view_module_version": "1.2.0",
       "_view_name": "StyleView",
       "description_width": ""
      }
     },
     "d429b11ccd354f00a260d56b5d4c64a3": {
      "model_module": "@jupyter-widgets/controls",
      "model_module_version": "1.5.0",
      "model_name": "FloatProgressModel",
      "state": {
       "_dom_classes": [],
       "_model_module": "@jupyter-widgets/controls",
       "_model_module_version": "1.5.0",
       "_model_name": "FloatProgressModel",
       "_view_count": null,
       "_view_module": "@jupyter-widgets/controls",
       "_view_module_version": "1.5.0",
       "_view_name": "ProgressView",
       "bar_style": "success",
       "description": "",
       "description_tooltip": null,
       "layout": "IPY_MODEL_f800493f6fe142ec859b95eac9f5914f",
       "max": 8000.0,
       "min": 0.0,
       "orientation": "horizontal",
       "style": "IPY_MODEL_6058f2462d5d4223863cb843c9516341",
       "value": 8000.0
      }
     },
     "e4d1297782304af8aa8cf6f6a23b7e3e": {
      "model_module": "@jupyter-widgets/base",
      "model_module_version": "1.2.0",
      "model_name": "LayoutModel",
      "state": {
       "_model_module": "@jupyter-widgets/base",
       "_model_module_version": "1.2.0",
       "_model_name": "LayoutModel",
       "_view_count": null,
       "_view_module": "@jupyter-widgets/base",
       "_view_module_version": "1.2.0",
       "_view_name": "LayoutView",
       "align_content": null,
       "align_items": null,
       "align_self": null,
       "border": null,
       "bottom": null,
       "display": null,
       "flex": null,
       "flex_flow": null,
       "grid_area": null,
       "grid_auto_columns": null,
       "grid_auto_flow": null,
       "grid_auto_rows": null,
       "grid_column": null,
       "grid_gap": null,
       "grid_row": null,
       "grid_template_areas": null,
       "grid_template_columns": null,
       "grid_template_rows": null,
       "height": null,
       "justify_content": null,
       "justify_items": null,
       "left": null,
       "margin": null,
       "max_height": null,
       "max_width": null,
       "min_height": null,
       "min_width": null,
       "object_fit": null,
       "object_position": null,
       "order": null,
       "overflow": null,
       "overflow_x": null,
       "overflow_y": null,
       "padding": null,
       "right": null,
       "top": null,
       "visibility": null,
       "width": null
      }
     },
     "ef22ab1cd91a471893458b65516040fc": {
      "model_module": "@jupyter-widgets/controls",
      "model_module_version": "1.5.0",
      "model_name": "DescriptionStyleModel",
      "state": {
       "_model_module": "@jupyter-widgets/controls",
       "_model_module_version": "1.5.0",
       "_model_name": "DescriptionStyleModel",
       "_view_count": null,
       "_view_module": "@jupyter-widgets/base",
       "_view_module_version": "1.2.0",
       "_view_name": "StyleView",
       "description_width": ""
      }
     },
     "f800493f6fe142ec859b95eac9f5914f": {
      "model_module": "@jupyter-widgets/base",
      "model_module_version": "1.2.0",
      "model_name": "LayoutModel",
      "state": {
       "_model_module": "@jupyter-widgets/base",
       "_model_module_version": "1.2.0",
       "_model_name": "LayoutModel",
       "_view_count": null,
       "_view_module": "@jupyter-widgets/base",
       "_view_module_version": "1.2.0",
       "_view_name": "LayoutView",
       "align_content": null,
       "align_items": null,
       "align_self": null,
       "border": null,
       "bottom": null,
       "display": null,
       "flex": null,
       "flex_flow": null,
       "grid_area": null,
       "grid_auto_columns": null,
       "grid_auto_flow": null,
       "grid_auto_rows": null,
       "grid_column": null,
       "grid_gap": null,
       "grid_row": null,
       "grid_template_areas": null,
       "grid_template_columns": null,
       "grid_template_rows": null,
       "height": null,
       "justify_content": null,
       "justify_items": null,
       "left": null,
       "margin": null,
       "max_height": null,
       "max_width": null,
       "min_height": null,
       "min_width": null,
       "object_fit": null,
       "object_position": null,
       "order": null,
       "overflow": null,
       "overflow_x": null,
       "overflow_y": null,
       "padding": null,
       "right": null,
       "top": null,
       "visibility": null,
       "width": null
      }
     },
     "fba22948996b4339a23ee3042109f523": {
      "model_module": "@jupyter-widgets/base",
      "model_module_version": "1.2.0",
      "model_name": "LayoutModel",
      "state": {
       "_model_module": "@jupyter-widgets/base",
       "_model_module_version": "1.2.0",
       "_model_name": "LayoutModel",
       "_view_count": null,
       "_view_module": "@jupyter-widgets/base",
       "_view_module_version": "1.2.0",
       "_view_name": "LayoutView",
       "align_content": null,
       "align_items": null,
       "align_self": null,
       "border": null,
       "bottom": null,
       "display": null,
       "flex": null,
       "flex_flow": null,
       "grid_area": null,
       "grid_auto_columns": null,
       "grid_auto_flow": null,
       "grid_auto_rows": null,
       "grid_column": null,
       "grid_gap": null,
       "grid_row": null,
       "grid_template_areas": null,
       "grid_template_columns": null,
       "grid_template_rows": null,
       "height": null,
       "justify_content": null,
       "justify_items": null,
       "left": null,
       "margin": null,
       "max_height": null,
       "max_width": null,
       "min_height": null,
       "min_width": null,
       "object_fit": null,
       "object_position": null,
       "order": null,
       "overflow": null,
       "overflow_x": null,
       "overflow_y": null,
       "padding": null,
       "right": null,
       "top": null,
       "visibility": null,
       "width": null
      }
     },
     "fc8a302776ca4f9fa9a26172fa9c7397": {
      "model_module": "@jupyter-widgets/controls",
      "model_module_version": "1.5.0",
      "model_name": "HTMLModel",
      "state": {
       "_dom_classes": [],
       "_model_module": "@jupyter-widgets/controls",
       "_model_module_version": "1.5.0",
       "_model_name": "HTMLModel",
       "_view_count": null,
       "_view_module": "@jupyter-widgets/controls",
       "_view_module_version": "1.5.0",
       "_view_name": "HTMLView",
       "description": "",
       "description_tooltip": null,
       "layout": "IPY_MODEL_50154d99e10541adaa5a1ff04a24ffb9",
       "placeholder": "​",
       "style": "IPY_MODEL_ef22ab1cd91a471893458b65516040fc",
       "value": "100%"
      }
     }
    },
    "version_major": 2,
    "version_minor": 0
   }
  }
 },
 "nbformat": 4,
 "nbformat_minor": 5
}
