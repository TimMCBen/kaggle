{
 "cells": [
  {
   "cell_type": "markdown",
   "id": "c7e16d16",
   "metadata": {
    "id": "C_jdZ5vHJ4A9",
    "papermill": {
     "duration": 0.006802,
     "end_time": "2024-04-30T04:36:21.461705",
     "exception": false,
     "start_time": "2024-04-30T04:36:21.454903",
     "status": "completed"
    },
    "tags": []
   },
   "source": [
    "# Task description\n",
    "- Classify the speakers of given features.\n",
    "- Main goal: Learn how to use transformer.\n",
    "- Baselines:\n",
    "  - Easy: Run sample code and know how to use transformer.\n",
    "  - Medium: Know how to adjust parameters of transformer.\n",
    "  - Strong: Construct [conformer](https://arxiv.org/abs/2005.08100) which is a variety of transformer. \n",
    "  - Boss: Implement [Self-Attention Pooling](https://arxiv.org/pdf/2008.01077v1.pdf) & [Additive Margin Softmax](https://arxiv.org/pdf/1801.05599.pdf) to further boost the performance.\n",
    "\n",
    "- Other links\n",
    "  - Kaggle: [link](https://www.kaggle.com/t/ac77388c90204a4c8daebeddd40ff916)\n",
    "  - Slide: [link](https://docs.google.com/presentation/d/1HLAj7UUIjZOycDe7DaVLSwJfXVd3bXPOyzSb6Zk3hYU/edit?usp=sharing)\n",
    "  - Data: [link](https://github.com/MachineLearningHW/ML_HW4_Dataset)\n",
    "\n",
    "# Download dataset\n",
    "- Data is [here](https://github.com/MachineLearningHW/ML_HW4_Dataset)"
   ]
  },
  {
   "cell_type": "code",
   "execution_count": 1,
   "id": "e460346a",
   "metadata": {
    "execution": {
     "iopub.execute_input": "2024-04-30T04:36:21.475760Z",
     "iopub.status.busy": "2024-04-30T04:36:21.475402Z",
     "iopub.status.idle": "2024-04-30T04:36:21.489065Z",
     "shell.execute_reply": "2024-04-30T04:36:21.488211Z"
    },
    "id": "LhLNWB-AK2Z5",
    "papermill": {
     "duration": 0.022914,
     "end_time": "2024-04-30T04:36:21.490982",
     "exception": false,
     "start_time": "2024-04-30T04:36:21.468068",
     "status": "completed"
    },
    "tags": []
   },
   "outputs": [
    {
     "data": {
      "text/plain": [
       "'\\nIf the links below become inaccessible, please connect TAs.\\n'"
      ]
     },
     "execution_count": 1,
     "metadata": {},
     "output_type": "execute_result"
    }
   ],
   "source": [
    "\"\"\"\n",
    "If the links below become inaccessible, please connect TAs.\n",
    "\"\"\"\n",
    "\n",
    "# !wget https://github.com/MachineLearningHW/ML_HW4_Dataset/raw/0.0.1/Dataset.tar.gz.partaa\n",
    "# !wget https://github.com/MachineLearningHW/ML_HW4_Dataset/raw/0.0.1/Dataset.tar.gz.partab\n",
    "# !wget https://github.com/MachineLearningHW/ML_HW4_Dataset/raw/0.0.1/Dataset.tar.gz.partac\n",
    "# !wget https://github.com/MachineLearningHW/ML_HW4_Dataset/raw/0.0.1/Dataset.tar.gz.partad\n",
    "\n",
    "# !cat Dataset.tar.gz.parta* > Dataset.tar.gz\n",
    "\n",
    "# !tar zxvf Dataset.tar.gz"
   ]
  },
  {
   "cell_type": "markdown",
   "id": "5ec35441",
   "metadata": {
    "id": "ENWVAUDVJtVY",
    "papermill": {
     "duration": 0.005835,
     "end_time": "2024-04-30T04:36:21.503186",
     "exception": false,
     "start_time": "2024-04-30T04:36:21.497351",
     "status": "completed"
    },
    "tags": []
   },
   "source": [
    "## Fix Random Seed"
   ]
  },
  {
   "cell_type": "code",
   "execution_count": 2,
   "id": "c99a81d5",
   "metadata": {
    "execution": {
     "iopub.execute_input": "2024-04-30T04:36:21.517316Z",
     "iopub.status.busy": "2024-04-30T04:36:21.516770Z",
     "iopub.status.idle": "2024-04-30T04:36:25.141978Z",
     "shell.execute_reply": "2024-04-30T04:36:25.140997Z"
    },
    "id": "E6burzCXIyuA",
    "papermill": {
     "duration": 3.63515,
     "end_time": "2024-04-30T04:36:25.144543",
     "exception": false,
     "start_time": "2024-04-30T04:36:21.509393",
     "status": "completed"
    },
    "tags": []
   },
   "outputs": [],
   "source": [
    "import numpy as np\n",
    "import torch\n",
    "import random\n",
    "\n",
    "def set_seed(seed):\n",
    "    np.random.seed(seed)\n",
    "    random.seed(seed)\n",
    "    torch.manual_seed(seed)\n",
    "    if torch.cuda.is_available():\n",
    "        torch.cuda.manual_seed(seed)\n",
    "        torch.cuda.manual_seed_all(seed)\n",
    "    torch.backends.cudnn.benchmark = False\n",
    "    torch.backends.cudnn.deterministic = True\n",
    "\n",
    "set_seed(87)"
   ]
  },
  {
   "cell_type": "markdown",
   "id": "e3a889a6",
   "metadata": {
    "id": "k7dVbxW2LASN",
    "papermill": {
     "duration": 0.006205,
     "end_time": "2024-04-30T04:36:25.157353",
     "exception": false,
     "start_time": "2024-04-30T04:36:25.151148",
     "status": "completed"
    },
    "tags": []
   },
   "source": [
    "# Data\n",
    "\n",
    "## Dataset\n",
    "- Original dataset is [Voxceleb2](https://www.robots.ox.ac.uk/~vgg/data/voxceleb/vox2.html).\n",
    "- The [license](https://creativecommons.org/licenses/by/4.0/) and [complete version](https://www.robots.ox.ac.uk/~vgg/data/voxceleb/files/license.txt) of Voxceleb2.\n",
    "- We randomly select 600 speakers from Voxceleb2.\n",
    "- Then preprocess the raw waveforms into mel-spectrograms.\n",
    "\n",
    "- Args:\n",
    "  - data_dir: The path to the data directory.\n",
    "  - metadata_path: The path to the metadata.\n",
    "  - segment_len: The length of audio segment for training. \n",
    "- The architecture of data directory \\\\\n",
    "  - data directory \\\\\n",
    "  |---- metadata.json \\\\\n",
    "  |---- testdata.json \\\\\n",
    "  |---- mapping.json \\\\\n",
    "  |---- uttr-{random string}.pt \\\\\n",
    "\n",
    "- The information in metadata\n",
    "  - \"n_mels\": The dimention of mel-spectrogram.\n",
    "  - \"speakers\": A dictionary. \n",
    "    - Key: speaker ids.\n",
    "    - value: \"feature_path\" and \"mel_len\"\n",
    "\n",
    "\n",
    "For efficiency, we segment the mel-spectrograms into segments in the traing step."
   ]
  },
  {
   "cell_type": "code",
   "execution_count": 3,
   "id": "b5744161",
   "metadata": {
    "execution": {
     "iopub.execute_input": "2024-04-30T04:36:25.172125Z",
     "iopub.status.busy": "2024-04-30T04:36:25.171253Z",
     "iopub.status.idle": "2024-04-30T04:36:25.187290Z",
     "shell.execute_reply": "2024-04-30T04:36:25.186200Z"
    },
    "id": "KpuGxl4CI2pr",
    "papermill": {
     "duration": 0.026013,
     "end_time": "2024-04-30T04:36:25.189726",
     "exception": false,
     "start_time": "2024-04-30T04:36:25.163713",
     "status": "completed"
    },
    "tags": []
   },
   "outputs": [],
   "source": [
    "import os\n",
    "import json\n",
    "import torch\n",
    "import random\n",
    "from pathlib import Path\n",
    "from torch.utils.data import Dataset\n",
    "from torch.nn.utils.rnn import pad_sequence\n",
    " \n",
    " \n",
    "class myDataset(Dataset):\n",
    "\tdef __init__(self, data_dir, segment_len=128):\n",
    "\t\tself.data_dir = data_dir\n",
    "\t\tself.segment_len = segment_len\n",
    "\t\n",
    "\t\t# Load the mapping from speaker neme to their corresponding id. \n",
    "\t\tmapping_path = Path(data_dir) / \"mapping.json\"\n",
    "\t\tmapping = json.load(mapping_path.open())\n",
    "\t\tself.speaker2id = mapping[\"speaker2id\"]\n",
    "\t\n",
    "\t\t# Load metadata of training data.\n",
    "\t\tmetadata_path = Path(data_dir) / \"metadata.json\"\n",
    "\t\tmetadata = json.load(open(metadata_path))[\"speakers\"]\n",
    "\t\n",
    "\t\t# Get the total number of speaker.\n",
    "\t\tself.speaker_num = len(metadata.keys())\n",
    "\t\tself.data = []\n",
    "\t\tfor speaker in metadata.keys():\n",
    "\t\t\tfor utterances in metadata[speaker]:\n",
    "\t\t\t\tself.data.append([utterances[\"feature_path\"], self.speaker2id[speaker]])\n",
    " \n",
    "\tdef __len__(self):\n",
    "\t\t\treturn len(self.data)\n",
    " \n",
    "\tdef __getitem__(self, index):\n",
    "\t\tfeat_path, speaker = self.data[index]\n",
    "\t\t# Load preprocessed mel-spectrogram.\n",
    "\t\tmel = torch.load(os.path.join(self.data_dir, feat_path))\n",
    "\n",
    "\t\t# Segmemt mel-spectrogram into \"segment_len\" frames.\n",
    "\t\tif len(mel) > self.segment_len:\n",
    "\t\t\t# Randomly get the starting point of the segment.\n",
    "\t\t\tstart = random.randint(0, len(mel) - self.segment_len)\n",
    "\t\t\t# Get a segment with \"segment_len\" frames.\n",
    "\t\t\tmel = torch.FloatTensor(mel[start:start+self.segment_len])\n",
    "\t\telse:\n",
    "\t\t\tmel = torch.FloatTensor(mel)\n",
    "\t\t# Turn the speaker id into long for computing loss later.\n",
    "\t\tspeaker = torch.FloatTensor([speaker]).long()\n",
    "\t\treturn mel, speaker\n",
    " \n",
    "\tdef get_speaker_number(self):\n",
    "\t\treturn self.speaker_num"
   ]
  },
  {
   "cell_type": "markdown",
   "id": "92ebcd65",
   "metadata": {
    "id": "668hverTMlGN",
    "papermill": {
     "duration": 0.006819,
     "end_time": "2024-04-30T04:36:25.205891",
     "exception": false,
     "start_time": "2024-04-30T04:36:25.199072",
     "status": "completed"
    },
    "tags": []
   },
   "source": [
    "## Dataloader\n",
    "- Split dataset into training dataset(90%) and validation dataset(10%).\n",
    "- Create dataloader to iterate the data."
   ]
  },
  {
   "cell_type": "code",
   "execution_count": 4,
   "id": "d172da2e",
   "metadata": {
    "execution": {
     "iopub.execute_input": "2024-04-30T04:36:25.220191Z",
     "iopub.status.busy": "2024-04-30T04:36:25.219813Z",
     "iopub.status.idle": "2024-04-30T04:36:25.228980Z",
     "shell.execute_reply": "2024-04-30T04:36:25.228049Z"
    },
    "id": "B7c2gZYoJDRS",
    "papermill": {
     "duration": 0.018978,
     "end_time": "2024-04-30T04:36:25.231299",
     "exception": false,
     "start_time": "2024-04-30T04:36:25.212321",
     "status": "completed"
    },
    "tags": []
   },
   "outputs": [],
   "source": [
    "import torch\n",
    "from torch.utils.data import DataLoader, random_split\n",
    "from torch.nn.utils.rnn import pad_sequence\n",
    "\n",
    "\n",
    "def collate_batch(batch):\n",
    "\t# Process features within a batch.\n",
    "\t\"\"\"Collate a batch of data.\"\"\"\n",
    "\tmel, speaker = zip(*batch)\n",
    "\t# Because we train the model batch by batch, we need to pad the features in the same batch to make their lengths the same.\n",
    "\tmel = pad_sequence(mel, batch_first=True, padding_value=-20)    # pad log 10^(-20) which is very small value.\n",
    "\t# mel: (batch size, length, 40)\n",
    "\treturn mel, torch.FloatTensor(speaker).long()\n",
    "\n",
    "\n",
    "def get_dataloader(data_dir, batch_size, n_workers):\n",
    "\t\"\"\"Generate dataloader\"\"\"\n",
    "\tdataset = myDataset(data_dir)\n",
    "\tspeaker_num = dataset.get_speaker_number()\n",
    "\t# Split dataset into training dataset and validation dataset\n",
    "\ttrainlen = int(0.9 * len(dataset))\n",
    "\tlengths = [trainlen, len(dataset) - trainlen]\n",
    "\ttrainset, validset = random_split(dataset, lengths)\n",
    "\n",
    "\ttrain_loader = DataLoader(\n",
    "\t\ttrainset,\n",
    "\t\tbatch_size=batch_size,\n",
    "\t\tshuffle=True,\n",
    "\t\tdrop_last=True,\n",
    "\t\tnum_workers=n_workers,\n",
    "\t\tpin_memory=True,\n",
    "\t\tcollate_fn=collate_batch,\n",
    "\t)\n",
    "\tvalid_loader = DataLoader(\n",
    "\t\tvalidset,\n",
    "\t\tbatch_size=batch_size,\n",
    "\t\tnum_workers=n_workers,\n",
    "\t\tdrop_last=True,\n",
    "\t\tpin_memory=True,\n",
    "\t\tcollate_fn=collate_batch,\n",
    "\t)\n",
    "\n",
    "\treturn train_loader, valid_loader, speaker_num"
   ]
  },
  {
   "cell_type": "markdown",
   "id": "93ace727",
   "metadata": {
    "id": "5FOSZYxrMqhc",
    "papermill": {
     "duration": 0.008722,
     "end_time": "2024-04-30T04:36:25.248853",
     "exception": false,
     "start_time": "2024-04-30T04:36:25.240131",
     "status": "completed"
    },
    "tags": []
   },
   "source": [
    "# Model\n",
    "- TransformerEncoderLayer:\n",
    "  - Base transformer encoder layer in [Attention Is All You Need](https://arxiv.org/abs/1706.03762)\n",
    "  - Parameters:\n",
    "    - d_model: the number of expected features of the input (required).\n",
    "\n",
    "    - nhead: the number of heads of the multiheadattention models (required).\n",
    "\n",
    "    - dim_feedforward: the dimension of the feedforward network model (default=2048).\n",
    "\n",
    "    - dropout: the dropout value (default=0.1).\n",
    "\n",
    "    - activation: the activation function of intermediate layer, relu or gelu (default=relu).\n",
    "\n",
    "- TransformerEncoder:\n",
    "  - TransformerEncoder is a stack of N transformer encoder layers\n",
    "  - Parameters:\n",
    "    - encoder_layer: an instance of the TransformerEncoderLayer() class (required).\n",
    "\n",
    "    - num_layers: the number of sub-encoder-layers in the encoder (required).\n",
    "\n",
    "    - norm: the layer normalization component (optional)."
   ]
  },
  {
   "cell_type": "code",
   "execution_count": 5,
   "id": "b7cb542d",
   "metadata": {
    "execution": {
     "iopub.execute_input": "2024-04-30T04:36:25.263760Z",
     "iopub.status.busy": "2024-04-30T04:36:25.262973Z",
     "iopub.status.idle": "2024-04-30T04:36:25.274533Z",
     "shell.execute_reply": "2024-04-30T04:36:25.273622Z"
    },
    "id": "iXZ5B0EKJGs8",
    "papermill": {
     "duration": 0.021199,
     "end_time": "2024-04-30T04:36:25.276529",
     "exception": false,
     "start_time": "2024-04-30T04:36:25.255330",
     "status": "completed"
    },
    "tags": []
   },
   "outputs": [],
   "source": [
    "import torch\n",
    "import torch.nn as nn\n",
    "import torch.nn.functional as F\n",
    "\n",
    "\n",
    "class Classifier(nn.Module):\n",
    "\tdef __init__(self, d_model=512, n_spks=600, dropout=0.1):\n",
    "\t\tsuper().__init__()\n",
    "\t\t# Project the dimension of features from that of input into d_model.\n",
    "\t\tself.prenet = nn.Linear(40, d_model)\n",
    "\t\t# TODO:\n",
    "\t\t#   Change Transformer to Conformer.\n",
    "\t\t#   https://arxiv.org/abs/2005.08100\n",
    "\t\tself.encoder_layer = nn.TransformerEncoderLayer(\n",
    "\t\t\td_model=d_model, dim_feedforward=256, nhead=16\n",
    "\t\t)\n",
    "\t\t# self.encoder = nn.TransformerEncoder(self.encoder_layer, num_layers=2)\n",
    "\n",
    "\t\t# Project the the dimension of features from d_model into speaker nums.\n",
    "\t\tself.pred_layer = nn.Sequential(\n",
    "   \t\t\tnn.Linear(d_model, 2*d_model),\n",
    "            nn.ReLU(),\n",
    "\t\t\tnn.Linear(2*d_model, n_spks),\n",
    "\t\t)\n",
    "\n",
    "\tdef forward(self, mels):\n",
    "\t\t\"\"\"\n",
    "\t\targs:\n",
    "\t\t\tmels: (batch size, length, 40)\n",
    "\t\treturn:\n",
    "\t\t\tout: (batch size, n_spks)\n",
    "\t\t\"\"\"\n",
    "\t\t# out: (batch size, length, d_model)\n",
    "\t\tout = self.prenet(mels)\n",
    "\t\t# out: (length, batch size, d_model)\n",
    "\t\tout = out.permute(1, 0, 2)\n",
    "\t\t# The encoder layer expect features in the shape of (length, batch size, d_model).\n",
    "\t\tout = self.encoder_layer(out)\n",
    "\t\t# out: (batch size, length, d_model)\n",
    "\t\tout = out.transpose(0, 1)\n",
    "\t\t# mean pooling\n",
    "\t\tstats = out.mean(dim=1)\n",
    "\n",
    "\t\t# out: (batch, n_spks)\n",
    "\t\tout = self.pred_layer(stats)\n",
    "\t\treturn out"
   ]
  },
  {
   "cell_type": "markdown",
   "id": "257ec361",
   "metadata": {
    "id": "W7yX8JinM5Ly",
    "papermill": {
     "duration": 0.006487,
     "end_time": "2024-04-30T04:36:25.289699",
     "exception": false,
     "start_time": "2024-04-30T04:36:25.283212",
     "status": "completed"
    },
    "tags": []
   },
   "source": [
    "# Learning rate schedule\n",
    "- For transformer architecture, the design of learning rate schedule is different from that of CNN.\n",
    "- Previous works show that the warmup of learning rate is useful for training models with transformer architectures.\n",
    "- The warmup schedule\n",
    "  - Set learning rate to 0 in the beginning.\n",
    "  - The learning rate increases linearly from 0 to initial learning rate during warmup period."
   ]
  },
  {
   "cell_type": "code",
   "execution_count": 6,
   "id": "1dd33b89",
   "metadata": {
    "execution": {
     "iopub.execute_input": "2024-04-30T04:36:25.305648Z",
     "iopub.status.busy": "2024-04-30T04:36:25.304785Z",
     "iopub.status.idle": "2024-04-30T04:36:25.315673Z",
     "shell.execute_reply": "2024-04-30T04:36:25.314751Z"
    },
    "id": "ykt0N1nVJJi2",
    "papermill": {
     "duration": 0.020547,
     "end_time": "2024-04-30T04:36:25.317636",
     "exception": false,
     "start_time": "2024-04-30T04:36:25.297089",
     "status": "completed"
    },
    "tags": []
   },
   "outputs": [],
   "source": [
    "import math\n",
    "\n",
    "import torch\n",
    "from torch.optim import Optimizer\n",
    "from torch.optim.lr_scheduler import LambdaLR\n",
    "\n",
    "\n",
    "def get_cosine_schedule_with_warmup(\n",
    "\toptimizer: Optimizer,\n",
    "\tnum_warmup_steps: int,\n",
    "\tnum_training_steps: int,\n",
    "\tnum_cycles: float = 0.5,\n",
    "\tlast_epoch: int = -1,\n",
    "):\n",
    "\t\"\"\"\n",
    "\tCreate a schedule with a learning rate that decreases following the values of the cosine function between the\n",
    "\tinitial lr set in the optimizer to 0, after a warmup period during which it increases linearly between 0 and the\n",
    "\tinitial lr set in the optimizer.\n",
    "\n",
    "\tArgs:\n",
    "\t\toptimizer (:class:`~torch.optim.Optimizer`):\n",
    "\t\tThe optimizer for which to schedule the learning rate.\n",
    "\t\tnum_warmup_steps (:obj:`int`):\n",
    "\t\tThe number of steps for the warmup phase.\n",
    "\t\tnum_training_steps (:obj:`int`):\n",
    "\t\tThe total number of training steps.\n",
    "\t\tnum_cycles (:obj:`float`, `optional`, defaults to 0.5):\n",
    "\t\tThe number of waves in the cosine schedule (the defaults is to just decrease from the max value to 0\n",
    "\t\tfollowing a half-cosine).\n",
    "\t\tlast_epoch (:obj:`int`, `optional`, defaults to -1):\n",
    "\t\tThe index of the last epoch when resuming training.\n",
    "\n",
    "\tReturn:\n",
    "\t\t:obj:`torch.optim.lr_scheduler.LambdaLR` with the appropriate schedule.\n",
    "\t\"\"\"\n",
    "\tdef lr_lambda(current_step):\n",
    "\t\t# Warmup\n",
    "\t\tif current_step < num_warmup_steps:\n",
    "\t\t\treturn float(current_step) / float(max(1, num_warmup_steps))\n",
    "\t\t# decadence\n",
    "\t\tprogress = float(current_step - num_warmup_steps) / float(\n",
    "\t\t\tmax(1, num_training_steps - num_warmup_steps)\n",
    "\t\t)\n",
    "\t\treturn max(\n",
    "\t\t\t0.0, 0.5 * (1.0 + math.cos(math.pi * float(num_cycles) * 2.0 * progress))\n",
    "\t\t)\n",
    "\n",
    "\treturn LambdaLR(optimizer, lr_lambda, last_epoch)"
   ]
  },
  {
   "cell_type": "markdown",
   "id": "d2c58e87",
   "metadata": {
    "id": "-LN2XkteM_uH",
    "papermill": {
     "duration": 0.006262,
     "end_time": "2024-04-30T04:36:25.330772",
     "exception": false,
     "start_time": "2024-04-30T04:36:25.324510",
     "status": "completed"
    },
    "tags": []
   },
   "source": [
    "# Model Function\n",
    "- Model forward function."
   ]
  },
  {
   "cell_type": "code",
   "execution_count": 7,
   "id": "fa7facd4",
   "metadata": {
    "execution": {
     "iopub.execute_input": "2024-04-30T04:36:25.345782Z",
     "iopub.status.busy": "2024-04-30T04:36:25.344824Z",
     "iopub.status.idle": "2024-04-30T04:36:25.352278Z",
     "shell.execute_reply": "2024-04-30T04:36:25.351368Z"
    },
    "id": "N-rr8529JMz0",
    "papermill": {
     "duration": 0.017141,
     "end_time": "2024-04-30T04:36:25.354379",
     "exception": false,
     "start_time": "2024-04-30T04:36:25.337238",
     "status": "completed"
    },
    "tags": []
   },
   "outputs": [],
   "source": [
    "import torch\n",
    "\n",
    "\n",
    "def model_fn(batch, model, criterion, device):\n",
    "\t\"\"\"Forward a batch through the model.\"\"\"\n",
    "\n",
    "\tmels, labels = batch\n",
    "\tmels = mels.to(device)\n",
    "\tlabels = labels.to(device)\n",
    "\n",
    "\touts = model(mels)\n",
    "\n",
    "\tloss = criterion(outs, labels)\n",
    "\n",
    "\t# Get the speaker id with highest probability.\n",
    "\tpreds = outs.argmax(1)\n",
    "\t# Compute accuracy.\n",
    "\taccuracy = torch.mean((preds == labels).float())\n",
    "\n",
    "\treturn loss, accuracy"
   ]
  },
  {
   "cell_type": "markdown",
   "id": "d324f488",
   "metadata": {
    "id": "cwM_xyOtNCI2",
    "papermill": {
     "duration": 0.006427,
     "end_time": "2024-04-30T04:36:25.367730",
     "exception": false,
     "start_time": "2024-04-30T04:36:25.361303",
     "status": "completed"
    },
    "tags": []
   },
   "source": [
    "# Validate\n",
    "- Calculate accuracy of the validation set."
   ]
  },
  {
   "cell_type": "code",
   "execution_count": 8,
   "id": "721696e9",
   "metadata": {
    "execution": {
     "iopub.execute_input": "2024-04-30T04:36:25.383375Z",
     "iopub.status.busy": "2024-04-30T04:36:25.382498Z",
     "iopub.status.idle": "2024-04-30T04:36:25.392341Z",
     "shell.execute_reply": "2024-04-30T04:36:25.391395Z"
    },
    "id": "YAiv6kpdJRTJ",
    "papermill": {
     "duration": 0.020125,
     "end_time": "2024-04-30T04:36:25.394512",
     "exception": false,
     "start_time": "2024-04-30T04:36:25.374387",
     "status": "completed"
    },
    "tags": []
   },
   "outputs": [],
   "source": [
    "from tqdm import tqdm\n",
    "import torch\n",
    "\n",
    "\n",
    "def valid(dataloader, model, criterion, device): \n",
    "\t\"\"\"Validate on validation set.\"\"\"\n",
    "\n",
    "\tmodel.eval()\n",
    "\trunning_loss = 0.0\n",
    "\trunning_accuracy = 0.0\n",
    "\tpbar = tqdm(total=len(dataloader.dataset), ncols=0, desc=\"Valid\", unit=\" uttr\")\n",
    "\n",
    "\tfor i, batch in enumerate(dataloader):\n",
    "\t\twith torch.no_grad():\n",
    "\t\t\tloss, accuracy = model_fn(batch, model, criterion, device)\n",
    "\t\t\trunning_loss += loss.item()\n",
    "\t\t\trunning_accuracy += accuracy.item()\n",
    "\n",
    "\t\tpbar.update(dataloader.batch_size)\n",
    "\t\tpbar.set_postfix(\n",
    "\t\t\tloss=f\"{running_loss / (i+1):.2f}\",\n",
    "\t\t\taccuracy=f\"{running_accuracy / (i+1):.2f}\",\n",
    "\t\t)\n",
    "\n",
    "\tpbar.close()\n",
    "\tmodel.train()\n",
    "\n",
    "\treturn running_accuracy / len(dataloader)"
   ]
  },
  {
   "cell_type": "markdown",
   "id": "763f81a9",
   "metadata": {
    "id": "g6ne9G-eNEdG",
    "papermill": {
     "duration": 0.006452,
     "end_time": "2024-04-30T04:36:25.407646",
     "exception": false,
     "start_time": "2024-04-30T04:36:25.401194",
     "status": "completed"
    },
    "tags": []
   },
   "source": [
    "# Main function"
   ]
  },
  {
   "cell_type": "code",
   "execution_count": 9,
   "id": "9d3124ca",
   "metadata": {
    "execution": {
     "iopub.execute_input": "2024-04-30T04:36:25.422783Z",
     "iopub.status.busy": "2024-04-30T04:36:25.422239Z",
     "iopub.status.idle": "2024-04-30T05:21:55.915460Z",
     "shell.execute_reply": "2024-04-30T05:21:55.913986Z"
    },
    "id": "Usv9s-CuJSG7",
    "papermill": {
     "duration": 2730.503249,
     "end_time": "2024-04-30T05:21:55.917663",
     "exception": false,
     "start_time": "2024-04-30T04:36:25.414414",
     "status": "completed"
    },
    "tags": []
   },
   "outputs": [
    {
     "name": "stdout",
     "output_type": "stream",
     "text": [
      "[Info]: Use cuda now!\n"
     ]
    },
    {
     "name": "stderr",
     "output_type": "stream",
     "text": [
      "/opt/conda/lib/python3.10/site-packages/torch/utils/data/dataloader.py:557: UserWarning: This DataLoader will create 8 worker processes in total. Our suggested max number of worker in current system is 4, which is smaller than what this DataLoader is going to create. Please be aware that excessive worker creation might get DataLoader running slow or even freeze, lower the worker number to avoid potential slowness/freeze if necessary.\n",
      "  warnings.warn(_create_warning_msg(\n"
     ]
    },
    {
     "name": "stdout",
     "output_type": "stream",
     "text": [
      "[Info]: Finish loading data!\n",
      "[Info]: Finish creating model!\n"
     ]
    },
    {
     "name": "stderr",
     "output_type": "stream",
     "text": [
      "Train:  80% 1590/2000 [01:13<00:20, 20.01 step/s, accuracy=0.31, loss=3.14, step=1500]/opt/conda/lib/python3.10/site-packages/torch/utils/data/dataloader.py:557: UserWarning: This DataLoader will create 8 worker processes in total. Our suggested max number of worker in current system is 4, which is smaller than what this DataLoader is going to create. Please be aware that excessive worker creation might get DataLoader running slow or even freeze, lower the worker number to avoid potential slowness/freeze if necessary.\n",
      "  warnings.warn(_create_warning_msg(\n",
      "Train: 100% 2000/2000 [01:18<00:00, 25.32 step/s, accuracy=0.47, loss=2.47, step=2000]\n",
      "Valid: 100% 5664/5667 [00:08<00:00, 638.28 uttr/s, accuracy=0.32, loss=3.20]\n",
      "Train: 100% 2000/2000 [00:24<00:00, 81.75 step/s, accuracy=0.53, loss=1.86, step=4000]\n",
      "Valid: 100% 5664/5667 [00:01<00:00, 3155.25 uttr/s, accuracy=0.46, loss=2.49]\n",
      "Train: 100% 2000/2000 [00:24<00:00, 81.29 step/s, accuracy=0.50, loss=1.65, step=6000]\n",
      "Valid: 100% 5664/5667 [00:01<00:00, 3238.95 uttr/s, accuracy=0.54, loss=2.07]\n",
      "Train: 100% 2000/2000 [00:24<00:00, 80.30 step/s, accuracy=0.75, loss=0.91, step=8000]\n",
      "Valid: 100% 5664/5667 [00:01<00:00, 3330.80 uttr/s, accuracy=0.58, loss=1.91]\n",
      "Train: 100% 2000/2000 [00:24<00:00, 80.82 step/s, accuracy=0.62, loss=1.29, step=1e+4]\n",
      "Valid: 100% 5664/5667 [00:01<00:00, 3230.85 uttr/s, accuracy=0.60, loss=1.83]\n",
      "Train:   1% 16/2000 [00:00<00:25, 78.51 step/s]"
     ]
    },
    {
     "name": "stdout",
     "output_type": "stream",
     "text": [
      "Step 10000, best model saved. (accuracy=0.6036)\n"
     ]
    },
    {
     "name": "stderr",
     "output_type": "stream",
     "text": [
      "Train: 100% 2000/2000 [00:24<00:00, 81.03 step/s, accuracy=0.84, loss=0.73, step=12000]\n",
      "Valid: 100% 5664/5667 [00:01<00:00, 3153.18 uttr/s, accuracy=0.63, loss=1.70]\n",
      "Train: 100% 2000/2000 [00:24<00:00, 81.70 step/s, accuracy=0.59, loss=1.46, step=14000]\n",
      "Valid: 100% 5664/5667 [00:01<00:00, 3259.02 uttr/s, accuracy=0.65, loss=1.63]\n",
      "Train: 100% 2000/2000 [00:24<00:00, 80.24 step/s, accuracy=0.66, loss=1.07, step=16000]\n",
      "Valid: 100% 5664/5667 [00:01<00:00, 3094.97 uttr/s, accuracy=0.64, loss=1.66]\n",
      "Train: 100% 2000/2000 [00:24<00:00, 81.14 step/s, accuracy=0.78, loss=0.81, step=18000]\n",
      "Valid: 100% 5664/5667 [00:01<00:00, 3057.76 uttr/s, accuracy=0.67, loss=1.61]\n",
      "Train: 100% 2000/2000 [00:24<00:00, 81.74 step/s, accuracy=0.84, loss=0.58, step=2e+4]\n",
      "Valid: 100% 5664/5667 [00:01<00:00, 3173.64 uttr/s, accuracy=0.67, loss=1.63]\n",
      "Train:   1% 16/2000 [00:00<00:26, 74.86 step/s]"
     ]
    },
    {
     "name": "stdout",
     "output_type": "stream",
     "text": [
      "Step 20000, best model saved. (accuracy=0.6730)\n"
     ]
    },
    {
     "name": "stderr",
     "output_type": "stream",
     "text": [
      "Train: 100% 2000/2000 [00:24<00:00, 81.44 step/s, accuracy=0.88, loss=0.66, step=22000]\n",
      "Valid: 100% 5664/5667 [00:01<00:00, 3261.98 uttr/s, accuracy=0.66, loss=1.63]\n",
      "Train: 100% 2000/2000 [00:24<00:00, 81.01 step/s, accuracy=0.75, loss=0.63, step=24000]\n",
      "Valid: 100% 5664/5667 [00:01<00:00, 3306.69 uttr/s, accuracy=0.69, loss=1.52]\n",
      "Train: 100% 2000/2000 [00:24<00:00, 82.11 step/s, accuracy=0.78, loss=0.65, step=26000]\n",
      "Valid: 100% 5664/5667 [00:01<00:00, 3305.99 uttr/s, accuracy=0.67, loss=1.67]\n",
      "Train: 100% 2000/2000 [00:24<00:00, 81.14 step/s, accuracy=0.84, loss=0.61, step=28000]\n",
      "Valid: 100% 5664/5667 [00:01<00:00, 3271.99 uttr/s, accuracy=0.69, loss=1.53]\n",
      "Train: 100% 2000/2000 [00:24<00:00, 80.61 step/s, accuracy=0.75, loss=0.99, step=3e+4]\n",
      "Valid: 100% 5664/5667 [00:01<00:00, 3119.09 uttr/s, accuracy=0.70, loss=1.48]\n",
      "Train:   1% 16/2000 [00:00<00:26, 75.68 step/s]"
     ]
    },
    {
     "name": "stdout",
     "output_type": "stream",
     "text": [
      "Step 30000, best model saved. (accuracy=0.6990)\n"
     ]
    },
    {
     "name": "stderr",
     "output_type": "stream",
     "text": [
      "Train: 100% 2000/2000 [00:24<00:00, 80.63 step/s, accuracy=0.94, loss=0.48, step=32000]\n",
      "Valid: 100% 5664/5667 [00:01<00:00, 3144.40 uttr/s, accuracy=0.71, loss=1.60]\n",
      "Train: 100% 2000/2000 [00:24<00:00, 81.09 step/s, accuracy=0.91, loss=0.48, step=34000]\n",
      "Valid: 100% 5664/5667 [00:01<00:00, 3171.09 uttr/s, accuracy=0.71, loss=1.53]\n",
      "Train: 100% 2000/2000 [00:24<00:00, 81.14 step/s, accuracy=0.75, loss=0.72, step=36000]\n",
      "Valid: 100% 5664/5667 [00:01<00:00, 3216.44 uttr/s, accuracy=0.71, loss=1.48]\n",
      "Train: 100% 2000/2000 [00:24<00:00, 81.92 step/s, accuracy=0.81, loss=0.92, step=38000]\n",
      "Valid: 100% 5664/5667 [00:01<00:00, 3219.85 uttr/s, accuracy=0.71, loss=1.45]\n",
      "Train: 100% 2000/2000 [00:25<00:00, 77.99 step/s, accuracy=0.94, loss=0.26, step=4e+4]\n",
      "Valid: 100% 5664/5667 [00:01<00:00, 3223.66 uttr/s, accuracy=0.72, loss=1.56]\n",
      "Train:   1% 16/2000 [00:00<00:25, 76.61 step/s]"
     ]
    },
    {
     "name": "stdout",
     "output_type": "stream",
     "text": [
      "Step 40000, best model saved. (accuracy=0.7242)\n"
     ]
    },
    {
     "name": "stderr",
     "output_type": "stream",
     "text": [
      "Train: 100% 2000/2000 [00:25<00:00, 79.33 step/s, accuracy=0.81, loss=0.80, step=42000]\n",
      "Valid: 100% 5664/5667 [00:01<00:00, 3216.22 uttr/s, accuracy=0.72, loss=1.57]\n",
      "Train: 100% 2000/2000 [00:25<00:00, 77.80 step/s, accuracy=0.78, loss=0.55, step=44000]\n",
      "Valid: 100% 5664/5667 [00:01<00:00, 3313.79 uttr/s, accuracy=0.72, loss=1.51]\n",
      "Train: 100% 2000/2000 [00:25<00:00, 79.97 step/s, accuracy=0.75, loss=0.69, step=46000]\n",
      "Valid: 100% 5664/5667 [00:01<00:00, 2979.81 uttr/s, accuracy=0.72, loss=1.48]\n",
      "Train: 100% 2000/2000 [00:25<00:00, 79.00 step/s, accuracy=0.84, loss=0.37, step=48000]\n",
      "Valid: 100% 5664/5667 [00:01<00:00, 3240.50 uttr/s, accuracy=0.72, loss=1.55]\n",
      "Train: 100% 2000/2000 [00:25<00:00, 78.15 step/s, accuracy=0.78, loss=0.49, step=5e+4]\n",
      "Valid: 100% 5664/5667 [00:01<00:00, 3271.60 uttr/s, accuracy=0.71, loss=1.64]\n",
      "Train:   1% 16/2000 [00:00<00:26, 75.35 step/s]"
     ]
    },
    {
     "name": "stdout",
     "output_type": "stream",
     "text": [
      "Step 50000, best model saved. (accuracy=0.7242)\n"
     ]
    },
    {
     "name": "stderr",
     "output_type": "stream",
     "text": [
      "Train: 100% 2000/2000 [00:24<00:00, 80.16 step/s, accuracy=0.88, loss=0.54, step=52000]\n",
      "Valid: 100% 5664/5667 [00:02<00:00, 2291.08 uttr/s, accuracy=0.73, loss=1.48]\n",
      "Train: 100% 2000/2000 [00:24<00:00, 80.03 step/s, accuracy=0.78, loss=1.00, step=54000]\n",
      "Valid: 100% 5664/5667 [00:02<00:00, 2387.51 uttr/s, accuracy=0.74, loss=1.53]\n",
      "Train: 100% 2000/2000 [00:26<00:00, 76.74 step/s, accuracy=1.00, loss=0.12, step=56000]\n",
      "Valid: 100% 5664/5667 [00:02<00:00, 2288.42 uttr/s, accuracy=0.72, loss=1.59]\n",
      "Train: 100% 2000/2000 [00:26<00:00, 76.89 step/s, accuracy=0.81, loss=0.66, step=58000]\n",
      "Valid: 100% 5664/5667 [00:02<00:00, 2229.91 uttr/s, accuracy=0.75, loss=1.44]\n",
      "Train: 100% 2000/2000 [00:25<00:00, 78.31 step/s, accuracy=0.78, loss=0.58, step=6e+4]\n",
      "Valid: 100% 5664/5667 [00:01<00:00, 3186.40 uttr/s, accuracy=0.74, loss=1.45]\n",
      "Train:   1% 16/2000 [00:00<00:26, 76.27 step/s]"
     ]
    },
    {
     "name": "stdout",
     "output_type": "stream",
     "text": [
      "Step 60000, best model saved. (accuracy=0.7461)\n"
     ]
    },
    {
     "name": "stderr",
     "output_type": "stream",
     "text": [
      "Train: 100% 2000/2000 [00:24<00:00, 80.96 step/s, accuracy=0.88, loss=0.30, step=62000]\n",
      "Valid: 100% 5664/5667 [00:01<00:00, 3134.06 uttr/s, accuracy=0.74, loss=1.44]\n",
      "Train: 100% 2000/2000 [00:25<00:00, 79.16 step/s, accuracy=0.91, loss=0.52, step=64000]\n",
      "Valid: 100% 5664/5667 [00:01<00:00, 3271.60 uttr/s, accuracy=0.74, loss=1.53]\n",
      "Train: 100% 2000/2000 [00:24<00:00, 81.85 step/s, accuracy=0.97, loss=0.15, step=66000]\n",
      "Valid: 100% 5664/5667 [00:01<00:00, 3215.53 uttr/s, accuracy=0.75, loss=1.42]\n",
      "Train: 100% 2000/2000 [00:24<00:00, 81.61 step/s, accuracy=1.00, loss=0.10, step=68000]\n",
      "Valid: 100% 5664/5667 [00:01<00:00, 3214.23 uttr/s, accuracy=0.75, loss=1.43]\n",
      "Train: 100% 2000/2000 [00:24<00:00, 81.23 step/s, accuracy=0.91, loss=0.37, step=7e+4]\n",
      "Valid: 100% 5664/5667 [00:01<00:00, 3125.58 uttr/s, accuracy=0.73, loss=1.57]\n",
      "Train:   1% 16/2000 [00:00<00:25, 76.92 step/s]"
     ]
    },
    {
     "name": "stdout",
     "output_type": "stream",
     "text": [
      "Step 70000, best model saved. (accuracy=0.7491)\n"
     ]
    },
    {
     "name": "stderr",
     "output_type": "stream",
     "text": [
      "Train: 100% 2000/2000 [00:24<00:00, 80.40 step/s, accuracy=0.88, loss=0.31, step=72000]\n",
      "Valid: 100% 5664/5667 [00:01<00:00, 3217.59 uttr/s, accuracy=0.75, loss=1.49]\n",
      "Train: 100% 2000/2000 [00:24<00:00, 81.65 step/s, accuracy=0.94, loss=0.27, step=74000]\n",
      "Valid: 100% 5664/5667 [00:01<00:00, 3208.68 uttr/s, accuracy=0.75, loss=1.48]\n",
      "Train: 100% 2000/2000 [00:24<00:00, 81.06 step/s, accuracy=0.75, loss=0.55, step=76000]\n",
      "Valid: 100% 5664/5667 [00:01<00:00, 3181.89 uttr/s, accuracy=0.72, loss=1.71]\n",
      "Train: 100% 2000/2000 [00:24<00:00, 81.77 step/s, accuracy=0.91, loss=0.42, step=78000]\n",
      "Valid: 100% 5664/5667 [00:01<00:00, 3227.09 uttr/s, accuracy=0.75, loss=1.39]\n",
      "Train: 100% 2000/2000 [00:25<00:00, 79.75 step/s, accuracy=0.97, loss=0.13, step=8e+4]\n",
      "Valid: 100% 5664/5667 [00:01<00:00, 3329.10 uttr/s, accuracy=0.75, loss=1.54]\n",
      "Train:   1% 16/2000 [00:00<00:25, 77.41 step/s]"
     ]
    },
    {
     "name": "stdout",
     "output_type": "stream",
     "text": [
      "Step 80000, best model saved. (accuracy=0.7539)\n"
     ]
    },
    {
     "name": "stderr",
     "output_type": "stream",
     "text": [
      "Train: 100% 2000/2000 [00:24<00:00, 81.06 step/s, accuracy=0.88, loss=0.36, step=82000]\n",
      "Valid: 100% 5664/5667 [00:01<00:00, 3223.09 uttr/s, accuracy=0.76, loss=1.38]\n",
      "Train: 100% 2000/2000 [00:24<00:00, 81.08 step/s, accuracy=0.94, loss=0.20, step=84000]\n",
      "Valid: 100% 5664/5667 [00:01<00:00, 2924.69 uttr/s, accuracy=0.75, loss=1.59]\n",
      "Train: 100% 2000/2000 [00:24<00:00, 81.31 step/s, accuracy=0.88, loss=0.40, step=86000]\n",
      "Valid: 100% 5664/5667 [00:01<00:00, 3288.37 uttr/s, accuracy=0.69, loss=2.02]\n",
      "Train: 100% 2000/2000 [00:25<00:00, 80.00 step/s, accuracy=0.94, loss=0.19, step=88000]\n",
      "Valid: 100% 5664/5667 [00:01<00:00, 3170.77 uttr/s, accuracy=0.77, loss=1.39]\n",
      "Train: 100% 2000/2000 [00:24<00:00, 81.35 step/s, accuracy=0.97, loss=0.13, step=9e+4]\n",
      "Valid: 100% 5664/5667 [00:01<00:00, 2860.06 uttr/s, accuracy=0.75, loss=1.51]\n",
      "Train:   1% 14/2000 [00:00<00:28, 68.64 step/s]"
     ]
    },
    {
     "name": "stdout",
     "output_type": "stream",
     "text": [
      "Step 90000, best model saved. (accuracy=0.7740)\n"
     ]
    },
    {
     "name": "stderr",
     "output_type": "stream",
     "text": [
      "Train: 100% 2000/2000 [00:24<00:00, 81.11 step/s, accuracy=0.94, loss=0.17, step=92000]\n",
      "Valid: 100% 5664/5667 [00:01<00:00, 3078.54 uttr/s, accuracy=0.76, loss=1.45]\n",
      "Train: 100% 2000/2000 [00:25<00:00, 79.93 step/s, accuracy=0.94, loss=0.22, step=94000]\n",
      "Valid: 100% 5664/5667 [00:01<00:00, 3254.34 uttr/s, accuracy=0.77, loss=1.55]\n",
      "Train: 100% 2000/2000 [00:24<00:00, 81.73 step/s, accuracy=0.97, loss=0.10, step=96000]\n",
      "Valid: 100% 5664/5667 [00:01<00:00, 3117.44 uttr/s, accuracy=0.77, loss=1.45]\n",
      "Train: 100% 2000/2000 [00:24<00:00, 80.68 step/s, accuracy=1.00, loss=0.06, step=98000]\n",
      "Valid: 100% 5664/5667 [00:01<00:00, 3260.82 uttr/s, accuracy=0.78, loss=1.35]\n",
      "Train: 100% 2000/2000 [00:24<00:00, 81.21 step/s, accuracy=1.00, loss=0.08, step=1e+5]\n",
      "Valid: 100% 5664/5667 [00:01<00:00, 3256.33 uttr/s, accuracy=0.78, loss=1.42]\n",
      "Train:   1% 16/2000 [00:00<00:25, 77.54 step/s]"
     ]
    },
    {
     "name": "stdout",
     "output_type": "stream",
     "text": [
      "Step 100000, best model saved. (accuracy=0.7784)\n"
     ]
    },
    {
     "name": "stderr",
     "output_type": "stream",
     "text": [
      "Train: 100% 2000/2000 [00:24<00:00, 80.44 step/s, accuracy=0.94, loss=0.13, step=102000]\n",
      "Valid: 100% 5664/5667 [00:02<00:00, 2736.85 uttr/s, accuracy=0.78, loss=1.46]\n",
      "Train: 100% 2000/2000 [00:24<00:00, 81.50 step/s, accuracy=0.94, loss=0.30, step=104000]\n",
      "Valid: 100% 5664/5667 [00:01<00:00, 3220.90 uttr/s, accuracy=0.78, loss=1.48]\n",
      "Train: 100% 2000/2000 [00:24<00:00, 81.24 step/s, accuracy=0.94, loss=0.10, step=106000]\n",
      "Valid: 100% 5664/5667 [00:01<00:00, 3200.38 uttr/s, accuracy=0.79, loss=1.37]\n",
      "Train: 100% 2000/2000 [00:24<00:00, 80.77 step/s, accuracy=0.97, loss=0.09, step=108000]\n",
      "Valid: 100% 5664/5667 [00:01<00:00, 3299.70 uttr/s, accuracy=0.79, loss=1.39]\n",
      "Train: 100% 2000/2000 [00:24<00:00, 80.28 step/s, accuracy=0.94, loss=0.22, step=110000]\n",
      "Valid: 100% 5664/5667 [00:01<00:00, 3068.86 uttr/s, accuracy=0.79, loss=1.40]\n",
      "Train:   1% 15/2000 [00:00<00:26, 74.13 step/s]"
     ]
    },
    {
     "name": "stdout",
     "output_type": "stream",
     "text": [
      "Step 110000, best model saved. (accuracy=0.7899)\n"
     ]
    },
    {
     "name": "stderr",
     "output_type": "stream",
     "text": [
      "Train: 100% 2000/2000 [00:24<00:00, 80.39 step/s, accuracy=0.94, loss=0.22, step=112000]\n",
      "Valid: 100% 5664/5667 [00:01<00:00, 3289.59 uttr/s, accuracy=0.79, loss=1.38]\n",
      "Train: 100% 2000/2000 [00:24<00:00, 80.85 step/s, accuracy=0.94, loss=0.23, step=114000]\n",
      "Valid: 100% 5664/5667 [00:01<00:00, 3116.43 uttr/s, accuracy=0.78, loss=1.46]\n",
      "Train: 100% 2000/2000 [00:24<00:00, 81.97 step/s, accuracy=0.91, loss=0.39, step=116000]\n",
      "Valid: 100% 5664/5667 [00:01<00:00, 3194.10 uttr/s, accuracy=0.79, loss=1.37]\n",
      "Train: 100% 2000/2000 [00:25<00:00, 79.46 step/s, accuracy=0.97, loss=0.24, step=118000]\n",
      "Valid: 100% 5664/5667 [00:01<00:00, 3230.36 uttr/s, accuracy=0.79, loss=1.39]\n",
      "Train: 100% 2000/2000 [00:24<00:00, 80.36 step/s, accuracy=1.00, loss=0.09, step=120000]\n",
      "Valid: 100% 5664/5667 [00:01<00:00, 3223.94 uttr/s, accuracy=0.79, loss=1.41]\n",
      "Train:   1% 16/2000 [00:00<00:25, 76.98 step/s]"
     ]
    },
    {
     "name": "stdout",
     "output_type": "stream",
     "text": [
      "Step 120000, best model saved. (accuracy=0.7940)\n"
     ]
    },
    {
     "name": "stderr",
     "output_type": "stream",
     "text": [
      "Train: 100% 2000/2000 [00:24<00:00, 80.59 step/s, accuracy=0.94, loss=0.18, step=122000]\n",
      "Valid: 100% 5664/5667 [00:01<00:00, 3223.86 uttr/s, accuracy=0.79, loss=1.34]\n",
      "Train: 100% 2000/2000 [00:24<00:00, 80.98 step/s, accuracy=1.00, loss=0.01, step=124000]\n",
      "Valid: 100% 5664/5667 [00:01<00:00, 2892.25 uttr/s, accuracy=0.80, loss=1.42]\n",
      "Train: 100% 2000/2000 [00:24<00:00, 80.69 step/s, accuracy=0.97, loss=0.17, step=126000]\n",
      "Valid: 100% 5664/5667 [00:01<00:00, 3228.88 uttr/s, accuracy=0.80, loss=1.44]\n",
      "Train: 100% 2000/2000 [00:24<00:00, 81.36 step/s, accuracy=0.97, loss=0.09, step=128000]\n",
      "Valid: 100% 5664/5667 [00:01<00:00, 3166.57 uttr/s, accuracy=0.80, loss=1.42]\n",
      "Train: 100% 2000/2000 [00:24<00:00, 80.24 step/s, accuracy=0.94, loss=0.12, step=130000]\n",
      "Valid: 100% 5664/5667 [00:01<00:00, 3208.79 uttr/s, accuracy=0.81, loss=1.38]\n",
      "Train:   1% 15/2000 [00:00<00:26, 73.97 step/s]"
     ]
    },
    {
     "name": "stdout",
     "output_type": "stream",
     "text": [
      "Step 130000, best model saved. (accuracy=0.8058)\n"
     ]
    },
    {
     "name": "stderr",
     "output_type": "stream",
     "text": [
      "Train: 100% 2000/2000 [00:24<00:00, 80.58 step/s, accuracy=0.94, loss=0.21, step=132000]\n",
      "Valid: 100% 5664/5667 [00:01<00:00, 3279.17 uttr/s, accuracy=0.81, loss=1.38]\n",
      "Train: 100% 2000/2000 [00:24<00:00, 80.37 step/s, accuracy=0.94, loss=0.13, step=134000]\n",
      "Valid: 100% 5664/5667 [00:02<00:00, 2732.45 uttr/s, accuracy=0.81, loss=1.36]\n",
      "Train: 100% 2000/2000 [00:24<00:00, 81.29 step/s, accuracy=0.97, loss=0.06, step=136000]\n",
      "Valid: 100% 5664/5667 [00:01<00:00, 3267.68 uttr/s, accuracy=0.81, loss=1.39]\n",
      "Train: 100% 2000/2000 [00:24<00:00, 80.56 step/s, accuracy=1.00, loss=0.06, step=138000]\n",
      "Valid: 100% 5664/5667 [00:01<00:00, 3319.13 uttr/s, accuracy=0.81, loss=1.36]\n",
      "Train: 100% 2000/2000 [00:24<00:00, 81.38 step/s, accuracy=0.94, loss=0.15, step=140000]\n",
      "Valid: 100% 5664/5667 [00:01<00:00, 3337.65 uttr/s, accuracy=0.81, loss=1.37]\n",
      "Train:   1% 15/2000 [00:00<00:28, 69.71 step/s]"
     ]
    },
    {
     "name": "stdout",
     "output_type": "stream",
     "text": [
      "Step 140000, best model saved. (accuracy=0.8150)\n"
     ]
    },
    {
     "name": "stderr",
     "output_type": "stream",
     "text": [
      "Train: 100% 2000/2000 [00:25<00:00, 79.49 step/s, accuracy=0.94, loss=0.14, step=142000]\n",
      "Valid: 100% 5664/5667 [00:01<00:00, 3029.91 uttr/s, accuracy=0.82, loss=1.32]\n",
      "Train: 100% 2000/2000 [00:24<00:00, 81.67 step/s, accuracy=1.00, loss=0.05, step=144000]\n",
      "Valid: 100% 5664/5667 [00:01<00:00, 3332.61 uttr/s, accuracy=0.80, loss=1.46]\n",
      "Train: 100% 2000/2000 [00:24<00:00, 80.93 step/s, accuracy=0.97, loss=0.11, step=146000]\n",
      "Valid: 100% 5664/5667 [00:01<00:00, 3278.23 uttr/s, accuracy=0.81, loss=1.39]\n",
      "Train: 100% 2000/2000 [00:24<00:00, 80.49 step/s, accuracy=0.94, loss=0.26, step=148000]\n",
      "Valid: 100% 5664/5667 [00:01<00:00, 3226.51 uttr/s, accuracy=0.82, loss=1.36]\n",
      "Train: 100% 2000/2000 [00:25<00:00, 79.78 step/s, accuracy=0.94, loss=0.10, step=150000]\n",
      "Valid: 100% 5664/5667 [00:01<00:00, 3307.31 uttr/s, accuracy=0.81, loss=1.41]\n",
      "Train:   1% 16/2000 [00:00<00:25, 76.97 step/s]"
     ]
    },
    {
     "name": "stdout",
     "output_type": "stream",
     "text": [
      "Step 150000, best model saved. (accuracy=0.8162)\n"
     ]
    },
    {
     "name": "stderr",
     "output_type": "stream",
     "text": [
      "Train: 100% 2000/2000 [00:24<00:00, 81.93 step/s, accuracy=1.00, loss=0.02, step=152000]\n",
      "Valid: 100% 5664/5667 [00:02<00:00, 2811.64 uttr/s, accuracy=0.82, loss=1.32]\n",
      "Train: 100% 2000/2000 [00:24<00:00, 81.01 step/s, accuracy=0.97, loss=0.05, step=154000]\n",
      "Valid: 100% 5664/5667 [00:01<00:00, 3204.73 uttr/s, accuracy=0.81, loss=1.35]\n",
      "Train: 100% 2000/2000 [00:24<00:00, 80.37 step/s, accuracy=1.00, loss=0.02, step=156000]\n",
      "Valid: 100% 5664/5667 [00:01<00:00, 3291.83 uttr/s, accuracy=0.82, loss=1.32]\n",
      "Train: 100% 2000/2000 [00:25<00:00, 79.73 step/s, accuracy=0.97, loss=0.06, step=158000]\n",
      "Valid: 100% 5664/5667 [00:01<00:00, 3165.06 uttr/s, accuracy=0.82, loss=1.34]\n",
      "Train: 100% 2000/2000 [00:24<00:00, 80.74 step/s, accuracy=0.97, loss=0.06, step=160000]\n",
      "Valid: 100% 5664/5667 [00:01<00:00, 2849.86 uttr/s, accuracy=0.82, loss=1.37]\n",
      "Train:   1% 15/2000 [00:00<00:27, 72.38 step/s]"
     ]
    },
    {
     "name": "stdout",
     "output_type": "stream",
     "text": [
      "Step 160000, best model saved. (accuracy=0.8215)\n"
     ]
    },
    {
     "name": "stderr",
     "output_type": "stream",
     "text": [
      "Train: 100% 2000/2000 [00:24<00:00, 81.27 step/s, accuracy=0.97, loss=0.12, step=162000]\n",
      "Valid: 100% 5664/5667 [00:01<00:00, 3279.30 uttr/s, accuracy=0.81, loss=1.39]\n",
      "Train: 100% 2000/2000 [00:24<00:00, 80.78 step/s, accuracy=0.97, loss=0.08, step=164000]\n",
      "Valid: 100% 5664/5667 [00:02<00:00, 2662.27 uttr/s, accuracy=0.83, loss=1.30]\n",
      "Train: 100% 2000/2000 [00:25<00:00, 79.97 step/s, accuracy=1.00, loss=0.02, step=166000]\n",
      "Valid: 100% 5664/5667 [00:01<00:00, 3279.92 uttr/s, accuracy=0.83, loss=1.36]\n",
      "Train: 100% 2000/2000 [00:24<00:00, 80.39 step/s, accuracy=1.00, loss=0.02, step=168000]\n",
      "Valid: 100% 5664/5667 [00:01<00:00, 3242.03 uttr/s, accuracy=0.83, loss=1.29]\n",
      "Train: 100% 2000/2000 [00:24<00:00, 81.48 step/s, accuracy=1.00, loss=0.02, step=170000]\n",
      "Valid: 100% 5664/5667 [00:01<00:00, 3275.82 uttr/s, accuracy=0.83, loss=1.33]\n",
      "Train:   1% 16/2000 [00:00<00:25, 77.37 step/s]"
     ]
    },
    {
     "name": "stdout",
     "output_type": "stream",
     "text": [
      "Step 170000, best model saved. (accuracy=0.8291)\n"
     ]
    },
    {
     "name": "stderr",
     "output_type": "stream",
     "text": [
      "Train: 100% 2000/2000 [00:24<00:00, 80.37 step/s, accuracy=1.00, loss=0.01, step=172000]\n",
      "Valid: 100% 5664/5667 [00:01<00:00, 3219.48 uttr/s, accuracy=0.83, loss=1.32]\n",
      "Train: 100% 2000/2000 [00:25<00:00, 79.19 step/s, accuracy=1.00, loss=0.04, step=174000]\n",
      "Valid: 100% 5664/5667 [00:01<00:00, 3197.48 uttr/s, accuracy=0.82, loss=1.37]\n",
      "Train: 100% 2000/2000 [00:25<00:00, 79.85 step/s, accuracy=0.94, loss=0.13, step=176000]\n",
      "Valid: 100% 5664/5667 [00:01<00:00, 3228.57 uttr/s, accuracy=0.83, loss=1.35]\n",
      "Train: 100% 2000/2000 [00:24<00:00, 82.05 step/s, accuracy=1.00, loss=0.02, step=178000]\n",
      "Valid: 100% 5664/5667 [00:01<00:00, 3186.87 uttr/s, accuracy=0.83, loss=1.28]\n",
      "Train: 100% 2000/2000 [00:25<00:00, 79.54 step/s, accuracy=1.00, loss=0.01, step=180000]\n",
      "Valid: 100% 5664/5667 [00:01<00:00, 3330.78 uttr/s, accuracy=0.83, loss=1.37]\n",
      "Train:   0% 7/2000 [00:00<00:29, 68.26 step/s]"
     ]
    },
    {
     "name": "stdout",
     "output_type": "stream",
     "text": [
      "Step 180000, best model saved. (accuracy=0.8328)\n"
     ]
    },
    {
     "name": "stderr",
     "output_type": "stream",
     "text": [
      "Train: 100% 2000/2000 [00:25<00:00, 79.38 step/s, accuracy=1.00, loss=0.00, step=182000]\n",
      "Valid: 100% 5664/5667 [00:01<00:00, 3167.88 uttr/s, accuracy=0.83, loss=1.31]\n",
      "Train: 100% 2000/2000 [00:24<00:00, 80.12 step/s, accuracy=0.94, loss=0.25, step=184000]\n",
      "Valid: 100% 5664/5667 [00:01<00:00, 3149.05 uttr/s, accuracy=0.83, loss=1.34]\n",
      "Train: 100% 2000/2000 [00:24<00:00, 81.76 step/s, accuracy=0.94, loss=0.23, step=186000]\n",
      "Valid: 100% 5664/5667 [00:01<00:00, 3094.93 uttr/s, accuracy=0.82, loss=1.32]\n",
      "Train: 100% 2000/2000 [00:25<00:00, 79.45 step/s, accuracy=1.00, loss=0.00, step=188000]\n",
      "Valid: 100% 5664/5667 [00:01<00:00, 3184.24 uttr/s, accuracy=0.83, loss=1.33]\n",
      "Train: 100% 2000/2000 [00:24<00:00, 80.74 step/s, accuracy=1.00, loss=0.00, step=190000]\n",
      "Valid: 100% 5664/5667 [00:01<00:00, 3240.42 uttr/s, accuracy=0.83, loss=1.34]\n",
      "Train:   1% 15/2000 [00:00<00:27, 71.85 step/s]"
     ]
    },
    {
     "name": "stdout",
     "output_type": "stream",
     "text": [
      "Step 190000, best model saved. (accuracy=0.8328)\n"
     ]
    },
    {
     "name": "stderr",
     "output_type": "stream",
     "text": [
      "Train: 100% 2000/2000 [00:25<00:00, 79.77 step/s, accuracy=0.97, loss=0.11, step=192000]\n",
      "Valid: 100% 5664/5667 [00:01<00:00, 3304.75 uttr/s, accuracy=0.82, loss=1.37]\n",
      "Train: 100% 2000/2000 [00:24<00:00, 81.52 step/s, accuracy=1.00, loss=0.01, step=194000]\n",
      "Valid: 100% 5664/5667 [00:01<00:00, 3164.52 uttr/s, accuracy=0.84, loss=1.36]\n",
      "Train: 100% 2000/2000 [00:25<00:00, 79.44 step/s, accuracy=1.00, loss=0.05, step=196000]\n",
      "Valid: 100% 5664/5667 [00:01<00:00, 3100.71 uttr/s, accuracy=0.83, loss=1.31]\n",
      "Train: 100% 2000/2000 [00:24<00:00, 80.27 step/s, accuracy=0.94, loss=0.19, step=198000]\n",
      "Valid: 100% 5664/5667 [00:01<00:00, 3328.70 uttr/s, accuracy=0.83, loss=1.33]\n",
      "Train: 100% 2000/2000 [00:24<00:00, 80.14 step/s, accuracy=1.00, loss=0.03, step=2e+5]\n",
      "Valid: 100% 5664/5667 [00:01<00:00, 3160.39 uttr/s, accuracy=0.83, loss=1.36]\n",
      "Train:   0% 0/2000 [00:00<?, ? step/s]\n"
     ]
    },
    {
     "name": "stdout",
     "output_type": "stream",
     "text": [
      "Step 200000, best model saved. (accuracy=0.8365)\n"
     ]
    }
   ],
   "source": [
    "import torch\n",
    "import torch.nn as nn\n",
    "from torch.optim import AdamW\n",
    "from torch.utils.data import DataLoader, random_split\n",
    "from tqdm import tqdm\n",
    "\n",
    "def parse_args():\n",
    "    \"\"\"arguments\"\"\"\n",
    "    config = {\n",
    "        \"data_dir\": \"/kaggle/input/ml2022spring-hw4/Dataset\",\n",
    "        \"save_path\": \"model.ckpt\",\n",
    "        \"batch_size\": 32,\n",
    "        \"n_workers\": 8,\n",
    "        \"valid_steps\": 2000,\n",
    "        # fix warmup_steps\n",
    "        \"warmup_steps\": 1000,\n",
    "        \"save_steps\": 10000,\n",
    "        \"total_steps\": 200000,\n",
    "        \"resume\":False,\n",
    "    }\n",
    "    return config\n",
    "\n",
    "def main(\n",
    "    data_dir,\n",
    "    save_path,\n",
    "    batch_size,\n",
    "    n_workers,\n",
    "    valid_steps,\n",
    "    warmup_steps,\n",
    "    total_steps,\n",
    "    save_steps,\n",
    "    resume,\n",
    "):\n",
    "    \"\"\"Main function.\"\"\"\n",
    "    device = torch.device(\"cuda\" if torch.cuda.is_available() else \"cpu\")\n",
    "    print(f\"[Info]: Use {device} now!\")\n",
    "\n",
    "    train_loader, valid_loader, speaker_num = get_dataloader(data_dir, batch_size, n_workers)\n",
    "    train_iterator = iter(train_loader)\n",
    "    print(f\"[Info]: Finish loading data!\", flush=True)\n",
    "\n",
    "    model = Classifier(n_spks=speaker_num).to(device)\n",
    "    if resume:\n",
    "        model.load_state_dict(torch.load(\"/kaggle/input/model-file/model.ckpt\"))\n",
    "    criterion = nn.CrossEntropyLoss()\n",
    "    optimizer = AdamW(model.parameters(), lr=1e-3)\n",
    "    scheduler = get_cosine_schedule_with_warmup(optimizer, warmup_steps, total_steps)\n",
    "    print(f\"[Info]: Finish creating model!\", flush=True)\n",
    "\n",
    "    best_accuracy = -1.0\n",
    "    best_state_dict = None\n",
    "\n",
    "    pbar = tqdm(total=valid_steps, ncols=0, desc=\"Train\", unit=\" step\")\n",
    "\n",
    "    for step in range(total_steps):\n",
    "        # Get data\n",
    "        try:\n",
    "            batch = next(train_iterator)\n",
    "        except StopIteration:\n",
    "            train_iterator = iter(train_loader)\n",
    "            batch = next(train_iterator)\n",
    "\n",
    "        loss, accuracy = model_fn(batch, model, criterion, device)\n",
    "        batch_loss = loss.item()\n",
    "        batch_accuracy = accuracy.item()\n",
    "\n",
    "        # Updata model\n",
    "        loss.backward()\n",
    "        optimizer.step()\n",
    "        scheduler.step()\n",
    "        optimizer.zero_grad()\n",
    "\n",
    "        # Log\n",
    "        pbar.update()\n",
    "\n",
    "        if((step+1)%500==0):\n",
    "            pbar.set_postfix(\n",
    "                loss=f\"{batch_loss:.2f}\",\n",
    "                accuracy=f\"{batch_accuracy:.2f}\",\n",
    "                step=step + 1,\n",
    "            )            \n",
    "\n",
    "        # Do validation\n",
    "        if (step + 1) % valid_steps == 0:\n",
    "            pbar.close()\n",
    "\n",
    "            valid_accuracy = valid(valid_loader, model, criterion, device)\n",
    "\n",
    "            # keep the best model\n",
    "            if valid_accuracy > best_accuracy:\n",
    "                best_accuracy = valid_accuracy\n",
    "                best_state_dict = model.state_dict()\n",
    "\n",
    "            pbar = tqdm(total=valid_steps, ncols=0, desc=\"Train\", unit=\" step\")\n",
    "\n",
    "        # Save the best model so far.\n",
    "        if (step + 1) % save_steps == 0 and best_state_dict is not None:\n",
    "            torch.save(best_state_dict, save_path)\n",
    "            pbar.write(f\"Step {step + 1}, best model saved. (accuracy={best_accuracy:.4f})\")\n",
    "\n",
    "    pbar.close()\n",
    "\n",
    "if __name__ == \"__main__\":\n",
    "    main(**parse_args())\n"
   ]
  },
  {
   "cell_type": "markdown",
   "id": "9772a87b",
   "metadata": {
    "id": "NLatBYAhNNMx",
    "papermill": {
     "duration": 3.422923,
     "end_time": "2024-04-30T05:22:02.821811",
     "exception": false,
     "start_time": "2024-04-30T05:21:59.398888",
     "status": "completed"
    },
    "tags": []
   },
   "source": [
    "# Inference\n",
    "\n",
    "## Dataset of inference"
   ]
  },
  {
   "cell_type": "code",
   "execution_count": 10,
   "id": "e1a35073",
   "metadata": {
    "execution": {
     "iopub.execute_input": "2024-04-30T05:22:09.793356Z",
     "iopub.status.busy": "2024-04-30T05:22:09.792325Z",
     "iopub.status.idle": "2024-04-30T05:22:09.801248Z",
     "shell.execute_reply": "2024-04-30T05:22:09.800305Z"
    },
    "id": "efS4pCmAJXJH",
    "papermill": {
     "duration": 3.521032,
     "end_time": "2024-04-30T05:22:09.803021",
     "exception": false,
     "start_time": "2024-04-30T05:22:06.281989",
     "status": "completed"
    },
    "tags": []
   },
   "outputs": [],
   "source": [
    "import os\n",
    "import json\n",
    "import torch\n",
    "from pathlib import Path\n",
    "from torch.utils.data import Dataset\n",
    "\n",
    "\n",
    "class InferenceDataset(Dataset):\n",
    "\tdef __init__(self, data_dir):\n",
    "\t\ttestdata_path = Path(data_dir) / \"testdata.json\"\n",
    "\t\tmetadata = json.load(testdata_path.open())\n",
    "\t\tself.data_dir = data_dir\n",
    "\t\tself.data = metadata[\"utterances\"]\n",
    "\n",
    "\tdef __len__(self):\n",
    "\t\treturn len(self.data)\n",
    "\n",
    "\tdef __getitem__(self, index):\n",
    "\t\tutterance = self.data[index]\n",
    "\t\tfeat_path = utterance[\"feature_path\"]\n",
    "\t\tmel = torch.load(os.path.join(self.data_dir, feat_path))\n",
    "\n",
    "\t\treturn feat_path, mel\n",
    "\n",
    "\n",
    "def inference_collate_batch(batch):\n",
    "\t\"\"\"Collate a batch of data.\"\"\"\n",
    "\tfeat_paths, mels = zip(*batch)\n",
    "\n",
    "\treturn feat_paths, torch.stack(mels)"
   ]
  },
  {
   "cell_type": "markdown",
   "id": "119a578e",
   "metadata": {
    "id": "tl0WnYwxNK_S",
    "papermill": {
     "duration": 3.473327,
     "end_time": "2024-04-30T05:22:16.718166",
     "exception": false,
     "start_time": "2024-04-30T05:22:13.244839",
     "status": "completed"
    },
    "tags": []
   },
   "source": [
    "## Main funcrion of Inference"
   ]
  },
  {
   "cell_type": "code",
   "execution_count": 11,
   "id": "1de4f63d",
   "metadata": {
    "execution": {
     "iopub.execute_input": "2024-04-30T05:22:23.726131Z",
     "iopub.status.busy": "2024-04-30T05:22:23.725650Z",
     "iopub.status.idle": "2024-04-30T05:22:43.929885Z",
     "shell.execute_reply": "2024-04-30T05:22:43.929025Z"
    },
    "id": "i8SAbuXEJb2A",
    "papermill": {
     "duration": 23.696187,
     "end_time": "2024-04-30T05:22:43.931919",
     "exception": false,
     "start_time": "2024-04-30T05:22:20.235732",
     "status": "completed"
    },
    "tags": []
   },
   "outputs": [
    {
     "name": "stdout",
     "output_type": "stream",
     "text": [
      "[Info]: Use cuda now!\n",
      "[Info]: Finish loading data!\n",
      "[Info]: Finish creating model!\n"
     ]
    },
    {
     "data": {
      "application/vnd.jupyter.widget-view+json": {
       "model_id": "d913ec054eec47b0b4a8ebd7563b4442",
       "version_major": 2,
       "version_minor": 0
      },
      "text/plain": [
       "  0%|          | 0/8000 [00:00<?, ?it/s]"
      ]
     },
     "metadata": {},
     "output_type": "display_data"
    }
   ],
   "source": [
    "import json\n",
    "import csv\n",
    "from pathlib import Path\n",
    "from tqdm.notebook import tqdm\n",
    "\n",
    "import torch\n",
    "from torch.utils.data import DataLoader\n",
    "\n",
    "def parse_args():\n",
    "\t\"\"\"arguments\"\"\"\n",
    "\tconfig = {\n",
    "\t\t\"data_dir\": \"/kaggle/input/ml2022spring-hw4/Dataset\",\n",
    "\t\t\"model_path\": \"./model.ckpt\",\n",
    "\t\t\"output_path\": \"./output.csv\",\n",
    "\t}\n",
    "\n",
    "\treturn config\n",
    "\n",
    "\n",
    "def main(\n",
    "\tdata_dir,\n",
    "\tmodel_path,\n",
    "\toutput_path,\n",
    "):\n",
    "\t\"\"\"Main function.\"\"\"\n",
    "\tdevice = torch.device(\"cuda\" if torch.cuda.is_available() else \"cpu\")\n",
    "\tprint(f\"[Info]: Use {device} now!\")\n",
    "\n",
    "\tmapping_path = Path(data_dir) / \"mapping.json\"\n",
    "\tmapping = json.load(mapping_path.open())\n",
    "\n",
    "\tdataset = InferenceDataset(data_dir)\n",
    "\tdataloader = DataLoader(\n",
    "\t\tdataset,\n",
    "\t\tbatch_size=1,\n",
    "\t\tshuffle=False,\n",
    "\t\tdrop_last=False,\n",
    "\t\tnum_workers=8,\n",
    "\t\tcollate_fn=inference_collate_batch,\n",
    "\t)\n",
    "\tprint(f\"[Info]: Finish loading data!\",flush = True)\n",
    "\n",
    "\tspeaker_num = len(mapping[\"id2speaker\"])\n",
    "\tmodel = Classifier(n_spks=speaker_num).to(device)\n",
    "\tmodel.load_state_dict(torch.load(model_path))\n",
    "\tmodel.eval()\n",
    "\tprint(f\"[Info]: Finish creating model!\",flush = True)\n",
    "\n",
    "\tresults = [[\"Id\", \"Category\"]]\n",
    "\tfor feat_paths, mels in tqdm(dataloader):\n",
    "\t\twith torch.no_grad():\n",
    "\t\t\tmels = mels.to(device)\n",
    "\t\t\touts = model(mels)\n",
    "\t\t\tpreds = outs.argmax(1).cpu().numpy()\n",
    "\t\t\tfor feat_path, pred in zip(feat_paths, preds):\n",
    "\t\t\t\tresults.append([feat_path, mapping[\"id2speaker\"][str(pred)]])\n",
    "\n",
    "\twith open(output_path, 'w', newline='') as csvfile:\n",
    "\t\twriter = csv.writer(csvfile)\n",
    "\t\twriter.writerows(results)\n",
    "\n",
    "\n",
    "if __name__ == \"__main__\":\n",
    "\tmain(**parse_args())"
   ]
  }
 ],
 "metadata": {
  "accelerator": "GPU",
  "colab": {
   "collapsed_sections": [],
   "name": "hw04.ipynb",
   "provenance": []
  },
  "kaggle": {
   "accelerator": "gpu",
   "dataSources": [
    {
     "databundleVersionId": 3328800,
     "sourceId": 34762,
     "sourceType": "competition"
    },
    {
     "datasetId": 4889250,
     "sourceId": 8253126,
     "sourceType": "datasetVersion"
    }
   ],
   "dockerImageVersionId": 30699,
   "isGpuEnabled": true,
   "isInternetEnabled": true,
   "language": "python",
   "sourceType": "notebook"
  },
  "kernelspec": {
   "display_name": "Python 3",
   "language": "python",
   "name": "python3"
  },
  "language_info": {
   "codemirror_mode": {
    "name": "ipython",
    "version": 3
   },
   "file_extension": ".py",
   "mimetype": "text/x-python",
   "name": "python",
   "nbconvert_exporter": "python",
   "pygments_lexer": "ipython3",
   "version": "3.10.13"
  },
  "papermill": {
   "default_parameters": {},
   "duration": 2790.28199,
   "end_time": "2024-04-30T05:22:48.895544",
   "environment_variables": {},
   "exception": null,
   "input_path": "__notebook__.ipynb",
   "output_path": "__notebook__.ipynb",
   "parameters": {},
   "start_time": "2024-04-30T04:36:18.613554",
   "version": "2.5.0"
  },
  "widgets": {
   "application/vnd.jupyter.widget-state+json": {
    "state": {
     "061c1f6008e84c4688bed0528248096f": {
      "model_module": "@jupyter-widgets/controls",
      "model_module_version": "1.5.0",
      "model_name": "HTMLModel",
      "state": {
       "_dom_classes": [],
       "_model_module": "@jupyter-widgets/controls",
       "_model_module_version": "1.5.0",
       "_model_name": "HTMLModel",
       "_view_count": null,
       "_view_module": "@jupyter-widgets/controls",
       "_view_module_version": "1.5.0",
       "_view_name": "HTMLView",
       "description": "",
       "description_tooltip": null,
       "layout": "IPY_MODEL_f43a2f1ba2914c50a323a7b639df8a1a",
       "placeholder": "​",
       "style": "IPY_MODEL_d9d17d1a18de40009cbf22a070a47d95",
       "value": "100%"
      }
     },
     "18011fab80974a7ea5ae3f0daab7c1e4": {
      "model_module": "@jupyter-widgets/base",
      "model_module_version": "1.2.0",
      "model_name": "LayoutModel",
      "state": {
       "_model_module": "@jupyter-widgets/base",
       "_model_module_version": "1.2.0",
       "_model_name": "LayoutModel",
       "_view_count": null,
       "_view_module": "@jupyter-widgets/base",
       "_view_module_version": "1.2.0",
       "_view_name": "LayoutView",
       "align_content": null,
       "align_items": null,
       "align_self": null,
       "border": null,
       "bottom": null,
       "display": null,
       "flex": null,
       "flex_flow": null,
       "grid_area": null,
       "grid_auto_columns": null,
       "grid_auto_flow": null,
       "grid_auto_rows": null,
       "grid_column": null,
       "grid_gap": null,
       "grid_row": null,
       "grid_template_areas": null,
       "grid_template_columns": null,
       "grid_template_rows": null,
       "height": null,
       "justify_content": null,
       "justify_items": null,
       "left": null,
       "margin": null,
       "max_height": null,
       "max_width": null,
       "min_height": null,
       "min_width": null,
       "object_fit": null,
       "object_position": null,
       "order": null,
       "overflow": null,
       "overflow_x": null,
       "overflow_y": null,
       "padding": null,
       "right": null,
       "top": null,
       "visibility": null,
       "width": null
      }
     },
     "19a977e527f645ecb4b2a25ebd8a1562": {
      "model_module": "@jupyter-widgets/controls",
      "model_module_version": "1.5.0",
      "model_name": "DescriptionStyleModel",
      "state": {
       "_model_module": "@jupyter-widgets/controls",
       "_model_module_version": "1.5.0",
       "_model_name": "DescriptionStyleModel",
       "_view_count": null,
       "_view_module": "@jupyter-widgets/base",
       "_view_module_version": "1.2.0",
       "_view_name": "StyleView",
       "description_width": ""
      }
     },
     "4994805e33444aa3b3cc7417b1c712f3": {
      "model_module": "@jupyter-widgets/base",
      "model_module_version": "1.2.0",
      "model_name": "LayoutModel",
      "state": {
       "_model_module": "@jupyter-widgets/base",
       "_model_module_version": "1.2.0",
       "_model_name": "LayoutModel",
       "_view_count": null,
       "_view_module": "@jupyter-widgets/base",
       "_view_module_version": "1.2.0",
       "_view_name": "LayoutView",
       "align_content": null,
       "align_items": null,
       "align_self": null,
       "border": null,
       "bottom": null,
       "display": null,
       "flex": null,
       "flex_flow": null,
       "grid_area": null,
       "grid_auto_columns": null,
       "grid_auto_flow": null,
       "grid_auto_rows": null,
       "grid_column": null,
       "grid_gap": null,
       "grid_row": null,
       "grid_template_areas": null,
       "grid_template_columns": null,
       "grid_template_rows": null,
       "height": null,
       "justify_content": null,
       "justify_items": null,
       "left": null,
       "margin": null,
       "max_height": null,
       "max_width": null,
       "min_height": null,
       "min_width": null,
       "object_fit": null,
       "object_position": null,
       "order": null,
       "overflow": null,
       "overflow_x": null,
       "overflow_y": null,
       "padding": null,
       "right": null,
       "top": null,
       "visibility": null,
       "width": null
      }
     },
     "783bdd54adca4957a1f203b9a03487cc": {
      "model_module": "@jupyter-widgets/controls",
      "model_module_version": "1.5.0",
      "model_name": "ProgressStyleModel",
      "state": {
       "_model_module": "@jupyter-widgets/controls",
       "_model_module_version": "1.5.0",
       "_model_name": "ProgressStyleModel",
       "_view_count": null,
       "_view_module": "@jupyter-widgets/base",
       "_view_module_version": "1.2.0",
       "_view_name": "StyleView",
       "bar_color": null,
       "description_width": ""
      }
     },
     "889d43b10fb94416aca205808e86e740": {
      "model_module": "@jupyter-widgets/controls",
      "model_module_version": "1.5.0",
      "model_name": "HTMLModel",
      "state": {
       "_dom_classes": [],
       "_model_module": "@jupyter-widgets/controls",
       "_model_module_version": "1.5.0",
       "_model_name": "HTMLModel",
       "_view_count": null,
       "_view_module": "@jupyter-widgets/controls",
       "_view_module_version": "1.5.0",
       "_view_name": "HTMLView",
       "description": "",
       "description_tooltip": null,
       "layout": "IPY_MODEL_4994805e33444aa3b3cc7417b1c712f3",
       "placeholder": "​",
       "style": "IPY_MODEL_19a977e527f645ecb4b2a25ebd8a1562",
       "value": " 8000/8000 [00:20&lt;00:00, 425.28it/s]"
      }
     },
     "ccbc15f7fbc34700b30ba1b1fe1459e7": {
      "model_module": "@jupyter-widgets/controls",
      "model_module_version": "1.5.0",
      "model_name": "FloatProgressModel",
      "state": {
       "_dom_classes": [],
       "_model_module": "@jupyter-widgets/controls",
       "_model_module_version": "1.5.0",
       "_model_name": "FloatProgressModel",
       "_view_count": null,
       "_view_module": "@jupyter-widgets/controls",
       "_view_module_version": "1.5.0",
       "_view_name": "ProgressView",
       "bar_style": "success",
       "description": "",
       "description_tooltip": null,
       "layout": "IPY_MODEL_d96f51e8d80c4c03866aea1f26178425",
       "max": 8000.0,
       "min": 0.0,
       "orientation": "horizontal",
       "style": "IPY_MODEL_783bdd54adca4957a1f203b9a03487cc",
       "value": 8000.0
      }
     },
     "d913ec054eec47b0b4a8ebd7563b4442": {
      "model_module": "@jupyter-widgets/controls",
      "model_module_version": "1.5.0",
      "model_name": "HBoxModel",
      "state": {
       "_dom_classes": [],
       "_model_module": "@jupyter-widgets/controls",
       "_model_module_version": "1.5.0",
       "_model_name": "HBoxModel",
       "_view_count": null,
       "_view_module": "@jupyter-widgets/controls",
       "_view_module_version": "1.5.0",
       "_view_name": "HBoxView",
       "box_style": "",
       "children": [
        "IPY_MODEL_061c1f6008e84c4688bed0528248096f",
        "IPY_MODEL_ccbc15f7fbc34700b30ba1b1fe1459e7",
        "IPY_MODEL_889d43b10fb94416aca205808e86e740"
       ],
       "layout": "IPY_MODEL_18011fab80974a7ea5ae3f0daab7c1e4"
      }
     },
     "d96f51e8d80c4c03866aea1f26178425": {
      "model_module": "@jupyter-widgets/base",
      "model_module_version": "1.2.0",
      "model_name": "LayoutModel",
      "state": {
       "_model_module": "@jupyter-widgets/base",
       "_model_module_version": "1.2.0",
       "_model_name": "LayoutModel",
       "_view_count": null,
       "_view_module": "@jupyter-widgets/base",
       "_view_module_version": "1.2.0",
       "_view_name": "LayoutView",
       "align_content": null,
       "align_items": null,
       "align_self": null,
       "border": null,
       "bottom": null,
       "display": null,
       "flex": null,
       "flex_flow": null,
       "grid_area": null,
       "grid_auto_columns": null,
       "grid_auto_flow": null,
       "grid_auto_rows": null,
       "grid_column": null,
       "grid_gap": null,
       "grid_row": null,
       "grid_template_areas": null,
       "grid_template_columns": null,
       "grid_template_rows": null,
       "height": null,
       "justify_content": null,
       "justify_items": null,
       "left": null,
       "margin": null,
       "max_height": null,
       "max_width": null,
       "min_height": null,
       "min_width": null,
       "object_fit": null,
       "object_position": null,
       "order": null,
       "overflow": null,
       "overflow_x": null,
       "overflow_y": null,
       "padding": null,
       "right": null,
       "top": null,
       "visibility": null,
       "width": null
      }
     },
     "d9d17d1a18de40009cbf22a070a47d95": {
      "model_module": "@jupyter-widgets/controls",
      "model_module_version": "1.5.0",
      "model_name": "DescriptionStyleModel",
      "state": {
       "_model_module": "@jupyter-widgets/controls",
       "_model_module_version": "1.5.0",
       "_model_name": "DescriptionStyleModel",
       "_view_count": null,
       "_view_module": "@jupyter-widgets/base",
       "_view_module_version": "1.2.0",
       "_view_name": "StyleView",
       "description_width": ""
      }
     },
     "f43a2f1ba2914c50a323a7b639df8a1a": {
      "model_module": "@jupyter-widgets/base",
      "model_module_version": "1.2.0",
      "model_name": "LayoutModel",
      "state": {
       "_model_module": "@jupyter-widgets/base",
       "_model_module_version": "1.2.0",
       "_model_name": "LayoutModel",
       "_view_count": null,
       "_view_module": "@jupyter-widgets/base",
       "_view_module_version": "1.2.0",
       "_view_name": "LayoutView",
       "align_content": null,
       "align_items": null,
       "align_self": null,
       "border": null,
       "bottom": null,
       "display": null,
       "flex": null,
       "flex_flow": null,
       "grid_area": null,
       "grid_auto_columns": null,
       "grid_auto_flow": null,
       "grid_auto_rows": null,
       "grid_column": null,
       "grid_gap": null,
       "grid_row": null,
       "grid_template_areas": null,
       "grid_template_columns": null,
       "grid_template_rows": null,
       "height": null,
       "justify_content": null,
       "justify_items": null,
       "left": null,
       "margin": null,
       "max_height": null,
       "max_width": null,
       "min_height": null,
       "min_width": null,
       "object_fit": null,
       "object_position": null,
       "order": null,
       "overflow": null,
       "overflow_x": null,
       "overflow_y": null,
       "padding": null,
       "right": null,
       "top": null,
       "visibility": null,
       "width": null
      }
     }
    },
    "version_major": 2,
    "version_minor": 0
   }
  }
 },
 "nbformat": 4,
 "nbformat_minor": 5
}
