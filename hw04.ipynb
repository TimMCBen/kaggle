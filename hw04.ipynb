{
 "cells": [
  {
   "cell_type": "markdown",
   "id": "85fabe78",
   "metadata": {
    "id": "C_jdZ5vHJ4A9",
    "papermill": {
     "duration": 0.006836,
     "end_time": "2024-04-28T13:56:40.025581",
     "exception": false,
     "start_time": "2024-04-28T13:56:40.018745",
     "status": "completed"
    },
    "tags": []
   },
   "source": [
    "# Task description\n",
    "- Classify the speakers of given features.\n",
    "- Main goal: Learn how to use transformer.\n",
    "- Baselines:\n",
    "  - Easy: Run sample code and know how to use transformer.\n",
    "  - Medium: Know how to adjust parameters of transformer.\n",
    "  - Strong: Construct [conformer](https://arxiv.org/abs/2005.08100) which is a variety of transformer. \n",
    "  - Boss: Implement [Self-Attention Pooling](https://arxiv.org/pdf/2008.01077v1.pdf) & [Additive Margin Softmax](https://arxiv.org/pdf/1801.05599.pdf) to further boost the performance.\n",
    "\n",
    "- Other links\n",
    "  - Kaggle: [link](https://www.kaggle.com/t/ac77388c90204a4c8daebeddd40ff916)\n",
    "  - Slide: [link](https://docs.google.com/presentation/d/1HLAj7UUIjZOycDe7DaVLSwJfXVd3bXPOyzSb6Zk3hYU/edit?usp=sharing)\n",
    "  - Data: [link](https://github.com/MachineLearningHW/ML_HW4_Dataset)\n",
    "\n",
    "# Download dataset\n",
    "- Data is [here](https://github.com/MachineLearningHW/ML_HW4_Dataset)"
   ]
  },
  {
   "cell_type": "code",
   "execution_count": 1,
   "id": "144ef6ec",
   "metadata": {
    "execution": {
     "iopub.execute_input": "2024-04-28T13:56:40.039456Z",
     "iopub.status.busy": "2024-04-28T13:56:40.039080Z",
     "iopub.status.idle": "2024-04-28T13:56:40.053018Z",
     "shell.execute_reply": "2024-04-28T13:56:40.052210Z"
    },
    "id": "LhLNWB-AK2Z5",
    "papermill": {
     "duration": 0.023024,
     "end_time": "2024-04-28T13:56:40.054937",
     "exception": false,
     "start_time": "2024-04-28T13:56:40.031913",
     "status": "completed"
    },
    "tags": []
   },
   "outputs": [
    {
     "data": {
      "text/plain": [
       "'\\nIf the links below become inaccessible, please connect TAs.\\n'"
      ]
     },
     "execution_count": 1,
     "metadata": {},
     "output_type": "execute_result"
    }
   ],
   "source": [
    "\"\"\"\n",
    "If the links below become inaccessible, please connect TAs.\n",
    "\"\"\"\n",
    "\n",
    "# !wget https://github.com/MachineLearningHW/ML_HW4_Dataset/raw/0.0.1/Dataset.tar.gz.partaa\n",
    "# !wget https://github.com/MachineLearningHW/ML_HW4_Dataset/raw/0.0.1/Dataset.tar.gz.partab\n",
    "# !wget https://github.com/MachineLearningHW/ML_HW4_Dataset/raw/0.0.1/Dataset.tar.gz.partac\n",
    "# !wget https://github.com/MachineLearningHW/ML_HW4_Dataset/raw/0.0.1/Dataset.tar.gz.partad\n",
    "\n",
    "# !cat Dataset.tar.gz.parta* > Dataset.tar.gz\n",
    "\n",
    "# !tar zxvf Dataset.tar.gz"
   ]
  },
  {
   "cell_type": "markdown",
   "id": "e43724d4",
   "metadata": {
    "id": "ENWVAUDVJtVY",
    "papermill": {
     "duration": 0.006167,
     "end_time": "2024-04-28T13:56:40.067640",
     "exception": false,
     "start_time": "2024-04-28T13:56:40.061473",
     "status": "completed"
    },
    "tags": []
   },
   "source": [
    "## Fix Random Seed"
   ]
  },
  {
   "cell_type": "code",
   "execution_count": 2,
   "id": "ec163b19",
   "metadata": {
    "execution": {
     "iopub.execute_input": "2024-04-28T13:56:40.082608Z",
     "iopub.status.busy": "2024-04-28T13:56:40.081974Z",
     "iopub.status.idle": "2024-04-28T13:56:43.916167Z",
     "shell.execute_reply": "2024-04-28T13:56:43.915334Z"
    },
    "id": "E6burzCXIyuA",
    "papermill": {
     "duration": 3.844487,
     "end_time": "2024-04-28T13:56:43.918690",
     "exception": false,
     "start_time": "2024-04-28T13:56:40.074203",
     "status": "completed"
    },
    "tags": []
   },
   "outputs": [],
   "source": [
    "import numpy as np\n",
    "import torch\n",
    "import random\n",
    "\n",
    "def set_seed(seed):\n",
    "    np.random.seed(seed)\n",
    "    random.seed(seed)\n",
    "    torch.manual_seed(seed)\n",
    "    if torch.cuda.is_available():\n",
    "        torch.cuda.manual_seed(seed)\n",
    "        torch.cuda.manual_seed_all(seed)\n",
    "    torch.backends.cudnn.benchmark = False\n",
    "    torch.backends.cudnn.deterministic = True\n",
    "\n",
    "set_seed(87)"
   ]
  },
  {
   "cell_type": "markdown",
   "id": "ced1ffa9",
   "metadata": {
    "id": "k7dVbxW2LASN",
    "papermill": {
     "duration": 0.006297,
     "end_time": "2024-04-28T13:56:43.931617",
     "exception": false,
     "start_time": "2024-04-28T13:56:43.925320",
     "status": "completed"
    },
    "tags": []
   },
   "source": [
    "# Data\n",
    "\n",
    "## Dataset\n",
    "- Original dataset is [Voxceleb2](https://www.robots.ox.ac.uk/~vgg/data/voxceleb/vox2.html).\n",
    "- The [license](https://creativecommons.org/licenses/by/4.0/) and [complete version](https://www.robots.ox.ac.uk/~vgg/data/voxceleb/files/license.txt) of Voxceleb2.\n",
    "- We randomly select 600 speakers from Voxceleb2.\n",
    "- Then preprocess the raw waveforms into mel-spectrograms.\n",
    "\n",
    "- Args:\n",
    "  - data_dir: The path to the data directory.\n",
    "  - metadata_path: The path to the metadata.\n",
    "  - segment_len: The length of audio segment for training. \n",
    "- The architecture of data directory \\\\\n",
    "  - data directory \\\\\n",
    "  |---- metadata.json \\\\\n",
    "  |---- testdata.json \\\\\n",
    "  |---- mapping.json \\\\\n",
    "  |---- uttr-{random string}.pt \\\\\n",
    "\n",
    "- The information in metadata\n",
    "  - \"n_mels\": The dimention of mel-spectrogram.\n",
    "  - \"speakers\": A dictionary. \n",
    "    - Key: speaker ids.\n",
    "    - value: \"feature_path\" and \"mel_len\"\n",
    "\n",
    "\n",
    "For efficiency, we segment the mel-spectrograms into segments in the traing step."
   ]
  },
  {
   "cell_type": "code",
   "execution_count": 3,
   "id": "e2d77b83",
   "metadata": {
    "execution": {
     "iopub.execute_input": "2024-04-28T13:56:43.946024Z",
     "iopub.status.busy": "2024-04-28T13:56:43.945579Z",
     "iopub.status.idle": "2024-04-28T13:56:43.957434Z",
     "shell.execute_reply": "2024-04-28T13:56:43.956394Z"
    },
    "id": "KpuGxl4CI2pr",
    "papermill": {
     "duration": 0.021664,
     "end_time": "2024-04-28T13:56:43.959591",
     "exception": false,
     "start_time": "2024-04-28T13:56:43.937927",
     "status": "completed"
    },
    "tags": []
   },
   "outputs": [],
   "source": [
    "import os\n",
    "import json\n",
    "import torch\n",
    "import random\n",
    "from pathlib import Path\n",
    "from torch.utils.data import Dataset\n",
    "from torch.nn.utils.rnn import pad_sequence\n",
    " \n",
    " \n",
    "class myDataset(Dataset):\n",
    "\tdef __init__(self, data_dir, segment_len=128):\n",
    "\t\tself.data_dir = data_dir\n",
    "\t\tself.segment_len = segment_len\n",
    "\t\n",
    "\t\t# Load the mapping from speaker neme to their corresponding id. \n",
    "\t\tmapping_path = Path(data_dir) / \"mapping.json\"\n",
    "\t\tmapping = json.load(mapping_path.open())\n",
    "\t\tself.speaker2id = mapping[\"speaker2id\"]\n",
    "\t\n",
    "\t\t# Load metadata of training data.\n",
    "\t\tmetadata_path = Path(data_dir) / \"metadata.json\"\n",
    "\t\tmetadata = json.load(open(metadata_path))[\"speakers\"]\n",
    "\t\n",
    "\t\t# Get the total number of speaker.\n",
    "\t\tself.speaker_num = len(metadata.keys())\n",
    "\t\tself.data = []\n",
    "\t\tfor speaker in metadata.keys():\n",
    "\t\t\tfor utterances in metadata[speaker]:\n",
    "\t\t\t\tself.data.append([utterances[\"feature_path\"], self.speaker2id[speaker]])\n",
    " \n",
    "\tdef __len__(self):\n",
    "\t\t\treturn len(self.data)\n",
    " \n",
    "\tdef __getitem__(self, index):\n",
    "\t\tfeat_path, speaker = self.data[index]\n",
    "\t\t# Load preprocessed mel-spectrogram.\n",
    "\t\tmel = torch.load(os.path.join(self.data_dir, feat_path))\n",
    "\n",
    "\t\t# Segmemt mel-spectrogram into \"segment_len\" frames.\n",
    "\t\tif len(mel) > self.segment_len:\n",
    "\t\t\t# Randomly get the starting point of the segment.\n",
    "\t\t\tstart = random.randint(0, len(mel) - self.segment_len)\n",
    "\t\t\t# Get a segment with \"segment_len\" frames.\n",
    "\t\t\tmel = torch.FloatTensor(mel[start:start+self.segment_len])\n",
    "\t\telse:\n",
    "\t\t\tmel = torch.FloatTensor(mel)\n",
    "\t\t# Turn the speaker id into long for computing loss later.\n",
    "\t\tspeaker = torch.FloatTensor([speaker]).long()\n",
    "\t\treturn mel, speaker\n",
    " \n",
    "\tdef get_speaker_number(self):\n",
    "\t\treturn self.speaker_num"
   ]
  },
  {
   "cell_type": "markdown",
   "id": "892d5273",
   "metadata": {
    "id": "668hverTMlGN",
    "papermill": {
     "duration": 0.006213,
     "end_time": "2024-04-28T13:56:43.972273",
     "exception": false,
     "start_time": "2024-04-28T13:56:43.966060",
     "status": "completed"
    },
    "tags": []
   },
   "source": [
    "## Dataloader\n",
    "- Split dataset into training dataset(90%) and validation dataset(10%).\n",
    "- Create dataloader to iterate the data."
   ]
  },
  {
   "cell_type": "code",
   "execution_count": 4,
   "id": "c3b5e4b5",
   "metadata": {
    "execution": {
     "iopub.execute_input": "2024-04-28T13:56:43.986636Z",
     "iopub.status.busy": "2024-04-28T13:56:43.986296Z",
     "iopub.status.idle": "2024-04-28T13:56:43.995063Z",
     "shell.execute_reply": "2024-04-28T13:56:43.994211Z"
    },
    "id": "B7c2gZYoJDRS",
    "papermill": {
     "duration": 0.018332,
     "end_time": "2024-04-28T13:56:43.997050",
     "exception": false,
     "start_time": "2024-04-28T13:56:43.978718",
     "status": "completed"
    },
    "tags": []
   },
   "outputs": [],
   "source": [
    "import torch\n",
    "from torch.utils.data import DataLoader, random_split\n",
    "from torch.nn.utils.rnn import pad_sequence\n",
    "\n",
    "\n",
    "def collate_batch(batch):\n",
    "\t# Process features within a batch.\n",
    "\t\"\"\"Collate a batch of data.\"\"\"\n",
    "\tmel, speaker = zip(*batch)\n",
    "\t# Because we train the model batch by batch, we need to pad the features in the same batch to make their lengths the same.\n",
    "\tmel = pad_sequence(mel, batch_first=True, padding_value=-20)    # pad log 10^(-20) which is very small value.\n",
    "\t# mel: (batch size, length, 40)\n",
    "\treturn mel, torch.FloatTensor(speaker).long()\n",
    "\n",
    "\n",
    "def get_dataloader(data_dir, batch_size, n_workers):\n",
    "\t\"\"\"Generate dataloader\"\"\"\n",
    "\tdataset = myDataset(data_dir)\n",
    "\tspeaker_num = dataset.get_speaker_number()\n",
    "\t# Split dataset into training dataset and validation dataset\n",
    "\ttrainlen = int(0.9 * len(dataset))\n",
    "\tlengths = [trainlen, len(dataset) - trainlen]\n",
    "\ttrainset, validset = random_split(dataset, lengths)\n",
    "\n",
    "\ttrain_loader = DataLoader(\n",
    "\t\ttrainset,\n",
    "\t\tbatch_size=batch_size,\n",
    "\t\tshuffle=True,\n",
    "\t\tdrop_last=True,\n",
    "\t\tnum_workers=n_workers,\n",
    "\t\tpin_memory=True,\n",
    "\t\tcollate_fn=collate_batch,\n",
    "\t)\n",
    "\tvalid_loader = DataLoader(\n",
    "\t\tvalidset,\n",
    "\t\tbatch_size=batch_size,\n",
    "\t\tnum_workers=n_workers,\n",
    "\t\tdrop_last=True,\n",
    "\t\tpin_memory=True,\n",
    "\t\tcollate_fn=collate_batch,\n",
    "\t)\n",
    "\n",
    "\treturn train_loader, valid_loader, speaker_num"
   ]
  },
  {
   "cell_type": "markdown",
   "id": "f5df4a91",
   "metadata": {
    "id": "5FOSZYxrMqhc",
    "papermill": {
     "duration": 0.006189,
     "end_time": "2024-04-28T13:56:44.009736",
     "exception": false,
     "start_time": "2024-04-28T13:56:44.003547",
     "status": "completed"
    },
    "tags": []
   },
   "source": [
    "# Model\n",
    "- TransformerEncoderLayer:\n",
    "  - Base transformer encoder layer in [Attention Is All You Need](https://arxiv.org/abs/1706.03762)\n",
    "  - Parameters:\n",
    "    - d_model: the number of expected features of the input (required).\n",
    "\n",
    "    - nhead: the number of heads of the multiheadattention models (required).\n",
    "\n",
    "    - dim_feedforward: the dimension of the feedforward network model (default=2048).\n",
    "\n",
    "    - dropout: the dropout value (default=0.1).\n",
    "\n",
    "    - activation: the activation function of intermediate layer, relu or gelu (default=relu).\n",
    "\n",
    "- TransformerEncoder:\n",
    "  - TransformerEncoder is a stack of N transformer encoder layers\n",
    "  - Parameters:\n",
    "    - encoder_layer: an instance of the TransformerEncoderLayer() class (required).\n",
    "\n",
    "    - num_layers: the number of sub-encoder-layers in the encoder (required).\n",
    "\n",
    "    - norm: the layer normalization component (optional)."
   ]
  },
  {
   "cell_type": "code",
   "execution_count": 5,
   "id": "dad024d5",
   "metadata": {
    "execution": {
     "iopub.execute_input": "2024-04-28T13:56:44.024549Z",
     "iopub.status.busy": "2024-04-28T13:56:44.023627Z",
     "iopub.status.idle": "2024-04-28T13:56:44.032667Z",
     "shell.execute_reply": "2024-04-28T13:56:44.031742Z"
    },
    "id": "iXZ5B0EKJGs8",
    "papermill": {
     "duration": 0.018668,
     "end_time": "2024-04-28T13:56:44.034666",
     "exception": false,
     "start_time": "2024-04-28T13:56:44.015998",
     "status": "completed"
    },
    "tags": []
   },
   "outputs": [],
   "source": [
    "import torch\n",
    "import torch.nn as nn\n",
    "import torch.nn.functional as F\n",
    "\n",
    "\n",
    "class Classifier(nn.Module):\n",
    "\tdef __init__(self, d_model=40, n_spks=600, dropout=0.1):\n",
    "\t\tsuper().__init__()\n",
    "\t\t# Project the dimension of features from that of input into d_model.\n",
    "\t\tself.prenet = nn.Linear(40, d_model)\n",
    "\t\t# TODO:\n",
    "\t\t#   Change Transformer to Conformer.\n",
    "\t\t#   https://arxiv.org/abs/2005.08100\n",
    "\t\tself.encoder_layer = nn.TransformerEncoderLayer(\n",
    "\t\t\td_model=d_model, dim_feedforward=256, nhead=2\n",
    "\t\t)\n",
    "\t\t# self.encoder = nn.TransformerEncoder(self.encoder_layer, num_layers=2)\n",
    "\n",
    "\t\t# Project the the dimension of features from d_model into speaker nums.\n",
    "\t\tself.pred_layer = nn.Sequential(\n",
    "  \t\t\tnn.Linear(d_model, 2*d_model),\n",
    "  \t\t\tnn.ReLU(),\n",
    "\t\t\tnn.Linear(2*d_model, n_spks),\n",
    "\t\t)\n",
    "\n",
    "\tdef forward(self, mels):\n",
    "\t\t\"\"\"\n",
    "\t\targs:\n",
    "\t\t\tmels: (batch size, length, 40)\n",
    "\t\treturn:\n",
    "\t\t\tout: (batch size, n_spks)\n",
    "\t\t\"\"\"\n",
    "\t\t# out: (batch size, length, d_model)\n",
    "\t\tout = self.prenet(mels)\n",
    "\t\t# out: (length, batch size, d_model)\n",
    "\t\tout = out.permute(1, 0, 2)\n",
    "\t\t# The encoder layer expect features in the shape of (length, batch size, d_model).\n",
    "\t\tout = self.encoder_layer(out)\n",
    "\t\t# out: (batch size, length, d_model)\n",
    "\t\tout = out.transpose(0, 1)\n",
    "\t\t# mean pooling\n",
    "\t\tstats = out.mean(dim=1)\n",
    "\n",
    "\t\t# out: (batch, n_spks)\n",
    "\t\tout = self.pred_layer(stats)\n",
    "\t\treturn out"
   ]
  },
  {
   "cell_type": "markdown",
   "id": "fa6272ac",
   "metadata": {
    "id": "W7yX8JinM5Ly",
    "papermill": {
     "duration": 0.006275,
     "end_time": "2024-04-28T13:56:44.047312",
     "exception": false,
     "start_time": "2024-04-28T13:56:44.041037",
     "status": "completed"
    },
    "tags": []
   },
   "source": [
    "# Learning rate schedule\n",
    "- For transformer architecture, the design of learning rate schedule is different from that of CNN.\n",
    "- Previous works show that the warmup of learning rate is useful for training models with transformer architectures.\n",
    "- The warmup schedule\n",
    "  - Set learning rate to 0 in the beginning.\n",
    "  - The learning rate increases linearly from 0 to initial learning rate during warmup period."
   ]
  },
  {
   "cell_type": "code",
   "execution_count": 6,
   "id": "2ea3ee1e",
   "metadata": {
    "execution": {
     "iopub.execute_input": "2024-04-28T13:56:44.063316Z",
     "iopub.status.busy": "2024-04-28T13:56:44.062604Z",
     "iopub.status.idle": "2024-04-28T13:56:44.070994Z",
     "shell.execute_reply": "2024-04-28T13:56:44.070015Z"
    },
    "id": "ykt0N1nVJJi2",
    "papermill": {
     "duration": 0.018267,
     "end_time": "2024-04-28T13:56:44.073093",
     "exception": false,
     "start_time": "2024-04-28T13:56:44.054826",
     "status": "completed"
    },
    "tags": []
   },
   "outputs": [],
   "source": [
    "import math\n",
    "\n",
    "import torch\n",
    "from torch.optim import Optimizer\n",
    "from torch.optim.lr_scheduler import LambdaLR\n",
    "\n",
    "\n",
    "def get_cosine_schedule_with_warmup(\n",
    "\toptimizer: Optimizer,\n",
    "\tnum_warmup_steps: int,\n",
    "\tnum_training_steps: int,\n",
    "\tnum_cycles: float = 0.5,\n",
    "\tlast_epoch: int = -1,\n",
    "):\n",
    "\t\"\"\"\n",
    "\tCreate a schedule with a learning rate that decreases following the values of the cosine function between the\n",
    "\tinitial lr set in the optimizer to 0, after a warmup period during which it increases linearly between 0 and the\n",
    "\tinitial lr set in the optimizer.\n",
    "\n",
    "\tArgs:\n",
    "\t\toptimizer (:class:`~torch.optim.Optimizer`):\n",
    "\t\tThe optimizer for which to schedule the learning rate.\n",
    "\t\tnum_warmup_steps (:obj:`int`):\n",
    "\t\tThe number of steps for the warmup phase.\n",
    "\t\tnum_training_steps (:obj:`int`):\n",
    "\t\tThe total number of training steps.\n",
    "\t\tnum_cycles (:obj:`float`, `optional`, defaults to 0.5):\n",
    "\t\tThe number of waves in the cosine schedule (the defaults is to just decrease from the max value to 0\n",
    "\t\tfollowing a half-cosine).\n",
    "\t\tlast_epoch (:obj:`int`, `optional`, defaults to -1):\n",
    "\t\tThe index of the last epoch when resuming training.\n",
    "\n",
    "\tReturn:\n",
    "\t\t:obj:`torch.optim.lr_scheduler.LambdaLR` with the appropriate schedule.\n",
    "\t\"\"\"\n",
    "\tdef lr_lambda(current_step):\n",
    "\t\t# Warmup\n",
    "\t\tif current_step < num_warmup_steps:\n",
    "\t\t\treturn float(current_step) / float(max(1, num_warmup_steps))\n",
    "\t\t# decadence\n",
    "\t\tprogress = float(current_step - num_warmup_steps) / float(\n",
    "\t\t\tmax(1, num_training_steps - num_warmup_steps)\n",
    "\t\t)\n",
    "\t\treturn max(\n",
    "\t\t\t0.0, 0.5 * (1.0 + math.cos(math.pi * float(num_cycles) * 2.0 * progress))\n",
    "\t\t)\n",
    "\n",
    "\treturn LambdaLR(optimizer, lr_lambda, last_epoch)"
   ]
  },
  {
   "cell_type": "markdown",
   "id": "4c50ba02",
   "metadata": {
    "id": "-LN2XkteM_uH",
    "papermill": {
     "duration": 0.006363,
     "end_time": "2024-04-28T13:56:44.086341",
     "exception": false,
     "start_time": "2024-04-28T13:56:44.079978",
     "status": "completed"
    },
    "tags": []
   },
   "source": [
    "# Model Function\n",
    "- Model forward function."
   ]
  },
  {
   "cell_type": "code",
   "execution_count": 7,
   "id": "9b9c7575",
   "metadata": {
    "execution": {
     "iopub.execute_input": "2024-04-28T13:56:44.101914Z",
     "iopub.status.busy": "2024-04-28T13:56:44.100906Z",
     "iopub.status.idle": "2024-04-28T13:56:44.107434Z",
     "shell.execute_reply": "2024-04-28T13:56:44.106496Z"
    },
    "id": "N-rr8529JMz0",
    "papermill": {
     "duration": 0.016653,
     "end_time": "2024-04-28T13:56:44.109660",
     "exception": false,
     "start_time": "2024-04-28T13:56:44.093007",
     "status": "completed"
    },
    "tags": []
   },
   "outputs": [],
   "source": [
    "import torch\n",
    "\n",
    "\n",
    "def model_fn(batch, model, criterion, device):\n",
    "\t\"\"\"Forward a batch through the model.\"\"\"\n",
    "\n",
    "\tmels, labels = batch\n",
    "\tmels = mels.to(device)\n",
    "\tlabels = labels.to(device)\n",
    "\n",
    "\touts = model(mels)\n",
    "\n",
    "\tloss = criterion(outs, labels)\n",
    "\n",
    "\t# Get the speaker id with highest probability.\n",
    "\tpreds = outs.argmax(1)\n",
    "\t# Compute accuracy.\n",
    "\taccuracy = torch.mean((preds == labels).float())\n",
    "\n",
    "\treturn loss, accuracy"
   ]
  },
  {
   "cell_type": "markdown",
   "id": "376018c9",
   "metadata": {
    "id": "cwM_xyOtNCI2",
    "papermill": {
     "duration": 0.00623,
     "end_time": "2024-04-28T13:56:44.122724",
     "exception": false,
     "start_time": "2024-04-28T13:56:44.116494",
     "status": "completed"
    },
    "tags": []
   },
   "source": [
    "# Validate\n",
    "- Calculate accuracy of the validation set."
   ]
  },
  {
   "cell_type": "code",
   "execution_count": 8,
   "id": "8683800c",
   "metadata": {
    "execution": {
     "iopub.execute_input": "2024-04-28T13:56:44.137593Z",
     "iopub.status.busy": "2024-04-28T13:56:44.136886Z",
     "iopub.status.idle": "2024-04-28T13:56:44.144762Z",
     "shell.execute_reply": "2024-04-28T13:56:44.143792Z"
    },
    "id": "YAiv6kpdJRTJ",
    "papermill": {
     "duration": 0.017709,
     "end_time": "2024-04-28T13:56:44.146842",
     "exception": false,
     "start_time": "2024-04-28T13:56:44.129133",
     "status": "completed"
    },
    "tags": []
   },
   "outputs": [],
   "source": [
    "from tqdm import tqdm\n",
    "import torch\n",
    "\n",
    "\n",
    "def valid(dataloader, model, criterion, device): \n",
    "\t\"\"\"Validate on validation set.\"\"\"\n",
    "\n",
    "\tmodel.eval()\n",
    "\trunning_loss = 0.0\n",
    "\trunning_accuracy = 0.0\n",
    "\tpbar = tqdm(total=len(dataloader.dataset), ncols=0, desc=\"Valid\", unit=\" uttr\")\n",
    "\n",
    "\tfor i, batch in enumerate(dataloader):\n",
    "\t\twith torch.no_grad():\n",
    "\t\t\tloss, accuracy = model_fn(batch, model, criterion, device)\n",
    "\t\t\trunning_loss += loss.item()\n",
    "\t\t\trunning_accuracy += accuracy.item()\n",
    "\n",
    "\t\tpbar.update(dataloader.batch_size)\n",
    "\t\tpbar.set_postfix(\n",
    "\t\t\tloss=f\"{running_loss / (i+1):.2f}\",\n",
    "\t\t\taccuracy=f\"{running_accuracy / (i+1):.2f}\",\n",
    "\t\t)\n",
    "\n",
    "\tpbar.close()\n",
    "\tmodel.train()\n",
    "\n",
    "\treturn running_accuracy / len(dataloader)"
   ]
  },
  {
   "cell_type": "markdown",
   "id": "0d01d20f",
   "metadata": {
    "id": "g6ne9G-eNEdG",
    "papermill": {
     "duration": 0.006223,
     "end_time": "2024-04-28T13:56:44.159771",
     "exception": false,
     "start_time": "2024-04-28T13:56:44.153548",
     "status": "completed"
    },
    "tags": []
   },
   "source": [
    "# Main function"
   ]
  },
  {
   "cell_type": "code",
   "execution_count": 9,
   "id": "fafc30bd",
   "metadata": {
    "execution": {
     "iopub.execute_input": "2024-04-28T13:56:44.174714Z",
     "iopub.status.busy": "2024-04-28T13:56:44.174336Z",
     "iopub.status.idle": "2024-04-28T15:14:08.553704Z",
     "shell.execute_reply": "2024-04-28T15:14:08.552495Z"
    },
    "id": "Usv9s-CuJSG7",
    "papermill": {
     "duration": 4644.389331,
     "end_time": "2024-04-28T15:14:08.555799",
     "exception": false,
     "start_time": "2024-04-28T13:56:44.166468",
     "status": "completed"
    },
    "tags": []
   },
   "outputs": [
    {
     "name": "stdout",
     "output_type": "stream",
     "text": [
      "[Info]: Use cuda now!\n"
     ]
    },
    {
     "name": "stderr",
     "output_type": "stream",
     "text": [
      "/opt/conda/lib/python3.10/site-packages/torch/utils/data/dataloader.py:557: UserWarning: This DataLoader will create 8 worker processes in total. Our suggested max number of worker in current system is 4, which is smaller than what this DataLoader is going to create. Please be aware that excessive worker creation might get DataLoader running slow or even freeze, lower the worker number to avoid potential slowness/freeze if necessary.\n",
      "  warnings.warn(_create_warning_msg(\n"
     ]
    },
    {
     "name": "stdout",
     "output_type": "stream",
     "text": [
      "[Info]: Finish loading data!\n",
      "[Info]: Finish creating model!\n"
     ]
    },
    {
     "name": "stderr",
     "output_type": "stream",
     "text": [
      "Train:  80% 1591/2000 [00:53<00:14, 28.37 step/s, accuracy=0.03, loss=4.46, step=1500]/opt/conda/lib/python3.10/site-packages/torch/utils/data/dataloader.py:557: UserWarning: This DataLoader will create 8 worker processes in total. Our suggested max number of worker in current system is 4, which is smaller than what this DataLoader is going to create. Please be aware that excessive worker creation might get DataLoader running slow or even freeze, lower the worker number to avoid potential slowness/freeze if necessary.\n",
      "  warnings.warn(_create_warning_msg(\n",
      "Train: 100% 2000/2000 [00:58<00:00, 34.01 step/s, accuracy=0.16, loss=4.57, step=2000]\n",
      "Valid: 100% 5664/5667 [00:06<00:00, 842.74 uttr/s, accuracy=0.13, loss=4.28]\n",
      "Train: 100% 2000/2000 [00:21<00:00, 93.21 step/s, accuracy=0.19, loss=3.49, step=4000]\n",
      "Valid: 100% 5664/5667 [00:02<00:00, 2806.22 uttr/s, accuracy=0.23, loss=3.58]\n",
      "Train: 100% 2000/2000 [00:21<00:00, 93.36 step/s, accuracy=0.38, loss=3.60, step=6000]\n",
      "Valid: 100% 5664/5667 [00:01<00:00, 3086.36 uttr/s, accuracy=0.31, loss=3.19]\n",
      "Train: 100% 2000/2000 [00:21<00:00, 92.87 step/s, accuracy=0.38, loss=2.70, step=8000]\n",
      "Valid: 100% 5664/5667 [00:01<00:00, 2939.91 uttr/s, accuracy=0.35, loss=2.99]\n",
      "Train: 100% 2000/2000 [00:20<00:00, 95.87 step/s, accuracy=0.47, loss=2.47, step=1e+4]\n",
      "Valid: 100% 5664/5667 [00:02<00:00, 2706.80 uttr/s, accuracy=0.39, loss=2.86]\n",
      "Train:   1% 11/2000 [00:00<00:18, 104.73 step/s]"
     ]
    },
    {
     "name": "stdout",
     "output_type": "stream",
     "text": [
      "Step 10000, best model saved. (accuracy=0.3861)\n"
     ]
    },
    {
     "name": "stderr",
     "output_type": "stream",
     "text": [
      "Train: 100% 2000/2000 [00:21<00:00, 94.33 step/s, accuracy=0.38, loss=2.39, step=12000]\n",
      "Valid: 100% 5664/5667 [00:01<00:00, 3047.85 uttr/s, accuracy=0.40, loss=2.72]\n",
      "Train: 100% 2000/2000 [00:21<00:00, 93.86 step/s, accuracy=0.44, loss=2.55, step=14000]\n",
      "Valid: 100% 5664/5667 [00:01<00:00, 3034.12 uttr/s, accuracy=0.43, loss=2.56]\n",
      "Train: 100% 2000/2000 [00:21<00:00, 94.62 step/s, accuracy=0.53, loss=2.09, step=16000]\n",
      "Valid: 100% 5664/5667 [00:02<00:00, 2273.87 uttr/s, accuracy=0.45, loss=2.44]\n",
      "Train: 100% 2000/2000 [00:20<00:00, 95.47 step/s, accuracy=0.53, loss=2.31, step=18000]\n",
      "Valid: 100% 5664/5667 [00:01<00:00, 3096.81 uttr/s, accuracy=0.45, loss=2.43]\n",
      "Train: 100% 2000/2000 [00:21<00:00, 95.19 step/s, accuracy=0.34, loss=2.43, step=2e+4]\n",
      "Valid: 100% 5664/5667 [00:01<00:00, 3168.58 uttr/s, accuracy=0.47, loss=2.39]\n",
      "Train:   1% 12/2000 [00:00<00:17, 115.68 step/s]"
     ]
    },
    {
     "name": "stdout",
     "output_type": "stream",
     "text": [
      "Step 20000, best model saved. (accuracy=0.4675)\n"
     ]
    },
    {
     "name": "stderr",
     "output_type": "stream",
     "text": [
      "Train: 100% 2000/2000 [00:20<00:00, 95.80 step/s, accuracy=0.47, loss=2.10, step=22000]\n",
      "Valid: 100% 5664/5667 [00:01<00:00, 2992.81 uttr/s, accuracy=0.49, loss=2.27]\n",
      "Train: 100% 2000/2000 [00:20<00:00, 96.31 step/s, accuracy=0.66, loss=1.34, step=24000]\n",
      "Valid: 100% 5664/5667 [00:01<00:00, 3062.89 uttr/s, accuracy=0.48, loss=2.27]\n",
      "Train: 100% 2000/2000 [00:21<00:00, 92.85 step/s, accuracy=0.50, loss=1.96, step=26000]\n",
      "Valid: 100% 5664/5667 [00:01<00:00, 3071.47 uttr/s, accuracy=0.50, loss=2.24]\n",
      "Train: 100% 2000/2000 [00:21<00:00, 94.64 step/s, accuracy=0.62, loss=1.75, step=28000]\n",
      "Valid: 100% 5664/5667 [00:01<00:00, 3041.08 uttr/s, accuracy=0.51, loss=2.15]\n",
      "Train: 100% 2000/2000 [00:21<00:00, 94.46 step/s, accuracy=0.56, loss=1.67, step=3e+4]\n",
      "Valid: 100% 5664/5667 [00:01<00:00, 3161.32 uttr/s, accuracy=0.53, loss=2.11]\n",
      "Train:   1% 13/2000 [00:00<00:16, 119.87 step/s]"
     ]
    },
    {
     "name": "stdout",
     "output_type": "stream",
     "text": [
      "Step 30000, best model saved. (accuracy=0.5251)\n"
     ]
    },
    {
     "name": "stderr",
     "output_type": "stream",
     "text": [
      "Train: 100% 2000/2000 [00:21<00:00, 94.20 step/s, accuracy=0.59, loss=2.13, step=32000]\n",
      "Valid: 100% 5664/5667 [00:01<00:00, 3180.46 uttr/s, accuracy=0.51, loss=2.16]\n",
      "Train: 100% 2000/2000 [00:21<00:00, 94.12 step/s, accuracy=0.44, loss=2.59, step=34000]\n",
      "Valid: 100% 5664/5667 [00:01<00:00, 3013.97 uttr/s, accuracy=0.52, loss=2.09]\n",
      "Train: 100% 2000/2000 [00:21<00:00, 93.31 step/s, accuracy=0.62, loss=1.83, step=36000]\n",
      "Valid: 100% 5664/5667 [00:01<00:00, 3112.72 uttr/s, accuracy=0.54, loss=2.03]\n",
      "Train: 100% 2000/2000 [00:21<00:00, 95.20 step/s, accuracy=0.62, loss=1.60, step=38000]\n",
      "Valid: 100% 5664/5667 [00:02<00:00, 2658.56 uttr/s, accuracy=0.55, loss=1.95]\n",
      "Train: 100% 2000/2000 [00:22<00:00, 90.38 step/s, accuracy=0.53, loss=2.61, step=4e+4]\n",
      "Valid: 100% 5664/5667 [00:01<00:00, 3002.47 uttr/s, accuracy=0.55, loss=1.97]\n",
      "Train:   1% 11/2000 [00:00<00:18, 105.97 step/s]"
     ]
    },
    {
     "name": "stdout",
     "output_type": "stream",
     "text": [
      "Step 40000, best model saved. (accuracy=0.5547)\n"
     ]
    },
    {
     "name": "stderr",
     "output_type": "stream",
     "text": [
      "Train: 100% 2000/2000 [00:21<00:00, 91.08 step/s, accuracy=0.53, loss=1.74, step=42000]\n",
      "Valid: 100% 5664/5667 [00:01<00:00, 3108.89 uttr/s, accuracy=0.55, loss=1.98]\n",
      "Train: 100% 2000/2000 [00:23<00:00, 83.92 step/s, accuracy=0.44, loss=1.93, step=44000]\n",
      "Valid: 100% 5664/5667 [00:02<00:00, 2698.82 uttr/s, accuracy=0.56, loss=1.94]\n",
      "Train: 100% 2000/2000 [00:22<00:00, 87.00 step/s, accuracy=0.50, loss=1.93, step=46000]\n",
      "Valid: 100% 5664/5667 [00:01<00:00, 3028.02 uttr/s, accuracy=0.57, loss=1.92]\n",
      "Train: 100% 2000/2000 [00:22<00:00, 88.23 step/s, accuracy=0.56, loss=1.71, step=48000] \n",
      "Valid: 100% 5664/5667 [00:01<00:00, 3091.74 uttr/s, accuracy=0.57, loss=1.88]\n",
      "Train: 100% 2000/2000 [00:22<00:00, 88.37 step/s, accuracy=0.59, loss=1.80, step=5e+4]\n",
      "Valid: 100% 5664/5667 [00:01<00:00, 3097.45 uttr/s, accuracy=0.57, loss=1.87]\n",
      "Train:   1% 11/2000 [00:00<00:19, 101.42 step/s]"
     ]
    },
    {
     "name": "stdout",
     "output_type": "stream",
     "text": [
      "Step 50000, best model saved. (accuracy=0.5720)\n"
     ]
    },
    {
     "name": "stderr",
     "output_type": "stream",
     "text": [
      "Train: 100% 2000/2000 [00:22<00:00, 90.53 step/s, accuracy=0.66, loss=1.61, step=52000] \n",
      "Valid: 100% 5664/5667 [00:02<00:00, 2217.39 uttr/s, accuracy=0.58, loss=1.86]\n",
      "Train: 100% 2000/2000 [00:21<00:00, 90.99 step/s, accuracy=0.62, loss=1.42, step=54000]\n",
      "Valid: 100% 5664/5667 [00:02<00:00, 2235.11 uttr/s, accuracy=0.57, loss=1.91]\n",
      "Train: 100% 2000/2000 [00:22<00:00, 89.98 step/s, accuracy=0.69, loss=1.59, step=56000]\n",
      "Valid: 100% 5664/5667 [00:02<00:00, 2068.46 uttr/s, accuracy=0.59, loss=1.84]\n",
      "Train: 100% 2000/2000 [00:21<00:00, 92.63 step/s, accuracy=0.69, loss=1.38, step=58000]\n",
      "Valid: 100% 5664/5667 [00:02<00:00, 2254.86 uttr/s, accuracy=0.58, loss=1.81]\n",
      "Train: 100% 2000/2000 [00:22<00:00, 90.53 step/s, accuracy=0.62, loss=1.06, step=6e+4]\n",
      "Valid: 100% 5664/5667 [00:01<00:00, 2953.87 uttr/s, accuracy=0.58, loss=1.85]\n",
      "Train:   1% 11/2000 [00:00<00:19, 103.98 step/s]"
     ]
    },
    {
     "name": "stdout",
     "output_type": "stream",
     "text": [
      "Step 60000, best model saved. (accuracy=0.5862)\n"
     ]
    },
    {
     "name": "stderr",
     "output_type": "stream",
     "text": [
      "Train: 100% 2000/2000 [00:21<00:00, 93.21 step/s, accuracy=0.78, loss=1.30, step=62000]\n",
      "Valid: 100% 5664/5667 [00:01<00:00, 3015.01 uttr/s, accuracy=0.59, loss=1.80]\n",
      "Train: 100% 2000/2000 [00:21<00:00, 94.87 step/s, accuracy=0.72, loss=1.00, step=64000] \n",
      "Valid: 100% 5664/5667 [00:02<00:00, 2562.04 uttr/s, accuracy=0.58, loss=1.85]\n",
      "Train: 100% 2000/2000 [00:21<00:00, 93.19 step/s, accuracy=0.59, loss=1.81, step=66000]\n",
      "Valid: 100% 5664/5667 [00:01<00:00, 2991.80 uttr/s, accuracy=0.58, loss=1.85]\n",
      "Train: 100% 2000/2000 [00:21<00:00, 92.81 step/s, accuracy=0.69, loss=1.79, step=68000]\n",
      "Valid: 100% 5664/5667 [00:01<00:00, 3040.79 uttr/s, accuracy=0.59, loss=1.78]\n",
      "Train: 100% 2000/2000 [00:21<00:00, 93.13 step/s, accuracy=0.47, loss=1.80, step=7e+4]\n",
      "Valid: 100% 5664/5667 [00:02<00:00, 2674.57 uttr/s, accuracy=0.60, loss=1.74]\n",
      "Train:   0% 10/2000 [00:00<00:20, 96.55 step/s]"
     ]
    },
    {
     "name": "stdout",
     "output_type": "stream",
     "text": [
      "Step 70000, best model saved. (accuracy=0.5980)\n"
     ]
    },
    {
     "name": "stderr",
     "output_type": "stream",
     "text": [
      "Train: 100% 2000/2000 [00:21<00:00, 93.56 step/s, accuracy=0.69, loss=1.15, step=72000]\n",
      "Valid: 100% 5664/5667 [00:01<00:00, 3071.46 uttr/s, accuracy=0.61, loss=1.74]\n",
      "Train: 100% 2000/2000 [00:21<00:00, 93.45 step/s, accuracy=0.62, loss=1.57, step=74000]\n",
      "Valid: 100% 5664/5667 [00:01<00:00, 2956.83 uttr/s, accuracy=0.60, loss=1.75]\n",
      "Train: 100% 2000/2000 [00:21<00:00, 93.07 step/s, accuracy=0.75, loss=1.14, step=76000]\n",
      "Valid: 100% 5664/5667 [00:01<00:00, 3099.04 uttr/s, accuracy=0.60, loss=1.77]\n",
      "Train: 100% 2000/2000 [00:21<00:00, 94.48 step/s, accuracy=0.56, loss=1.42, step=78000] \n",
      "Valid: 100% 5664/5667 [00:01<00:00, 3135.30 uttr/s, accuracy=0.62, loss=1.67]\n",
      "Train: 100% 2000/2000 [00:21<00:00, 93.71 step/s, accuracy=0.59, loss=1.71, step=8e+4]\n",
      "Valid: 100% 5664/5667 [00:01<00:00, 3066.59 uttr/s, accuracy=0.61, loss=1.75]\n",
      "Train:   0% 10/2000 [00:00<00:20, 99.25 step/s]"
     ]
    },
    {
     "name": "stdout",
     "output_type": "stream",
     "text": [
      "Step 80000, best model saved. (accuracy=0.6165)\n"
     ]
    },
    {
     "name": "stderr",
     "output_type": "stream",
     "text": [
      "Train: 100% 2000/2000 [00:21<00:00, 93.10 step/s, accuracy=0.69, loss=1.42, step=82000]\n",
      "Valid: 100% 5664/5667 [00:01<00:00, 2967.50 uttr/s, accuracy=0.62, loss=1.70]\n",
      "Train: 100% 2000/2000 [00:21<00:00, 94.36 step/s, accuracy=0.66, loss=1.54, step=84000]\n",
      "Valid: 100% 5664/5667 [00:02<00:00, 2810.01 uttr/s, accuracy=0.61, loss=1.66]\n",
      "Train: 100% 2000/2000 [00:20<00:00, 95.68 step/s, accuracy=0.69, loss=1.23, step=86000]\n",
      "Valid: 100% 5664/5667 [00:01<00:00, 3055.34 uttr/s, accuracy=0.61, loss=1.69]\n",
      "Train: 100% 2000/2000 [00:21<00:00, 93.00 step/s, accuracy=0.72, loss=1.09, step=88000]\n",
      "Valid: 100% 5664/5667 [00:01<00:00, 3046.28 uttr/s, accuracy=0.63, loss=1.66]\n",
      "Train: 100% 2000/2000 [00:21<00:00, 95.16 step/s, accuracy=0.88, loss=0.68, step=9e+4] \n",
      "Valid: 100% 5664/5667 [00:01<00:00, 3052.48 uttr/s, accuracy=0.62, loss=1.69]\n",
      "Train:   1% 12/2000 [00:00<00:18, 105.29 step/s]"
     ]
    },
    {
     "name": "stdout",
     "output_type": "stream",
     "text": [
      "Step 90000, best model saved. (accuracy=0.6284)\n"
     ]
    },
    {
     "name": "stderr",
     "output_type": "stream",
     "text": [
      "Train: 100% 2000/2000 [00:21<00:00, 94.40 step/s, accuracy=0.59, loss=1.51, step=92000]\n",
      "Valid: 100% 5664/5667 [00:01<00:00, 3109.25 uttr/s, accuracy=0.62, loss=1.70]\n",
      "Train: 100% 2000/2000 [00:21<00:00, 92.93 step/s, accuracy=0.62, loss=1.31, step=94000]\n",
      "Valid: 100% 5664/5667 [00:02<00:00, 2503.16 uttr/s, accuracy=0.62, loss=1.67]\n",
      "Train: 100% 2000/2000 [00:21<00:00, 95.18 step/s, accuracy=0.78, loss=1.00, step=96000]\n",
      "Valid: 100% 5664/5667 [00:01<00:00, 3032.21 uttr/s, accuracy=0.62, loss=1.69]\n",
      "Train: 100% 2000/2000 [00:20<00:00, 95.38 step/s, accuracy=0.62, loss=1.40, step=98000]\n",
      "Valid: 100% 5664/5667 [00:01<00:00, 2874.38 uttr/s, accuracy=0.62, loss=1.67]\n",
      "Train: 100% 2000/2000 [00:21<00:00, 92.94 step/s, accuracy=0.62, loss=1.50, step=1e+5]\n",
      "Valid: 100% 5664/5667 [00:01<00:00, 3075.69 uttr/s, accuracy=0.61, loss=1.72]\n",
      "Train:   1% 11/2000 [00:00<00:19, 100.47 step/s]"
     ]
    },
    {
     "name": "stdout",
     "output_type": "stream",
     "text": [
      "Step 100000, best model saved. (accuracy=0.6284)\n"
     ]
    },
    {
     "name": "stderr",
     "output_type": "stream",
     "text": [
      "Train: 100% 2000/2000 [00:21<00:00, 91.58 step/s, accuracy=0.78, loss=0.86, step=102000]\n",
      "Valid: 100% 5664/5667 [00:01<00:00, 3071.34 uttr/s, accuracy=0.63, loss=1.65]\n",
      "Train: 100% 2000/2000 [00:21<00:00, 93.67 step/s, accuracy=0.69, loss=1.38, step=104000]\n",
      "Valid: 100% 5664/5667 [00:01<00:00, 3055.07 uttr/s, accuracy=0.63, loss=1.63]\n",
      "Train: 100% 2000/2000 [00:20<00:00, 95.25 step/s, accuracy=0.69, loss=1.03, step=106000]\n",
      "Valid: 100% 5664/5667 [00:01<00:00, 3069.50 uttr/s, accuracy=0.63, loss=1.64]\n",
      "Train: 100% 2000/2000 [00:21<00:00, 91.11 step/s, accuracy=0.50, loss=2.26, step=108000]\n",
      "Valid: 100% 5664/5667 [00:01<00:00, 3120.77 uttr/s, accuracy=0.63, loss=1.60]\n",
      "Train: 100% 2000/2000 [00:21<00:00, 93.07 step/s, accuracy=0.69, loss=0.99, step=110000]\n",
      "Valid: 100% 5664/5667 [00:01<00:00, 3020.53 uttr/s, accuracy=0.64, loss=1.62]\n",
      "Train:   0% 10/2000 [00:00<00:20, 96.05 step/s]"
     ]
    },
    {
     "name": "stdout",
     "output_type": "stream",
     "text": [
      "Step 110000, best model saved. (accuracy=0.6368)\n"
     ]
    },
    {
     "name": "stderr",
     "output_type": "stream",
     "text": [
      "Train: 100% 2000/2000 [00:21<00:00, 93.70 step/s, accuracy=0.62, loss=1.30, step=112000] \n",
      "Valid: 100% 5664/5667 [00:01<00:00, 3084.67 uttr/s, accuracy=0.63, loss=1.62]\n",
      "Train: 100% 2000/2000 [00:21<00:00, 91.96 step/s, accuracy=0.72, loss=1.45, step=114000]\n",
      "Valid: 100% 5664/5667 [00:01<00:00, 3082.37 uttr/s, accuracy=0.64, loss=1.58]\n",
      "Train: 100% 2000/2000 [00:21<00:00, 91.97 step/s, accuracy=0.59, loss=1.54, step=116000] \n",
      "Valid: 100% 5664/5667 [00:01<00:00, 3033.32 uttr/s, accuracy=0.64, loss=1.60]\n",
      "Train: 100% 2000/2000 [00:21<00:00, 94.95 step/s, accuracy=0.69, loss=1.20, step=118000]\n",
      "Valid: 100% 5664/5667 [00:02<00:00, 2727.08 uttr/s, accuracy=0.64, loss=1.63]\n",
      "Train: 100% 2000/2000 [00:21<00:00, 92.57 step/s, accuracy=0.69, loss=1.23, step=120000]\n",
      "Valid: 100% 5664/5667 [00:01<00:00, 3061.67 uttr/s, accuracy=0.64, loss=1.58]\n",
      "Train:   1% 11/2000 [00:00<00:18, 105.58 step/s]"
     ]
    },
    {
     "name": "stdout",
     "output_type": "stream",
     "text": [
      "Step 120000, best model saved. (accuracy=0.6432)\n"
     ]
    },
    {
     "name": "stderr",
     "output_type": "stream",
     "text": [
      "Train: 100% 2000/2000 [00:21<00:00, 91.96 step/s, accuracy=0.72, loss=1.28, step=122000] \n",
      "Valid: 100% 5664/5667 [00:01<00:00, 3060.09 uttr/s, accuracy=0.63, loss=1.64]\n",
      "Train: 100% 2000/2000 [00:21<00:00, 92.47 step/s, accuracy=0.59, loss=1.70, step=124000]\n",
      "Valid: 100% 5664/5667 [00:01<00:00, 2843.17 uttr/s, accuracy=0.64, loss=1.59]\n",
      "Train: 100% 2000/2000 [00:20<00:00, 95.56 step/s, accuracy=0.66, loss=0.96, step=126000]\n",
      "Valid: 100% 5664/5667 [00:01<00:00, 3112.12 uttr/s, accuracy=0.65, loss=1.57]\n",
      "Train: 100% 2000/2000 [00:21<00:00, 91.54 step/s, accuracy=0.53, loss=1.88, step=128000]\n",
      "Valid: 100% 5664/5667 [00:01<00:00, 3085.81 uttr/s, accuracy=0.64, loss=1.62]\n",
      "Train: 100% 2000/2000 [00:21<00:00, 93.03 step/s, accuracy=0.62, loss=1.74, step=130000]\n",
      "Valid: 100% 5664/5667 [00:01<00:00, 3003.69 uttr/s, accuracy=0.65, loss=1.55]\n",
      "Train:   1% 20/2000 [00:00<00:20, 97.39 step/s]"
     ]
    },
    {
     "name": "stdout",
     "output_type": "stream",
     "text": [
      "Step 130000, best model saved. (accuracy=0.6531)\n"
     ]
    },
    {
     "name": "stderr",
     "output_type": "stream",
     "text": [
      "Train: 100% 2000/2000 [00:21<00:00, 94.61 step/s, accuracy=0.84, loss=0.63, step=132000]\n",
      "Valid: 100% 5664/5667 [00:02<00:00, 2563.92 uttr/s, accuracy=0.64, loss=1.58]\n",
      "Train: 100% 2000/2000 [00:21<00:00, 92.90 step/s, accuracy=0.66, loss=1.63, step=134000]\n",
      "Valid: 100% 5664/5667 [00:01<00:00, 3084.34 uttr/s, accuracy=0.64, loss=1.60]\n",
      "Train: 100% 2000/2000 [00:21<00:00, 92.46 step/s, accuracy=0.72, loss=1.55, step=136000]\n",
      "Valid: 100% 5664/5667 [00:01<00:00, 3015.56 uttr/s, accuracy=0.65, loss=1.58]\n",
      "Train: 100% 2000/2000 [00:21<00:00, 94.52 step/s, accuracy=0.72, loss=1.01, step=138000]\n",
      "Valid: 100% 5664/5667 [00:01<00:00, 3080.18 uttr/s, accuracy=0.66, loss=1.52]\n",
      "Train: 100% 2000/2000 [00:21<00:00, 92.94 step/s, accuracy=0.69, loss=1.21, step=140000]\n",
      "Valid: 100% 5664/5667 [00:01<00:00, 2854.99 uttr/s, accuracy=0.66, loss=1.52]\n",
      "Train:   0% 8/2000 [00:00<00:27, 71.16 step/s]"
     ]
    },
    {
     "name": "stdout",
     "output_type": "stream",
     "text": [
      "Step 140000, best model saved. (accuracy=0.6623)\n"
     ]
    },
    {
     "name": "stderr",
     "output_type": "stream",
     "text": [
      "Train: 100% 2000/2000 [00:21<00:00, 92.10 step/s, accuracy=0.78, loss=1.34, step=142000]\n",
      "Valid: 100% 5664/5667 [00:01<00:00, 3056.51 uttr/s, accuracy=0.65, loss=1.56]\n",
      "Train: 100% 2000/2000 [00:21<00:00, 94.19 step/s, accuracy=0.75, loss=0.95, step=144000] \n",
      "Valid: 100% 5664/5667 [00:01<00:00, 3087.57 uttr/s, accuracy=0.65, loss=1.54]\n",
      "Train: 100% 2000/2000 [00:21<00:00, 91.55 step/s, accuracy=0.81, loss=0.91, step=146000] \n",
      "Valid: 100% 5664/5667 [00:01<00:00, 3040.44 uttr/s, accuracy=0.66, loss=1.50]\n",
      "Train: 100% 2000/2000 [00:21<00:00, 94.05 step/s, accuracy=0.62, loss=1.47, step=148000] \n",
      "Valid: 100% 5664/5667 [00:01<00:00, 3031.21 uttr/s, accuracy=0.66, loss=1.51]\n",
      "Train: 100% 2000/2000 [00:21<00:00, 94.44 step/s, accuracy=0.75, loss=1.40, step=150000]\n",
      "Valid: 100% 5664/5667 [00:01<00:00, 3174.38 uttr/s, accuracy=0.65, loss=1.57]\n",
      "Train:   0% 10/2000 [00:00<00:20, 98.30 step/s]"
     ]
    },
    {
     "name": "stdout",
     "output_type": "stream",
     "text": [
      "Step 150000, best model saved. (accuracy=0.6623)\n"
     ]
    },
    {
     "name": "stderr",
     "output_type": "stream",
     "text": [
      "Train: 100% 2000/2000 [00:21<00:00, 93.31 step/s, accuracy=0.88, loss=0.75, step=152000]\n",
      "Valid: 100% 5664/5667 [00:01<00:00, 3139.69 uttr/s, accuracy=0.66, loss=1.50]\n",
      "Train: 100% 2000/2000 [00:21<00:00, 91.90 step/s, accuracy=0.69, loss=1.48, step=154000]\n",
      "Valid: 100% 5664/5667 [00:01<00:00, 2992.02 uttr/s, accuracy=0.67, loss=1.48]\n",
      "Train: 100% 2000/2000 [00:20<00:00, 96.62 step/s, accuracy=0.84, loss=0.78, step=156000]\n",
      "Valid: 100% 5664/5667 [00:01<00:00, 3104.63 uttr/s, accuracy=0.64, loss=1.52]\n",
      "Train: 100% 2000/2000 [00:21<00:00, 92.02 step/s, accuracy=0.62, loss=0.88, step=158000]\n",
      "Valid: 100% 5664/5667 [00:01<00:00, 2863.76 uttr/s, accuracy=0.67, loss=1.50]\n",
      "Train: 100% 2000/2000 [00:21<00:00, 91.53 step/s, accuracy=0.81, loss=0.84, step=160000]\n",
      "Valid: 100% 5664/5667 [00:01<00:00, 3027.60 uttr/s, accuracy=0.66, loss=1.49]\n",
      "Train:   0% 10/2000 [00:00<00:20, 97.06 step/s]"
     ]
    },
    {
     "name": "stdout",
     "output_type": "stream",
     "text": [
      "Step 160000, best model saved. (accuracy=0.6728)\n"
     ]
    },
    {
     "name": "stderr",
     "output_type": "stream",
     "text": [
      "Train: 100% 2000/2000 [00:20<00:00, 95.69 step/s, accuracy=0.75, loss=0.96, step=162000]\n",
      "Valid: 100% 5664/5667 [00:01<00:00, 2999.97 uttr/s, accuracy=0.66, loss=1.48]\n",
      "Train: 100% 2000/2000 [00:21<00:00, 93.57 step/s, accuracy=0.72, loss=1.30, step=164000] \n",
      "Valid: 100% 5664/5667 [00:01<00:00, 3098.88 uttr/s, accuracy=0.66, loss=1.51]\n",
      "Train: 100% 2000/2000 [00:21<00:00, 92.03 step/s, accuracy=0.72, loss=1.05, step=166000]\n",
      "Valid: 100% 5664/5667 [00:01<00:00, 3014.63 uttr/s, accuracy=0.67, loss=1.45]\n",
      "Train: 100% 2000/2000 [00:20<00:00, 98.13 step/s, accuracy=0.81, loss=0.95, step=168000]\n",
      "Valid: 100% 5664/5667 [00:01<00:00, 3048.78 uttr/s, accuracy=0.67, loss=1.47]\n",
      "Train: 100% 2000/2000 [00:21<00:00, 94.90 step/s, accuracy=0.72, loss=1.16, step=170000] \n",
      "Valid: 100% 5664/5667 [00:01<00:00, 2909.92 uttr/s, accuracy=0.66, loss=1.48]\n",
      "Train:   0% 10/2000 [00:00<00:21, 94.20 step/s]"
     ]
    },
    {
     "name": "stdout",
     "output_type": "stream",
     "text": [
      "Step 170000, best model saved. (accuracy=0.6728)\n"
     ]
    },
    {
     "name": "stderr",
     "output_type": "stream",
     "text": [
      "Train: 100% 2000/2000 [00:21<00:00, 94.56 step/s, accuracy=0.72, loss=1.10, step=172000] \n",
      "Valid: 100% 5664/5667 [00:01<00:00, 3085.01 uttr/s, accuracy=0.67, loss=1.47]\n",
      "Train: 100% 2000/2000 [00:20<00:00, 96.45 step/s, accuracy=0.75, loss=1.08, step=174000]\n",
      "Valid: 100% 5664/5667 [00:01<00:00, 3133.26 uttr/s, accuracy=0.66, loss=1.49]\n",
      "Train: 100% 2000/2000 [00:21<00:00, 94.48 step/s, accuracy=0.66, loss=1.20, step=176000]\n",
      "Valid: 100% 5664/5667 [00:01<00:00, 3105.23 uttr/s, accuracy=0.66, loss=1.50]\n",
      "Train: 100% 2000/2000 [00:21<00:00, 94.71 step/s, accuracy=0.69, loss=1.42, step=178000]\n",
      "Valid: 100% 5664/5667 [00:01<00:00, 3155.64 uttr/s, accuracy=0.66, loss=1.49]\n",
      "Train: 100% 2000/2000 [00:20<00:00, 97.09 step/s, accuracy=0.75, loss=0.62, step=180000] \n",
      "Valid: 100% 5664/5667 [00:01<00:00, 3272.02 uttr/s, accuracy=0.66, loss=1.46]\n",
      "Train:   0% 0/2000 [00:00<?, ? step/s]"
     ]
    },
    {
     "name": "stdout",
     "output_type": "stream",
     "text": [
      "Step 180000, best model saved. (accuracy=0.6728)\n"
     ]
    },
    {
     "name": "stderr",
     "output_type": "stream",
     "text": [
      "Train: 100% 2000/2000 [00:21<00:00, 91.81 step/s, accuracy=0.81, loss=0.73, step=182000] \n",
      "Valid: 100% 5664/5667 [00:01<00:00, 3050.80 uttr/s, accuracy=0.67, loss=1.49]\n",
      "Train: 100% 2000/2000 [00:21<00:00, 91.53 step/s, accuracy=0.84, loss=0.61, step=184000]\n",
      "Valid: 100% 5664/5667 [00:02<00:00, 2690.11 uttr/s, accuracy=0.66, loss=1.48]\n",
      "Train: 100% 2000/2000 [00:20<00:00, 95.66 step/s, accuracy=0.81, loss=0.81, step=186000] \n",
      "Valid: 100% 5664/5667 [00:01<00:00, 2998.18 uttr/s, accuracy=0.67, loss=1.47]\n",
      "Train: 100% 2000/2000 [00:21<00:00, 91.71 step/s, accuracy=0.72, loss=1.40, step=188000]\n",
      "Valid: 100% 5664/5667 [00:01<00:00, 3064.31 uttr/s, accuracy=0.68, loss=1.43]\n",
      "Train: 100% 2000/2000 [00:21<00:00, 94.75 step/s, accuracy=0.75, loss=0.80, step=190000]\n",
      "Valid: 100% 5664/5667 [00:02<00:00, 2769.29 uttr/s, accuracy=0.67, loss=1.46]\n",
      "Train:   0% 10/2000 [00:00<00:20, 99.07 step/s]"
     ]
    },
    {
     "name": "stdout",
     "output_type": "stream",
     "text": [
      "Step 190000, best model saved. (accuracy=0.6783)\n"
     ]
    },
    {
     "name": "stderr",
     "output_type": "stream",
     "text": [
      "Train: 100% 2000/2000 [00:21<00:00, 94.74 step/s, accuracy=0.81, loss=0.64, step=192000]\n",
      "Valid: 100% 5664/5667 [00:02<00:00, 2516.75 uttr/s, accuracy=0.68, loss=1.41]\n",
      "Train: 100% 2000/2000 [00:21<00:00, 94.89 step/s, accuracy=0.59, loss=1.93, step=194000]\n",
      "Valid: 100% 5664/5667 [00:01<00:00, 3246.32 uttr/s, accuracy=0.68, loss=1.44]\n",
      "Train: 100% 2000/2000 [00:20<00:00, 96.09 step/s, accuracy=0.72, loss=0.83, step=196000]\n",
      "Valid: 100% 5664/5667 [00:01<00:00, 2927.12 uttr/s, accuracy=0.68, loss=1.43]\n",
      "Train: 100% 2000/2000 [00:21<00:00, 93.76 step/s, accuracy=0.84, loss=0.64, step=198000] \n",
      "Valid: 100% 5664/5667 [00:01<00:00, 2973.94 uttr/s, accuracy=0.67, loss=1.46]\n",
      "Train: 100% 2000/2000 [00:21<00:00, 95.21 step/s, accuracy=0.72, loss=1.13, step=2e+5]\n",
      "Valid: 100% 5664/5667 [00:01<00:00, 3103.10 uttr/s, accuracy=0.67, loss=1.44]\n",
      "Train:   1% 11/2000 [00:00<00:19, 100.75 step/s]"
     ]
    },
    {
     "name": "stdout",
     "output_type": "stream",
     "text": [
      "Step 200000, best model saved. (accuracy=0.6808)\n"
     ]
    },
    {
     "name": "stderr",
     "output_type": "stream",
     "text": [
      "Train: 100% 2000/2000 [00:20<00:00, 95.95 step/s, accuracy=0.72, loss=1.22, step=202000]\n",
      "Valid: 100% 5664/5667 [00:01<00:00, 3165.11 uttr/s, accuracy=0.67, loss=1.45]\n",
      "Train: 100% 2000/2000 [00:21<00:00, 91.97 step/s, accuracy=0.75, loss=0.98, step=204000]\n",
      "Valid: 100% 5664/5667 [00:01<00:00, 3173.53 uttr/s, accuracy=0.70, loss=1.37]\n",
      "Train: 100% 2000/2000 [00:21<00:00, 92.73 step/s, accuracy=0.81, loss=0.92, step=206000]\n",
      "Valid: 100% 5664/5667 [00:01<00:00, 3037.92 uttr/s, accuracy=0.68, loss=1.43]\n",
      "Train: 100% 2000/2000 [00:20<00:00, 99.04 step/s, accuracy=0.69, loss=0.99, step=208000] \n",
      "Valid: 100% 5664/5667 [00:01<00:00, 3140.73 uttr/s, accuracy=0.69, loss=1.40]\n",
      "Train: 100% 2000/2000 [00:21<00:00, 93.01 step/s, accuracy=0.69, loss=1.05, step=210000] \n",
      "Valid: 100% 5664/5667 [00:01<00:00, 3064.11 uttr/s, accuracy=0.68, loss=1.42]\n",
      "Train:   0% 10/2000 [00:00<00:20, 98.54 step/s]"
     ]
    },
    {
     "name": "stdout",
     "output_type": "stream",
     "text": [
      "Step 210000, best model saved. (accuracy=0.6963)\n"
     ]
    },
    {
     "name": "stderr",
     "output_type": "stream",
     "text": [
      "Train: 100% 2000/2000 [00:21<00:00, 93.28 step/s, accuracy=0.88, loss=0.85, step=212000]\n",
      "Valid: 100% 5664/5667 [00:01<00:00, 2838.43 uttr/s, accuracy=0.67, loss=1.48]\n",
      "Train: 100% 2000/2000 [00:20<00:00, 96.14 step/s, accuracy=0.78, loss=0.87, step=214000] \n",
      "Valid: 100% 5664/5667 [00:02<00:00, 2687.71 uttr/s, accuracy=0.68, loss=1.45]\n",
      "Train: 100% 2000/2000 [00:21<00:00, 95.23 step/s, accuracy=0.75, loss=1.27, step=216000]\n",
      "Valid: 100% 5664/5667 [00:01<00:00, 3170.97 uttr/s, accuracy=0.68, loss=1.45]\n",
      "Train: 100% 2000/2000 [00:20<00:00, 98.08 step/s, accuracy=0.81, loss=0.94, step=218000] \n",
      "Valid: 100% 5664/5667 [00:01<00:00, 3183.50 uttr/s, accuracy=0.69, loss=1.37]\n",
      "Train: 100% 2000/2000 [00:21<00:00, 93.21 step/s, accuracy=0.78, loss=1.23, step=220000] \n",
      "Valid: 100% 5664/5667 [00:01<00:00, 3169.75 uttr/s, accuracy=0.69, loss=1.42]\n",
      "Train:   1% 11/2000 [00:00<00:19, 104.22 step/s]"
     ]
    },
    {
     "name": "stdout",
     "output_type": "stream",
     "text": [
      "Step 220000, best model saved. (accuracy=0.6963)\n"
     ]
    },
    {
     "name": "stderr",
     "output_type": "stream",
     "text": [
      "Train: 100% 2000/2000 [00:21<00:00, 95.09 step/s, accuracy=0.78, loss=0.76, step=222000]\n",
      "Valid: 100% 5664/5667 [00:01<00:00, 3211.08 uttr/s, accuracy=0.68, loss=1.40]\n",
      "Train: 100% 2000/2000 [00:20<00:00, 98.62 step/s, accuracy=0.78, loss=0.71, step=224000] \n",
      "Valid: 100% 5664/5667 [00:01<00:00, 3254.67 uttr/s, accuracy=0.69, loss=1.37]\n",
      "Train: 100% 2000/2000 [00:21<00:00, 93.95 step/s, accuracy=0.78, loss=0.70, step=226000] \n",
      "Valid: 100% 5664/5667 [00:01<00:00, 3090.32 uttr/s, accuracy=0.69, loss=1.36]\n",
      "Train: 100% 2000/2000 [00:20<00:00, 95.95 step/s, accuracy=0.78, loss=0.91, step=228000]\n",
      "Valid: 100% 5664/5667 [00:02<00:00, 2275.66 uttr/s, accuracy=0.69, loss=1.37]\n",
      "Train: 100% 2000/2000 [00:20<00:00, 98.99 step/s, accuracy=0.66, loss=1.09, step=230000] \n",
      "Valid: 100% 5664/5667 [00:01<00:00, 3221.19 uttr/s, accuracy=0.70, loss=1.35]\n",
      "Train:   1% 11/2000 [00:00<00:18, 108.65 step/s]"
     ]
    },
    {
     "name": "stdout",
     "output_type": "stream",
     "text": [
      "Step 230000, best model saved. (accuracy=0.6963)\n"
     ]
    },
    {
     "name": "stderr",
     "output_type": "stream",
     "text": [
      "Train: 100% 2000/2000 [00:21<00:00, 93.82 step/s, accuracy=0.75, loss=0.99, step=232000] \n",
      "Valid: 100% 5664/5667 [00:01<00:00, 3268.72 uttr/s, accuracy=0.68, loss=1.38]\n",
      "Train: 100% 2000/2000 [00:20<00:00, 98.09 step/s, accuracy=0.62, loss=0.94, step=234000] \n",
      "Valid: 100% 5664/5667 [00:01<00:00, 3118.45 uttr/s, accuracy=0.69, loss=1.37]\n",
      "Train: 100% 2000/2000 [00:21<00:00, 94.20 step/s, accuracy=0.62, loss=1.25, step=236000]\n",
      "Valid: 100% 5664/5667 [00:01<00:00, 3180.28 uttr/s, accuracy=0.70, loss=1.34]\n",
      "Train: 100% 2000/2000 [00:21<00:00, 94.56 step/s, accuracy=0.81, loss=0.59, step=238000]\n",
      "Valid: 100% 5664/5667 [00:01<00:00, 2832.60 uttr/s, accuracy=0.69, loss=1.36]\n",
      "Train: 100% 2000/2000 [00:20<00:00, 96.06 step/s, accuracy=0.59, loss=1.25, step=240000] \n",
      "Valid: 100% 5664/5667 [00:01<00:00, 3072.75 uttr/s, accuracy=0.69, loss=1.37]\n",
      "Train:   1% 11/2000 [00:00<00:18, 109.94 step/s]"
     ]
    },
    {
     "name": "stdout",
     "output_type": "stream",
     "text": [
      "Step 240000, best model saved. (accuracy=0.6969)\n"
     ]
    },
    {
     "name": "stderr",
     "output_type": "stream",
     "text": [
      "Train: 100% 2000/2000 [00:21<00:00, 93.47 step/s, accuracy=0.69, loss=1.27, step=242000]\n",
      "Valid: 100% 5664/5667 [00:01<00:00, 3051.77 uttr/s, accuracy=0.70, loss=1.34]\n",
      "Train: 100% 2000/2000 [00:20<00:00, 96.66 step/s, accuracy=0.91, loss=0.33, step=244000]\n",
      "Valid: 100% 5664/5667 [00:01<00:00, 3191.57 uttr/s, accuracy=0.70, loss=1.34]\n",
      "Train: 100% 2000/2000 [00:21<00:00, 92.19 step/s, accuracy=0.84, loss=0.69, step=246000]\n",
      "Valid: 100% 5664/5667 [00:01<00:00, 3170.83 uttr/s, accuracy=0.69, loss=1.35]\n",
      "Train: 100% 2000/2000 [00:20<00:00, 96.70 step/s, accuracy=0.81, loss=0.83, step=248000]\n",
      "Valid: 100% 5664/5667 [00:01<00:00, 3037.37 uttr/s, accuracy=0.70, loss=1.33]\n",
      "Train: 100% 2000/2000 [00:20<00:00, 98.63 step/s, accuracy=0.75, loss=0.80, step=250000]\n",
      "Valid: 100% 5664/5667 [00:01<00:00, 3095.96 uttr/s, accuracy=0.70, loss=1.34]\n",
      "Train:   0% 10/2000 [00:00<00:21, 92.39 step/s]"
     ]
    },
    {
     "name": "stdout",
     "output_type": "stream",
     "text": [
      "Step 250000, best model saved. (accuracy=0.7037)\n"
     ]
    },
    {
     "name": "stderr",
     "output_type": "stream",
     "text": [
      "Train: 100% 2000/2000 [00:21<00:00, 93.11 step/s, accuracy=0.66, loss=1.60, step=252000] \n",
      "Valid: 100% 5664/5667 [00:01<00:00, 3269.66 uttr/s, accuracy=0.70, loss=1.33]\n",
      "Train: 100% 2000/2000 [00:20<00:00, 98.45 step/s, accuracy=0.78, loss=0.86, step=254000] \n",
      "Valid: 100% 5664/5667 [00:01<00:00, 3216.81 uttr/s, accuracy=0.70, loss=1.33]\n",
      "Train: 100% 2000/2000 [00:20<00:00, 99.53 step/s, accuracy=0.78, loss=1.08, step=256000]\n",
      "Valid: 100% 5664/5667 [00:02<00:00, 2726.26 uttr/s, accuracy=0.70, loss=1.37]\n",
      "Train: 100% 2000/2000 [00:20<00:00, 97.41 step/s, accuracy=0.69, loss=1.02, step=258000] \n",
      "Valid: 100% 5664/5667 [00:01<00:00, 3292.85 uttr/s, accuracy=0.70, loss=1.34]\n",
      "Train: 100% 2000/2000 [00:20<00:00, 97.13 step/s, accuracy=0.75, loss=1.37, step=260000] \n",
      "Valid: 100% 5664/5667 [00:01<00:00, 3252.78 uttr/s, accuracy=0.70, loss=1.33]\n",
      "Train:   1% 11/2000 [00:00<00:18, 107.95 step/s]"
     ]
    },
    {
     "name": "stdout",
     "output_type": "stream",
     "text": [
      "Step 260000, best model saved. (accuracy=0.7037)\n"
     ]
    },
    {
     "name": "stderr",
     "output_type": "stream",
     "text": [
      "Train: 100% 2000/2000 [00:20<00:00, 97.89 step/s, accuracy=0.75, loss=1.06, step=262000] \n",
      "Valid: 100% 5664/5667 [00:01<00:00, 3196.53 uttr/s, accuracy=0.70, loss=1.30]\n",
      "Train: 100% 2000/2000 [00:20<00:00, 95.38 step/s, accuracy=0.75, loss=1.13, step=264000] \n",
      "Valid: 100% 5664/5667 [00:01<00:00, 3100.58 uttr/s, accuracy=0.70, loss=1.33]\n",
      "Train: 100% 2000/2000 [00:20<00:00, 98.08 step/s, accuracy=0.78, loss=0.73, step=266000]\n",
      "Valid: 100% 5664/5667 [00:01<00:00, 3212.74 uttr/s, accuracy=0.69, loss=1.33]\n",
      "Train: 100% 2000/2000 [00:20<00:00, 95.45 step/s, accuracy=0.84, loss=0.51, step=268000]\n",
      "Valid: 100% 5664/5667 [00:01<00:00, 3161.97 uttr/s, accuracy=0.70, loss=1.32]\n",
      "Train: 100% 2000/2000 [00:22<00:00, 90.46 step/s, accuracy=0.78, loss=0.65, step=270000]\n",
      "Valid: 100% 5664/5667 [00:01<00:00, 3022.45 uttr/s, accuracy=0.71, loss=1.33]\n",
      "Train:   0% 10/2000 [00:00<00:21, 94.21 step/s]"
     ]
    },
    {
     "name": "stdout",
     "output_type": "stream",
     "text": [
      "Step 270000, best model saved. (accuracy=0.7071)\n"
     ]
    },
    {
     "name": "stderr",
     "output_type": "stream",
     "text": [
      "Train: 100% 2000/2000 [00:20<00:00, 96.98 step/s, accuracy=0.81, loss=0.63, step=272000]\n",
      "Valid: 100% 5664/5667 [00:01<00:00, 3101.49 uttr/s, accuracy=0.70, loss=1.32]\n",
      "Train: 100% 2000/2000 [00:20<00:00, 95.97 step/s, accuracy=0.62, loss=1.63, step=274000] \n",
      "Valid: 100% 5664/5667 [00:01<00:00, 3156.68 uttr/s, accuracy=0.70, loss=1.32]\n",
      "Train: 100% 2000/2000 [00:21<00:00, 91.67 step/s, accuracy=0.91, loss=0.52, step=276000] \n",
      "Valid: 100% 5664/5667 [00:01<00:00, 3097.25 uttr/s, accuracy=0.70, loss=1.34]\n",
      "Train: 100% 2000/2000 [00:20<00:00, 97.41 step/s, accuracy=0.94, loss=0.43, step=278000]\n",
      "Valid: 100% 5664/5667 [00:01<00:00, 3215.07 uttr/s, accuracy=0.71, loss=1.33]\n",
      "Train: 100% 2000/2000 [00:20<00:00, 98.83 step/s, accuracy=0.94, loss=0.55, step=280000]\n",
      "Valid: 100% 5664/5667 [00:01<00:00, 3218.75 uttr/s, accuracy=0.71, loss=1.27]\n",
      "Train:   1% 12/2000 [00:00<00:16, 119.24 step/s]"
     ]
    },
    {
     "name": "stdout",
     "output_type": "stream",
     "text": [
      "Step 280000, best model saved. (accuracy=0.7145)\n"
     ]
    },
    {
     "name": "stderr",
     "output_type": "stream",
     "text": [
      "Train: 100% 2000/2000 [00:21<00:00, 92.94 step/s, accuracy=0.75, loss=1.15, step=282000]\n",
      "Valid: 100% 5664/5667 [00:01<00:00, 3294.69 uttr/s, accuracy=0.70, loss=1.31]\n",
      "Train: 100% 2000/2000 [00:20<00:00, 98.16 step/s, accuracy=0.78, loss=1.14, step=284000]\n",
      "Valid: 100% 5664/5667 [00:01<00:00, 3212.98 uttr/s, accuracy=0.71, loss=1.31]\n",
      "Train: 100% 2000/2000 [00:19<00:00, 100.82 step/s, accuracy=0.69, loss=1.48, step=286000]\n",
      "Valid: 100% 5664/5667 [00:01<00:00, 3198.93 uttr/s, accuracy=0.70, loss=1.32]\n",
      "Train: 100% 2000/2000 [00:21<00:00, 94.82 step/s, accuracy=0.81, loss=0.62, step=288000] \n",
      "Valid: 100% 5664/5667 [00:01<00:00, 3235.24 uttr/s, accuracy=0.71, loss=1.30]\n",
      "Train: 100% 2000/2000 [00:20<00:00, 98.33 step/s, accuracy=0.75, loss=0.78, step=290000]\n",
      "Valid: 100% 5664/5667 [00:01<00:00, 3286.35 uttr/s, accuracy=0.71, loss=1.28]\n",
      "Train:   1% 11/2000 [00:00<00:18, 109.07 step/s]"
     ]
    },
    {
     "name": "stdout",
     "output_type": "stream",
     "text": [
      "Step 290000, best model saved. (accuracy=0.7145)\n"
     ]
    },
    {
     "name": "stderr",
     "output_type": "stream",
     "text": [
      "Train: 100% 2000/2000 [00:19<00:00, 100.49 step/s, accuracy=0.78, loss=0.66, step=292000]\n",
      "Valid: 100% 5664/5667 [00:01<00:00, 3263.25 uttr/s, accuracy=0.71, loss=1.31]\n",
      "Train: 100% 2000/2000 [00:21<00:00, 94.49 step/s, accuracy=0.75, loss=0.91, step=294000] \n",
      "Valid: 100% 5664/5667 [00:01<00:00, 3202.67 uttr/s, accuracy=0.70, loss=1.30]\n",
      "Train: 100% 2000/2000 [00:20<00:00, 99.22 step/s, accuracy=0.81, loss=0.49, step=296000]\n",
      "Valid: 100% 5664/5667 [00:01<00:00, 3038.90 uttr/s, accuracy=0.72, loss=1.25]\n",
      "Train: 100% 2000/2000 [00:20<00:00, 99.43 step/s, accuracy=0.84, loss=0.52, step=298000] \n",
      "Valid: 100% 5664/5667 [00:01<00:00, 3051.50 uttr/s, accuracy=0.71, loss=1.29]\n",
      "Train: 100% 2000/2000 [00:21<00:00, 94.12 step/s, accuracy=0.69, loss=1.19, step=3e+5] \n",
      "Valid: 100% 5664/5667 [00:01<00:00, 3238.87 uttr/s, accuracy=0.71, loss=1.32]\n",
      "Train:   1% 12/2000 [00:00<00:16, 117.21 step/s]"
     ]
    },
    {
     "name": "stdout",
     "output_type": "stream",
     "text": [
      "Step 300000, best model saved. (accuracy=0.7212)\n"
     ]
    },
    {
     "name": "stderr",
     "output_type": "stream",
     "text": [
      "Train: 100% 2000/2000 [00:20<00:00, 97.34 step/s, accuracy=0.84, loss=0.91, step=302000] \n",
      "Valid: 100% 5664/5667 [00:01<00:00, 3145.44 uttr/s, accuracy=0.72, loss=1.26]\n",
      "Train: 100% 2000/2000 [00:20<00:00, 99.44 step/s, accuracy=0.81, loss=0.90, step=304000] \n",
      "Valid: 100% 5664/5667 [00:01<00:00, 3184.12 uttr/s, accuracy=0.72, loss=1.28]\n",
      "Train: 100% 2000/2000 [00:21<00:00, 93.94 step/s, accuracy=0.81, loss=1.36, step=306000]\n",
      "Valid: 100% 5664/5667 [00:01<00:00, 3144.89 uttr/s, accuracy=0.71, loss=1.30]\n",
      "Train: 100% 2000/2000 [00:20<00:00, 97.03 step/s, accuracy=0.75, loss=0.79, step=308000] \n",
      "Valid: 100% 5664/5667 [00:01<00:00, 3104.44 uttr/s, accuracy=0.72, loss=1.30]\n",
      "Train: 100% 2000/2000 [00:20<00:00, 97.01 step/s, accuracy=0.78, loss=0.62, step=310000]\n",
      "Valid: 100% 5664/5667 [00:01<00:00, 3220.92 uttr/s, accuracy=0.72, loss=1.27]\n",
      "Train:   1% 11/2000 [00:00<00:19, 104.49 step/s]"
     ]
    },
    {
     "name": "stdout",
     "output_type": "stream",
     "text": [
      "Step 310000, best model saved. (accuracy=0.7212)\n"
     ]
    },
    {
     "name": "stderr",
     "output_type": "stream",
     "text": [
      "Train: 100% 2000/2000 [00:21<00:00, 93.02 step/s, accuracy=0.75, loss=1.11, step=312000]\n",
      "Valid: 100% 5664/5667 [00:02<00:00, 2545.04 uttr/s, accuracy=0.71, loss=1.30]\n",
      "Train: 100% 2000/2000 [00:21<00:00, 95.23 step/s, accuracy=0.78, loss=0.80, step=314000] \n",
      "Valid: 100% 5664/5667 [00:01<00:00, 3063.93 uttr/s, accuracy=0.72, loss=1.25]\n",
      "Train: 100% 2000/2000 [00:20<00:00, 96.91 step/s, accuracy=0.81, loss=0.96, step=316000] \n",
      "Valid: 100% 5664/5667 [00:01<00:00, 3157.52 uttr/s, accuracy=0.72, loss=1.26]\n",
      "Train: 100% 2000/2000 [00:21<00:00, 91.73 step/s, accuracy=0.78, loss=0.92, step=318000] \n",
      "Valid: 100% 5664/5667 [00:01<00:00, 3167.95 uttr/s, accuracy=0.71, loss=1.26]\n",
      "Train: 100% 2000/2000 [00:19<00:00, 100.66 step/s, accuracy=0.78, loss=1.08, step=320000]\n",
      "Valid: 100% 5664/5667 [00:01<00:00, 3188.98 uttr/s, accuracy=0.71, loss=1.28]\n",
      "Train:   1% 12/2000 [00:00<00:18, 110.04 step/s]"
     ]
    },
    {
     "name": "stdout",
     "output_type": "stream",
     "text": [
      "Step 320000, best model saved. (accuracy=0.7212)\n"
     ]
    },
    {
     "name": "stderr",
     "output_type": "stream",
     "text": [
      "Train: 100% 2000/2000 [00:20<00:00, 96.26 step/s, accuracy=0.75, loss=0.89, step=322000]\n",
      "Valid: 100% 5664/5667 [00:01<00:00, 3199.67 uttr/s, accuracy=0.72, loss=1.26]\n",
      "Train: 100% 2000/2000 [00:21<00:00, 93.41 step/s, accuracy=0.81, loss=0.67, step=324000]\n",
      "Valid: 100% 5664/5667 [00:01<00:00, 2847.50 uttr/s, accuracy=0.72, loss=1.27]\n",
      "Train: 100% 2000/2000 [00:19<00:00, 100.12 step/s, accuracy=0.88, loss=0.56, step=326000]\n",
      "Valid: 100% 5664/5667 [00:02<00:00, 2716.86 uttr/s, accuracy=0.71, loss=1.28]\n",
      "Train: 100% 2000/2000 [00:20<00:00, 99.03 step/s, accuracy=0.81, loss=1.10, step=328000]\n",
      "Valid: 100% 5664/5667 [00:01<00:00, 3199.15 uttr/s, accuracy=0.72, loss=1.26]\n",
      "Train: 100% 2000/2000 [00:21<00:00, 92.55 step/s, accuracy=0.75, loss=0.69, step=330000]\n",
      "Valid: 100% 5664/5667 [00:01<00:00, 2843.12 uttr/s, accuracy=0.72, loss=1.27]\n",
      "Train:   1% 18/2000 [00:00<00:21, 90.27 step/s]"
     ]
    },
    {
     "name": "stdout",
     "output_type": "stream",
     "text": [
      "Step 330000, best model saved. (accuracy=0.7242)\n"
     ]
    },
    {
     "name": "stderr",
     "output_type": "stream",
     "text": [
      "Train: 100% 2000/2000 [00:20<00:00, 97.57 step/s, accuracy=0.75, loss=1.07, step=332000]\n",
      "Valid: 100% 5664/5667 [00:01<00:00, 3189.57 uttr/s, accuracy=0.72, loss=1.25]\n",
      "Train: 100% 2000/2000 [00:20<00:00, 99.67 step/s, accuracy=0.88, loss=0.58, step=334000] \n",
      "Valid: 100% 5664/5667 [00:01<00:00, 3218.83 uttr/s, accuracy=0.72, loss=1.25]\n",
      "Train: 100% 2000/2000 [00:20<00:00, 96.39 step/s, accuracy=0.72, loss=0.62, step=336000]\n",
      "Valid: 100% 5664/5667 [00:01<00:00, 2894.24 uttr/s, accuracy=0.72, loss=1.26]\n",
      "Train: 100% 2000/2000 [00:21<00:00, 94.57 step/s, accuracy=0.84, loss=0.73, step=338000]\n",
      "Valid: 100% 5664/5667 [00:01<00:00, 3284.72 uttr/s, accuracy=0.72, loss=1.25]\n",
      "Train: 100% 2000/2000 [00:20<00:00, 98.58 step/s, accuracy=0.66, loss=1.24, step=340000] \n",
      "Valid: 100% 5664/5667 [00:01<00:00, 2843.58 uttr/s, accuracy=0.72, loss=1.23]\n",
      "Train:   1% 14/2000 [00:00<00:14, 136.62 step/s]"
     ]
    },
    {
     "name": "stdout",
     "output_type": "stream",
     "text": [
      "Step 340000, best model saved. (accuracy=0.7242)\n"
     ]
    },
    {
     "name": "stderr",
     "output_type": "stream",
     "text": [
      "Train: 100% 2000/2000 [00:20<00:00, 98.77 step/s, accuracy=0.81, loss=0.75, step=342000]\n",
      "Valid: 100% 5664/5667 [00:01<00:00, 2881.55 uttr/s, accuracy=0.73, loss=1.23]\n",
      "Train: 100% 2000/2000 [00:21<00:00, 94.20 step/s, accuracy=0.62, loss=1.14, step=344000] \n",
      "Valid: 100% 5664/5667 [00:01<00:00, 3155.04 uttr/s, accuracy=0.72, loss=1.24]\n",
      "Train: 100% 2000/2000 [00:20<00:00, 97.17 step/s, accuracy=0.78, loss=0.83, step=346000]\n",
      "Valid: 100% 5664/5667 [00:01<00:00, 3214.01 uttr/s, accuracy=0.72, loss=1.26]\n",
      "Train: 100% 2000/2000 [00:19<00:00, 100.06 step/s, accuracy=0.84, loss=0.60, step=348000]\n",
      "Valid: 100% 5664/5667 [00:01<00:00, 3166.35 uttr/s, accuracy=0.72, loss=1.25]\n",
      "Train: 100% 2000/2000 [00:21<00:00, 90.99 step/s, accuracy=0.84, loss=0.76, step=350000] \n",
      "Valid: 100% 5664/5667 [00:01<00:00, 3132.25 uttr/s, accuracy=0.72, loss=1.25]\n",
      "Train:   1% 11/2000 [00:00<00:18, 109.22 step/s]"
     ]
    },
    {
     "name": "stdout",
     "output_type": "stream",
     "text": [
      "Step 350000, best model saved. (accuracy=0.7295)\n"
     ]
    },
    {
     "name": "stderr",
     "output_type": "stream",
     "text": [
      "Train: 100% 2000/2000 [00:20<00:00, 98.43 step/s, accuracy=0.91, loss=0.52, step=352000] \n",
      "Valid: 100% 5664/5667 [00:01<00:00, 3181.42 uttr/s, accuracy=0.73, loss=1.25]\n",
      "Train: 100% 2000/2000 [00:20<00:00, 98.38 step/s, accuracy=0.72, loss=1.13, step=354000] \n",
      "Valid: 100% 5664/5667 [00:01<00:00, 3242.19 uttr/s, accuracy=0.73, loss=1.23]\n",
      "Train: 100% 2000/2000 [00:21<00:00, 92.12 step/s, accuracy=0.78, loss=0.74, step=356000] \n",
      "Valid: 100% 5664/5667 [00:01<00:00, 3159.43 uttr/s, accuracy=0.73, loss=1.24]\n",
      "Train: 100% 2000/2000 [00:20<00:00, 99.18 step/s, accuracy=0.94, loss=0.25, step=358000] \n",
      "Valid: 100% 5664/5667 [00:01<00:00, 3154.92 uttr/s, accuracy=0.72, loss=1.28]\n",
      "Train: 100% 2000/2000 [00:20<00:00, 99.89 step/s, accuracy=0.75, loss=1.07, step=360000] \n",
      "Valid: 100% 5664/5667 [00:01<00:00, 3175.06 uttr/s, accuracy=0.73, loss=1.23]\n",
      "Train:   0% 0/2000 [00:00<?, ? step/s]"
     ]
    },
    {
     "name": "stdout",
     "output_type": "stream",
     "text": [
      "Step 360000, best model saved. (accuracy=0.7322)\n"
     ]
    },
    {
     "name": "stderr",
     "output_type": "stream",
     "text": [
      "Train: 100% 2000/2000 [00:21<00:00, 93.77 step/s, accuracy=0.91, loss=0.57, step=362000] \n",
      "Valid: 100% 5664/5667 [00:01<00:00, 3290.06 uttr/s, accuracy=0.73, loss=1.24]\n",
      "Train: 100% 2000/2000 [00:20<00:00, 99.93 step/s, accuracy=0.81, loss=1.00, step=364000] \n",
      "Valid: 100% 5664/5667 [00:01<00:00, 3268.22 uttr/s, accuracy=0.73, loss=1.21]\n",
      "Train: 100% 2000/2000 [00:20<00:00, 99.84 step/s, accuracy=0.81, loss=0.59, step=366000] \n",
      "Valid: 100% 5664/5667 [00:01<00:00, 3094.55 uttr/s, accuracy=0.72, loss=1.24]\n",
      "Train: 100% 2000/2000 [00:21<00:00, 94.71 step/s, accuracy=0.75, loss=0.98, step=368000]\n",
      "Valid: 100% 5664/5667 [00:01<00:00, 2838.79 uttr/s, accuracy=0.72, loss=1.27]\n",
      "Train: 100% 2000/2000 [00:19<00:00, 100.11 step/s, accuracy=0.84, loss=0.68, step=370000]\n",
      "Valid: 100% 5664/5667 [00:01<00:00, 3248.90 uttr/s, accuracy=0.73, loss=1.22]\n",
      "Train:   1% 11/2000 [00:00<00:18, 106.96 step/s]"
     ]
    },
    {
     "name": "stdout",
     "output_type": "stream",
     "text": [
      "Step 370000, best model saved. (accuracy=0.7322)\n"
     ]
    },
    {
     "name": "stderr",
     "output_type": "stream",
     "text": [
      "Train: 100% 2000/2000 [00:20<00:00, 99.48 step/s, accuracy=0.81, loss=0.82, step=372000] \n",
      "Valid: 100% 5664/5667 [00:01<00:00, 3152.29 uttr/s, accuracy=0.73, loss=1.22]\n",
      "Train: 100% 2000/2000 [00:20<00:00, 98.46 step/s, accuracy=0.78, loss=1.07, step=374000]\n",
      "Valid: 100% 5664/5667 [00:02<00:00, 2305.74 uttr/s, accuracy=0.73, loss=1.21]\n",
      "Train: 100% 2000/2000 [00:20<00:00, 96.38 step/s, accuracy=0.69, loss=1.36, step=376000]\n",
      "Valid: 100% 5664/5667 [00:01<00:00, 3141.81 uttr/s, accuracy=0.73, loss=1.20]\n",
      "Train: 100% 2000/2000 [00:20<00:00, 98.25 step/s, accuracy=0.84, loss=0.52, step=378000] \n",
      "Valid: 100% 5664/5667 [00:01<00:00, 3181.79 uttr/s, accuracy=0.72, loss=1.27]\n",
      "Train: 100% 2000/2000 [00:20<00:00, 98.45 step/s, accuracy=0.78, loss=0.96, step=380000]\n",
      "Valid: 100% 5664/5667 [00:01<00:00, 2886.89 uttr/s, accuracy=0.73, loss=1.26]\n",
      "Train:   1% 11/2000 [00:00<00:18, 105.63 step/s]"
     ]
    },
    {
     "name": "stdout",
     "output_type": "stream",
     "text": [
      "Step 380000, best model saved. (accuracy=0.7322)\n"
     ]
    },
    {
     "name": "stderr",
     "output_type": "stream",
     "text": [
      "Train: 100% 2000/2000 [00:21<00:00, 94.03 step/s, accuracy=0.84, loss=0.84, step=382000] \n",
      "Valid: 100% 5664/5667 [00:01<00:00, 3253.09 uttr/s, accuracy=0.72, loss=1.25]\n",
      "Train: 100% 2000/2000 [00:20<00:00, 96.53 step/s, accuracy=0.81, loss=0.81, step=384000]\n",
      "Valid: 100% 5664/5667 [00:01<00:00, 3133.78 uttr/s, accuracy=0.72, loss=1.25]\n",
      "Train: 100% 2000/2000 [00:20<00:00, 97.67 step/s, accuracy=0.84, loss=0.61, step=386000]\n",
      "Valid: 100% 5664/5667 [00:01<00:00, 3193.07 uttr/s, accuracy=0.73, loss=1.23]\n",
      "Train: 100% 2000/2000 [00:21<00:00, 92.63 step/s, accuracy=0.72, loss=0.86, step=388000]\n",
      "Valid: 100% 5664/5667 [00:02<00:00, 2765.45 uttr/s, accuracy=0.73, loss=1.24]\n",
      "Train: 100% 2000/2000 [00:20<00:00, 98.77 step/s, accuracy=0.78, loss=0.68, step=390000]\n",
      "Valid: 100% 5664/5667 [00:01<00:00, 3177.96 uttr/s, accuracy=0.72, loss=1.25]\n",
      "Train:   1% 11/2000 [00:00<00:18, 105.23 step/s]"
     ]
    },
    {
     "name": "stdout",
     "output_type": "stream",
     "text": [
      "Step 390000, best model saved. (accuracy=0.7322)\n"
     ]
    },
    {
     "name": "stderr",
     "output_type": "stream",
     "text": [
      "Train: 100% 2000/2000 [00:21<00:00, 94.66 step/s, accuracy=0.72, loss=1.01, step=392000]\n",
      "Valid: 100% 5664/5667 [00:01<00:00, 3239.11 uttr/s, accuracy=0.73, loss=1.22]\n",
      "Train: 100% 2000/2000 [00:22<00:00, 89.28 step/s, accuracy=0.84, loss=0.57, step=394000]\n",
      "Valid: 100% 5664/5667 [00:01<00:00, 3114.28 uttr/s, accuracy=0.73, loss=1.26]\n",
      "Train: 100% 2000/2000 [00:20<00:00, 99.35 step/s, accuracy=0.91, loss=0.63, step=396000] \n",
      "Valid: 100% 5664/5667 [00:01<00:00, 3180.31 uttr/s, accuracy=0.74, loss=1.23]\n",
      "Train: 100% 2000/2000 [00:20<00:00, 98.74 step/s, accuracy=0.94, loss=0.54, step=398000] \n",
      "Valid: 100% 5664/5667 [00:01<00:00, 3100.06 uttr/s, accuracy=0.73, loss=1.23]\n",
      "Train: 100% 2000/2000 [00:22<00:00, 90.12 step/s, accuracy=0.94, loss=0.38, step=4e+5]\n",
      "Valid: 100% 5664/5667 [00:01<00:00, 3174.96 uttr/s, accuracy=0.73, loss=1.20]\n",
      "Train:   0% 0/2000 [00:00<?, ? step/s]\n"
     ]
    },
    {
     "name": "stdout",
     "output_type": "stream",
     "text": [
      "Step 400000, best model saved. (accuracy=0.7361)\n"
     ]
    }
   ],
   "source": [
    "import torch\n",
    "import torch.nn as nn\n",
    "from torch.optim import AdamW\n",
    "from torch.utils.data import DataLoader, random_split\n",
    "from tqdm import tqdm\n",
    "\n",
    "def parse_args():\n",
    "    \"\"\"arguments\"\"\"\n",
    "    config = {\n",
    "        \"data_dir\": \"/kaggle/input/ml2022spring-hw4/Dataset\",\n",
    "        \"save_path\": \"model.ckpt\",\n",
    "        \"batch_size\": 32,\n",
    "        \"n_workers\": 8,\n",
    "        \"valid_steps\": 2000,\n",
    "        # fix warmup_steps\n",
    "        \"warmup_steps\": 1000,\n",
    "        \"save_steps\": 10000,\n",
    "        \"total_steps\": 400000,\n",
    "        \"resume\":False,\n",
    "    }\n",
    "    return config\n",
    "\n",
    "def main(\n",
    "    data_dir,\n",
    "    save_path,\n",
    "    batch_size,\n",
    "    n_workers,\n",
    "    valid_steps,\n",
    "    warmup_steps,\n",
    "    total_steps,\n",
    "    save_steps,\n",
    "    resume,\n",
    "):\n",
    "    \"\"\"Main function.\"\"\"\n",
    "    device = torch.device(\"cuda\" if torch.cuda.is_available() else \"cpu\")\n",
    "    print(f\"[Info]: Use {device} now!\")\n",
    "\n",
    "    train_loader, valid_loader, speaker_num = get_dataloader(data_dir, batch_size, n_workers)\n",
    "    train_iterator = iter(train_loader)\n",
    "    print(f\"[Info]: Finish loading data!\", flush=True)\n",
    "\n",
    "    model = Classifier(n_spks=speaker_num).to(device)\n",
    "    if resume:\n",
    "        model.load_state_dict(torch.load(\"/kaggle/input/model-file/model.ckpt\"))\n",
    "    criterion = nn.CrossEntropyLoss()\n",
    "    optimizer = AdamW(model.parameters(), lr=1e-3)\n",
    "    scheduler = get_cosine_schedule_with_warmup(optimizer, warmup_steps, total_steps)\n",
    "    print(f\"[Info]: Finish creating model!\", flush=True)\n",
    "\n",
    "    best_accuracy = -1.0\n",
    "    best_state_dict = None\n",
    "\n",
    "    pbar = tqdm(total=valid_steps, ncols=0, desc=\"Train\", unit=\" step\")\n",
    "\n",
    "    for step in range(total_steps):\n",
    "        # Get data\n",
    "        try:\n",
    "            batch = next(train_iterator)\n",
    "        except StopIteration:\n",
    "            train_iterator = iter(train_loader)\n",
    "            batch = next(train_iterator)\n",
    "\n",
    "        loss, accuracy = model_fn(batch, model, criterion, device)\n",
    "        batch_loss = loss.item()\n",
    "        batch_accuracy = accuracy.item()\n",
    "\n",
    "        # Updata model\n",
    "        loss.backward()\n",
    "        optimizer.step()\n",
    "        scheduler.step()\n",
    "        optimizer.zero_grad()\n",
    "\n",
    "        # Log\n",
    "        pbar.update()\n",
    "\n",
    "        if((step+1)%500==0):\n",
    "            pbar.set_postfix(\n",
    "                loss=f\"{batch_loss:.2f}\",\n",
    "                accuracy=f\"{batch_accuracy:.2f}\",\n",
    "                step=step + 1,\n",
    "            )            \n",
    "\n",
    "        # Do validation\n",
    "        if (step + 1) % valid_steps == 0:\n",
    "            pbar.close()\n",
    "\n",
    "            valid_accuracy = valid(valid_loader, model, criterion, device)\n",
    "\n",
    "            # keep the best model\n",
    "            if valid_accuracy > best_accuracy:\n",
    "                best_accuracy = valid_accuracy\n",
    "                best_state_dict = model.state_dict()\n",
    "\n",
    "            pbar = tqdm(total=valid_steps, ncols=0, desc=\"Train\", unit=\" step\")\n",
    "\n",
    "        # Save the best model so far.\n",
    "        if (step + 1) % save_steps == 0 and best_state_dict is not None:\n",
    "            torch.save(best_state_dict, save_path)\n",
    "            pbar.write(f\"Step {step + 1}, best model saved. (accuracy={best_accuracy:.4f})\")\n",
    "\n",
    "    pbar.close()\n",
    "\n",
    "if __name__ == \"__main__\":\n",
    "    main(**parse_args())\n"
   ]
  },
  {
   "cell_type": "markdown",
   "id": "be2c34e7",
   "metadata": {
    "id": "NLatBYAhNNMx",
    "papermill": {
     "duration": 6.394432,
     "end_time": "2024-04-28T15:14:21.237962",
     "exception": false,
     "start_time": "2024-04-28T15:14:14.843530",
     "status": "completed"
    },
    "tags": []
   },
   "source": [
    "# Inference\n",
    "\n",
    "## Dataset of inference"
   ]
  },
  {
   "cell_type": "code",
   "execution_count": 10,
   "id": "b14e45bc",
   "metadata": {
    "execution": {
     "iopub.execute_input": "2024-04-28T15:14:34.346413Z",
     "iopub.status.busy": "2024-04-28T15:14:34.345328Z",
     "iopub.status.idle": "2024-04-28T15:14:34.356752Z",
     "shell.execute_reply": "2024-04-28T15:14:34.355666Z"
    },
    "id": "efS4pCmAJXJH",
    "papermill": {
     "duration": 6.582133,
     "end_time": "2024-04-28T15:14:34.359444",
     "exception": false,
     "start_time": "2024-04-28T15:14:27.777311",
     "status": "completed"
    },
    "tags": []
   },
   "outputs": [],
   "source": [
    "import os\n",
    "import json\n",
    "import torch\n",
    "from pathlib import Path\n",
    "from torch.utils.data import Dataset\n",
    "\n",
    "\n",
    "class InferenceDataset(Dataset):\n",
    "\tdef __init__(self, data_dir):\n",
    "\t\ttestdata_path = Path(data_dir) / \"testdata.json\"\n",
    "\t\tmetadata = json.load(testdata_path.open())\n",
    "\t\tself.data_dir = data_dir\n",
    "\t\tself.data = metadata[\"utterances\"]\n",
    "\n",
    "\tdef __len__(self):\n",
    "\t\treturn len(self.data)\n",
    "\n",
    "\tdef __getitem__(self, index):\n",
    "\t\tutterance = self.data[index]\n",
    "\t\tfeat_path = utterance[\"feature_path\"]\n",
    "\t\tmel = torch.load(os.path.join(self.data_dir, feat_path))\n",
    "\n",
    "\t\treturn feat_path, mel\n",
    "\n",
    "\n",
    "def inference_collate_batch(batch):\n",
    "\t\"\"\"Collate a batch of data.\"\"\"\n",
    "\tfeat_paths, mels = zip(*batch)\n",
    "\n",
    "\treturn feat_paths, torch.stack(mels)"
   ]
  },
  {
   "cell_type": "markdown",
   "id": "3ed165e8",
   "metadata": {
    "id": "tl0WnYwxNK_S",
    "papermill": {
     "duration": 6.471197,
     "end_time": "2024-04-28T15:14:47.273560",
     "exception": false,
     "start_time": "2024-04-28T15:14:40.802363",
     "status": "completed"
    },
    "tags": []
   },
   "source": [
    "## Main funcrion of Inference"
   ]
  },
  {
   "cell_type": "code",
   "execution_count": 11,
   "id": "f0001fd7",
   "metadata": {
    "execution": {
     "iopub.execute_input": "2024-04-28T15:15:00.226868Z",
     "iopub.status.busy": "2024-04-28T15:15:00.226023Z",
     "iopub.status.idle": "2024-04-28T15:15:18.054276Z",
     "shell.execute_reply": "2024-04-28T15:15:18.053318Z"
    },
    "id": "i8SAbuXEJb2A",
    "papermill": {
     "duration": 24.32351,
     "end_time": "2024-04-28T15:15:18.056579",
     "exception": false,
     "start_time": "2024-04-28T15:14:53.733069",
     "status": "completed"
    },
    "tags": []
   },
   "outputs": [
    {
     "name": "stdout",
     "output_type": "stream",
     "text": [
      "[Info]: Use cuda now!\n",
      "[Info]: Finish loading data!\n",
      "[Info]: Finish creating model!\n"
     ]
    },
    {
     "data": {
      "application/vnd.jupyter.widget-view+json": {
       "model_id": "8b37030ab98347e59c3607c2d38afceb",
       "version_major": 2,
       "version_minor": 0
      },
      "text/plain": [
       "  0%|          | 0/8000 [00:00<?, ?it/s]"
      ]
     },
     "metadata": {},
     "output_type": "display_data"
    }
   ],
   "source": [
    "import json\n",
    "import csv\n",
    "from pathlib import Path\n",
    "from tqdm.notebook import tqdm\n",
    "\n",
    "import torch\n",
    "from torch.utils.data import DataLoader\n",
    "\n",
    "def parse_args():\n",
    "\t\"\"\"arguments\"\"\"\n",
    "\tconfig = {\n",
    "\t\t\"data_dir\": \"/kaggle/input/ml2022spring-hw4/Dataset\",\n",
    "\t\t\"model_path\": \"./model.ckpt\",\n",
    "\t\t\"output_path\": \"./output.csv\",\n",
    "\t}\n",
    "\n",
    "\treturn config\n",
    "\n",
    "\n",
    "def main(\n",
    "\tdata_dir,\n",
    "\tmodel_path,\n",
    "\toutput_path,\n",
    "):\n",
    "\t\"\"\"Main function.\"\"\"\n",
    "\tdevice = torch.device(\"cuda\" if torch.cuda.is_available() else \"cpu\")\n",
    "\tprint(f\"[Info]: Use {device} now!\")\n",
    "\n",
    "\tmapping_path = Path(data_dir) / \"mapping.json\"\n",
    "\tmapping = json.load(mapping_path.open())\n",
    "\n",
    "\tdataset = InferenceDataset(data_dir)\n",
    "\tdataloader = DataLoader(\n",
    "\t\tdataset,\n",
    "\t\tbatch_size=1,\n",
    "\t\tshuffle=False,\n",
    "\t\tdrop_last=False,\n",
    "\t\tnum_workers=8,\n",
    "\t\tcollate_fn=inference_collate_batch,\n",
    "\t)\n",
    "\tprint(f\"[Info]: Finish loading data!\",flush = True)\n",
    "\n",
    "\tspeaker_num = len(mapping[\"id2speaker\"])\n",
    "\tmodel = Classifier(n_spks=speaker_num).to(device)\n",
    "\tmodel.load_state_dict(torch.load(model_path))\n",
    "\tmodel.eval()\n",
    "\tprint(f\"[Info]: Finish creating model!\",flush = True)\n",
    "\n",
    "\tresults = [[\"Id\", \"Category\"]]\n",
    "\tfor feat_paths, mels in tqdm(dataloader):\n",
    "\t\twith torch.no_grad():\n",
    "\t\t\tmels = mels.to(device)\n",
    "\t\t\touts = model(mels)\n",
    "\t\t\tpreds = outs.argmax(1).cpu().numpy()\n",
    "\t\t\tfor feat_path, pred in zip(feat_paths, preds):\n",
    "\t\t\t\tresults.append([feat_path, mapping[\"id2speaker\"][str(pred)]])\n",
    "\n",
    "\twith open(output_path, 'w', newline='') as csvfile:\n",
    "\t\twriter = csv.writer(csvfile)\n",
    "\t\twriter.writerows(results)\n",
    "\n",
    "\n",
    "if __name__ == \"__main__\":\n",
    "\tmain(**parse_args())"
   ]
  }
 ],
 "metadata": {
  "accelerator": "GPU",
  "colab": {
   "collapsed_sections": [],
   "name": "hw04.ipynb",
   "provenance": []
  },
  "kaggle": {
   "accelerator": "gpu",
   "dataSources": [
    {
     "databundleVersionId": 3328800,
     "sourceId": 34762,
     "sourceType": "competition"
    },
    {
     "databundleVersionId": 8381107,
     "datasetId": 4889250,
     "sourceId": 8253126,
     "sourceType": "datasetVersion"
    }
   ],
   "dockerImageVersionId": 30699,
   "isGpuEnabled": true,
   "isInternetEnabled": true,
   "language": "python",
   "sourceType": "notebook"
  },
  "kernelspec": {
   "display_name": "Python 3",
   "language": "python",
   "name": "python3"
  },
  "language_info": {
   "codemirror_mode": {
    "name": "ipython",
    "version": 3
   },
   "file_extension": ".py",
   "mimetype": "text/x-python",
   "name": "python",
   "nbconvert_exporter": "python",
   "pygments_lexer": "ipython3",
   "version": "3.10.13"
  },
  "papermill": {
   "default_parameters": {},
   "duration": 4729.271529,
   "end_time": "2024-04-28T15:15:26.343362",
   "environment_variables": {},
   "exception": null,
   "input_path": "__notebook__.ipynb",
   "output_path": "__notebook__.ipynb",
   "parameters": {},
   "start_time": "2024-04-28T13:56:37.071833",
   "version": "2.5.0"
  },
  "widgets": {
   "application/vnd.jupyter.widget-state+json": {
    "state": {
     "0101d2a97def4519a6a65ac156107bfe": {
      "model_module": "@jupyter-widgets/base",
      "model_module_version": "1.2.0",
      "model_name": "LayoutModel",
      "state": {
       "_model_module": "@jupyter-widgets/base",
       "_model_module_version": "1.2.0",
       "_model_name": "LayoutModel",
       "_view_count": null,
       "_view_module": "@jupyter-widgets/base",
       "_view_module_version": "1.2.0",
       "_view_name": "LayoutView",
       "align_content": null,
       "align_items": null,
       "align_self": null,
       "border": null,
       "bottom": null,
       "display": null,
       "flex": null,
       "flex_flow": null,
       "grid_area": null,
       "grid_auto_columns": null,
       "grid_auto_flow": null,
       "grid_auto_rows": null,
       "grid_column": null,
       "grid_gap": null,
       "grid_row": null,
       "grid_template_areas": null,
       "grid_template_columns": null,
       "grid_template_rows": null,
       "height": null,
       "justify_content": null,
       "justify_items": null,
       "left": null,
       "margin": null,
       "max_height": null,
       "max_width": null,
       "min_height": null,
       "min_width": null,
       "object_fit": null,
       "object_position": null,
       "order": null,
       "overflow": null,
       "overflow_x": null,
       "overflow_y": null,
       "padding": null,
       "right": null,
       "top": null,
       "visibility": null,
       "width": null
      }
     },
     "3b578664eebc43bc9e286f94ee482882": {
      "model_module": "@jupyter-widgets/controls",
      "model_module_version": "1.5.0",
      "model_name": "HTMLModel",
      "state": {
       "_dom_classes": [],
       "_model_module": "@jupyter-widgets/controls",
       "_model_module_version": "1.5.0",
       "_model_name": "HTMLModel",
       "_view_count": null,
       "_view_module": "@jupyter-widgets/controls",
       "_view_module_version": "1.5.0",
       "_view_name": "HTMLView",
       "description": "",
       "description_tooltip": null,
       "layout": "IPY_MODEL_0101d2a97def4519a6a65ac156107bfe",
       "placeholder": "​",
       "style": "IPY_MODEL_f805861843574c8190f2962891e4c224",
       "value": "100%"
      }
     },
     "57d5cfb522bb45a3bc2367cd52b51428": {
      "model_module": "@jupyter-widgets/base",
      "model_module_version": "1.2.0",
      "model_name": "LayoutModel",
      "state": {
       "_model_module": "@jupyter-widgets/base",
       "_model_module_version": "1.2.0",
       "_model_name": "LayoutModel",
       "_view_count": null,
       "_view_module": "@jupyter-widgets/base",
       "_view_module_version": "1.2.0",
       "_view_name": "LayoutView",
       "align_content": null,
       "align_items": null,
       "align_self": null,
       "border": null,
       "bottom": null,
       "display": null,
       "flex": null,
       "flex_flow": null,
       "grid_area": null,
       "grid_auto_columns": null,
       "grid_auto_flow": null,
       "grid_auto_rows": null,
       "grid_column": null,
       "grid_gap": null,
       "grid_row": null,
       "grid_template_areas": null,
       "grid_template_columns": null,
       "grid_template_rows": null,
       "height": null,
       "justify_content": null,
       "justify_items": null,
       "left": null,
       "margin": null,
       "max_height": null,
       "max_width": null,
       "min_height": null,
       "min_width": null,
       "object_fit": null,
       "object_position": null,
       "order": null,
       "overflow": null,
       "overflow_x": null,
       "overflow_y": null,
       "padding": null,
       "right": null,
       "top": null,
       "visibility": null,
       "width": null
      }
     },
     "72bfba0c397b49639477676805bd4cb8": {
      "model_module": "@jupyter-widgets/base",
      "model_module_version": "1.2.0",
      "model_name": "LayoutModel",
      "state": {
       "_model_module": "@jupyter-widgets/base",
       "_model_module_version": "1.2.0",
       "_model_name": "LayoutModel",
       "_view_count": null,
       "_view_module": "@jupyter-widgets/base",
       "_view_module_version": "1.2.0",
       "_view_name": "LayoutView",
       "align_content": null,
       "align_items": null,
       "align_self": null,
       "border": null,
       "bottom": null,
       "display": null,
       "flex": null,
       "flex_flow": null,
       "grid_area": null,
       "grid_auto_columns": null,
       "grid_auto_flow": null,
       "grid_auto_rows": null,
       "grid_column": null,
       "grid_gap": null,
       "grid_row": null,
       "grid_template_areas": null,
       "grid_template_columns": null,
       "grid_template_rows": null,
       "height": null,
       "justify_content": null,
       "justify_items": null,
       "left": null,
       "margin": null,
       "max_height": null,
       "max_width": null,
       "min_height": null,
       "min_width": null,
       "object_fit": null,
       "object_position": null,
       "order": null,
       "overflow": null,
       "overflow_x": null,
       "overflow_y": null,
       "padding": null,
       "right": null,
       "top": null,
       "visibility": null,
       "width": null
      }
     },
     "84b2f527d4504aaa81a43a0aee271718": {
      "model_module": "@jupyter-widgets/controls",
      "model_module_version": "1.5.0",
      "model_name": "DescriptionStyleModel",
      "state": {
       "_model_module": "@jupyter-widgets/controls",
       "_model_module_version": "1.5.0",
       "_model_name": "DescriptionStyleModel",
       "_view_count": null,
       "_view_module": "@jupyter-widgets/base",
       "_view_module_version": "1.2.0",
       "_view_name": "StyleView",
       "description_width": ""
      }
     },
     "86c3d8631a4d40d08cfcff86168d9cb0": {
      "model_module": "@jupyter-widgets/base",
      "model_module_version": "1.2.0",
      "model_name": "LayoutModel",
      "state": {
       "_model_module": "@jupyter-widgets/base",
       "_model_module_version": "1.2.0",
       "_model_name": "LayoutModel",
       "_view_count": null,
       "_view_module": "@jupyter-widgets/base",
       "_view_module_version": "1.2.0",
       "_view_name": "LayoutView",
       "align_content": null,
       "align_items": null,
       "align_self": null,
       "border": null,
       "bottom": null,
       "display": null,
       "flex": null,
       "flex_flow": null,
       "grid_area": null,
       "grid_auto_columns": null,
       "grid_auto_flow": null,
       "grid_auto_rows": null,
       "grid_column": null,
       "grid_gap": null,
       "grid_row": null,
       "grid_template_areas": null,
       "grid_template_columns": null,
       "grid_template_rows": null,
       "height": null,
       "justify_content": null,
       "justify_items": null,
       "left": null,
       "margin": null,
       "max_height": null,
       "max_width": null,
       "min_height": null,
       "min_width": null,
       "object_fit": null,
       "object_position": null,
       "order": null,
       "overflow": null,
       "overflow_x": null,
       "overflow_y": null,
       "padding": null,
       "right": null,
       "top": null,
       "visibility": null,
       "width": null
      }
     },
     "8b37030ab98347e59c3607c2d38afceb": {
      "model_module": "@jupyter-widgets/controls",
      "model_module_version": "1.5.0",
      "model_name": "HBoxModel",
      "state": {
       "_dom_classes": [],
       "_model_module": "@jupyter-widgets/controls",
       "_model_module_version": "1.5.0",
       "_model_name": "HBoxModel",
       "_view_count": null,
       "_view_module": "@jupyter-widgets/controls",
       "_view_module_version": "1.5.0",
       "_view_name": "HBoxView",
       "box_style": "",
       "children": [
        "IPY_MODEL_3b578664eebc43bc9e286f94ee482882",
        "IPY_MODEL_c60226d92c4046e483d4fef62109b0f0",
        "IPY_MODEL_ad46ab10cda346228420ab705892aca9"
       ],
       "layout": "IPY_MODEL_86c3d8631a4d40d08cfcff86168d9cb0"
      }
     },
     "ad46ab10cda346228420ab705892aca9": {
      "model_module": "@jupyter-widgets/controls",
      "model_module_version": "1.5.0",
      "model_name": "HTMLModel",
      "state": {
       "_dom_classes": [],
       "_model_module": "@jupyter-widgets/controls",
       "_model_module_version": "1.5.0",
       "_model_name": "HTMLModel",
       "_view_count": null,
       "_view_module": "@jupyter-widgets/controls",
       "_view_module_version": "1.5.0",
       "_view_name": "HTMLView",
       "description": "",
       "description_tooltip": null,
       "layout": "IPY_MODEL_57d5cfb522bb45a3bc2367cd52b51428",
       "placeholder": "​",
       "style": "IPY_MODEL_84b2f527d4504aaa81a43a0aee271718",
       "value": " 8000/8000 [00:17&lt;00:00, 458.07it/s]"
      }
     },
     "bb95b256acab4360b4fe7d4b327ed847": {
      "model_module": "@jupyter-widgets/controls",
      "model_module_version": "1.5.0",
      "model_name": "ProgressStyleModel",
      "state": {
       "_model_module": "@jupyter-widgets/controls",
       "_model_module_version": "1.5.0",
       "_model_name": "ProgressStyleModel",
       "_view_count": null,
       "_view_module": "@jupyter-widgets/base",
       "_view_module_version": "1.2.0",
       "_view_name": "StyleView",
       "bar_color": null,
       "description_width": ""
      }
     },
     "c60226d92c4046e483d4fef62109b0f0": {
      "model_module": "@jupyter-widgets/controls",
      "model_module_version": "1.5.0",
      "model_name": "FloatProgressModel",
      "state": {
       "_dom_classes": [],
       "_model_module": "@jupyter-widgets/controls",
       "_model_module_version": "1.5.0",
       "_model_name": "FloatProgressModel",
       "_view_count": null,
       "_view_module": "@jupyter-widgets/controls",
       "_view_module_version": "1.5.0",
       "_view_name": "ProgressView",
       "bar_style": "success",
       "description": "",
       "description_tooltip": null,
       "layout": "IPY_MODEL_72bfba0c397b49639477676805bd4cb8",
       "max": 8000.0,
       "min": 0.0,
       "orientation": "horizontal",
       "style": "IPY_MODEL_bb95b256acab4360b4fe7d4b327ed847",
       "value": 8000.0
      }
     },
     "f805861843574c8190f2962891e4c224": {
      "model_module": "@jupyter-widgets/controls",
      "model_module_version": "1.5.0",
      "model_name": "DescriptionStyleModel",
      "state": {
       "_model_module": "@jupyter-widgets/controls",
       "_model_module_version": "1.5.0",
       "_model_name": "DescriptionStyleModel",
       "_view_count": null,
       "_view_module": "@jupyter-widgets/base",
       "_view_module_version": "1.2.0",
       "_view_name": "StyleView",
       "description_width": ""
      }
     }
    },
    "version_major": 2,
    "version_minor": 0
   }
  }
 },
 "nbformat": 4,
 "nbformat_minor": 5
}
