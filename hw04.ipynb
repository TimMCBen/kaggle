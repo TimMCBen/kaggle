{
 "cells": [
  {
   "cell_type": "markdown",
   "id": "1451d0af",
   "metadata": {
    "id": "C_jdZ5vHJ4A9",
    "papermill": {
     "duration": 0.006669,
     "end_time": "2024-04-30T05:48:03.409322",
     "exception": false,
     "start_time": "2024-04-30T05:48:03.402653",
     "status": "completed"
    },
    "tags": []
   },
   "source": [
    "# Task description\n",
    "- Classify the speakers of given features.\n",
    "- Main goal: Learn how to use transformer.\n",
    "- Baselines:\n",
    "  - Easy: Run sample code and know how to use transformer.\n",
    "  - Medium: Know how to adjust parameters of transformer.\n",
    "  - Strong: Construct [conformer](https://arxiv.org/abs/2005.08100) which is a variety of transformer. \n",
    "  - Boss: Implement [Self-Attention Pooling](https://arxiv.org/pdf/2008.01077v1.pdf) & [Additive Margin Softmax](https://arxiv.org/pdf/1801.05599.pdf) to further boost the performance.\n",
    "\n",
    "- Other links\n",
    "  - Kaggle: [link](https://www.kaggle.com/t/ac77388c90204a4c8daebeddd40ff916)\n",
    "  - Slide: [link](https://docs.google.com/presentation/d/1HLAj7UUIjZOycDe7DaVLSwJfXVd3bXPOyzSb6Zk3hYU/edit?usp=sharing)\n",
    "  - Data: [link](https://github.com/MachineLearningHW/ML_HW4_Dataset)\n",
    "\n",
    "# Download dataset\n",
    "- Data is [here](https://github.com/MachineLearningHW/ML_HW4_Dataset)"
   ]
  },
  {
   "cell_type": "code",
   "execution_count": 1,
   "id": "d463ac57",
   "metadata": {
    "execution": {
     "iopub.execute_input": "2024-04-30T05:48:03.423377Z",
     "iopub.status.busy": "2024-04-30T05:48:03.423039Z",
     "iopub.status.idle": "2024-04-30T05:48:03.436639Z",
     "shell.execute_reply": "2024-04-30T05:48:03.435765Z"
    },
    "id": "LhLNWB-AK2Z5",
    "papermill": {
     "duration": 0.022885,
     "end_time": "2024-04-30T05:48:03.438596",
     "exception": false,
     "start_time": "2024-04-30T05:48:03.415711",
     "status": "completed"
    },
    "tags": []
   },
   "outputs": [
    {
     "data": {
      "text/plain": [
       "'\\nIf the links below become inaccessible, please connect TAs.\\n'"
      ]
     },
     "execution_count": 1,
     "metadata": {},
     "output_type": "execute_result"
    }
   ],
   "source": [
    "\"\"\"\n",
    "If the links below become inaccessible, please connect TAs.\n",
    "\"\"\"\n",
    "\n",
    "# !wget https://github.com/MachineLearningHW/ML_HW4_Dataset/raw/0.0.1/Dataset.tar.gz.partaa\n",
    "# !wget https://github.com/MachineLearningHW/ML_HW4_Dataset/raw/0.0.1/Dataset.tar.gz.partab\n",
    "# !wget https://github.com/MachineLearningHW/ML_HW4_Dataset/raw/0.0.1/Dataset.tar.gz.partac\n",
    "# !wget https://github.com/MachineLearningHW/ML_HW4_Dataset/raw/0.0.1/Dataset.tar.gz.partad\n",
    "\n",
    "# !cat Dataset.tar.gz.parta* > Dataset.tar.gz\n",
    "\n",
    "# !tar zxvf Dataset.tar.gz"
   ]
  },
  {
   "cell_type": "markdown",
   "id": "56bd7880",
   "metadata": {
    "id": "ENWVAUDVJtVY",
    "papermill": {
     "duration": 0.005952,
     "end_time": "2024-04-30T05:48:03.450877",
     "exception": false,
     "start_time": "2024-04-30T05:48:03.444925",
     "status": "completed"
    },
    "tags": []
   },
   "source": [
    "## Fix Random Seed"
   ]
  },
  {
   "cell_type": "code",
   "execution_count": 2,
   "id": "f03f7c06",
   "metadata": {
    "execution": {
     "iopub.execute_input": "2024-04-30T05:48:03.464366Z",
     "iopub.status.busy": "2024-04-30T05:48:03.464083Z",
     "iopub.status.idle": "2024-04-30T05:48:07.243175Z",
     "shell.execute_reply": "2024-04-30T05:48:07.242185Z"
    },
    "id": "E6burzCXIyuA",
    "papermill": {
     "duration": 3.789057,
     "end_time": "2024-04-30T05:48:07.246041",
     "exception": false,
     "start_time": "2024-04-30T05:48:03.456984",
     "status": "completed"
    },
    "tags": []
   },
   "outputs": [],
   "source": [
    "import numpy as np\n",
    "import torch\n",
    "import random\n",
    "\n",
    "def set_seed(seed):\n",
    "    np.random.seed(seed)\n",
    "    random.seed(seed)\n",
    "    torch.manual_seed(seed)\n",
    "    if torch.cuda.is_available():\n",
    "        torch.cuda.manual_seed(seed)\n",
    "        torch.cuda.manual_seed_all(seed)\n",
    "    torch.backends.cudnn.benchmark = False\n",
    "    torch.backends.cudnn.deterministic = True\n",
    "\n",
    "set_seed(87)"
   ]
  },
  {
   "cell_type": "markdown",
   "id": "77a8dedc",
   "metadata": {
    "id": "k7dVbxW2LASN",
    "papermill": {
     "duration": 0.008958,
     "end_time": "2024-04-30T05:48:07.264341",
     "exception": false,
     "start_time": "2024-04-30T05:48:07.255383",
     "status": "completed"
    },
    "tags": []
   },
   "source": [
    "# Data\n",
    "\n",
    "## Dataset\n",
    "- Original dataset is [Voxceleb2](https://www.robots.ox.ac.uk/~vgg/data/voxceleb/vox2.html).\n",
    "- The [license](https://creativecommons.org/licenses/by/4.0/) and [complete version](https://www.robots.ox.ac.uk/~vgg/data/voxceleb/files/license.txt) of Voxceleb2.\n",
    "- We randomly select 600 speakers from Voxceleb2.\n",
    "- Then preprocess the raw waveforms into mel-spectrograms.\n",
    "\n",
    "- Args:\n",
    "  - data_dir: The path to the data directory.\n",
    "  - metadata_path: The path to the metadata.\n",
    "  - segment_len: The length of audio segment for training. \n",
    "- The architecture of data directory \\\\\n",
    "  - data directory \\\\\n",
    "  |---- metadata.json \\\\\n",
    "  |---- testdata.json \\\\\n",
    "  |---- mapping.json \\\\\n",
    "  |---- uttr-{random string}.pt \\\\\n",
    "\n",
    "- The information in metadata\n",
    "  - \"n_mels\": The dimention of mel-spectrogram.\n",
    "  - \"speakers\": A dictionary. \n",
    "    - Key: speaker ids.\n",
    "    - value: \"feature_path\" and \"mel_len\"\n",
    "\n",
    "\n",
    "For efficiency, we segment the mel-spectrograms into segments in the traing step."
   ]
  },
  {
   "cell_type": "code",
   "execution_count": 3,
   "id": "c5ea0214",
   "metadata": {
    "execution": {
     "iopub.execute_input": "2024-04-30T05:48:07.283987Z",
     "iopub.status.busy": "2024-04-30T05:48:07.283518Z",
     "iopub.status.idle": "2024-04-30T05:48:07.295324Z",
     "shell.execute_reply": "2024-04-30T05:48:07.294296Z"
    },
    "id": "KpuGxl4CI2pr",
    "papermill": {
     "duration": 0.023805,
     "end_time": "2024-04-30T05:48:07.297366",
     "exception": false,
     "start_time": "2024-04-30T05:48:07.273561",
     "status": "completed"
    },
    "tags": []
   },
   "outputs": [],
   "source": [
    "import os\n",
    "import json\n",
    "import torch\n",
    "import random\n",
    "from pathlib import Path\n",
    "from torch.utils.data import Dataset\n",
    "from torch.nn.utils.rnn import pad_sequence\n",
    " \n",
    " \n",
    "class myDataset(Dataset):\n",
    "\tdef __init__(self, data_dir, segment_len=128):\n",
    "\t\tself.data_dir = data_dir\n",
    "\t\tself.segment_len = segment_len\n",
    "\t\n",
    "\t\t# Load the mapping from speaker neme to their corresponding id. \n",
    "\t\tmapping_path = Path(data_dir) / \"mapping.json\"\n",
    "\t\tmapping = json.load(mapping_path.open())\n",
    "\t\tself.speaker2id = mapping[\"speaker2id\"]\n",
    "\t\n",
    "\t\t# Load metadata of training data.\n",
    "\t\tmetadata_path = Path(data_dir) / \"metadata.json\"\n",
    "\t\tmetadata = json.load(open(metadata_path))[\"speakers\"]\n",
    "\t\n",
    "\t\t# Get the total number of speaker.\n",
    "\t\tself.speaker_num = len(metadata.keys())\n",
    "\t\tself.data = []\n",
    "\t\tfor speaker in metadata.keys():\n",
    "\t\t\tfor utterances in metadata[speaker]:\n",
    "\t\t\t\tself.data.append([utterances[\"feature_path\"], self.speaker2id[speaker]])\n",
    " \n",
    "\tdef __len__(self):\n",
    "\t\t\treturn len(self.data)\n",
    " \n",
    "\tdef __getitem__(self, index):\n",
    "\t\tfeat_path, speaker = self.data[index]\n",
    "\t\t# Load preprocessed mel-spectrogram.\n",
    "\t\tmel = torch.load(os.path.join(self.data_dir, feat_path))\n",
    "\n",
    "\t\t# Segmemt mel-spectrogram into \"segment_len\" frames.\n",
    "\t\tif len(mel) > self.segment_len:\n",
    "\t\t\t# Randomly get the starting point of the segment.\n",
    "\t\t\tstart = random.randint(0, len(mel) - self.segment_len)\n",
    "\t\t\t# Get a segment with \"segment_len\" frames.\n",
    "\t\t\tmel = torch.FloatTensor(mel[start:start+self.segment_len])\n",
    "\t\telse:\n",
    "\t\t\tmel = torch.FloatTensor(mel)\n",
    "\t\t# Turn the speaker id into long for computing loss later.\n",
    "\t\tspeaker = torch.FloatTensor([speaker]).long()\n",
    "\t\treturn mel, speaker\n",
    " \n",
    "\tdef get_speaker_number(self):\n",
    "\t\treturn self.speaker_num"
   ]
  },
  {
   "cell_type": "markdown",
   "id": "6174b324",
   "metadata": {
    "id": "668hverTMlGN",
    "papermill": {
     "duration": 0.007418,
     "end_time": "2024-04-30T05:48:07.313479",
     "exception": false,
     "start_time": "2024-04-30T05:48:07.306061",
     "status": "completed"
    },
    "tags": []
   },
   "source": [
    "## Dataloader\n",
    "- Split dataset into training dataset(90%) and validation dataset(10%).\n",
    "- Create dataloader to iterate the data."
   ]
  },
  {
   "cell_type": "code",
   "execution_count": 4,
   "id": "7ddf8891",
   "metadata": {
    "execution": {
     "iopub.execute_input": "2024-04-30T05:48:07.327863Z",
     "iopub.status.busy": "2024-04-30T05:48:07.327510Z",
     "iopub.status.idle": "2024-04-30T05:48:07.336527Z",
     "shell.execute_reply": "2024-04-30T05:48:07.335468Z"
    },
    "id": "B7c2gZYoJDRS",
    "papermill": {
     "duration": 0.01853,
     "end_time": "2024-04-30T05:48:07.338511",
     "exception": false,
     "start_time": "2024-04-30T05:48:07.319981",
     "status": "completed"
    },
    "tags": []
   },
   "outputs": [],
   "source": [
    "import torch\n",
    "from torch.utils.data import DataLoader, random_split\n",
    "from torch.nn.utils.rnn import pad_sequence\n",
    "\n",
    "\n",
    "def collate_batch(batch):\n",
    "\t# Process features within a batch.\n",
    "\t\"\"\"Collate a batch of data.\"\"\"\n",
    "\tmel, speaker = zip(*batch)\n",
    "\t# Because we train the model batch by batch, we need to pad the features in the same batch to make their lengths the same.\n",
    "\tmel = pad_sequence(mel, batch_first=True, padding_value=-20)    # pad log 10^(-20) which is very small value.\n",
    "\t# mel: (batch size, length, 40)\n",
    "\treturn mel, torch.FloatTensor(speaker).long()\n",
    "\n",
    "\n",
    "def get_dataloader(data_dir, batch_size, n_workers):\n",
    "\t\"\"\"Generate dataloader\"\"\"\n",
    "\tdataset = myDataset(data_dir)\n",
    "\tspeaker_num = dataset.get_speaker_number()\n",
    "\t# Split dataset into training dataset and validation dataset\n",
    "\ttrainlen = int(0.9 * len(dataset))\n",
    "\tlengths = [trainlen, len(dataset) - trainlen]\n",
    "\ttrainset, validset = random_split(dataset, lengths)\n",
    "\n",
    "\ttrain_loader = DataLoader(\n",
    "\t\ttrainset,\n",
    "\t\tbatch_size=batch_size,\n",
    "\t\tshuffle=True,\n",
    "\t\tdrop_last=True,\n",
    "\t\tnum_workers=n_workers,\n",
    "\t\tpin_memory=True,\n",
    "\t\tcollate_fn=collate_batch,\n",
    "\t)\n",
    "\tvalid_loader = DataLoader(\n",
    "\t\tvalidset,\n",
    "\t\tbatch_size=batch_size,\n",
    "\t\tnum_workers=n_workers,\n",
    "\t\tdrop_last=True,\n",
    "\t\tpin_memory=True,\n",
    "\t\tcollate_fn=collate_batch,\n",
    "\t)\n",
    "\n",
    "\treturn train_loader, valid_loader, speaker_num"
   ]
  },
  {
   "cell_type": "markdown",
   "id": "b9ab63e7",
   "metadata": {
    "id": "5FOSZYxrMqhc",
    "papermill": {
     "duration": 0.006149,
     "end_time": "2024-04-30T05:48:07.351207",
     "exception": false,
     "start_time": "2024-04-30T05:48:07.345058",
     "status": "completed"
    },
    "tags": []
   },
   "source": [
    "# Model\n",
    "- TransformerEncoderLayer:\n",
    "  - Base transformer encoder layer in [Attention Is All You Need](https://arxiv.org/abs/1706.03762)\n",
    "  - Parameters:\n",
    "    - d_model: the number of expected features of the input (required).\n",
    "\n",
    "    - nhead: the number of heads of the multiheadattention models (required).\n",
    "\n",
    "    - dim_feedforward: the dimension of the feedforward network model (default=2048).\n",
    "\n",
    "    - dropout: the dropout value (default=0.1).\n",
    "\n",
    "    - activation: the activation function of intermediate layer, relu or gelu (default=relu).\n",
    "\n",
    "- TransformerEncoder:\n",
    "  - TransformerEncoder is a stack of N transformer encoder layers\n",
    "  - Parameters:\n",
    "    - encoder_layer: an instance of the TransformerEncoderLayer() class (required).\n",
    "\n",
    "    - num_layers: the number of sub-encoder-layers in the encoder (required).\n",
    "\n",
    "    - norm: the layer normalization component (optional)."
   ]
  },
  {
   "cell_type": "code",
   "execution_count": 5,
   "id": "1fa415db",
   "metadata": {
    "execution": {
     "iopub.execute_input": "2024-04-30T05:48:07.365605Z",
     "iopub.status.busy": "2024-04-30T05:48:07.365256Z",
     "iopub.status.idle": "2024-04-30T05:48:07.374379Z",
     "shell.execute_reply": "2024-04-30T05:48:07.373480Z"
    },
    "id": "iXZ5B0EKJGs8",
    "papermill": {
     "duration": 0.018599,
     "end_time": "2024-04-30T05:48:07.376341",
     "exception": false,
     "start_time": "2024-04-30T05:48:07.357742",
     "status": "completed"
    },
    "tags": []
   },
   "outputs": [],
   "source": [
    "import torch\n",
    "import torch.nn as nn\n",
    "import torch.nn.functional as F\n",
    "\n",
    "\n",
    "class Classifier(nn.Module):\n",
    "\tdef __init__(self, d_model=512, n_spks=600, dropout=0.1):\n",
    "\t\tsuper().__init__()\n",
    "\t\t# Project the dimension of features from that of input into d_model.\n",
    "\t\tself.prenet = nn.Linear(40, d_model)\n",
    "\t\t# TODO:\n",
    "\t\t#   Change Transformer to Conformer.\n",
    "\t\t#   https://arxiv.org/abs/2005.08100\n",
    "\t\tself.encoder_layer = nn.TransformerEncoderLayer(\n",
    "\t\t\td_model=d_model, dim_feedforward=256, nhead=16\n",
    "\t\t)\n",
    "\t\t# self.encoder = nn.TransformerEncoder(self.encoder_layer, num_layers=2)\n",
    "\n",
    "\t\t# Project the the dimension of features from d_model into speaker nums.\n",
    "\t\tself.pred_layer = nn.Sequential(\n",
    "   \t\t\tnn.Linear(d_model, 2*d_model),\n",
    "            nn.Sigmoid(),\n",
    "            nn.Dropout(dropout),\n",
    "\t\t\tnn.Linear(2*d_model, n_spks),\n",
    "\t\t)\n",
    "\n",
    "\tdef forward(self, mels):\n",
    "\t\t\"\"\"\n",
    "\t\targs:\n",
    "\t\t\tmels: (batch size, length, 40)\n",
    "\t\treturn:\n",
    "\t\t\tout: (batch size, n_spks)\n",
    "\t\t\"\"\"\n",
    "\t\t# out: (batch size, length, d_model)\n",
    "\t\tout = self.prenet(mels)\n",
    "\t\t# out: (length, batch size, d_model)\n",
    "\t\tout = out.permute(1, 0, 2)\n",
    "\t\t# The encoder layer expect features in the shape of (length, batch size, d_model).\n",
    "\t\tout = self.encoder_layer(out)\n",
    "\t\t# out: (batch size, length, d_model)\n",
    "\t\tout = out.transpose(0, 1)\n",
    "\t\t# mean pooling\n",
    "\t\tstats = out.mean(dim=1)\n",
    "\n",
    "\t\t# out: (batch, n_spks)\n",
    "\t\tout = self.pred_layer(stats)\n",
    "\t\treturn out"
   ]
  },
  {
   "cell_type": "markdown",
   "id": "480c3740",
   "metadata": {
    "id": "W7yX8JinM5Ly",
    "papermill": {
     "duration": 0.006124,
     "end_time": "2024-04-30T05:48:07.388921",
     "exception": false,
     "start_time": "2024-04-30T05:48:07.382797",
     "status": "completed"
    },
    "tags": []
   },
   "source": [
    "# Learning rate schedule\n",
    "- For transformer architecture, the design of learning rate schedule is different from that of CNN.\n",
    "- Previous works show that the warmup of learning rate is useful for training models with transformer architectures.\n",
    "- The warmup schedule\n",
    "  - Set learning rate to 0 in the beginning.\n",
    "  - The learning rate increases linearly from 0 to initial learning rate during warmup period."
   ]
  },
  {
   "cell_type": "code",
   "execution_count": 6,
   "id": "366eb25b",
   "metadata": {
    "execution": {
     "iopub.execute_input": "2024-04-30T05:48:07.403863Z",
     "iopub.status.busy": "2024-04-30T05:48:07.403543Z",
     "iopub.status.idle": "2024-04-30T05:48:07.411722Z",
     "shell.execute_reply": "2024-04-30T05:48:07.410714Z"
    },
    "id": "ykt0N1nVJJi2",
    "papermill": {
     "duration": 0.017608,
     "end_time": "2024-04-30T05:48:07.413717",
     "exception": false,
     "start_time": "2024-04-30T05:48:07.396109",
     "status": "completed"
    },
    "tags": []
   },
   "outputs": [],
   "source": [
    "import math\n",
    "\n",
    "import torch\n",
    "from torch.optim import Optimizer\n",
    "from torch.optim.lr_scheduler import LambdaLR\n",
    "\n",
    "\n",
    "def get_cosine_schedule_with_warmup(\n",
    "\toptimizer: Optimizer,\n",
    "\tnum_warmup_steps: int,\n",
    "\tnum_training_steps: int,\n",
    "\tnum_cycles: float = 0.5,\n",
    "\tlast_epoch: int = -1,\n",
    "):\n",
    "\t\"\"\"\n",
    "\tCreate a schedule with a learning rate that decreases following the values of the cosine function between the\n",
    "\tinitial lr set in the optimizer to 0, after a warmup period during which it increases linearly between 0 and the\n",
    "\tinitial lr set in the optimizer.\n",
    "\n",
    "\tArgs:\n",
    "\t\toptimizer (:class:`~torch.optim.Optimizer`):\n",
    "\t\tThe optimizer for which to schedule the learning rate.\n",
    "\t\tnum_warmup_steps (:obj:`int`):\n",
    "\t\tThe number of steps for the warmup phase.\n",
    "\t\tnum_training_steps (:obj:`int`):\n",
    "\t\tThe total number of training steps.\n",
    "\t\tnum_cycles (:obj:`float`, `optional`, defaults to 0.5):\n",
    "\t\tThe number of waves in the cosine schedule (the defaults is to just decrease from the max value to 0\n",
    "\t\tfollowing a half-cosine).\n",
    "\t\tlast_epoch (:obj:`int`, `optional`, defaults to -1):\n",
    "\t\tThe index of the last epoch when resuming training.\n",
    "\n",
    "\tReturn:\n",
    "\t\t:obj:`torch.optim.lr_scheduler.LambdaLR` with the appropriate schedule.\n",
    "\t\"\"\"\n",
    "\tdef lr_lambda(current_step):\n",
    "\t\t# Warmup\n",
    "\t\tif current_step < num_warmup_steps:\n",
    "\t\t\treturn float(current_step) / float(max(1, num_warmup_steps))\n",
    "\t\t# decadence\n",
    "\t\tprogress = float(current_step - num_warmup_steps) / float(\n",
    "\t\t\tmax(1, num_training_steps - num_warmup_steps)\n",
    "\t\t)\n",
    "\t\treturn max(\n",
    "\t\t\t0.0, 0.5 * (1.0 + math.cos(math.pi * float(num_cycles) * 2.0 * progress))\n",
    "\t\t)\n",
    "\n",
    "\treturn LambdaLR(optimizer, lr_lambda, last_epoch)"
   ]
  },
  {
   "cell_type": "markdown",
   "id": "ad89484f",
   "metadata": {
    "id": "-LN2XkteM_uH",
    "papermill": {
     "duration": 0.006065,
     "end_time": "2024-04-30T05:48:07.426225",
     "exception": false,
     "start_time": "2024-04-30T05:48:07.420160",
     "status": "completed"
    },
    "tags": []
   },
   "source": [
    "# Model Function\n",
    "- Model forward function."
   ]
  },
  {
   "cell_type": "code",
   "execution_count": 7,
   "id": "884b1709",
   "metadata": {
    "execution": {
     "iopub.execute_input": "2024-04-30T05:48:07.440110Z",
     "iopub.status.busy": "2024-04-30T05:48:07.439779Z",
     "iopub.status.idle": "2024-04-30T05:48:07.445861Z",
     "shell.execute_reply": "2024-04-30T05:48:07.444884Z"
    },
    "id": "N-rr8529JMz0",
    "papermill": {
     "duration": 0.015397,
     "end_time": "2024-04-30T05:48:07.447839",
     "exception": false,
     "start_time": "2024-04-30T05:48:07.432442",
     "status": "completed"
    },
    "tags": []
   },
   "outputs": [],
   "source": [
    "import torch\n",
    "\n",
    "\n",
    "def model_fn(batch, model, criterion, device):\n",
    "\t\"\"\"Forward a batch through the model.\"\"\"\n",
    "\n",
    "\tmels, labels = batch\n",
    "\tmels = mels.to(device)\n",
    "\tlabels = labels.to(device)\n",
    "\n",
    "\touts = model(mels)\n",
    "\n",
    "\tloss = criterion(outs, labels)\n",
    "\n",
    "\t# Get the speaker id with highest probability.\n",
    "\tpreds = outs.argmax(1)\n",
    "\t# Compute accuracy.\n",
    "\taccuracy = torch.mean((preds == labels).float())\n",
    "\n",
    "\treturn loss, accuracy"
   ]
  },
  {
   "cell_type": "markdown",
   "id": "45f5ffd8",
   "metadata": {
    "id": "cwM_xyOtNCI2",
    "papermill": {
     "duration": 0.008334,
     "end_time": "2024-04-30T05:48:07.462639",
     "exception": false,
     "start_time": "2024-04-30T05:48:07.454305",
     "status": "completed"
    },
    "tags": []
   },
   "source": [
    "# Validate\n",
    "- Calculate accuracy of the validation set."
   ]
  },
  {
   "cell_type": "code",
   "execution_count": 8,
   "id": "55f57c6b",
   "metadata": {
    "execution": {
     "iopub.execute_input": "2024-04-30T05:48:07.478463Z",
     "iopub.status.busy": "2024-04-30T05:48:07.478081Z",
     "iopub.status.idle": "2024-04-30T05:48:07.486176Z",
     "shell.execute_reply": "2024-04-30T05:48:07.485339Z"
    },
    "id": "YAiv6kpdJRTJ",
    "papermill": {
     "duration": 0.019033,
     "end_time": "2024-04-30T05:48:07.488089",
     "exception": false,
     "start_time": "2024-04-30T05:48:07.469056",
     "status": "completed"
    },
    "tags": []
   },
   "outputs": [],
   "source": [
    "from tqdm import tqdm\n",
    "import torch\n",
    "\n",
    "\n",
    "def valid(dataloader, model, criterion, device): \n",
    "\t\"\"\"Validate on validation set.\"\"\"\n",
    "\n",
    "\tmodel.eval()\n",
    "\trunning_loss = 0.0\n",
    "\trunning_accuracy = 0.0\n",
    "\tpbar = tqdm(total=len(dataloader.dataset), ncols=0, desc=\"Valid\", unit=\" uttr\")\n",
    "\n",
    "\tfor i, batch in enumerate(dataloader):\n",
    "\t\twith torch.no_grad():\n",
    "\t\t\tloss, accuracy = model_fn(batch, model, criterion, device)\n",
    "\t\t\trunning_loss += loss.item()\n",
    "\t\t\trunning_accuracy += accuracy.item()\n",
    "\n",
    "\t\tpbar.update(dataloader.batch_size)\n",
    "\t\tpbar.set_postfix(\n",
    "\t\t\tloss=f\"{running_loss / (i+1):.2f}\",\n",
    "\t\t\taccuracy=f\"{running_accuracy / (i+1):.2f}\",\n",
    "\t\t)\n",
    "\n",
    "\tpbar.close()\n",
    "\tmodel.train()\n",
    "\n",
    "\treturn running_accuracy / len(dataloader)"
   ]
  },
  {
   "cell_type": "markdown",
   "id": "057deecb",
   "metadata": {
    "id": "g6ne9G-eNEdG",
    "papermill": {
     "duration": 0.008501,
     "end_time": "2024-04-30T05:48:07.506056",
     "exception": false,
     "start_time": "2024-04-30T05:48:07.497555",
     "status": "completed"
    },
    "tags": []
   },
   "source": [
    "# Main function"
   ]
  },
  {
   "cell_type": "code",
   "execution_count": 9,
   "id": "f0cbd415",
   "metadata": {
    "execution": {
     "iopub.execute_input": "2024-04-30T05:48:07.523233Z",
     "iopub.status.busy": "2024-04-30T05:48:07.522908Z",
     "iopub.status.idle": "2024-04-30T06:33:37.297866Z",
     "shell.execute_reply": "2024-04-30T06:33:37.296763Z"
    },
    "id": "Usv9s-CuJSG7",
    "papermill": {
     "duration": 2729.784755,
     "end_time": "2024-04-30T06:33:37.299921",
     "exception": false,
     "start_time": "2024-04-30T05:48:07.515166",
     "status": "completed"
    },
    "tags": []
   },
   "outputs": [
    {
     "name": "stdout",
     "output_type": "stream",
     "text": [
      "[Info]: Use cuda now!\n"
     ]
    },
    {
     "name": "stderr",
     "output_type": "stream",
     "text": [
      "/opt/conda/lib/python3.10/site-packages/torch/utils/data/dataloader.py:557: UserWarning: This DataLoader will create 8 worker processes in total. Our suggested max number of worker in current system is 4, which is smaller than what this DataLoader is going to create. Please be aware that excessive worker creation might get DataLoader running slow or even freeze, lower the worker number to avoid potential slowness/freeze if necessary.\n",
      "  warnings.warn(_create_warning_msg(\n"
     ]
    },
    {
     "name": "stdout",
     "output_type": "stream",
     "text": [
      "[Info]: Finish loading data!\n",
      "[Info]: Finish creating model!\n"
     ]
    },
    {
     "name": "stderr",
     "output_type": "stream",
     "text": [
      "Train:  80% 1591/2000 [00:54<00:13, 29.84 step/s, accuracy=0.19, loss=4.03, step=1500]/opt/conda/lib/python3.10/site-packages/torch/utils/data/dataloader.py:557: UserWarning: This DataLoader will create 8 worker processes in total. Our suggested max number of worker in current system is 4, which is smaller than what this DataLoader is going to create. Please be aware that excessive worker creation might get DataLoader running slow or even freeze, lower the worker number to avoid potential slowness/freeze if necessary.\n",
      "  warnings.warn(_create_warning_msg(\n",
      "Train: 100% 2000/2000 [00:59<00:00, 33.43 step/s, accuracy=0.34, loss=3.15, step=2000]\n",
      "Valid: 100% 5664/5667 [00:06<00:00, 897.85 uttr/s, accuracy=0.18, loss=3.93] \n",
      "Train: 100% 2000/2000 [00:24<00:00, 81.17 step/s, accuracy=0.41, loss=2.92, step=4000]\n",
      "Valid: 100% 5664/5667 [00:02<00:00, 2756.32 uttr/s, accuracy=0.29, loss=3.20]\n",
      "Train: 100% 2000/2000 [00:24<00:00, 81.08 step/s, accuracy=0.44, loss=2.65, step=6000]\n",
      "Valid: 100% 5664/5667 [00:01<00:00, 3243.88 uttr/s, accuracy=0.38, loss=2.72]\n",
      "Train: 100% 2000/2000 [00:24<00:00, 80.38 step/s, accuracy=0.47, loss=2.06, step=8000]\n",
      "Valid: 100% 5664/5667 [00:01<00:00, 3081.45 uttr/s, accuracy=0.43, loss=2.52]\n",
      "Train: 100% 2000/2000 [00:25<00:00, 79.64 step/s, accuracy=0.56, loss=2.02, step=1e+4]\n",
      "Valid: 100% 5664/5667 [00:01<00:00, 3220.89 uttr/s, accuracy=0.49, loss=2.25]\n",
      "Train:   1% 16/2000 [00:00<00:25, 77.28 step/s]"
     ]
    },
    {
     "name": "stdout",
     "output_type": "stream",
     "text": [
      "Step 10000, best model saved. (accuracy=0.4868)\n"
     ]
    },
    {
     "name": "stderr",
     "output_type": "stream",
     "text": [
      "Train: 100% 2000/2000 [00:24<00:00, 80.50 step/s, accuracy=0.56, loss=1.72, step=12000]\n",
      "Valid: 100% 5664/5667 [00:01<00:00, 3185.63 uttr/s, accuracy=0.51, loss=2.12]\n",
      "Train: 100% 2000/2000 [00:24<00:00, 80.95 step/s, accuracy=0.56, loss=1.72, step=14000]\n",
      "Valid: 100% 5664/5667 [00:01<00:00, 3230.46 uttr/s, accuracy=0.54, loss=2.02]\n",
      "Train: 100% 2000/2000 [00:25<00:00, 79.57 step/s, accuracy=0.47, loss=2.11, step=16000]\n",
      "Valid: 100% 5664/5667 [00:01<00:00, 3252.54 uttr/s, accuracy=0.54, loss=1.98]\n",
      "Train: 100% 2000/2000 [00:24<00:00, 80.86 step/s, accuracy=0.72, loss=1.18, step=18000]\n",
      "Valid: 100% 5664/5667 [00:01<00:00, 2948.08 uttr/s, accuracy=0.57, loss=1.89]\n",
      "Train: 100% 2000/2000 [00:24<00:00, 80.92 step/s, accuracy=0.88, loss=0.55, step=2e+4]\n",
      "Valid: 100% 5664/5667 [00:01<00:00, 3168.10 uttr/s, accuracy=0.58, loss=1.81]\n",
      "Train:   1% 15/2000 [00:00<00:26, 74.61 step/s]"
     ]
    },
    {
     "name": "stdout",
     "output_type": "stream",
     "text": [
      "Step 20000, best model saved. (accuracy=0.5789)\n"
     ]
    },
    {
     "name": "stderr",
     "output_type": "stream",
     "text": [
      "Train: 100% 2000/2000 [00:24<00:00, 80.52 step/s, accuracy=0.62, loss=1.34, step=22000]\n",
      "Valid: 100% 5664/5667 [00:01<00:00, 3214.84 uttr/s, accuracy=0.60, loss=1.79]\n",
      "Train: 100% 2000/2000 [00:24<00:00, 80.25 step/s, accuracy=0.72, loss=1.03, step=24000]\n",
      "Valid: 100% 5664/5667 [00:01<00:00, 3192.16 uttr/s, accuracy=0.61, loss=1.72]\n",
      "Train: 100% 2000/2000 [00:24<00:00, 80.81 step/s, accuracy=0.75, loss=0.90, step=26000]\n",
      "Valid: 100% 5664/5667 [00:01<00:00, 3244.95 uttr/s, accuracy=0.62, loss=1.69]\n",
      "Train: 100% 2000/2000 [00:24<00:00, 80.53 step/s, accuracy=0.69, loss=1.68, step=28000]\n",
      "Valid: 100% 5664/5667 [00:01<00:00, 3187.89 uttr/s, accuracy=0.62, loss=1.71]\n",
      "Train: 100% 2000/2000 [00:24<00:00, 81.51 step/s, accuracy=0.75, loss=1.23, step=3e+4]\n",
      "Valid: 100% 5664/5667 [00:01<00:00, 3213.98 uttr/s, accuracy=0.63, loss=1.64]\n",
      "Train:   1% 16/2000 [00:00<00:26, 75.21 step/s]"
     ]
    },
    {
     "name": "stdout",
     "output_type": "stream",
     "text": [
      "Step 30000, best model saved. (accuracy=0.6345)\n"
     ]
    },
    {
     "name": "stderr",
     "output_type": "stream",
     "text": [
      "Train: 100% 2000/2000 [00:25<00:00, 79.57 step/s, accuracy=0.72, loss=1.27, step=32000]\n",
      "Valid: 100% 5664/5667 [00:01<00:00, 3297.33 uttr/s, accuracy=0.63, loss=1.62]\n",
      "Train: 100% 2000/2000 [00:24<00:00, 80.63 step/s, accuracy=0.72, loss=1.27, step=34000]\n",
      "Valid: 100% 5664/5667 [00:01<00:00, 3139.67 uttr/s, accuracy=0.64, loss=1.63]\n",
      "Train: 100% 2000/2000 [00:24<00:00, 80.78 step/s, accuracy=0.72, loss=0.84, step=36000]\n",
      "Valid: 100% 5664/5667 [00:01<00:00, 3154.69 uttr/s, accuracy=0.64, loss=1.66]\n",
      "Train: 100% 2000/2000 [00:24<00:00, 80.58 step/s, accuracy=0.72, loss=0.96, step=38000]\n",
      "Valid: 100% 5664/5667 [00:01<00:00, 3225.23 uttr/s, accuracy=0.66, loss=1.51]\n",
      "Train: 100% 2000/2000 [00:25<00:00, 78.03 step/s, accuracy=0.78, loss=0.84, step=4e+4]\n",
      "Valid: 100% 5664/5667 [00:01<00:00, 3178.97 uttr/s, accuracy=0.68, loss=1.44]\n",
      "Train:   1% 16/2000 [00:00<00:25, 77.17 step/s]"
     ]
    },
    {
     "name": "stdout",
     "output_type": "stream",
     "text": [
      "Step 40000, best model saved. (accuracy=0.6776)\n"
     ]
    },
    {
     "name": "stderr",
     "output_type": "stream",
     "text": [
      "Train: 100% 2000/2000 [00:25<00:00, 78.52 step/s, accuracy=0.72, loss=0.87, step=42000]\n",
      "Valid: 100% 5664/5667 [00:02<00:00, 2808.32 uttr/s, accuracy=0.66, loss=1.53]\n",
      "Train: 100% 2000/2000 [00:25<00:00, 78.18 step/s, accuracy=0.69, loss=1.14, step=44000]\n",
      "Valid: 100% 5664/5667 [00:01<00:00, 3114.75 uttr/s, accuracy=0.68, loss=1.48]\n",
      "Train: 100% 2000/2000 [00:26<00:00, 76.70 step/s, accuracy=0.78, loss=0.80, step=46000]\n",
      "Valid: 100% 5664/5667 [00:01<00:00, 3282.51 uttr/s, accuracy=0.68, loss=1.42]\n",
      "Train: 100% 2000/2000 [00:25<00:00, 77.56 step/s, accuracy=0.94, loss=0.43, step=48000]\n",
      "Valid: 100% 5664/5667 [00:01<00:00, 3198.91 uttr/s, accuracy=0.69, loss=1.41]\n",
      "Train: 100% 2000/2000 [00:26<00:00, 76.62 step/s, accuracy=0.81, loss=0.76, step=5e+4]\n",
      "Valid: 100% 5664/5667 [00:01<00:00, 3049.71 uttr/s, accuracy=0.69, loss=1.40]\n",
      "Train:   1% 16/2000 [00:00<00:26, 74.47 step/s]"
     ]
    },
    {
     "name": "stdout",
     "output_type": "stream",
     "text": [
      "Step 50000, best model saved. (accuracy=0.6877)\n"
     ]
    },
    {
     "name": "stderr",
     "output_type": "stream",
     "text": [
      "Train: 100% 2000/2000 [00:25<00:00, 78.65 step/s, accuracy=0.84, loss=0.57, step=52000]\n",
      "Valid: 100% 5664/5667 [00:02<00:00, 2482.49 uttr/s, accuracy=0.69, loss=1.42]\n",
      "Train: 100% 2000/2000 [00:25<00:00, 79.03 step/s, accuracy=0.72, loss=1.10, step=54000]\n",
      "Valid: 100% 5664/5667 [00:02<00:00, 2378.59 uttr/s, accuracy=0.69, loss=1.39]\n",
      "Train: 100% 2000/2000 [00:26<00:00, 76.19 step/s, accuracy=0.81, loss=0.54, step=56000]\n",
      "Valid: 100% 5664/5667 [00:02<00:00, 2332.93 uttr/s, accuracy=0.68, loss=1.47]\n",
      "Train: 100% 2000/2000 [00:25<00:00, 78.97 step/s, accuracy=0.69, loss=1.19, step=58000]\n",
      "Valid: 100% 5664/5667 [00:02<00:00, 2283.74 uttr/s, accuracy=0.70, loss=1.33]\n",
      "Train: 100% 2000/2000 [00:25<00:00, 78.83 step/s, accuracy=0.81, loss=0.84, step=6e+4]\n",
      "Valid: 100% 5664/5667 [00:02<00:00, 2225.13 uttr/s, accuracy=0.69, loss=1.39]\n",
      "Train:   1% 16/2000 [00:00<00:26, 75.28 step/s]"
     ]
    },
    {
     "name": "stdout",
     "output_type": "stream",
     "text": [
      "Step 60000, best model saved. (accuracy=0.7013)\n"
     ]
    },
    {
     "name": "stderr",
     "output_type": "stream",
     "text": [
      "Train: 100% 2000/2000 [00:25<00:00, 79.93 step/s, accuracy=0.69, loss=1.00, step=62000]\n",
      "Valid: 100% 5664/5667 [00:01<00:00, 3096.49 uttr/s, accuracy=0.71, loss=1.31]\n",
      "Train: 100% 2000/2000 [00:25<00:00, 79.06 step/s, accuracy=0.81, loss=0.97, step=64000]\n",
      "Valid: 100% 5664/5667 [00:01<00:00, 3186.11 uttr/s, accuracy=0.71, loss=1.32]\n",
      "Train: 100% 2000/2000 [00:25<00:00, 80.00 step/s, accuracy=0.72, loss=0.90, step=66000]\n",
      "Valid: 100% 5664/5667 [00:01<00:00, 3241.43 uttr/s, accuracy=0.72, loss=1.29]\n",
      "Train: 100% 2000/2000 [00:24<00:00, 80.32 step/s, accuracy=0.84, loss=0.67, step=68000]\n",
      "Valid: 100% 5664/5667 [00:01<00:00, 3044.85 uttr/s, accuracy=0.71, loss=1.36]\n",
      "Train: 100% 2000/2000 [00:24<00:00, 80.76 step/s, accuracy=0.91, loss=0.58, step=7e+4]\n",
      "Valid: 100% 5664/5667 [00:01<00:00, 3199.86 uttr/s, accuracy=0.71, loss=1.31]\n",
      "Train:   1% 16/2000 [00:00<00:26, 75.44 step/s]"
     ]
    },
    {
     "name": "stdout",
     "output_type": "stream",
     "text": [
      "Step 70000, best model saved. (accuracy=0.7156)\n"
     ]
    },
    {
     "name": "stderr",
     "output_type": "stream",
     "text": [
      "Train: 100% 2000/2000 [00:25<00:00, 79.55 step/s, accuracy=0.88, loss=0.55, step=72000]\n",
      "Valid: 100% 5664/5667 [00:02<00:00, 2764.76 uttr/s, accuracy=0.73, loss=1.25]\n",
      "Train: 100% 2000/2000 [00:24<00:00, 80.60 step/s, accuracy=0.81, loss=0.84, step=74000]\n",
      "Valid: 100% 5664/5667 [00:01<00:00, 3147.47 uttr/s, accuracy=0.72, loss=1.31]\n",
      "Train: 100% 2000/2000 [00:24<00:00, 80.06 step/s, accuracy=0.69, loss=1.04, step=76000]\n",
      "Valid: 100% 5664/5667 [00:01<00:00, 3191.38 uttr/s, accuracy=0.70, loss=1.38]\n",
      "Train: 100% 2000/2000 [00:24<00:00, 80.10 step/s, accuracy=0.81, loss=0.76, step=78000]\n",
      "Valid: 100% 5664/5667 [00:01<00:00, 3157.87 uttr/s, accuracy=0.74, loss=1.15]\n",
      "Train: 100% 2000/2000 [00:25<00:00, 79.82 step/s, accuracy=0.91, loss=0.54, step=8e+4]\n",
      "Valid: 100% 5664/5667 [00:01<00:00, 3221.50 uttr/s, accuracy=0.72, loss=1.29]\n",
      "Train:   1% 16/2000 [00:00<00:26, 74.96 step/s]"
     ]
    },
    {
     "name": "stdout",
     "output_type": "stream",
     "text": [
      "Step 80000, best model saved. (accuracy=0.7413)\n"
     ]
    },
    {
     "name": "stderr",
     "output_type": "stream",
     "text": [
      "Train: 100% 2000/2000 [00:24<00:00, 80.29 step/s, accuracy=0.78, loss=0.83, step=82000]\n",
      "Valid: 100% 5664/5667 [00:01<00:00, 3255.68 uttr/s, accuracy=0.74, loss=1.21]\n",
      "Train: 100% 2000/2000 [00:24<00:00, 80.12 step/s, accuracy=0.88, loss=0.46, step=84000]\n",
      "Valid: 100% 5664/5667 [00:01<00:00, 3166.56 uttr/s, accuracy=0.74, loss=1.26]\n",
      "Train: 100% 2000/2000 [00:24<00:00, 80.42 step/s, accuracy=0.91, loss=0.38, step=86000]\n",
      "Valid: 100% 5664/5667 [00:01<00:00, 3178.49 uttr/s, accuracy=0.74, loss=1.17]\n",
      "Train: 100% 2000/2000 [00:25<00:00, 78.88 step/s, accuracy=0.97, loss=0.37, step=88000]\n",
      "Valid: 100% 5664/5667 [00:01<00:00, 3145.36 uttr/s, accuracy=0.75, loss=1.21]\n",
      "Train: 100% 2000/2000 [00:25<00:00, 79.15 step/s, accuracy=0.78, loss=0.57, step=9e+4]\n",
      "Valid: 100% 5664/5667 [00:01<00:00, 3134.66 uttr/s, accuracy=0.74, loss=1.21]\n",
      "Train:   1% 16/2000 [00:00<00:26, 75.57 step/s]"
     ]
    },
    {
     "name": "stdout",
     "output_type": "stream",
     "text": [
      "Step 90000, best model saved. (accuracy=0.7454)\n"
     ]
    },
    {
     "name": "stderr",
     "output_type": "stream",
     "text": [
      "Train: 100% 2000/2000 [00:24<00:00, 80.19 step/s, accuracy=0.88, loss=0.31, step=92000]\n",
      "Valid: 100% 5664/5667 [00:01<00:00, 3037.38 uttr/s, accuracy=0.75, loss=1.18]\n",
      "Train: 100% 2000/2000 [00:25<00:00, 78.55 step/s, accuracy=0.88, loss=0.26, step=94000]\n",
      "Valid: 100% 5664/5667 [00:01<00:00, 2959.29 uttr/s, accuracy=0.75, loss=1.25]\n",
      "Train: 100% 2000/2000 [00:25<00:00, 79.21 step/s, accuracy=0.91, loss=0.34, step=96000]\n",
      "Valid: 100% 5664/5667 [00:01<00:00, 3141.27 uttr/s, accuracy=0.74, loss=1.22]\n",
      "Train: 100% 2000/2000 [00:25<00:00, 79.90 step/s, accuracy=0.88, loss=0.38, step=98000]\n",
      "Valid: 100% 5664/5667 [00:01<00:00, 3010.37 uttr/s, accuracy=0.75, loss=1.13]\n",
      "Train: 100% 2000/2000 [00:25<00:00, 79.80 step/s, accuracy=0.94, loss=0.30, step=1e+5]\n",
      "Valid: 100% 5664/5667 [00:01<00:00, 3004.27 uttr/s, accuracy=0.76, loss=1.11]\n",
      "Train:   1% 16/2000 [00:00<00:26, 74.24 step/s]"
     ]
    },
    {
     "name": "stdout",
     "output_type": "stream",
     "text": [
      "Step 100000, best model saved. (accuracy=0.7581)\n"
     ]
    },
    {
     "name": "stderr",
     "output_type": "stream",
     "text": [
      "Train: 100% 2000/2000 [00:25<00:00, 79.06 step/s, accuracy=0.94, loss=0.22, step=102000]\n",
      "Valid: 100% 5664/5667 [00:02<00:00, 2518.64 uttr/s, accuracy=0.76, loss=1.17]\n",
      "Train: 100% 2000/2000 [00:24<00:00, 80.18 step/s, accuracy=0.88, loss=0.48, step=104000]\n",
      "Valid: 100% 5664/5667 [00:01<00:00, 3273.85 uttr/s, accuracy=0.76, loss=1.10]\n",
      "Train: 100% 2000/2000 [00:25<00:00, 79.65 step/s, accuracy=0.97, loss=0.24, step=106000]\n",
      "Valid: 100% 5664/5667 [00:01<00:00, 3229.74 uttr/s, accuracy=0.77, loss=1.09]\n",
      "Train: 100% 2000/2000 [00:25<00:00, 79.58 step/s, accuracy=0.81, loss=0.44, step=108000]\n",
      "Valid: 100% 5664/5667 [00:01<00:00, 3185.31 uttr/s, accuracy=0.76, loss=1.09]\n",
      "Train: 100% 2000/2000 [00:25<00:00, 78.75 step/s, accuracy=0.94, loss=0.28, step=110000]\n",
      "Valid: 100% 5664/5667 [00:01<00:00, 3233.94 uttr/s, accuracy=0.77, loss=1.09]\n",
      "Train:   1% 16/2000 [00:00<00:25, 77.30 step/s]"
     ]
    },
    {
     "name": "stdout",
     "output_type": "stream",
     "text": [
      "Step 110000, best model saved. (accuracy=0.7677)\n"
     ]
    },
    {
     "name": "stderr",
     "output_type": "stream",
     "text": [
      "Train: 100% 2000/2000 [00:25<00:00, 79.60 step/s, accuracy=0.94, loss=0.42, step=112000]\n",
      "Valid: 100% 5664/5667 [00:01<00:00, 2832.41 uttr/s, accuracy=0.76, loss=1.13]\n",
      "Train: 100% 2000/2000 [00:24<00:00, 81.09 step/s, accuracy=0.88, loss=0.54, step=114000]\n",
      "Valid: 100% 5664/5667 [00:01<00:00, 3138.45 uttr/s, accuracy=0.77, loss=1.10]\n",
      "Train: 100% 2000/2000 [00:25<00:00, 79.84 step/s, accuracy=0.84, loss=0.42, step=116000]\n",
      "Valid: 100% 5664/5667 [00:01<00:00, 3183.75 uttr/s, accuracy=0.78, loss=1.06]\n",
      "Train: 100% 2000/2000 [00:25<00:00, 79.74 step/s, accuracy=0.97, loss=0.26, step=118000]\n",
      "Valid: 100% 5664/5667 [00:01<00:00, 3252.44 uttr/s, accuracy=0.77, loss=1.08]\n",
      "Train: 100% 2000/2000 [00:24<00:00, 80.70 step/s, accuracy=0.81, loss=0.38, step=120000]\n",
      "Valid: 100% 5664/5667 [00:01<00:00, 3170.38 uttr/s, accuracy=0.79, loss=1.05]\n",
      "Train:   1% 15/2000 [00:00<00:27, 73.42 step/s]"
     ]
    },
    {
     "name": "stdout",
     "output_type": "stream",
     "text": [
      "Step 120000, best model saved. (accuracy=0.7855)\n"
     ]
    },
    {
     "name": "stderr",
     "output_type": "stream",
     "text": [
      "Train: 100% 2000/2000 [00:24<00:00, 80.70 step/s, accuracy=0.97, loss=0.26, step=122000]\n",
      "Valid: 100% 5664/5667 [00:01<00:00, 3196.59 uttr/s, accuracy=0.78, loss=1.04]\n",
      "Train: 100% 2000/2000 [00:24<00:00, 81.46 step/s, accuracy=0.97, loss=0.13, step=124000]\n",
      "Valid: 100% 5664/5667 [00:01<00:00, 3305.98 uttr/s, accuracy=0.77, loss=1.06]\n",
      "Train: 100% 2000/2000 [00:25<00:00, 79.60 step/s, accuracy=0.88, loss=0.44, step=126000]\n",
      "Valid: 100% 5664/5667 [00:01<00:00, 3172.38 uttr/s, accuracy=0.78, loss=1.09]\n",
      "Train: 100% 2000/2000 [00:24<00:00, 80.57 step/s, accuracy=0.91, loss=0.48, step=128000]\n",
      "Valid: 100% 5664/5667 [00:01<00:00, 3085.62 uttr/s, accuracy=0.78, loss=1.01]\n",
      "Train: 100% 2000/2000 [00:25<00:00, 78.06 step/s, accuracy=0.88, loss=0.34, step=130000]\n",
      "Valid: 100% 5664/5667 [00:02<00:00, 2759.77 uttr/s, accuracy=0.79, loss=0.99]\n",
      "Train:   1% 16/2000 [00:00<00:26, 74.18 step/s]"
     ]
    },
    {
     "name": "stdout",
     "output_type": "stream",
     "text": [
      "Step 130000, best model saved. (accuracy=0.7945)\n"
     ]
    },
    {
     "name": "stderr",
     "output_type": "stream",
     "text": [
      "Train: 100% 2000/2000 [00:24<00:00, 80.43 step/s, accuracy=0.88, loss=0.64, step=132000]\n",
      "Valid: 100% 5664/5667 [00:02<00:00, 2812.46 uttr/s, accuracy=0.79, loss=1.02]\n",
      "Train: 100% 2000/2000 [00:24<00:00, 80.22 step/s, accuracy=0.94, loss=0.19, step=134000]\n",
      "Valid: 100% 5664/5667 [00:01<00:00, 3182.39 uttr/s, accuracy=0.79, loss=1.02]\n",
      "Train: 100% 2000/2000 [00:25<00:00, 79.08 step/s, accuracy=0.97, loss=0.15, step=136000]\n",
      "Valid: 100% 5664/5667 [00:01<00:00, 3200.07 uttr/s, accuracy=0.78, loss=1.00]\n",
      "Train: 100% 2000/2000 [00:24<00:00, 81.03 step/s, accuracy=0.81, loss=0.44, step=138000]\n",
      "Valid: 100% 5664/5667 [00:02<00:00, 2614.61 uttr/s, accuracy=0.80, loss=1.00]\n",
      "Train: 100% 2000/2000 [00:24<00:00, 80.76 step/s, accuracy=0.97, loss=0.18, step=140000]\n",
      "Valid: 100% 5664/5667 [00:01<00:00, 3165.50 uttr/s, accuracy=0.80, loss=0.96]\n",
      "Train:   1% 16/2000 [00:00<00:26, 75.50 step/s]"
     ]
    },
    {
     "name": "stdout",
     "output_type": "stream",
     "text": [
      "Step 140000, best model saved. (accuracy=0.8017)\n"
     ]
    },
    {
     "name": "stderr",
     "output_type": "stream",
     "text": [
      "Train: 100% 2000/2000 [00:24<00:00, 80.50 step/s, accuracy=0.88, loss=0.67, step=142000]\n",
      "Valid: 100% 5664/5667 [00:01<00:00, 2893.34 uttr/s, accuracy=0.80, loss=0.98]\n",
      "Train: 100% 2000/2000 [00:24<00:00, 80.69 step/s, accuracy=0.94, loss=0.22, step=144000]\n",
      "Valid: 100% 5664/5667 [00:01<00:00, 3269.88 uttr/s, accuracy=0.80, loss=0.98]\n",
      "Train: 100% 2000/2000 [00:24<00:00, 80.59 step/s, accuracy=0.94, loss=0.48, step=146000]\n",
      "Valid: 100% 5664/5667 [00:01<00:00, 3238.53 uttr/s, accuracy=0.80, loss=0.99]\n",
      "Train: 100% 2000/2000 [00:24<00:00, 80.30 step/s, accuracy=0.91, loss=0.41, step=148000]\n",
      "Valid: 100% 5664/5667 [00:01<00:00, 3081.69 uttr/s, accuracy=0.81, loss=0.93]\n",
      "Train: 100% 2000/2000 [00:25<00:00, 79.20 step/s, accuracy=0.88, loss=0.30, step=150000]\n",
      "Valid: 100% 5664/5667 [00:01<00:00, 3219.24 uttr/s, accuracy=0.80, loss=0.98]\n",
      "Train:   1% 16/2000 [00:00<00:26, 75.03 step/s]"
     ]
    },
    {
     "name": "stdout",
     "output_type": "stream",
     "text": [
      "Step 150000, best model saved. (accuracy=0.8058)\n"
     ]
    },
    {
     "name": "stderr",
     "output_type": "stream",
     "text": [
      "Train: 100% 2000/2000 [00:24<00:00, 81.99 step/s, accuracy=0.97, loss=0.21, step=152000]\n",
      "Valid: 100% 5664/5667 [00:01<00:00, 3233.12 uttr/s, accuracy=0.80, loss=0.97]\n",
      "Train: 100% 2000/2000 [00:25<00:00, 79.65 step/s, accuracy=0.94, loss=0.29, step=154000]\n",
      "Valid: 100% 5664/5667 [00:01<00:00, 3314.62 uttr/s, accuracy=0.80, loss=0.95]\n",
      "Train: 100% 2000/2000 [00:24<00:00, 80.50 step/s, accuracy=0.94, loss=0.27, step=156000]\n",
      "Valid: 100% 5664/5667 [00:01<00:00, 3268.41 uttr/s, accuracy=0.81, loss=0.92]\n",
      "Train: 100% 2000/2000 [00:25<00:00, 79.68 step/s, accuracy=0.91, loss=0.25, step=158000]\n",
      "Valid: 100% 5664/5667 [00:01<00:00, 3291.95 uttr/s, accuracy=0.80, loss=0.97]\n",
      "Train: 100% 2000/2000 [00:24<00:00, 81.53 step/s, accuracy=0.84, loss=0.39, step=160000]\n",
      "Valid: 100% 5664/5667 [00:01<00:00, 3016.46 uttr/s, accuracy=0.80, loss=0.94]\n",
      "Train:   1% 15/2000 [00:00<00:27, 71.29 step/s]"
     ]
    },
    {
     "name": "stdout",
     "output_type": "stream",
     "text": [
      "Step 160000, best model saved. (accuracy=0.8058)\n"
     ]
    },
    {
     "name": "stderr",
     "output_type": "stream",
     "text": [
      "Train: 100% 2000/2000 [00:24<00:00, 80.81 step/s, accuracy=0.91, loss=0.45, step=162000]\n",
      "Valid: 100% 5664/5667 [00:01<00:00, 3256.84 uttr/s, accuracy=0.80, loss=0.94]\n",
      "Train: 100% 2000/2000 [00:24<00:00, 81.33 step/s, accuracy=0.88, loss=0.34, step=164000]\n",
      "Valid: 100% 5664/5667 [00:01<00:00, 3277.55 uttr/s, accuracy=0.81, loss=0.92]\n",
      "Train: 100% 2000/2000 [00:25<00:00, 79.05 step/s, accuracy=1.00, loss=0.12, step=166000]\n",
      "Valid: 100% 5664/5667 [00:01<00:00, 3098.10 uttr/s, accuracy=0.81, loss=0.94]\n",
      "Train: 100% 2000/2000 [00:24<00:00, 81.14 step/s, accuracy=0.97, loss=0.13, step=168000]\n",
      "Valid: 100% 5664/5667 [00:01<00:00, 2924.38 uttr/s, accuracy=0.81, loss=0.90]\n",
      "Train: 100% 2000/2000 [00:24<00:00, 80.80 step/s, accuracy=0.97, loss=0.06, step=170000]\n",
      "Valid: 100% 5664/5667 [00:01<00:00, 3167.26 uttr/s, accuracy=0.81, loss=0.94]\n",
      "Train:   1% 16/2000 [00:00<00:25, 77.22 step/s]"
     ]
    },
    {
     "name": "stdout",
     "output_type": "stream",
     "text": [
      "Step 170000, best model saved. (accuracy=0.8130)\n"
     ]
    },
    {
     "name": "stderr",
     "output_type": "stream",
     "text": [
      "Train: 100% 2000/2000 [00:24<00:00, 80.08 step/s, accuracy=0.91, loss=0.17, step=172000]\n",
      "Valid: 100% 5664/5667 [00:01<00:00, 3317.31 uttr/s, accuracy=0.81, loss=0.93]\n",
      "Train: 100% 2000/2000 [00:25<00:00, 79.46 step/s, accuracy=0.88, loss=0.30, step=174000]\n",
      "Valid: 100% 5664/5667 [00:01<00:00, 3241.71 uttr/s, accuracy=0.81, loss=0.92]\n",
      "Train: 100% 2000/2000 [00:24<00:00, 81.10 step/s, accuracy=0.94, loss=0.22, step=176000]\n",
      "Valid: 100% 5664/5667 [00:02<00:00, 2623.81 uttr/s, accuracy=0.81, loss=0.95]\n",
      "Train: 100% 2000/2000 [00:24<00:00, 82.12 step/s, accuracy=0.97, loss=0.13, step=178000]\n",
      "Valid: 100% 5664/5667 [00:01<00:00, 3206.69 uttr/s, accuracy=0.81, loss=0.92]\n",
      "Train: 100% 2000/2000 [00:25<00:00, 79.73 step/s, accuracy=0.97, loss=0.25, step=180000]\n",
      "Valid: 100% 5664/5667 [00:01<00:00, 3334.65 uttr/s, accuracy=0.81, loss=0.93]\n",
      "Train:   0% 7/2000 [00:00<00:29, 68.66 step/s]"
     ]
    },
    {
     "name": "stdout",
     "output_type": "stream",
     "text": [
      "Step 180000, best model saved. (accuracy=0.8130)\n"
     ]
    },
    {
     "name": "stderr",
     "output_type": "stream",
     "text": [
      "Train: 100% 2000/2000 [00:25<00:00, 79.37 step/s, accuracy=0.97, loss=0.13, step=182000]\n",
      "Valid: 100% 5664/5667 [00:01<00:00, 3205.13 uttr/s, accuracy=0.82, loss=0.90]\n",
      "Train: 100% 2000/2000 [00:25<00:00, 79.52 step/s, accuracy=0.94, loss=0.28, step=184000]\n",
      "Valid: 100% 5664/5667 [00:01<00:00, 3113.85 uttr/s, accuracy=0.82, loss=0.91]\n",
      "Train: 100% 2000/2000 [00:24<00:00, 81.52 step/s, accuracy=0.97, loss=0.28, step=186000]\n",
      "Valid: 100% 5664/5667 [00:01<00:00, 3235.31 uttr/s, accuracy=0.81, loss=0.91]\n",
      "Train: 100% 2000/2000 [00:25<00:00, 78.85 step/s, accuracy=0.97, loss=0.10, step=188000]\n",
      "Valid: 100% 5664/5667 [00:01<00:00, 3178.77 uttr/s, accuracy=0.81, loss=0.93]\n",
      "Train: 100% 2000/2000 [00:24<00:00, 80.53 step/s, accuracy=0.94, loss=0.20, step=190000]\n",
      "Valid: 100% 5664/5667 [00:01<00:00, 3235.05 uttr/s, accuracy=0.81, loss=0.91]\n",
      "Train:   1% 16/2000 [00:00<00:25, 76.70 step/s]"
     ]
    },
    {
     "name": "stdout",
     "output_type": "stream",
     "text": [
      "Step 190000, best model saved. (accuracy=0.8220)\n"
     ]
    },
    {
     "name": "stderr",
     "output_type": "stream",
     "text": [
      "Train: 100% 2000/2000 [00:24<00:00, 80.28 step/s, accuracy=1.00, loss=0.12, step=192000]\n",
      "Valid: 100% 5664/5667 [00:01<00:00, 3182.15 uttr/s, accuracy=0.81, loss=0.93]\n",
      "Train: 100% 2000/2000 [00:24<00:00, 81.48 step/s, accuracy=0.94, loss=0.15, step=194000]\n",
      "Valid: 100% 5664/5667 [00:01<00:00, 3327.60 uttr/s, accuracy=0.81, loss=0.90]\n",
      "Train: 100% 2000/2000 [00:25<00:00, 79.50 step/s, accuracy=0.97, loss=0.13, step=196000]\n",
      "Valid: 100% 5664/5667 [00:01<00:00, 3197.05 uttr/s, accuracy=0.81, loss=0.90]\n",
      "Train: 100% 2000/2000 [00:24<00:00, 80.16 step/s, accuracy=0.91, loss=0.25, step=198000]\n",
      "Valid: 100% 5664/5667 [00:01<00:00, 3301.65 uttr/s, accuracy=0.82, loss=0.88]\n",
      "Train: 100% 2000/2000 [00:25<00:00, 79.80 step/s, accuracy=1.00, loss=0.13, step=2e+5]\n",
      "Valid: 100% 5664/5667 [00:01<00:00, 3250.38 uttr/s, accuracy=0.81, loss=0.92]\n",
      "Train:   0% 0/2000 [00:00<?, ? step/s]\n"
     ]
    },
    {
     "name": "stdout",
     "output_type": "stream",
     "text": [
      "Step 200000, best model saved. (accuracy=0.8220)\n"
     ]
    }
   ],
   "source": [
    "import torch\n",
    "import torch.nn as nn\n",
    "from torch.optim import AdamW\n",
    "from torch.utils.data import DataLoader, random_split\n",
    "from tqdm import tqdm\n",
    "\n",
    "def parse_args():\n",
    "    \"\"\"arguments\"\"\"\n",
    "    config = {\n",
    "        \"data_dir\": \"/kaggle/input/ml2022spring-hw4/Dataset\",\n",
    "        \"save_path\": \"model.ckpt\",\n",
    "        \"batch_size\": 32,\n",
    "        \"n_workers\": 8,\n",
    "        \"valid_steps\": 2000,\n",
    "        # fix warmup_steps\n",
    "        \"warmup_steps\": 1000,\n",
    "        \"save_steps\": 10000,\n",
    "        \"total_steps\": 200000,\n",
    "        \"resume\":False,\n",
    "    }\n",
    "    return config\n",
    "\n",
    "def main(\n",
    "    data_dir,\n",
    "    save_path,\n",
    "    batch_size,\n",
    "    n_workers,\n",
    "    valid_steps,\n",
    "    warmup_steps,\n",
    "    total_steps,\n",
    "    save_steps,\n",
    "    resume,\n",
    "):\n",
    "    \"\"\"Main function.\"\"\"\n",
    "    device = torch.device(\"cuda\" if torch.cuda.is_available() else \"cpu\")\n",
    "    print(f\"[Info]: Use {device} now!\")\n",
    "\n",
    "    train_loader, valid_loader, speaker_num = get_dataloader(data_dir, batch_size, n_workers)\n",
    "    train_iterator = iter(train_loader)\n",
    "    print(f\"[Info]: Finish loading data!\", flush=True)\n",
    "\n",
    "    model = Classifier(n_spks=speaker_num).to(device)\n",
    "    if resume:\n",
    "        model.load_state_dict(torch.load(\"/kaggle/input/model-file/model.ckpt\"))\n",
    "    criterion = nn.CrossEntropyLoss()\n",
    "    optimizer = AdamW(model.parameters(), lr=1e-3)\n",
    "    scheduler = get_cosine_schedule_with_warmup(optimizer, warmup_steps, total_steps)\n",
    "    print(f\"[Info]: Finish creating model!\", flush=True)\n",
    "\n",
    "    best_accuracy = -1.0\n",
    "    best_state_dict = None\n",
    "\n",
    "    pbar = tqdm(total=valid_steps, ncols=0, desc=\"Train\", unit=\" step\")\n",
    "\n",
    "    for step in range(total_steps):\n",
    "        # Get data\n",
    "        try:\n",
    "            batch = next(train_iterator)\n",
    "        except StopIteration:\n",
    "            train_iterator = iter(train_loader)\n",
    "            batch = next(train_iterator)\n",
    "\n",
    "        loss, accuracy = model_fn(batch, model, criterion, device)\n",
    "        batch_loss = loss.item()\n",
    "        batch_accuracy = accuracy.item()\n",
    "\n",
    "        # Updata model\n",
    "        loss.backward()\n",
    "        optimizer.step()\n",
    "        scheduler.step()\n",
    "        optimizer.zero_grad()\n",
    "\n",
    "        # Log\n",
    "        pbar.update()\n",
    "\n",
    "        if((step+1)%500==0):\n",
    "            pbar.set_postfix(\n",
    "                loss=f\"{batch_loss:.2f}\",\n",
    "                accuracy=f\"{batch_accuracy:.2f}\",\n",
    "                step=step + 1,\n",
    "            )            \n",
    "\n",
    "        # Do validation\n",
    "        if (step + 1) % valid_steps == 0:\n",
    "            pbar.close()\n",
    "\n",
    "            valid_accuracy = valid(valid_loader, model, criterion, device)\n",
    "\n",
    "            # keep the best model\n",
    "            if valid_accuracy > best_accuracy:\n",
    "                best_accuracy = valid_accuracy\n",
    "                best_state_dict = model.state_dict()\n",
    "\n",
    "            pbar = tqdm(total=valid_steps, ncols=0, desc=\"Train\", unit=\" step\")\n",
    "\n",
    "        # Save the best model so far.\n",
    "        if (step + 1) % save_steps == 0 and best_state_dict is not None:\n",
    "            torch.save(best_state_dict, save_path)\n",
    "            pbar.write(f\"Step {step + 1}, best model saved. (accuracy={best_accuracy:.4f})\")\n",
    "\n",
    "    pbar.close()\n",
    "\n",
    "if __name__ == \"__main__\":\n",
    "    main(**parse_args())\n"
   ]
  },
  {
   "cell_type": "markdown",
   "id": "cb9ce4d8",
   "metadata": {
    "id": "NLatBYAhNNMx",
    "papermill": {
     "duration": 3.51569,
     "end_time": "2024-04-30T06:33:44.271719",
     "exception": false,
     "start_time": "2024-04-30T06:33:40.756029",
     "status": "completed"
    },
    "tags": []
   },
   "source": [
    "# Inference\n",
    "\n",
    "## Dataset of inference"
   ]
  },
  {
   "cell_type": "code",
   "execution_count": 10,
   "id": "eedee37f",
   "metadata": {
    "execution": {
     "iopub.execute_input": "2024-04-30T06:33:51.180442Z",
     "iopub.status.busy": "2024-04-30T06:33:51.179780Z",
     "iopub.status.idle": "2024-04-30T06:33:51.188628Z",
     "shell.execute_reply": "2024-04-30T06:33:51.187776Z"
    },
    "id": "efS4pCmAJXJH",
    "papermill": {
     "duration": 3.477609,
     "end_time": "2024-04-30T06:33:51.190537",
     "exception": false,
     "start_time": "2024-04-30T06:33:47.712928",
     "status": "completed"
    },
    "tags": []
   },
   "outputs": [],
   "source": [
    "import os\n",
    "import json\n",
    "import torch\n",
    "from pathlib import Path\n",
    "from torch.utils.data import Dataset\n",
    "\n",
    "\n",
    "class InferenceDataset(Dataset):\n",
    "\tdef __init__(self, data_dir):\n",
    "\t\ttestdata_path = Path(data_dir) / \"testdata.json\"\n",
    "\t\tmetadata = json.load(testdata_path.open())\n",
    "\t\tself.data_dir = data_dir\n",
    "\t\tself.data = metadata[\"utterances\"]\n",
    "\n",
    "\tdef __len__(self):\n",
    "\t\treturn len(self.data)\n",
    "\n",
    "\tdef __getitem__(self, index):\n",
    "\t\tutterance = self.data[index]\n",
    "\t\tfeat_path = utterance[\"feature_path\"]\n",
    "\t\tmel = torch.load(os.path.join(self.data_dir, feat_path))\n",
    "\n",
    "\t\treturn feat_path, mel\n",
    "\n",
    "\n",
    "def inference_collate_batch(batch):\n",
    "\t\"\"\"Collate a batch of data.\"\"\"\n",
    "\tfeat_paths, mels = zip(*batch)\n",
    "\n",
    "\treturn feat_paths, torch.stack(mels)"
   ]
  },
  {
   "cell_type": "markdown",
   "id": "4d407d94",
   "metadata": {
    "id": "tl0WnYwxNK_S",
    "papermill": {
     "duration": 3.473784,
     "end_time": "2024-04-30T06:33:58.242311",
     "exception": false,
     "start_time": "2024-04-30T06:33:54.768527",
     "status": "completed"
    },
    "tags": []
   },
   "source": [
    "## Main funcrion of Inference"
   ]
  },
  {
   "cell_type": "code",
   "execution_count": 11,
   "id": "45085571",
   "metadata": {
    "execution": {
     "iopub.execute_input": "2024-04-30T06:34:05.269341Z",
     "iopub.status.busy": "2024-04-30T06:34:05.268613Z",
     "iopub.status.idle": "2024-04-30T06:34:24.607357Z",
     "shell.execute_reply": "2024-04-30T06:34:24.606482Z"
    },
    "id": "i8SAbuXEJb2A",
    "papermill": {
     "duration": 22.836184,
     "end_time": "2024-04-30T06:34:24.609515",
     "exception": false,
     "start_time": "2024-04-30T06:34:01.773331",
     "status": "completed"
    },
    "tags": []
   },
   "outputs": [
    {
     "name": "stdout",
     "output_type": "stream",
     "text": [
      "[Info]: Use cuda now!\n",
      "[Info]: Finish loading data!\n",
      "[Info]: Finish creating model!\n"
     ]
    },
    {
     "data": {
      "application/vnd.jupyter.widget-view+json": {
       "model_id": "12f4e307c475471c8323d930d376dce7",
       "version_major": 2,
       "version_minor": 0
      },
      "text/plain": [
       "  0%|          | 0/8000 [00:00<?, ?it/s]"
      ]
     },
     "metadata": {},
     "output_type": "display_data"
    }
   ],
   "source": [
    "import json\n",
    "import csv\n",
    "from pathlib import Path\n",
    "from tqdm.notebook import tqdm\n",
    "\n",
    "import torch\n",
    "from torch.utils.data import DataLoader\n",
    "\n",
    "def parse_args():\n",
    "\t\"\"\"arguments\"\"\"\n",
    "\tconfig = {\n",
    "\t\t\"data_dir\": \"/kaggle/input/ml2022spring-hw4/Dataset\",\n",
    "\t\t\"model_path\": \"./model.ckpt\",\n",
    "\t\t\"output_path\": \"./output.csv\",\n",
    "\t}\n",
    "\n",
    "\treturn config\n",
    "\n",
    "\n",
    "def main(\n",
    "\tdata_dir,\n",
    "\tmodel_path,\n",
    "\toutput_path,\n",
    "):\n",
    "\t\"\"\"Main function.\"\"\"\n",
    "\tdevice = torch.device(\"cuda\" if torch.cuda.is_available() else \"cpu\")\n",
    "\tprint(f\"[Info]: Use {device} now!\")\n",
    "\n",
    "\tmapping_path = Path(data_dir) / \"mapping.json\"\n",
    "\tmapping = json.load(mapping_path.open())\n",
    "\n",
    "\tdataset = InferenceDataset(data_dir)\n",
    "\tdataloader = DataLoader(\n",
    "\t\tdataset,\n",
    "\t\tbatch_size=1,\n",
    "\t\tshuffle=False,\n",
    "\t\tdrop_last=False,\n",
    "\t\tnum_workers=8,\n",
    "\t\tcollate_fn=inference_collate_batch,\n",
    "\t)\n",
    "\tprint(f\"[Info]: Finish loading data!\",flush = True)\n",
    "\n",
    "\tspeaker_num = len(mapping[\"id2speaker\"])\n",
    "\tmodel = Classifier(n_spks=speaker_num).to(device)\n",
    "\tmodel.load_state_dict(torch.load(model_path))\n",
    "\tmodel.eval()\n",
    "\tprint(f\"[Info]: Finish creating model!\",flush = True)\n",
    "\n",
    "\tresults = [[\"Id\", \"Category\"]]\n",
    "\tfor feat_paths, mels in tqdm(dataloader):\n",
    "\t\twith torch.no_grad():\n",
    "\t\t\tmels = mels.to(device)\n",
    "\t\t\touts = model(mels)\n",
    "\t\t\tpreds = outs.argmax(1).cpu().numpy()\n",
    "\t\t\tfor feat_path, pred in zip(feat_paths, preds):\n",
    "\t\t\t\tresults.append([feat_path, mapping[\"id2speaker\"][str(pred)]])\n",
    "\n",
    "\twith open(output_path, 'w', newline='') as csvfile:\n",
    "\t\twriter = csv.writer(csvfile)\n",
    "\t\twriter.writerows(results)\n",
    "\n",
    "\n",
    "if __name__ == \"__main__\":\n",
    "\tmain(**parse_args())"
   ]
  }
 ],
 "metadata": {
  "accelerator": "GPU",
  "colab": {
   "collapsed_sections": [],
   "name": "hw04.ipynb",
   "provenance": []
  },
  "kaggle": {
   "accelerator": "gpu",
   "dataSources": [
    {
     "databundleVersionId": 3328800,
     "sourceId": 34762,
     "sourceType": "competition"
    },
    {
     "datasetId": 4889250,
     "sourceId": 8253126,
     "sourceType": "datasetVersion"
    }
   ],
   "dockerImageVersionId": 30699,
   "isGpuEnabled": true,
   "isInternetEnabled": true,
   "language": "python",
   "sourceType": "notebook"
  },
  "kernelspec": {
   "display_name": "Python 3",
   "language": "python",
   "name": "python3"
  },
  "language_info": {
   "codemirror_mode": {
    "name": "ipython",
    "version": 3
   },
   "file_extension": ".py",
   "mimetype": "text/x-python",
   "name": "python",
   "nbconvert_exporter": "python",
   "pygments_lexer": "ipython3",
   "version": "3.10.13"
  },
  "papermill": {
   "default_parameters": {},
   "duration": 2789.782385,
   "end_time": "2024-04-30T06:34:30.332770",
   "environment_variables": {},
   "exception": null,
   "input_path": "__notebook__.ipynb",
   "output_path": "__notebook__.ipynb",
   "parameters": {},
   "start_time": "2024-04-30T05:48:00.550385",
   "version": "2.5.0"
  },
  "widgets": {
   "application/vnd.jupyter.widget-state+json": {
    "state": {
     "1024f4b85f3f4f35807c1cb411550ddc": {
      "model_module": "@jupyter-widgets/base",
      "model_module_version": "1.2.0",
      "model_name": "LayoutModel",
      "state": {
       "_model_module": "@jupyter-widgets/base",
       "_model_module_version": "1.2.0",
       "_model_name": "LayoutModel",
       "_view_count": null,
       "_view_module": "@jupyter-widgets/base",
       "_view_module_version": "1.2.0",
       "_view_name": "LayoutView",
       "align_content": null,
       "align_items": null,
       "align_self": null,
       "border": null,
       "bottom": null,
       "display": null,
       "flex": null,
       "flex_flow": null,
       "grid_area": null,
       "grid_auto_columns": null,
       "grid_auto_flow": null,
       "grid_auto_rows": null,
       "grid_column": null,
       "grid_gap": null,
       "grid_row": null,
       "grid_template_areas": null,
       "grid_template_columns": null,
       "grid_template_rows": null,
       "height": null,
       "justify_content": null,
       "justify_items": null,
       "left": null,
       "margin": null,
       "max_height": null,
       "max_width": null,
       "min_height": null,
       "min_width": null,
       "object_fit": null,
       "object_position": null,
       "order": null,
       "overflow": null,
       "overflow_x": null,
       "overflow_y": null,
       "padding": null,
       "right": null,
       "top": null,
       "visibility": null,
       "width": null
      }
     },
     "12f4e307c475471c8323d930d376dce7": {
      "model_module": "@jupyter-widgets/controls",
      "model_module_version": "1.5.0",
      "model_name": "HBoxModel",
      "state": {
       "_dom_classes": [],
       "_model_module": "@jupyter-widgets/controls",
       "_model_module_version": "1.5.0",
       "_model_name": "HBoxModel",
       "_view_count": null,
       "_view_module": "@jupyter-widgets/controls",
       "_view_module_version": "1.5.0",
       "_view_name": "HBoxView",
       "box_style": "",
       "children": [
        "IPY_MODEL_ffbb591fbe824ddfb0716a5266502728",
        "IPY_MODEL_d3bc1cf0ee434ca1b2a05226e6e56fef",
        "IPY_MODEL_d2581cb11f1c4a9ea1e96b0f4214004f"
       ],
       "layout": "IPY_MODEL_1024f4b85f3f4f35807c1cb411550ddc"
      }
     },
     "3718c168570f4b8884fa8488ebf1d47a": {
      "model_module": "@jupyter-widgets/controls",
      "model_module_version": "1.5.0",
      "model_name": "DescriptionStyleModel",
      "state": {
       "_model_module": "@jupyter-widgets/controls",
       "_model_module_version": "1.5.0",
       "_model_name": "DescriptionStyleModel",
       "_view_count": null,
       "_view_module": "@jupyter-widgets/base",
       "_view_module_version": "1.2.0",
       "_view_name": "StyleView",
       "description_width": ""
      }
     },
     "3ab5eb140fa44b57b4f0acd806b161e4": {
      "model_module": "@jupyter-widgets/base",
      "model_module_version": "1.2.0",
      "model_name": "LayoutModel",
      "state": {
       "_model_module": "@jupyter-widgets/base",
       "_model_module_version": "1.2.0",
       "_model_name": "LayoutModel",
       "_view_count": null,
       "_view_module": "@jupyter-widgets/base",
       "_view_module_version": "1.2.0",
       "_view_name": "LayoutView",
       "align_content": null,
       "align_items": null,
       "align_self": null,
       "border": null,
       "bottom": null,
       "display": null,
       "flex": null,
       "flex_flow": null,
       "grid_area": null,
       "grid_auto_columns": null,
       "grid_auto_flow": null,
       "grid_auto_rows": null,
       "grid_column": null,
       "grid_gap": null,
       "grid_row": null,
       "grid_template_areas": null,
       "grid_template_columns": null,
       "grid_template_rows": null,
       "height": null,
       "justify_content": null,
       "justify_items": null,
       "left": null,
       "margin": null,
       "max_height": null,
       "max_width": null,
       "min_height": null,
       "min_width": null,
       "object_fit": null,
       "object_position": null,
       "order": null,
       "overflow": null,
       "overflow_x": null,
       "overflow_y": null,
       "padding": null,
       "right": null,
       "top": null,
       "visibility": null,
       "width": null
      }
     },
     "3cf3642cf0fd4183ab75f216794867c3": {
      "model_module": "@jupyter-widgets/controls",
      "model_module_version": "1.5.0",
      "model_name": "ProgressStyleModel",
      "state": {
       "_model_module": "@jupyter-widgets/controls",
       "_model_module_version": "1.5.0",
       "_model_name": "ProgressStyleModel",
       "_view_count": null,
       "_view_module": "@jupyter-widgets/base",
       "_view_module_version": "1.2.0",
       "_view_name": "StyleView",
       "bar_color": null,
       "description_width": ""
      }
     },
     "465d0f4c58294243a12d9c24341ba475": {
      "model_module": "@jupyter-widgets/base",
      "model_module_version": "1.2.0",
      "model_name": "LayoutModel",
      "state": {
       "_model_module": "@jupyter-widgets/base",
       "_model_module_version": "1.2.0",
       "_model_name": "LayoutModel",
       "_view_count": null,
       "_view_module": "@jupyter-widgets/base",
       "_view_module_version": "1.2.0",
       "_view_name": "LayoutView",
       "align_content": null,
       "align_items": null,
       "align_self": null,
       "border": null,
       "bottom": null,
       "display": null,
       "flex": null,
       "flex_flow": null,
       "grid_area": null,
       "grid_auto_columns": null,
       "grid_auto_flow": null,
       "grid_auto_rows": null,
       "grid_column": null,
       "grid_gap": null,
       "grid_row": null,
       "grid_template_areas": null,
       "grid_template_columns": null,
       "grid_template_rows": null,
       "height": null,
       "justify_content": null,
       "justify_items": null,
       "left": null,
       "margin": null,
       "max_height": null,
       "max_width": null,
       "min_height": null,
       "min_width": null,
       "object_fit": null,
       "object_position": null,
       "order": null,
       "overflow": null,
       "overflow_x": null,
       "overflow_y": null,
       "padding": null,
       "right": null,
       "top": null,
       "visibility": null,
       "width": null
      }
     },
     "8261855acb6545a7ba6479de4fb7e8ca": {
      "model_module": "@jupyter-widgets/controls",
      "model_module_version": "1.5.0",
      "model_name": "DescriptionStyleModel",
      "state": {
       "_model_module": "@jupyter-widgets/controls",
       "_model_module_version": "1.5.0",
       "_model_name": "DescriptionStyleModel",
       "_view_count": null,
       "_view_module": "@jupyter-widgets/base",
       "_view_module_version": "1.2.0",
       "_view_name": "StyleView",
       "description_width": ""
      }
     },
     "ae030f62674646399bbf625ebe33865a": {
      "model_module": "@jupyter-widgets/base",
      "model_module_version": "1.2.0",
      "model_name": "LayoutModel",
      "state": {
       "_model_module": "@jupyter-widgets/base",
       "_model_module_version": "1.2.0",
       "_model_name": "LayoutModel",
       "_view_count": null,
       "_view_module": "@jupyter-widgets/base",
       "_view_module_version": "1.2.0",
       "_view_name": "LayoutView",
       "align_content": null,
       "align_items": null,
       "align_self": null,
       "border": null,
       "bottom": null,
       "display": null,
       "flex": null,
       "flex_flow": null,
       "grid_area": null,
       "grid_auto_columns": null,
       "grid_auto_flow": null,
       "grid_auto_rows": null,
       "grid_column": null,
       "grid_gap": null,
       "grid_row": null,
       "grid_template_areas": null,
       "grid_template_columns": null,
       "grid_template_rows": null,
       "height": null,
       "justify_content": null,
       "justify_items": null,
       "left": null,
       "margin": null,
       "max_height": null,
       "max_width": null,
       "min_height": null,
       "min_width": null,
       "object_fit": null,
       "object_position": null,
       "order": null,
       "overflow": null,
       "overflow_x": null,
       "overflow_y": null,
       "padding": null,
       "right": null,
       "top": null,
       "visibility": null,
       "width": null
      }
     },
     "d2581cb11f1c4a9ea1e96b0f4214004f": {
      "model_module": "@jupyter-widgets/controls",
      "model_module_version": "1.5.0",
      "model_name": "HTMLModel",
      "state": {
       "_dom_classes": [],
       "_model_module": "@jupyter-widgets/controls",
       "_model_module_version": "1.5.0",
       "_model_name": "HTMLModel",
       "_view_count": null,
       "_view_module": "@jupyter-widgets/controls",
       "_view_module_version": "1.5.0",
       "_view_name": "HTMLView",
       "description": "",
       "description_tooltip": null,
       "layout": "IPY_MODEL_465d0f4c58294243a12d9c24341ba475",
       "placeholder": "​",
       "style": "IPY_MODEL_8261855acb6545a7ba6479de4fb7e8ca",
       "value": " 8000/8000 [00:19&lt;00:00, 419.66it/s]"
      }
     },
     "d3bc1cf0ee434ca1b2a05226e6e56fef": {
      "model_module": "@jupyter-widgets/controls",
      "model_module_version": "1.5.0",
      "model_name": "FloatProgressModel",
      "state": {
       "_dom_classes": [],
       "_model_module": "@jupyter-widgets/controls",
       "_model_module_version": "1.5.0",
       "_model_name": "FloatProgressModel",
       "_view_count": null,
       "_view_module": "@jupyter-widgets/controls",
       "_view_module_version": "1.5.0",
       "_view_name": "ProgressView",
       "bar_style": "success",
       "description": "",
       "description_tooltip": null,
       "layout": "IPY_MODEL_ae030f62674646399bbf625ebe33865a",
       "max": 8000.0,
       "min": 0.0,
       "orientation": "horizontal",
       "style": "IPY_MODEL_3cf3642cf0fd4183ab75f216794867c3",
       "value": 8000.0
      }
     },
     "ffbb591fbe824ddfb0716a5266502728": {
      "model_module": "@jupyter-widgets/controls",
      "model_module_version": "1.5.0",
      "model_name": "HTMLModel",
      "state": {
       "_dom_classes": [],
       "_model_module": "@jupyter-widgets/controls",
       "_model_module_version": "1.5.0",
       "_model_name": "HTMLModel",
       "_view_count": null,
       "_view_module": "@jupyter-widgets/controls",
       "_view_module_version": "1.5.0",
       "_view_name": "HTMLView",
       "description": "",
       "description_tooltip": null,
       "layout": "IPY_MODEL_3ab5eb140fa44b57b4f0acd806b161e4",
       "placeholder": "​",
       "style": "IPY_MODEL_3718c168570f4b8884fa8488ebf1d47a",
       "value": "100%"
      }
     }
    },
    "version_major": 2,
    "version_minor": 0
   }
  }
 },
 "nbformat": 4,
 "nbformat_minor": 5
}
