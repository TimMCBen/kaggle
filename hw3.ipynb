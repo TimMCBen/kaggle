{
 "cells": [
  {
   "cell_type": "markdown",
   "id": "a8de21b1",
   "metadata": {
    "id": "jRDuJsGCgxCO",
    "papermill": {
     "duration": 0.020949,
     "end_time": "2024-04-23T07:56:49.073773",
     "exception": false,
     "start_time": "2024-04-23T07:56:49.052824",
     "status": "completed"
    },
    "tags": []
   },
   "source": [
    "# HW3 Image Classification\n",
    "## We strongly recommend that you run with Kaggle for this homework\n",
    "https://www.kaggle.com/c/ml2022spring-hw3b/code?competitionId=34954&sortBy=dateCreated"
   ]
  },
  {
   "cell_type": "markdown",
   "id": "ac7cb692",
   "metadata": {
    "id": "EVgrPb3HhJUT",
    "papermill": {
     "duration": 0.020056,
     "end_time": "2024-04-23T07:56:49.114483",
     "exception": false,
     "start_time": "2024-04-23T07:56:49.094427",
     "status": "completed"
    },
    "tags": []
   },
   "source": [
    "# Get Data\n",
    "Notes: if the links are dead, you can download the data directly from Kaggle and upload it to the workspace, or you can use the Kaggle API to directly download the data into colab.\n"
   ]
  },
  {
   "cell_type": "code",
   "execution_count": null,
   "id": "c5e057cb",
   "metadata": {
    "papermill": {
     "duration": 0.022468,
     "end_time": "2024-04-23T07:56:49.157500",
     "exception": false,
     "start_time": "2024-04-23T07:56:49.135032",
     "status": "completed"
    },
    "tags": []
   },
   "outputs": [],
   "source": []
  },
  {
   "cell_type": "code",
   "execution_count": 1,
   "id": "7ecf2db1",
   "metadata": {
    "_cell_guid": "b1076dfc-b9ad-4769-8c92-a6c4dae69d19",
    "_uuid": "8f2839f25d086af736a60e9eeb907d3b93b6e0e5",
    "execution": {
     "iopub.execute_input": "2024-04-23T07:56:49.202576Z",
     "iopub.status.busy": "2024-04-23T07:56:49.202195Z",
     "iopub.status.idle": "2024-04-23T07:56:49.207409Z",
     "shell.execute_reply": "2024-04-23T07:56:49.206411Z"
    },
    "id": "EAO6dg9eVaU_",
    "outputId": "6ab4a9f9-8dd6-4259-8d1e-1215e6521486",
    "papermill": {
     "duration": 0.029906,
     "end_time": "2024-04-23T07:56:49.209397",
     "exception": false,
     "start_time": "2024-04-23T07:56:49.179491",
     "status": "completed"
    },
    "tags": []
   },
   "outputs": [],
   "source": [
    "# ! wget https://www.dropbox.com/s/6l2vcvxl54b0b6w/food11.zip"
   ]
  },
  {
   "cell_type": "code",
   "execution_count": 2,
   "id": "257cedf6",
   "metadata": {
    "execution": {
     "iopub.execute_input": "2024-04-23T07:56:49.255876Z",
     "iopub.status.busy": "2024-04-23T07:56:49.255301Z",
     "iopub.status.idle": "2024-04-23T07:56:49.259283Z",
     "shell.execute_reply": "2024-04-23T07:56:49.258363Z"
    },
    "papermill": {
     "duration": 0.029644,
     "end_time": "2024-04-23T07:56:49.261481",
     "exception": false,
     "start_time": "2024-04-23T07:56:49.231837",
     "status": "completed"
    },
    "tags": []
   },
   "outputs": [],
   "source": [
    "# ! unzip food11.zip"
   ]
  },
  {
   "cell_type": "markdown",
   "id": "8f885d4c",
   "metadata": {
    "id": "n5ceUnRihL-f",
    "papermill": {
     "duration": 0.022857,
     "end_time": "2024-04-23T07:56:49.307221",
     "exception": false,
     "start_time": "2024-04-23T07:56:49.284364",
     "status": "completed"
    },
    "tags": []
   },
   "source": [
    "# Training"
   ]
  },
  {
   "cell_type": "code",
   "execution_count": 3,
   "id": "522a615f",
   "metadata": {
    "execution": {
     "iopub.execute_input": "2024-04-23T07:56:49.353629Z",
     "iopub.status.busy": "2024-04-23T07:56:49.352803Z",
     "iopub.status.idle": "2024-04-23T07:56:49.362582Z",
     "shell.execute_reply": "2024-04-23T07:56:49.361826Z"
    },
    "id": "ay3WkYnHVaVE",
    "papermill": {
     "duration": 0.034323,
     "end_time": "2024-04-23T07:56:49.364579",
     "exception": false,
     "start_time": "2024-04-23T07:56:49.330256",
     "status": "completed"
    },
    "tags": []
   },
   "outputs": [],
   "source": [
    "_exp_name = \"sample\""
   ]
  },
  {
   "cell_type": "code",
   "execution_count": 4,
   "id": "8143f757",
   "metadata": {
    "execution": {
     "iopub.execute_input": "2024-04-23T07:56:49.409447Z",
     "iopub.status.busy": "2024-04-23T07:56:49.408811Z",
     "iopub.status.idle": "2024-04-23T07:56:56.005828Z",
     "shell.execute_reply": "2024-04-23T07:56:56.004691Z"
    },
    "id": "CwOGtRWHVaVF",
    "papermill": {
     "duration": 6.622614,
     "end_time": "2024-04-23T07:56:56.009130",
     "exception": false,
     "start_time": "2024-04-23T07:56:49.386516",
     "status": "completed"
    },
    "tags": []
   },
   "outputs": [],
   "source": [
    "# Import necessary packages.\n",
    "import numpy as np\n",
    "import pandas as pd\n",
    "import torch\n",
    "import os\n",
    "import torch.nn as nn\n",
    "import torchvision.transforms as transforms\n",
    "from PIL import Image\n",
    "# \"ConcatDataset\" and \"Subset\" are possibly useful when doing semi-supervised learning.\n",
    "from torch.utils.data import ConcatDataset, DataLoader, Subset, Dataset\n",
    "from torchvision.datasets import DatasetFolder, VisionDataset\n",
    "\n",
    "# This is for the progress bar.\n",
    "from tqdm.auto import tqdm\n",
    "import random"
   ]
  },
  {
   "cell_type": "code",
   "execution_count": 5,
   "id": "5210f0b7",
   "metadata": {
    "execution": {
     "iopub.execute_input": "2024-04-23T07:56:56.067412Z",
     "iopub.status.busy": "2024-04-23T07:56:56.066212Z",
     "iopub.status.idle": "2024-04-23T07:56:56.129036Z",
     "shell.execute_reply": "2024-04-23T07:56:56.127913Z"
    },
    "id": "8kJm9GekVaVH",
    "papermill": {
     "duration": 0.096815,
     "end_time": "2024-04-23T07:56:56.133578",
     "exception": false,
     "start_time": "2024-04-23T07:56:56.036763",
     "status": "completed"
    },
    "tags": []
   },
   "outputs": [],
   "source": [
    "myseed = 6666  # set a random seed for reproducibility\n",
    "torch.backends.cudnn.deterministic = True\n",
    "torch.backends.cudnn.benchmark = False\n",
    "np.random.seed(myseed)\n",
    "torch.manual_seed(myseed)\n",
    "if torch.cuda.is_available():\n",
    "    torch.cuda.manual_seed_all(myseed)"
   ]
  },
  {
   "cell_type": "markdown",
   "id": "b29e4cca",
   "metadata": {
    "id": "d9MVtgbSVaVH",
    "papermill": {
     "duration": 0.029236,
     "end_time": "2024-04-23T07:56:56.198335",
     "exception": false,
     "start_time": "2024-04-23T07:56:56.169099",
     "status": "completed"
    },
    "tags": []
   },
   "source": [
    "## **Transforms**\n",
    "Torchvision provides lots of useful utilities for image preprocessing, data wrapping as well as data augmentation.\n",
    "\n",
    "Please refer to PyTorch official website for details about different transforms."
   ]
  },
  {
   "cell_type": "code",
   "execution_count": 6,
   "id": "e7731101",
   "metadata": {
    "execution": {
     "iopub.execute_input": "2024-04-23T07:56:56.253689Z",
     "iopub.status.busy": "2024-04-23T07:56:56.252698Z",
     "iopub.status.idle": "2024-04-23T07:56:56.298426Z",
     "shell.execute_reply": "2024-04-23T07:56:56.296974Z"
    },
    "id": "jvI3Xmq4VaVJ",
    "papermill": {
     "duration": 0.079513,
     "end_time": "2024-04-23T07:56:56.301838",
     "exception": false,
     "start_time": "2024-04-23T07:56:56.222325",
     "status": "completed"
    },
    "tags": []
   },
   "outputs": [],
   "source": [
    "# Normally, We don't need augmentations in testing and validation.\n",
    "# All we need here is to resize the PIL image and transform it into Tensor.\n",
    "test_tfm = transforms.Compose([\n",
    "    transforms.Resize((128, 128)),\n",
    "    transforms.ToTensor(),\n",
    "])\n",
    "\n",
    "# However, it is also possible to use augmentation in the testing phase.\n",
    "# You may use train_tfm to produce a variety of images and then test using ensemble methods\n",
    "train_tfm = transforms.Compose([\n",
    "    # Resize the image into a fixed shape (height = width = 128)\n",
    "    transforms.Resize((128, 128)),\n",
    "    \n",
    "    # You may add some transforms here.\n",
    "    # ToTensor() should be the last one of the transforms.\n",
    "    transforms.ToTensor(),\n",
    "])\n",
    "from torchvision.transforms import v2\n",
    "blurrer = v2.RandomApply(\n",
    "    [v2.GaussianBlur(kernel_size=(3, 3), sigma=(0.1, 0.1))],\n",
    "    p=0.3  # 50%的概率应用高斯模糊\n",
    ")\n",
    "# 变换相关的网站：https://pytorch.org/vision/stable/auto_examples/transforms/plot_transforms_illustrations.html#sphx-glr-auto-examples-transforms-plot-transforms-illustrations-py\n",
    "train_tfm2 = transforms.Compose([\n",
    "    # Resize the image into a fixed shape (height = width = 128)\n",
    "    transforms.Resize((128, 128)),\n",
    "    # You may add some transforms here.\n",
    "    \n",
    "    transforms.RandomChoice(transforms=[\n",
    "        # Apply TrivialAugmentWide data augmentation method\n",
    "        transforms.TrivialAugmentWide(),\n",
    "\n",
    "        # Return original image\n",
    "        transforms.Lambda(lambda x: x),\n",
    "    ],\n",
    "                            p=[0.95, 0.05]),\n",
    "\n",
    "    # ToTensor() should be the last one of the transfo·rms.\n",
    "    transforms.ToTensor(),\n",
    "])\n"
   ]
  },
  {
   "cell_type": "markdown",
   "id": "26619a65",
   "metadata": {
    "id": "D0ivMf-jVaVK",
    "papermill": {
     "duration": 0.025145,
     "end_time": "2024-04-23T07:56:56.355444",
     "exception": false,
     "start_time": "2024-04-23T07:56:56.330299",
     "status": "completed"
    },
    "tags": []
   },
   "source": [
    "## **Datasets**\n",
    "The data is labelled by the name, so we load images and label while calling '__getitem__'"
   ]
  },
  {
   "cell_type": "code",
   "execution_count": 7,
   "id": "71231b08",
   "metadata": {
    "execution": {
     "iopub.execute_input": "2024-04-23T07:56:56.406160Z",
     "iopub.status.busy": "2024-04-23T07:56:56.405034Z",
     "iopub.status.idle": "2024-04-23T07:56:56.417210Z",
     "shell.execute_reply": "2024-04-23T07:56:56.416239Z"
    },
    "id": "xBdtPhKwVaVL",
    "papermill": {
     "duration": 0.039971,
     "end_time": "2024-04-23T07:56:56.419606",
     "exception": false,
     "start_time": "2024-04-23T07:56:56.379635",
     "status": "completed"
    },
    "tags": []
   },
   "outputs": [],
   "source": [
    "class FoodDataset(Dataset):\n",
    "\n",
    "    def __init__(self,path,tfm=test_tfm,files = None):\n",
    "        super(FoodDataset).__init__()\n",
    "        self.path = path\n",
    "        self.files = sorted([os.path.join(path,x) for x in os.listdir(path) if x.endswith(\".jpg\")])\n",
    "        if files != None:\n",
    "            self.files = files\n",
    "        print(f\"One {path} sample\",self.files[0])\n",
    "        self.transform = tfm\n",
    "\n",
    "    def __len__(self):\n",
    "        return len(self.files)\n",
    "\n",
    "    def __getitem__(self,idx):\n",
    "        fname = self.files[idx]\n",
    "        im = Image.open(fname)\n",
    "        im = self.transform(im)\n",
    "        #im = self.data[idx]\n",
    "        try:\n",
    "            label = int(fname.split(\"/\")[-1].split(\"_\")[0])\n",
    "        except:\n",
    "            label = -1 # test has no label\n",
    "        return im,label\n",
    "\n"
   ]
  },
  {
   "cell_type": "code",
   "execution_count": 8,
   "id": "ba271800",
   "metadata": {
    "execution": {
     "iopub.execute_input": "2024-04-23T07:56:56.471395Z",
     "iopub.status.busy": "2024-04-23T07:56:56.470496Z",
     "iopub.status.idle": "2024-04-23T07:56:56.490674Z",
     "shell.execute_reply": "2024-04-23T07:56:56.489570Z"
    },
    "id": "b_kDECOJVaVL",
    "papermill": {
     "duration": 0.048599,
     "end_time": "2024-04-23T07:56:56.492828",
     "exception": false,
     "start_time": "2024-04-23T07:56:56.444229",
     "status": "completed"
    },
    "tags": []
   },
   "outputs": [],
   "source": [
    "from torch import nn\n",
    "class Classifier(nn.Module):\n",
    "    def __init__(self):\n",
    "        super(Classifier, self).__init__()\n",
    "\n",
    "        self.cnn_layer1 = nn.Sequential(\n",
    "            nn.Conv2d(3, 64, 3, 1, 1),\n",
    "            nn.BatchNorm2d(64),\n",
    "        )\n",
    "\n",
    "        self.cnn_layer2 = nn.Sequential(\n",
    "            nn.Conv2d(64, 64, 3, 1, 1),\n",
    "            nn.BatchNorm2d(64),\n",
    "        )\n",
    "\n",
    "        self.cnn_layer3 = nn.Sequential(\n",
    "            nn.Conv2d(64, 128, 3, 2, 1),\n",
    "            nn.BatchNorm2d(128),\n",
    "        )\n",
    "\n",
    "        self.cnn_layer4 = nn.Sequential(\n",
    "            nn.Conv2d(128, 128, 3, 1, 1),\n",
    "            nn.BatchNorm2d(128),\n",
    "        )\n",
    "        self.cnn_layer5 = nn.Sequential(\n",
    "            nn.Conv2d(128, 256, 3, 2, 1),\n",
    "            nn.BatchNorm2d(256),\n",
    "        )\n",
    "        self.cnn_layer6 = nn.Sequential(\n",
    "            nn.Conv2d(256, 256, 3, 1, 1),\n",
    "            nn.BatchNorm2d(256),\n",
    "        )\n",
    "        self.fc_layer = nn.Sequential(\n",
    "            nn.Linear(256* 32* 32, 256),\n",
    "            nn.ReLU(),\n",
    "            nn.Linear(256, 11)\n",
    "        )\n",
    "        self.relu = nn.ReLU()\n",
    "\n",
    "    def forward(self, x):\n",
    "        # input (x): [batch_size, 3, 128, 128]\n",
    "        # output: [batch_size, 11]\n",
    "\n",
    "        # Extract features by convolutional layers.\n",
    "        x1 = self.cnn_layer1(x)\n",
    "\n",
    "        x1 = self.relu(x1)\n",
    "        \n",
    "        Residual = x1 \n",
    "        x2 = self.cnn_layer2(x1)\n",
    "        x2 = x2 + Residual\n",
    "        x2 = self.relu(x2)\n",
    "\n",
    "        x3 = self.cnn_layer3(x2)\n",
    "        \n",
    "        x3 = self.relu(x3)\n",
    "        Residual = x3 \n",
    "        \n",
    "        x4 = self.cnn_layer4(x3)\n",
    "        x4 = x4 + Residual\n",
    "        x4 = self.relu(x4)\n",
    "\n",
    "        x5 = self.cnn_layer5(x4)\n",
    "        \n",
    "        x5 = self.relu(x5)\n",
    "        Residual = x5\n",
    "        x6 = self.cnn_layer6(x5)\n",
    "        x6 = x6 + Residual\n",
    "        x6 = self.relu(x6)\n",
    "\n",
    "        # The extracted feature map must be flatten before going to fully-connected layers.\n",
    "        xout = x6.flatten(1)\n",
    "\n",
    "        # The features are transformed by fully-connected layers to obtain the final logits.\n",
    "        xout = self.fc_layer(xout)\n",
    "        return xout"
   ]
  },
  {
   "cell_type": "code",
   "execution_count": 9,
   "id": "15ae987b",
   "metadata": {
    "execution": {
     "iopub.execute_input": "2024-04-23T07:56:56.543421Z",
     "iopub.status.busy": "2024-04-23T07:56:56.543007Z",
     "iopub.status.idle": "2024-04-23T07:56:56.960499Z",
     "shell.execute_reply": "2024-04-23T07:56:56.959355Z"
    },
    "id": "2_OeWtstVaVO",
    "outputId": "003fe08b-819a-499a-d411-f6073b97d48b",
    "papermill": {
     "duration": 0.445789,
     "end_time": "2024-04-23T07:56:56.963278",
     "exception": false,
     "start_time": "2024-04-23T07:56:56.517489",
     "status": "completed"
    },
    "tags": []
   },
   "outputs": [
    {
     "name": "stdout",
     "output_type": "stream",
     "text": [
      "One /kaggle/input/ml2022spring-hw3b/food11/training sample /kaggle/input/ml2022spring-hw3b/food11/training/0_0.jpg\n",
      "One /kaggle/input/ml2022spring-hw3b/food11/validation sample /kaggle/input/ml2022spring-hw3b/food11/validation/0_0.jpg\n"
     ]
    }
   ],
   "source": [
    "batch_size = 64\n",
    "_dataset_dir = \"/kaggle/input/ml2022spring-hw3b/food11\"\n",
    "# Construct datasets.\n",
    "# The argument \"loader\" tells how torchvision reads the data.\n",
    "train_set = FoodDataset(os.path.join(_dataset_dir,\"training\"), tfm=train_tfm2)\n",
    "train_loader = DataLoader(train_set, batch_size=batch_size, shuffle=True, num_workers=0, pin_memory=True)\n",
    "\n",
    "valid_set = FoodDataset(os.path.join(_dataset_dir,\"validation\"), tfm=test_tfm)\n",
    "valid_loader = DataLoader(valid_set, batch_size=batch_size, shuffle=True, num_workers=0, pin_memory=True)\n"
   ]
  },
  {
   "cell_type": "markdown",
   "id": "3cba0c51",
   "metadata": {
    "papermill": {
     "duration": 0.024127,
     "end_time": "2024-04-23T07:56:57.012034",
     "exception": false,
     "start_time": "2024-04-23T07:56:56.987907",
     "status": "completed"
    },
    "tags": []
   },
   "source": [
    "## mixup"
   ]
  },
  {
   "cell_type": "code",
   "execution_count": 10,
   "id": "76653b73",
   "metadata": {
    "execution": {
     "iopub.execute_input": "2024-04-23T07:56:57.063926Z",
     "iopub.status.busy": "2024-04-23T07:56:57.062988Z",
     "iopub.status.idle": "2024-04-23T07:56:59.520507Z",
     "shell.execute_reply": "2024-04-23T07:56:59.519706Z"
    },
    "papermill": {
     "duration": 2.485273,
     "end_time": "2024-04-23T07:56:59.522931",
     "exception": false,
     "start_time": "2024-04-23T07:56:57.037658",
     "status": "completed"
    },
    "tags": []
   },
   "outputs": [],
   "source": [
    "def mixup_data(x, y, alpha=1.0):\n",
    "    '''Returns mixed inputs, targets, and lambda\n",
    "    Parameters\n",
    "    ----------\n",
    "    x: input data\n",
    "    y: target\n",
    "    alpha: value of alpha and beta in beta distribution \n",
    "    '''\n",
    "    if alpha > 0:\n",
    "        lam = np.random.beta(alpha, alpha)\n",
    "    else:\n",
    "        lam = 1\n",
    "    batch_size = x.size()[0]\n",
    "    index = torch.randperm(batch_size) # shuffle index\n",
    "    mixed_x = lam * x + (1 - lam) * x[index, :] # mixup between original image order and shuffled image order\n",
    "    y_a, y_b = y, y[index] # return target of both images order\n",
    "    \n",
    "    return mixed_x, y_a, y_b, lam\n",
    "\n",
    "def mixup_criterion(criterion, pred, y_a, y_b, lam):\n",
    "    \"\"\" Updated loss for mixup.\n",
    "    Args:\n",
    "    -----\n",
    "    criterion: loss function to use, example: crossentropy loss\n",
    "    preds: predictions from network\n",
    "    y_a: original labels\n",
    "    y_b: labels of the shuffled batch\n",
    "    lam: alpha used for mixup\n",
    "    \"\"\"\n",
    "    return lam * criterion(pred, y_a) + (1 - lam) * criterion(pred, y_b)\n",
    "\n",
    "import torchmetrics.functional as tmf\n",
    "def mixup_accuracy(metric, preds, y_a, y_b, lam,num_classes,task='multiclass',):\n",
    "    \"\"\"\n",
    "    Updated metric calculation:\n",
    "    Args:\n",
    "    -----\n",
    "    metric: metric to use, example: accuracy\n",
    "    preds: predictions from network\n",
    "    y_a: original labels\n",
    "    y_b: labels of the shuffled batch\n",
    "    lam: alpha used for mixup\n",
    "    \"\"\"\n",
    "    return lam * metric(preds, y_a,num_classes=num_classes,task=task) + (1 - lam) * metric(preds, y_b,num_classes=num_classes,task=task)"
   ]
  },
  {
   "cell_type": "code",
   "execution_count": 11,
   "id": "f1f12747",
   "metadata": {
    "execution": {
     "iopub.execute_input": "2024-04-23T07:56:59.566798Z",
     "iopub.status.busy": "2024-04-23T07:56:59.566209Z",
     "iopub.status.idle": "2024-04-23T07:57:00.540996Z",
     "shell.execute_reply": "2024-04-23T07:57:00.539821Z"
    },
    "papermill": {
     "duration": 0.999031,
     "end_time": "2024-04-23T07:57:00.543233",
     "exception": false,
     "start_time": "2024-04-23T07:56:59.544202",
     "status": "completed"
    },
    "tags": []
   },
   "outputs": [
    {
     "name": "stdout",
     "output_type": "stream",
     "text": [
      "__notebook__.ipynb\r\n"
     ]
    }
   ],
   "source": [
    "ls"
   ]
  },
  {
   "cell_type": "code",
   "execution_count": 12,
   "id": "101ccb05",
   "metadata": {
    "execution": {
     "iopub.execute_input": "2024-04-23T07:57:00.587814Z",
     "iopub.status.busy": "2024-04-23T07:57:00.587492Z",
     "iopub.status.idle": "2024-04-23T07:59:45.500060Z",
     "shell.execute_reply": "2024-04-23T07:59:45.499166Z"
    },
    "id": "zbVkfIFhVaVO",
    "outputId": "3d1efca0-a963-4b95-9051-e60e367d36e2",
    "papermill": {
     "duration": 164.936948,
     "end_time": "2024-04-23T07:59:45.502114",
     "exception": false,
     "start_time": "2024-04-23T07:57:00.565166",
     "status": "completed"
    },
    "tags": []
   },
   "outputs": [
    {
     "data": {
      "application/vnd.jupyter.widget-view+json": {
       "model_id": "f06c55b9ca4c4d2e809f038bf48b4abe",
       "version_major": 2,
       "version_minor": 0
      },
      "text/plain": [
       "  0%|          | 0/155 [00:00<?, ?it/s]"
      ]
     },
     "metadata": {},
     "output_type": "display_data"
    },
    {
     "name": "stdout",
     "output_type": "stream",
     "text": [
      "[ Train | 001/001 ] loss = 6.57226, acc = 0.12822\n"
     ]
    },
    {
     "data": {
      "application/vnd.jupyter.widget-view+json": {
       "model_id": "be308c5291024d7090f8b757618120f2",
       "version_major": 2,
       "version_minor": 0
      },
      "text/plain": [
       "  0%|          | 0/54 [00:00<?, ?it/s]"
      ]
     },
     "metadata": {},
     "output_type": "display_data"
    },
    {
     "name": "stdout",
     "output_type": "stream",
     "text": [
      "[ Valid | 001/001 ] loss = 2.83338, acc = 0.13718\n",
      "[ Valid | 001/001 ] loss = 2.83338, acc = 0.13718 -> best\n",
      "Best model found at epoch 0, saving model\n"
     ]
    }
   ],
   "source": [
    "# \"cuda\" only when GPUs are available.\n",
    "device = \"cuda\" if torch.cuda.is_available() else \"cpu\"\n",
    "\n",
    "# The number of training epochs and patience.\n",
    "n_epochs = 1\n",
    "patience = 300 # If no improvement in 'patience' epochs, early stop\n",
    "\n",
    "# 使用vgg16作为训练的模型\n",
    "# import torchvision\n",
    "# vgg16 = torchvision.models.vgg16(pretrained=False)\n",
    "# vgg16.classifier[-1] = nn.Linear(4096,11)\n",
    "\n",
    "# Initialize a model, and put it on the device specified.\n",
    "model = Classifier().to(device)\n",
    "# model.load_state_dict(torch.load(\"/kaggle/working/Classifier1.pth\"))\n",
    "\n",
    "# For the classification task, we use cross-entropy as the measurement of performance.\n",
    "criterion = nn.CrossEntropyLoss()\n",
    "\n",
    "# Initialize optimizer, you may fine-tune some hyperparameters such as learning rate on your own.\n",
    "optimizer = torch.optim.Adam(model.parameters(), lr=0.0003, weight_decay=1e-5)\n",
    "\n",
    "# Initialize trackers, these are not parameters and should not be changed\n",
    "stale = 0\n",
    "best_acc = 0\n",
    "\n",
    "for epoch in range(n_epochs):\n",
    "\n",
    "    # ---------- Training ----------\n",
    "    # Make sure the model is in train mode before training.\n",
    "    model.train()\n",
    "\n",
    "    # These are used to record information in training.\n",
    "    train_loss = []\n",
    "    train_accs = []\n",
    "    correct = 0\n",
    "    total = 0\n",
    "    for imgs,labels in tqdm(train_loader):\n",
    "\n",
    "        # A batch consists of image data and corresponding labels.\n",
    "        imgs, labels = imgs.to(device),labels.to(device)\n",
    "        imgs,labels_a,labels_b,lam=mixup_data(imgs, labels)\n",
    "        \n",
    "        # Forward the data. (Make sure data and model are on the same device.)\n",
    "        logits = model(imgs)\n",
    "\n",
    "        # Calculate the cross-entropy loss.\n",
    "        # We don't need to apply softmax before computing cross-entropy as it is done automatically.\n",
    "        loss = mixup_criterion(criterion, logits, labels_a, labels_b, lam)\n",
    "\n",
    "        # Gradients stored in the parameters in the previous step should be cleared out first.\n",
    "        optimizer.zero_grad()\n",
    "\n",
    "        # Compute the gradients for parameters.\n",
    "        loss.backward()\n",
    "        \n",
    "        # Clip the gradient norms for stable training.\n",
    "        grad_norm = nn.utils.clip_grad_norm_(model.parameters(), max_norm=10)\n",
    "\n",
    "        # Update the parameters with computed gradients.\n",
    "        optimizer.step()\n",
    "\n",
    "        # Compute the accuracy for current batch.\n",
    "        _,predicted = logits.max(1)\n",
    "        correct += (lam * predicted.eq(labels_a).sum().item()+ (1 - lam) * predicted.eq(labels_b).sum().item())\n",
    "        total+=labels.size(0)\n",
    "\n",
    "        # Record the loss and accuracy.\n",
    "        train_loss.append(loss.item())\n",
    "\n",
    "    train_loss = sum(train_loss) / len(train_loss)\n",
    "    train_acc = correct / total\n",
    "\n",
    "    # Print the information.\n",
    "    print(f\"[ Train | {epoch + 1:03d}/{n_epochs:03d} ] loss = {train_loss:.5f}, acc = {train_acc:.5f}\")\n",
    "\n",
    "    # ---------- Validation ----------\n",
    "    # Make sure the model is in eval mode so that some modules like dropout are disabled and work normally.\n",
    "    model.eval()\n",
    "\n",
    "    # These are used to record information in validation.\n",
    "    valid_loss = []\n",
    "    valid_accs = []\n",
    "\n",
    "    # Iterate the validation set by batches.\n",
    "    for batch in tqdm(valid_loader):\n",
    "\n",
    "        # A batch consists of image data and corresponding labels.\n",
    "        imgs, labels = batch\n",
    "        #imgs = imgs.half()\n",
    "\n",
    "        # We don't need gradient in validation.\n",
    "        # Using torch.no_grad() accelerates the forward process.\n",
    "        with torch.no_grad():\n",
    "            logits = model(imgs.to(device))\n",
    "\n",
    "        # We can still compute the loss (but not the gradient).\n",
    "        loss = criterion(logits, labels.to(device))\n",
    "\n",
    "        # Compute the accuracy for current batch.\n",
    "        acc = (logits.argmax(dim=-1) == labels.to(device)).float().mean()\n",
    "\n",
    "        # Record the loss and accuracy.\n",
    "        valid_loss.append(loss.item())\n",
    "        valid_accs.append(acc)\n",
    "        #break\n",
    "\n",
    "    # The average loss and accuracy for entire validation set is the average of the recorded values.\n",
    "    valid_loss = sum(valid_loss) / len(valid_loss)\n",
    "    valid_acc = sum(valid_accs) / len(valid_accs)\n",
    "\n",
    "    # Print the information.\n",
    "    print(f\"[ Valid | {epoch + 1:03d}/{n_epochs:03d} ] loss = {valid_loss:.5f}, acc = {valid_acc:.5f}\")\n",
    "\n",
    "\n",
    "    # update logs\n",
    "    if valid_acc > best_acc:\n",
    "        with open(f\"./{_exp_name}_log.txt\",\"a\"):\n",
    "            print(f\"[ Valid | {epoch + 1:03d}/{n_epochs:03d} ] loss = {valid_loss:.5f}, acc = {valid_acc:.5f} -> best\")\n",
    "    else:\n",
    "        with open(f\"./{_exp_name}_log.txt\",\"a\"):\n",
    "            print(f\"[ Valid | {epoch + 1:03d}/{n_epochs:03d} ] loss = {valid_loss:.5f}, acc = {valid_acc:.5f}\")\n",
    "\n",
    "\n",
    "    # save models\n",
    "    if valid_acc > best_acc:\n",
    "        print(f\"Best model found at epoch {epoch}, saving model\")\n",
    "        torch.save(model.state_dict(), f\"{_exp_name}_best.ckpt\") # only save best to prevent output memory exceed error\n",
    "        best_acc = valid_acc\n",
    "        stale = 0\n",
    "    else:\n",
    "        stale += 1\n",
    "        if stale > patience:\n",
    "            print(f\"No improvment {patience} consecutive epochs, early stopping\")\n",
    "            break"
   ]
  },
  {
   "cell_type": "code",
   "execution_count": 13,
   "id": "52eda40e",
   "metadata": {
    "execution": {
     "iopub.execute_input": "2024-04-23T07:59:45.546887Z",
     "iopub.status.busy": "2024-04-23T07:59:45.546319Z",
     "iopub.status.idle": "2024-04-23T07:59:46.093288Z",
     "shell.execute_reply": "2024-04-23T07:59:46.092460Z"
    },
    "papermill": {
     "duration": 0.571545,
     "end_time": "2024-04-23T07:59:46.095489",
     "exception": false,
     "start_time": "2024-04-23T07:59:45.523944",
     "status": "completed"
    },
    "tags": []
   },
   "outputs": [],
   "source": [
    "torch.save(model.state_dict(), \"Classifier1.pth\")"
   ]
  },
  {
   "cell_type": "code",
   "execution_count": 14,
   "id": "eb7ce20b",
   "metadata": {
    "execution": {
     "iopub.execute_input": "2024-04-23T07:59:46.139979Z",
     "iopub.status.busy": "2024-04-23T07:59:46.139466Z",
     "iopub.status.idle": "2024-04-23T07:59:46.366352Z",
     "shell.execute_reply": "2024-04-23T07:59:46.365259Z"
    },
    "id": "B9QNdHIXVaVP",
    "outputId": "02fc4afa-dd85-4adb-bc28-37cafabe07cd",
    "papermill": {
     "duration": 0.25128,
     "end_time": "2024-04-23T07:59:46.368478",
     "exception": false,
     "start_time": "2024-04-23T07:59:46.117198",
     "status": "completed"
    },
    "tags": []
   },
   "outputs": [
    {
     "name": "stdout",
     "output_type": "stream",
     "text": [
      "One /kaggle/input/ml2022spring-hw3b/food11/test sample /kaggle/input/ml2022spring-hw3b/food11/test/0001.jpg\n"
     ]
    }
   ],
   "source": [
    "test_set = FoodDataset(os.path.join(_dataset_dir,\"test\"), tfm=test_tfm)\n",
    "test_loader = DataLoader(test_set, batch_size=batch_size, shuffle=False, num_workers=0, pin_memory=True)"
   ]
  },
  {
   "cell_type": "markdown",
   "id": "402089c5",
   "metadata": {
    "id": "G31uyjpvVaVP",
    "papermill": {
     "duration": 0.021542,
     "end_time": "2024-04-23T07:59:46.412202",
     "exception": false,
     "start_time": "2024-04-23T07:59:46.390660",
     "status": "completed"
    },
    "tags": []
   },
   "source": [
    "# Testing and generate prediction CSV"
   ]
  },
  {
   "cell_type": "code",
   "execution_count": 15,
   "id": "cae823ed",
   "metadata": {
    "execution": {
     "iopub.execute_input": "2024-04-23T07:59:46.455519Z",
     "iopub.status.busy": "2024-04-23T07:59:46.455237Z",
     "iopub.status.idle": "2024-04-23T07:59:46.461141Z",
     "shell.execute_reply": "2024-04-23T07:59:46.460189Z"
    },
    "papermill": {
     "duration": 0.029858,
     "end_time": "2024-04-23T07:59:46.463155",
     "exception": false,
     "start_time": "2024-04-23T07:59:46.433297",
     "status": "completed"
    },
    "tags": []
   },
   "outputs": [
    {
     "name": "stdout",
     "output_type": "stream",
     "text": [
      "/kaggle/working\n"
     ]
    }
   ],
   "source": [
    "cd /kaggle/working/"
   ]
  },
  {
   "cell_type": "code",
   "execution_count": 16,
   "id": "8f7cdfd1",
   "metadata": {
    "execution": {
     "iopub.execute_input": "2024-04-23T07:59:46.507490Z",
     "iopub.status.busy": "2024-04-23T07:59:46.507194Z",
     "iopub.status.idle": "2024-04-23T08:00:24.951931Z",
     "shell.execute_reply": "2024-04-23T08:00:24.951139Z"
    },
    "id": "bpLtxx5FVaVP",
    "papermill": {
     "duration": 38.47003,
     "end_time": "2024-04-23T08:00:24.954323",
     "exception": false,
     "start_time": "2024-04-23T07:59:46.484293",
     "status": "completed"
    },
    "tags": []
   },
   "outputs": [],
   "source": [
    "model_best = Classifier().to(device)\n",
    "model_best.load_state_dict(torch.load(f\"{_exp_name}_best.ckpt\"))\n",
    "model_best.eval()\n",
    "prediction = []\n",
    "with torch.no_grad():\n",
    "    for data,_ in test_loader:\n",
    "        test_pred = model_best(data.to(device))\n",
    "        test_label = np.argmax(test_pred.cpu().data.numpy(), axis=1)\n",
    "        prediction += test_label.squeeze().tolist()"
   ]
  },
  {
   "cell_type": "code",
   "execution_count": 17,
   "id": "2f34875d",
   "metadata": {
    "execution": {
     "iopub.execute_input": "2024-04-23T08:00:25.000644Z",
     "iopub.status.busy": "2024-04-23T08:00:24.999490Z",
     "iopub.status.idle": "2024-04-23T08:00:25.026737Z",
     "shell.execute_reply": "2024-04-23T08:00:25.025980Z"
    },
    "id": "fKupB3VUVaVQ",
    "papermill": {
     "duration": 0.052057,
     "end_time": "2024-04-23T08:00:25.028928",
     "exception": false,
     "start_time": "2024-04-23T08:00:24.976871",
     "status": "completed"
    },
    "tags": []
   },
   "outputs": [],
   "source": [
    "#create test csv\n",
    "def pad4(i):\n",
    "    return \"0\"*(4-len(str(i)))+str(i)\n",
    "df = pd.DataFrame()\n",
    "df[\"Id\"] = [pad4(i) for i in range(1,len(test_set)+1)]\n",
    "df[\"Category\"] = prediction\n",
    "df.to_csv(\"submission.csv\",index = False)"
   ]
  },
  {
   "cell_type": "markdown",
   "id": "2addbc12",
   "metadata": {
    "id": "Ivk0hrE-V8Cu",
    "papermill": {
     "duration": 0.021753,
     "end_time": "2024-04-23T08:00:25.073305",
     "exception": false,
     "start_time": "2024-04-23T08:00:25.051552",
     "status": "completed"
    },
    "tags": []
   },
   "source": [
    "# Q1. Augmentation Implementation\n",
    "## Implement augmentation by finishing train_tfm in the code with image size of your choice.\n",
    "## Directly copy the following block and paste it on GradeScope after you finish the code\n",
    "### Your train_tfm must be capable of producing 5+ different results when given an identical image multiple times.\n",
    "### Your  train_tfm in the report can be different from train_tfm in your training code.\n"
   ]
  },
  {
   "cell_type": "code",
   "execution_count": 18,
   "id": "e4077fd1",
   "metadata": {
    "execution": {
     "iopub.execute_input": "2024-04-23T08:00:25.118461Z",
     "iopub.status.busy": "2024-04-23T08:00:25.117828Z",
     "iopub.status.idle": "2024-04-23T08:00:25.122753Z",
     "shell.execute_reply": "2024-04-23T08:00:25.121875Z"
    },
    "id": "GSfKNo42WjKm",
    "papermill": {
     "duration": 0.02931,
     "end_time": "2024-04-23T08:00:25.124627",
     "exception": false,
     "start_time": "2024-04-23T08:00:25.095317",
     "status": "completed"
    },
    "tags": []
   },
   "outputs": [],
   "source": [
    "train_tfm = transforms.Compose([\n",
    "    # Resize the image into a fixed shape (height = width = 128)\n",
    "    transforms.Resize((128, 128)),\n",
    "    # You need to add some transforms here.\n",
    "    transforms.ToTensor(),\n",
    "])"
   ]
  },
  {
   "cell_type": "markdown",
   "id": "aabcd052",
   "metadata": {
    "id": "3HemRgZ6WwRM",
    "papermill": {
     "duration": 0.02183,
     "end_time": "2024-04-23T08:00:25.168511",
     "exception": false,
     "start_time": "2024-04-23T08:00:25.146681",
     "status": "completed"
    },
    "tags": []
   },
   "source": [
    "# Q2. Residual Implementation\n",
    "![](https://i.imgur.com/GYsq1Ap.png)\n",
    "## Directly copy the following block and paste it on GradeScope after you finish the code\n"
   ]
  },
  {
   "cell_type": "code",
   "execution_count": 19,
   "id": "d8934b60",
   "metadata": {
    "execution": {
     "iopub.execute_input": "2024-04-23T08:00:25.213499Z",
     "iopub.status.busy": "2024-04-23T08:00:25.213113Z",
     "iopub.status.idle": "2024-04-23T08:00:25.226126Z",
     "shell.execute_reply": "2024-04-23T08:00:25.225207Z"
    },
    "id": "Q4OK9kRaWuiV",
    "papermill": {
     "duration": 0.037484,
     "end_time": "2024-04-23T08:00:25.227987",
     "exception": false,
     "start_time": "2024-04-23T08:00:25.190503",
     "status": "completed"
    },
    "tags": []
   },
   "outputs": [],
   "source": [
    "from torch import nn\n",
    "class Residual_Network(nn.Module):\n",
    "    def __init__(self):\n",
    "        super(Residual_Network, self).__init__()\n",
    "\n",
    "        self.cnn_layer1 = nn.Sequential(\n",
    "            nn.Conv2d(3, 64, 3, 1, 1),\n",
    "            nn.BatchNorm2d(64),\n",
    "        )\n",
    "\n",
    "        self.cnn_layer2 = nn.Sequential(\n",
    "            nn.Conv2d(64, 64, 3, 1, 1),\n",
    "            nn.BatchNorm2d(64),\n",
    "        )\n",
    "\n",
    "        self.cnn_layer3 = nn.Sequential(\n",
    "            nn.Conv2d(64, 128, 3, 2, 1),\n",
    "            nn.BatchNorm2d(128),\n",
    "        )\n",
    "\n",
    "        self.cnn_layer4 = nn.Sequential(\n",
    "            nn.Conv2d(128, 128, 3, 1, 1),\n",
    "            nn.BatchNorm2d(128),\n",
    "        )\n",
    "        self.cnn_layer5 = nn.Sequential(\n",
    "            nn.Conv2d(128, 256, 3, 2, 1),\n",
    "            nn.BatchNorm2d(256),\n",
    "        )\n",
    "        self.cnn_layer6 = nn.Sequential(\n",
    "            nn.Conv2d(256, 256, 3, 1, 1),\n",
    "            nn.BatchNorm2d(256),\n",
    "        )\n",
    "        self.fc_layer = nn.Sequential(\n",
    "            nn.Linear(256* 32* 32, 256),\n",
    "            nn.ReLU(),\n",
    "            nn.Linear(256, 11)\n",
    "        )\n",
    "        self.relu = nn.ReLU()\n",
    "\n",
    "    def forward(self, x):\n",
    "        # input (x): [batch_size, 3, 128, 128]\n",
    "        # output: [batch_size, 11]\n",
    "\n",
    "        # Extract features by convolutional layers.\n",
    "        x1 = self.cnn_layer1(x)\n",
    "\n",
    "        x1 = self.relu(x1)\n",
    "        \n",
    "        Residual = x1 \n",
    "        x2 = self.cnn_layer2(x1)\n",
    "        x2 = x2 + Residual\n",
    "        x2 = self.relu(x2)\n",
    "\n",
    "        x3 = self.cnn_layer3(x2)\n",
    "        \n",
    "        x3 = self.relu(x3)\n",
    "        Residual = x3 \n",
    "        \n",
    "        x4 = self.cnn_layer4(x3)\n",
    "        x4 = x4 + Residual\n",
    "        x4 = self.relu(x4)\n",
    "\n",
    "        x5 = self.cnn_layer5(x4)\n",
    "        \n",
    "        x5 = self.relu(x5)\n",
    "        Residual = x5\n",
    "        x6 = self.cnn_layer6(x5)\n",
    "        x6 = x6 + Residual\n",
    "        x6 = self.relu(x6)\n",
    "\n",
    "        # The extracted feature map must be flatten before going to fully-connected layers.\n",
    "        xout = x6.flatten(1)\n",
    "\n",
    "        # The features are transformed by fully-connected layers to obtain the final logits.\n",
    "        xout = self.fc_layer(xout)\n",
    "        return xout"
   ]
  }
 ],
 "metadata": {
  "accelerator": "GPU",
  "colab": {
   "provenance": [
    {
     "file_id": "1ZiHvyOxioMH9agky0FJGpwVn2yrf1cAo",
     "timestamp": 1712591024059
    }
   ]
  },
  "kaggle": {
   "accelerator": "gpu",
   "dataSources": [
    {
     "databundleVersionId": 3300998,
     "sourceId": 34954,
     "sourceType": "competition"
    }
   ],
   "dockerImageVersionId": 30684,
   "isGpuEnabled": true,
   "isInternetEnabled": true,
   "language": "python",
   "sourceType": "notebook"
  },
  "kernelspec": {
   "display_name": "Python 3",
   "language": "python",
   "name": "python3"
  },
  "language_info": {
   "codemirror_mode": {
    "name": "ipython",
    "version": 3
   },
   "file_extension": ".py",
   "mimetype": "text/x-python",
   "name": "python",
   "nbconvert_exporter": "python",
   "pygments_lexer": "ipython3",
   "version": "3.10.13"
  },
  "papermill": {
   "default_parameters": {},
   "duration": 221.333578,
   "end_time": "2024-04-23T08:00:27.539283",
   "environment_variables": {},
   "exception": null,
   "input_path": "__notebook__.ipynb",
   "output_path": "__notebook__.ipynb",
   "parameters": {},
   "start_time": "2024-04-23T07:56:46.205705",
   "version": "2.5.0"
  },
  "widgets": {
   "application/vnd.jupyter.widget-state+json": {
    "state": {
     "1320963ac7274c87ae76f4f3aa10005c": {
      "model_module": "@jupyter-widgets/controls",
      "model_module_version": "1.5.0",
      "model_name": "DescriptionStyleModel",
      "state": {
       "_model_module": "@jupyter-widgets/controls",
       "_model_module_version": "1.5.0",
       "_model_name": "DescriptionStyleModel",
       "_view_count": null,
       "_view_module": "@jupyter-widgets/base",
       "_view_module_version": "1.2.0",
       "_view_name": "StyleView",
       "description_width": ""
      }
     },
     "1b47fdf84c0e4d3cbd03f94b87722918": {
      "model_module": "@jupyter-widgets/controls",
      "model_module_version": "1.5.0",
      "model_name": "HTMLModel",
      "state": {
       "_dom_classes": [],
       "_model_module": "@jupyter-widgets/controls",
       "_model_module_version": "1.5.0",
       "_model_name": "HTMLModel",
       "_view_count": null,
       "_view_module": "@jupyter-widgets/controls",
       "_view_module_version": "1.5.0",
       "_view_name": "HTMLView",
       "description": "",
       "description_tooltip": null,
       "layout": "IPY_MODEL_e1150064255d4d349904a1e05bc3bdb2",
       "placeholder": "​",
       "style": "IPY_MODEL_772823ee4fab4ba0b15ddc150afa1726",
       "value": " 54/54 [00:37&lt;00:00,  1.51it/s]"
      }
     },
     "1debfce7ff0e4a089c77b7847e4ea0d8": {
      "model_module": "@jupyter-widgets/base",
      "model_module_version": "1.2.0",
      "model_name": "LayoutModel",
      "state": {
       "_model_module": "@jupyter-widgets/base",
       "_model_module_version": "1.2.0",
       "_model_name": "LayoutModel",
       "_view_count": null,
       "_view_module": "@jupyter-widgets/base",
       "_view_module_version": "1.2.0",
       "_view_name": "LayoutView",
       "align_content": null,
       "align_items": null,
       "align_self": null,
       "border": null,
       "bottom": null,
       "display": null,
       "flex": null,
       "flex_flow": null,
       "grid_area": null,
       "grid_auto_columns": null,
       "grid_auto_flow": null,
       "grid_auto_rows": null,
       "grid_column": null,
       "grid_gap": null,
       "grid_row": null,
       "grid_template_areas": null,
       "grid_template_columns": null,
       "grid_template_rows": null,
       "height": null,
       "justify_content": null,
       "justify_items": null,
       "left": null,
       "margin": null,
       "max_height": null,
       "max_width": null,
       "min_height": null,
       "min_width": null,
       "object_fit": null,
       "object_position": null,
       "order": null,
       "overflow": null,
       "overflow_x": null,
       "overflow_y": null,
       "padding": null,
       "right": null,
       "top": null,
       "visibility": null,
       "width": null
      }
     },
     "523d250a20f94ffbb59ec4cc88c35e9f": {
      "model_module": "@jupyter-widgets/base",
      "model_module_version": "1.2.0",
      "model_name": "LayoutModel",
      "state": {
       "_model_module": "@jupyter-widgets/base",
       "_model_module_version": "1.2.0",
       "_model_name": "LayoutModel",
       "_view_count": null,
       "_view_module": "@jupyter-widgets/base",
       "_view_module_version": "1.2.0",
       "_view_name": "LayoutView",
       "align_content": null,
       "align_items": null,
       "align_self": null,
       "border": null,
       "bottom": null,
       "display": null,
       "flex": null,
       "flex_flow": null,
       "grid_area": null,
       "grid_auto_columns": null,
       "grid_auto_flow": null,
       "grid_auto_rows": null,
       "grid_column": null,
       "grid_gap": null,
       "grid_row": null,
       "grid_template_areas": null,
       "grid_template_columns": null,
       "grid_template_rows": null,
       "height": null,
       "justify_content": null,
       "justify_items": null,
       "left": null,
       "margin": null,
       "max_height": null,
       "max_width": null,
       "min_height": null,
       "min_width": null,
       "object_fit": null,
       "object_position": null,
       "order": null,
       "overflow": null,
       "overflow_x": null,
       "overflow_y": null,
       "padding": null,
       "right": null,
       "top": null,
       "visibility": null,
       "width": null
      }
     },
     "5782896c7fce4914a3427d7b2c6d8a66": {
      "model_module": "@jupyter-widgets/base",
      "model_module_version": "1.2.0",
      "model_name": "LayoutModel",
      "state": {
       "_model_module": "@jupyter-widgets/base",
       "_model_module_version": "1.2.0",
       "_model_name": "LayoutModel",
       "_view_count": null,
       "_view_module": "@jupyter-widgets/base",
       "_view_module_version": "1.2.0",
       "_view_name": "LayoutView",
       "align_content": null,
       "align_items": null,
       "align_self": null,
       "border": null,
       "bottom": null,
       "display": null,
       "flex": null,
       "flex_flow": null,
       "grid_area": null,
       "grid_auto_columns": null,
       "grid_auto_flow": null,
       "grid_auto_rows": null,
       "grid_column": null,
       "grid_gap": null,
       "grid_row": null,
       "grid_template_areas": null,
       "grid_template_columns": null,
       "grid_template_rows": null,
       "height": null,
       "justify_content": null,
       "justify_items": null,
       "left": null,
       "margin": null,
       "max_height": null,
       "max_width": null,
       "min_height": null,
       "min_width": null,
       "object_fit": null,
       "object_position": null,
       "order": null,
       "overflow": null,
       "overflow_x": null,
       "overflow_y": null,
       "padding": null,
       "right": null,
       "top": null,
       "visibility": null,
       "width": null
      }
     },
     "6500a8bbae3a4e31afb45a9540f78774": {
      "model_module": "@jupyter-widgets/controls",
      "model_module_version": "1.5.0",
      "model_name": "FloatProgressModel",
      "state": {
       "_dom_classes": [],
       "_model_module": "@jupyter-widgets/controls",
       "_model_module_version": "1.5.0",
       "_model_name": "FloatProgressModel",
       "_view_count": null,
       "_view_module": "@jupyter-widgets/controls",
       "_view_module_version": "1.5.0",
       "_view_name": "ProgressView",
       "bar_style": "success",
       "description": "",
       "description_tooltip": null,
       "layout": "IPY_MODEL_fed3467063184f22b5b93d1f3d7fd44d",
       "max": 54.0,
       "min": 0.0,
       "orientation": "horizontal",
       "style": "IPY_MODEL_81d9c9fca44e403c8cd878464aec3e2d",
       "value": 54.0
      }
     },
     "6be6cecbcb2840d2bcd6e0ee736ed03d": {
      "model_module": "@jupyter-widgets/controls",
      "model_module_version": "1.5.0",
      "model_name": "DescriptionStyleModel",
      "state": {
       "_model_module": "@jupyter-widgets/controls",
       "_model_module_version": "1.5.0",
       "_model_name": "DescriptionStyleModel",
       "_view_count": null,
       "_view_module": "@jupyter-widgets/base",
       "_view_module_version": "1.2.0",
       "_view_name": "StyleView",
       "description_width": ""
      }
     },
     "772823ee4fab4ba0b15ddc150afa1726": {
      "model_module": "@jupyter-widgets/controls",
      "model_module_version": "1.5.0",
      "model_name": "DescriptionStyleModel",
      "state": {
       "_model_module": "@jupyter-widgets/controls",
       "_model_module_version": "1.5.0",
       "_model_name": "DescriptionStyleModel",
       "_view_count": null,
       "_view_module": "@jupyter-widgets/base",
       "_view_module_version": "1.2.0",
       "_view_name": "StyleView",
       "description_width": ""
      }
     },
     "81d9c9fca44e403c8cd878464aec3e2d": {
      "model_module": "@jupyter-widgets/controls",
      "model_module_version": "1.5.0",
      "model_name": "ProgressStyleModel",
      "state": {
       "_model_module": "@jupyter-widgets/controls",
       "_model_module_version": "1.5.0",
       "_model_name": "ProgressStyleModel",
       "_view_count": null,
       "_view_module": "@jupyter-widgets/base",
       "_view_module_version": "1.2.0",
       "_view_name": "StyleView",
       "bar_color": null,
       "description_width": ""
      }
     },
     "8a39b670b3864057889d783acd976a3b": {
      "model_module": "@jupyter-widgets/base",
      "model_module_version": "1.2.0",
      "model_name": "LayoutModel",
      "state": {
       "_model_module": "@jupyter-widgets/base",
       "_model_module_version": "1.2.0",
       "_model_name": "LayoutModel",
       "_view_count": null,
       "_view_module": "@jupyter-widgets/base",
       "_view_module_version": "1.2.0",
       "_view_name": "LayoutView",
       "align_content": null,
       "align_items": null,
       "align_self": null,
       "border": null,
       "bottom": null,
       "display": null,
       "flex": null,
       "flex_flow": null,
       "grid_area": null,
       "grid_auto_columns": null,
       "grid_auto_flow": null,
       "grid_auto_rows": null,
       "grid_column": null,
       "grid_gap": null,
       "grid_row": null,
       "grid_template_areas": null,
       "grid_template_columns": null,
       "grid_template_rows": null,
       "height": null,
       "justify_content": null,
       "justify_items": null,
       "left": null,
       "margin": null,
       "max_height": null,
       "max_width": null,
       "min_height": null,
       "min_width": null,
       "object_fit": null,
       "object_position": null,
       "order": null,
       "overflow": null,
       "overflow_x": null,
       "overflow_y": null,
       "padding": null,
       "right": null,
       "top": null,
       "visibility": null,
       "width": null
      }
     },
     "95272c9f5f594ab784bd7663903f9b63": {
      "model_module": "@jupyter-widgets/controls",
      "model_module_version": "1.5.0",
      "model_name": "HTMLModel",
      "state": {
       "_dom_classes": [],
       "_model_module": "@jupyter-widgets/controls",
       "_model_module_version": "1.5.0",
       "_model_name": "HTMLModel",
       "_view_count": null,
       "_view_module": "@jupyter-widgets/controls",
       "_view_module_version": "1.5.0",
       "_view_name": "HTMLView",
       "description": "",
       "description_tooltip": null,
       "layout": "IPY_MODEL_e8fd30b287ad4b9c819e69210a58bcb5",
       "placeholder": "​",
       "style": "IPY_MODEL_6be6cecbcb2840d2bcd6e0ee736ed03d",
       "value": "100%"
      }
     },
     "b2e5aca0df954a73a48fc60871166714": {
      "model_module": "@jupyter-widgets/controls",
      "model_module_version": "1.5.0",
      "model_name": "ProgressStyleModel",
      "state": {
       "_model_module": "@jupyter-widgets/controls",
       "_model_module_version": "1.5.0",
       "_model_name": "ProgressStyleModel",
       "_view_count": null,
       "_view_module": "@jupyter-widgets/base",
       "_view_module_version": "1.2.0",
       "_view_name": "StyleView",
       "bar_color": null,
       "description_width": ""
      }
     },
     "baef4fa84fbd464ca6c0d52c4a2d3c31": {
      "model_module": "@jupyter-widgets/controls",
      "model_module_version": "1.5.0",
      "model_name": "HTMLModel",
      "state": {
       "_dom_classes": [],
       "_model_module": "@jupyter-widgets/controls",
       "_model_module_version": "1.5.0",
       "_model_name": "HTMLModel",
       "_view_count": null,
       "_view_module": "@jupyter-widgets/controls",
       "_view_module_version": "1.5.0",
       "_view_name": "HTMLView",
       "description": "",
       "description_tooltip": null,
       "layout": "IPY_MODEL_5782896c7fce4914a3427d7b2c6d8a66",
       "placeholder": "​",
       "style": "IPY_MODEL_1320963ac7274c87ae76f4f3aa10005c",
       "value": "100%"
      }
     },
     "be308c5291024d7090f8b757618120f2": {
      "model_module": "@jupyter-widgets/controls",
      "model_module_version": "1.5.0",
      "model_name": "HBoxModel",
      "state": {
       "_dom_classes": [],
       "_model_module": "@jupyter-widgets/controls",
       "_model_module_version": "1.5.0",
       "_model_name": "HBoxModel",
       "_view_count": null,
       "_view_module": "@jupyter-widgets/controls",
       "_view_module_version": "1.5.0",
       "_view_name": "HBoxView",
       "box_style": "",
       "children": [
        "IPY_MODEL_baef4fa84fbd464ca6c0d52c4a2d3c31",
        "IPY_MODEL_6500a8bbae3a4e31afb45a9540f78774",
        "IPY_MODEL_1b47fdf84c0e4d3cbd03f94b87722918"
       ],
       "layout": "IPY_MODEL_e98c531944734a96bcbeeb2fab15752b"
      }
     },
     "c8927a10c62d493fad2a02d04a29b0cd": {
      "model_module": "@jupyter-widgets/controls",
      "model_module_version": "1.5.0",
      "model_name": "DescriptionStyleModel",
      "state": {
       "_model_module": "@jupyter-widgets/controls",
       "_model_module_version": "1.5.0",
       "_model_name": "DescriptionStyleModel",
       "_view_count": null,
       "_view_module": "@jupyter-widgets/base",
       "_view_module_version": "1.2.0",
       "_view_name": "StyleView",
       "description_width": ""
      }
     },
     "e1150064255d4d349904a1e05bc3bdb2": {
      "model_module": "@jupyter-widgets/base",
      "model_module_version": "1.2.0",
      "model_name": "LayoutModel",
      "state": {
       "_model_module": "@jupyter-widgets/base",
       "_model_module_version": "1.2.0",
       "_model_name": "LayoutModel",
       "_view_count": null,
       "_view_module": "@jupyter-widgets/base",
       "_view_module_version": "1.2.0",
       "_view_name": "LayoutView",
       "align_content": null,
       "align_items": null,
       "align_self": null,
       "border": null,
       "bottom": null,
       "display": null,
       "flex": null,
       "flex_flow": null,
       "grid_area": null,
       "grid_auto_columns": null,
       "grid_auto_flow": null,
       "grid_auto_rows": null,
       "grid_column": null,
       "grid_gap": null,
       "grid_row": null,
       "grid_template_areas": null,
       "grid_template_columns": null,
       "grid_template_rows": null,
       "height": null,
       "justify_content": null,
       "justify_items": null,
       "left": null,
       "margin": null,
       "max_height": null,
       "max_width": null,
       "min_height": null,
       "min_width": null,
       "object_fit": null,
       "object_position": null,
       "order": null,
       "overflow": null,
       "overflow_x": null,
       "overflow_y": null,
       "padding": null,
       "right": null,
       "top": null,
       "visibility": null,
       "width": null
      }
     },
     "e2f67d92afae4f548ed99ff67fb9c32b": {
      "model_module": "@jupyter-widgets/controls",
      "model_module_version": "1.5.0",
      "model_name": "HTMLModel",
      "state": {
       "_dom_classes": [],
       "_model_module": "@jupyter-widgets/controls",
       "_model_module_version": "1.5.0",
       "_model_name": "HTMLModel",
       "_view_count": null,
       "_view_module": "@jupyter-widgets/controls",
       "_view_module_version": "1.5.0",
       "_view_name": "HTMLView",
       "description": "",
       "description_tooltip": null,
       "layout": "IPY_MODEL_523d250a20f94ffbb59ec4cc88c35e9f",
       "placeholder": "​",
       "style": "IPY_MODEL_c8927a10c62d493fad2a02d04a29b0cd",
       "value": " 155/155 [02:05&lt;00:00,  1.63it/s]"
      }
     },
     "e8fd30b287ad4b9c819e69210a58bcb5": {
      "model_module": "@jupyter-widgets/base",
      "model_module_version": "1.2.0",
      "model_name": "LayoutModel",
      "state": {
       "_model_module": "@jupyter-widgets/base",
       "_model_module_version": "1.2.0",
       "_model_name": "LayoutModel",
       "_view_count": null,
       "_view_module": "@jupyter-widgets/base",
       "_view_module_version": "1.2.0",
       "_view_name": "LayoutView",
       "align_content": null,
       "align_items": null,
       "align_self": null,
       "border": null,
       "bottom": null,
       "display": null,
       "flex": null,
       "flex_flow": null,
       "grid_area": null,
       "grid_auto_columns": null,
       "grid_auto_flow": null,
       "grid_auto_rows": null,
       "grid_column": null,
       "grid_gap": null,
       "grid_row": null,
       "grid_template_areas": null,
       "grid_template_columns": null,
       "grid_template_rows": null,
       "height": null,
       "justify_content": null,
       "justify_items": null,
       "left": null,
       "margin": null,
       "max_height": null,
       "max_width": null,
       "min_height": null,
       "min_width": null,
       "object_fit": null,
       "object_position": null,
       "order": null,
       "overflow": null,
       "overflow_x": null,
       "overflow_y": null,
       "padding": null,
       "right": null,
       "top": null,
       "visibility": null,
       "width": null
      }
     },
     "e98c531944734a96bcbeeb2fab15752b": {
      "model_module": "@jupyter-widgets/base",
      "model_module_version": "1.2.0",
      "model_name": "LayoutModel",
      "state": {
       "_model_module": "@jupyter-widgets/base",
       "_model_module_version": "1.2.0",
       "_model_name": "LayoutModel",
       "_view_count": null,
       "_view_module": "@jupyter-widgets/base",
       "_view_module_version": "1.2.0",
       "_view_name": "LayoutView",
       "align_content": null,
       "align_items": null,
       "align_self": null,
       "border": null,
       "bottom": null,
       "display": null,
       "flex": null,
       "flex_flow": null,
       "grid_area": null,
       "grid_auto_columns": null,
       "grid_auto_flow": null,
       "grid_auto_rows": null,
       "grid_column": null,
       "grid_gap": null,
       "grid_row": null,
       "grid_template_areas": null,
       "grid_template_columns": null,
       "grid_template_rows": null,
       "height": null,
       "justify_content": null,
       "justify_items": null,
       "left": null,
       "margin": null,
       "max_height": null,
       "max_width": null,
       "min_height": null,
       "min_width": null,
       "object_fit": null,
       "object_position": null,
       "order": null,
       "overflow": null,
       "overflow_x": null,
       "overflow_y": null,
       "padding": null,
       "right": null,
       "top": null,
       "visibility": null,
       "width": null
      }
     },
     "f06c55b9ca4c4d2e809f038bf48b4abe": {
      "model_module": "@jupyter-widgets/controls",
      "model_module_version": "1.5.0",
      "model_name": "HBoxModel",
      "state": {
       "_dom_classes": [],
       "_model_module": "@jupyter-widgets/controls",
       "_model_module_version": "1.5.0",
       "_model_name": "HBoxModel",
       "_view_count": null,
       "_view_module": "@jupyter-widgets/controls",
       "_view_module_version": "1.5.0",
       "_view_name": "HBoxView",
       "box_style": "",
       "children": [
        "IPY_MODEL_95272c9f5f594ab784bd7663903f9b63",
        "IPY_MODEL_fbcf2f7a75c14857a8b0264745ca7710",
        "IPY_MODEL_e2f67d92afae4f548ed99ff67fb9c32b"
       ],
       "layout": "IPY_MODEL_1debfce7ff0e4a089c77b7847e4ea0d8"
      }
     },
     "fbcf2f7a75c14857a8b0264745ca7710": {
      "model_module": "@jupyter-widgets/controls",
      "model_module_version": "1.5.0",
      "model_name": "FloatProgressModel",
      "state": {
       "_dom_classes": [],
       "_model_module": "@jupyter-widgets/controls",
       "_model_module_version": "1.5.0",
       "_model_name": "FloatProgressModel",
       "_view_count": null,
       "_view_module": "@jupyter-widgets/controls",
       "_view_module_version": "1.5.0",
       "_view_name": "ProgressView",
       "bar_style": "success",
       "description": "",
       "description_tooltip": null,
       "layout": "IPY_MODEL_8a39b670b3864057889d783acd976a3b",
       "max": 155.0,
       "min": 0.0,
       "orientation": "horizontal",
       "style": "IPY_MODEL_b2e5aca0df954a73a48fc60871166714",
       "value": 155.0
      }
     },
     "fed3467063184f22b5b93d1f3d7fd44d": {
      "model_module": "@jupyter-widgets/base",
      "model_module_version": "1.2.0",
      "model_name": "LayoutModel",
      "state": {
       "_model_module": "@jupyter-widgets/base",
       "_model_module_version": "1.2.0",
       "_model_name": "LayoutModel",
       "_view_count": null,
       "_view_module": "@jupyter-widgets/base",
       "_view_module_version": "1.2.0",
       "_view_name": "LayoutView",
       "align_content": null,
       "align_items": null,
       "align_self": null,
       "border": null,
       "bottom": null,
       "display": null,
       "flex": null,
       "flex_flow": null,
       "grid_area": null,
       "grid_auto_columns": null,
       "grid_auto_flow": null,
       "grid_auto_rows": null,
       "grid_column": null,
       "grid_gap": null,
       "grid_row": null,
       "grid_template_areas": null,
       "grid_template_columns": null,
       "grid_template_rows": null,
       "height": null,
       "justify_content": null,
       "justify_items": null,
       "left": null,
       "margin": null,
       "max_height": null,
       "max_width": null,
       "min_height": null,
       "min_width": null,
       "object_fit": null,
       "object_position": null,
       "order": null,
       "overflow": null,
       "overflow_x": null,
       "overflow_y": null,
       "padding": null,
       "right": null,
       "top": null,
       "visibility": null,
       "width": null
      }
     }
    },
    "version_major": 2,
    "version_minor": 0
   }
  }
 },
 "nbformat": 4,
 "nbformat_minor": 5
}
