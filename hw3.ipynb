{
 "cells": [
  {
   "cell_type": "markdown",
   "id": "1ede0038",
   "metadata": {
    "id": "jRDuJsGCgxCO",
    "papermill": {
     "duration": 0.020425,
     "end_time": "2024-04-23T08:42:52.204096",
     "exception": false,
     "start_time": "2024-04-23T08:42:52.183671",
     "status": "completed"
    },
    "tags": []
   },
   "source": [
    "# HW3 Image Classification\n",
    "## We strongly recommend that you run with Kaggle for this homework\n",
    "https://www.kaggle.com/c/ml2022spring-hw3b/code?competitionId=34954&sortBy=dateCreated"
   ]
  },
  {
   "cell_type": "markdown",
   "id": "9c922e1f",
   "metadata": {
    "id": "EVgrPb3HhJUT",
    "papermill": {
     "duration": 0.019409,
     "end_time": "2024-04-23T08:42:52.243297",
     "exception": false,
     "start_time": "2024-04-23T08:42:52.223888",
     "status": "completed"
    },
    "tags": []
   },
   "source": [
    "# Get Data\n",
    "Notes: if the links are dead, you can download the data directly from Kaggle and upload it to the workspace, or you can use the Kaggle API to directly download the data into colab.\n"
   ]
  },
  {
   "cell_type": "code",
   "execution_count": 1,
   "id": "63aecd57",
   "metadata": {
    "execution": {
     "iopub.execute_input": "2024-04-23T08:42:52.285275Z",
     "iopub.status.busy": "2024-04-23T08:42:52.284495Z",
     "iopub.status.idle": "2024-04-23T08:42:52.288864Z",
     "shell.execute_reply": "2024-04-23T08:42:52.288108Z"
    },
    "papermill": {
     "duration": 0.027988,
     "end_time": "2024-04-23T08:42:52.290672",
     "exception": false,
     "start_time": "2024-04-23T08:42:52.262684",
     "status": "completed"
    },
    "tags": []
   },
   "outputs": [],
   "source": [
    "#"
   ]
  },
  {
   "cell_type": "code",
   "execution_count": 2,
   "id": "74f8fd4e",
   "metadata": {
    "_cell_guid": "b1076dfc-b9ad-4769-8c92-a6c4dae69d19",
    "_uuid": "8f2839f25d086af736a60e9eeb907d3b93b6e0e5",
    "execution": {
     "iopub.execute_input": "2024-04-23T08:42:52.331666Z",
     "iopub.status.busy": "2024-04-23T08:42:52.331403Z",
     "iopub.status.idle": "2024-04-23T08:42:52.335118Z",
     "shell.execute_reply": "2024-04-23T08:42:52.334329Z"
    },
    "id": "EAO6dg9eVaU_",
    "outputId": "6ab4a9f9-8dd6-4259-8d1e-1215e6521486",
    "papermill": {
     "duration": 0.025987,
     "end_time": "2024-04-23T08:42:52.337058",
     "exception": false,
     "start_time": "2024-04-23T08:42:52.311071",
     "status": "completed"
    },
    "tags": []
   },
   "outputs": [],
   "source": [
    "# ! wget https://www.dropbox.com/s/6l2vcvxl54b0b6w/food11.zip"
   ]
  },
  {
   "cell_type": "code",
   "execution_count": 3,
   "id": "b5407674",
   "metadata": {
    "execution": {
     "iopub.execute_input": "2024-04-23T08:42:52.377641Z",
     "iopub.status.busy": "2024-04-23T08:42:52.377377Z",
     "iopub.status.idle": "2024-04-23T08:42:52.380965Z",
     "shell.execute_reply": "2024-04-23T08:42:52.380153Z"
    },
    "papermill": {
     "duration": 0.026086,
     "end_time": "2024-04-23T08:42:52.382834",
     "exception": false,
     "start_time": "2024-04-23T08:42:52.356748",
     "status": "completed"
    },
    "tags": []
   },
   "outputs": [],
   "source": [
    "# ! unzip food11.zip"
   ]
  },
  {
   "cell_type": "markdown",
   "id": "ceb76e70",
   "metadata": {
    "id": "n5ceUnRihL-f",
    "papermill": {
     "duration": 0.019911,
     "end_time": "2024-04-23T08:42:52.422482",
     "exception": false,
     "start_time": "2024-04-23T08:42:52.402571",
     "status": "completed"
    },
    "tags": []
   },
   "source": [
    "# Training"
   ]
  },
  {
   "cell_type": "code",
   "execution_count": 4,
   "id": "90122992",
   "metadata": {
    "execution": {
     "iopub.execute_input": "2024-04-23T08:42:52.463035Z",
     "iopub.status.busy": "2024-04-23T08:42:52.462778Z",
     "iopub.status.idle": "2024-04-23T08:42:52.472300Z",
     "shell.execute_reply": "2024-04-23T08:42:52.471476Z"
    },
    "id": "ay3WkYnHVaVE",
    "papermill": {
     "duration": 0.031868,
     "end_time": "2024-04-23T08:42:52.474115",
     "exception": false,
     "start_time": "2024-04-23T08:42:52.442247",
     "status": "completed"
    },
    "tags": []
   },
   "outputs": [],
   "source": [
    "_exp_name = \"sample\""
   ]
  },
  {
   "cell_type": "code",
   "execution_count": 5,
   "id": "97869201",
   "metadata": {
    "execution": {
     "iopub.execute_input": "2024-04-23T08:42:52.514736Z",
     "iopub.status.busy": "2024-04-23T08:42:52.514094Z",
     "iopub.status.idle": "2024-04-23T08:42:59.268274Z",
     "shell.execute_reply": "2024-04-23T08:42:59.267474Z"
    },
    "id": "CwOGtRWHVaVF",
    "papermill": {
     "duration": 6.77708,
     "end_time": "2024-04-23T08:42:59.270629",
     "exception": false,
     "start_time": "2024-04-23T08:42:52.493549",
     "status": "completed"
    },
    "tags": []
   },
   "outputs": [],
   "source": [
    "# Import necessary packages.\n",
    "import numpy as np\n",
    "import pandas as pd\n",
    "import torch\n",
    "import os\n",
    "import torch.nn as nn\n",
    "import torchvision.transforms as transforms\n",
    "from PIL import Image\n",
    "# \"ConcatDataset\" and \"Subset\" are possibly useful when doing semi-supervised learning.\n",
    "from torch.utils.data import ConcatDataset, DataLoader, Subset, Dataset\n",
    "from torchvision.datasets import DatasetFolder, VisionDataset\n",
    "\n",
    "# This is for the progress bar.\n",
    "from tqdm.auto import tqdm\n",
    "import random"
   ]
  },
  {
   "cell_type": "code",
   "execution_count": 6,
   "id": "dac7068d",
   "metadata": {
    "execution": {
     "iopub.execute_input": "2024-04-23T08:42:59.313666Z",
     "iopub.status.busy": "2024-04-23T08:42:59.312941Z",
     "iopub.status.idle": "2024-04-23T08:42:59.366806Z",
     "shell.execute_reply": "2024-04-23T08:42:59.366118Z"
    },
    "id": "8kJm9GekVaVH",
    "papermill": {
     "duration": 0.077855,
     "end_time": "2024-04-23T08:42:59.368813",
     "exception": false,
     "start_time": "2024-04-23T08:42:59.290958",
     "status": "completed"
    },
    "tags": []
   },
   "outputs": [],
   "source": [
    "myseed = 6666  # set a random seed for reproducibility\n",
    "torch.backends.cudnn.deterministic = True\n",
    "torch.backends.cudnn.benchmark = False\n",
    "np.random.seed(myseed)\n",
    "torch.manual_seed(myseed)\n",
    "if torch.cuda.is_available():\n",
    "    torch.cuda.manual_seed_all(myseed)"
   ]
  },
  {
   "cell_type": "markdown",
   "id": "f853e2f1",
   "metadata": {
    "id": "d9MVtgbSVaVH",
    "papermill": {
     "duration": 0.01957,
     "end_time": "2024-04-23T08:42:59.408311",
     "exception": false,
     "start_time": "2024-04-23T08:42:59.388741",
     "status": "completed"
    },
    "tags": []
   },
   "source": [
    "## **Transforms**\n",
    "Torchvision provides lots of useful utilities for image preprocessing, data wrapping as well as data augmentation.\n",
    "\n",
    "Please refer to PyTorch official website for details about different transforms."
   ]
  },
  {
   "cell_type": "code",
   "execution_count": 7,
   "id": "08fe833f",
   "metadata": {
    "execution": {
     "iopub.execute_input": "2024-04-23T08:42:59.449084Z",
     "iopub.status.busy": "2024-04-23T08:42:59.448612Z",
     "iopub.status.idle": "2024-04-23T08:42:59.486255Z",
     "shell.execute_reply": "2024-04-23T08:42:59.485512Z"
    },
    "id": "jvI3Xmq4VaVJ",
    "papermill": {
     "duration": 0.060119,
     "end_time": "2024-04-23T08:42:59.488108",
     "exception": false,
     "start_time": "2024-04-23T08:42:59.427989",
     "status": "completed"
    },
    "tags": []
   },
   "outputs": [],
   "source": [
    "# Normally, We don't need augmentations in testing and validation.\n",
    "# All we need here is to resize the PIL image and transform it into Tensor.\n",
    "test_tfm = transforms.Compose([\n",
    "    transforms.Resize((128, 128)),\n",
    "    transforms.ToTensor(),\n",
    "])\n",
    "\n",
    "# However, it is also possible to use augmentation in the testing phase.\n",
    "# You may use train_tfm to produce a variety of images and then test using ensemble methods\n",
    "train_tfm = transforms.Compose([\n",
    "    # Resize the image into a fixed shape (height = width = 128)\n",
    "    transforms.Resize((128, 128)),\n",
    "    \n",
    "    # You may add some transforms here.\n",
    "    # ToTensor() should be the last one of the transforms.\n",
    "    transforms.ToTensor(),\n",
    "])\n",
    "from torchvision.transforms import v2\n",
    "blurrer = v2.RandomApply(\n",
    "    [v2.GaussianBlur(kernel_size=(3, 3), sigma=(0.1, 0.1))],\n",
    "    p=0.3  # 50%的概率应用高斯模糊\n",
    ")\n",
    "# 变换相关的网站：https://pytorch.org/vision/stable/auto_examples/transforms/plot_transforms_illustrations.html#sphx-glr-auto-examples-transforms-plot-transforms-illustrations-py\n",
    "train_tfm2 = transforms.Compose([\n",
    "    # Resize the image into a fixed shape (height = width = 128)\n",
    "    transforms.Resize((128, 128)),\n",
    "    # You may add some transforms here.\n",
    "    \n",
    "    transforms.RandomChoice(transforms=[\n",
    "        # Apply TrivialAugmentWide data augmentation method\n",
    "        transforms.TrivialAugmentWide(),\n",
    "\n",
    "        # Return original image\n",
    "        transforms.Lambda(lambda x: x),\n",
    "    ],\n",
    "                            p=[0.95, 0.05]),\n",
    "\n",
    "    # ToTensor() should be the last one of the transfo·rms.\n",
    "    transforms.ToTensor(),\n",
    "])\n"
   ]
  },
  {
   "cell_type": "markdown",
   "id": "afe6beef",
   "metadata": {
    "id": "D0ivMf-jVaVK",
    "papermill": {
     "duration": 0.0193,
     "end_time": "2024-04-23T08:42:59.527730",
     "exception": false,
     "start_time": "2024-04-23T08:42:59.508430",
     "status": "completed"
    },
    "tags": []
   },
   "source": [
    "## **Datasets**\n",
    "The data is labelled by the name, so we load images and label while calling '__getitem__'"
   ]
  },
  {
   "cell_type": "code",
   "execution_count": 8,
   "id": "c94f2206",
   "metadata": {
    "execution": {
     "iopub.execute_input": "2024-04-23T08:42:59.568445Z",
     "iopub.status.busy": "2024-04-23T08:42:59.568166Z",
     "iopub.status.idle": "2024-04-23T08:42:59.575938Z",
     "shell.execute_reply": "2024-04-23T08:42:59.575147Z"
    },
    "id": "xBdtPhKwVaVL",
    "papermill": {
     "duration": 0.030434,
     "end_time": "2024-04-23T08:42:59.577829",
     "exception": false,
     "start_time": "2024-04-23T08:42:59.547395",
     "status": "completed"
    },
    "tags": []
   },
   "outputs": [],
   "source": [
    "class FoodDataset(Dataset):\n",
    "\n",
    "    def __init__(self,path,tfm=test_tfm,files = None):\n",
    "        super(FoodDataset).__init__()\n",
    "        self.path = path\n",
    "        self.files = sorted([os.path.join(path,x) for x in os.listdir(path) if x.endswith(\".jpg\")])\n",
    "        if files != None:\n",
    "            self.files = files\n",
    "        print(f\"One {path} sample\",self.files[0])\n",
    "        self.transform = tfm\n",
    "\n",
    "    def __len__(self):\n",
    "        return len(self.files)\n",
    "\n",
    "    def __getitem__(self,idx):\n",
    "        fname = self.files[idx]\n",
    "        im = Image.open(fname)\n",
    "        im = self.transform(im)\n",
    "        #im = self.data[idx]\n",
    "        try:\n",
    "            label = int(fname.split(\"/\")[-1].split(\"_\")[0])\n",
    "        except:\n",
    "            label = -1 # test has no label\n",
    "        return im,label\n",
    "\n"
   ]
  },
  {
   "cell_type": "code",
   "execution_count": 9,
   "id": "0f918cd2",
   "metadata": {
    "execution": {
     "iopub.execute_input": "2024-04-23T08:42:59.619721Z",
     "iopub.status.busy": "2024-04-23T08:42:59.619124Z",
     "iopub.status.idle": "2024-04-23T08:42:59.631432Z",
     "shell.execute_reply": "2024-04-23T08:42:59.630598Z"
    },
    "id": "b_kDECOJVaVL",
    "papermill": {
     "duration": 0.035386,
     "end_time": "2024-04-23T08:42:59.633235",
     "exception": false,
     "start_time": "2024-04-23T08:42:59.597849",
     "status": "completed"
    },
    "tags": []
   },
   "outputs": [],
   "source": [
    "from torch import nn\n",
    "class Classifier(nn.Module):\n",
    "    def __init__(self):\n",
    "        super(Classifier, self).__init__()\n",
    "\n",
    "        self.cnn_layer1 = nn.Sequential(\n",
    "            nn.Conv2d(3, 64, 3, 1, 1),\n",
    "            nn.BatchNorm2d(64),\n",
    "        )\n",
    "\n",
    "        self.cnn_layer2 = nn.Sequential(\n",
    "            nn.Conv2d(64, 64, 3, 1, 1),\n",
    "            nn.BatchNorm2d(64),\n",
    "        )\n",
    "\n",
    "        self.cnn_layer3 = nn.Sequential(\n",
    "            nn.Conv2d(64, 128, 3, 2, 1),\n",
    "            nn.BatchNorm2d(128),\n",
    "        )\n",
    "\n",
    "        self.cnn_layer4 = nn.Sequential(\n",
    "            nn.Conv2d(128, 128, 3, 1, 1),\n",
    "            nn.BatchNorm2d(128),\n",
    "        )\n",
    "        self.cnn_layer5 = nn.Sequential(\n",
    "            nn.Conv2d(128, 256, 3, 2, 1),\n",
    "            nn.BatchNorm2d(256),\n",
    "        )\n",
    "        self.cnn_layer6 = nn.Sequential(\n",
    "            nn.Conv2d(256, 256, 3, 1, 1),\n",
    "            nn.BatchNorm2d(256),\n",
    "        )\n",
    "        self.fc_layer = nn.Sequential(\n",
    "            nn.Linear(256* 32* 32, 256),\n",
    "            nn.ReLU(),\n",
    "            nn.Linear(256, 11)\n",
    "        )\n",
    "        self.relu = nn.ReLU()\n",
    "\n",
    "    def forward(self, x):\n",
    "        # input (x): [batch_size, 3, 128, 128]\n",
    "        # output: [batch_size, 11]\n",
    "\n",
    "        # Extract features by convolutional layers.\n",
    "        x1 = self.cnn_layer1(x)\n",
    "\n",
    "        x1 = self.relu(x1)\n",
    "        \n",
    "        Residual = x1 \n",
    "        x2 = self.cnn_layer2(x1)\n",
    "        x2 = x2 + Residual\n",
    "        x2 = self.relu(x2)\n",
    "\n",
    "        x3 = self.cnn_layer3(x2)\n",
    "        \n",
    "        x3 = self.relu(x3)\n",
    "        Residual = x3 \n",
    "        \n",
    "        x4 = self.cnn_layer4(x3)\n",
    "        x4 = x4 + Residual\n",
    "        x4 = self.relu(x4)\n",
    "\n",
    "        x5 = self.cnn_layer5(x4)\n",
    "        \n",
    "        x5 = self.relu(x5)\n",
    "        Residual = x5\n",
    "        x6 = self.cnn_layer6(x5)\n",
    "        x6 = x6 + Residual\n",
    "        x6 = self.relu(x6)\n",
    "\n",
    "        # The extracted feature map must be flatten before going to fully-connected layers.\n",
    "        xout = x6.flatten(1)\n",
    "\n",
    "        # The features are transformed by fully-connected layers to obtain the final logits.\n",
    "        xout = self.fc_layer(xout)\n",
    "        return xout"
   ]
  },
  {
   "cell_type": "code",
   "execution_count": 10,
   "id": "a432a52d",
   "metadata": {
    "execution": {
     "iopub.execute_input": "2024-04-23T08:42:59.674280Z",
     "iopub.status.busy": "2024-04-23T08:42:59.673794Z",
     "iopub.status.idle": "2024-04-23T08:43:00.575190Z",
     "shell.execute_reply": "2024-04-23T08:43:00.574185Z"
    },
    "id": "2_OeWtstVaVO",
    "outputId": "003fe08b-819a-499a-d411-f6073b97d48b",
    "papermill": {
     "duration": 0.924215,
     "end_time": "2024-04-23T08:43:00.577275",
     "exception": false,
     "start_time": "2024-04-23T08:42:59.653060",
     "status": "completed"
    },
    "tags": []
   },
   "outputs": [
    {
     "name": "stdout",
     "output_type": "stream",
     "text": [
      "One /kaggle/input/ml2022spring-hw3b/food11/training sample /kaggle/input/ml2022spring-hw3b/food11/training/0_0.jpg\n",
      "One /kaggle/input/ml2022spring-hw3b/food11/validation sample /kaggle/input/ml2022spring-hw3b/food11/validation/0_0.jpg\n"
     ]
    }
   ],
   "source": [
    "batch_size = 64\n",
    "_dataset_dir = \"/kaggle/input/ml2022spring-hw3b/food11\"\n",
    "# Construct datasets.\n",
    "# The argument \"loader\" tells how torchvision reads the data.\n",
    "train_set = FoodDataset(os.path.join(_dataset_dir,\"training\"), tfm=train_tfm2)\n",
    "train_loader = DataLoader(train_set, batch_size=batch_size, shuffle=True, num_workers=0, pin_memory=True)\n",
    "\n",
    "valid_set = FoodDataset(os.path.join(_dataset_dir,\"validation\"), tfm=test_tfm)\n",
    "valid_loader = DataLoader(valid_set, batch_size=batch_size, shuffle=True, num_workers=0, pin_memory=True)\n"
   ]
  },
  {
   "cell_type": "markdown",
   "id": "79b24ada",
   "metadata": {
    "papermill": {
     "duration": 0.020355,
     "end_time": "2024-04-23T08:43:00.618236",
     "exception": false,
     "start_time": "2024-04-23T08:43:00.597881",
     "status": "completed"
    },
    "tags": []
   },
   "source": [
    "## mixup"
   ]
  },
  {
   "cell_type": "code",
   "execution_count": 11,
   "id": "f2d1c300",
   "metadata": {
    "execution": {
     "iopub.execute_input": "2024-04-23T08:43:00.660191Z",
     "iopub.status.busy": "2024-04-23T08:43:00.659415Z",
     "iopub.status.idle": "2024-04-23T08:43:03.129255Z",
     "shell.execute_reply": "2024-04-23T08:43:03.128257Z"
    },
    "papermill": {
     "duration": 2.493912,
     "end_time": "2024-04-23T08:43:03.132250",
     "exception": false,
     "start_time": "2024-04-23T08:43:00.638338",
     "status": "completed"
    },
    "tags": []
   },
   "outputs": [],
   "source": [
    "def mixup_data(x, y, alpha=1.0):\n",
    "    '''Returns mixed inputs, targets, and lambda\n",
    "    Parameters\n",
    "    ----------\n",
    "    x: input data\n",
    "    y: target\n",
    "    alpha: value of alpha and beta in beta distribution \n",
    "    '''\n",
    "    if alpha > 0:\n",
    "        lam = np.random.beta(alpha, alpha)\n",
    "    else:\n",
    "        lam = 1\n",
    "    batch_size = x.size()[0]\n",
    "    index = torch.randperm(batch_size) # shuffle index\n",
    "    mixed_x = lam * x + (1 - lam) * x[index, :] # mixup between original image order and shuffled image order\n",
    "    y_a, y_b = y, y[index] # return target of both images order\n",
    "    \n",
    "    return mixed_x, y_a, y_b, lam\n",
    "\n",
    "def mixup_criterion(criterion, pred, y_a, y_b, lam):\n",
    "    \"\"\" Updated loss for mixup.\n",
    "    Args:\n",
    "    -----\n",
    "    criterion: loss function to use, example: crossentropy loss\n",
    "    preds: predictions from network\n",
    "    y_a: original labels\n",
    "    y_b: labels of the shuffled batch\n",
    "    lam: alpha used for mixup\n",
    "    \"\"\"\n",
    "    return lam * criterion(pred, y_a) + (1 - lam) * criterion(pred, y_b)\n",
    "\n",
    "import torchmetrics.functional as tmf\n",
    "def mixup_accuracy(metric, preds, y_a, y_b, lam,num_classes,task='multiclass',):\n",
    "    \"\"\"\n",
    "    Updated metric calculation:\n",
    "    Args:\n",
    "    -----\n",
    "    metric: metric to use, example: accuracy\n",
    "    preds: predictions from network\n",
    "    y_a: original labels\n",
    "    y_b: labels of the shuffled batch\n",
    "    lam: alpha used for mixup\n",
    "    \"\"\"\n",
    "    return lam * metric(preds, y_a,num_classes=num_classes,task=task) + (1 - lam) * metric(preds, y_b,num_classes=num_classes,task=task)"
   ]
  },
  {
   "cell_type": "code",
   "execution_count": 12,
   "id": "17298bc7",
   "metadata": {
    "execution": {
     "iopub.execute_input": "2024-04-23T08:43:03.180645Z",
     "iopub.status.busy": "2024-04-23T08:43:03.179822Z",
     "iopub.status.idle": "2024-04-23T08:43:04.156782Z",
     "shell.execute_reply": "2024-04-23T08:43:04.155639Z"
    },
    "papermill": {
     "duration": 1.001247,
     "end_time": "2024-04-23T08:43:04.158991",
     "exception": false,
     "start_time": "2024-04-23T08:43:03.157744",
     "status": "completed"
    },
    "tags": []
   },
   "outputs": [
    {
     "name": "stdout",
     "output_type": "stream",
     "text": [
      "__notebook__.ipynb\r\n"
     ]
    }
   ],
   "source": [
    "ls"
   ]
  },
  {
   "cell_type": "code",
   "execution_count": 13,
   "id": "739b4211",
   "metadata": {
    "execution": {
     "iopub.execute_input": "2024-04-23T08:43:04.203291Z",
     "iopub.status.busy": "2024-04-23T08:43:04.202966Z",
     "iopub.status.idle": "2024-04-23T08:46:00.489388Z",
     "shell.execute_reply": "2024-04-23T08:46:00.488318Z"
    },
    "id": "zbVkfIFhVaVO",
    "outputId": "3d1efca0-a963-4b95-9051-e60e367d36e2",
    "papermill": {
     "duration": 176.310821,
     "end_time": "2024-04-23T08:46:00.491577",
     "exception": false,
     "start_time": "2024-04-23T08:43:04.180756",
     "status": "completed"
    },
    "tags": []
   },
   "outputs": [
    {
     "data": {
      "application/vnd.jupyter.widget-view+json": {
       "model_id": "8008d23921934cde8d64f9ff2e74526a",
       "version_major": 2,
       "version_minor": 0
      },
      "text/plain": [
       "  0%|          | 0/155 [00:00<?, ?it/s]"
      ]
     },
     "metadata": {},
     "output_type": "display_data"
    },
    {
     "name": "stdout",
     "output_type": "stream",
     "text": [
      "[ Train | 001/001 ] loss = 2.50607, acc = 0.18145\n"
     ]
    },
    {
     "data": {
      "application/vnd.jupyter.widget-view+json": {
       "model_id": "49237c51082048808fa65b52c9752f90",
       "version_major": 2,
       "version_minor": 0
      },
      "text/plain": [
       "  0%|          | 0/54 [00:00<?, ?it/s]"
      ]
     },
     "metadata": {},
     "output_type": "display_data"
    },
    {
     "name": "stdout",
     "output_type": "stream",
     "text": [
      "[ Valid | 001/001 ] loss = 2.34624, acc = 0.24928\n",
      "[ Valid | 001/001 ] loss = 2.34624, acc = 0.24928 -> best\n",
      "Best model found at epoch 0, saving model\n"
     ]
    }
   ],
   "source": [
    "# \"cuda\" only when GPUs are available.\n",
    "device = \"cuda\" if torch.cuda.is_available() else \"cpu\"\n",
    "\n",
    "# The number of training epochs and patience.\n",
    "n_epochs = 1\n",
    "patience = 300 # If no improvement in 'patience' epochs, early stop\n",
    "\n",
    "# 使用vgg16作为训练的模型\n",
    "# import torchvision\n",
    "# vgg16 = torchvision.models.vgg16(pretrained=False)\n",
    "# vgg16.classifier[-1] = nn.Linear(4096,11)\n",
    "\n",
    "# Initialize a model, and put it on the device specified.\n",
    "model = Classifier().to(device)\n",
    "model.load_state_dict(torch.load(\"/kaggle/input/temp-dataset/Classifier1.pth\"))\n",
    "\n",
    "# checkpoint = torch.load(\"/kaggle/input/temp-dataset/sample_best.ckpt\")\n",
    "# model.load_state_dict(checkpoint['model_state_dict'])\n",
    "\n",
    "# For the classification task, we use cross-entropy as the measurement of performance.\n",
    "criterion = nn.CrossEntropyLoss()\n",
    "\n",
    "# Initialize optimizer, you may fine-tune some hyperparameters such as learning rate on your own.\n",
    "optimizer = torch.optim.Adam(model.parameters(), lr=0.0003, weight_decay=1e-5)\n",
    "\n",
    "# Initialize trackers, these are not parameters and should not be changed\n",
    "stale = 0\n",
    "best_acc = 0\n",
    "\n",
    "for epoch in range(n_epochs):\n",
    "\n",
    "    # ---------- Training ----------\n",
    "    # Make sure the model is in train mode before training.\n",
    "    model.train()\n",
    "\n",
    "    # These are used to record information in training.\n",
    "    train_loss = []\n",
    "    train_accs = []\n",
    "    correct = 0\n",
    "    total = 0\n",
    "    for imgs,labels in tqdm(train_loader):\n",
    "\n",
    "        # A batch consists of image data and corresponding labels.\n",
    "        imgs, labels = imgs.to(device),labels.to(device)\n",
    "        imgs,labels_a,labels_b,lam=mixup_data(imgs, labels)\n",
    "        \n",
    "        # Forward the data. (Make sure data and model are on the same device.)\n",
    "        logits = model(imgs)\n",
    "\n",
    "        # Calculate the cross-entropy loss.\n",
    "        # We don't need to apply softmax before computing cross-entropy as it is done automatically.\n",
    "        loss = mixup_criterion(criterion, logits, labels_a, labels_b, lam)\n",
    "\n",
    "        # Gradients stored in the parameters in the previous step should be cleared out first.\n",
    "        optimizer.zero_grad()\n",
    "\n",
    "        # Compute the gradients for parameters.\n",
    "        loss.backward()\n",
    "        \n",
    "        # Clip the gradient norms for stable training.\n",
    "        grad_norm = nn.utils.clip_grad_norm_(model.parameters(), max_norm=10)\n",
    "\n",
    "        # Update the parameters with computed gradients.\n",
    "        optimizer.step()\n",
    "\n",
    "        # Compute the accuracy for current batch.\n",
    "        _,predicted = logits.max(1)\n",
    "        correct += (lam * predicted.eq(labels_a).sum().item()+ (1 - lam) * predicted.eq(labels_b).sum().item())\n",
    "        total+=labels.size(0)\n",
    "\n",
    "        # Record the loss and accuracy.\n",
    "        train_loss.append(loss.item())\n",
    "\n",
    "    train_loss = sum(train_loss) / len(train_loss)\n",
    "    train_acc = correct / total\n",
    "\n",
    "    # Print the information.\n",
    "    print(f\"[ Train | {epoch + 1:03d}/{n_epochs:03d} ] loss = {train_loss:.5f}, acc = {train_acc:.5f}\")\n",
    "\n",
    "    # ---------- Validation ----------\n",
    "    # Make sure the model is in eval mode so that some modules like dropout are disabled and work normally.\n",
    "    model.eval()\n",
    "\n",
    "    # These are used to record information in validation.\n",
    "    valid_loss = []\n",
    "    valid_accs = []\n",
    "\n",
    "    # Iterate the validation set by batches.\n",
    "    for batch in tqdm(valid_loader):\n",
    "\n",
    "        # A batch consists of image data and corresponding labels.\n",
    "        imgs, labels = batch\n",
    "        #imgs = imgs.half()\n",
    "\n",
    "        # We don't need gradient in validation.\n",
    "        # Using torch.no_grad() accelerates the forward process.\n",
    "        with torch.no_grad():\n",
    "            logits = model(imgs.to(device))\n",
    "\n",
    "        # We can still compute the loss (but not the gradient).\n",
    "        loss = criterion(logits, labels.to(device))\n",
    "\n",
    "        # Compute the accuracy for current batch.\n",
    "        acc = (logits.argmax(dim=-1) == labels.to(device)).float().mean()\n",
    "\n",
    "        # Record the loss and accuracy.\n",
    "        valid_loss.append(loss.item())\n",
    "        valid_accs.append(acc)\n",
    "        #break\n",
    "\n",
    "    # The average loss and accuracy for entire validation set is the average of the recorded values.\n",
    "    valid_loss = sum(valid_loss) / len(valid_loss)\n",
    "    valid_acc = sum(valid_accs) / len(valid_accs)\n",
    "\n",
    "    # Print the information.\n",
    "    print(f\"[ Valid | {epoch + 1:03d}/{n_epochs:03d} ] loss = {valid_loss:.5f}, acc = {valid_acc:.5f}\")\n",
    "\n",
    "\n",
    "    # update logs\n",
    "    if valid_acc > best_acc:\n",
    "        with open(f\"./{_exp_name}_log.txt\",\"a\"):\n",
    "            print(f\"[ Valid | {epoch + 1:03d}/{n_epochs:03d} ] loss = {valid_loss:.5f}, acc = {valid_acc:.5f} -> best\")\n",
    "    else:\n",
    "        with open(f\"./{_exp_name}_log.txt\",\"a\"):\n",
    "            print(f\"[ Valid | {epoch + 1:03d}/{n_epochs:03d} ] loss = {valid_loss:.5f}, acc = {valid_acc:.5f}\")\n",
    "\n",
    "\n",
    "    # save models\n",
    "    if valid_acc > best_acc:\n",
    "        print(f\"Best model found at epoch {epoch}, saving model\")\n",
    "        torch.save(model.state_dict(), f\"{_exp_name}_best.ckpt\") # only save best to prevent output memory exceed error\n",
    "        best_acc = valid_acc\n",
    "        stale = 0\n",
    "    else:\n",
    "        stale += 1\n",
    "        if stale > patience:\n",
    "            print(f\"No improvment {patience} consecutive epochs, early stopping\")\n",
    "            break"
   ]
  },
  {
   "cell_type": "code",
   "execution_count": 14,
   "id": "999599fe",
   "metadata": {
    "execution": {
     "iopub.execute_input": "2024-04-23T08:46:00.575872Z",
     "iopub.status.busy": "2024-04-23T08:46:00.575530Z",
     "iopub.status.idle": "2024-04-23T08:46:01.098718Z",
     "shell.execute_reply": "2024-04-23T08:46:01.097901Z"
    },
    "papermill": {
     "duration": 0.547913,
     "end_time": "2024-04-23T08:46:01.100926",
     "exception": false,
     "start_time": "2024-04-23T08:46:00.553013",
     "status": "completed"
    },
    "tags": []
   },
   "outputs": [],
   "source": [
    "torch.save(model.state_dict(), \"Classifier1.pth\")"
   ]
  },
  {
   "cell_type": "code",
   "execution_count": 15,
   "id": "dffd2378",
   "metadata": {
    "execution": {
     "iopub.execute_input": "2024-04-23T08:46:01.145078Z",
     "iopub.status.busy": "2024-04-23T08:46:01.144800Z",
     "iopub.status.idle": "2024-04-23T08:46:01.599103Z",
     "shell.execute_reply": "2024-04-23T08:46:01.597807Z"
    },
    "id": "B9QNdHIXVaVP",
    "outputId": "02fc4afa-dd85-4adb-bc28-37cafabe07cd",
    "papermill": {
     "duration": 0.478743,
     "end_time": "2024-04-23T08:46:01.601276",
     "exception": false,
     "start_time": "2024-04-23T08:46:01.122533",
     "status": "completed"
    },
    "tags": []
   },
   "outputs": [
    {
     "name": "stdout",
     "output_type": "stream",
     "text": [
      "One /kaggle/input/ml2022spring-hw3b/food11/test sample /kaggle/input/ml2022spring-hw3b/food11/test/0001.jpg\n"
     ]
    }
   ],
   "source": [
    "test_set = FoodDataset(os.path.join(_dataset_dir,\"test\"), tfm=test_tfm)\n",
    "test_loader = DataLoader(test_set, batch_size=batch_size, shuffle=False, num_workers=0, pin_memory=True)"
   ]
  },
  {
   "cell_type": "markdown",
   "id": "b3771840",
   "metadata": {
    "id": "G31uyjpvVaVP",
    "papermill": {
     "duration": 0.02111,
     "end_time": "2024-04-23T08:46:01.644450",
     "exception": false,
     "start_time": "2024-04-23T08:46:01.623340",
     "status": "completed"
    },
    "tags": []
   },
   "source": [
    "# Testing and generate prediction CSV"
   ]
  },
  {
   "cell_type": "code",
   "execution_count": 16,
   "id": "a67358b2",
   "metadata": {
    "execution": {
     "iopub.execute_input": "2024-04-23T08:46:01.688842Z",
     "iopub.status.busy": "2024-04-23T08:46:01.688087Z",
     "iopub.status.idle": "2024-04-23T08:46:01.694115Z",
     "shell.execute_reply": "2024-04-23T08:46:01.693269Z"
    },
    "papermill": {
     "duration": 0.030496,
     "end_time": "2024-04-23T08:46:01.696043",
     "exception": false,
     "start_time": "2024-04-23T08:46:01.665547",
     "status": "completed"
    },
    "tags": []
   },
   "outputs": [
    {
     "name": "stdout",
     "output_type": "stream",
     "text": [
      "/kaggle/working\n"
     ]
    }
   ],
   "source": [
    "cd /kaggle/working/"
   ]
  },
  {
   "cell_type": "code",
   "execution_count": 17,
   "id": "91b6ec34",
   "metadata": {
    "execution": {
     "iopub.execute_input": "2024-04-23T08:46:01.740027Z",
     "iopub.status.busy": "2024-04-23T08:46:01.739766Z",
     "iopub.status.idle": "2024-04-23T08:46:39.245848Z",
     "shell.execute_reply": "2024-04-23T08:46:39.245032Z"
    },
    "id": "bpLtxx5FVaVP",
    "papermill": {
     "duration": 37.531123,
     "end_time": "2024-04-23T08:46:39.248480",
     "exception": false,
     "start_time": "2024-04-23T08:46:01.717357",
     "status": "completed"
    },
    "tags": []
   },
   "outputs": [],
   "source": [
    "model_best = Classifier().to(device)\n",
    "model_best.load_state_dict(torch.load(f\"{_exp_name}_best.ckpt\"))\n",
    "model_best.eval()\n",
    "prediction = []\n",
    "with torch.no_grad():\n",
    "    for data,_ in test_loader:\n",
    "        test_pred = model_best(data.to(device))\n",
    "        test_label = np.argmax(test_pred.cpu().data.numpy(), axis=1)\n",
    "        prediction += test_label.squeeze().tolist()"
   ]
  },
  {
   "cell_type": "code",
   "execution_count": 18,
   "id": "d8565c6a",
   "metadata": {
    "execution": {
     "iopub.execute_input": "2024-04-23T08:46:39.293884Z",
     "iopub.status.busy": "2024-04-23T08:46:39.293614Z",
     "iopub.status.idle": "2024-04-23T08:46:39.321920Z",
     "shell.execute_reply": "2024-04-23T08:46:39.321243Z"
    },
    "id": "fKupB3VUVaVQ",
    "papermill": {
     "duration": 0.052913,
     "end_time": "2024-04-23T08:46:39.323712",
     "exception": false,
     "start_time": "2024-04-23T08:46:39.270799",
     "status": "completed"
    },
    "tags": []
   },
   "outputs": [],
   "source": [
    "#create test csv\n",
    "def pad4(i):\n",
    "    return \"0\"*(4-len(str(i)))+str(i)\n",
    "df = pd.DataFrame()\n",
    "df[\"Id\"] = [pad4(i) for i in range(1,len(test_set)+1)]\n",
    "df[\"Category\"] = prediction\n",
    "df.to_csv(\"submission.csv\",index = False)"
   ]
  },
  {
   "cell_type": "markdown",
   "id": "47f6d9ae",
   "metadata": {
    "id": "Ivk0hrE-V8Cu",
    "papermill": {
     "duration": 0.020926,
     "end_time": "2024-04-23T08:46:39.366030",
     "exception": false,
     "start_time": "2024-04-23T08:46:39.345104",
     "status": "completed"
    },
    "tags": []
   },
   "source": [
    "# Q1. Augmentation Implementation\n",
    "## Implement augmentation by finishing train_tfm in the code with image size of your choice.\n",
    "## Directly copy the following block and paste it on GradeScope after you finish the code\n",
    "### Your train_tfm must be capable of producing 5+ different results when given an identical image multiple times.\n",
    "### Your  train_tfm in the report can be different from train_tfm in your training code.\n"
   ]
  },
  {
   "cell_type": "code",
   "execution_count": 19,
   "id": "8d50d81b",
   "metadata": {
    "execution": {
     "iopub.execute_input": "2024-04-23T08:46:39.409359Z",
     "iopub.status.busy": "2024-04-23T08:46:39.409041Z",
     "iopub.status.idle": "2024-04-23T08:46:39.413427Z",
     "shell.execute_reply": "2024-04-23T08:46:39.412556Z"
    },
    "id": "GSfKNo42WjKm",
    "papermill": {
     "duration": 0.028155,
     "end_time": "2024-04-23T08:46:39.415304",
     "exception": false,
     "start_time": "2024-04-23T08:46:39.387149",
     "status": "completed"
    },
    "tags": []
   },
   "outputs": [],
   "source": [
    "train_tfm = transforms.Compose([\n",
    "    # Resize the image into a fixed shape (height = width = 128)\n",
    "    transforms.Resize((128, 128)),\n",
    "    # You need to add some transforms here.\n",
    "    transforms.ToTensor(),\n",
    "])"
   ]
  },
  {
   "cell_type": "markdown",
   "id": "aa271224",
   "metadata": {
    "id": "3HemRgZ6WwRM",
    "papermill": {
     "duration": 0.021452,
     "end_time": "2024-04-23T08:46:39.458084",
     "exception": false,
     "start_time": "2024-04-23T08:46:39.436632",
     "status": "completed"
    },
    "tags": []
   },
   "source": [
    "# Q2. Residual Implementation\n",
    "![](https://i.imgur.com/GYsq1Ap.png)\n",
    "## Directly copy the following block and paste it on GradeScope after you finish the code\n"
   ]
  },
  {
   "cell_type": "code",
   "execution_count": 20,
   "id": "70ffaefe",
   "metadata": {
    "execution": {
     "iopub.execute_input": "2024-04-23T08:46:39.502294Z",
     "iopub.status.busy": "2024-04-23T08:46:39.502003Z",
     "iopub.status.idle": "2024-04-23T08:46:39.513962Z",
     "shell.execute_reply": "2024-04-23T08:46:39.513129Z"
    },
    "id": "Q4OK9kRaWuiV",
    "papermill": {
     "duration": 0.036423,
     "end_time": "2024-04-23T08:46:39.515782",
     "exception": false,
     "start_time": "2024-04-23T08:46:39.479359",
     "status": "completed"
    },
    "tags": []
   },
   "outputs": [],
   "source": [
    "from torch import nn\n",
    "class Residual_Network(nn.Module):\n",
    "    def __init__(self):\n",
    "        super(Residual_Network, self).__init__()\n",
    "\n",
    "        self.cnn_layer1 = nn.Sequential(\n",
    "            nn.Conv2d(3, 64, 3, 1, 1),\n",
    "            nn.BatchNorm2d(64),\n",
    "        )\n",
    "\n",
    "        self.cnn_layer2 = nn.Sequential(\n",
    "            nn.Conv2d(64, 64, 3, 1, 1),\n",
    "            nn.BatchNorm2d(64),\n",
    "        )\n",
    "\n",
    "        self.cnn_layer3 = nn.Sequential(\n",
    "            nn.Conv2d(64, 128, 3, 2, 1),\n",
    "            nn.BatchNorm2d(128),\n",
    "        )\n",
    "\n",
    "        self.cnn_layer4 = nn.Sequential(\n",
    "            nn.Conv2d(128, 128, 3, 1, 1),\n",
    "            nn.BatchNorm2d(128),\n",
    "        )\n",
    "        self.cnn_layer5 = nn.Sequential(\n",
    "            nn.Conv2d(128, 256, 3, 2, 1),\n",
    "            nn.BatchNorm2d(256),\n",
    "        )\n",
    "        self.cnn_layer6 = nn.Sequential(\n",
    "            nn.Conv2d(256, 256, 3, 1, 1),\n",
    "            nn.BatchNorm2d(256),\n",
    "        )\n",
    "        self.fc_layer = nn.Sequential(\n",
    "            nn.Linear(256* 32* 32, 256),\n",
    "            nn.ReLU(),\n",
    "            nn.Linear(256, 11)\n",
    "        )\n",
    "        self.relu = nn.ReLU()\n",
    "\n",
    "    def forward(self, x):\n",
    "        # input (x): [batch_size, 3, 128, 128]\n",
    "        # output: [batch_size, 11]\n",
    "\n",
    "        # Extract features by convolutional layers.\n",
    "        x1 = self.cnn_layer1(x)\n",
    "\n",
    "        x1 = self.relu(x1)\n",
    "        \n",
    "        Residual = x1 \n",
    "        x2 = self.cnn_layer2(x1)\n",
    "        x2 = x2 + Residual\n",
    "        x2 = self.relu(x2)\n",
    "\n",
    "        x3 = self.cnn_layer3(x2)\n",
    "        \n",
    "        x3 = self.relu(x3)\n",
    "        Residual = x3 \n",
    "        \n",
    "        x4 = self.cnn_layer4(x3)\n",
    "        x4 = x4 + Residual\n",
    "        x4 = self.relu(x4)\n",
    "\n",
    "        x5 = self.cnn_layer5(x4)\n",
    "        \n",
    "        x5 = self.relu(x5)\n",
    "        Residual = x5\n",
    "        x6 = self.cnn_layer6(x5)\n",
    "        x6 = x6 + Residual\n",
    "        x6 = self.relu(x6)\n",
    "\n",
    "        # The extracted feature map must be flatten before going to fully-connected layers.\n",
    "        xout = x6.flatten(1)\n",
    "\n",
    "        # The features are transformed by fully-connected layers to obtain the final logits.\n",
    "        xout = self.fc_layer(xout)\n",
    "        return xout"
   ]
  }
 ],
 "metadata": {
  "accelerator": "GPU",
  "colab": {
   "provenance": [
    {
     "file_id": "1ZiHvyOxioMH9agky0FJGpwVn2yrf1cAo",
     "timestamp": 1712591024059
    }
   ]
  },
  "kaggle": {
   "accelerator": "gpu",
   "dataSources": [
    {
     "databundleVersionId": 3300998,
     "sourceId": 34954,
     "sourceType": "competition"
    },
    {
     "datasetId": 4859622,
     "sourceId": 8202719,
     "sourceType": "datasetVersion"
    }
   ],
   "dockerImageVersionId": 30684,
   "isGpuEnabled": true,
   "isInternetEnabled": true,
   "language": "python",
   "sourceType": "notebook"
  },
  "kernelspec": {
   "display_name": "Python 3",
   "language": "python",
   "name": "python3"
  },
  "language_info": {
   "codemirror_mode": {
    "name": "ipython",
    "version": 3
   },
   "file_extension": ".py",
   "mimetype": "text/x-python",
   "name": "python",
   "nbconvert_exporter": "python",
   "pygments_lexer": "ipython3",
   "version": "3.10.13"
  },
  "papermill": {
   "default_parameters": {},
   "duration": 231.908389,
   "end_time": "2024-04-23T08:46:41.259826",
   "environment_variables": {},
   "exception": null,
   "input_path": "__notebook__.ipynb",
   "output_path": "__notebook__.ipynb",
   "parameters": {},
   "start_time": "2024-04-23T08:42:49.351437",
   "version": "2.5.0"
  },
  "widgets": {
   "application/vnd.jupyter.widget-state+json": {
    "state": {
     "12ed0852e1c94ebdbf3dfce06fc0c3f5": {
      "model_module": "@jupyter-widgets/base",
      "model_module_version": "1.2.0",
      "model_name": "LayoutModel",
      "state": {
       "_model_module": "@jupyter-widgets/base",
       "_model_module_version": "1.2.0",
       "_model_name": "LayoutModel",
       "_view_count": null,
       "_view_module": "@jupyter-widgets/base",
       "_view_module_version": "1.2.0",
       "_view_name": "LayoutView",
       "align_content": null,
       "align_items": null,
       "align_self": null,
       "border": null,
       "bottom": null,
       "display": null,
       "flex": null,
       "flex_flow": null,
       "grid_area": null,
       "grid_auto_columns": null,
       "grid_auto_flow": null,
       "grid_auto_rows": null,
       "grid_column": null,
       "grid_gap": null,
       "grid_row": null,
       "grid_template_areas": null,
       "grid_template_columns": null,
       "grid_template_rows": null,
       "height": null,
       "justify_content": null,
       "justify_items": null,
       "left": null,
       "margin": null,
       "max_height": null,
       "max_width": null,
       "min_height": null,
       "min_width": null,
       "object_fit": null,
       "object_position": null,
       "order": null,
       "overflow": null,
       "overflow_x": null,
       "overflow_y": null,
       "padding": null,
       "right": null,
       "top": null,
       "visibility": null,
       "width": null
      }
     },
     "25579347e28d4219a63e092037c3e083": {
      "model_module": "@jupyter-widgets/controls",
      "model_module_version": "1.5.0",
      "model_name": "HTMLModel",
      "state": {
       "_dom_classes": [],
       "_model_module": "@jupyter-widgets/controls",
       "_model_module_version": "1.5.0",
       "_model_name": "HTMLModel",
       "_view_count": null,
       "_view_module": "@jupyter-widgets/controls",
       "_view_module_version": "1.5.0",
       "_view_name": "HTMLView",
       "description": "",
       "description_tooltip": null,
       "layout": "IPY_MODEL_882d66e94c5949bbbfb2918143510304",
       "placeholder": "​",
       "style": "IPY_MODEL_9eca13d7c63649d1ae0713e12353a8ac",
       "value": "100%"
      }
     },
     "318f0f0945094861a57e3852b5ab3287": {
      "model_module": "@jupyter-widgets/controls",
      "model_module_version": "1.5.0",
      "model_name": "FloatProgressModel",
      "state": {
       "_dom_classes": [],
       "_model_module": "@jupyter-widgets/controls",
       "_model_module_version": "1.5.0",
       "_model_name": "FloatProgressModel",
       "_view_count": null,
       "_view_module": "@jupyter-widgets/controls",
       "_view_module_version": "1.5.0",
       "_view_name": "ProgressView",
       "bar_style": "success",
       "description": "",
       "description_tooltip": null,
       "layout": "IPY_MODEL_12ed0852e1c94ebdbf3dfce06fc0c3f5",
       "max": 155.0,
       "min": 0.0,
       "orientation": "horizontal",
       "style": "IPY_MODEL_a3fb67711c4849aa8f1339dd885f705f",
       "value": 155.0
      }
     },
     "40f6b202ee3140e8b4aadfffa73ed749": {
      "model_module": "@jupyter-widgets/controls",
      "model_module_version": "1.5.0",
      "model_name": "DescriptionStyleModel",
      "state": {
       "_model_module": "@jupyter-widgets/controls",
       "_model_module_version": "1.5.0",
       "_model_name": "DescriptionStyleModel",
       "_view_count": null,
       "_view_module": "@jupyter-widgets/base",
       "_view_module_version": "1.2.0",
       "_view_name": "StyleView",
       "description_width": ""
      }
     },
     "49237c51082048808fa65b52c9752f90": {
      "model_module": "@jupyter-widgets/controls",
      "model_module_version": "1.5.0",
      "model_name": "HBoxModel",
      "state": {
       "_dom_classes": [],
       "_model_module": "@jupyter-widgets/controls",
       "_model_module_version": "1.5.0",
       "_model_name": "HBoxModel",
       "_view_count": null,
       "_view_module": "@jupyter-widgets/controls",
       "_view_module_version": "1.5.0",
       "_view_name": "HBoxView",
       "box_style": "",
       "children": [
        "IPY_MODEL_9babcd6efca2466bad37f6a38cba272c",
        "IPY_MODEL_8e79b163638b4a4ca5b19844d3bfa00f",
        "IPY_MODEL_fb0acf3a9a084f3ebe4f1d38be3a5068"
       ],
       "layout": "IPY_MODEL_8e2a3e4d942943b2ad3c31fa49bfabf6"
      }
     },
     "5e4a6d30b9264e45a48545f43861fd82": {
      "model_module": "@jupyter-widgets/controls",
      "model_module_version": "1.5.0",
      "model_name": "HTMLModel",
      "state": {
       "_dom_classes": [],
       "_model_module": "@jupyter-widgets/controls",
       "_model_module_version": "1.5.0",
       "_model_name": "HTMLModel",
       "_view_count": null,
       "_view_module": "@jupyter-widgets/controls",
       "_view_module_version": "1.5.0",
       "_view_name": "HTMLView",
       "description": "",
       "description_tooltip": null,
       "layout": "IPY_MODEL_93d1d235dc474201a57544470a2f2a74",
       "placeholder": "​",
       "style": "IPY_MODEL_9269fb1aaf494714add65d0fbab63516",
       "value": " 155/155 [02:13&lt;00:00,  1.56it/s]"
      }
     },
     "6b680a1cb1c84d549b95566e1be0cfbc": {
      "model_module": "@jupyter-widgets/base",
      "model_module_version": "1.2.0",
      "model_name": "LayoutModel",
      "state": {
       "_model_module": "@jupyter-widgets/base",
       "_model_module_version": "1.2.0",
       "_model_name": "LayoutModel",
       "_view_count": null,
       "_view_module": "@jupyter-widgets/base",
       "_view_module_version": "1.2.0",
       "_view_name": "LayoutView",
       "align_content": null,
       "align_items": null,
       "align_self": null,
       "border": null,
       "bottom": null,
       "display": null,
       "flex": null,
       "flex_flow": null,
       "grid_area": null,
       "grid_auto_columns": null,
       "grid_auto_flow": null,
       "grid_auto_rows": null,
       "grid_column": null,
       "grid_gap": null,
       "grid_row": null,
       "grid_template_areas": null,
       "grid_template_columns": null,
       "grid_template_rows": null,
       "height": null,
       "justify_content": null,
       "justify_items": null,
       "left": null,
       "margin": null,
       "max_height": null,
       "max_width": null,
       "min_height": null,
       "min_width": null,
       "object_fit": null,
       "object_position": null,
       "order": null,
       "overflow": null,
       "overflow_x": null,
       "overflow_y": null,
       "padding": null,
       "right": null,
       "top": null,
       "visibility": null,
       "width": null
      }
     },
     "8008d23921934cde8d64f9ff2e74526a": {
      "model_module": "@jupyter-widgets/controls",
      "model_module_version": "1.5.0",
      "model_name": "HBoxModel",
      "state": {
       "_dom_classes": [],
       "_model_module": "@jupyter-widgets/controls",
       "_model_module_version": "1.5.0",
       "_model_name": "HBoxModel",
       "_view_count": null,
       "_view_module": "@jupyter-widgets/controls",
       "_view_module_version": "1.5.0",
       "_view_name": "HBoxView",
       "box_style": "",
       "children": [
        "IPY_MODEL_25579347e28d4219a63e092037c3e083",
        "IPY_MODEL_318f0f0945094861a57e3852b5ab3287",
        "IPY_MODEL_5e4a6d30b9264e45a48545f43861fd82"
       ],
       "layout": "IPY_MODEL_f3f1ef18944545bfa06f8393bd67a90d"
      }
     },
     "8190a3d59af24dcf9e414485bcea2db7": {
      "model_module": "@jupyter-widgets/base",
      "model_module_version": "1.2.0",
      "model_name": "LayoutModel",
      "state": {
       "_model_module": "@jupyter-widgets/base",
       "_model_module_version": "1.2.0",
       "_model_name": "LayoutModel",
       "_view_count": null,
       "_view_module": "@jupyter-widgets/base",
       "_view_module_version": "1.2.0",
       "_view_name": "LayoutView",
       "align_content": null,
       "align_items": null,
       "align_self": null,
       "border": null,
       "bottom": null,
       "display": null,
       "flex": null,
       "flex_flow": null,
       "grid_area": null,
       "grid_auto_columns": null,
       "grid_auto_flow": null,
       "grid_auto_rows": null,
       "grid_column": null,
       "grid_gap": null,
       "grid_row": null,
       "grid_template_areas": null,
       "grid_template_columns": null,
       "grid_template_rows": null,
       "height": null,
       "justify_content": null,
       "justify_items": null,
       "left": null,
       "margin": null,
       "max_height": null,
       "max_width": null,
       "min_height": null,
       "min_width": null,
       "object_fit": null,
       "object_position": null,
       "order": null,
       "overflow": null,
       "overflow_x": null,
       "overflow_y": null,
       "padding": null,
       "right": null,
       "top": null,
       "visibility": null,
       "width": null
      }
     },
     "882d66e94c5949bbbfb2918143510304": {
      "model_module": "@jupyter-widgets/base",
      "model_module_version": "1.2.0",
      "model_name": "LayoutModel",
      "state": {
       "_model_module": "@jupyter-widgets/base",
       "_model_module_version": "1.2.0",
       "_model_name": "LayoutModel",
       "_view_count": null,
       "_view_module": "@jupyter-widgets/base",
       "_view_module_version": "1.2.0",
       "_view_name": "LayoutView",
       "align_content": null,
       "align_items": null,
       "align_self": null,
       "border": null,
       "bottom": null,
       "display": null,
       "flex": null,
       "flex_flow": null,
       "grid_area": null,
       "grid_auto_columns": null,
       "grid_auto_flow": null,
       "grid_auto_rows": null,
       "grid_column": null,
       "grid_gap": null,
       "grid_row": null,
       "grid_template_areas": null,
       "grid_template_columns": null,
       "grid_template_rows": null,
       "height": null,
       "justify_content": null,
       "justify_items": null,
       "left": null,
       "margin": null,
       "max_height": null,
       "max_width": null,
       "min_height": null,
       "min_width": null,
       "object_fit": null,
       "object_position": null,
       "order": null,
       "overflow": null,
       "overflow_x": null,
       "overflow_y": null,
       "padding": null,
       "right": null,
       "top": null,
       "visibility": null,
       "width": null
      }
     },
     "8e2a3e4d942943b2ad3c31fa49bfabf6": {
      "model_module": "@jupyter-widgets/base",
      "model_module_version": "1.2.0",
      "model_name": "LayoutModel",
      "state": {
       "_model_module": "@jupyter-widgets/base",
       "_model_module_version": "1.2.0",
       "_model_name": "LayoutModel",
       "_view_count": null,
       "_view_module": "@jupyter-widgets/base",
       "_view_module_version": "1.2.0",
       "_view_name": "LayoutView",
       "align_content": null,
       "align_items": null,
       "align_self": null,
       "border": null,
       "bottom": null,
       "display": null,
       "flex": null,
       "flex_flow": null,
       "grid_area": null,
       "grid_auto_columns": null,
       "grid_auto_flow": null,
       "grid_auto_rows": null,
       "grid_column": null,
       "grid_gap": null,
       "grid_row": null,
       "grid_template_areas": null,
       "grid_template_columns": null,
       "grid_template_rows": null,
       "height": null,
       "justify_content": null,
       "justify_items": null,
       "left": null,
       "margin": null,
       "max_height": null,
       "max_width": null,
       "min_height": null,
       "min_width": null,
       "object_fit": null,
       "object_position": null,
       "order": null,
       "overflow": null,
       "overflow_x": null,
       "overflow_y": null,
       "padding": null,
       "right": null,
       "top": null,
       "visibility": null,
       "width": null
      }
     },
     "8e79b163638b4a4ca5b19844d3bfa00f": {
      "model_module": "@jupyter-widgets/controls",
      "model_module_version": "1.5.0",
      "model_name": "FloatProgressModel",
      "state": {
       "_dom_classes": [],
       "_model_module": "@jupyter-widgets/controls",
       "_model_module_version": "1.5.0",
       "_model_name": "FloatProgressModel",
       "_view_count": null,
       "_view_module": "@jupyter-widgets/controls",
       "_view_module_version": "1.5.0",
       "_view_name": "ProgressView",
       "bar_style": "success",
       "description": "",
       "description_tooltip": null,
       "layout": "IPY_MODEL_6b680a1cb1c84d549b95566e1be0cfbc",
       "max": 54.0,
       "min": 0.0,
       "orientation": "horizontal",
       "style": "IPY_MODEL_d15f41ee89ec44cba17d37c4efb25f74",
       "value": 54.0
      }
     },
     "9269fb1aaf494714add65d0fbab63516": {
      "model_module": "@jupyter-widgets/controls",
      "model_module_version": "1.5.0",
      "model_name": "DescriptionStyleModel",
      "state": {
       "_model_module": "@jupyter-widgets/controls",
       "_model_module_version": "1.5.0",
       "_model_name": "DescriptionStyleModel",
       "_view_count": null,
       "_view_module": "@jupyter-widgets/base",
       "_view_module_version": "1.2.0",
       "_view_name": "StyleView",
       "description_width": ""
      }
     },
     "93d1d235dc474201a57544470a2f2a74": {
      "model_module": "@jupyter-widgets/base",
      "model_module_version": "1.2.0",
      "model_name": "LayoutModel",
      "state": {
       "_model_module": "@jupyter-widgets/base",
       "_model_module_version": "1.2.0",
       "_model_name": "LayoutModel",
       "_view_count": null,
       "_view_module": "@jupyter-widgets/base",
       "_view_module_version": "1.2.0",
       "_view_name": "LayoutView",
       "align_content": null,
       "align_items": null,
       "align_self": null,
       "border": null,
       "bottom": null,
       "display": null,
       "flex": null,
       "flex_flow": null,
       "grid_area": null,
       "grid_auto_columns": null,
       "grid_auto_flow": null,
       "grid_auto_rows": null,
       "grid_column": null,
       "grid_gap": null,
       "grid_row": null,
       "grid_template_areas": null,
       "grid_template_columns": null,
       "grid_template_rows": null,
       "height": null,
       "justify_content": null,
       "justify_items": null,
       "left": null,
       "margin": null,
       "max_height": null,
       "max_width": null,
       "min_height": null,
       "min_width": null,
       "object_fit": null,
       "object_position": null,
       "order": null,
       "overflow": null,
       "overflow_x": null,
       "overflow_y": null,
       "padding": null,
       "right": null,
       "top": null,
       "visibility": null,
       "width": null
      }
     },
     "987150f89274469e86c62f052cc8f3ad": {
      "model_module": "@jupyter-widgets/controls",
      "model_module_version": "1.5.0",
      "model_name": "DescriptionStyleModel",
      "state": {
       "_model_module": "@jupyter-widgets/controls",
       "_model_module_version": "1.5.0",
       "_model_name": "DescriptionStyleModel",
       "_view_count": null,
       "_view_module": "@jupyter-widgets/base",
       "_view_module_version": "1.2.0",
       "_view_name": "StyleView",
       "description_width": ""
      }
     },
     "9babcd6efca2466bad37f6a38cba272c": {
      "model_module": "@jupyter-widgets/controls",
      "model_module_version": "1.5.0",
      "model_name": "HTMLModel",
      "state": {
       "_dom_classes": [],
       "_model_module": "@jupyter-widgets/controls",
       "_model_module_version": "1.5.0",
       "_model_name": "HTMLModel",
       "_view_count": null,
       "_view_module": "@jupyter-widgets/controls",
       "_view_module_version": "1.5.0",
       "_view_name": "HTMLView",
       "description": "",
       "description_tooltip": null,
       "layout": "IPY_MODEL_ce8730d43a9244dc8f3bdb6161cb5c42",
       "placeholder": "​",
       "style": "IPY_MODEL_40f6b202ee3140e8b4aadfffa73ed749",
       "value": "100%"
      }
     },
     "9eca13d7c63649d1ae0713e12353a8ac": {
      "model_module": "@jupyter-widgets/controls",
      "model_module_version": "1.5.0",
      "model_name": "DescriptionStyleModel",
      "state": {
       "_model_module": "@jupyter-widgets/controls",
       "_model_module_version": "1.5.0",
       "_model_name": "DescriptionStyleModel",
       "_view_count": null,
       "_view_module": "@jupyter-widgets/base",
       "_view_module_version": "1.2.0",
       "_view_name": "StyleView",
       "description_width": ""
      }
     },
     "a3fb67711c4849aa8f1339dd885f705f": {
      "model_module": "@jupyter-widgets/controls",
      "model_module_version": "1.5.0",
      "model_name": "ProgressStyleModel",
      "state": {
       "_model_module": "@jupyter-widgets/controls",
       "_model_module_version": "1.5.0",
       "_model_name": "ProgressStyleModel",
       "_view_count": null,
       "_view_module": "@jupyter-widgets/base",
       "_view_module_version": "1.2.0",
       "_view_name": "StyleView",
       "bar_color": null,
       "description_width": ""
      }
     },
     "ce8730d43a9244dc8f3bdb6161cb5c42": {
      "model_module": "@jupyter-widgets/base",
      "model_module_version": "1.2.0",
      "model_name": "LayoutModel",
      "state": {
       "_model_module": "@jupyter-widgets/base",
       "_model_module_version": "1.2.0",
       "_model_name": "LayoutModel",
       "_view_count": null,
       "_view_module": "@jupyter-widgets/base",
       "_view_module_version": "1.2.0",
       "_view_name": "LayoutView",
       "align_content": null,
       "align_items": null,
       "align_self": null,
       "border": null,
       "bottom": null,
       "display": null,
       "flex": null,
       "flex_flow": null,
       "grid_area": null,
       "grid_auto_columns": null,
       "grid_auto_flow": null,
       "grid_auto_rows": null,
       "grid_column": null,
       "grid_gap": null,
       "grid_row": null,
       "grid_template_areas": null,
       "grid_template_columns": null,
       "grid_template_rows": null,
       "height": null,
       "justify_content": null,
       "justify_items": null,
       "left": null,
       "margin": null,
       "max_height": null,
       "max_width": null,
       "min_height": null,
       "min_width": null,
       "object_fit": null,
       "object_position": null,
       "order": null,
       "overflow": null,
       "overflow_x": null,
       "overflow_y": null,
       "padding": null,
       "right": null,
       "top": null,
       "visibility": null,
       "width": null
      }
     },
     "d15f41ee89ec44cba17d37c4efb25f74": {
      "model_module": "@jupyter-widgets/controls",
      "model_module_version": "1.5.0",
      "model_name": "ProgressStyleModel",
      "state": {
       "_model_module": "@jupyter-widgets/controls",
       "_model_module_version": "1.5.0",
       "_model_name": "ProgressStyleModel",
       "_view_count": null,
       "_view_module": "@jupyter-widgets/base",
       "_view_module_version": "1.2.0",
       "_view_name": "StyleView",
       "bar_color": null,
       "description_width": ""
      }
     },
     "f3f1ef18944545bfa06f8393bd67a90d": {
      "model_module": "@jupyter-widgets/base",
      "model_module_version": "1.2.0",
      "model_name": "LayoutModel",
      "state": {
       "_model_module": "@jupyter-widgets/base",
       "_model_module_version": "1.2.0",
       "_model_name": "LayoutModel",
       "_view_count": null,
       "_view_module": "@jupyter-widgets/base",
       "_view_module_version": "1.2.0",
       "_view_name": "LayoutView",
       "align_content": null,
       "align_items": null,
       "align_self": null,
       "border": null,
       "bottom": null,
       "display": null,
       "flex": null,
       "flex_flow": null,
       "grid_area": null,
       "grid_auto_columns": null,
       "grid_auto_flow": null,
       "grid_auto_rows": null,
       "grid_column": null,
       "grid_gap": null,
       "grid_row": null,
       "grid_template_areas": null,
       "grid_template_columns": null,
       "grid_template_rows": null,
       "height": null,
       "justify_content": null,
       "justify_items": null,
       "left": null,
       "margin": null,
       "max_height": null,
       "max_width": null,
       "min_height": null,
       "min_width": null,
       "object_fit": null,
       "object_position": null,
       "order": null,
       "overflow": null,
       "overflow_x": null,
       "overflow_y": null,
       "padding": null,
       "right": null,
       "top": null,
       "visibility": null,
       "width": null
      }
     },
     "fb0acf3a9a084f3ebe4f1d38be3a5068": {
      "model_module": "@jupyter-widgets/controls",
      "model_module_version": "1.5.0",
      "model_name": "HTMLModel",
      "state": {
       "_dom_classes": [],
       "_model_module": "@jupyter-widgets/controls",
       "_model_module_version": "1.5.0",
       "_model_name": "HTMLModel",
       "_view_count": null,
       "_view_module": "@jupyter-widgets/controls",
       "_view_module_version": "1.5.0",
       "_view_name": "HTMLView",
       "description": "",
       "description_tooltip": null,
       "layout": "IPY_MODEL_8190a3d59af24dcf9e414485bcea2db7",
       "placeholder": "​",
       "style": "IPY_MODEL_987150f89274469e86c62f052cc8f3ad",
       "value": " 54/54 [00:38&lt;00:00,  1.65it/s]"
      }
     }
    },
    "version_major": 2,
    "version_minor": 0
   }
  }
 },
 "nbformat": 4,
 "nbformat_minor": 5
}
